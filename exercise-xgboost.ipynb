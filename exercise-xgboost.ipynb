{
 "cells": [
  {
   "cell_type": "markdown",
   "id": "33b890d3",
   "metadata": {
    "papermill": {
     "duration": 0.008749,
     "end_time": "2022-07-01T18:05:51.168562",
     "exception": false,
     "start_time": "2022-07-01T18:05:51.159813",
     "status": "completed"
    },
    "tags": []
   },
   "source": [
    "**This notebook is an exercise in the [Intermediate Machine Learning](https://www.kaggle.com/learn/intermediate-machine-learning) course.  You can reference the tutorial at [this link](https://www.kaggle.com/alexisbcook/xgboost).**\n",
    "\n",
    "---\n"
   ]
  },
  {
   "cell_type": "markdown",
   "id": "d8d53a8a",
   "metadata": {
    "papermill": {
     "duration": 0.005308,
     "end_time": "2022-07-01T18:05:51.179454",
     "exception": false,
     "start_time": "2022-07-01T18:05:51.174146",
     "status": "completed"
    },
    "tags": []
   },
   "source": [
    "In this exercise, you will use your new knowledge to train a model with **gradient boosting**.\n",
    "\n",
    "# Setup\n",
    "\n",
    "The questions below will give you feedback on your work. Run the following cell to set up the feedback system."
   ]
  },
  {
   "cell_type": "code",
   "execution_count": 1,
   "id": "b784bc51",
   "metadata": {
    "execution": {
     "iopub.execute_input": "2022-07-01T18:05:51.193033Z",
     "iopub.status.busy": "2022-07-01T18:05:51.192429Z",
     "iopub.status.idle": "2022-07-01T18:05:53.635034Z",
     "shell.execute_reply": "2022-07-01T18:05:53.632760Z"
    },
    "papermill": {
     "duration": 2.453838,
     "end_time": "2022-07-01T18:05:53.638410",
     "exception": false,
     "start_time": "2022-07-01T18:05:51.184572",
     "status": "completed"
    },
    "tags": []
   },
   "outputs": [
    {
     "name": "stdout",
     "output_type": "stream",
     "text": [
      "Setup Complete\n"
     ]
    }
   ],
   "source": [
    "# Set up code checking\n",
    "import os\n",
    "if not os.path.exists(\"../input/train.csv\"):\n",
    "    os.symlink(\"../input/home-data-for-ml-course/train.csv\", \"../input/train.csv\")  \n",
    "    os.symlink(\"../input/home-data-for-ml-course/test.csv\", \"../input/test.csv\") \n",
    "from learntools.core import binder\n",
    "binder.bind(globals())\n",
    "from learntools.ml_intermediate.ex6 import *\n",
    "print(\"Setup Complete\")"
   ]
  },
  {
   "cell_type": "markdown",
   "id": "6c2942c2",
   "metadata": {
    "papermill": {
     "duration": 0.005177,
     "end_time": "2022-07-01T18:05:53.649406",
     "exception": false,
     "start_time": "2022-07-01T18:05:53.644229",
     "status": "completed"
    },
    "tags": []
   },
   "source": [
    "You will work with the [Housing Prices Competition for Kaggle Learn Users](https://www.kaggle.com/c/home-data-for-ml-course) dataset from the previous exercise. \n",
    "\n",
    "![Ames Housing dataset image](https://i.imgur.com/lTJVG4e.png)\n",
    "\n",
    "Run the next code cell without changes to load the training and validation sets in `X_train`, `X_valid`, `y_train`, and `y_valid`.  The test set is loaded in `X_test`."
   ]
  },
  {
   "cell_type": "code",
   "execution_count": 2,
   "id": "c68d95cc",
   "metadata": {
    "execution": {
     "iopub.execute_input": "2022-07-01T18:05:53.662527Z",
     "iopub.status.busy": "2022-07-01T18:05:53.661276Z",
     "iopub.status.idle": "2022-07-01T18:05:53.850916Z",
     "shell.execute_reply": "2022-07-01T18:05:53.850089Z"
    },
    "papermill": {
     "duration": 0.198724,
     "end_time": "2022-07-01T18:05:53.853436",
     "exception": false,
     "start_time": "2022-07-01T18:05:53.654712",
     "status": "completed"
    },
    "tags": []
   },
   "outputs": [],
   "source": [
    "import pandas as pd\n",
    "from sklearn.model_selection import train_test_split\n",
    "\n",
    "# Read the data\n",
    "X = pd.read_csv('../input/train.csv', index_col='Id')\n",
    "X_test_full = pd.read_csv('../input/test.csv', index_col='Id')\n",
    "\n",
    "# Remove rows with missing target, separate target from predictors\n",
    "X.dropna(axis=0, subset=['SalePrice'], inplace=True)\n",
    "y = X.SalePrice              \n",
    "X.drop(['SalePrice'], axis=1, inplace=True)\n",
    "\n",
    "# Break off validation set from training data\n",
    "X_train_full, X_valid_full, y_train, y_valid = train_test_split(X, y, train_size=0.8, test_size=0.2,\n",
    "                                                                random_state=0)\n",
    "\n",
    "# \"Cardinality\" means the number of unique values in a column\n",
    "# Select categorical columns with relatively low cardinality (convenient but arbitrary)\n",
    "low_cardinality_cols = [cname for cname in X_train_full.columns if X_train_full[cname].nunique() < 10 and \n",
    "                        X_train_full[cname].dtype == \"object\"]\n",
    "\n",
    "# Select numeric columns\n",
    "numeric_cols = [cname for cname in X_train_full.columns if X_train_full[cname].dtype in ['int64', 'float64']]\n",
    "\n",
    "# Keep selected columns only\n",
    "my_cols = low_cardinality_cols + numeric_cols\n",
    "X_train = X_train_full[my_cols].copy()\n",
    "X_valid = X_valid_full[my_cols].copy()\n",
    "X_test = X_test_full[my_cols].copy()\n",
    "\n",
    "# One-hot encode the data (to shorten the code, we use pandas)\n",
    "X_train = pd.get_dummies(X_train)\n",
    "X_valid = pd.get_dummies(X_valid)\n",
    "X_test = pd.get_dummies(X_test)\n",
    "X_train, X_valid = X_train.align(X_valid, join='left', axis=1)\n",
    "X_train, X_test = X_train.align(X_test, join='left', axis=1)"
   ]
  },
  {
   "cell_type": "markdown",
   "id": "4f480758",
   "metadata": {
    "papermill": {
     "duration": 0.00503,
     "end_time": "2022-07-01T18:05:53.863782",
     "exception": false,
     "start_time": "2022-07-01T18:05:53.858752",
     "status": "completed"
    },
    "tags": []
   },
   "source": [
    "# Step 1: Build model\n",
    "\n",
    "### Part A\n",
    "\n",
    "In this step, you'll build and train your first model with gradient boosting.\n",
    "\n",
    "- Begin by setting `my_model_1` to an XGBoost model.  Use the [XGBRegressor](https://xgboost.readthedocs.io/en/latest/python/python_api.html#xgboost.XGBRegressor) class, and set the random seed to 0 (`random_state=0`).  **Leave all other parameters as default.**\n",
    "- Then, fit the model to the training data in `X_train` and `y_train`."
   ]
  },
  {
   "cell_type": "code",
   "execution_count": 3,
   "id": "8987f74d",
   "metadata": {
    "execution": {
     "iopub.execute_input": "2022-07-01T18:05:53.876354Z",
     "iopub.status.busy": "2022-07-01T18:05:53.875432Z",
     "iopub.status.idle": "2022-07-01T18:05:53.884985Z",
     "shell.execute_reply": "2022-07-01T18:05:53.884269Z"
    },
    "papermill": {
     "duration": 0.017906,
     "end_time": "2022-07-01T18:05:53.886857",
     "exception": false,
     "start_time": "2022-07-01T18:05:53.868951",
     "status": "completed"
    },
    "tags": []
   },
   "outputs": [
    {
     "data": {
      "application/javascript": [
       "parent.postMessage({\"jupyterEvent\": \"custom.exercise_interaction\", \"data\": {\"outcomeType\": 4, \"interactionType\": 1, \"questionType\": 2, \"questionId\": \"1.1_Model1A\", \"learnToolsVersion\": \"0.3.4\", \"valueTowardsCompletion\": 0.0, \"failureMessage\": \"\", \"exceptionClass\": \"\", \"trace\": \"\"}}, \"*\")"
      ],
      "text/plain": [
       "<IPython.core.display.Javascript object>"
      ]
     },
     "metadata": {},
     "output_type": "display_data"
    },
    {
     "data": {
      "text/markdown": [
       "<span style=\"color:#ccaa33\">Check:</span> When you've updated the starter code, `check()` will tell you whether your code is correct. You need to update the code that creates variable `my_model_1`"
      ],
      "text/plain": [
       "Check: When you've updated the starter code, `check()` will tell you whether your code is correct. You need to update the code that creates variable `my_model_1`"
      ]
     },
     "metadata": {},
     "output_type": "display_data"
    }
   ],
   "source": [
    "from xgboost import XGBRegressor\n",
    "\n",
    "# Define the model\n",
    "my_model_1 = ____ # Your code here\n",
    "\n",
    "# Fit the model\n",
    "____ # Your code here\n",
    "\n",
    "# Check your answer\n",
    "step_1.a.check()"
   ]
  },
  {
   "cell_type": "code",
   "execution_count": 4,
   "id": "a3993c93",
   "metadata": {
    "execution": {
     "iopub.execute_input": "2022-07-01T18:05:53.899845Z",
     "iopub.status.busy": "2022-07-01T18:05:53.898986Z",
     "iopub.status.idle": "2022-07-01T18:05:53.902594Z",
     "shell.execute_reply": "2022-07-01T18:05:53.901878Z"
    },
    "papermill": {
     "duration": 0.011945,
     "end_time": "2022-07-01T18:05:53.904409",
     "exception": false,
     "start_time": "2022-07-01T18:05:53.892464",
     "status": "completed"
    },
    "tags": []
   },
   "outputs": [],
   "source": [
    "# Lines below will give you a hint or solution code\n",
    "#step_1.a.hint()\n",
    "#step_1.a.solution()"
   ]
  },
  {
   "cell_type": "markdown",
   "id": "3395dac4",
   "metadata": {
    "papermill": {
     "duration": 0.005596,
     "end_time": "2022-07-01T18:05:53.915538",
     "exception": false,
     "start_time": "2022-07-01T18:05:53.909942",
     "status": "completed"
    },
    "tags": []
   },
   "source": [
    "### Part B\n",
    "\n",
    "Set `predictions_1` to the model's predictions for the validation data.  Recall that the validation features are stored in `X_valid`."
   ]
  },
  {
   "cell_type": "code",
   "execution_count": 5,
   "id": "cb6dfa38",
   "metadata": {
    "execution": {
     "iopub.execute_input": "2022-07-01T18:05:53.928623Z",
     "iopub.status.busy": "2022-07-01T18:05:53.927742Z",
     "iopub.status.idle": "2022-07-01T18:05:53.936385Z",
     "shell.execute_reply": "2022-07-01T18:05:53.935406Z"
    },
    "papermill": {
     "duration": 0.017385,
     "end_time": "2022-07-01T18:05:53.938465",
     "exception": false,
     "start_time": "2022-07-01T18:05:53.921080",
     "status": "completed"
    },
    "tags": []
   },
   "outputs": [
    {
     "data": {
      "application/javascript": [
       "parent.postMessage({\"jupyterEvent\": \"custom.exercise_interaction\", \"data\": {\"outcomeType\": 4, \"interactionType\": 1, \"questionType\": 2, \"questionId\": \"1.2_Model1B\", \"learnToolsVersion\": \"0.3.4\", \"valueTowardsCompletion\": 0.0, \"failureMessage\": \"\", \"exceptionClass\": \"\", \"trace\": \"\"}}, \"*\")"
      ],
      "text/plain": [
       "<IPython.core.display.Javascript object>"
      ]
     },
     "metadata": {},
     "output_type": "display_data"
    },
    {
     "data": {
      "text/markdown": [
       "<span style=\"color:#ccaa33\">Check:</span> When you've updated the starter code, `check()` will tell you whether your code is correct. You need to update the code that creates variable `predictions_1`"
      ],
      "text/plain": [
       "Check: When you've updated the starter code, `check()` will tell you whether your code is correct. You need to update the code that creates variable `predictions_1`"
      ]
     },
     "metadata": {},
     "output_type": "display_data"
    }
   ],
   "source": [
    "from sklearn.metrics import mean_absolute_error\n",
    "\n",
    "# Get predictions\n",
    "predictions_1 = ____ # Your code here\n",
    "\n",
    "# Check your answer\n",
    "step_1.b.check()"
   ]
  },
  {
   "cell_type": "code",
   "execution_count": 6,
   "id": "4f6c3ae4",
   "metadata": {
    "execution": {
     "iopub.execute_input": "2022-07-01T18:05:53.951715Z",
     "iopub.status.busy": "2022-07-01T18:05:53.951344Z",
     "iopub.status.idle": "2022-07-01T18:05:53.955675Z",
     "shell.execute_reply": "2022-07-01T18:05:53.954676Z"
    },
    "papermill": {
     "duration": 0.013251,
     "end_time": "2022-07-01T18:05:53.957749",
     "exception": false,
     "start_time": "2022-07-01T18:05:53.944498",
     "status": "completed"
    },
    "tags": []
   },
   "outputs": [],
   "source": [
    "# Lines below will give you a hint or solution code\n",
    "#step_1.b.hint()\n",
    "#step_1.b.solution()"
   ]
  },
  {
   "cell_type": "markdown",
   "id": "abba7a67",
   "metadata": {
    "papermill": {
     "duration": 0.005656,
     "end_time": "2022-07-01T18:05:53.969323",
     "exception": false,
     "start_time": "2022-07-01T18:05:53.963667",
     "status": "completed"
    },
    "tags": []
   },
   "source": [
    "### Part C\n",
    "\n",
    "Finally, use the `mean_absolute_error()` function to calculate the mean absolute error (MAE) corresponding to the predictions for the validation set.  Recall that the labels for the validation data are stored in `y_valid`."
   ]
  },
  {
   "cell_type": "code",
   "execution_count": 7,
   "id": "d76f0ac0",
   "metadata": {
    "execution": {
     "iopub.execute_input": "2022-07-01T18:05:53.982979Z",
     "iopub.status.busy": "2022-07-01T18:05:53.982343Z",
     "iopub.status.idle": "2022-07-01T18:05:53.989294Z",
     "shell.execute_reply": "2022-07-01T18:05:53.988593Z"
    },
    "papermill": {
     "duration": 0.016079,
     "end_time": "2022-07-01T18:05:53.991247",
     "exception": false,
     "start_time": "2022-07-01T18:05:53.975168",
     "status": "completed"
    },
    "tags": []
   },
   "outputs": [
    {
     "data": {
      "application/javascript": [
       "parent.postMessage({\"jupyterEvent\": \"custom.exercise_interaction\", \"data\": {\"outcomeType\": 4, \"interactionType\": 1, \"questionType\": 2, \"questionId\": \"1.3_Model1C\", \"learnToolsVersion\": \"0.3.4\", \"valueTowardsCompletion\": 0.0, \"failureMessage\": \"\", \"exceptionClass\": \"\", \"trace\": \"\"}}, \"*\")"
      ],
      "text/plain": [
       "<IPython.core.display.Javascript object>"
      ]
     },
     "metadata": {},
     "output_type": "display_data"
    },
    {
     "data": {
      "text/markdown": [
       "<span style=\"color:#ccaa33\">Check:</span> When you've updated the starter code, `check()` will tell you whether your code is correct. You need to update the code that creates variable `mae_1`"
      ],
      "text/plain": [
       "Check: When you've updated the starter code, `check()` will tell you whether your code is correct. You need to update the code that creates variable `mae_1`"
      ]
     },
     "metadata": {},
     "output_type": "display_data"
    }
   ],
   "source": [
    "# Calculate MAE\n",
    "mae_1 = ____ # Your code here\n",
    "\n",
    "# Uncomment to print MAE\n",
    "# print(\"Mean Absolute Error:\" , mae_1)\n",
    "\n",
    "# Check your answer\n",
    "step_1.c.check()"
   ]
  },
  {
   "cell_type": "code",
   "execution_count": 8,
   "id": "d8b5ae56",
   "metadata": {
    "execution": {
     "iopub.execute_input": "2022-07-01T18:05:54.005786Z",
     "iopub.status.busy": "2022-07-01T18:05:54.005181Z",
     "iopub.status.idle": "2022-07-01T18:05:54.008904Z",
     "shell.execute_reply": "2022-07-01T18:05:54.008210Z"
    },
    "papermill": {
     "duration": 0.013277,
     "end_time": "2022-07-01T18:05:54.010820",
     "exception": false,
     "start_time": "2022-07-01T18:05:53.997543",
     "status": "completed"
    },
    "tags": []
   },
   "outputs": [],
   "source": [
    "# Lines below will give you a hint or solution code\n",
    "#step_1.c.hint()\n",
    "#step_1.c.solution()"
   ]
  },
  {
   "cell_type": "markdown",
   "id": "e6e976b8",
   "metadata": {
    "papermill": {
     "duration": 0.00596,
     "end_time": "2022-07-01T18:05:54.023058",
     "exception": false,
     "start_time": "2022-07-01T18:05:54.017098",
     "status": "completed"
    },
    "tags": []
   },
   "source": [
    "# Step 2: Improve the model\n",
    "\n",
    "Now that you've trained a default model as baseline, it's time to tinker with the parameters, to see if you can get better performance!\n",
    "- Begin by setting `my_model_2` to an XGBoost model, using the [XGBRegressor](https://xgboost.readthedocs.io/en/latest/python/python_api.html#xgboost.XGBRegressor) class.  Use what you learned in the previous tutorial to figure out how to change the default parameters (like `n_estimators` and `learning_rate`) to get better results.\n",
    "- Then, fit the model to the training data in `X_train` and `y_train`.\n",
    "- Set `predictions_2` to the model's predictions for the validation data.  Recall that the validation features are stored in `X_valid`.\n",
    "- Finally, use the `mean_absolute_error()` function to calculate the mean absolute error (MAE) corresponding to the predictions on the validation set.  Recall that the labels for the validation data are stored in `y_valid`.\n",
    "\n",
    "In order for this step to be marked correct, your model in `my_model_2` must attain lower MAE than the model in `my_model_1`. "
   ]
  },
  {
   "cell_type": "code",
   "execution_count": 9,
   "id": "f4eb2a7c",
   "metadata": {
    "execution": {
     "iopub.execute_input": "2022-07-01T18:05:54.037467Z",
     "iopub.status.busy": "2022-07-01T18:05:54.036852Z",
     "iopub.status.idle": "2022-07-01T18:05:54.044356Z",
     "shell.execute_reply": "2022-07-01T18:05:54.043650Z"
    },
    "papermill": {
     "duration": 0.017041,
     "end_time": "2022-07-01T18:05:54.046321",
     "exception": false,
     "start_time": "2022-07-01T18:05:54.029280",
     "status": "completed"
    },
    "tags": []
   },
   "outputs": [
    {
     "data": {
      "application/javascript": [
       "parent.postMessage({\"jupyterEvent\": \"custom.exercise_interaction\", \"data\": {\"outcomeType\": 4, \"interactionType\": 1, \"questionType\": 2, \"questionId\": \"2_Model2\", \"learnToolsVersion\": \"0.3.4\", \"valueTowardsCompletion\": 0.0, \"failureMessage\": \"\", \"exceptionClass\": \"\", \"trace\": \"\"}}, \"*\")"
      ],
      "text/plain": [
       "<IPython.core.display.Javascript object>"
      ]
     },
     "metadata": {},
     "output_type": "display_data"
    },
    {
     "data": {
      "text/markdown": [
       "<span style=\"color:#ccaa33\">Check:</span> When you've updated the starter code, `check()` will tell you whether your code is correct. You need to update the code that creates variables `my_model_2`, `predictions_2`, `mae_2`"
      ],
      "text/plain": [
       "Check: When you've updated the starter code, `check()` will tell you whether your code is correct. You need to update the code that creates variables `my_model_2`, `predictions_2`, `mae_2`"
      ]
     },
     "metadata": {},
     "output_type": "display_data"
    }
   ],
   "source": [
    "# Define the model\n",
    "my_model_2 = ____ # Your code here\n",
    "\n",
    "# Fit the model\n",
    "____ # Your code here\n",
    "\n",
    "# Get predictions\n",
    "predictions_2 = ____ # Your code here\n",
    "\n",
    "# Calculate MAE\n",
    "mae_2 = ____ # Your code here\n",
    "\n",
    "# Uncomment to print MAE\n",
    "# print(\"Mean Absolute Error:\" , mae_2)\n",
    "\n",
    "# Check your answer\n",
    "step_2.check()"
   ]
  },
  {
   "cell_type": "code",
   "execution_count": 10,
   "id": "c1e25f1b",
   "metadata": {
    "execution": {
     "iopub.execute_input": "2022-07-01T18:05:54.062072Z",
     "iopub.status.busy": "2022-07-01T18:05:54.061462Z",
     "iopub.status.idle": "2022-07-01T18:05:54.065117Z",
     "shell.execute_reply": "2022-07-01T18:05:54.064404Z"
    },
    "papermill": {
     "duration": 0.013997,
     "end_time": "2022-07-01T18:05:54.067090",
     "exception": false,
     "start_time": "2022-07-01T18:05:54.053093",
     "status": "completed"
    },
    "tags": []
   },
   "outputs": [],
   "source": [
    "# Lines below will give you a hint or solution code\n",
    "#step_2.hint()\n",
    "#step_2.solution()"
   ]
  },
  {
   "cell_type": "markdown",
   "id": "7b317d70",
   "metadata": {
    "papermill": {
     "duration": 0.006676,
     "end_time": "2022-07-01T18:05:54.080701",
     "exception": false,
     "start_time": "2022-07-01T18:05:54.074025",
     "status": "completed"
    },
    "tags": []
   },
   "source": [
    "# Step 3: Break the model\n",
    "\n",
    "In this step, you will create a model that performs worse than the original model in Step 1.  This will help you to develop your intuition for how to set parameters.  You might even find that you accidentally get better performance, which is ultimately a nice problem to have and a valuable learning experience!\n",
    "- Begin by setting `my_model_3` to an XGBoost model, using the [XGBRegressor](https://xgboost.readthedocs.io/en/latest/python/python_api.html#xgboost.XGBRegressor) class.  Use what you learned in the previous tutorial to figure out how to change the default parameters (like `n_estimators` and `learning_rate`) to design a model to get high MAE.\n",
    "- Then, fit the model to the training data in `X_train` and `y_train`.\n",
    "- Set `predictions_3` to the model's predictions for the validation data.  Recall that the validation features are stored in `X_valid`.\n",
    "- Finally, use the `mean_absolute_error()` function to calculate the mean absolute error (MAE) corresponding to the predictions on the validation set.  Recall that the labels for the validation data are stored in `y_valid`.\n",
    "\n",
    "In order for this step to be marked correct, your model in `my_model_3` must attain higher MAE than the model in `my_model_1`. "
   ]
  },
  {
   "cell_type": "code",
   "execution_count": 11,
   "id": "46e8ac72",
   "metadata": {
    "execution": {
     "iopub.execute_input": "2022-07-01T18:05:54.097314Z",
     "iopub.status.busy": "2022-07-01T18:05:54.096672Z",
     "iopub.status.idle": "2022-07-01T18:05:54.105014Z",
     "shell.execute_reply": "2022-07-01T18:05:54.103874Z"
    },
    "papermill": {
     "duration": 0.019407,
     "end_time": "2022-07-01T18:05:54.107071",
     "exception": false,
     "start_time": "2022-07-01T18:05:54.087664",
     "status": "completed"
    },
    "tags": []
   },
   "outputs": [
    {
     "data": {
      "application/javascript": [
       "parent.postMessage({\"jupyterEvent\": \"custom.exercise_interaction\", \"data\": {\"outcomeType\": 4, \"interactionType\": 1, \"questionType\": 2, \"questionId\": \"3_Model3\", \"learnToolsVersion\": \"0.3.4\", \"valueTowardsCompletion\": 0.0, \"failureMessage\": \"\", \"exceptionClass\": \"\", \"trace\": \"\"}}, \"*\")"
      ],
      "text/plain": [
       "<IPython.core.display.Javascript object>"
      ]
     },
     "metadata": {},
     "output_type": "display_data"
    },
    {
     "data": {
      "text/markdown": [
       "<span style=\"color:#ccaa33\">Check:</span> When you've updated the starter code, `check()` will tell you whether your code is correct. You need to update the code that creates variables `my_model_3`, `predictions_3`, `mae_3`"
      ],
      "text/plain": [
       "Check: When you've updated the starter code, `check()` will tell you whether your code is correct. You need to update the code that creates variables `my_model_3`, `predictions_3`, `mae_3`"
      ]
     },
     "metadata": {},
     "output_type": "display_data"
    }
   ],
   "source": [
    "# Define the model\n",
    "my_model_3 = ____\n",
    "\n",
    "# Fit the model\n",
    "____ # Your code here\n",
    "\n",
    "# Get predictions\n",
    "predictions_3 = ____\n",
    "\n",
    "# Calculate MAE\n",
    "mae_3 = ____\n",
    "\n",
    "# Uncomment to print MAE\n",
    "# print(\"Mean Absolute Error:\" , mae_3)\n",
    "\n",
    "# Check your answer\n",
    "step_3.check()"
   ]
  },
  {
   "cell_type": "code",
   "execution_count": 12,
   "id": "1c7eae93",
   "metadata": {
    "execution": {
     "iopub.execute_input": "2022-07-01T18:05:54.122676Z",
     "iopub.status.busy": "2022-07-01T18:05:54.122108Z",
     "iopub.status.idle": "2022-07-01T18:05:54.126299Z",
     "shell.execute_reply": "2022-07-01T18:05:54.125326Z"
    },
    "papermill": {
     "duration": 0.014307,
     "end_time": "2022-07-01T18:05:54.128313",
     "exception": false,
     "start_time": "2022-07-01T18:05:54.114006",
     "status": "completed"
    },
    "tags": []
   },
   "outputs": [],
   "source": [
    "# Lines below will give you a hint or solution code\n",
    "#step_3.hint()\n",
    "#step_3.solution()"
   ]
  },
  {
   "cell_type": "markdown",
   "id": "d43ada6f",
   "metadata": {
    "papermill": {
     "duration": 0.006824,
     "end_time": "2022-07-01T18:05:54.142505",
     "exception": false,
     "start_time": "2022-07-01T18:05:54.135681",
     "status": "completed"
    },
    "tags": []
   },
   "source": [
    "# Keep going\n",
    "\n",
    "Continue to learn about **[data leakage](https://www.kaggle.com/alexisbcook/data-leakage)**.  This is an important issue for a data scientist to understand, and it has the potential to ruin your models in subtle and dangerous ways!"
   ]
  },
  {
   "cell_type": "markdown",
   "id": "acb6d71b",
   "metadata": {
    "papermill": {
     "duration": 0.006823,
     "end_time": "2022-07-01T18:05:54.156519",
     "exception": false,
     "start_time": "2022-07-01T18:05:54.149696",
     "status": "completed"
    },
    "tags": []
   },
   "source": [
    "---\n",
    "\n",
    "\n",
    "\n",
    "\n",
    "*Have questions or comments? Visit the [course discussion forum](https://www.kaggle.com/learn/intermediate-machine-learning/discussion) to chat with other learners.*"
   ]
  }
 ],
 "metadata": {
  "kernelspec": {
   "display_name": "Python 3",
   "language": "python",
   "name": "python3"
  },
  "language_info": {
   "codemirror_mode": {
    "name": "ipython",
    "version": 3
   },
   "file_extension": ".py",
   "mimetype": "text/x-python",
   "name": "python",
   "nbconvert_exporter": "python",
   "pygments_lexer": "ipython3",
   "version": "3.7.12"
  },
  "papermill": {
   "default_parameters": {},
   "duration": 13.342651,
   "end_time": "2022-07-01T18:05:54.885135",
   "environment_variables": {},
   "exception": null,
   "input_path": "__notebook__.ipynb",
   "output_path": "__notebook__.ipynb",
   "parameters": {},
   "start_time": "2022-07-01T18:05:41.542484",
   "version": "2.3.4"
  }
 },
 "nbformat": 4,
 "nbformat_minor": 5
}
