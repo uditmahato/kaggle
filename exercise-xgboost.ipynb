{
 "cells": [
  {
   "cell_type": "markdown",
   "id": "a09ac921",
   "metadata": {
    "papermill": {
     "duration": 0.007183,
     "end_time": "2022-07-01T18:05:40.015048",
     "exception": false,
     "start_time": "2022-07-01T18:05:40.007865",
     "status": "completed"
    },
    "tags": []
   },
   "source": [
    "**This notebook is an exercise in the [Intermediate Machine Learning](https://www.kaggle.com/learn/intermediate-machine-learning) course.  You can reference the tutorial at [this link](https://www.kaggle.com/alexisbcook/xgboost).**\n",
    "\n",
    "---\n"
   ]
  },
  {
   "cell_type": "markdown",
   "id": "366baa6b",
   "metadata": {
    "papermill": {
     "duration": 0.005872,
     "end_time": "2022-07-01T18:05:40.027473",
     "exception": false,
     "start_time": "2022-07-01T18:05:40.021601",
     "status": "completed"
    },
    "tags": []
   },
   "source": [
    "In this exercise, you will use your new knowledge to train a model with **gradient boosting**.\n",
    "\n",
    "# Setup\n",
    "\n",
    "The questions below will give you feedback on your work. Run the following cell to set up the feedback system."
   ]
  },
  {
   "cell_type": "code",
   "execution_count": 1,
   "id": "bbf2e482",
   "metadata": {
    "execution": {
     "iopub.execute_input": "2022-07-01T18:05:40.042136Z",
     "iopub.status.busy": "2022-07-01T18:05:40.041628Z",
     "iopub.status.idle": "2022-07-01T18:05:42.633097Z",
     "shell.execute_reply": "2022-07-01T18:05:42.631946Z"
    },
    "papermill": {
     "duration": 2.602633,
     "end_time": "2022-07-01T18:05:42.636386",
     "exception": false,
     "start_time": "2022-07-01T18:05:40.033753",
     "status": "completed"
    },
    "tags": []
   },
   "outputs": [
    {
     "name": "stdout",
     "output_type": "stream",
     "text": [
      "Setup Complete\n"
     ]
    }
   ],
   "source": [
    "# Set up code checking\n",
    "import os\n",
    "if not os.path.exists(\"../input/train.csv\"):\n",
    "    os.symlink(\"../input/home-data-for-ml-course/train.csv\", \"../input/train.csv\")  \n",
    "    os.symlink(\"../input/home-data-for-ml-course/test.csv\", \"../input/test.csv\") \n",
    "from learntools.core import binder\n",
    "binder.bind(globals())\n",
    "from learntools.ml_intermediate.ex6 import *\n",
    "print(\"Setup Complete\")"
   ]
  },
  {
   "cell_type": "markdown",
   "id": "c8b24ab1",
   "metadata": {
    "papermill": {
     "duration": 0.005585,
     "end_time": "2022-07-01T18:05:42.648322",
     "exception": false,
     "start_time": "2022-07-01T18:05:42.642737",
     "status": "completed"
    },
    "tags": []
   },
   "source": [
    "You will work with the [Housing Prices Competition for Kaggle Learn Users](https://www.kaggle.com/c/home-data-for-ml-course) dataset from the previous exercise. \n",
    "\n",
    "![Ames Housing dataset image](https://i.imgur.com/lTJVG4e.png)\n",
    "\n",
    "Run the next code cell without changes to load the training and validation sets in `X_train`, `X_valid`, `y_train`, and `y_valid`.  The test set is loaded in `X_test`."
   ]
  },
  {
   "cell_type": "code",
   "execution_count": 2,
   "id": "ec3e56d8",
   "metadata": {
    "execution": {
     "iopub.execute_input": "2022-07-01T18:05:42.662045Z",
     "iopub.status.busy": "2022-07-01T18:05:42.661691Z",
     "iopub.status.idle": "2022-07-01T18:05:42.859969Z",
     "shell.execute_reply": "2022-07-01T18:05:42.858736Z"
    },
    "papermill": {
     "duration": 0.208445,
     "end_time": "2022-07-01T18:05:42.862634",
     "exception": false,
     "start_time": "2022-07-01T18:05:42.654189",
     "status": "completed"
    },
    "tags": []
   },
   "outputs": [],
   "source": [
    "import pandas as pd\n",
    "from sklearn.model_selection import train_test_split\n",
    "\n",
    "# Read the data\n",
    "X = pd.read_csv('../input/train.csv', index_col='Id')\n",
    "X_test_full = pd.read_csv('../input/test.csv', index_col='Id')\n",
    "\n",
    "# Remove rows with missing target, separate target from predictors\n",
    "X.dropna(axis=0, subset=['SalePrice'], inplace=True)\n",
    "y = X.SalePrice              \n",
    "X.drop(['SalePrice'], axis=1, inplace=True)\n",
    "\n",
    "# Break off validation set from training data\n",
    "X_train_full, X_valid_full, y_train, y_valid = train_test_split(X, y, train_size=0.8, test_size=0.2,\n",
    "                                                                random_state=0)\n",
    "\n",
    "# \"Cardinality\" means the number of unique values in a column\n",
    "# Select categorical columns with relatively low cardinality (convenient but arbitrary)\n",
    "low_cardinality_cols = [cname for cname in X_train_full.columns if X_train_full[cname].nunique() < 10 and \n",
    "                        X_train_full[cname].dtype == \"object\"]\n",
    "\n",
    "# Select numeric columns\n",
    "numeric_cols = [cname for cname in X_train_full.columns if X_train_full[cname].dtype in ['int64', 'float64']]\n",
    "\n",
    "# Keep selected columns only\n",
    "my_cols = low_cardinality_cols + numeric_cols\n",
    "X_train = X_train_full[my_cols].copy()\n",
    "X_valid = X_valid_full[my_cols].copy()\n",
    "X_test = X_test_full[my_cols].copy()\n",
    "\n",
    "# One-hot encode the data (to shorten the code, we use pandas)\n",
    "X_train = pd.get_dummies(X_train)\n",
    "X_valid = pd.get_dummies(X_valid)\n",
    "X_test = pd.get_dummies(X_test)\n",
    "X_train, X_valid = X_train.align(X_valid, join='left', axis=1)\n",
    "X_train, X_test = X_train.align(X_test, join='left', axis=1)"
   ]
  },
  {
   "cell_type": "markdown",
   "id": "629a0919",
   "metadata": {
    "papermill": {
     "duration": 0.005658,
     "end_time": "2022-07-01T18:05:42.874334",
     "exception": false,
     "start_time": "2022-07-01T18:05:42.868676",
     "status": "completed"
    },
    "tags": []
   },
   "source": [
    "# Step 1: Build model\n",
    "\n",
    "### Part A\n",
    "\n",
    "In this step, you'll build and train your first model with gradient boosting.\n",
    "\n",
    "- Begin by setting `my_model_1` to an XGBoost model.  Use the [XGBRegressor](https://xgboost.readthedocs.io/en/latest/python/python_api.html#xgboost.XGBRegressor) class, and set the random seed to 0 (`random_state=0`).  **Leave all other parameters as default.**\n",
    "- Then, fit the model to the training data in `X_train` and `y_train`."
   ]
  },
  {
   "cell_type": "code",
   "execution_count": 3,
   "id": "93cf3c96",
   "metadata": {
    "execution": {
     "iopub.execute_input": "2022-07-01T18:05:42.887814Z",
     "iopub.status.busy": "2022-07-01T18:05:42.887444Z",
     "iopub.status.idle": "2022-07-01T18:05:42.901997Z",
     "shell.execute_reply": "2022-07-01T18:05:42.900910Z"
    },
    "papermill": {
     "duration": 0.024157,
     "end_time": "2022-07-01T18:05:42.904275",
     "exception": false,
     "start_time": "2022-07-01T18:05:42.880118",
     "status": "completed"
    },
    "tags": []
   },
   "outputs": [
    {
     "data": {
      "application/javascript": [
       "parent.postMessage({\"jupyterEvent\": \"custom.exercise_interaction\", \"data\": {\"outcomeType\": 4, \"interactionType\": 1, \"questionType\": 2, \"questionId\": \"1.1_Model1A\", \"learnToolsVersion\": \"0.3.4\", \"valueTowardsCompletion\": 0.0, \"failureMessage\": \"\", \"exceptionClass\": \"\", \"trace\": \"\"}}, \"*\")"
      ],
      "text/plain": [
       "<IPython.core.display.Javascript object>"
      ]
     },
     "metadata": {},
     "output_type": "display_data"
    },
    {
     "data": {
      "text/markdown": [
       "<span style=\"color:#ccaa33\">Check:</span> When you've updated the starter code, `check()` will tell you whether your code is correct. You need to update the code that creates variable `my_model_1`"
      ],
      "text/plain": [
       "Check: When you've updated the starter code, `check()` will tell you whether your code is correct. You need to update the code that creates variable `my_model_1`"
      ]
     },
     "metadata": {},
     "output_type": "display_data"
    }
   ],
   "source": [
    "from xgboost import XGBRegressor\n",
    "\n",
    "# Define the model\n",
    "my_model_1 = ____ # Your code here\n",
    "\n",
    "# Fit the model\n",
    "____ # Your code here\n",
    "\n",
    "# Check your answer\n",
    "step_1.a.check()"
   ]
  },
  {
   "cell_type": "code",
   "execution_count": 4,
   "id": "07e78168",
   "metadata": {
    "execution": {
     "iopub.execute_input": "2022-07-01T18:05:42.919125Z",
     "iopub.status.busy": "2022-07-01T18:05:42.918542Z",
     "iopub.status.idle": "2022-07-01T18:05:42.922813Z",
     "shell.execute_reply": "2022-07-01T18:05:42.921877Z"
    },
    "papermill": {
     "duration": 0.014292,
     "end_time": "2022-07-01T18:05:42.925047",
     "exception": false,
     "start_time": "2022-07-01T18:05:42.910755",
     "status": "completed"
    },
    "tags": []
   },
   "outputs": [],
   "source": [
    "# Lines below will give you a hint or solution code\n",
    "#step_1.a.hint()\n",
    "#step_1.a.solution()"
   ]
  },
  {
   "cell_type": "markdown",
   "id": "c4886063",
   "metadata": {
    "papermill": {
     "duration": 0.006063,
     "end_time": "2022-07-01T18:05:42.937724",
     "exception": false,
     "start_time": "2022-07-01T18:05:42.931661",
     "status": "completed"
    },
    "tags": []
   },
   "source": [
    "### Part B\n",
    "\n",
    "Set `predictions_1` to the model's predictions for the validation data.  Recall that the validation features are stored in `X_valid`."
   ]
  },
  {
   "cell_type": "code",
   "execution_count": 5,
   "id": "4a781715",
   "metadata": {
    "execution": {
     "iopub.execute_input": "2022-07-01T18:05:42.952974Z",
     "iopub.status.busy": "2022-07-01T18:05:42.952289Z",
     "iopub.status.idle": "2022-07-01T18:05:42.960986Z",
     "shell.execute_reply": "2022-07-01T18:05:42.960225Z"
    },
    "papermill": {
     "duration": 0.019845,
     "end_time": "2022-07-01T18:05:42.963819",
     "exception": false,
     "start_time": "2022-07-01T18:05:42.943974",
     "status": "completed"
    },
    "tags": []
   },
   "outputs": [
    {
     "data": {
      "application/javascript": [
       "parent.postMessage({\"jupyterEvent\": \"custom.exercise_interaction\", \"data\": {\"outcomeType\": 4, \"interactionType\": 1, \"questionType\": 2, \"questionId\": \"1.2_Model1B\", \"learnToolsVersion\": \"0.3.4\", \"valueTowardsCompletion\": 0.0, \"failureMessage\": \"\", \"exceptionClass\": \"\", \"trace\": \"\"}}, \"*\")"
      ],
      "text/plain": [
       "<IPython.core.display.Javascript object>"
      ]
     },
     "metadata": {},
     "output_type": "display_data"
    },
    {
     "data": {
      "text/markdown": [
       "<span style=\"color:#ccaa33\">Check:</span> When you've updated the starter code, `check()` will tell you whether your code is correct. You need to update the code that creates variable `predictions_1`"
      ],
      "text/plain": [
       "Check: When you've updated the starter code, `check()` will tell you whether your code is correct. You need to update the code that creates variable `predictions_1`"
      ]
     },
     "metadata": {},
     "output_type": "display_data"
    }
   ],
   "source": [
    "from sklearn.metrics import mean_absolute_error\n",
    "\n",
    "# Get predictions\n",
    "predictions_1 = ____ # Your code here\n",
    "\n",
    "# Check your answer\n",
    "step_1.b.check()"
   ]
  },
  {
   "cell_type": "code",
   "execution_count": 6,
   "id": "c76a222d",
   "metadata": {
    "execution": {
     "iopub.execute_input": "2022-07-01T18:05:42.981101Z",
     "iopub.status.busy": "2022-07-01T18:05:42.980270Z",
     "iopub.status.idle": "2022-07-01T18:05:42.984831Z",
     "shell.execute_reply": "2022-07-01T18:05:42.984109Z"
    },
    "papermill": {
     "duration": 0.015642,
     "end_time": "2022-07-01T18:05:42.986902",
     "exception": false,
     "start_time": "2022-07-01T18:05:42.971260",
     "status": "completed"
    },
    "tags": []
   },
   "outputs": [],
   "source": [
    "# Lines below will give you a hint or solution code\n",
    "#step_1.b.hint()\n",
    "#step_1.b.solution()"
   ]
  },
  {
   "cell_type": "markdown",
   "id": "99e17b7a",
   "metadata": {
    "papermill": {
     "duration": 0.006679,
     "end_time": "2022-07-01T18:05:43.000789",
     "exception": false,
     "start_time": "2022-07-01T18:05:42.994110",
     "status": "completed"
    },
    "tags": []
   },
   "source": [
    "### Part C\n",
    "\n",
    "Finally, use the `mean_absolute_error()` function to calculate the mean absolute error (MAE) corresponding to the predictions for the validation set.  Recall that the labels for the validation data are stored in `y_valid`."
   ]
  },
  {
   "cell_type": "code",
   "execution_count": 7,
   "id": "7a33a1bc",
   "metadata": {
    "execution": {
     "iopub.execute_input": "2022-07-01T18:05:43.016568Z",
     "iopub.status.busy": "2022-07-01T18:05:43.015757Z",
     "iopub.status.idle": "2022-07-01T18:05:43.024128Z",
     "shell.execute_reply": "2022-07-01T18:05:43.023422Z"
    },
    "papermill": {
     "duration": 0.018472,
     "end_time": "2022-07-01T18:05:43.026205",
     "exception": false,
     "start_time": "2022-07-01T18:05:43.007733",
     "status": "completed"
    },
    "tags": []
   },
   "outputs": [
    {
     "data": {
      "application/javascript": [
       "parent.postMessage({\"jupyterEvent\": \"custom.exercise_interaction\", \"data\": {\"outcomeType\": 4, \"interactionType\": 1, \"questionType\": 2, \"questionId\": \"1.3_Model1C\", \"learnToolsVersion\": \"0.3.4\", \"valueTowardsCompletion\": 0.0, \"failureMessage\": \"\", \"exceptionClass\": \"\", \"trace\": \"\"}}, \"*\")"
      ],
      "text/plain": [
       "<IPython.core.display.Javascript object>"
      ]
     },
     "metadata": {},
     "output_type": "display_data"
    },
    {
     "data": {
      "text/markdown": [
       "<span style=\"color:#ccaa33\">Check:</span> When you've updated the starter code, `check()` will tell you whether your code is correct. You need to update the code that creates variable `mae_1`"
      ],
      "text/plain": [
       "Check: When you've updated the starter code, `check()` will tell you whether your code is correct. You need to update the code that creates variable `mae_1`"
      ]
     },
     "metadata": {},
     "output_type": "display_data"
    }
   ],
   "source": [
    "# Calculate MAE\n",
    "mae_1 = ____ # Your code here\n",
    "\n",
    "# Uncomment to print MAE\n",
    "# print(\"Mean Absolute Error:\" , mae_1)\n",
    "\n",
    "# Check your answer\n",
    "step_1.c.check()"
   ]
  },
  {
   "cell_type": "code",
   "execution_count": 8,
   "id": "97f73b8f",
   "metadata": {
    "execution": {
     "iopub.execute_input": "2022-07-01T18:05:43.043376Z",
     "iopub.status.busy": "2022-07-01T18:05:43.042770Z",
     "iopub.status.idle": "2022-07-01T18:05:43.048112Z",
     "shell.execute_reply": "2022-07-01T18:05:43.046622Z"
    },
    "papermill": {
     "duration": 0.016623,
     "end_time": "2022-07-01T18:05:43.050469",
     "exception": false,
     "start_time": "2022-07-01T18:05:43.033846",
     "status": "completed"
    },
    "tags": []
   },
   "outputs": [],
   "source": [
    "# Lines below will give you a hint or solution code\n",
    "#step_1.c.hint()\n",
    "#step_1.c.solution()"
   ]
  },
  {
   "cell_type": "markdown",
   "id": "66595876",
   "metadata": {
    "papermill": {
     "duration": 0.007313,
     "end_time": "2022-07-01T18:05:43.065476",
     "exception": false,
     "start_time": "2022-07-01T18:05:43.058163",
     "status": "completed"
    },
    "tags": []
   },
   "source": [
    "# Step 2: Improve the model\n",
    "\n",
    "Now that you've trained a default model as baseline, it's time to tinker with the parameters, to see if you can get better performance!\n",
    "- Begin by setting `my_model_2` to an XGBoost model, using the [XGBRegressor](https://xgboost.readthedocs.io/en/latest/python/python_api.html#xgboost.XGBRegressor) class.  Use what you learned in the previous tutorial to figure out how to change the default parameters (like `n_estimators` and `learning_rate`) to get better results.\n",
    "- Then, fit the model to the training data in `X_train` and `y_train`.\n",
    "- Set `predictions_2` to the model's predictions for the validation data.  Recall that the validation features are stored in `X_valid`.\n",
    "- Finally, use the `mean_absolute_error()` function to calculate the mean absolute error (MAE) corresponding to the predictions on the validation set.  Recall that the labels for the validation data are stored in `y_valid`.\n",
    "\n",
    "In order for this step to be marked correct, your model in `my_model_2` must attain lower MAE than the model in `my_model_1`. "
   ]
  },
  {
   "cell_type": "code",
   "execution_count": 9,
   "id": "d1ec142b",
   "metadata": {
    "execution": {
     "iopub.execute_input": "2022-07-01T18:05:43.081984Z",
     "iopub.status.busy": "2022-07-01T18:05:43.081333Z",
     "iopub.status.idle": "2022-07-01T18:05:43.090298Z",
     "shell.execute_reply": "2022-07-01T18:05:43.089512Z"
    },
    "papermill": {
     "duration": 0.019768,
     "end_time": "2022-07-01T18:05:43.092445",
     "exception": false,
     "start_time": "2022-07-01T18:05:43.072677",
     "status": "completed"
    },
    "tags": []
   },
   "outputs": [
    {
     "data": {
      "application/javascript": [
       "parent.postMessage({\"jupyterEvent\": \"custom.exercise_interaction\", \"data\": {\"outcomeType\": 4, \"interactionType\": 1, \"questionType\": 2, \"questionId\": \"2_Model2\", \"learnToolsVersion\": \"0.3.4\", \"valueTowardsCompletion\": 0.0, \"failureMessage\": \"\", \"exceptionClass\": \"\", \"trace\": \"\"}}, \"*\")"
      ],
      "text/plain": [
       "<IPython.core.display.Javascript object>"
      ]
     },
     "metadata": {},
     "output_type": "display_data"
    },
    {
     "data": {
      "text/markdown": [
       "<span style=\"color:#ccaa33\">Check:</span> When you've updated the starter code, `check()` will tell you whether your code is correct. You need to update the code that creates variables `my_model_2`, `predictions_2`, `mae_2`"
      ],
      "text/plain": [
       "Check: When you've updated the starter code, `check()` will tell you whether your code is correct. You need to update the code that creates variables `my_model_2`, `predictions_2`, `mae_2`"
      ]
     },
     "metadata": {},
     "output_type": "display_data"
    }
   ],
   "source": [
    "# Define the model\n",
    "my_model_2 = ____ # Your code here\n",
    "\n",
    "# Fit the model\n",
    "____ # Your code here\n",
    "\n",
    "# Get predictions\n",
    "predictions_2 = ____ # Your code here\n",
    "\n",
    "# Calculate MAE\n",
    "mae_2 = ____ # Your code here\n",
    "\n",
    "# Uncomment to print MAE\n",
    "# print(\"Mean Absolute Error:\" , mae_2)\n",
    "\n",
    "# Check your answer\n",
    "step_2.check()"
   ]
  },
  {
   "cell_type": "code",
   "execution_count": 10,
   "id": "caa35e6b",
   "metadata": {
    "execution": {
     "iopub.execute_input": "2022-07-01T18:05:43.110025Z",
     "iopub.status.busy": "2022-07-01T18:05:43.109384Z",
     "iopub.status.idle": "2022-07-01T18:05:43.113933Z",
     "shell.execute_reply": "2022-07-01T18:05:43.112794Z"
    },
    "papermill": {
     "duration": 0.016194,
     "end_time": "2022-07-01T18:05:43.116582",
     "exception": false,
     "start_time": "2022-07-01T18:05:43.100388",
     "status": "completed"
    },
    "tags": []
   },
   "outputs": [],
   "source": [
    "# Lines below will give you a hint or solution code\n",
    "#step_2.hint()\n",
    "#step_2.solution()"
   ]
  },
  {
   "cell_type": "markdown",
   "id": "ba140a0d",
   "metadata": {
    "papermill": {
     "duration": 0.007371,
     "end_time": "2022-07-01T18:05:43.132092",
     "exception": false,
     "start_time": "2022-07-01T18:05:43.124721",
     "status": "completed"
    },
    "tags": []
   },
   "source": [
    "# Step 3: Break the model\n",
    "\n",
    "In this step, you will create a model that performs worse than the original model in Step 1.  This will help you to develop your intuition for how to set parameters.  You might even find that you accidentally get better performance, which is ultimately a nice problem to have and a valuable learning experience!\n",
    "- Begin by setting `my_model_3` to an XGBoost model, using the [XGBRegressor](https://xgboost.readthedocs.io/en/latest/python/python_api.html#xgboost.XGBRegressor) class.  Use what you learned in the previous tutorial to figure out how to change the default parameters (like `n_estimators` and `learning_rate`) to design a model to get high MAE.\n",
    "- Then, fit the model to the training data in `X_train` and `y_train`.\n",
    "- Set `predictions_3` to the model's predictions for the validation data.  Recall that the validation features are stored in `X_valid`.\n",
    "- Finally, use the `mean_absolute_error()` function to calculate the mean absolute error (MAE) corresponding to the predictions on the validation set.  Recall that the labels for the validation data are stored in `y_valid`.\n",
    "\n",
    "In order for this step to be marked correct, your model in `my_model_3` must attain higher MAE than the model in `my_model_1`. "
   ]
  },
  {
   "cell_type": "code",
   "execution_count": 11,
   "id": "18c64a6a",
   "metadata": {
    "execution": {
     "iopub.execute_input": "2022-07-01T18:05:43.151665Z",
     "iopub.status.busy": "2022-07-01T18:05:43.150966Z",
     "iopub.status.idle": "2022-07-01T18:05:43.160782Z",
     "shell.execute_reply": "2022-07-01T18:05:43.160052Z"
    },
    "papermill": {
     "duration": 0.021306,
     "end_time": "2022-07-01T18:05:43.162794",
     "exception": false,
     "start_time": "2022-07-01T18:05:43.141488",
     "status": "completed"
    },
    "tags": []
   },
   "outputs": [
    {
     "data": {
      "application/javascript": [
       "parent.postMessage({\"jupyterEvent\": \"custom.exercise_interaction\", \"data\": {\"outcomeType\": 4, \"interactionType\": 1, \"questionType\": 2, \"questionId\": \"3_Model3\", \"learnToolsVersion\": \"0.3.4\", \"valueTowardsCompletion\": 0.0, \"failureMessage\": \"\", \"exceptionClass\": \"\", \"trace\": \"\"}}, \"*\")"
      ],
      "text/plain": [
       "<IPython.core.display.Javascript object>"
      ]
     },
     "metadata": {},
     "output_type": "display_data"
    },
    {
     "data": {
      "text/markdown": [
       "<span style=\"color:#ccaa33\">Check:</span> When you've updated the starter code, `check()` will tell you whether your code is correct. You need to update the code that creates variables `my_model_3`, `predictions_3`, `mae_3`"
      ],
      "text/plain": [
       "Check: When you've updated the starter code, `check()` will tell you whether your code is correct. You need to update the code that creates variables `my_model_3`, `predictions_3`, `mae_3`"
      ]
     },
     "metadata": {},
     "output_type": "display_data"
    }
   ],
   "source": [
    "# Define the model\n",
    "my_model_3 = ____\n",
    "\n",
    "# Fit the model\n",
    "____ # Your code here\n",
    "\n",
    "# Get predictions\n",
    "predictions_3 = ____\n",
    "\n",
    "# Calculate MAE\n",
    "mae_3 = ____\n",
    "\n",
    "# Uncomment to print MAE\n",
    "# print(\"Mean Absolute Error:\" , mae_3)\n",
    "\n",
    "# Check your answer\n",
    "step_3.check()"
   ]
  },
  {
   "cell_type": "code",
   "execution_count": 12,
   "id": "548b4d88",
   "metadata": {
    "execution": {
     "iopub.execute_input": "2022-07-01T18:05:43.181886Z",
     "iopub.status.busy": "2022-07-01T18:05:43.180975Z",
     "iopub.status.idle": "2022-07-01T18:05:43.186090Z",
     "shell.execute_reply": "2022-07-01T18:05:43.185246Z"
    },
    "papermill": {
     "duration": 0.017416,
     "end_time": "2022-07-01T18:05:43.188419",
     "exception": false,
     "start_time": "2022-07-01T18:05:43.171003",
     "status": "completed"
    },
    "tags": []
   },
   "outputs": [],
   "source": [
    "# Lines below will give you a hint or solution code\n",
    "#step_3.hint()\n",
    "#step_3.solution()"
   ]
  },
  {
   "cell_type": "markdown",
   "id": "1ab70916",
   "metadata": {
    "papermill": {
     "duration": 0.008174,
     "end_time": "2022-07-01T18:05:43.204997",
     "exception": false,
     "start_time": "2022-07-01T18:05:43.196823",
     "status": "completed"
    },
    "tags": []
   },
   "source": [
    "# Keep going\n",
    "\n",
    "Continue to learn about **[data leakage](https://www.kaggle.com/alexisbcook/data-leakage)**.  This is an important issue for a data scientist to understand, and it has the potential to ruin your models in subtle and dangerous ways!"
   ]
  },
  {
   "cell_type": "markdown",
   "id": "2c679d04",
   "metadata": {
    "papermill": {
     "duration": 0.007699,
     "end_time": "2022-07-01T18:05:43.220801",
     "exception": false,
     "start_time": "2022-07-01T18:05:43.213102",
     "status": "completed"
    },
    "tags": []
   },
   "source": [
    "---\n",
    "\n",
    "\n",
    "\n",
    "\n",
    "*Have questions or comments? Visit the [course discussion forum](https://www.kaggle.com/learn/intermediate-machine-learning/discussion) to chat with other learners.*"
   ]
  }
 ],
 "metadata": {
  "kernelspec": {
   "display_name": "Python 3",
   "language": "python",
   "name": "python3"
  },
  "language_info": {
   "codemirror_mode": {
    "name": "ipython",
    "version": 3
   },
   "file_extension": ".py",
   "mimetype": "text/x-python",
   "name": "python",
   "nbconvert_exporter": "python",
   "pygments_lexer": "ipython3",
   "version": "3.7.12"
  },
  "papermill": {
   "default_parameters": {},
   "duration": 16.112609,
   "end_time": "2022-07-01T18:05:44.250935",
   "environment_variables": {},
   "exception": null,
   "input_path": "__notebook__.ipynb",
   "output_path": "__notebook__.ipynb",
   "parameters": {},
   "start_time": "2022-07-01T18:05:28.138326",
   "version": "2.3.4"
  }
 },
 "nbformat": 4,
 "nbformat_minor": 5
}
