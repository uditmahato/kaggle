{
 "cells": [
  {
   "cell_type": "markdown",
   "id": "3aadcc20",
   "metadata": {
    "papermill": {
     "duration": 0.00593,
     "end_time": "2022-07-01T18:05:54.734933",
     "exception": false,
     "start_time": "2022-07-01T18:05:54.729003",
     "status": "completed"
    },
    "tags": []
   },
   "source": [
    "**This notebook is an exercise in the [Intermediate Machine Learning](https://www.kaggle.com/learn/intermediate-machine-learning) course.  You can reference the tutorial at [this link](https://www.kaggle.com/alexisbcook/xgboost).**\n",
    "\n",
    "---\n"
   ]
  },
  {
   "cell_type": "markdown",
   "id": "6268e30d",
   "metadata": {
    "papermill": {
     "duration": 0.00369,
     "end_time": "2022-07-01T18:05:54.742708",
     "exception": false,
     "start_time": "2022-07-01T18:05:54.739018",
     "status": "completed"
    },
    "tags": []
   },
   "source": [
    "In this exercise, you will use your new knowledge to train a model with **gradient boosting**.\n",
    "\n",
    "# Setup\n",
    "\n",
    "The questions below will give you feedback on your work. Run the following cell to set up the feedback system."
   ]
  },
  {
   "cell_type": "code",
   "execution_count": 1,
   "id": "5a6a8576",
   "metadata": {
    "execution": {
     "iopub.execute_input": "2022-07-01T18:05:54.752757Z",
     "iopub.status.busy": "2022-07-01T18:05:54.752243Z",
     "iopub.status.idle": "2022-07-01T18:05:57.362722Z",
     "shell.execute_reply": "2022-07-01T18:05:57.361492Z"
    },
    "papermill": {
     "duration": 2.618879,
     "end_time": "2022-07-01T18:05:57.365458",
     "exception": false,
     "start_time": "2022-07-01T18:05:54.746579",
     "status": "completed"
    },
    "tags": []
   },
   "outputs": [
    {
     "name": "stdout",
     "output_type": "stream",
     "text": [
      "Setup Complete\n"
     ]
    }
   ],
   "source": [
    "# Set up code checking\n",
    "import os\n",
    "if not os.path.exists(\"../input/train.csv\"):\n",
    "    os.symlink(\"../input/home-data-for-ml-course/train.csv\", \"../input/train.csv\")  \n",
    "    os.symlink(\"../input/home-data-for-ml-course/test.csv\", \"../input/test.csv\") \n",
    "from learntools.core import binder\n",
    "binder.bind(globals())\n",
    "from learntools.ml_intermediate.ex6 import *\n",
    "print(\"Setup Complete\")"
   ]
  },
  {
   "cell_type": "markdown",
   "id": "58800f9b",
   "metadata": {
    "papermill": {
     "duration": 0.003686,
     "end_time": "2022-07-01T18:05:57.373257",
     "exception": false,
     "start_time": "2022-07-01T18:05:57.369571",
     "status": "completed"
    },
    "tags": []
   },
   "source": [
    "You will work with the [Housing Prices Competition for Kaggle Learn Users](https://www.kaggle.com/c/home-data-for-ml-course) dataset from the previous exercise. \n",
    "\n",
    "![Ames Housing dataset image](https://i.imgur.com/lTJVG4e.png)\n",
    "\n",
    "Run the next code cell without changes to load the training and validation sets in `X_train`, `X_valid`, `y_train`, and `y_valid`.  The test set is loaded in `X_test`."
   ]
  },
  {
   "cell_type": "code",
   "execution_count": 2,
   "id": "cddcbab8",
   "metadata": {
    "execution": {
     "iopub.execute_input": "2022-07-01T18:05:57.383195Z",
     "iopub.status.busy": "2022-07-01T18:05:57.382772Z",
     "iopub.status.idle": "2022-07-01T18:05:57.560439Z",
     "shell.execute_reply": "2022-07-01T18:05:57.559384Z"
    },
    "papermill": {
     "duration": 0.186047,
     "end_time": "2022-07-01T18:05:57.563137",
     "exception": false,
     "start_time": "2022-07-01T18:05:57.377090",
     "status": "completed"
    },
    "tags": []
   },
   "outputs": [],
   "source": [
    "import pandas as pd\n",
    "from sklearn.model_selection import train_test_split\n",
    "\n",
    "# Read the data\n",
    "X = pd.read_csv('../input/train.csv', index_col='Id')\n",
    "X_test_full = pd.read_csv('../input/test.csv', index_col='Id')\n",
    "\n",
    "# Remove rows with missing target, separate target from predictors\n",
    "X.dropna(axis=0, subset=['SalePrice'], inplace=True)\n",
    "y = X.SalePrice              \n",
    "X.drop(['SalePrice'], axis=1, inplace=True)\n",
    "\n",
    "# Break off validation set from training data\n",
    "X_train_full, X_valid_full, y_train, y_valid = train_test_split(X, y, train_size=0.8, test_size=0.2,\n",
    "                                                                random_state=0)\n",
    "\n",
    "# \"Cardinality\" means the number of unique values in a column\n",
    "# Select categorical columns with relatively low cardinality (convenient but arbitrary)\n",
    "low_cardinality_cols = [cname for cname in X_train_full.columns if X_train_full[cname].nunique() < 10 and \n",
    "                        X_train_full[cname].dtype == \"object\"]\n",
    "\n",
    "# Select numeric columns\n",
    "numeric_cols = [cname for cname in X_train_full.columns if X_train_full[cname].dtype in ['int64', 'float64']]\n",
    "\n",
    "# Keep selected columns only\n",
    "my_cols = low_cardinality_cols + numeric_cols\n",
    "X_train = X_train_full[my_cols].copy()\n",
    "X_valid = X_valid_full[my_cols].copy()\n",
    "X_test = X_test_full[my_cols].copy()\n",
    "\n",
    "# One-hot encode the data (to shorten the code, we use pandas)\n",
    "X_train = pd.get_dummies(X_train)\n",
    "X_valid = pd.get_dummies(X_valid)\n",
    "X_test = pd.get_dummies(X_test)\n",
    "X_train, X_valid = X_train.align(X_valid, join='left', axis=1)\n",
    "X_train, X_test = X_train.align(X_test, join='left', axis=1)"
   ]
  },
  {
   "cell_type": "markdown",
   "id": "eadc7555",
   "metadata": {
    "papermill": {
     "duration": 0.003818,
     "end_time": "2022-07-01T18:05:57.571143",
     "exception": false,
     "start_time": "2022-07-01T18:05:57.567325",
     "status": "completed"
    },
    "tags": []
   },
   "source": [
    "# Step 1: Build model\n",
    "\n",
    "### Part A\n",
    "\n",
    "In this step, you'll build and train your first model with gradient boosting.\n",
    "\n",
    "- Begin by setting `my_model_1` to an XGBoost model.  Use the [XGBRegressor](https://xgboost.readthedocs.io/en/latest/python/python_api.html#xgboost.XGBRegressor) class, and set the random seed to 0 (`random_state=0`).  **Leave all other parameters as default.**\n",
    "- Then, fit the model to the training data in `X_train` and `y_train`."
   ]
  },
  {
   "cell_type": "code",
   "execution_count": 3,
   "id": "737fdb4d",
   "metadata": {
    "execution": {
     "iopub.execute_input": "2022-07-01T18:05:57.581394Z",
     "iopub.status.busy": "2022-07-01T18:05:57.580939Z",
     "iopub.status.idle": "2022-07-01T18:05:57.591519Z",
     "shell.execute_reply": "2022-07-01T18:05:57.590468Z"
    },
    "papermill": {
     "duration": 0.018649,
     "end_time": "2022-07-01T18:05:57.593799",
     "exception": false,
     "start_time": "2022-07-01T18:05:57.575150",
     "status": "completed"
    },
    "tags": []
   },
   "outputs": [
    {
     "data": {
      "application/javascript": [
       "parent.postMessage({\"jupyterEvent\": \"custom.exercise_interaction\", \"data\": {\"outcomeType\": 4, \"interactionType\": 1, \"questionType\": 2, \"questionId\": \"1.1_Model1A\", \"learnToolsVersion\": \"0.3.4\", \"valueTowardsCompletion\": 0.0, \"failureMessage\": \"\", \"exceptionClass\": \"\", \"trace\": \"\"}}, \"*\")"
      ],
      "text/plain": [
       "<IPython.core.display.Javascript object>"
      ]
     },
     "metadata": {},
     "output_type": "display_data"
    },
    {
     "data": {
      "text/markdown": [
       "<span style=\"color:#ccaa33\">Check:</span> When you've updated the starter code, `check()` will tell you whether your code is correct. You need to update the code that creates variable `my_model_1`"
      ],
      "text/plain": [
       "Check: When you've updated the starter code, `check()` will tell you whether your code is correct. You need to update the code that creates variable `my_model_1`"
      ]
     },
     "metadata": {},
     "output_type": "display_data"
    }
   ],
   "source": [
    "from xgboost import XGBRegressor\n",
    "\n",
    "# Define the model\n",
    "my_model_1 = ____ # Your code here\n",
    "\n",
    "# Fit the model\n",
    "____ # Your code here\n",
    "\n",
    "# Check your answer\n",
    "step_1.a.check()"
   ]
  },
  {
   "cell_type": "code",
   "execution_count": 4,
   "id": "93a6c804",
   "metadata": {
    "execution": {
     "iopub.execute_input": "2022-07-01T18:05:57.604970Z",
     "iopub.status.busy": "2022-07-01T18:05:57.603864Z",
     "iopub.status.idle": "2022-07-01T18:05:57.608225Z",
     "shell.execute_reply": "2022-07-01T18:05:57.607428Z"
    },
    "papermill": {
     "duration": 0.011982,
     "end_time": "2022-07-01T18:05:57.610150",
     "exception": false,
     "start_time": "2022-07-01T18:05:57.598168",
     "status": "completed"
    },
    "tags": []
   },
   "outputs": [],
   "source": [
    "# Lines below will give you a hint or solution code\n",
    "#step_1.a.hint()\n",
    "#step_1.a.solution()"
   ]
  },
  {
   "cell_type": "markdown",
   "id": "2ad9351e",
   "metadata": {
    "papermill": {
     "duration": 0.004203,
     "end_time": "2022-07-01T18:05:57.618892",
     "exception": false,
     "start_time": "2022-07-01T18:05:57.614689",
     "status": "completed"
    },
    "tags": []
   },
   "source": [
    "### Part B\n",
    "\n",
    "Set `predictions_1` to the model's predictions for the validation data.  Recall that the validation features are stored in `X_valid`."
   ]
  },
  {
   "cell_type": "code",
   "execution_count": 5,
   "id": "f2211ab6",
   "metadata": {
    "execution": {
     "iopub.execute_input": "2022-07-01T18:05:57.630421Z",
     "iopub.status.busy": "2022-07-01T18:05:57.629135Z",
     "iopub.status.idle": "2022-07-01T18:05:57.637840Z",
     "shell.execute_reply": "2022-07-01T18:05:57.636725Z"
    },
    "papermill": {
     "duration": 0.016708,
     "end_time": "2022-07-01T18:05:57.640152",
     "exception": false,
     "start_time": "2022-07-01T18:05:57.623444",
     "status": "completed"
    },
    "tags": []
   },
   "outputs": [
    {
     "data": {
      "application/javascript": [
       "parent.postMessage({\"jupyterEvent\": \"custom.exercise_interaction\", \"data\": {\"outcomeType\": 4, \"interactionType\": 1, \"questionType\": 2, \"questionId\": \"1.2_Model1B\", \"learnToolsVersion\": \"0.3.4\", \"valueTowardsCompletion\": 0.0, \"failureMessage\": \"\", \"exceptionClass\": \"\", \"trace\": \"\"}}, \"*\")"
      ],
      "text/plain": [
       "<IPython.core.display.Javascript object>"
      ]
     },
     "metadata": {},
     "output_type": "display_data"
    },
    {
     "data": {
      "text/markdown": [
       "<span style=\"color:#ccaa33\">Check:</span> When you've updated the starter code, `check()` will tell you whether your code is correct. You need to update the code that creates variable `predictions_1`"
      ],
      "text/plain": [
       "Check: When you've updated the starter code, `check()` will tell you whether your code is correct. You need to update the code that creates variable `predictions_1`"
      ]
     },
     "metadata": {},
     "output_type": "display_data"
    }
   ],
   "source": [
    "from sklearn.metrics import mean_absolute_error\n",
    "\n",
    "# Get predictions\n",
    "predictions_1 = ____ # Your code here\n",
    "\n",
    "# Check your answer\n",
    "step_1.b.check()"
   ]
  },
  {
   "cell_type": "code",
   "execution_count": 6,
   "id": "f6c0ff9d",
   "metadata": {
    "execution": {
     "iopub.execute_input": "2022-07-01T18:05:57.652346Z",
     "iopub.status.busy": "2022-07-01T18:05:57.651215Z",
     "iopub.status.idle": "2022-07-01T18:05:57.656583Z",
     "shell.execute_reply": "2022-07-01T18:05:57.655212Z"
    },
    "papermill": {
     "duration": 0.013817,
     "end_time": "2022-07-01T18:05:57.658905",
     "exception": false,
     "start_time": "2022-07-01T18:05:57.645088",
     "status": "completed"
    },
    "tags": []
   },
   "outputs": [],
   "source": [
    "# Lines below will give you a hint or solution code\n",
    "#step_1.b.hint()\n",
    "#step_1.b.solution()"
   ]
  },
  {
   "cell_type": "markdown",
   "id": "2916091b",
   "metadata": {
    "papermill": {
     "duration": 0.004382,
     "end_time": "2022-07-01T18:05:57.668085",
     "exception": false,
     "start_time": "2022-07-01T18:05:57.663703",
     "status": "completed"
    },
    "tags": []
   },
   "source": [
    "### Part C\n",
    "\n",
    "Finally, use the `mean_absolute_error()` function to calculate the mean absolute error (MAE) corresponding to the predictions for the validation set.  Recall that the labels for the validation data are stored in `y_valid`."
   ]
  },
  {
   "cell_type": "code",
   "execution_count": 7,
   "id": "33340b23",
   "metadata": {
    "execution": {
     "iopub.execute_input": "2022-07-01T18:05:57.679293Z",
     "iopub.status.busy": "2022-07-01T18:05:57.678470Z",
     "iopub.status.idle": "2022-07-01T18:05:57.687745Z",
     "shell.execute_reply": "2022-07-01T18:05:57.686613Z"
    },
    "papermill": {
     "duration": 0.017155,
     "end_time": "2022-07-01T18:05:57.689813",
     "exception": false,
     "start_time": "2022-07-01T18:05:57.672658",
     "status": "completed"
    },
    "tags": []
   },
   "outputs": [
    {
     "data": {
      "application/javascript": [
       "parent.postMessage({\"jupyterEvent\": \"custom.exercise_interaction\", \"data\": {\"outcomeType\": 4, \"interactionType\": 1, \"questionType\": 2, \"questionId\": \"1.3_Model1C\", \"learnToolsVersion\": \"0.3.4\", \"valueTowardsCompletion\": 0.0, \"failureMessage\": \"\", \"exceptionClass\": \"\", \"trace\": \"\"}}, \"*\")"
      ],
      "text/plain": [
       "<IPython.core.display.Javascript object>"
      ]
     },
     "metadata": {},
     "output_type": "display_data"
    },
    {
     "data": {
      "text/markdown": [
       "<span style=\"color:#ccaa33\">Check:</span> When you've updated the starter code, `check()` will tell you whether your code is correct. You need to update the code that creates variable `mae_1`"
      ],
      "text/plain": [
       "Check: When you've updated the starter code, `check()` will tell you whether your code is correct. You need to update the code that creates variable `mae_1`"
      ]
     },
     "metadata": {},
     "output_type": "display_data"
    }
   ],
   "source": [
    "# Calculate MAE\n",
    "mae_1 = ____ # Your code here\n",
    "\n",
    "# Uncomment to print MAE\n",
    "# print(\"Mean Absolute Error:\" , mae_1)\n",
    "\n",
    "# Check your answer\n",
    "step_1.c.check()"
   ]
  },
  {
   "cell_type": "code",
   "execution_count": 8,
   "id": "75aacff8",
   "metadata": {
    "execution": {
     "iopub.execute_input": "2022-07-01T18:05:57.701534Z",
     "iopub.status.busy": "2022-07-01T18:05:57.701078Z",
     "iopub.status.idle": "2022-07-01T18:05:57.705493Z",
     "shell.execute_reply": "2022-07-01T18:05:57.704401Z"
    },
    "papermill": {
     "duration": 0.01292,
     "end_time": "2022-07-01T18:05:57.707536",
     "exception": false,
     "start_time": "2022-07-01T18:05:57.694616",
     "status": "completed"
    },
    "tags": []
   },
   "outputs": [],
   "source": [
    "# Lines below will give you a hint or solution code\n",
    "#step_1.c.hint()\n",
    "#step_1.c.solution()"
   ]
  },
  {
   "cell_type": "markdown",
   "id": "68622fb4",
   "metadata": {
    "papermill": {
     "duration": 0.004552,
     "end_time": "2022-07-01T18:05:57.717068",
     "exception": false,
     "start_time": "2022-07-01T18:05:57.712516",
     "status": "completed"
    },
    "tags": []
   },
   "source": [
    "# Step 2: Improve the model\n",
    "\n",
    "Now that you've trained a default model as baseline, it's time to tinker with the parameters, to see if you can get better performance!\n",
    "- Begin by setting `my_model_2` to an XGBoost model, using the [XGBRegressor](https://xgboost.readthedocs.io/en/latest/python/python_api.html#xgboost.XGBRegressor) class.  Use what you learned in the previous tutorial to figure out how to change the default parameters (like `n_estimators` and `learning_rate`) to get better results.\n",
    "- Then, fit the model to the training data in `X_train` and `y_train`.\n",
    "- Set `predictions_2` to the model's predictions for the validation data.  Recall that the validation features are stored in `X_valid`.\n",
    "- Finally, use the `mean_absolute_error()` function to calculate the mean absolute error (MAE) corresponding to the predictions on the validation set.  Recall that the labels for the validation data are stored in `y_valid`.\n",
    "\n",
    "In order for this step to be marked correct, your model in `my_model_2` must attain lower MAE than the model in `my_model_1`. "
   ]
  },
  {
   "cell_type": "code",
   "execution_count": 9,
   "id": "08e1844f",
   "metadata": {
    "execution": {
     "iopub.execute_input": "2022-07-01T18:05:57.728975Z",
     "iopub.status.busy": "2022-07-01T18:05:57.728239Z",
     "iopub.status.idle": "2022-07-01T18:05:57.735619Z",
     "shell.execute_reply": "2022-07-01T18:05:57.734858Z"
    },
    "papermill": {
     "duration": 0.015449,
     "end_time": "2022-07-01T18:05:57.737476",
     "exception": false,
     "start_time": "2022-07-01T18:05:57.722027",
     "status": "completed"
    },
    "tags": []
   },
   "outputs": [
    {
     "data": {
      "application/javascript": [
       "parent.postMessage({\"jupyterEvent\": \"custom.exercise_interaction\", \"data\": {\"outcomeType\": 4, \"interactionType\": 1, \"questionType\": 2, \"questionId\": \"2_Model2\", \"learnToolsVersion\": \"0.3.4\", \"valueTowardsCompletion\": 0.0, \"failureMessage\": \"\", \"exceptionClass\": \"\", \"trace\": \"\"}}, \"*\")"
      ],
      "text/plain": [
       "<IPython.core.display.Javascript object>"
      ]
     },
     "metadata": {},
     "output_type": "display_data"
    },
    {
     "data": {
      "text/markdown": [
       "<span style=\"color:#ccaa33\">Check:</span> When you've updated the starter code, `check()` will tell you whether your code is correct. You need to update the code that creates variables `my_model_2`, `predictions_2`, `mae_2`"
      ],
      "text/plain": [
       "Check: When you've updated the starter code, `check()` will tell you whether your code is correct. You need to update the code that creates variables `my_model_2`, `predictions_2`, `mae_2`"
      ]
     },
     "metadata": {},
     "output_type": "display_data"
    }
   ],
   "source": [
    "# Define the model\n",
    "my_model_2 = ____ # Your code here\n",
    "\n",
    "# Fit the model\n",
    "____ # Your code here\n",
    "\n",
    "# Get predictions\n",
    "predictions_2 = ____ # Your code here\n",
    "\n",
    "# Calculate MAE\n",
    "mae_2 = ____ # Your code here\n",
    "\n",
    "# Uncomment to print MAE\n",
    "# print(\"Mean Absolute Error:\" , mae_2)\n",
    "\n",
    "# Check your answer\n",
    "step_2.check()"
   ]
  },
  {
   "cell_type": "code",
   "execution_count": 10,
   "id": "6e59bf70",
   "metadata": {
    "execution": {
     "iopub.execute_input": "2022-07-01T18:05:57.749975Z",
     "iopub.status.busy": "2022-07-01T18:05:57.749260Z",
     "iopub.status.idle": "2022-07-01T18:05:57.752939Z",
     "shell.execute_reply": "2022-07-01T18:05:57.752220Z"
    },
    "papermill": {
     "duration": 0.012202,
     "end_time": "2022-07-01T18:05:57.754874",
     "exception": false,
     "start_time": "2022-07-01T18:05:57.742672",
     "status": "completed"
    },
    "tags": []
   },
   "outputs": [],
   "source": [
    "# Lines below will give you a hint or solution code\n",
    "#step_2.hint()\n",
    "#step_2.solution()"
   ]
  },
  {
   "cell_type": "markdown",
   "id": "65864a35",
   "metadata": {
    "papermill": {
     "duration": 0.004936,
     "end_time": "2022-07-01T18:05:57.765006",
     "exception": false,
     "start_time": "2022-07-01T18:05:57.760070",
     "status": "completed"
    },
    "tags": []
   },
   "source": [
    "# Step 3: Break the model\n",
    "\n",
    "In this step, you will create a model that performs worse than the original model in Step 1.  This will help you to develop your intuition for how to set parameters.  You might even find that you accidentally get better performance, which is ultimately a nice problem to have and a valuable learning experience!\n",
    "- Begin by setting `my_model_3` to an XGBoost model, using the [XGBRegressor](https://xgboost.readthedocs.io/en/latest/python/python_api.html#xgboost.XGBRegressor) class.  Use what you learned in the previous tutorial to figure out how to change the default parameters (like `n_estimators` and `learning_rate`) to design a model to get high MAE.\n",
    "- Then, fit the model to the training data in `X_train` and `y_train`.\n",
    "- Set `predictions_3` to the model's predictions for the validation data.  Recall that the validation features are stored in `X_valid`.\n",
    "- Finally, use the `mean_absolute_error()` function to calculate the mean absolute error (MAE) corresponding to the predictions on the validation set.  Recall that the labels for the validation data are stored in `y_valid`.\n",
    "\n",
    "In order for this step to be marked correct, your model in `my_model_3` must attain higher MAE than the model in `my_model_1`. "
   ]
  },
  {
   "cell_type": "code",
   "execution_count": 11,
   "id": "aada5bb0",
   "metadata": {
    "execution": {
     "iopub.execute_input": "2022-07-01T18:05:57.778236Z",
     "iopub.status.busy": "2022-07-01T18:05:57.777507Z",
     "iopub.status.idle": "2022-07-01T18:05:57.784851Z",
     "shell.execute_reply": "2022-07-01T18:05:57.784139Z"
    },
    "papermill": {
     "duration": 0.016626,
     "end_time": "2022-07-01T18:05:57.786760",
     "exception": false,
     "start_time": "2022-07-01T18:05:57.770134",
     "status": "completed"
    },
    "tags": []
   },
   "outputs": [
    {
     "data": {
      "application/javascript": [
       "parent.postMessage({\"jupyterEvent\": \"custom.exercise_interaction\", \"data\": {\"outcomeType\": 4, \"interactionType\": 1, \"questionType\": 2, \"questionId\": \"3_Model3\", \"learnToolsVersion\": \"0.3.4\", \"valueTowardsCompletion\": 0.0, \"failureMessage\": \"\", \"exceptionClass\": \"\", \"trace\": \"\"}}, \"*\")"
      ],
      "text/plain": [
       "<IPython.core.display.Javascript object>"
      ]
     },
     "metadata": {},
     "output_type": "display_data"
    },
    {
     "data": {
      "text/markdown": [
       "<span style=\"color:#ccaa33\">Check:</span> When you've updated the starter code, `check()` will tell you whether your code is correct. You need to update the code that creates variables `my_model_3`, `predictions_3`, `mae_3`"
      ],
      "text/plain": [
       "Check: When you've updated the starter code, `check()` will tell you whether your code is correct. You need to update the code that creates variables `my_model_3`, `predictions_3`, `mae_3`"
      ]
     },
     "metadata": {},
     "output_type": "display_data"
    }
   ],
   "source": [
    "# Define the model\n",
    "my_model_3 = ____\n",
    "\n",
    "# Fit the model\n",
    "____ # Your code here\n",
    "\n",
    "# Get predictions\n",
    "predictions_3 = ____\n",
    "\n",
    "# Calculate MAE\n",
    "mae_3 = ____\n",
    "\n",
    "# Uncomment to print MAE\n",
    "# print(\"Mean Absolute Error:\" , mae_3)\n",
    "\n",
    "# Check your answer\n",
    "step_3.check()"
   ]
  },
  {
   "cell_type": "code",
   "execution_count": 12,
   "id": "5392f270",
   "metadata": {
    "execution": {
     "iopub.execute_input": "2022-07-01T18:05:57.800036Z",
     "iopub.status.busy": "2022-07-01T18:05:57.799265Z",
     "iopub.status.idle": "2022-07-01T18:05:57.803378Z",
     "shell.execute_reply": "2022-07-01T18:05:57.802598Z"
    },
    "papermill": {
     "duration": 0.013079,
     "end_time": "2022-07-01T18:05:57.805207",
     "exception": false,
     "start_time": "2022-07-01T18:05:57.792128",
     "status": "completed"
    },
    "tags": []
   },
   "outputs": [],
   "source": [
    "# Lines below will give you a hint or solution code\n",
    "#step_3.hint()\n",
    "#step_3.solution()"
   ]
  },
  {
   "cell_type": "markdown",
   "id": "174ed716",
   "metadata": {
    "papermill": {
     "duration": 0.005203,
     "end_time": "2022-07-01T18:05:57.815874",
     "exception": false,
     "start_time": "2022-07-01T18:05:57.810671",
     "status": "completed"
    },
    "tags": []
   },
   "source": [
    "# Keep going\n",
    "\n",
    "Continue to learn about **[data leakage](https://www.kaggle.com/alexisbcook/data-leakage)**.  This is an important issue for a data scientist to understand, and it has the potential to ruin your models in subtle and dangerous ways!"
   ]
  },
  {
   "cell_type": "markdown",
   "id": "baa16a61",
   "metadata": {
    "papermill": {
     "duration": 0.004949,
     "end_time": "2022-07-01T18:05:57.826237",
     "exception": false,
     "start_time": "2022-07-01T18:05:57.821288",
     "status": "completed"
    },
    "tags": []
   },
   "source": [
    "---\n",
    "\n",
    "\n",
    "\n",
    "\n",
    "*Have questions or comments? Visit the [course discussion forum](https://www.kaggle.com/learn/intermediate-machine-learning/discussion) to chat with other learners.*"
   ]
  }
 ],
 "metadata": {
  "kernelspec": {
   "display_name": "Python 3",
   "language": "python",
   "name": "python3"
  },
  "language_info": {
   "codemirror_mode": {
    "name": "ipython",
    "version": 3
   },
   "file_extension": ".py",
   "mimetype": "text/x-python",
   "name": "python",
   "nbconvert_exporter": "python",
   "pygments_lexer": "ipython3",
   "version": "3.7.12"
  },
  "papermill": {
   "default_parameters": {},
   "duration": 13.405263,
   "end_time": "2022-07-01T18:05:58.754352",
   "environment_variables": {},
   "exception": null,
   "input_path": "__notebook__.ipynb",
   "output_path": "__notebook__.ipynb",
   "parameters": {},
   "start_time": "2022-07-01T18:05:45.349089",
   "version": "2.3.4"
  }
 },
 "nbformat": 4,
 "nbformat_minor": 5
}
