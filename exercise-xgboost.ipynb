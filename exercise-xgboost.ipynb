{
 "cells": [
  {
   "cell_type": "markdown",
   "id": "a36bd8a0",
   "metadata": {
    "papermill": {
     "duration": 0.004775,
     "end_time": "2022-07-01T18:05:49.732459",
     "exception": false,
     "start_time": "2022-07-01T18:05:49.727684",
     "status": "completed"
    },
    "tags": []
   },
   "source": [
    "**This notebook is an exercise in the [Intermediate Machine Learning](https://www.kaggle.com/learn/intermediate-machine-learning) course.  You can reference the tutorial at [this link](https://www.kaggle.com/alexisbcook/xgboost).**\n",
    "\n",
    "---\n"
   ]
  },
  {
   "cell_type": "markdown",
   "id": "45eb2c96",
   "metadata": {
    "papermill": {
     "duration": 0.003703,
     "end_time": "2022-07-01T18:05:49.740332",
     "exception": false,
     "start_time": "2022-07-01T18:05:49.736629",
     "status": "completed"
    },
    "tags": []
   },
   "source": [
    "In this exercise, you will use your new knowledge to train a model with **gradient boosting**.\n",
    "\n",
    "# Setup\n",
    "\n",
    "The questions below will give you feedback on your work. Run the following cell to set up the feedback system."
   ]
  },
  {
   "cell_type": "code",
   "execution_count": 1,
   "id": "51e85790",
   "metadata": {
    "execution": {
     "iopub.execute_input": "2022-07-01T18:05:49.750007Z",
     "iopub.status.busy": "2022-07-01T18:05:49.749614Z",
     "iopub.status.idle": "2022-07-01T18:05:52.246666Z",
     "shell.execute_reply": "2022-07-01T18:05:52.245845Z"
    },
    "papermill": {
     "duration": 2.505269,
     "end_time": "2022-07-01T18:05:52.249636",
     "exception": false,
     "start_time": "2022-07-01T18:05:49.744367",
     "status": "completed"
    },
    "tags": []
   },
   "outputs": [
    {
     "name": "stdout",
     "output_type": "stream",
     "text": [
      "Setup Complete\n"
     ]
    }
   ],
   "source": [
    "# Set up code checking\n",
    "import os\n",
    "if not os.path.exists(\"../input/train.csv\"):\n",
    "    os.symlink(\"../input/home-data-for-ml-course/train.csv\", \"../input/train.csv\")  \n",
    "    os.symlink(\"../input/home-data-for-ml-course/test.csv\", \"../input/test.csv\") \n",
    "from learntools.core import binder\n",
    "binder.bind(globals())\n",
    "from learntools.ml_intermediate.ex6 import *\n",
    "print(\"Setup Complete\")"
   ]
  },
  {
   "cell_type": "markdown",
   "id": "bad3a33e",
   "metadata": {
    "papermill": {
     "duration": 0.003643,
     "end_time": "2022-07-01T18:05:52.257550",
     "exception": false,
     "start_time": "2022-07-01T18:05:52.253907",
     "status": "completed"
    },
    "tags": []
   },
   "source": [
    "You will work with the [Housing Prices Competition for Kaggle Learn Users](https://www.kaggle.com/c/home-data-for-ml-course) dataset from the previous exercise. \n",
    "\n",
    "![Ames Housing dataset image](https://i.imgur.com/lTJVG4e.png)\n",
    "\n",
    "Run the next code cell without changes to load the training and validation sets in `X_train`, `X_valid`, `y_train`, and `y_valid`.  The test set is loaded in `X_test`."
   ]
  },
  {
   "cell_type": "code",
   "execution_count": 2,
   "id": "2bcd4d0d",
   "metadata": {
    "execution": {
     "iopub.execute_input": "2022-07-01T18:05:52.266861Z",
     "iopub.status.busy": "2022-07-01T18:05:52.266492Z",
     "iopub.status.idle": "2022-07-01T18:05:52.435022Z",
     "shell.execute_reply": "2022-07-01T18:05:52.433905Z"
    },
    "papermill": {
     "duration": 0.176275,
     "end_time": "2022-07-01T18:05:52.437576",
     "exception": false,
     "start_time": "2022-07-01T18:05:52.261301",
     "status": "completed"
    },
    "tags": []
   },
   "outputs": [],
   "source": [
    "import pandas as pd\n",
    "from sklearn.model_selection import train_test_split\n",
    "\n",
    "# Read the data\n",
    "X = pd.read_csv('../input/train.csv', index_col='Id')\n",
    "X_test_full = pd.read_csv('../input/test.csv', index_col='Id')\n",
    "\n",
    "# Remove rows with missing target, separate target from predictors\n",
    "X.dropna(axis=0, subset=['SalePrice'], inplace=True)\n",
    "y = X.SalePrice              \n",
    "X.drop(['SalePrice'], axis=1, inplace=True)\n",
    "\n",
    "# Break off validation set from training data\n",
    "X_train_full, X_valid_full, y_train, y_valid = train_test_split(X, y, train_size=0.8, test_size=0.2,\n",
    "                                                                random_state=0)\n",
    "\n",
    "# \"Cardinality\" means the number of unique values in a column\n",
    "# Select categorical columns with relatively low cardinality (convenient but arbitrary)\n",
    "low_cardinality_cols = [cname for cname in X_train_full.columns if X_train_full[cname].nunique() < 10 and \n",
    "                        X_train_full[cname].dtype == \"object\"]\n",
    "\n",
    "# Select numeric columns\n",
    "numeric_cols = [cname for cname in X_train_full.columns if X_train_full[cname].dtype in ['int64', 'float64']]\n",
    "\n",
    "# Keep selected columns only\n",
    "my_cols = low_cardinality_cols + numeric_cols\n",
    "X_train = X_train_full[my_cols].copy()\n",
    "X_valid = X_valid_full[my_cols].copy()\n",
    "X_test = X_test_full[my_cols].copy()\n",
    "\n",
    "# One-hot encode the data (to shorten the code, we use pandas)\n",
    "X_train = pd.get_dummies(X_train)\n",
    "X_valid = pd.get_dummies(X_valid)\n",
    "X_test = pd.get_dummies(X_test)\n",
    "X_train, X_valid = X_train.align(X_valid, join='left', axis=1)\n",
    "X_train, X_test = X_train.align(X_test, join='left', axis=1)"
   ]
  },
  {
   "cell_type": "markdown",
   "id": "4bf0c9c0",
   "metadata": {
    "papermill": {
     "duration": 0.003632,
     "end_time": "2022-07-01T18:05:52.445133",
     "exception": false,
     "start_time": "2022-07-01T18:05:52.441501",
     "status": "completed"
    },
    "tags": []
   },
   "source": [
    "# Step 1: Build model\n",
    "\n",
    "### Part A\n",
    "\n",
    "In this step, you'll build and train your first model with gradient boosting.\n",
    "\n",
    "- Begin by setting `my_model_1` to an XGBoost model.  Use the [XGBRegressor](https://xgboost.readthedocs.io/en/latest/python/python_api.html#xgboost.XGBRegressor) class, and set the random seed to 0 (`random_state=0`).  **Leave all other parameters as default.**\n",
    "- Then, fit the model to the training data in `X_train` and `y_train`."
   ]
  },
  {
   "cell_type": "code",
   "execution_count": 3,
   "id": "3e94e0da",
   "metadata": {
    "execution": {
     "iopub.execute_input": "2022-07-01T18:05:52.454876Z",
     "iopub.status.busy": "2022-07-01T18:05:52.453932Z",
     "iopub.status.idle": "2022-07-01T18:05:52.466017Z",
     "shell.execute_reply": "2022-07-01T18:05:52.465352Z"
    },
    "papermill": {
     "duration": 0.019073,
     "end_time": "2022-07-01T18:05:52.467851",
     "exception": false,
     "start_time": "2022-07-01T18:05:52.448778",
     "status": "completed"
    },
    "tags": []
   },
   "outputs": [
    {
     "data": {
      "application/javascript": [
       "parent.postMessage({\"jupyterEvent\": \"custom.exercise_interaction\", \"data\": {\"outcomeType\": 4, \"interactionType\": 1, \"questionType\": 2, \"questionId\": \"1.1_Model1A\", \"learnToolsVersion\": \"0.3.4\", \"valueTowardsCompletion\": 0.0, \"failureMessage\": \"\", \"exceptionClass\": \"\", \"trace\": \"\"}}, \"*\")"
      ],
      "text/plain": [
       "<IPython.core.display.Javascript object>"
      ]
     },
     "metadata": {},
     "output_type": "display_data"
    },
    {
     "data": {
      "text/markdown": [
       "<span style=\"color:#ccaa33\">Check:</span> When you've updated the starter code, `check()` will tell you whether your code is correct. You need to update the code that creates variable `my_model_1`"
      ],
      "text/plain": [
       "Check: When you've updated the starter code, `check()` will tell you whether your code is correct. You need to update the code that creates variable `my_model_1`"
      ]
     },
     "metadata": {},
     "output_type": "display_data"
    }
   ],
   "source": [
    "from xgboost import XGBRegressor\n",
    "\n",
    "# Define the model\n",
    "my_model_1 = ____ # Your code here\n",
    "\n",
    "# Fit the model\n",
    "____ # Your code here\n",
    "\n",
    "# Check your answer\n",
    "step_1.a.check()"
   ]
  },
  {
   "cell_type": "code",
   "execution_count": 4,
   "id": "76043d98",
   "metadata": {
    "execution": {
     "iopub.execute_input": "2022-07-01T18:05:52.477741Z",
     "iopub.status.busy": "2022-07-01T18:05:52.476802Z",
     "iopub.status.idle": "2022-07-01T18:05:52.481367Z",
     "shell.execute_reply": "2022-07-01T18:05:52.480339Z"
    },
    "papermill": {
     "duration": 0.011425,
     "end_time": "2022-07-01T18:05:52.483334",
     "exception": false,
     "start_time": "2022-07-01T18:05:52.471909",
     "status": "completed"
    },
    "tags": []
   },
   "outputs": [],
   "source": [
    "# Lines below will give you a hint or solution code\n",
    "#step_1.a.hint()\n",
    "#step_1.a.solution()"
   ]
  },
  {
   "cell_type": "markdown",
   "id": "90ce169c",
   "metadata": {
    "papermill": {
     "duration": 0.003949,
     "end_time": "2022-07-01T18:05:52.491455",
     "exception": false,
     "start_time": "2022-07-01T18:05:52.487506",
     "status": "completed"
    },
    "tags": []
   },
   "source": [
    "### Part B\n",
    "\n",
    "Set `predictions_1` to the model's predictions for the validation data.  Recall that the validation features are stored in `X_valid`."
   ]
  },
  {
   "cell_type": "code",
   "execution_count": 5,
   "id": "f0f10b54",
   "metadata": {
    "execution": {
     "iopub.execute_input": "2022-07-01T18:05:52.501401Z",
     "iopub.status.busy": "2022-07-01T18:05:52.500772Z",
     "iopub.status.idle": "2022-07-01T18:05:52.507852Z",
     "shell.execute_reply": "2022-07-01T18:05:52.506746Z"
    },
    "papermill": {
     "duration": 0.014157,
     "end_time": "2022-07-01T18:05:52.509661",
     "exception": false,
     "start_time": "2022-07-01T18:05:52.495504",
     "status": "completed"
    },
    "tags": []
   },
   "outputs": [
    {
     "data": {
      "application/javascript": [
       "parent.postMessage({\"jupyterEvent\": \"custom.exercise_interaction\", \"data\": {\"outcomeType\": 4, \"interactionType\": 1, \"questionType\": 2, \"questionId\": \"1.2_Model1B\", \"learnToolsVersion\": \"0.3.4\", \"valueTowardsCompletion\": 0.0, \"failureMessage\": \"\", \"exceptionClass\": \"\", \"trace\": \"\"}}, \"*\")"
      ],
      "text/plain": [
       "<IPython.core.display.Javascript object>"
      ]
     },
     "metadata": {},
     "output_type": "display_data"
    },
    {
     "data": {
      "text/markdown": [
       "<span style=\"color:#ccaa33\">Check:</span> When you've updated the starter code, `check()` will tell you whether your code is correct. You need to update the code that creates variable `predictions_1`"
      ],
      "text/plain": [
       "Check: When you've updated the starter code, `check()` will tell you whether your code is correct. You need to update the code that creates variable `predictions_1`"
      ]
     },
     "metadata": {},
     "output_type": "display_data"
    }
   ],
   "source": [
    "from sklearn.metrics import mean_absolute_error\n",
    "\n",
    "# Get predictions\n",
    "predictions_1 = ____ # Your code here\n",
    "\n",
    "# Check your answer\n",
    "step_1.b.check()"
   ]
  },
  {
   "cell_type": "code",
   "execution_count": 6,
   "id": "51aa0032",
   "metadata": {
    "execution": {
     "iopub.execute_input": "2022-07-01T18:05:52.519927Z",
     "iopub.status.busy": "2022-07-01T18:05:52.519341Z",
     "iopub.status.idle": "2022-07-01T18:05:52.522901Z",
     "shell.execute_reply": "2022-07-01T18:05:52.522016Z"
    },
    "papermill": {
     "duration": 0.010689,
     "end_time": "2022-07-01T18:05:52.524674",
     "exception": false,
     "start_time": "2022-07-01T18:05:52.513985",
     "status": "completed"
    },
    "tags": []
   },
   "outputs": [],
   "source": [
    "# Lines below will give you a hint or solution code\n",
    "#step_1.b.hint()\n",
    "#step_1.b.solution()"
   ]
  },
  {
   "cell_type": "markdown",
   "id": "aa97444b",
   "metadata": {
    "papermill": {
     "duration": 0.004182,
     "end_time": "2022-07-01T18:05:52.533106",
     "exception": false,
     "start_time": "2022-07-01T18:05:52.528924",
     "status": "completed"
    },
    "tags": []
   },
   "source": [
    "### Part C\n",
    "\n",
    "Finally, use the `mean_absolute_error()` function to calculate the mean absolute error (MAE) corresponding to the predictions for the validation set.  Recall that the labels for the validation data are stored in `y_valid`."
   ]
  },
  {
   "cell_type": "code",
   "execution_count": 7,
   "id": "b5882250",
   "metadata": {
    "execution": {
     "iopub.execute_input": "2022-07-01T18:05:52.543743Z",
     "iopub.status.busy": "2022-07-01T18:05:52.543063Z",
     "iopub.status.idle": "2022-07-01T18:05:52.551159Z",
     "shell.execute_reply": "2022-07-01T18:05:52.549993Z"
    },
    "papermill": {
     "duration": 0.015833,
     "end_time": "2022-07-01T18:05:52.553250",
     "exception": false,
     "start_time": "2022-07-01T18:05:52.537417",
     "status": "completed"
    },
    "tags": []
   },
   "outputs": [
    {
     "data": {
      "application/javascript": [
       "parent.postMessage({\"jupyterEvent\": \"custom.exercise_interaction\", \"data\": {\"outcomeType\": 4, \"interactionType\": 1, \"questionType\": 2, \"questionId\": \"1.3_Model1C\", \"learnToolsVersion\": \"0.3.4\", \"valueTowardsCompletion\": 0.0, \"failureMessage\": \"\", \"exceptionClass\": \"\", \"trace\": \"\"}}, \"*\")"
      ],
      "text/plain": [
       "<IPython.core.display.Javascript object>"
      ]
     },
     "metadata": {},
     "output_type": "display_data"
    },
    {
     "data": {
      "text/markdown": [
       "<span style=\"color:#ccaa33\">Check:</span> When you've updated the starter code, `check()` will tell you whether your code is correct. You need to update the code that creates variable `mae_1`"
      ],
      "text/plain": [
       "Check: When you've updated the starter code, `check()` will tell you whether your code is correct. You need to update the code that creates variable `mae_1`"
      ]
     },
     "metadata": {},
     "output_type": "display_data"
    }
   ],
   "source": [
    "# Calculate MAE\n",
    "mae_1 = ____ # Your code here\n",
    "\n",
    "# Uncomment to print MAE\n",
    "# print(\"Mean Absolute Error:\" , mae_1)\n",
    "\n",
    "# Check your answer\n",
    "step_1.c.check()"
   ]
  },
  {
   "cell_type": "code",
   "execution_count": 8,
   "id": "b5f66c25",
   "metadata": {
    "execution": {
     "iopub.execute_input": "2022-07-01T18:05:52.564900Z",
     "iopub.status.busy": "2022-07-01T18:05:52.564271Z",
     "iopub.status.idle": "2022-07-01T18:05:52.567978Z",
     "shell.execute_reply": "2022-07-01T18:05:52.567209Z"
    },
    "papermill": {
     "duration": 0.0116,
     "end_time": "2022-07-01T18:05:52.569829",
     "exception": false,
     "start_time": "2022-07-01T18:05:52.558229",
     "status": "completed"
    },
    "tags": []
   },
   "outputs": [],
   "source": [
    "# Lines below will give you a hint or solution code\n",
    "#step_1.c.hint()\n",
    "#step_1.c.solution()"
   ]
  },
  {
   "cell_type": "markdown",
   "id": "d1f6a454",
   "metadata": {
    "papermill": {
     "duration": 0.004535,
     "end_time": "2022-07-01T18:05:52.579128",
     "exception": false,
     "start_time": "2022-07-01T18:05:52.574593",
     "status": "completed"
    },
    "tags": []
   },
   "source": [
    "# Step 2: Improve the model\n",
    "\n",
    "Now that you've trained a default model as baseline, it's time to tinker with the parameters, to see if you can get better performance!\n",
    "- Begin by setting `my_model_2` to an XGBoost model, using the [XGBRegressor](https://xgboost.readthedocs.io/en/latest/python/python_api.html#xgboost.XGBRegressor) class.  Use what you learned in the previous tutorial to figure out how to change the default parameters (like `n_estimators` and `learning_rate`) to get better results.\n",
    "- Then, fit the model to the training data in `X_train` and `y_train`.\n",
    "- Set `predictions_2` to the model's predictions for the validation data.  Recall that the validation features are stored in `X_valid`.\n",
    "- Finally, use the `mean_absolute_error()` function to calculate the mean absolute error (MAE) corresponding to the predictions on the validation set.  Recall that the labels for the validation data are stored in `y_valid`.\n",
    "\n",
    "In order for this step to be marked correct, your model in `my_model_2` must attain lower MAE than the model in `my_model_1`. "
   ]
  },
  {
   "cell_type": "code",
   "execution_count": 9,
   "id": "62db1d77",
   "metadata": {
    "execution": {
     "iopub.execute_input": "2022-07-01T18:05:52.590209Z",
     "iopub.status.busy": "2022-07-01T18:05:52.589600Z",
     "iopub.status.idle": "2022-07-01T18:05:52.596200Z",
     "shell.execute_reply": "2022-07-01T18:05:52.595578Z"
    },
    "papermill": {
     "duration": 0.014187,
     "end_time": "2022-07-01T18:05:52.597979",
     "exception": false,
     "start_time": "2022-07-01T18:05:52.583792",
     "status": "completed"
    },
    "tags": []
   },
   "outputs": [
    {
     "data": {
      "application/javascript": [
       "parent.postMessage({\"jupyterEvent\": \"custom.exercise_interaction\", \"data\": {\"outcomeType\": 4, \"interactionType\": 1, \"questionType\": 2, \"questionId\": \"2_Model2\", \"learnToolsVersion\": \"0.3.4\", \"valueTowardsCompletion\": 0.0, \"failureMessage\": \"\", \"exceptionClass\": \"\", \"trace\": \"\"}}, \"*\")"
      ],
      "text/plain": [
       "<IPython.core.display.Javascript object>"
      ]
     },
     "metadata": {},
     "output_type": "display_data"
    },
    {
     "data": {
      "text/markdown": [
       "<span style=\"color:#ccaa33\">Check:</span> When you've updated the starter code, `check()` will tell you whether your code is correct. You need to update the code that creates variables `my_model_2`, `predictions_2`, `mae_2`"
      ],
      "text/plain": [
       "Check: When you've updated the starter code, `check()` will tell you whether your code is correct. You need to update the code that creates variables `my_model_2`, `predictions_2`, `mae_2`"
      ]
     },
     "metadata": {},
     "output_type": "display_data"
    }
   ],
   "source": [
    "# Define the model\n",
    "my_model_2 = ____ # Your code here\n",
    "\n",
    "# Fit the model\n",
    "____ # Your code here\n",
    "\n",
    "# Get predictions\n",
    "predictions_2 = ____ # Your code here\n",
    "\n",
    "# Calculate MAE\n",
    "mae_2 = ____ # Your code here\n",
    "\n",
    "# Uncomment to print MAE\n",
    "# print(\"Mean Absolute Error:\" , mae_2)\n",
    "\n",
    "# Check your answer\n",
    "step_2.check()"
   ]
  },
  {
   "cell_type": "code",
   "execution_count": 10,
   "id": "e51363ee",
   "metadata": {
    "execution": {
     "iopub.execute_input": "2022-07-01T18:05:52.609503Z",
     "iopub.status.busy": "2022-07-01T18:05:52.609190Z",
     "iopub.status.idle": "2022-07-01T18:05:52.612429Z",
     "shell.execute_reply": "2022-07-01T18:05:52.611686Z"
    },
    "papermill": {
     "duration": 0.010941,
     "end_time": "2022-07-01T18:05:52.614172",
     "exception": false,
     "start_time": "2022-07-01T18:05:52.603231",
     "status": "completed"
    },
    "tags": []
   },
   "outputs": [],
   "source": [
    "# Lines below will give you a hint or solution code\n",
    "#step_2.hint()\n",
    "#step_2.solution()"
   ]
  },
  {
   "cell_type": "markdown",
   "id": "d286b793",
   "metadata": {
    "papermill": {
     "duration": 0.004715,
     "end_time": "2022-07-01T18:05:52.623725",
     "exception": false,
     "start_time": "2022-07-01T18:05:52.619010",
     "status": "completed"
    },
    "tags": []
   },
   "source": [
    "# Step 3: Break the model\n",
    "\n",
    "In this step, you will create a model that performs worse than the original model in Step 1.  This will help you to develop your intuition for how to set parameters.  You might even find that you accidentally get better performance, which is ultimately a nice problem to have and a valuable learning experience!\n",
    "- Begin by setting `my_model_3` to an XGBoost model, using the [XGBRegressor](https://xgboost.readthedocs.io/en/latest/python/python_api.html#xgboost.XGBRegressor) class.  Use what you learned in the previous tutorial to figure out how to change the default parameters (like `n_estimators` and `learning_rate`) to design a model to get high MAE.\n",
    "- Then, fit the model to the training data in `X_train` and `y_train`.\n",
    "- Set `predictions_3` to the model's predictions for the validation data.  Recall that the validation features are stored in `X_valid`.\n",
    "- Finally, use the `mean_absolute_error()` function to calculate the mean absolute error (MAE) corresponding to the predictions on the validation set.  Recall that the labels for the validation data are stored in `y_valid`.\n",
    "\n",
    "In order for this step to be marked correct, your model in `my_model_3` must attain higher MAE than the model in `my_model_1`. "
   ]
  },
  {
   "cell_type": "code",
   "execution_count": 11,
   "id": "49b4d973",
   "metadata": {
    "execution": {
     "iopub.execute_input": "2022-07-01T18:05:52.635921Z",
     "iopub.status.busy": "2022-07-01T18:05:52.635270Z",
     "iopub.status.idle": "2022-07-01T18:05:52.642140Z",
     "shell.execute_reply": "2022-07-01T18:05:52.641397Z"
    },
    "papermill": {
     "duration": 0.01535,
     "end_time": "2022-07-01T18:05:52.643950",
     "exception": false,
     "start_time": "2022-07-01T18:05:52.628600",
     "status": "completed"
    },
    "tags": []
   },
   "outputs": [
    {
     "data": {
      "application/javascript": [
       "parent.postMessage({\"jupyterEvent\": \"custom.exercise_interaction\", \"data\": {\"outcomeType\": 4, \"interactionType\": 1, \"questionType\": 2, \"questionId\": \"3_Model3\", \"learnToolsVersion\": \"0.3.4\", \"valueTowardsCompletion\": 0.0, \"failureMessage\": \"\", \"exceptionClass\": \"\", \"trace\": \"\"}}, \"*\")"
      ],
      "text/plain": [
       "<IPython.core.display.Javascript object>"
      ]
     },
     "metadata": {},
     "output_type": "display_data"
    },
    {
     "data": {
      "text/markdown": [
       "<span style=\"color:#ccaa33\">Check:</span> When you've updated the starter code, `check()` will tell you whether your code is correct. You need to update the code that creates variables `my_model_3`, `predictions_3`, `mae_3`"
      ],
      "text/plain": [
       "Check: When you've updated the starter code, `check()` will tell you whether your code is correct. You need to update the code that creates variables `my_model_3`, `predictions_3`, `mae_3`"
      ]
     },
     "metadata": {},
     "output_type": "display_data"
    }
   ],
   "source": [
    "# Define the model\n",
    "my_model_3 = ____\n",
    "\n",
    "# Fit the model\n",
    "____ # Your code here\n",
    "\n",
    "# Get predictions\n",
    "predictions_3 = ____\n",
    "\n",
    "# Calculate MAE\n",
    "mae_3 = ____\n",
    "\n",
    "# Uncomment to print MAE\n",
    "# print(\"Mean Absolute Error:\" , mae_3)\n",
    "\n",
    "# Check your answer\n",
    "step_3.check()"
   ]
  },
  {
   "cell_type": "code",
   "execution_count": 12,
   "id": "b9ea59d2",
   "metadata": {
    "execution": {
     "iopub.execute_input": "2022-07-01T18:05:52.656020Z",
     "iopub.status.busy": "2022-07-01T18:05:52.655376Z",
     "iopub.status.idle": "2022-07-01T18:05:52.659443Z",
     "shell.execute_reply": "2022-07-01T18:05:52.658383Z"
    },
    "papermill": {
     "duration": 0.012583,
     "end_time": "2022-07-01T18:05:52.661693",
     "exception": false,
     "start_time": "2022-07-01T18:05:52.649110",
     "status": "completed"
    },
    "tags": []
   },
   "outputs": [],
   "source": [
    "# Lines below will give you a hint or solution code\n",
    "#step_3.hint()\n",
    "#step_3.solution()"
   ]
  },
  {
   "cell_type": "markdown",
   "id": "2fb93ed9",
   "metadata": {
    "papermill": {
     "duration": 0.004853,
     "end_time": "2022-07-01T18:05:52.671800",
     "exception": false,
     "start_time": "2022-07-01T18:05:52.666947",
     "status": "completed"
    },
    "tags": []
   },
   "source": [
    "# Keep going\n",
    "\n",
    "Continue to learn about **[data leakage](https://www.kaggle.com/alexisbcook/data-leakage)**.  This is an important issue for a data scientist to understand, and it has the potential to ruin your models in subtle and dangerous ways!"
   ]
  },
  {
   "cell_type": "markdown",
   "id": "bf06c533",
   "metadata": {
    "papermill": {
     "duration": 0.0051,
     "end_time": "2022-07-01T18:05:52.682234",
     "exception": false,
     "start_time": "2022-07-01T18:05:52.677134",
     "status": "completed"
    },
    "tags": []
   },
   "source": [
    "---\n",
    "\n",
    "\n",
    "\n",
    "\n",
    "*Have questions or comments? Visit the [course discussion forum](https://www.kaggle.com/learn/intermediate-machine-learning/discussion) to chat with other learners.*"
   ]
  }
 ],
 "metadata": {
  "kernelspec": {
   "display_name": "Python 3",
   "language": "python",
   "name": "python3"
  },
  "language_info": {
   "codemirror_mode": {
    "name": "ipython",
    "version": 3
   },
   "file_extension": ".py",
   "mimetype": "text/x-python",
   "name": "python",
   "nbconvert_exporter": "python",
   "pygments_lexer": "ipython3",
   "version": "3.7.12"
  },
  "papermill": {
   "default_parameters": {},
   "duration": 12.590633,
   "end_time": "2022-07-01T18:05:53.410129",
   "environment_variables": {},
   "exception": null,
   "input_path": "__notebook__.ipynb",
   "output_path": "__notebook__.ipynb",
   "parameters": {},
   "start_time": "2022-07-01T18:05:40.819496",
   "version": "2.3.4"
  }
 },
 "nbformat": 4,
 "nbformat_minor": 5
}
