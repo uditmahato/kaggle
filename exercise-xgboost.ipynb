{
 "cells": [
  {
   "cell_type": "markdown",
   "id": "9841c954",
   "metadata": {
    "papermill": {
     "duration": 0.004906,
     "end_time": "2022-07-01T18:06:04.382748",
     "exception": false,
     "start_time": "2022-07-01T18:06:04.377842",
     "status": "completed"
    },
    "tags": []
   },
   "source": [
    "**This notebook is an exercise in the [Intermediate Machine Learning](https://www.kaggle.com/learn/intermediate-machine-learning) course.  You can reference the tutorial at [this link](https://www.kaggle.com/alexisbcook/xgboost).**\n",
    "\n",
    "---\n"
   ]
  },
  {
   "cell_type": "markdown",
   "id": "02d6e72f",
   "metadata": {
    "papermill": {
     "duration": 0.003397,
     "end_time": "2022-07-01T18:06:04.390047",
     "exception": false,
     "start_time": "2022-07-01T18:06:04.386650",
     "status": "completed"
    },
    "tags": []
   },
   "source": [
    "In this exercise, you will use your new knowledge to train a model with **gradient boosting**.\n",
    "\n",
    "# Setup\n",
    "\n",
    "The questions below will give you feedback on your work. Run the following cell to set up the feedback system."
   ]
  },
  {
   "cell_type": "code",
   "execution_count": 1,
   "id": "f1e201ed",
   "metadata": {
    "execution": {
     "iopub.execute_input": "2022-07-01T18:06:04.399484Z",
     "iopub.status.busy": "2022-07-01T18:06:04.398915Z",
     "iopub.status.idle": "2022-07-01T18:06:06.893785Z",
     "shell.execute_reply": "2022-07-01T18:06:06.892735Z"
    },
    "papermill": {
     "duration": 2.502428,
     "end_time": "2022-07-01T18:06:06.896158",
     "exception": false,
     "start_time": "2022-07-01T18:06:04.393730",
     "status": "completed"
    },
    "tags": []
   },
   "outputs": [
    {
     "name": "stdout",
     "output_type": "stream",
     "text": [
      "Setup Complete\n"
     ]
    }
   ],
   "source": [
    "# Set up code checking\n",
    "import os\n",
    "if not os.path.exists(\"../input/train.csv\"):\n",
    "    os.symlink(\"../input/home-data-for-ml-course/train.csv\", \"../input/train.csv\")  \n",
    "    os.symlink(\"../input/home-data-for-ml-course/test.csv\", \"../input/test.csv\") \n",
    "from learntools.core import binder\n",
    "binder.bind(globals())\n",
    "from learntools.ml_intermediate.ex6 import *\n",
    "print(\"Setup Complete\")"
   ]
  },
  {
   "cell_type": "markdown",
   "id": "b0058807",
   "metadata": {
    "papermill": {
     "duration": 0.003592,
     "end_time": "2022-07-01T18:06:06.903692",
     "exception": false,
     "start_time": "2022-07-01T18:06:06.900100",
     "status": "completed"
    },
    "tags": []
   },
   "source": [
    "You will work with the [Housing Prices Competition for Kaggle Learn Users](https://www.kaggle.com/c/home-data-for-ml-course) dataset from the previous exercise. \n",
    "\n",
    "![Ames Housing dataset image](https://i.imgur.com/lTJVG4e.png)\n",
    "\n",
    "Run the next code cell without changes to load the training and validation sets in `X_train`, `X_valid`, `y_train`, and `y_valid`.  The test set is loaded in `X_test`."
   ]
  },
  {
   "cell_type": "code",
   "execution_count": 2,
   "id": "e935c61c",
   "metadata": {
    "execution": {
     "iopub.execute_input": "2022-07-01T18:06:06.913157Z",
     "iopub.status.busy": "2022-07-01T18:06:06.912450Z",
     "iopub.status.idle": "2022-07-01T18:06:07.082053Z",
     "shell.execute_reply": "2022-07-01T18:06:07.080970Z"
    },
    "papermill": {
     "duration": 0.177079,
     "end_time": "2022-07-01T18:06:07.084532",
     "exception": false,
     "start_time": "2022-07-01T18:06:06.907453",
     "status": "completed"
    },
    "tags": []
   },
   "outputs": [],
   "source": [
    "import pandas as pd\n",
    "from sklearn.model_selection import train_test_split\n",
    "\n",
    "# Read the data\n",
    "X = pd.read_csv('../input/train.csv', index_col='Id')\n",
    "X_test_full = pd.read_csv('../input/test.csv', index_col='Id')\n",
    "\n",
    "# Remove rows with missing target, separate target from predictors\n",
    "X.dropna(axis=0, subset=['SalePrice'], inplace=True)\n",
    "y = X.SalePrice              \n",
    "X.drop(['SalePrice'], axis=1, inplace=True)\n",
    "\n",
    "# Break off validation set from training data\n",
    "X_train_full, X_valid_full, y_train, y_valid = train_test_split(X, y, train_size=0.8, test_size=0.2,\n",
    "                                                                random_state=0)\n",
    "\n",
    "# \"Cardinality\" means the number of unique values in a column\n",
    "# Select categorical columns with relatively low cardinality (convenient but arbitrary)\n",
    "low_cardinality_cols = [cname for cname in X_train_full.columns if X_train_full[cname].nunique() < 10 and \n",
    "                        X_train_full[cname].dtype == \"object\"]\n",
    "\n",
    "# Select numeric columns\n",
    "numeric_cols = [cname for cname in X_train_full.columns if X_train_full[cname].dtype in ['int64', 'float64']]\n",
    "\n",
    "# Keep selected columns only\n",
    "my_cols = low_cardinality_cols + numeric_cols\n",
    "X_train = X_train_full[my_cols].copy()\n",
    "X_valid = X_valid_full[my_cols].copy()\n",
    "X_test = X_test_full[my_cols].copy()\n",
    "\n",
    "# One-hot encode the data (to shorten the code, we use pandas)\n",
    "X_train = pd.get_dummies(X_train)\n",
    "X_valid = pd.get_dummies(X_valid)\n",
    "X_test = pd.get_dummies(X_test)\n",
    "X_train, X_valid = X_train.align(X_valid, join='left', axis=1)\n",
    "X_train, X_test = X_train.align(X_test, join='left', axis=1)"
   ]
  },
  {
   "cell_type": "markdown",
   "id": "24214a00",
   "metadata": {
    "papermill": {
     "duration": 0.003769,
     "end_time": "2022-07-01T18:06:07.092308",
     "exception": false,
     "start_time": "2022-07-01T18:06:07.088539",
     "status": "completed"
    },
    "tags": []
   },
   "source": [
    "# Step 1: Build model\n",
    "\n",
    "### Part A\n",
    "\n",
    "In this step, you'll build and train your first model with gradient boosting.\n",
    "\n",
    "- Begin by setting `my_model_1` to an XGBoost model.  Use the [XGBRegressor](https://xgboost.readthedocs.io/en/latest/python/python_api.html#xgboost.XGBRegressor) class, and set the random seed to 0 (`random_state=0`).  **Leave all other parameters as default.**\n",
    "- Then, fit the model to the training data in `X_train` and `y_train`."
   ]
  },
  {
   "cell_type": "code",
   "execution_count": 3,
   "id": "a704cd3d",
   "metadata": {
    "execution": {
     "iopub.execute_input": "2022-07-01T18:06:07.101924Z",
     "iopub.status.busy": "2022-07-01T18:06:07.101552Z",
     "iopub.status.idle": "2022-07-01T18:06:07.112603Z",
     "shell.execute_reply": "2022-07-01T18:06:07.111348Z"
    },
    "papermill": {
     "duration": 0.018347,
     "end_time": "2022-07-01T18:06:07.114605",
     "exception": false,
     "start_time": "2022-07-01T18:06:07.096258",
     "status": "completed"
    },
    "tags": []
   },
   "outputs": [
    {
     "data": {
      "application/javascript": [
       "parent.postMessage({\"jupyterEvent\": \"custom.exercise_interaction\", \"data\": {\"outcomeType\": 4, \"interactionType\": 1, \"questionType\": 2, \"questionId\": \"1.1_Model1A\", \"learnToolsVersion\": \"0.3.4\", \"valueTowardsCompletion\": 0.0, \"failureMessage\": \"\", \"exceptionClass\": \"\", \"trace\": \"\"}}, \"*\")"
      ],
      "text/plain": [
       "<IPython.core.display.Javascript object>"
      ]
     },
     "metadata": {},
     "output_type": "display_data"
    },
    {
     "data": {
      "text/markdown": [
       "<span style=\"color:#ccaa33\">Check:</span> When you've updated the starter code, `check()` will tell you whether your code is correct. You need to update the code that creates variable `my_model_1`"
      ],
      "text/plain": [
       "Check: When you've updated the starter code, `check()` will tell you whether your code is correct. You need to update the code that creates variable `my_model_1`"
      ]
     },
     "metadata": {},
     "output_type": "display_data"
    }
   ],
   "source": [
    "from xgboost import XGBRegressor\n",
    "\n",
    "# Define the model\n",
    "my_model_1 = ____ # Your code here\n",
    "\n",
    "# Fit the model\n",
    "____ # Your code here\n",
    "\n",
    "# Check your answer\n",
    "step_1.a.check()"
   ]
  },
  {
   "cell_type": "code",
   "execution_count": 4,
   "id": "f25e6305",
   "metadata": {
    "execution": {
     "iopub.execute_input": "2022-07-01T18:06:07.124613Z",
     "iopub.status.busy": "2022-07-01T18:06:07.124214Z",
     "iopub.status.idle": "2022-07-01T18:06:07.128910Z",
     "shell.execute_reply": "2022-07-01T18:06:07.127846Z"
    },
    "papermill": {
     "duration": 0.012275,
     "end_time": "2022-07-01T18:06:07.131202",
     "exception": false,
     "start_time": "2022-07-01T18:06:07.118927",
     "status": "completed"
    },
    "tags": []
   },
   "outputs": [],
   "source": [
    "# Lines below will give you a hint or solution code\n",
    "#step_1.a.hint()\n",
    "#step_1.a.solution()"
   ]
  },
  {
   "cell_type": "markdown",
   "id": "45f6f1c1",
   "metadata": {
    "papermill": {
     "duration": 0.003927,
     "end_time": "2022-07-01T18:06:07.139404",
     "exception": false,
     "start_time": "2022-07-01T18:06:07.135477",
     "status": "completed"
    },
    "tags": []
   },
   "source": [
    "### Part B\n",
    "\n",
    "Set `predictions_1` to the model's predictions for the validation data.  Recall that the validation features are stored in `X_valid`."
   ]
  },
  {
   "cell_type": "code",
   "execution_count": 5,
   "id": "5c2a25f7",
   "metadata": {
    "execution": {
     "iopub.execute_input": "2022-07-01T18:06:07.149232Z",
     "iopub.status.busy": "2022-07-01T18:06:07.148856Z",
     "iopub.status.idle": "2022-07-01T18:06:07.157533Z",
     "shell.execute_reply": "2022-07-01T18:06:07.156584Z"
    },
    "papermill": {
     "duration": 0.016034,
     "end_time": "2022-07-01T18:06:07.159547",
     "exception": false,
     "start_time": "2022-07-01T18:06:07.143513",
     "status": "completed"
    },
    "tags": []
   },
   "outputs": [
    {
     "data": {
      "application/javascript": [
       "parent.postMessage({\"jupyterEvent\": \"custom.exercise_interaction\", \"data\": {\"outcomeType\": 4, \"interactionType\": 1, \"questionType\": 2, \"questionId\": \"1.2_Model1B\", \"learnToolsVersion\": \"0.3.4\", \"valueTowardsCompletion\": 0.0, \"failureMessage\": \"\", \"exceptionClass\": \"\", \"trace\": \"\"}}, \"*\")"
      ],
      "text/plain": [
       "<IPython.core.display.Javascript object>"
      ]
     },
     "metadata": {},
     "output_type": "display_data"
    },
    {
     "data": {
      "text/markdown": [
       "<span style=\"color:#ccaa33\">Check:</span> When you've updated the starter code, `check()` will tell you whether your code is correct. You need to update the code that creates variable `predictions_1`"
      ],
      "text/plain": [
       "Check: When you've updated the starter code, `check()` will tell you whether your code is correct. You need to update the code that creates variable `predictions_1`"
      ]
     },
     "metadata": {},
     "output_type": "display_data"
    }
   ],
   "source": [
    "from sklearn.metrics import mean_absolute_error\n",
    "\n",
    "# Get predictions\n",
    "predictions_1 = ____ # Your code here\n",
    "\n",
    "# Check your answer\n",
    "step_1.b.check()"
   ]
  },
  {
   "cell_type": "code",
   "execution_count": 6,
   "id": "22b2764a",
   "metadata": {
    "execution": {
     "iopub.execute_input": "2022-07-01T18:06:07.169752Z",
     "iopub.status.busy": "2022-07-01T18:06:07.169352Z",
     "iopub.status.idle": "2022-07-01T18:06:07.173684Z",
     "shell.execute_reply": "2022-07-01T18:06:07.172662Z"
    },
    "papermill": {
     "duration": 0.011652,
     "end_time": "2022-07-01T18:06:07.175666",
     "exception": false,
     "start_time": "2022-07-01T18:06:07.164014",
     "status": "completed"
    },
    "tags": []
   },
   "outputs": [],
   "source": [
    "# Lines below will give you a hint or solution code\n",
    "#step_1.b.hint()\n",
    "#step_1.b.solution()"
   ]
  },
  {
   "cell_type": "markdown",
   "id": "74e29d22",
   "metadata": {
    "papermill": {
     "duration": 0.004242,
     "end_time": "2022-07-01T18:06:07.184346",
     "exception": false,
     "start_time": "2022-07-01T18:06:07.180104",
     "status": "completed"
    },
    "tags": []
   },
   "source": [
    "### Part C\n",
    "\n",
    "Finally, use the `mean_absolute_error()` function to calculate the mean absolute error (MAE) corresponding to the predictions for the validation set.  Recall that the labels for the validation data are stored in `y_valid`."
   ]
  },
  {
   "cell_type": "code",
   "execution_count": 7,
   "id": "1901aa3d",
   "metadata": {
    "execution": {
     "iopub.execute_input": "2022-07-01T18:06:07.194635Z",
     "iopub.status.busy": "2022-07-01T18:06:07.194240Z",
     "iopub.status.idle": "2022-07-01T18:06:07.202561Z",
     "shell.execute_reply": "2022-07-01T18:06:07.201621Z"
    },
    "papermill": {
     "duration": 0.015855,
     "end_time": "2022-07-01T18:06:07.204598",
     "exception": false,
     "start_time": "2022-07-01T18:06:07.188743",
     "status": "completed"
    },
    "tags": []
   },
   "outputs": [
    {
     "data": {
      "application/javascript": [
       "parent.postMessage({\"jupyterEvent\": \"custom.exercise_interaction\", \"data\": {\"outcomeType\": 4, \"interactionType\": 1, \"questionType\": 2, \"questionId\": \"1.3_Model1C\", \"learnToolsVersion\": \"0.3.4\", \"valueTowardsCompletion\": 0.0, \"failureMessage\": \"\", \"exceptionClass\": \"\", \"trace\": \"\"}}, \"*\")"
      ],
      "text/plain": [
       "<IPython.core.display.Javascript object>"
      ]
     },
     "metadata": {},
     "output_type": "display_data"
    },
    {
     "data": {
      "text/markdown": [
       "<span style=\"color:#ccaa33\">Check:</span> When you've updated the starter code, `check()` will tell you whether your code is correct. You need to update the code that creates variable `mae_1`"
      ],
      "text/plain": [
       "Check: When you've updated the starter code, `check()` will tell you whether your code is correct. You need to update the code that creates variable `mae_1`"
      ]
     },
     "metadata": {},
     "output_type": "display_data"
    }
   ],
   "source": [
    "# Calculate MAE\n",
    "mae_1 = ____ # Your code here\n",
    "\n",
    "# Uncomment to print MAE\n",
    "# print(\"Mean Absolute Error:\" , mae_1)\n",
    "\n",
    "# Check your answer\n",
    "step_1.c.check()"
   ]
  },
  {
   "cell_type": "code",
   "execution_count": 8,
   "id": "6cf92eb4",
   "metadata": {
    "execution": {
     "iopub.execute_input": "2022-07-01T18:06:07.216082Z",
     "iopub.status.busy": "2022-07-01T18:06:07.215741Z",
     "iopub.status.idle": "2022-07-01T18:06:07.219949Z",
     "shell.execute_reply": "2022-07-01T18:06:07.219028Z"
    },
    "papermill": {
     "duration": 0.012423,
     "end_time": "2022-07-01T18:06:07.221985",
     "exception": false,
     "start_time": "2022-07-01T18:06:07.209562",
     "status": "completed"
    },
    "tags": []
   },
   "outputs": [],
   "source": [
    "# Lines below will give you a hint or solution code\n",
    "#step_1.c.hint()\n",
    "#step_1.c.solution()"
   ]
  },
  {
   "cell_type": "markdown",
   "id": "0086cddc",
   "metadata": {
    "papermill": {
     "duration": 0.005307,
     "end_time": "2022-07-01T18:06:07.233098",
     "exception": false,
     "start_time": "2022-07-01T18:06:07.227791",
     "status": "completed"
    },
    "tags": []
   },
   "source": [
    "# Step 2: Improve the model\n",
    "\n",
    "Now that you've trained a default model as baseline, it's time to tinker with the parameters, to see if you can get better performance!\n",
    "- Begin by setting `my_model_2` to an XGBoost model, using the [XGBRegressor](https://xgboost.readthedocs.io/en/latest/python/python_api.html#xgboost.XGBRegressor) class.  Use what you learned in the previous tutorial to figure out how to change the default parameters (like `n_estimators` and `learning_rate`) to get better results.\n",
    "- Then, fit the model to the training data in `X_train` and `y_train`.\n",
    "- Set `predictions_2` to the model's predictions for the validation data.  Recall that the validation features are stored in `X_valid`.\n",
    "- Finally, use the `mean_absolute_error()` function to calculate the mean absolute error (MAE) corresponding to the predictions on the validation set.  Recall that the labels for the validation data are stored in `y_valid`.\n",
    "\n",
    "In order for this step to be marked correct, your model in `my_model_2` must attain lower MAE than the model in `my_model_1`. "
   ]
  },
  {
   "cell_type": "code",
   "execution_count": 9,
   "id": "2893dc06",
   "metadata": {
    "execution": {
     "iopub.execute_input": "2022-07-01T18:06:07.245356Z",
     "iopub.status.busy": "2022-07-01T18:06:07.244425Z",
     "iopub.status.idle": "2022-07-01T18:06:07.252783Z",
     "shell.execute_reply": "2022-07-01T18:06:07.251956Z"
    },
    "papermill": {
     "duration": 0.01652,
     "end_time": "2022-07-01T18:06:07.254674",
     "exception": false,
     "start_time": "2022-07-01T18:06:07.238154",
     "status": "completed"
    },
    "tags": []
   },
   "outputs": [
    {
     "data": {
      "application/javascript": [
       "parent.postMessage({\"jupyterEvent\": \"custom.exercise_interaction\", \"data\": {\"outcomeType\": 4, \"interactionType\": 1, \"questionType\": 2, \"questionId\": \"2_Model2\", \"learnToolsVersion\": \"0.3.4\", \"valueTowardsCompletion\": 0.0, \"failureMessage\": \"\", \"exceptionClass\": \"\", \"trace\": \"\"}}, \"*\")"
      ],
      "text/plain": [
       "<IPython.core.display.Javascript object>"
      ]
     },
     "metadata": {},
     "output_type": "display_data"
    },
    {
     "data": {
      "text/markdown": [
       "<span style=\"color:#ccaa33\">Check:</span> When you've updated the starter code, `check()` will tell you whether your code is correct. You need to update the code that creates variables `my_model_2`, `predictions_2`, `mae_2`"
      ],
      "text/plain": [
       "Check: When you've updated the starter code, `check()` will tell you whether your code is correct. You need to update the code that creates variables `my_model_2`, `predictions_2`, `mae_2`"
      ]
     },
     "metadata": {},
     "output_type": "display_data"
    }
   ],
   "source": [
    "# Define the model\n",
    "my_model_2 = ____ # Your code here\n",
    "\n",
    "# Fit the model\n",
    "____ # Your code here\n",
    "\n",
    "# Get predictions\n",
    "predictions_2 = ____ # Your code here\n",
    "\n",
    "# Calculate MAE\n",
    "mae_2 = ____ # Your code here\n",
    "\n",
    "# Uncomment to print MAE\n",
    "# print(\"Mean Absolute Error:\" , mae_2)\n",
    "\n",
    "# Check your answer\n",
    "step_2.check()"
   ]
  },
  {
   "cell_type": "code",
   "execution_count": 10,
   "id": "97958c19",
   "metadata": {
    "execution": {
     "iopub.execute_input": "2022-07-01T18:06:07.266357Z",
     "iopub.status.busy": "2022-07-01T18:06:07.265971Z",
     "iopub.status.idle": "2022-07-01T18:06:07.269689Z",
     "shell.execute_reply": "2022-07-01T18:06:07.268979Z"
    },
    "papermill": {
     "duration": 0.011575,
     "end_time": "2022-07-01T18:06:07.271404",
     "exception": false,
     "start_time": "2022-07-01T18:06:07.259829",
     "status": "completed"
    },
    "tags": []
   },
   "outputs": [],
   "source": [
    "# Lines below will give you a hint or solution code\n",
    "#step_2.hint()\n",
    "#step_2.solution()"
   ]
  },
  {
   "cell_type": "markdown",
   "id": "f9e8fc57",
   "metadata": {
    "papermill": {
     "duration": 0.004674,
     "end_time": "2022-07-01T18:06:07.281072",
     "exception": false,
     "start_time": "2022-07-01T18:06:07.276398",
     "status": "completed"
    },
    "tags": []
   },
   "source": [
    "# Step 3: Break the model\n",
    "\n",
    "In this step, you will create a model that performs worse than the original model in Step 1.  This will help you to develop your intuition for how to set parameters.  You might even find that you accidentally get better performance, which is ultimately a nice problem to have and a valuable learning experience!\n",
    "- Begin by setting `my_model_3` to an XGBoost model, using the [XGBRegressor](https://xgboost.readthedocs.io/en/latest/python/python_api.html#xgboost.XGBRegressor) class.  Use what you learned in the previous tutorial to figure out how to change the default parameters (like `n_estimators` and `learning_rate`) to design a model to get high MAE.\n",
    "- Then, fit the model to the training data in `X_train` and `y_train`.\n",
    "- Set `predictions_3` to the model's predictions for the validation data.  Recall that the validation features are stored in `X_valid`.\n",
    "- Finally, use the `mean_absolute_error()` function to calculate the mean absolute error (MAE) corresponding to the predictions on the validation set.  Recall that the labels for the validation data are stored in `y_valid`.\n",
    "\n",
    "In order for this step to be marked correct, your model in `my_model_3` must attain higher MAE than the model in `my_model_1`. "
   ]
  },
  {
   "cell_type": "code",
   "execution_count": 11,
   "id": "f710b1ff",
   "metadata": {
    "execution": {
     "iopub.execute_input": "2022-07-01T18:06:07.293015Z",
     "iopub.status.busy": "2022-07-01T18:06:07.292622Z",
     "iopub.status.idle": "2022-07-01T18:06:07.300178Z",
     "shell.execute_reply": "2022-07-01T18:06:07.299178Z"
    },
    "papermill": {
     "duration": 0.016095,
     "end_time": "2022-07-01T18:06:07.302087",
     "exception": false,
     "start_time": "2022-07-01T18:06:07.285992",
     "status": "completed"
    },
    "tags": []
   },
   "outputs": [
    {
     "data": {
      "application/javascript": [
       "parent.postMessage({\"jupyterEvent\": \"custom.exercise_interaction\", \"data\": {\"outcomeType\": 4, \"interactionType\": 1, \"questionType\": 2, \"questionId\": \"3_Model3\", \"learnToolsVersion\": \"0.3.4\", \"valueTowardsCompletion\": 0.0, \"failureMessage\": \"\", \"exceptionClass\": \"\", \"trace\": \"\"}}, \"*\")"
      ],
      "text/plain": [
       "<IPython.core.display.Javascript object>"
      ]
     },
     "metadata": {},
     "output_type": "display_data"
    },
    {
     "data": {
      "text/markdown": [
       "<span style=\"color:#ccaa33\">Check:</span> When you've updated the starter code, `check()` will tell you whether your code is correct. You need to update the code that creates variables `my_model_3`, `predictions_3`, `mae_3`"
      ],
      "text/plain": [
       "Check: When you've updated the starter code, `check()` will tell you whether your code is correct. You need to update the code that creates variables `my_model_3`, `predictions_3`, `mae_3`"
      ]
     },
     "metadata": {},
     "output_type": "display_data"
    }
   ],
   "source": [
    "# Define the model\n",
    "my_model_3 = ____\n",
    "\n",
    "# Fit the model\n",
    "____ # Your code here\n",
    "\n",
    "# Get predictions\n",
    "predictions_3 = ____\n",
    "\n",
    "# Calculate MAE\n",
    "mae_3 = ____\n",
    "\n",
    "# Uncomment to print MAE\n",
    "# print(\"Mean Absolute Error:\" , mae_3)\n",
    "\n",
    "# Check your answer\n",
    "step_3.check()"
   ]
  },
  {
   "cell_type": "code",
   "execution_count": 12,
   "id": "690ebeb3",
   "metadata": {
    "execution": {
     "iopub.execute_input": "2022-07-01T18:06:07.314281Z",
     "iopub.status.busy": "2022-07-01T18:06:07.313931Z",
     "iopub.status.idle": "2022-07-01T18:06:07.317429Z",
     "shell.execute_reply": "2022-07-01T18:06:07.316660Z"
    },
    "papermill": {
     "duration": 0.011816,
     "end_time": "2022-07-01T18:06:07.319166",
     "exception": false,
     "start_time": "2022-07-01T18:06:07.307350",
     "status": "completed"
    },
    "tags": []
   },
   "outputs": [],
   "source": [
    "# Lines below will give you a hint or solution code\n",
    "#step_3.hint()\n",
    "#step_3.solution()"
   ]
  },
  {
   "cell_type": "markdown",
   "id": "6b579ddd",
   "metadata": {
    "papermill": {
     "duration": 0.004951,
     "end_time": "2022-07-01T18:06:07.329405",
     "exception": false,
     "start_time": "2022-07-01T18:06:07.324454",
     "status": "completed"
    },
    "tags": []
   },
   "source": [
    "# Keep going\n",
    "\n",
    "Continue to learn about **[data leakage](https://www.kaggle.com/alexisbcook/data-leakage)**.  This is an important issue for a data scientist to understand, and it has the potential to ruin your models in subtle and dangerous ways!"
   ]
  },
  {
   "cell_type": "markdown",
   "id": "0a3ff4e4",
   "metadata": {
    "papermill": {
     "duration": 0.005166,
     "end_time": "2022-07-01T18:06:07.339852",
     "exception": false,
     "start_time": "2022-07-01T18:06:07.334686",
     "status": "completed"
    },
    "tags": []
   },
   "source": [
    "---\n",
    "\n",
    "\n",
    "\n",
    "\n",
    "*Have questions or comments? Visit the [course discussion forum](https://www.kaggle.com/learn/intermediate-machine-learning/discussion) to chat with other learners.*"
   ]
  }
 ],
 "metadata": {
  "kernelspec": {
   "display_name": "Python 3",
   "language": "python",
   "name": "python3"
  },
  "language_info": {
   "codemirror_mode": {
    "name": "ipython",
    "version": 3
   },
   "file_extension": ".py",
   "mimetype": "text/x-python",
   "name": "python",
   "nbconvert_exporter": "python",
   "pygments_lexer": "ipython3",
   "version": "3.7.12"
  },
  "papermill": {
   "default_parameters": {},
   "duration": 12.441466,
   "end_time": "2022-07-01T18:06:08.066971",
   "environment_variables": {},
   "exception": null,
   "input_path": "__notebook__.ipynb",
   "output_path": "__notebook__.ipynb",
   "parameters": {},
   "start_time": "2022-07-01T18:05:55.625505",
   "version": "2.3.4"
  }
 },
 "nbformat": 4,
 "nbformat_minor": 5
}
