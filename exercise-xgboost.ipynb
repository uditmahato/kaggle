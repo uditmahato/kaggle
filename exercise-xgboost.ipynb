{
 "cells": [
  {
   "cell_type": "markdown",
   "id": "d0928854",
   "metadata": {
    "papermill": {
     "duration": 0.004662,
     "end_time": "2022-07-01T18:05:39.340600",
     "exception": false,
     "start_time": "2022-07-01T18:05:39.335938",
     "status": "completed"
    },
    "tags": []
   },
   "source": [
    "**This notebook is an exercise in the [Intermediate Machine Learning](https://www.kaggle.com/learn/intermediate-machine-learning) course.  You can reference the tutorial at [this link](https://www.kaggle.com/alexisbcook/xgboost).**\n",
    "\n",
    "---\n"
   ]
  },
  {
   "cell_type": "markdown",
   "id": "57e98d98",
   "metadata": {
    "papermill": {
     "duration": 0.003557,
     "end_time": "2022-07-01T18:05:39.348159",
     "exception": false,
     "start_time": "2022-07-01T18:05:39.344602",
     "status": "completed"
    },
    "tags": []
   },
   "source": [
    "In this exercise, you will use your new knowledge to train a model with **gradient boosting**.\n",
    "\n",
    "# Setup\n",
    "\n",
    "The questions below will give you feedback on your work. Run the following cell to set up the feedback system."
   ]
  },
  {
   "cell_type": "code",
   "execution_count": 1,
   "id": "2b27d8fa",
   "metadata": {
    "execution": {
     "iopub.execute_input": "2022-07-01T18:05:39.357689Z",
     "iopub.status.busy": "2022-07-01T18:05:39.357024Z",
     "iopub.status.idle": "2022-07-01T18:05:41.496832Z",
     "shell.execute_reply": "2022-07-01T18:05:41.496089Z"
    },
    "papermill": {
     "duration": 2.147432,
     "end_time": "2022-07-01T18:05:41.499362",
     "exception": false,
     "start_time": "2022-07-01T18:05:39.351930",
     "status": "completed"
    },
    "tags": []
   },
   "outputs": [
    {
     "name": "stdout",
     "output_type": "stream",
     "text": [
      "Setup Complete\n"
     ]
    }
   ],
   "source": [
    "# Set up code checking\n",
    "import os\n",
    "if not os.path.exists(\"../input/train.csv\"):\n",
    "    os.symlink(\"../input/home-data-for-ml-course/train.csv\", \"../input/train.csv\")  \n",
    "    os.symlink(\"../input/home-data-for-ml-course/test.csv\", \"../input/test.csv\") \n",
    "from learntools.core import binder\n",
    "binder.bind(globals())\n",
    "from learntools.ml_intermediate.ex6 import *\n",
    "print(\"Setup Complete\")"
   ]
  },
  {
   "cell_type": "markdown",
   "id": "4078cd46",
   "metadata": {
    "papermill": {
     "duration": 0.00367,
     "end_time": "2022-07-01T18:05:41.507152",
     "exception": false,
     "start_time": "2022-07-01T18:05:41.503482",
     "status": "completed"
    },
    "tags": []
   },
   "source": [
    "You will work with the [Housing Prices Competition for Kaggle Learn Users](https://www.kaggle.com/c/home-data-for-ml-course) dataset from the previous exercise. \n",
    "\n",
    "![Ames Housing dataset image](https://i.imgur.com/lTJVG4e.png)\n",
    "\n",
    "Run the next code cell without changes to load the training and validation sets in `X_train`, `X_valid`, `y_train`, and `y_valid`.  The test set is loaded in `X_test`."
   ]
  },
  {
   "cell_type": "code",
   "execution_count": 2,
   "id": "f5f28201",
   "metadata": {
    "execution": {
     "iopub.execute_input": "2022-07-01T18:05:41.516597Z",
     "iopub.status.busy": "2022-07-01T18:05:41.516040Z",
     "iopub.status.idle": "2022-07-01T18:05:41.661952Z",
     "shell.execute_reply": "2022-07-01T18:05:41.661012Z"
    },
    "papermill": {
     "duration": 0.153364,
     "end_time": "2022-07-01T18:05:41.664338",
     "exception": false,
     "start_time": "2022-07-01T18:05:41.510974",
     "status": "completed"
    },
    "tags": []
   },
   "outputs": [],
   "source": [
    "import pandas as pd\n",
    "from sklearn.model_selection import train_test_split\n",
    "\n",
    "# Read the data\n",
    "X = pd.read_csv('../input/train.csv', index_col='Id')\n",
    "X_test_full = pd.read_csv('../input/test.csv', index_col='Id')\n",
    "\n",
    "# Remove rows with missing target, separate target from predictors\n",
    "X.dropna(axis=0, subset=['SalePrice'], inplace=True)\n",
    "y = X.SalePrice              \n",
    "X.drop(['SalePrice'], axis=1, inplace=True)\n",
    "\n",
    "# Break off validation set from training data\n",
    "X_train_full, X_valid_full, y_train, y_valid = train_test_split(X, y, train_size=0.8, test_size=0.2,\n",
    "                                                                random_state=0)\n",
    "\n",
    "# \"Cardinality\" means the number of unique values in a column\n",
    "# Select categorical columns with relatively low cardinality (convenient but arbitrary)\n",
    "low_cardinality_cols = [cname for cname in X_train_full.columns if X_train_full[cname].nunique() < 10 and \n",
    "                        X_train_full[cname].dtype == \"object\"]\n",
    "\n",
    "# Select numeric columns\n",
    "numeric_cols = [cname for cname in X_train_full.columns if X_train_full[cname].dtype in ['int64', 'float64']]\n",
    "\n",
    "# Keep selected columns only\n",
    "my_cols = low_cardinality_cols + numeric_cols\n",
    "X_train = X_train_full[my_cols].copy()\n",
    "X_valid = X_valid_full[my_cols].copy()\n",
    "X_test = X_test_full[my_cols].copy()\n",
    "\n",
    "# One-hot encode the data (to shorten the code, we use pandas)\n",
    "X_train = pd.get_dummies(X_train)\n",
    "X_valid = pd.get_dummies(X_valid)\n",
    "X_test = pd.get_dummies(X_test)\n",
    "X_train, X_valid = X_train.align(X_valid, join='left', axis=1)\n",
    "X_train, X_test = X_train.align(X_test, join='left', axis=1)"
   ]
  },
  {
   "cell_type": "markdown",
   "id": "93de6b9d",
   "metadata": {
    "papermill": {
     "duration": 0.003715,
     "end_time": "2022-07-01T18:05:41.672177",
     "exception": false,
     "start_time": "2022-07-01T18:05:41.668462",
     "status": "completed"
    },
    "tags": []
   },
   "source": [
    "# Step 1: Build model\n",
    "\n",
    "### Part A\n",
    "\n",
    "In this step, you'll build and train your first model with gradient boosting.\n",
    "\n",
    "- Begin by setting `my_model_1` to an XGBoost model.  Use the [XGBRegressor](https://xgboost.readthedocs.io/en/latest/python/python_api.html#xgboost.XGBRegressor) class, and set the random seed to 0 (`random_state=0`).  **Leave all other parameters as default.**\n",
    "- Then, fit the model to the training data in `X_train` and `y_train`."
   ]
  },
  {
   "cell_type": "code",
   "execution_count": 3,
   "id": "f4a24edf",
   "metadata": {
    "execution": {
     "iopub.execute_input": "2022-07-01T18:05:41.681419Z",
     "iopub.status.busy": "2022-07-01T18:05:41.681036Z",
     "iopub.status.idle": "2022-07-01T18:05:41.692497Z",
     "shell.execute_reply": "2022-07-01T18:05:41.691486Z"
    },
    "papermill": {
     "duration": 0.019034,
     "end_time": "2022-07-01T18:05:41.695051",
     "exception": false,
     "start_time": "2022-07-01T18:05:41.676017",
     "status": "completed"
    },
    "tags": []
   },
   "outputs": [
    {
     "data": {
      "application/javascript": [
       "parent.postMessage({\"jupyterEvent\": \"custom.exercise_interaction\", \"data\": {\"outcomeType\": 4, \"interactionType\": 1, \"questionType\": 2, \"questionId\": \"1.1_Model1A\", \"learnToolsVersion\": \"0.3.4\", \"valueTowardsCompletion\": 0.0, \"failureMessage\": \"\", \"exceptionClass\": \"\", \"trace\": \"\"}}, \"*\")"
      ],
      "text/plain": [
       "<IPython.core.display.Javascript object>"
      ]
     },
     "metadata": {},
     "output_type": "display_data"
    },
    {
     "data": {
      "text/markdown": [
       "<span style=\"color:#ccaa33\">Check:</span> When you've updated the starter code, `check()` will tell you whether your code is correct. You need to update the code that creates variable `my_model_1`"
      ],
      "text/plain": [
       "Check: When you've updated the starter code, `check()` will tell you whether your code is correct. You need to update the code that creates variable `my_model_1`"
      ]
     },
     "metadata": {},
     "output_type": "display_data"
    }
   ],
   "source": [
    "from xgboost import XGBRegressor\n",
    "\n",
    "# Define the model\n",
    "my_model_1 = ____ # Your code here\n",
    "\n",
    "# Fit the model\n",
    "____ # Your code here\n",
    "\n",
    "# Check your answer\n",
    "step_1.a.check()"
   ]
  },
  {
   "cell_type": "code",
   "execution_count": 4,
   "id": "70908fc0",
   "metadata": {
    "execution": {
     "iopub.execute_input": "2022-07-01T18:05:41.710180Z",
     "iopub.status.busy": "2022-07-01T18:05:41.709231Z",
     "iopub.status.idle": "2022-07-01T18:05:41.713103Z",
     "shell.execute_reply": "2022-07-01T18:05:41.712496Z"
    },
    "papermill": {
     "duration": 0.013351,
     "end_time": "2022-07-01T18:05:41.715074",
     "exception": false,
     "start_time": "2022-07-01T18:05:41.701723",
     "status": "completed"
    },
    "tags": []
   },
   "outputs": [],
   "source": [
    "# Lines below will give you a hint or solution code\n",
    "#step_1.a.hint()\n",
    "#step_1.a.solution()"
   ]
  },
  {
   "cell_type": "markdown",
   "id": "e757a8fa",
   "metadata": {
    "papermill": {
     "duration": 0.00648,
     "end_time": "2022-07-01T18:05:41.728263",
     "exception": false,
     "start_time": "2022-07-01T18:05:41.721783",
     "status": "completed"
    },
    "tags": []
   },
   "source": [
    "### Part B\n",
    "\n",
    "Set `predictions_1` to the model's predictions for the validation data.  Recall that the validation features are stored in `X_valid`."
   ]
  },
  {
   "cell_type": "code",
   "execution_count": 5,
   "id": "145d5ee4",
   "metadata": {
    "execution": {
     "iopub.execute_input": "2022-07-01T18:05:41.743300Z",
     "iopub.status.busy": "2022-07-01T18:05:41.742766Z",
     "iopub.status.idle": "2022-07-01T18:05:41.750407Z",
     "shell.execute_reply": "2022-07-01T18:05:41.749624Z"
    },
    "papermill": {
     "duration": 0.017738,
     "end_time": "2022-07-01T18:05:41.752623",
     "exception": false,
     "start_time": "2022-07-01T18:05:41.734885",
     "status": "completed"
    },
    "tags": []
   },
   "outputs": [
    {
     "data": {
      "application/javascript": [
       "parent.postMessage({\"jupyterEvent\": \"custom.exercise_interaction\", \"data\": {\"outcomeType\": 4, \"interactionType\": 1, \"questionType\": 2, \"questionId\": \"1.2_Model1B\", \"learnToolsVersion\": \"0.3.4\", \"valueTowardsCompletion\": 0.0, \"failureMessage\": \"\", \"exceptionClass\": \"\", \"trace\": \"\"}}, \"*\")"
      ],
      "text/plain": [
       "<IPython.core.display.Javascript object>"
      ]
     },
     "metadata": {},
     "output_type": "display_data"
    },
    {
     "data": {
      "text/markdown": [
       "<span style=\"color:#ccaa33\">Check:</span> When you've updated the starter code, `check()` will tell you whether your code is correct. You need to update the code that creates variable `predictions_1`"
      ],
      "text/plain": [
       "Check: When you've updated the starter code, `check()` will tell you whether your code is correct. You need to update the code that creates variable `predictions_1`"
      ]
     },
     "metadata": {},
     "output_type": "display_data"
    }
   ],
   "source": [
    "from sklearn.metrics import mean_absolute_error\n",
    "\n",
    "# Get predictions\n",
    "predictions_1 = ____ # Your code here\n",
    "\n",
    "# Check your answer\n",
    "step_1.b.check()"
   ]
  },
  {
   "cell_type": "code",
   "execution_count": 6,
   "id": "73a2f3a2",
   "metadata": {
    "execution": {
     "iopub.execute_input": "2022-07-01T18:05:41.768269Z",
     "iopub.status.busy": "2022-07-01T18:05:41.767820Z",
     "iopub.status.idle": "2022-07-01T18:05:41.771082Z",
     "shell.execute_reply": "2022-07-01T18:05:41.770498Z"
    },
    "papermill": {
     "duration": 0.013158,
     "end_time": "2022-07-01T18:05:41.773038",
     "exception": false,
     "start_time": "2022-07-01T18:05:41.759880",
     "status": "completed"
    },
    "tags": []
   },
   "outputs": [],
   "source": [
    "# Lines below will give you a hint or solution code\n",
    "#step_1.b.hint()\n",
    "#step_1.b.solution()"
   ]
  },
  {
   "cell_type": "markdown",
   "id": "84466d2c",
   "metadata": {
    "papermill": {
     "duration": 0.006971,
     "end_time": "2022-07-01T18:05:41.787186",
     "exception": false,
     "start_time": "2022-07-01T18:05:41.780215",
     "status": "completed"
    },
    "tags": []
   },
   "source": [
    "### Part C\n",
    "\n",
    "Finally, use the `mean_absolute_error()` function to calculate the mean absolute error (MAE) corresponding to the predictions for the validation set.  Recall that the labels for the validation data are stored in `y_valid`."
   ]
  },
  {
   "cell_type": "code",
   "execution_count": 7,
   "id": "d46d6260",
   "metadata": {
    "execution": {
     "iopub.execute_input": "2022-07-01T18:05:41.803047Z",
     "iopub.status.busy": "2022-07-01T18:05:41.802540Z",
     "iopub.status.idle": "2022-07-01T18:05:41.809438Z",
     "shell.execute_reply": "2022-07-01T18:05:41.808625Z"
    },
    "papermill": {
     "duration": 0.017103,
     "end_time": "2022-07-01T18:05:41.811396",
     "exception": false,
     "start_time": "2022-07-01T18:05:41.794293",
     "status": "completed"
    },
    "tags": []
   },
   "outputs": [
    {
     "data": {
      "application/javascript": [
       "parent.postMessage({\"jupyterEvent\": \"custom.exercise_interaction\", \"data\": {\"outcomeType\": 4, \"interactionType\": 1, \"questionType\": 2, \"questionId\": \"1.3_Model1C\", \"learnToolsVersion\": \"0.3.4\", \"valueTowardsCompletion\": 0.0, \"failureMessage\": \"\", \"exceptionClass\": \"\", \"trace\": \"\"}}, \"*\")"
      ],
      "text/plain": [
       "<IPython.core.display.Javascript object>"
      ]
     },
     "metadata": {},
     "output_type": "display_data"
    },
    {
     "data": {
      "text/markdown": [
       "<span style=\"color:#ccaa33\">Check:</span> When you've updated the starter code, `check()` will tell you whether your code is correct. You need to update the code that creates variable `mae_1`"
      ],
      "text/plain": [
       "Check: When you've updated the starter code, `check()` will tell you whether your code is correct. You need to update the code that creates variable `mae_1`"
      ]
     },
     "metadata": {},
     "output_type": "display_data"
    }
   ],
   "source": [
    "# Calculate MAE\n",
    "mae_1 = ____ # Your code here\n",
    "\n",
    "# Uncomment to print MAE\n",
    "# print(\"Mean Absolute Error:\" , mae_1)\n",
    "\n",
    "# Check your answer\n",
    "step_1.c.check()"
   ]
  },
  {
   "cell_type": "code",
   "execution_count": 8,
   "id": "b7c98ab2",
   "metadata": {
    "execution": {
     "iopub.execute_input": "2022-07-01T18:05:41.828425Z",
     "iopub.status.busy": "2022-07-01T18:05:41.827943Z",
     "iopub.status.idle": "2022-07-01T18:05:41.831227Z",
     "shell.execute_reply": "2022-07-01T18:05:41.830609Z"
    },
    "papermill": {
     "duration": 0.014097,
     "end_time": "2022-07-01T18:05:41.833169",
     "exception": false,
     "start_time": "2022-07-01T18:05:41.819072",
     "status": "completed"
    },
    "tags": []
   },
   "outputs": [],
   "source": [
    "# Lines below will give you a hint or solution code\n",
    "#step_1.c.hint()\n",
    "#step_1.c.solution()"
   ]
  },
  {
   "cell_type": "markdown",
   "id": "ca95a112",
   "metadata": {
    "papermill": {
     "duration": 0.007426,
     "end_time": "2022-07-01T18:05:41.848387",
     "exception": false,
     "start_time": "2022-07-01T18:05:41.840961",
     "status": "completed"
    },
    "tags": []
   },
   "source": [
    "# Step 2: Improve the model\n",
    "\n",
    "Now that you've trained a default model as baseline, it's time to tinker with the parameters, to see if you can get better performance!\n",
    "- Begin by setting `my_model_2` to an XGBoost model, using the [XGBRegressor](https://xgboost.readthedocs.io/en/latest/python/python_api.html#xgboost.XGBRegressor) class.  Use what you learned in the previous tutorial to figure out how to change the default parameters (like `n_estimators` and `learning_rate`) to get better results.\n",
    "- Then, fit the model to the training data in `X_train` and `y_train`.\n",
    "- Set `predictions_2` to the model's predictions for the validation data.  Recall that the validation features are stored in `X_valid`.\n",
    "- Finally, use the `mean_absolute_error()` function to calculate the mean absolute error (MAE) corresponding to the predictions on the validation set.  Recall that the labels for the validation data are stored in `y_valid`.\n",
    "\n",
    "In order for this step to be marked correct, your model in `my_model_2` must attain lower MAE than the model in `my_model_1`. "
   ]
  },
  {
   "cell_type": "code",
   "execution_count": 9,
   "id": "281eeb25",
   "metadata": {
    "execution": {
     "iopub.execute_input": "2022-07-01T18:05:41.865564Z",
     "iopub.status.busy": "2022-07-01T18:05:41.865025Z",
     "iopub.status.idle": "2022-07-01T18:05:41.872477Z",
     "shell.execute_reply": "2022-07-01T18:05:41.871484Z"
    },
    "papermill": {
     "duration": 0.018613,
     "end_time": "2022-07-01T18:05:41.874698",
     "exception": false,
     "start_time": "2022-07-01T18:05:41.856085",
     "status": "completed"
    },
    "tags": []
   },
   "outputs": [
    {
     "data": {
      "application/javascript": [
       "parent.postMessage({\"jupyterEvent\": \"custom.exercise_interaction\", \"data\": {\"outcomeType\": 4, \"interactionType\": 1, \"questionType\": 2, \"questionId\": \"2_Model2\", \"learnToolsVersion\": \"0.3.4\", \"valueTowardsCompletion\": 0.0, \"failureMessage\": \"\", \"exceptionClass\": \"\", \"trace\": \"\"}}, \"*\")"
      ],
      "text/plain": [
       "<IPython.core.display.Javascript object>"
      ]
     },
     "metadata": {},
     "output_type": "display_data"
    },
    {
     "data": {
      "text/markdown": [
       "<span style=\"color:#ccaa33\">Check:</span> When you've updated the starter code, `check()` will tell you whether your code is correct. You need to update the code that creates variables `my_model_2`, `predictions_2`, `mae_2`"
      ],
      "text/plain": [
       "Check: When you've updated the starter code, `check()` will tell you whether your code is correct. You need to update the code that creates variables `my_model_2`, `predictions_2`, `mae_2`"
      ]
     },
     "metadata": {},
     "output_type": "display_data"
    }
   ],
   "source": [
    "# Define the model\n",
    "my_model_2 = ____ # Your code here\n",
    "\n",
    "# Fit the model\n",
    "____ # Your code here\n",
    "\n",
    "# Get predictions\n",
    "predictions_2 = ____ # Your code here\n",
    "\n",
    "# Calculate MAE\n",
    "mae_2 = ____ # Your code here\n",
    "\n",
    "# Uncomment to print MAE\n",
    "# print(\"Mean Absolute Error:\" , mae_2)\n",
    "\n",
    "# Check your answer\n",
    "step_2.check()"
   ]
  },
  {
   "cell_type": "code",
   "execution_count": 10,
   "id": "464b8708",
   "metadata": {
    "execution": {
     "iopub.execute_input": "2022-07-01T18:05:41.892696Z",
     "iopub.status.busy": "2022-07-01T18:05:41.892305Z",
     "iopub.status.idle": "2022-07-01T18:05:41.897058Z",
     "shell.execute_reply": "2022-07-01T18:05:41.895948Z"
    },
    "papermill": {
     "duration": 0.016725,
     "end_time": "2022-07-01T18:05:41.899718",
     "exception": false,
     "start_time": "2022-07-01T18:05:41.882993",
     "status": "completed"
    },
    "tags": []
   },
   "outputs": [],
   "source": [
    "# Lines below will give you a hint or solution code\n",
    "#step_2.hint()\n",
    "#step_2.solution()"
   ]
  },
  {
   "cell_type": "markdown",
   "id": "1a9ce363",
   "metadata": {
    "papermill": {
     "duration": 0.007845,
     "end_time": "2022-07-01T18:05:41.916126",
     "exception": false,
     "start_time": "2022-07-01T18:05:41.908281",
     "status": "completed"
    },
    "tags": []
   },
   "source": [
    "# Step 3: Break the model\n",
    "\n",
    "In this step, you will create a model that performs worse than the original model in Step 1.  This will help you to develop your intuition for how to set parameters.  You might even find that you accidentally get better performance, which is ultimately a nice problem to have and a valuable learning experience!\n",
    "- Begin by setting `my_model_3` to an XGBoost model, using the [XGBRegressor](https://xgboost.readthedocs.io/en/latest/python/python_api.html#xgboost.XGBRegressor) class.  Use what you learned in the previous tutorial to figure out how to change the default parameters (like `n_estimators` and `learning_rate`) to design a model to get high MAE.\n",
    "- Then, fit the model to the training data in `X_train` and `y_train`.\n",
    "- Set `predictions_3` to the model's predictions for the validation data.  Recall that the validation features are stored in `X_valid`.\n",
    "- Finally, use the `mean_absolute_error()` function to calculate the mean absolute error (MAE) corresponding to the predictions on the validation set.  Recall that the labels for the validation data are stored in `y_valid`.\n",
    "\n",
    "In order for this step to be marked correct, your model in `my_model_3` must attain higher MAE than the model in `my_model_1`. "
   ]
  },
  {
   "cell_type": "code",
   "execution_count": 11,
   "id": "b9d4a577",
   "metadata": {
    "execution": {
     "iopub.execute_input": "2022-07-01T18:05:41.935724Z",
     "iopub.status.busy": "2022-07-01T18:05:41.934461Z",
     "iopub.status.idle": "2022-07-01T18:05:41.942999Z",
     "shell.execute_reply": "2022-07-01T18:05:41.942201Z"
    },
    "papermill": {
     "duration": 0.020881,
     "end_time": "2022-07-01T18:05:41.945205",
     "exception": false,
     "start_time": "2022-07-01T18:05:41.924324",
     "status": "completed"
    },
    "tags": []
   },
   "outputs": [
    {
     "data": {
      "application/javascript": [
       "parent.postMessage({\"jupyterEvent\": \"custom.exercise_interaction\", \"data\": {\"outcomeType\": 4, \"interactionType\": 1, \"questionType\": 2, \"questionId\": \"3_Model3\", \"learnToolsVersion\": \"0.3.4\", \"valueTowardsCompletion\": 0.0, \"failureMessage\": \"\", \"exceptionClass\": \"\", \"trace\": \"\"}}, \"*\")"
      ],
      "text/plain": [
       "<IPython.core.display.Javascript object>"
      ]
     },
     "metadata": {},
     "output_type": "display_data"
    },
    {
     "data": {
      "text/markdown": [
       "<span style=\"color:#ccaa33\">Check:</span> When you've updated the starter code, `check()` will tell you whether your code is correct. You need to update the code that creates variables `my_model_3`, `predictions_3`, `mae_3`"
      ],
      "text/plain": [
       "Check: When you've updated the starter code, `check()` will tell you whether your code is correct. You need to update the code that creates variables `my_model_3`, `predictions_3`, `mae_3`"
      ]
     },
     "metadata": {},
     "output_type": "display_data"
    }
   ],
   "source": [
    "# Define the model\n",
    "my_model_3 = ____\n",
    "\n",
    "# Fit the model\n",
    "____ # Your code here\n",
    "\n",
    "# Get predictions\n",
    "predictions_3 = ____\n",
    "\n",
    "# Calculate MAE\n",
    "mae_3 = ____\n",
    "\n",
    "# Uncomment to print MAE\n",
    "# print(\"Mean Absolute Error:\" , mae_3)\n",
    "\n",
    "# Check your answer\n",
    "step_3.check()"
   ]
  },
  {
   "cell_type": "code",
   "execution_count": 12,
   "id": "a87080e7",
   "metadata": {
    "execution": {
     "iopub.execute_input": "2022-07-01T18:05:41.963628Z",
     "iopub.status.busy": "2022-07-01T18:05:41.963001Z",
     "iopub.status.idle": "2022-07-01T18:05:41.966392Z",
     "shell.execute_reply": "2022-07-01T18:05:41.965828Z"
    },
    "papermill": {
     "duration": 0.014462,
     "end_time": "2022-07-01T18:05:41.968336",
     "exception": false,
     "start_time": "2022-07-01T18:05:41.953874",
     "status": "completed"
    },
    "tags": []
   },
   "outputs": [],
   "source": [
    "# Lines below will give you a hint or solution code\n",
    "#step_3.hint()\n",
    "#step_3.solution()"
   ]
  },
  {
   "cell_type": "markdown",
   "id": "8fea61a2",
   "metadata": {
    "papermill": {
     "duration": 0.00814,
     "end_time": "2022-07-01T18:05:41.984888",
     "exception": false,
     "start_time": "2022-07-01T18:05:41.976748",
     "status": "completed"
    },
    "tags": []
   },
   "source": [
    "# Keep going\n",
    "\n",
    "Continue to learn about **[data leakage](https://www.kaggle.com/alexisbcook/data-leakage)**.  This is an important issue for a data scientist to understand, and it has the potential to ruin your models in subtle and dangerous ways!"
   ]
  },
  {
   "cell_type": "markdown",
   "id": "062361ae",
   "metadata": {
    "papermill": {
     "duration": 0.008484,
     "end_time": "2022-07-01T18:05:42.003003",
     "exception": false,
     "start_time": "2022-07-01T18:05:41.994519",
     "status": "completed"
    },
    "tags": []
   },
   "source": [
    "---\n",
    "\n",
    "\n",
    "\n",
    "\n",
    "*Have questions or comments? Visit the [course discussion forum](https://www.kaggle.com/learn/intermediate-machine-learning/discussion) to chat with other learners.*"
   ]
  }
 ],
 "metadata": {
  "kernelspec": {
   "display_name": "Python 3",
   "language": "python",
   "name": "python3"
  },
  "language_info": {
   "codemirror_mode": {
    "name": "ipython",
    "version": 3
   },
   "file_extension": ".py",
   "mimetype": "text/x-python",
   "name": "python",
   "nbconvert_exporter": "python",
   "pygments_lexer": "ipython3",
   "version": "3.7.12"
  },
  "papermill": {
   "default_parameters": {},
   "duration": 13.71465,
   "end_time": "2022-07-01T18:05:42.932848",
   "environment_variables": {},
   "exception": null,
   "input_path": "__notebook__.ipynb",
   "output_path": "__notebook__.ipynb",
   "parameters": {},
   "start_time": "2022-07-01T18:05:29.218198",
   "version": "2.3.4"
  }
 },
 "nbformat": 4,
 "nbformat_minor": 5
}
