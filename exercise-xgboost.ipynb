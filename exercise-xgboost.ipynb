{
 "cells": [
  {
   "cell_type": "markdown",
   "id": "35c65da1",
   "metadata": {
    "papermill": {
     "duration": 0.006354,
     "end_time": "2022-07-01T18:06:00.430684",
     "exception": false,
     "start_time": "2022-07-01T18:06:00.424330",
     "status": "completed"
    },
    "tags": []
   },
   "source": [
    "**This notebook is an exercise in the [Intermediate Machine Learning](https://www.kaggle.com/learn/intermediate-machine-learning) course.  You can reference the tutorial at [this link](https://www.kaggle.com/alexisbcook/xgboost).**\n",
    "\n",
    "---\n"
   ]
  },
  {
   "cell_type": "markdown",
   "id": "57038770",
   "metadata": {
    "papermill": {
     "duration": 0.004897,
     "end_time": "2022-07-01T18:06:00.441022",
     "exception": false,
     "start_time": "2022-07-01T18:06:00.436125",
     "status": "completed"
    },
    "tags": []
   },
   "source": [
    "In this exercise, you will use your new knowledge to train a model with **gradient boosting**.\n",
    "\n",
    "# Setup\n",
    "\n",
    "The questions below will give you feedback on your work. Run the following cell to set up the feedback system."
   ]
  },
  {
   "cell_type": "code",
   "execution_count": 1,
   "id": "d58d7409",
   "metadata": {
    "execution": {
     "iopub.execute_input": "2022-07-01T18:06:00.454504Z",
     "iopub.status.busy": "2022-07-01T18:06:00.453546Z",
     "iopub.status.idle": "2022-07-01T18:06:02.983173Z",
     "shell.execute_reply": "2022-07-01T18:06:02.982200Z"
    },
    "papermill": {
     "duration": 2.539359,
     "end_time": "2022-07-01T18:06:02.985871",
     "exception": false,
     "start_time": "2022-07-01T18:06:00.446512",
     "status": "completed"
    },
    "tags": []
   },
   "outputs": [
    {
     "name": "stdout",
     "output_type": "stream",
     "text": [
      "Setup Complete\n"
     ]
    }
   ],
   "source": [
    "# Set up code checking\n",
    "import os\n",
    "if not os.path.exists(\"../input/train.csv\"):\n",
    "    os.symlink(\"../input/home-data-for-ml-course/train.csv\", \"../input/train.csv\")  \n",
    "    os.symlink(\"../input/home-data-for-ml-course/test.csv\", \"../input/test.csv\") \n",
    "from learntools.core import binder\n",
    "binder.bind(globals())\n",
    "from learntools.ml_intermediate.ex6 import *\n",
    "print(\"Setup Complete\")"
   ]
  },
  {
   "cell_type": "markdown",
   "id": "3753dc50",
   "metadata": {
    "papermill": {
     "duration": 0.004882,
     "end_time": "2022-07-01T18:06:02.997408",
     "exception": false,
     "start_time": "2022-07-01T18:06:02.992526",
     "status": "completed"
    },
    "tags": []
   },
   "source": [
    "You will work with the [Housing Prices Competition for Kaggle Learn Users](https://www.kaggle.com/c/home-data-for-ml-course) dataset from the previous exercise. \n",
    "\n",
    "![Ames Housing dataset image](https://i.imgur.com/lTJVG4e.png)\n",
    "\n",
    "Run the next code cell without changes to load the training and validation sets in `X_train`, `X_valid`, `y_train`, and `y_valid`.  The test set is loaded in `X_test`."
   ]
  },
  {
   "cell_type": "code",
   "execution_count": 2,
   "id": "3fdf626a",
   "metadata": {
    "execution": {
     "iopub.execute_input": "2022-07-01T18:06:03.010718Z",
     "iopub.status.busy": "2022-07-01T18:06:03.010327Z",
     "iopub.status.idle": "2022-07-01T18:06:03.222636Z",
     "shell.execute_reply": "2022-07-01T18:06:03.220619Z"
    },
    "papermill": {
     "duration": 0.222317,
     "end_time": "2022-07-01T18:06:03.225497",
     "exception": false,
     "start_time": "2022-07-01T18:06:03.003180",
     "status": "completed"
    },
    "tags": []
   },
   "outputs": [],
   "source": [
    "import pandas as pd\n",
    "from sklearn.model_selection import train_test_split\n",
    "\n",
    "# Read the data\n",
    "X = pd.read_csv('../input/train.csv', index_col='Id')\n",
    "X_test_full = pd.read_csv('../input/test.csv', index_col='Id')\n",
    "\n",
    "# Remove rows with missing target, separate target from predictors\n",
    "X.dropna(axis=0, subset=['SalePrice'], inplace=True)\n",
    "y = X.SalePrice              \n",
    "X.drop(['SalePrice'], axis=1, inplace=True)\n",
    "\n",
    "# Break off validation set from training data\n",
    "X_train_full, X_valid_full, y_train, y_valid = train_test_split(X, y, train_size=0.8, test_size=0.2,\n",
    "                                                                random_state=0)\n",
    "\n",
    "# \"Cardinality\" means the number of unique values in a column\n",
    "# Select categorical columns with relatively low cardinality (convenient but arbitrary)\n",
    "low_cardinality_cols = [cname for cname in X_train_full.columns if X_train_full[cname].nunique() < 10 and \n",
    "                        X_train_full[cname].dtype == \"object\"]\n",
    "\n",
    "# Select numeric columns\n",
    "numeric_cols = [cname for cname in X_train_full.columns if X_train_full[cname].dtype in ['int64', 'float64']]\n",
    "\n",
    "# Keep selected columns only\n",
    "my_cols = low_cardinality_cols + numeric_cols\n",
    "X_train = X_train_full[my_cols].copy()\n",
    "X_valid = X_valid_full[my_cols].copy()\n",
    "X_test = X_test_full[my_cols].copy()\n",
    "\n",
    "# One-hot encode the data (to shorten the code, we use pandas)\n",
    "X_train = pd.get_dummies(X_train)\n",
    "X_valid = pd.get_dummies(X_valid)\n",
    "X_test = pd.get_dummies(X_test)\n",
    "X_train, X_valid = X_train.align(X_valid, join='left', axis=1)\n",
    "X_train, X_test = X_train.align(X_test, join='left', axis=1)"
   ]
  },
  {
   "cell_type": "markdown",
   "id": "aa26e050",
   "metadata": {
    "papermill": {
     "duration": 0.005178,
     "end_time": "2022-07-01T18:06:03.236090",
     "exception": false,
     "start_time": "2022-07-01T18:06:03.230912",
     "status": "completed"
    },
    "tags": []
   },
   "source": [
    "# Step 1: Build model\n",
    "\n",
    "### Part A\n",
    "\n",
    "In this step, you'll build and train your first model with gradient boosting.\n",
    "\n",
    "- Begin by setting `my_model_1` to an XGBoost model.  Use the [XGBRegressor](https://xgboost.readthedocs.io/en/latest/python/python_api.html#xgboost.XGBRegressor) class, and set the random seed to 0 (`random_state=0`).  **Leave all other parameters as default.**\n",
    "- Then, fit the model to the training data in `X_train` and `y_train`."
   ]
  },
  {
   "cell_type": "code",
   "execution_count": 3,
   "id": "58dd3f34",
   "metadata": {
    "execution": {
     "iopub.execute_input": "2022-07-01T18:06:03.250003Z",
     "iopub.status.busy": "2022-07-01T18:06:03.248593Z",
     "iopub.status.idle": "2022-07-01T18:06:03.260853Z",
     "shell.execute_reply": "2022-07-01T18:06:03.259762Z"
    },
    "papermill": {
     "duration": 0.021735,
     "end_time": "2022-07-01T18:06:03.263321",
     "exception": false,
     "start_time": "2022-07-01T18:06:03.241586",
     "status": "completed"
    },
    "tags": []
   },
   "outputs": [
    {
     "data": {
      "application/javascript": [
       "parent.postMessage({\"jupyterEvent\": \"custom.exercise_interaction\", \"data\": {\"outcomeType\": 4, \"interactionType\": 1, \"questionType\": 2, \"questionId\": \"1.1_Model1A\", \"learnToolsVersion\": \"0.3.4\", \"valueTowardsCompletion\": 0.0, \"failureMessage\": \"\", \"exceptionClass\": \"\", \"trace\": \"\"}}, \"*\")"
      ],
      "text/plain": [
       "<IPython.core.display.Javascript object>"
      ]
     },
     "metadata": {},
     "output_type": "display_data"
    },
    {
     "data": {
      "text/markdown": [
       "<span style=\"color:#ccaa33\">Check:</span> When you've updated the starter code, `check()` will tell you whether your code is correct. You need to update the code that creates variable `my_model_1`"
      ],
      "text/plain": [
       "Check: When you've updated the starter code, `check()` will tell you whether your code is correct. You need to update the code that creates variable `my_model_1`"
      ]
     },
     "metadata": {},
     "output_type": "display_data"
    }
   ],
   "source": [
    "from xgboost import XGBRegressor\n",
    "\n",
    "# Define the model\n",
    "my_model_1 = ____ # Your code here\n",
    "\n",
    "# Fit the model\n",
    "____ # Your code here\n",
    "\n",
    "# Check your answer\n",
    "step_1.a.check()"
   ]
  },
  {
   "cell_type": "code",
   "execution_count": 4,
   "id": "19c764b9",
   "metadata": {
    "execution": {
     "iopub.execute_input": "2022-07-01T18:06:03.276887Z",
     "iopub.status.busy": "2022-07-01T18:06:03.276453Z",
     "iopub.status.idle": "2022-07-01T18:06:03.280469Z",
     "shell.execute_reply": "2022-07-01T18:06:03.279672Z"
    },
    "papermill": {
     "duration": 0.013864,
     "end_time": "2022-07-01T18:06:03.282925",
     "exception": false,
     "start_time": "2022-07-01T18:06:03.269061",
     "status": "completed"
    },
    "tags": []
   },
   "outputs": [],
   "source": [
    "# Lines below will give you a hint or solution code\n",
    "#step_1.a.hint()\n",
    "#step_1.a.solution()"
   ]
  },
  {
   "cell_type": "markdown",
   "id": "c7ee4e05",
   "metadata": {
    "papermill": {
     "duration": 0.005824,
     "end_time": "2022-07-01T18:06:03.295008",
     "exception": false,
     "start_time": "2022-07-01T18:06:03.289184",
     "status": "completed"
    },
    "tags": []
   },
   "source": [
    "### Part B\n",
    "\n",
    "Set `predictions_1` to the model's predictions for the validation data.  Recall that the validation features are stored in `X_valid`."
   ]
  },
  {
   "cell_type": "code",
   "execution_count": 5,
   "id": "e7008a7e",
   "metadata": {
    "execution": {
     "iopub.execute_input": "2022-07-01T18:06:03.309609Z",
     "iopub.status.busy": "2022-07-01T18:06:03.308843Z",
     "iopub.status.idle": "2022-07-01T18:06:03.318764Z",
     "shell.execute_reply": "2022-07-01T18:06:03.317685Z"
    },
    "papermill": {
     "duration": 0.019977,
     "end_time": "2022-07-01T18:06:03.321049",
     "exception": false,
     "start_time": "2022-07-01T18:06:03.301072",
     "status": "completed"
    },
    "tags": []
   },
   "outputs": [
    {
     "data": {
      "application/javascript": [
       "parent.postMessage({\"jupyterEvent\": \"custom.exercise_interaction\", \"data\": {\"outcomeType\": 4, \"interactionType\": 1, \"questionType\": 2, \"questionId\": \"1.2_Model1B\", \"learnToolsVersion\": \"0.3.4\", \"valueTowardsCompletion\": 0.0, \"failureMessage\": \"\", \"exceptionClass\": \"\", \"trace\": \"\"}}, \"*\")"
      ],
      "text/plain": [
       "<IPython.core.display.Javascript object>"
      ]
     },
     "metadata": {},
     "output_type": "display_data"
    },
    {
     "data": {
      "text/markdown": [
       "<span style=\"color:#ccaa33\">Check:</span> When you've updated the starter code, `check()` will tell you whether your code is correct. You need to update the code that creates variable `predictions_1`"
      ],
      "text/plain": [
       "Check: When you've updated the starter code, `check()` will tell you whether your code is correct. You need to update the code that creates variable `predictions_1`"
      ]
     },
     "metadata": {},
     "output_type": "display_data"
    }
   ],
   "source": [
    "from sklearn.metrics import mean_absolute_error\n",
    "\n",
    "# Get predictions\n",
    "predictions_1 = ____ # Your code here\n",
    "\n",
    "# Check your answer\n",
    "step_1.b.check()"
   ]
  },
  {
   "cell_type": "code",
   "execution_count": 6,
   "id": "63fe38d1",
   "metadata": {
    "execution": {
     "iopub.execute_input": "2022-07-01T18:06:03.336273Z",
     "iopub.status.busy": "2022-07-01T18:06:03.335518Z",
     "iopub.status.idle": "2022-07-01T18:06:03.340741Z",
     "shell.execute_reply": "2022-07-01T18:06:03.339726Z"
    },
    "papermill": {
     "duration": 0.01574,
     "end_time": "2022-07-01T18:06:03.343187",
     "exception": false,
     "start_time": "2022-07-01T18:06:03.327447",
     "status": "completed"
    },
    "tags": []
   },
   "outputs": [],
   "source": [
    "# Lines below will give you a hint or solution code\n",
    "#step_1.b.hint()\n",
    "#step_1.b.solution()"
   ]
  },
  {
   "cell_type": "markdown",
   "id": "199b712f",
   "metadata": {
    "papermill": {
     "duration": 0.006116,
     "end_time": "2022-07-01T18:06:03.356018",
     "exception": false,
     "start_time": "2022-07-01T18:06:03.349902",
     "status": "completed"
    },
    "tags": []
   },
   "source": [
    "### Part C\n",
    "\n",
    "Finally, use the `mean_absolute_error()` function to calculate the mean absolute error (MAE) corresponding to the predictions for the validation set.  Recall that the labels for the validation data are stored in `y_valid`."
   ]
  },
  {
   "cell_type": "code",
   "execution_count": 7,
   "id": "3546b474",
   "metadata": {
    "execution": {
     "iopub.execute_input": "2022-07-01T18:06:03.370746Z",
     "iopub.status.busy": "2022-07-01T18:06:03.370083Z",
     "iopub.status.idle": "2022-07-01T18:06:03.379434Z",
     "shell.execute_reply": "2022-07-01T18:06:03.378311Z"
    },
    "papermill": {
     "duration": 0.019429,
     "end_time": "2022-07-01T18:06:03.381820",
     "exception": false,
     "start_time": "2022-07-01T18:06:03.362391",
     "status": "completed"
    },
    "tags": []
   },
   "outputs": [
    {
     "data": {
      "application/javascript": [
       "parent.postMessage({\"jupyterEvent\": \"custom.exercise_interaction\", \"data\": {\"outcomeType\": 4, \"interactionType\": 1, \"questionType\": 2, \"questionId\": \"1.3_Model1C\", \"learnToolsVersion\": \"0.3.4\", \"valueTowardsCompletion\": 0.0, \"failureMessage\": \"\", \"exceptionClass\": \"\", \"trace\": \"\"}}, \"*\")"
      ],
      "text/plain": [
       "<IPython.core.display.Javascript object>"
      ]
     },
     "metadata": {},
     "output_type": "display_data"
    },
    {
     "data": {
      "text/markdown": [
       "<span style=\"color:#ccaa33\">Check:</span> When you've updated the starter code, `check()` will tell you whether your code is correct. You need to update the code that creates variable `mae_1`"
      ],
      "text/plain": [
       "Check: When you've updated the starter code, `check()` will tell you whether your code is correct. You need to update the code that creates variable `mae_1`"
      ]
     },
     "metadata": {},
     "output_type": "display_data"
    }
   ],
   "source": [
    "# Calculate MAE\n",
    "mae_1 = ____ # Your code here\n",
    "\n",
    "# Uncomment to print MAE\n",
    "# print(\"Mean Absolute Error:\" , mae_1)\n",
    "\n",
    "# Check your answer\n",
    "step_1.c.check()"
   ]
  },
  {
   "cell_type": "code",
   "execution_count": 8,
   "id": "23437474",
   "metadata": {
    "execution": {
     "iopub.execute_input": "2022-07-01T18:06:03.397442Z",
     "iopub.status.busy": "2022-07-01T18:06:03.397042Z",
     "iopub.status.idle": "2022-07-01T18:06:03.402030Z",
     "shell.execute_reply": "2022-07-01T18:06:03.400700Z"
    },
    "papermill": {
     "duration": 0.015952,
     "end_time": "2022-07-01T18:06:03.404642",
     "exception": false,
     "start_time": "2022-07-01T18:06:03.388690",
     "status": "completed"
    },
    "tags": []
   },
   "outputs": [],
   "source": [
    "# Lines below will give you a hint or solution code\n",
    "#step_1.c.hint()\n",
    "#step_1.c.solution()"
   ]
  },
  {
   "cell_type": "markdown",
   "id": "458c7153",
   "metadata": {
    "papermill": {
     "duration": 0.006505,
     "end_time": "2022-07-01T18:06:03.418278",
     "exception": false,
     "start_time": "2022-07-01T18:06:03.411773",
     "status": "completed"
    },
    "tags": []
   },
   "source": [
    "# Step 2: Improve the model\n",
    "\n",
    "Now that you've trained a default model as baseline, it's time to tinker with the parameters, to see if you can get better performance!\n",
    "- Begin by setting `my_model_2` to an XGBoost model, using the [XGBRegressor](https://xgboost.readthedocs.io/en/latest/python/python_api.html#xgboost.XGBRegressor) class.  Use what you learned in the previous tutorial to figure out how to change the default parameters (like `n_estimators` and `learning_rate`) to get better results.\n",
    "- Then, fit the model to the training data in `X_train` and `y_train`.\n",
    "- Set `predictions_2` to the model's predictions for the validation data.  Recall that the validation features are stored in `X_valid`.\n",
    "- Finally, use the `mean_absolute_error()` function to calculate the mean absolute error (MAE) corresponding to the predictions on the validation set.  Recall that the labels for the validation data are stored in `y_valid`.\n",
    "\n",
    "In order for this step to be marked correct, your model in `my_model_2` must attain lower MAE than the model in `my_model_1`. "
   ]
  },
  {
   "cell_type": "code",
   "execution_count": 9,
   "id": "b6872f9b",
   "metadata": {
    "execution": {
     "iopub.execute_input": "2022-07-01T18:06:03.434136Z",
     "iopub.status.busy": "2022-07-01T18:06:03.433767Z",
     "iopub.status.idle": "2022-07-01T18:06:03.443902Z",
     "shell.execute_reply": "2022-07-01T18:06:03.442698Z"
    },
    "papermill": {
     "duration": 0.02119,
     "end_time": "2022-07-01T18:06:03.446403",
     "exception": false,
     "start_time": "2022-07-01T18:06:03.425213",
     "status": "completed"
    },
    "tags": []
   },
   "outputs": [
    {
     "data": {
      "application/javascript": [
       "parent.postMessage({\"jupyterEvent\": \"custom.exercise_interaction\", \"data\": {\"outcomeType\": 4, \"interactionType\": 1, \"questionType\": 2, \"questionId\": \"2_Model2\", \"learnToolsVersion\": \"0.3.4\", \"valueTowardsCompletion\": 0.0, \"failureMessage\": \"\", \"exceptionClass\": \"\", \"trace\": \"\"}}, \"*\")"
      ],
      "text/plain": [
       "<IPython.core.display.Javascript object>"
      ]
     },
     "metadata": {},
     "output_type": "display_data"
    },
    {
     "data": {
      "text/markdown": [
       "<span style=\"color:#ccaa33\">Check:</span> When you've updated the starter code, `check()` will tell you whether your code is correct. You need to update the code that creates variables `my_model_2`, `predictions_2`, `mae_2`"
      ],
      "text/plain": [
       "Check: When you've updated the starter code, `check()` will tell you whether your code is correct. You need to update the code that creates variables `my_model_2`, `predictions_2`, `mae_2`"
      ]
     },
     "metadata": {},
     "output_type": "display_data"
    }
   ],
   "source": [
    "# Define the model\n",
    "my_model_2 = ____ # Your code here\n",
    "\n",
    "# Fit the model\n",
    "____ # Your code here\n",
    "\n",
    "# Get predictions\n",
    "predictions_2 = ____ # Your code here\n",
    "\n",
    "# Calculate MAE\n",
    "mae_2 = ____ # Your code here\n",
    "\n",
    "# Uncomment to print MAE\n",
    "# print(\"Mean Absolute Error:\" , mae_2)\n",
    "\n",
    "# Check your answer\n",
    "step_2.check()"
   ]
  },
  {
   "cell_type": "code",
   "execution_count": 10,
   "id": "8fff76e4",
   "metadata": {
    "execution": {
     "iopub.execute_input": "2022-07-01T18:06:03.464097Z",
     "iopub.status.busy": "2022-07-01T18:06:03.463670Z",
     "iopub.status.idle": "2022-07-01T18:06:03.468836Z",
     "shell.execute_reply": "2022-07-01T18:06:03.467440Z"
    },
    "papermill": {
     "duration": 0.016892,
     "end_time": "2022-07-01T18:06:03.471465",
     "exception": false,
     "start_time": "2022-07-01T18:06:03.454573",
     "status": "completed"
    },
    "tags": []
   },
   "outputs": [],
   "source": [
    "# Lines below will give you a hint or solution code\n",
    "#step_2.hint()\n",
    "#step_2.solution()"
   ]
  },
  {
   "cell_type": "markdown",
   "id": "1c75fe72",
   "metadata": {
    "papermill": {
     "duration": 0.006907,
     "end_time": "2022-07-01T18:06:03.485628",
     "exception": false,
     "start_time": "2022-07-01T18:06:03.478721",
     "status": "completed"
    },
    "tags": []
   },
   "source": [
    "# Step 3: Break the model\n",
    "\n",
    "In this step, you will create a model that performs worse than the original model in Step 1.  This will help you to develop your intuition for how to set parameters.  You might even find that you accidentally get better performance, which is ultimately a nice problem to have and a valuable learning experience!\n",
    "- Begin by setting `my_model_3` to an XGBoost model, using the [XGBRegressor](https://xgboost.readthedocs.io/en/latest/python/python_api.html#xgboost.XGBRegressor) class.  Use what you learned in the previous tutorial to figure out how to change the default parameters (like `n_estimators` and `learning_rate`) to design a model to get high MAE.\n",
    "- Then, fit the model to the training data in `X_train` and `y_train`.\n",
    "- Set `predictions_3` to the model's predictions for the validation data.  Recall that the validation features are stored in `X_valid`.\n",
    "- Finally, use the `mean_absolute_error()` function to calculate the mean absolute error (MAE) corresponding to the predictions on the validation set.  Recall that the labels for the validation data are stored in `y_valid`.\n",
    "\n",
    "In order for this step to be marked correct, your model in `my_model_3` must attain higher MAE than the model in `my_model_1`. "
   ]
  },
  {
   "cell_type": "code",
   "execution_count": 11,
   "id": "12c7231e",
   "metadata": {
    "execution": {
     "iopub.execute_input": "2022-07-01T18:06:03.503167Z",
     "iopub.status.busy": "2022-07-01T18:06:03.502763Z",
     "iopub.status.idle": "2022-07-01T18:06:03.513385Z",
     "shell.execute_reply": "2022-07-01T18:06:03.512070Z"
    },
    "papermill": {
     "duration": 0.02252,
     "end_time": "2022-07-01T18:06:03.515559",
     "exception": false,
     "start_time": "2022-07-01T18:06:03.493039",
     "status": "completed"
    },
    "tags": []
   },
   "outputs": [
    {
     "data": {
      "application/javascript": [
       "parent.postMessage({\"jupyterEvent\": \"custom.exercise_interaction\", \"data\": {\"outcomeType\": 4, \"interactionType\": 1, \"questionType\": 2, \"questionId\": \"3_Model3\", \"learnToolsVersion\": \"0.3.4\", \"valueTowardsCompletion\": 0.0, \"failureMessage\": \"\", \"exceptionClass\": \"\", \"trace\": \"\"}}, \"*\")"
      ],
      "text/plain": [
       "<IPython.core.display.Javascript object>"
      ]
     },
     "metadata": {},
     "output_type": "display_data"
    },
    {
     "data": {
      "text/markdown": [
       "<span style=\"color:#ccaa33\">Check:</span> When you've updated the starter code, `check()` will tell you whether your code is correct. You need to update the code that creates variables `my_model_3`, `predictions_3`, `mae_3`"
      ],
      "text/plain": [
       "Check: When you've updated the starter code, `check()` will tell you whether your code is correct. You need to update the code that creates variables `my_model_3`, `predictions_3`, `mae_3`"
      ]
     },
     "metadata": {},
     "output_type": "display_data"
    }
   ],
   "source": [
    "# Define the model\n",
    "my_model_3 = ____\n",
    "\n",
    "# Fit the model\n",
    "____ # Your code here\n",
    "\n",
    "# Get predictions\n",
    "predictions_3 = ____\n",
    "\n",
    "# Calculate MAE\n",
    "mae_3 = ____\n",
    "\n",
    "# Uncomment to print MAE\n",
    "# print(\"Mean Absolute Error:\" , mae_3)\n",
    "\n",
    "# Check your answer\n",
    "step_3.check()"
   ]
  },
  {
   "cell_type": "code",
   "execution_count": 12,
   "id": "5a606232",
   "metadata": {
    "execution": {
     "iopub.execute_input": "2022-07-01T18:06:03.532064Z",
     "iopub.status.busy": "2022-07-01T18:06:03.531693Z",
     "iopub.status.idle": "2022-07-01T18:06:03.536968Z",
     "shell.execute_reply": "2022-07-01T18:06:03.535724Z"
    },
    "papermill": {
     "duration": 0.016458,
     "end_time": "2022-07-01T18:06:03.539322",
     "exception": false,
     "start_time": "2022-07-01T18:06:03.522864",
     "status": "completed"
    },
    "tags": []
   },
   "outputs": [],
   "source": [
    "# Lines below will give you a hint or solution code\n",
    "#step_3.hint()\n",
    "#step_3.solution()"
   ]
  },
  {
   "cell_type": "markdown",
   "id": "7f315b09",
   "metadata": {
    "papermill": {
     "duration": 0.007379,
     "end_time": "2022-07-01T18:06:03.554346",
     "exception": false,
     "start_time": "2022-07-01T18:06:03.546967",
     "status": "completed"
    },
    "tags": []
   },
   "source": [
    "# Keep going\n",
    "\n",
    "Continue to learn about **[data leakage](https://www.kaggle.com/alexisbcook/data-leakage)**.  This is an important issue for a data scientist to understand, and it has the potential to ruin your models in subtle and dangerous ways!"
   ]
  },
  {
   "cell_type": "markdown",
   "id": "d42d8b1b",
   "metadata": {
    "papermill": {
     "duration": 0.007097,
     "end_time": "2022-07-01T18:06:03.569128",
     "exception": false,
     "start_time": "2022-07-01T18:06:03.562031",
     "status": "completed"
    },
    "tags": []
   },
   "source": [
    "---\n",
    "\n",
    "\n",
    "\n",
    "\n",
    "*Have questions or comments? Visit the [course discussion forum](https://www.kaggle.com/learn/intermediate-machine-learning/discussion) to chat with other learners.*"
   ]
  }
 ],
 "metadata": {
  "kernelspec": {
   "display_name": "Python 3",
   "language": "python",
   "name": "python3"
  },
  "language_info": {
   "codemirror_mode": {
    "name": "ipython",
    "version": 3
   },
   "file_extension": ".py",
   "mimetype": "text/x-python",
   "name": "python",
   "nbconvert_exporter": "python",
   "pygments_lexer": "ipython3",
   "version": "3.7.12"
  },
  "papermill": {
   "default_parameters": {},
   "duration": 14.34013,
   "end_time": "2022-07-01T18:06:04.599485",
   "environment_variables": {},
   "exception": null,
   "input_path": "__notebook__.ipynb",
   "output_path": "__notebook__.ipynb",
   "parameters": {},
   "start_time": "2022-07-01T18:05:50.259355",
   "version": "2.3.4"
  }
 },
 "nbformat": 4,
 "nbformat_minor": 5
}
