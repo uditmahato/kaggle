{
 "cells": [
  {
   "cell_type": "markdown",
   "id": "49af498e",
   "metadata": {
    "papermill": {
     "duration": 0.006227,
     "end_time": "2022-07-01T18:05:43.874129",
     "exception": false,
     "start_time": "2022-07-01T18:05:43.867902",
     "status": "completed"
    },
    "tags": []
   },
   "source": [
    "**This notebook is an exercise in the [Intermediate Machine Learning](https://www.kaggle.com/learn/intermediate-machine-learning) course.  You can reference the tutorial at [this link](https://www.kaggle.com/alexisbcook/xgboost).**\n",
    "\n",
    "---\n"
   ]
  },
  {
   "cell_type": "markdown",
   "id": "5a4e4e62",
   "metadata": {
    "papermill": {
     "duration": 0.004829,
     "end_time": "2022-07-01T18:05:43.884400",
     "exception": false,
     "start_time": "2022-07-01T18:05:43.879571",
     "status": "completed"
    },
    "tags": []
   },
   "source": [
    "In this exercise, you will use your new knowledge to train a model with **gradient boosting**.\n",
    "\n",
    "# Setup\n",
    "\n",
    "The questions below will give you feedback on your work. Run the following cell to set up the feedback system."
   ]
  },
  {
   "cell_type": "code",
   "execution_count": 1,
   "id": "82883a78",
   "metadata": {
    "execution": {
     "iopub.execute_input": "2022-07-01T18:05:43.897885Z",
     "iopub.status.busy": "2022-07-01T18:05:43.896764Z",
     "iopub.status.idle": "2022-07-01T18:05:46.377320Z",
     "shell.execute_reply": "2022-07-01T18:05:46.376264Z"
    },
    "papermill": {
     "duration": 2.491258,
     "end_time": "2022-07-01T18:05:46.380815",
     "exception": false,
     "start_time": "2022-07-01T18:05:43.889557",
     "status": "completed"
    },
    "tags": []
   },
   "outputs": [
    {
     "name": "stdout",
     "output_type": "stream",
     "text": [
      "Setup Complete\n"
     ]
    }
   ],
   "source": [
    "# Set up code checking\n",
    "import os\n",
    "if not os.path.exists(\"../input/train.csv\"):\n",
    "    os.symlink(\"../input/home-data-for-ml-course/train.csv\", \"../input/train.csv\")  \n",
    "    os.symlink(\"../input/home-data-for-ml-course/test.csv\", \"../input/test.csv\") \n",
    "from learntools.core import binder\n",
    "binder.bind(globals())\n",
    "from learntools.ml_intermediate.ex6 import *\n",
    "print(\"Setup Complete\")"
   ]
  },
  {
   "cell_type": "markdown",
   "id": "77c07408",
   "metadata": {
    "papermill": {
     "duration": 0.005187,
     "end_time": "2022-07-01T18:05:46.392272",
     "exception": false,
     "start_time": "2022-07-01T18:05:46.387085",
     "status": "completed"
    },
    "tags": []
   },
   "source": [
    "You will work with the [Housing Prices Competition for Kaggle Learn Users](https://www.kaggle.com/c/home-data-for-ml-course) dataset from the previous exercise. \n",
    "\n",
    "![Ames Housing dataset image](https://i.imgur.com/lTJVG4e.png)\n",
    "\n",
    "Run the next code cell without changes to load the training and validation sets in `X_train`, `X_valid`, `y_train`, and `y_valid`.  The test set is loaded in `X_test`."
   ]
  },
  {
   "cell_type": "code",
   "execution_count": 2,
   "id": "63033179",
   "metadata": {
    "execution": {
     "iopub.execute_input": "2022-07-01T18:05:46.405190Z",
     "iopub.status.busy": "2022-07-01T18:05:46.404808Z",
     "iopub.status.idle": "2022-07-01T18:05:46.597309Z",
     "shell.execute_reply": "2022-07-01T18:05:46.596060Z"
    },
    "papermill": {
     "duration": 0.202075,
     "end_time": "2022-07-01T18:05:46.599930",
     "exception": false,
     "start_time": "2022-07-01T18:05:46.397855",
     "status": "completed"
    },
    "tags": []
   },
   "outputs": [],
   "source": [
    "import pandas as pd\n",
    "from sklearn.model_selection import train_test_split\n",
    "\n",
    "# Read the data\n",
    "X = pd.read_csv('../input/train.csv', index_col='Id')\n",
    "X_test_full = pd.read_csv('../input/test.csv', index_col='Id')\n",
    "\n",
    "# Remove rows with missing target, separate target from predictors\n",
    "X.dropna(axis=0, subset=['SalePrice'], inplace=True)\n",
    "y = X.SalePrice              \n",
    "X.drop(['SalePrice'], axis=1, inplace=True)\n",
    "\n",
    "# Break off validation set from training data\n",
    "X_train_full, X_valid_full, y_train, y_valid = train_test_split(X, y, train_size=0.8, test_size=0.2,\n",
    "                                                                random_state=0)\n",
    "\n",
    "# \"Cardinality\" means the number of unique values in a column\n",
    "# Select categorical columns with relatively low cardinality (convenient but arbitrary)\n",
    "low_cardinality_cols = [cname for cname in X_train_full.columns if X_train_full[cname].nunique() < 10 and \n",
    "                        X_train_full[cname].dtype == \"object\"]\n",
    "\n",
    "# Select numeric columns\n",
    "numeric_cols = [cname for cname in X_train_full.columns if X_train_full[cname].dtype in ['int64', 'float64']]\n",
    "\n",
    "# Keep selected columns only\n",
    "my_cols = low_cardinality_cols + numeric_cols\n",
    "X_train = X_train_full[my_cols].copy()\n",
    "X_valid = X_valid_full[my_cols].copy()\n",
    "X_test = X_test_full[my_cols].copy()\n",
    "\n",
    "# One-hot encode the data (to shorten the code, we use pandas)\n",
    "X_train = pd.get_dummies(X_train)\n",
    "X_valid = pd.get_dummies(X_valid)\n",
    "X_test = pd.get_dummies(X_test)\n",
    "X_train, X_valid = X_train.align(X_valid, join='left', axis=1)\n",
    "X_train, X_test = X_train.align(X_test, join='left', axis=1)"
   ]
  },
  {
   "cell_type": "markdown",
   "id": "d1841b6e",
   "metadata": {
    "papermill": {
     "duration": 0.005131,
     "end_time": "2022-07-01T18:05:46.610686",
     "exception": false,
     "start_time": "2022-07-01T18:05:46.605555",
     "status": "completed"
    },
    "tags": []
   },
   "source": [
    "# Step 1: Build model\n",
    "\n",
    "### Part A\n",
    "\n",
    "In this step, you'll build and train your first model with gradient boosting.\n",
    "\n",
    "- Begin by setting `my_model_1` to an XGBoost model.  Use the [XGBRegressor](https://xgboost.readthedocs.io/en/latest/python/python_api.html#xgboost.XGBRegressor) class, and set the random seed to 0 (`random_state=0`).  **Leave all other parameters as default.**\n",
    "- Then, fit the model to the training data in `X_train` and `y_train`."
   ]
  },
  {
   "cell_type": "code",
   "execution_count": 3,
   "id": "ae579abc",
   "metadata": {
    "execution": {
     "iopub.execute_input": "2022-07-01T18:05:46.623996Z",
     "iopub.status.busy": "2022-07-01T18:05:46.623400Z",
     "iopub.status.idle": "2022-07-01T18:05:46.632812Z",
     "shell.execute_reply": "2022-07-01T18:05:46.632004Z"
    },
    "papermill": {
     "duration": 0.018597,
     "end_time": "2022-07-01T18:05:46.634924",
     "exception": false,
     "start_time": "2022-07-01T18:05:46.616327",
     "status": "completed"
    },
    "tags": []
   },
   "outputs": [
    {
     "data": {
      "application/javascript": [
       "parent.postMessage({\"jupyterEvent\": \"custom.exercise_interaction\", \"data\": {\"outcomeType\": 4, \"interactionType\": 1, \"questionType\": 2, \"questionId\": \"1.1_Model1A\", \"learnToolsVersion\": \"0.3.4\", \"valueTowardsCompletion\": 0.0, \"failureMessage\": \"\", \"exceptionClass\": \"\", \"trace\": \"\"}}, \"*\")"
      ],
      "text/plain": [
       "<IPython.core.display.Javascript object>"
      ]
     },
     "metadata": {},
     "output_type": "display_data"
    },
    {
     "data": {
      "text/markdown": [
       "<span style=\"color:#ccaa33\">Check:</span> When you've updated the starter code, `check()` will tell you whether your code is correct. You need to update the code that creates variable `my_model_1`"
      ],
      "text/plain": [
       "Check: When you've updated the starter code, `check()` will tell you whether your code is correct. You need to update the code that creates variable `my_model_1`"
      ]
     },
     "metadata": {},
     "output_type": "display_data"
    }
   ],
   "source": [
    "from xgboost import XGBRegressor\n",
    "\n",
    "# Define the model\n",
    "my_model_1 = ____ # Your code here\n",
    "\n",
    "# Fit the model\n",
    "____ # Your code here\n",
    "\n",
    "# Check your answer\n",
    "step_1.a.check()"
   ]
  },
  {
   "cell_type": "code",
   "execution_count": 4,
   "id": "ef435d9e",
   "metadata": {
    "execution": {
     "iopub.execute_input": "2022-07-01T18:05:46.648260Z",
     "iopub.status.busy": "2022-07-01T18:05:46.647703Z",
     "iopub.status.idle": "2022-07-01T18:05:46.651391Z",
     "shell.execute_reply": "2022-07-01T18:05:46.650578Z"
    },
    "papermill": {
     "duration": 0.01313,
     "end_time": "2022-07-01T18:05:46.653590",
     "exception": false,
     "start_time": "2022-07-01T18:05:46.640460",
     "status": "completed"
    },
    "tags": []
   },
   "outputs": [],
   "source": [
    "# Lines below will give you a hint or solution code\n",
    "#step_1.a.hint()\n",
    "#step_1.a.solution()"
   ]
  },
  {
   "cell_type": "markdown",
   "id": "8b362125",
   "metadata": {
    "papermill": {
     "duration": 0.005812,
     "end_time": "2022-07-01T18:05:46.665173",
     "exception": false,
     "start_time": "2022-07-01T18:05:46.659361",
     "status": "completed"
    },
    "tags": []
   },
   "source": [
    "### Part B\n",
    "\n",
    "Set `predictions_1` to the model's predictions for the validation data.  Recall that the validation features are stored in `X_valid`."
   ]
  },
  {
   "cell_type": "code",
   "execution_count": 5,
   "id": "33f7b011",
   "metadata": {
    "execution": {
     "iopub.execute_input": "2022-07-01T18:05:46.679197Z",
     "iopub.status.busy": "2022-07-01T18:05:46.678635Z",
     "iopub.status.idle": "2022-07-01T18:05:46.685991Z",
     "shell.execute_reply": "2022-07-01T18:05:46.684959Z"
    },
    "papermill": {
     "duration": 0.016982,
     "end_time": "2022-07-01T18:05:46.688103",
     "exception": false,
     "start_time": "2022-07-01T18:05:46.671121",
     "status": "completed"
    },
    "tags": []
   },
   "outputs": [
    {
     "data": {
      "application/javascript": [
       "parent.postMessage({\"jupyterEvent\": \"custom.exercise_interaction\", \"data\": {\"outcomeType\": 4, \"interactionType\": 1, \"questionType\": 2, \"questionId\": \"1.2_Model1B\", \"learnToolsVersion\": \"0.3.4\", \"valueTowardsCompletion\": 0.0, \"failureMessage\": \"\", \"exceptionClass\": \"\", \"trace\": \"\"}}, \"*\")"
      ],
      "text/plain": [
       "<IPython.core.display.Javascript object>"
      ]
     },
     "metadata": {},
     "output_type": "display_data"
    },
    {
     "data": {
      "text/markdown": [
       "<span style=\"color:#ccaa33\">Check:</span> When you've updated the starter code, `check()` will tell you whether your code is correct. You need to update the code that creates variable `predictions_1`"
      ],
      "text/plain": [
       "Check: When you've updated the starter code, `check()` will tell you whether your code is correct. You need to update the code that creates variable `predictions_1`"
      ]
     },
     "metadata": {},
     "output_type": "display_data"
    }
   ],
   "source": [
    "from sklearn.metrics import mean_absolute_error\n",
    "\n",
    "# Get predictions\n",
    "predictions_1 = ____ # Your code here\n",
    "\n",
    "# Check your answer\n",
    "step_1.b.check()"
   ]
  },
  {
   "cell_type": "code",
   "execution_count": 6,
   "id": "7fbf2cb6",
   "metadata": {
    "execution": {
     "iopub.execute_input": "2022-07-01T18:05:46.702374Z",
     "iopub.status.busy": "2022-07-01T18:05:46.701772Z",
     "iopub.status.idle": "2022-07-01T18:05:46.705442Z",
     "shell.execute_reply": "2022-07-01T18:05:46.704607Z"
    },
    "papermill": {
     "duration": 0.013398,
     "end_time": "2022-07-01T18:05:46.707604",
     "exception": false,
     "start_time": "2022-07-01T18:05:46.694206",
     "status": "completed"
    },
    "tags": []
   },
   "outputs": [],
   "source": [
    "# Lines below will give you a hint or solution code\n",
    "#step_1.b.hint()\n",
    "#step_1.b.solution()"
   ]
  },
  {
   "cell_type": "markdown",
   "id": "b0361a75",
   "metadata": {
    "papermill": {
     "duration": 0.005919,
     "end_time": "2022-07-01T18:05:46.719757",
     "exception": false,
     "start_time": "2022-07-01T18:05:46.713838",
     "status": "completed"
    },
    "tags": []
   },
   "source": [
    "### Part C\n",
    "\n",
    "Finally, use the `mean_absolute_error()` function to calculate the mean absolute error (MAE) corresponding to the predictions for the validation set.  Recall that the labels for the validation data are stored in `y_valid`."
   ]
  },
  {
   "cell_type": "code",
   "execution_count": 7,
   "id": "9d39acb5",
   "metadata": {
    "execution": {
     "iopub.execute_input": "2022-07-01T18:05:46.734038Z",
     "iopub.status.busy": "2022-07-01T18:05:46.733393Z",
     "iopub.status.idle": "2022-07-01T18:05:46.740889Z",
     "shell.execute_reply": "2022-07-01T18:05:46.739767Z"
    },
    "papermill": {
     "duration": 0.017155,
     "end_time": "2022-07-01T18:05:46.743017",
     "exception": false,
     "start_time": "2022-07-01T18:05:46.725862",
     "status": "completed"
    },
    "tags": []
   },
   "outputs": [
    {
     "data": {
      "application/javascript": [
       "parent.postMessage({\"jupyterEvent\": \"custom.exercise_interaction\", \"data\": {\"outcomeType\": 4, \"interactionType\": 1, \"questionType\": 2, \"questionId\": \"1.3_Model1C\", \"learnToolsVersion\": \"0.3.4\", \"valueTowardsCompletion\": 0.0, \"failureMessage\": \"\", \"exceptionClass\": \"\", \"trace\": \"\"}}, \"*\")"
      ],
      "text/plain": [
       "<IPython.core.display.Javascript object>"
      ]
     },
     "metadata": {},
     "output_type": "display_data"
    },
    {
     "data": {
      "text/markdown": [
       "<span style=\"color:#ccaa33\">Check:</span> When you've updated the starter code, `check()` will tell you whether your code is correct. You need to update the code that creates variable `mae_1`"
      ],
      "text/plain": [
       "Check: When you've updated the starter code, `check()` will tell you whether your code is correct. You need to update the code that creates variable `mae_1`"
      ]
     },
     "metadata": {},
     "output_type": "display_data"
    }
   ],
   "source": [
    "# Calculate MAE\n",
    "mae_1 = ____ # Your code here\n",
    "\n",
    "# Uncomment to print MAE\n",
    "# print(\"Mean Absolute Error:\" , mae_1)\n",
    "\n",
    "# Check your answer\n",
    "step_1.c.check()"
   ]
  },
  {
   "cell_type": "code",
   "execution_count": 8,
   "id": "fbc57525",
   "metadata": {
    "execution": {
     "iopub.execute_input": "2022-07-01T18:05:46.758476Z",
     "iopub.status.busy": "2022-07-01T18:05:46.757798Z",
     "iopub.status.idle": "2022-07-01T18:05:46.761532Z",
     "shell.execute_reply": "2022-07-01T18:05:46.760745Z"
    },
    "papermill": {
     "duration": 0.013933,
     "end_time": "2022-07-01T18:05:46.763654",
     "exception": false,
     "start_time": "2022-07-01T18:05:46.749721",
     "status": "completed"
    },
    "tags": []
   },
   "outputs": [],
   "source": [
    "# Lines below will give you a hint or solution code\n",
    "#step_1.c.hint()\n",
    "#step_1.c.solution()"
   ]
  },
  {
   "cell_type": "markdown",
   "id": "aa1d56f7",
   "metadata": {
    "papermill": {
     "duration": 0.006146,
     "end_time": "2022-07-01T18:05:46.776392",
     "exception": false,
     "start_time": "2022-07-01T18:05:46.770246",
     "status": "completed"
    },
    "tags": []
   },
   "source": [
    "# Step 2: Improve the model\n",
    "\n",
    "Now that you've trained a default model as baseline, it's time to tinker with the parameters, to see if you can get better performance!\n",
    "- Begin by setting `my_model_2` to an XGBoost model, using the [XGBRegressor](https://xgboost.readthedocs.io/en/latest/python/python_api.html#xgboost.XGBRegressor) class.  Use what you learned in the previous tutorial to figure out how to change the default parameters (like `n_estimators` and `learning_rate`) to get better results.\n",
    "- Then, fit the model to the training data in `X_train` and `y_train`.\n",
    "- Set `predictions_2` to the model's predictions for the validation data.  Recall that the validation features are stored in `X_valid`.\n",
    "- Finally, use the `mean_absolute_error()` function to calculate the mean absolute error (MAE) corresponding to the predictions on the validation set.  Recall that the labels for the validation data are stored in `y_valid`.\n",
    "\n",
    "In order for this step to be marked correct, your model in `my_model_2` must attain lower MAE than the model in `my_model_1`. "
   ]
  },
  {
   "cell_type": "code",
   "execution_count": 9,
   "id": "1a8e700f",
   "metadata": {
    "execution": {
     "iopub.execute_input": "2022-07-01T18:05:46.791226Z",
     "iopub.status.busy": "2022-07-01T18:05:46.790657Z",
     "iopub.status.idle": "2022-07-01T18:05:46.798190Z",
     "shell.execute_reply": "2022-07-01T18:05:46.797329Z"
    },
    "papermill": {
     "duration": 0.017353,
     "end_time": "2022-07-01T18:05:46.800159",
     "exception": false,
     "start_time": "2022-07-01T18:05:46.782806",
     "status": "completed"
    },
    "tags": []
   },
   "outputs": [
    {
     "data": {
      "application/javascript": [
       "parent.postMessage({\"jupyterEvent\": \"custom.exercise_interaction\", \"data\": {\"outcomeType\": 4, \"interactionType\": 1, \"questionType\": 2, \"questionId\": \"2_Model2\", \"learnToolsVersion\": \"0.3.4\", \"valueTowardsCompletion\": 0.0, \"failureMessage\": \"\", \"exceptionClass\": \"\", \"trace\": \"\"}}, \"*\")"
      ],
      "text/plain": [
       "<IPython.core.display.Javascript object>"
      ]
     },
     "metadata": {},
     "output_type": "display_data"
    },
    {
     "data": {
      "text/markdown": [
       "<span style=\"color:#ccaa33\">Check:</span> When you've updated the starter code, `check()` will tell you whether your code is correct. You need to update the code that creates variables `my_model_2`, `predictions_2`, `mae_2`"
      ],
      "text/plain": [
       "Check: When you've updated the starter code, `check()` will tell you whether your code is correct. You need to update the code that creates variables `my_model_2`, `predictions_2`, `mae_2`"
      ]
     },
     "metadata": {},
     "output_type": "display_data"
    }
   ],
   "source": [
    "# Define the model\n",
    "my_model_2 = ____ # Your code here\n",
    "\n",
    "# Fit the model\n",
    "____ # Your code here\n",
    "\n",
    "# Get predictions\n",
    "predictions_2 = ____ # Your code here\n",
    "\n",
    "# Calculate MAE\n",
    "mae_2 = ____ # Your code here\n",
    "\n",
    "# Uncomment to print MAE\n",
    "# print(\"Mean Absolute Error:\" , mae_2)\n",
    "\n",
    "# Check your answer\n",
    "step_2.check()"
   ]
  },
  {
   "cell_type": "code",
   "execution_count": 10,
   "id": "63e8e1fb",
   "metadata": {
    "execution": {
     "iopub.execute_input": "2022-07-01T18:05:46.815808Z",
     "iopub.status.busy": "2022-07-01T18:05:46.815186Z",
     "iopub.status.idle": "2022-07-01T18:05:46.818873Z",
     "shell.execute_reply": "2022-07-01T18:05:46.818047Z"
    },
    "papermill": {
     "duration": 0.014095,
     "end_time": "2022-07-01T18:05:46.821047",
     "exception": false,
     "start_time": "2022-07-01T18:05:46.806952",
     "status": "completed"
    },
    "tags": []
   },
   "outputs": [],
   "source": [
    "# Lines below will give you a hint or solution code\n",
    "#step_2.hint()\n",
    "#step_2.solution()"
   ]
  },
  {
   "cell_type": "markdown",
   "id": "d06f687e",
   "metadata": {
    "papermill": {
     "duration": 0.006608,
     "end_time": "2022-07-01T18:05:46.834628",
     "exception": false,
     "start_time": "2022-07-01T18:05:46.828020",
     "status": "completed"
    },
    "tags": []
   },
   "source": [
    "# Step 3: Break the model\n",
    "\n",
    "In this step, you will create a model that performs worse than the original model in Step 1.  This will help you to develop your intuition for how to set parameters.  You might even find that you accidentally get better performance, which is ultimately a nice problem to have and a valuable learning experience!\n",
    "- Begin by setting `my_model_3` to an XGBoost model, using the [XGBRegressor](https://xgboost.readthedocs.io/en/latest/python/python_api.html#xgboost.XGBRegressor) class.  Use what you learned in the previous tutorial to figure out how to change the default parameters (like `n_estimators` and `learning_rate`) to design a model to get high MAE.\n",
    "- Then, fit the model to the training data in `X_train` and `y_train`.\n",
    "- Set `predictions_3` to the model's predictions for the validation data.  Recall that the validation features are stored in `X_valid`.\n",
    "- Finally, use the `mean_absolute_error()` function to calculate the mean absolute error (MAE) corresponding to the predictions on the validation set.  Recall that the labels for the validation data are stored in `y_valid`.\n",
    "\n",
    "In order for this step to be marked correct, your model in `my_model_3` must attain higher MAE than the model in `my_model_1`. "
   ]
  },
  {
   "cell_type": "code",
   "execution_count": 11,
   "id": "72eda1b9",
   "metadata": {
    "execution": {
     "iopub.execute_input": "2022-07-01T18:05:46.851023Z",
     "iopub.status.busy": "2022-07-01T18:05:46.850168Z",
     "iopub.status.idle": "2022-07-01T18:05:46.858033Z",
     "shell.execute_reply": "2022-07-01T18:05:46.856989Z"
    },
    "papermill": {
     "duration": 0.018793,
     "end_time": "2022-07-01T18:05:46.860265",
     "exception": false,
     "start_time": "2022-07-01T18:05:46.841472",
     "status": "completed"
    },
    "tags": []
   },
   "outputs": [
    {
     "data": {
      "application/javascript": [
       "parent.postMessage({\"jupyterEvent\": \"custom.exercise_interaction\", \"data\": {\"outcomeType\": 4, \"interactionType\": 1, \"questionType\": 2, \"questionId\": \"3_Model3\", \"learnToolsVersion\": \"0.3.4\", \"valueTowardsCompletion\": 0.0, \"failureMessage\": \"\", \"exceptionClass\": \"\", \"trace\": \"\"}}, \"*\")"
      ],
      "text/plain": [
       "<IPython.core.display.Javascript object>"
      ]
     },
     "metadata": {},
     "output_type": "display_data"
    },
    {
     "data": {
      "text/markdown": [
       "<span style=\"color:#ccaa33\">Check:</span> When you've updated the starter code, `check()` will tell you whether your code is correct. You need to update the code that creates variables `my_model_3`, `predictions_3`, `mae_3`"
      ],
      "text/plain": [
       "Check: When you've updated the starter code, `check()` will tell you whether your code is correct. You need to update the code that creates variables `my_model_3`, `predictions_3`, `mae_3`"
      ]
     },
     "metadata": {},
     "output_type": "display_data"
    }
   ],
   "source": [
    "# Define the model\n",
    "my_model_3 = ____\n",
    "\n",
    "# Fit the model\n",
    "____ # Your code here\n",
    "\n",
    "# Get predictions\n",
    "predictions_3 = ____\n",
    "\n",
    "# Calculate MAE\n",
    "mae_3 = ____\n",
    "\n",
    "# Uncomment to print MAE\n",
    "# print(\"Mean Absolute Error:\" , mae_3)\n",
    "\n",
    "# Check your answer\n",
    "step_3.check()"
   ]
  },
  {
   "cell_type": "code",
   "execution_count": 12,
   "id": "cf2d1753",
   "metadata": {
    "execution": {
     "iopub.execute_input": "2022-07-01T18:05:46.877075Z",
     "iopub.status.busy": "2022-07-01T18:05:46.876262Z",
     "iopub.status.idle": "2022-07-01T18:05:46.879927Z",
     "shell.execute_reply": "2022-07-01T18:05:46.879187Z"
    },
    "papermill": {
     "duration": 0.014517,
     "end_time": "2022-07-01T18:05:46.881998",
     "exception": false,
     "start_time": "2022-07-01T18:05:46.867481",
     "status": "completed"
    },
    "tags": []
   },
   "outputs": [],
   "source": [
    "# Lines below will give you a hint or solution code\n",
    "#step_3.hint()\n",
    "#step_3.solution()"
   ]
  },
  {
   "cell_type": "markdown",
   "id": "da0425f7",
   "metadata": {
    "papermill": {
     "duration": 0.00723,
     "end_time": "2022-07-01T18:05:46.896602",
     "exception": false,
     "start_time": "2022-07-01T18:05:46.889372",
     "status": "completed"
    },
    "tags": []
   },
   "source": [
    "# Keep going\n",
    "\n",
    "Continue to learn about **[data leakage](https://www.kaggle.com/alexisbcook/data-leakage)**.  This is an important issue for a data scientist to understand, and it has the potential to ruin your models in subtle and dangerous ways!"
   ]
  },
  {
   "cell_type": "markdown",
   "id": "8432f167",
   "metadata": {
    "papermill": {
     "duration": 0.006932,
     "end_time": "2022-07-01T18:05:46.911015",
     "exception": false,
     "start_time": "2022-07-01T18:05:46.904083",
     "status": "completed"
    },
    "tags": []
   },
   "source": [
    "---\n",
    "\n",
    "\n",
    "\n",
    "\n",
    "*Have questions or comments? Visit the [course discussion forum](https://www.kaggle.com/learn/intermediate-machine-learning/discussion) to chat with other learners.*"
   ]
  }
 ],
 "metadata": {
  "kernelspec": {
   "display_name": "Python 3",
   "language": "python",
   "name": "python3"
  },
  "language_info": {
   "codemirror_mode": {
    "name": "ipython",
    "version": 3
   },
   "file_extension": ".py",
   "mimetype": "text/x-python",
   "name": "python",
   "nbconvert_exporter": "python",
   "pygments_lexer": "ipython3",
   "version": "3.7.12"
  },
  "papermill": {
   "default_parameters": {},
   "duration": 13.874636,
   "end_time": "2022-07-01T18:05:47.639661",
   "environment_variables": {},
   "exception": null,
   "input_path": "__notebook__.ipynb",
   "output_path": "__notebook__.ipynb",
   "parameters": {},
   "start_time": "2022-07-01T18:05:33.765025",
   "version": "2.3.4"
  }
 },
 "nbformat": 4,
 "nbformat_minor": 5
}
