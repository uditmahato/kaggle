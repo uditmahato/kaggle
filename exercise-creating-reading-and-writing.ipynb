{
 "cells": [
  {
   "cell_type": "markdown",
   "id": "bd9a6a1a",
   "metadata": {
    "papermill": {
     "duration": 0.020644,
     "end_time": "2022-05-09T17:27:55.137138",
     "exception": false,
     "start_time": "2022-05-09T17:27:55.116494",
     "status": "completed"
    },
    "tags": []
   },
   "source": [
    "**This notebook is an exercise in the [Pandas](https://www.kaggle.com/learn/pandas) course.  You can reference the tutorial at [this link](https://www.kaggle.com/residentmario/creating-reading-and-writing).**\n",
    "\n",
    "---\n"
   ]
  },
  {
   "cell_type": "markdown",
   "id": "7e2b5583",
   "metadata": {
    "papermill": {
     "duration": 0.021798,
     "end_time": "2022-05-09T17:27:55.180380",
     "exception": false,
     "start_time": "2022-05-09T17:27:55.158582",
     "status": "completed"
    },
    "tags": []
   },
   "source": [
    "# Introduction\n",
    "\n",
    "The first step in most data analytics projects is reading the data file. In this exercise, you'll create Series and DataFrame objects, both by hand and by reading data files.\n",
    "\n",
    "Run the code cell below to load libraries you will need (including code to check your answers)."
   ]
  },
  {
   "cell_type": "code",
   "execution_count": 1,
   "id": "3adedcc1",
   "metadata": {
    "execution": {
     "iopub.execute_input": "2022-05-09T17:27:55.222199Z",
     "iopub.status.busy": "2022-05-09T17:27:55.221470Z",
     "iopub.status.idle": "2022-05-09T17:27:56.890275Z",
     "shell.execute_reply": "2022-05-09T17:27:56.889393Z"
    },
    "papermill": {
     "duration": 1.693229,
     "end_time": "2022-05-09T17:27:56.893314",
     "exception": false,
     "start_time": "2022-05-09T17:27:55.200085",
     "status": "completed"
    },
    "tags": []
   },
   "outputs": [
    {
     "name": "stdout",
     "output_type": "stream",
     "text": [
      "Setup complete.\n"
     ]
    }
   ],
   "source": [
    "import pandas as pd\n",
    "pd.set_option('max_rows', 5)\n",
    "from learntools.core import binder; binder.bind(globals())\n",
    "from learntools.pandas.creating_reading_and_writing import *\n",
    "print(\"Setup complete.\")"
   ]
  },
  {
   "cell_type": "markdown",
   "id": "64c94fc2",
   "metadata": {
    "papermill": {
     "duration": 0.019883,
     "end_time": "2022-05-09T17:27:56.934251",
     "exception": false,
     "start_time": "2022-05-09T17:27:56.914368",
     "status": "completed"
    },
    "tags": []
   },
   "source": [
    "# Exercises"
   ]
  },
  {
   "cell_type": "markdown",
   "id": "2c0bc82c",
   "metadata": {
    "papermill": {
     "duration": 0.019347,
     "end_time": "2022-05-09T17:27:56.973448",
     "exception": false,
     "start_time": "2022-05-09T17:27:56.954101",
     "status": "completed"
    },
    "tags": []
   },
   "source": [
    "## 1.\n",
    "\n",
    "In the cell below, create a DataFrame `fruits` that looks like this:\n",
    "\n",
    "![](https://i.imgur.com/Ax3pp2A.png)"
   ]
  },
  {
   "cell_type": "code",
   "execution_count": 2,
   "id": "1807caa8",
   "metadata": {
    "execution": {
     "iopub.execute_input": "2022-05-09T17:27:57.014924Z",
     "iopub.status.busy": "2022-05-09T17:27:57.014189Z",
     "iopub.status.idle": "2022-05-09T17:27:57.034290Z",
     "shell.execute_reply": "2022-05-09T17:27:57.033353Z"
    },
    "papermill": {
     "duration": 0.042931,
     "end_time": "2022-05-09T17:27:57.036321",
     "exception": false,
     "start_time": "2022-05-09T17:27:56.993390",
     "status": "completed"
    },
    "tags": []
   },
   "outputs": [
    {
     "data": {
      "application/javascript": [
       "parent.postMessage({\"jupyterEvent\": \"custom.exercise_interaction\", \"data\": {\"outcomeType\": 1, \"valueTowardsCompletion\": 0.16666666666666666, \"interactionType\": 1, \"questionType\": 1, \"questionId\": \"1_FruitDfCreation\", \"learnToolsVersion\": \"0.3.4\", \"failureMessage\": \"\", \"exceptionClass\": \"\", \"trace\": \"\"}}, \"*\")"
      ],
      "text/plain": [
       "<IPython.core.display.Javascript object>"
      ]
     },
     "metadata": {},
     "output_type": "display_data"
    },
    {
     "data": {
      "text/markdown": [
       "<span style=\"color:#33cc33\">Correct</span>"
      ],
      "text/plain": [
       "Correct"
      ]
     },
     "metadata": {},
     "output_type": "display_data"
    },
    {
     "data": {
      "text/html": [
       "<div>\n",
       "<style scoped>\n",
       "    .dataframe tbody tr th:only-of-type {\n",
       "        vertical-align: middle;\n",
       "    }\n",
       "\n",
       "    .dataframe tbody tr th {\n",
       "        vertical-align: top;\n",
       "    }\n",
       "\n",
       "    .dataframe thead th {\n",
       "        text-align: right;\n",
       "    }\n",
       "</style>\n",
       "<table border=\"1\" class=\"dataframe\">\n",
       "  <thead>\n",
       "    <tr style=\"text-align: right;\">\n",
       "      <th></th>\n",
       "      <th>Apples</th>\n",
       "      <th>Bananas</th>\n",
       "    </tr>\n",
       "  </thead>\n",
       "  <tbody>\n",
       "    <tr>\n",
       "      <th>0</th>\n",
       "      <td>30</td>\n",
       "      <td>21</td>\n",
       "    </tr>\n",
       "  </tbody>\n",
       "</table>\n",
       "</div>"
      ],
      "text/plain": [
       "   Apples  Bananas\n",
       "0      30       21"
      ]
     },
     "execution_count": 2,
     "metadata": {},
     "output_type": "execute_result"
    }
   ],
   "source": [
    "# Your code goes here. Create a dataframe matching the above diagram and assign it to the variable fruits.\n",
    "fruits = pd.DataFrame({'Apples':[30],'Bananas':[21]})\n",
    "\n",
    "# Check your answer\n",
    "q1.check()\n",
    "fruits"
   ]
  },
  {
   "cell_type": "code",
   "execution_count": 3,
   "id": "af7c795b",
   "metadata": {
    "execution": {
     "iopub.execute_input": "2022-05-09T17:27:57.082562Z",
     "iopub.status.busy": "2022-05-09T17:27:57.082273Z",
     "iopub.status.idle": "2022-05-09T17:27:57.085807Z",
     "shell.execute_reply": "2022-05-09T17:27:57.084943Z"
    },
    "papermill": {
     "duration": 0.028732,
     "end_time": "2022-05-09T17:27:57.087857",
     "exception": false,
     "start_time": "2022-05-09T17:27:57.059125",
     "status": "completed"
    },
    "tags": []
   },
   "outputs": [],
   "source": [
    "#q1.hint()\n",
    "#q1.solution()"
   ]
  },
  {
   "cell_type": "markdown",
   "id": "9b480dc8",
   "metadata": {
    "papermill": {
     "duration": 0.02123,
     "end_time": "2022-05-09T17:27:57.130365",
     "exception": false,
     "start_time": "2022-05-09T17:27:57.109135",
     "status": "completed"
    },
    "tags": []
   },
   "source": [
    "## 2.\n",
    "\n",
    "Create a dataframe `fruit_sales` that matches the diagram below:\n",
    "\n",
    "![](https://i.imgur.com/CHPn7ZF.png)"
   ]
  },
  {
   "cell_type": "code",
   "execution_count": 4,
   "id": "e516e4de",
   "metadata": {
    "execution": {
     "iopub.execute_input": "2022-05-09T17:27:57.176536Z",
     "iopub.status.busy": "2022-05-09T17:27:57.176241Z",
     "iopub.status.idle": "2022-05-09T17:27:57.183886Z",
     "shell.execute_reply": "2022-05-09T17:27:57.183157Z"
    },
    "papermill": {
     "duration": 0.033648,
     "end_time": "2022-05-09T17:27:57.185637",
     "exception": false,
     "start_time": "2022-05-09T17:27:57.151989",
     "status": "completed"
    },
    "tags": []
   },
   "outputs": [
    {
     "data": {
      "application/javascript": [
       "parent.postMessage({\"jupyterEvent\": \"custom.exercise_interaction\", \"data\": {\"outcomeType\": 4, \"interactionType\": 1, \"questionType\": 1, \"questionId\": \"2_FruitSalesDfCreation\", \"learnToolsVersion\": \"0.3.4\", \"valueTowardsCompletion\": 0.0, \"failureMessage\": \"\", \"exceptionClass\": \"\", \"trace\": \"\"}}, \"*\")"
      ],
      "text/plain": [
       "<IPython.core.display.Javascript object>"
      ]
     },
     "metadata": {},
     "output_type": "display_data"
    },
    {
     "data": {
      "text/markdown": [
       "<span style=\"color:#ccaa33\">Check:</span> When you've updated the starter code, `check()` will tell you whether your code is correct. You need to update the code that creates variable `fruit_sales`"
      ],
      "text/plain": [
       "Check: When you've updated the starter code, `check()` will tell you whether your code is correct. You need to update the code that creates variable `fruit_sales`"
      ]
     },
     "metadata": {},
     "output_type": "display_data"
    },
    {
     "data": {
      "text/markdown": [],
      "text/plain": [
       "<learntools.core.constants.PlaceholderValue at 0x7faf989585d0>"
      ]
     },
     "execution_count": 4,
     "metadata": {},
     "output_type": "execute_result"
    }
   ],
   "source": [
    "# Your code goes here. Create a dataframe matching the above diagram and assign it to the variable fruit_sales.\n",
    "fruit_sales = ____\n",
    "\n",
    "# Check your answer\n",
    "q2.check()\n",
    "fruit_sales"
   ]
  },
  {
   "cell_type": "code",
   "execution_count": 5,
   "id": "44129542",
   "metadata": {
    "execution": {
     "iopub.execute_input": "2022-05-09T17:27:57.233827Z",
     "iopub.status.busy": "2022-05-09T17:27:57.233255Z",
     "iopub.status.idle": "2022-05-09T17:27:57.236191Z",
     "shell.execute_reply": "2022-05-09T17:27:57.235651Z"
    },
    "papermill": {
     "duration": 0.029129,
     "end_time": "2022-05-09T17:27:57.237884",
     "exception": false,
     "start_time": "2022-05-09T17:27:57.208755",
     "status": "completed"
    },
    "tags": []
   },
   "outputs": [],
   "source": [
    "#q2.hint()\n",
    "#q2.solution()"
   ]
  },
  {
   "cell_type": "markdown",
   "id": "99bd8bb8",
   "metadata": {
    "papermill": {
     "duration": 0.02272,
     "end_time": "2022-05-09T17:27:57.283943",
     "exception": false,
     "start_time": "2022-05-09T17:27:57.261223",
     "status": "completed"
    },
    "tags": []
   },
   "source": [
    "## 3.\n",
    "\n",
    "Create a variable `ingredients` with a Series that looks like:\n",
    "\n",
    "```\n",
    "Flour     4 cups\n",
    "Milk       1 cup\n",
    "Eggs     2 large\n",
    "Spam       1 can\n",
    "Name: Dinner, dtype: object\n",
    "```"
   ]
  },
  {
   "cell_type": "code",
   "execution_count": 6,
   "id": "5d643a96",
   "metadata": {
    "execution": {
     "iopub.execute_input": "2022-05-09T17:27:57.331939Z",
     "iopub.status.busy": "2022-05-09T17:27:57.331163Z",
     "iopub.status.idle": "2022-05-09T17:27:57.339132Z",
     "shell.execute_reply": "2022-05-09T17:27:57.338638Z"
    },
    "papermill": {
     "duration": 0.033984,
     "end_time": "2022-05-09T17:27:57.340930",
     "exception": false,
     "start_time": "2022-05-09T17:27:57.306946",
     "status": "completed"
    },
    "tags": []
   },
   "outputs": [
    {
     "data": {
      "application/javascript": [
       "parent.postMessage({\"jupyterEvent\": \"custom.exercise_interaction\", \"data\": {\"outcomeType\": 4, \"interactionType\": 1, \"questionType\": 2, \"questionId\": \"3_RecipeSeriesCreation\", \"learnToolsVersion\": \"0.3.4\", \"valueTowardsCompletion\": 0.0, \"failureMessage\": \"\", \"exceptionClass\": \"\", \"trace\": \"\"}}, \"*\")"
      ],
      "text/plain": [
       "<IPython.core.display.Javascript object>"
      ]
     },
     "metadata": {},
     "output_type": "display_data"
    },
    {
     "data": {
      "text/markdown": [
       "<span style=\"color:#ccaa33\">Check:</span> When you've updated the starter code, `check()` will tell you whether your code is correct. You need to update the code that creates variable `ingredients`"
      ],
      "text/plain": [
       "Check: When you've updated the starter code, `check()` will tell you whether your code is correct. You need to update the code that creates variable `ingredients`"
      ]
     },
     "metadata": {},
     "output_type": "display_data"
    },
    {
     "data": {
      "text/markdown": [],
      "text/plain": [
       "<learntools.core.constants.PlaceholderValue at 0x7faf989585d0>"
      ]
     },
     "execution_count": 6,
     "metadata": {},
     "output_type": "execute_result"
    }
   ],
   "source": [
    "ingredients = ____\n",
    "\n",
    "# Check your answer\n",
    "q3.check()\n",
    "ingredients"
   ]
  },
  {
   "cell_type": "code",
   "execution_count": 7,
   "id": "65f4b458",
   "metadata": {
    "execution": {
     "iopub.execute_input": "2022-05-09T17:27:57.392062Z",
     "iopub.status.busy": "2022-05-09T17:27:57.391564Z",
     "iopub.status.idle": "2022-05-09T17:27:57.394448Z",
     "shell.execute_reply": "2022-05-09T17:27:57.393882Z"
    },
    "papermill": {
     "duration": 0.03114,
     "end_time": "2022-05-09T17:27:57.396682",
     "exception": false,
     "start_time": "2022-05-09T17:27:57.365542",
     "status": "completed"
    },
    "tags": []
   },
   "outputs": [],
   "source": [
    "#q3.hint()\n",
    "#q3.solution()"
   ]
  },
  {
   "cell_type": "markdown",
   "id": "3dd389fb",
   "metadata": {
    "papermill": {
     "duration": 0.024425,
     "end_time": "2022-05-09T17:27:57.447514",
     "exception": false,
     "start_time": "2022-05-09T17:27:57.423089",
     "status": "completed"
    },
    "tags": []
   },
   "source": [
    "## 4.\n",
    "\n",
    "Read the following csv dataset of wine reviews into a DataFrame called `reviews`:\n",
    "\n",
    "![](https://i.imgur.com/74RCZtU.png)\n",
    "\n",
    "The filepath to the csv file is `../input/wine-reviews/winemag-data_first150k.csv`. The first few lines look like:\n",
    "\n",
    "```\n",
    ",country,description,designation,points,price,province,region_1,region_2,variety,winery\n",
    "0,US,\"This tremendous 100% varietal wine[...]\",Martha's Vineyard,96,235.0,California,Napa Valley,Napa,Cabernet Sauvignon,Heitz\n",
    "1,Spain,\"Ripe aromas of fig, blackberry and[...]\",Carodorum Selección Especial Reserva,96,110.0,Northern Spain,Toro,,Tinta de Toro,Bodega Carmen Rodríguez\n",
    "```"
   ]
  },
  {
   "cell_type": "code",
   "execution_count": 8,
   "id": "7b6ef558",
   "metadata": {
    "execution": {
     "iopub.execute_input": "2022-05-09T17:27:57.499534Z",
     "iopub.status.busy": "2022-05-09T17:27:57.499125Z",
     "iopub.status.idle": "2022-05-09T17:27:57.508813Z",
     "shell.execute_reply": "2022-05-09T17:27:57.508040Z"
    },
    "papermill": {
     "duration": 0.037666,
     "end_time": "2022-05-09T17:27:57.510667",
     "exception": false,
     "start_time": "2022-05-09T17:27:57.473001",
     "status": "completed"
    },
    "tags": []
   },
   "outputs": [
    {
     "data": {
      "application/javascript": [
       "parent.postMessage({\"jupyterEvent\": \"custom.exercise_interaction\", \"data\": {\"outcomeType\": 4, \"interactionType\": 1, \"questionType\": 1, \"questionId\": \"4_ReadWineCsv\", \"learnToolsVersion\": \"0.3.4\", \"valueTowardsCompletion\": 0.0, \"failureMessage\": \"\", \"exceptionClass\": \"\", \"trace\": \"\"}}, \"*\")"
      ],
      "text/plain": [
       "<IPython.core.display.Javascript object>"
      ]
     },
     "metadata": {},
     "output_type": "display_data"
    },
    {
     "data": {
      "text/markdown": [
       "<span style=\"color:#ccaa33\">Check:</span> When you've updated the starter code, `check()` will tell you whether your code is correct. You need to update the code that creates variable `reviews`"
      ],
      "text/plain": [
       "Check: When you've updated the starter code, `check()` will tell you whether your code is correct. You need to update the code that creates variable `reviews`"
      ]
     },
     "metadata": {},
     "output_type": "display_data"
    },
    {
     "data": {
      "text/markdown": [],
      "text/plain": [
       "<learntools.core.constants.PlaceholderValue at 0x7faf989585d0>"
      ]
     },
     "execution_count": 8,
     "metadata": {},
     "output_type": "execute_result"
    }
   ],
   "source": [
    "reviews = ____\n",
    "\n",
    "# Check your answer\n",
    "q4.check()\n",
    "reviews"
   ]
  },
  {
   "cell_type": "code",
   "execution_count": 9,
   "id": "9ca28502",
   "metadata": {
    "execution": {
     "iopub.execute_input": "2022-05-09T17:27:57.564989Z",
     "iopub.status.busy": "2022-05-09T17:27:57.564500Z",
     "iopub.status.idle": "2022-05-09T17:27:57.567334Z",
     "shell.execute_reply": "2022-05-09T17:27:57.566799Z"
    },
    "papermill": {
     "duration": 0.032074,
     "end_time": "2022-05-09T17:27:57.569066",
     "exception": false,
     "start_time": "2022-05-09T17:27:57.536992",
     "status": "completed"
    },
    "tags": []
   },
   "outputs": [],
   "source": [
    "#q4.hint()\n",
    "#q4.solution()"
   ]
  },
  {
   "cell_type": "markdown",
   "id": "bffea9c5",
   "metadata": {
    "papermill": {
     "duration": 0.027678,
     "end_time": "2022-05-09T17:27:57.623829",
     "exception": false,
     "start_time": "2022-05-09T17:27:57.596151",
     "status": "completed"
    },
    "tags": []
   },
   "source": [
    "## 5.\n",
    "\n",
    "Run the cell below to create and display a DataFrame called `animals`:"
   ]
  },
  {
   "cell_type": "code",
   "execution_count": 10,
   "id": "2c455684",
   "metadata": {
    "execution": {
     "iopub.execute_input": "2022-05-09T17:27:57.677848Z",
     "iopub.status.busy": "2022-05-09T17:27:57.677520Z",
     "iopub.status.idle": "2022-05-09T17:27:57.687050Z",
     "shell.execute_reply": "2022-05-09T17:27:57.686496Z"
    },
    "papermill": {
     "duration": 0.038517,
     "end_time": "2022-05-09T17:27:57.688803",
     "exception": false,
     "start_time": "2022-05-09T17:27:57.650286",
     "status": "completed"
    },
    "tags": []
   },
   "outputs": [
    {
     "data": {
      "text/html": [
       "<div>\n",
       "<style scoped>\n",
       "    .dataframe tbody tr th:only-of-type {\n",
       "        vertical-align: middle;\n",
       "    }\n",
       "\n",
       "    .dataframe tbody tr th {\n",
       "        vertical-align: top;\n",
       "    }\n",
       "\n",
       "    .dataframe thead th {\n",
       "        text-align: right;\n",
       "    }\n",
       "</style>\n",
       "<table border=\"1\" class=\"dataframe\">\n",
       "  <thead>\n",
       "    <tr style=\"text-align: right;\">\n",
       "      <th></th>\n",
       "      <th>Cows</th>\n",
       "      <th>Goats</th>\n",
       "    </tr>\n",
       "  </thead>\n",
       "  <tbody>\n",
       "    <tr>\n",
       "      <th>Year 1</th>\n",
       "      <td>12</td>\n",
       "      <td>22</td>\n",
       "    </tr>\n",
       "    <tr>\n",
       "      <th>Year 2</th>\n",
       "      <td>20</td>\n",
       "      <td>19</td>\n",
       "    </tr>\n",
       "  </tbody>\n",
       "</table>\n",
       "</div>"
      ],
      "text/plain": [
       "        Cows  Goats\n",
       "Year 1    12     22\n",
       "Year 2    20     19"
      ]
     },
     "execution_count": 10,
     "metadata": {},
     "output_type": "execute_result"
    }
   ],
   "source": [
    "animals = pd.DataFrame({'Cows': [12, 20], 'Goats': [22, 19]}, index=['Year 1', 'Year 2'])\n",
    "animals"
   ]
  },
  {
   "cell_type": "markdown",
   "id": "572be1e0",
   "metadata": {
    "papermill": {
     "duration": 0.026372,
     "end_time": "2022-05-09T17:27:57.741865",
     "exception": false,
     "start_time": "2022-05-09T17:27:57.715493",
     "status": "completed"
    },
    "tags": []
   },
   "source": [
    "In the cell below, write code to save this DataFrame to disk as a csv file with the name `cows_and_goats.csv`."
   ]
  },
  {
   "cell_type": "code",
   "execution_count": 11,
   "id": "0c9b7c30",
   "metadata": {
    "execution": {
     "iopub.execute_input": "2022-05-09T17:27:57.797372Z",
     "iopub.status.busy": "2022-05-09T17:27:57.796559Z",
     "iopub.status.idle": "2022-05-09T17:27:57.803028Z",
     "shell.execute_reply": "2022-05-09T17:27:57.802494Z"
    },
    "papermill": {
     "duration": 0.036197,
     "end_time": "2022-05-09T17:27:57.804866",
     "exception": false,
     "start_time": "2022-05-09T17:27:57.768669",
     "status": "completed"
    },
    "tags": []
   },
   "outputs": [
    {
     "data": {
      "application/javascript": [
       "parent.postMessage({\"jupyterEvent\": \"custom.exercise_interaction\", \"data\": {\"outcomeType\": 2, \"failureMessage\": \"Expected file to exist with name `cows_and_goats.csv`\", \"interactionType\": 1, \"questionType\": 2, \"questionId\": \"5_SaveAnimalsCsv\", \"learnToolsVersion\": \"0.3.4\", \"valueTowardsCompletion\": 0.0, \"exceptionClass\": \"\", \"trace\": \"\"}}, \"*\")"
      ],
      "text/plain": [
       "<IPython.core.display.Javascript object>"
      ]
     },
     "metadata": {},
     "output_type": "display_data"
    },
    {
     "data": {
      "text/markdown": [
       "<span style=\"color:#cc3333\">Incorrect:</span> Expected file to exist with name `cows_and_goats.csv`"
      ],
      "text/plain": [
       "Incorrect: Expected file to exist with name `cows_and_goats.csv`"
      ]
     },
     "metadata": {},
     "output_type": "display_data"
    }
   ],
   "source": [
    "# Your code goes here\n",
    "\n",
    "# Check your answer\n",
    "q5.check()"
   ]
  },
  {
   "cell_type": "code",
   "execution_count": 12,
   "id": "c87f40df",
   "metadata": {
    "execution": {
     "iopub.execute_input": "2022-05-09T17:27:57.863163Z",
     "iopub.status.busy": "2022-05-09T17:27:57.862664Z",
     "iopub.status.idle": "2022-05-09T17:27:57.865481Z",
     "shell.execute_reply": "2022-05-09T17:27:57.864952Z"
    },
    "papermill": {
     "duration": 0.034105,
     "end_time": "2022-05-09T17:27:57.867304",
     "exception": false,
     "start_time": "2022-05-09T17:27:57.833199",
     "status": "completed"
    },
    "tags": []
   },
   "outputs": [],
   "source": [
    "#q5.hint()\n",
    "#q5.solution()"
   ]
  },
  {
   "cell_type": "markdown",
   "id": "32f9d41b",
   "metadata": {
    "papermill": {
     "duration": 0.028282,
     "end_time": "2022-05-09T17:27:57.924480",
     "exception": false,
     "start_time": "2022-05-09T17:27:57.896198",
     "status": "completed"
    },
    "tags": []
   },
   "source": [
    "# Keep going\n",
    "\n",
    "Move on to learn about **[indexing, selecting and assigning](https://www.kaggle.com/residentmario/indexing-selecting-assigning)**."
   ]
  },
  {
   "cell_type": "markdown",
   "id": "0e6d6ee8",
   "metadata": {
    "papermill": {
     "duration": 0.027775,
     "end_time": "2022-05-09T17:27:57.981237",
     "exception": false,
     "start_time": "2022-05-09T17:27:57.953462",
     "status": "completed"
    },
    "tags": []
   },
   "source": [
    "---\n",
    "\n",
    "\n",
    "\n",
    "\n",
    "*Have questions or comments? Visit the [course discussion forum](https://www.kaggle.com/learn/pandas/discussion) to chat with other learners.*"
   ]
  }
 ],
 "metadata": {
  "kernelspec": {
   "display_name": "Python 3",
   "language": "python",
   "name": "python3"
  },
  "language_info": {
   "codemirror_mode": {
    "name": "ipython",
    "version": 3
   },
   "file_extension": ".py",
   "mimetype": "text/x-python",
   "name": "python",
   "nbconvert_exporter": "python",
   "pygments_lexer": "ipython3",
   "version": "3.7.12"
  },
  "papermill": {
   "default_parameters": {},
   "duration": 13.250193,
   "end_time": "2022-05-09T17:27:58.628828",
   "environment_variables": {},
   "exception": null,
   "input_path": "__notebook__.ipynb",
   "output_path": "__notebook__.ipynb",
   "parameters": {},
   "start_time": "2022-05-09T17:27:45.378635",
   "version": "2.3.4"
  }
 },
 "nbformat": 4,
 "nbformat_minor": 5
}
