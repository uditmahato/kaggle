{
 "cells": [
  {
   "cell_type": "markdown",
   "id": "3df27501",
   "metadata": {
    "papermill": {
     "duration": 0.015555,
     "end_time": "2022-05-09T17:29:38.276935",
     "exception": false,
     "start_time": "2022-05-09T17:29:38.261380",
     "status": "completed"
    },
    "tags": []
   },
   "source": [
    "**This notebook is an exercise in the [Pandas](https://www.kaggle.com/learn/pandas) course.  You can reference the tutorial at [this link](https://www.kaggle.com/residentmario/creating-reading-and-writing).**\n",
    "\n",
    "---\n"
   ]
  },
  {
   "cell_type": "markdown",
   "id": "d1d3745c",
   "metadata": {
    "papermill": {
     "duration": 0.013923,
     "end_time": "2022-05-09T17:29:38.305184",
     "exception": false,
     "start_time": "2022-05-09T17:29:38.291261",
     "status": "completed"
    },
    "tags": []
   },
   "source": [
    "# Introduction\n",
    "\n",
    "The first step in most data analytics projects is reading the data file. In this exercise, you'll create Series and DataFrame objects, both by hand and by reading data files.\n",
    "\n",
    "Run the code cell below to load libraries you will need (including code to check your answers)."
   ]
  },
  {
   "cell_type": "code",
   "execution_count": 1,
   "id": "e761d9f3",
   "metadata": {
    "execution": {
     "iopub.execute_input": "2022-05-09T17:29:38.335518Z",
     "iopub.status.busy": "2022-05-09T17:29:38.334981Z",
     "iopub.status.idle": "2022-05-09T17:29:40.507579Z",
     "shell.execute_reply": "2022-05-09T17:29:40.506690Z"
    },
    "papermill": {
     "duration": 2.190566,
     "end_time": "2022-05-09T17:29:40.509992",
     "exception": false,
     "start_time": "2022-05-09T17:29:38.319426",
     "status": "completed"
    },
    "tags": []
   },
   "outputs": [
    {
     "name": "stdout",
     "output_type": "stream",
     "text": [
      "Setup complete.\n"
     ]
    }
   ],
   "source": [
    "import pandas as pd\n",
    "pd.set_option('max_rows', 5)\n",
    "from learntools.core import binder; binder.bind(globals())\n",
    "from learntools.pandas.creating_reading_and_writing import *\n",
    "print(\"Setup complete.\")"
   ]
  },
  {
   "cell_type": "markdown",
   "id": "10e1aee4",
   "metadata": {
    "papermill": {
     "duration": 0.015677,
     "end_time": "2022-05-09T17:29:40.542349",
     "exception": false,
     "start_time": "2022-05-09T17:29:40.526672",
     "status": "completed"
    },
    "tags": []
   },
   "source": [
    "# Exercises"
   ]
  },
  {
   "cell_type": "markdown",
   "id": "bde5ea4d",
   "metadata": {
    "papermill": {
     "duration": 0.014307,
     "end_time": "2022-05-09T17:29:40.571412",
     "exception": false,
     "start_time": "2022-05-09T17:29:40.557105",
     "status": "completed"
    },
    "tags": []
   },
   "source": [
    "## 1.\n",
    "\n",
    "In the cell below, create a DataFrame `fruits` that looks like this:\n",
    "\n",
    "![](https://i.imgur.com/Ax3pp2A.png)"
   ]
  },
  {
   "cell_type": "code",
   "execution_count": 2,
   "id": "cb54637f",
   "metadata": {
    "execution": {
     "iopub.execute_input": "2022-05-09T17:29:40.601893Z",
     "iopub.status.busy": "2022-05-09T17:29:40.601636Z",
     "iopub.status.idle": "2022-05-09T17:29:40.622150Z",
     "shell.execute_reply": "2022-05-09T17:29:40.621245Z"
    },
    "papermill": {
     "duration": 0.038166,
     "end_time": "2022-05-09T17:29:40.624226",
     "exception": false,
     "start_time": "2022-05-09T17:29:40.586060",
     "status": "completed"
    },
    "tags": []
   },
   "outputs": [
    {
     "data": {
      "application/javascript": [
       "parent.postMessage({\"jupyterEvent\": \"custom.exercise_interaction\", \"data\": {\"outcomeType\": 1, \"valueTowardsCompletion\": 0.16666666666666666, \"interactionType\": 1, \"questionType\": 1, \"questionId\": \"1_FruitDfCreation\", \"learnToolsVersion\": \"0.3.4\", \"failureMessage\": \"\", \"exceptionClass\": \"\", \"trace\": \"\"}}, \"*\")"
      ],
      "text/plain": [
       "<IPython.core.display.Javascript object>"
      ]
     },
     "metadata": {},
     "output_type": "display_data"
    },
    {
     "data": {
      "text/markdown": [
       "<span style=\"color:#33cc33\">Correct</span>"
      ],
      "text/plain": [
       "Correct"
      ]
     },
     "metadata": {},
     "output_type": "display_data"
    },
    {
     "data": {
      "text/html": [
       "<div>\n",
       "<style scoped>\n",
       "    .dataframe tbody tr th:only-of-type {\n",
       "        vertical-align: middle;\n",
       "    }\n",
       "\n",
       "    .dataframe tbody tr th {\n",
       "        vertical-align: top;\n",
       "    }\n",
       "\n",
       "    .dataframe thead th {\n",
       "        text-align: right;\n",
       "    }\n",
       "</style>\n",
       "<table border=\"1\" class=\"dataframe\">\n",
       "  <thead>\n",
       "    <tr style=\"text-align: right;\">\n",
       "      <th></th>\n",
       "      <th>Apples</th>\n",
       "      <th>Bananas</th>\n",
       "    </tr>\n",
       "  </thead>\n",
       "  <tbody>\n",
       "    <tr>\n",
       "      <th>0</th>\n",
       "      <td>30</td>\n",
       "      <td>21</td>\n",
       "    </tr>\n",
       "  </tbody>\n",
       "</table>\n",
       "</div>"
      ],
      "text/plain": [
       "   Apples  Bananas\n",
       "0      30       21"
      ]
     },
     "execution_count": 2,
     "metadata": {},
     "output_type": "execute_result"
    }
   ],
   "source": [
    "# Your code goes here. Create a dataframe matching the above diagram and assign it to the variable fruits.\n",
    "fruits = pd.DataFrame({'Apples':[30],'Bananas':[21]})\n",
    "\n",
    "# Check your answer\n",
    "q1.check()\n",
    "fruits"
   ]
  },
  {
   "cell_type": "code",
   "execution_count": 3,
   "id": "6d75bcf4",
   "metadata": {
    "execution": {
     "iopub.execute_input": "2022-05-09T17:29:40.657876Z",
     "iopub.status.busy": "2022-05-09T17:29:40.657618Z",
     "iopub.status.idle": "2022-05-09T17:29:40.661532Z",
     "shell.execute_reply": "2022-05-09T17:29:40.660456Z"
    },
    "papermill": {
     "duration": 0.022814,
     "end_time": "2022-05-09T17:29:40.663204",
     "exception": false,
     "start_time": "2022-05-09T17:29:40.640390",
     "status": "completed"
    },
    "tags": []
   },
   "outputs": [],
   "source": [
    "#q1.hint()\n",
    "#q1.solution()"
   ]
  },
  {
   "cell_type": "markdown",
   "id": "9476918d",
   "metadata": {
    "papermill": {
     "duration": 0.015709,
     "end_time": "2022-05-09T17:29:40.695371",
     "exception": false,
     "start_time": "2022-05-09T17:29:40.679662",
     "status": "completed"
    },
    "tags": []
   },
   "source": [
    "## 2.\n",
    "\n",
    "Create a dataframe `fruit_sales` that matches the diagram below:\n",
    "\n",
    "![](https://i.imgur.com/CHPn7ZF.png)"
   ]
  },
  {
   "cell_type": "code",
   "execution_count": 4,
   "id": "9fc457f0",
   "metadata": {
    "execution": {
     "iopub.execute_input": "2022-05-09T17:29:40.731193Z",
     "iopub.status.busy": "2022-05-09T17:29:40.730916Z",
     "iopub.status.idle": "2022-05-09T17:29:40.745505Z",
     "shell.execute_reply": "2022-05-09T17:29:40.744480Z"
    },
    "papermill": {
     "duration": 0.035993,
     "end_time": "2022-05-09T17:29:40.747552",
     "exception": false,
     "start_time": "2022-05-09T17:29:40.711559",
     "status": "completed"
    },
    "tags": []
   },
   "outputs": [
    {
     "data": {
      "application/javascript": [
       "parent.postMessage({\"jupyterEvent\": \"custom.exercise_interaction\", \"data\": {\"outcomeType\": 1, \"valueTowardsCompletion\": 0.16666666666666666, \"interactionType\": 1, \"questionType\": 1, \"questionId\": \"2_FruitSalesDfCreation\", \"learnToolsVersion\": \"0.3.4\", \"failureMessage\": \"\", \"exceptionClass\": \"\", \"trace\": \"\"}}, \"*\")"
      ],
      "text/plain": [
       "<IPython.core.display.Javascript object>"
      ]
     },
     "metadata": {},
     "output_type": "display_data"
    },
    {
     "data": {
      "text/markdown": [
       "<span style=\"color:#33cc33\">Correct</span>"
      ],
      "text/plain": [
       "Correct"
      ]
     },
     "metadata": {},
     "output_type": "display_data"
    },
    {
     "data": {
      "text/html": [
       "<div>\n",
       "<style scoped>\n",
       "    .dataframe tbody tr th:only-of-type {\n",
       "        vertical-align: middle;\n",
       "    }\n",
       "\n",
       "    .dataframe tbody tr th {\n",
       "        vertical-align: top;\n",
       "    }\n",
       "\n",
       "    .dataframe thead th {\n",
       "        text-align: right;\n",
       "    }\n",
       "</style>\n",
       "<table border=\"1\" class=\"dataframe\">\n",
       "  <thead>\n",
       "    <tr style=\"text-align: right;\">\n",
       "      <th></th>\n",
       "      <th>Apples</th>\n",
       "      <th>Bananas</th>\n",
       "    </tr>\n",
       "  </thead>\n",
       "  <tbody>\n",
       "    <tr>\n",
       "      <th>2017 Sales</th>\n",
       "      <td>35</td>\n",
       "      <td>21</td>\n",
       "    </tr>\n",
       "    <tr>\n",
       "      <th>2018 Sales</th>\n",
       "      <td>41</td>\n",
       "      <td>34</td>\n",
       "    </tr>\n",
       "  </tbody>\n",
       "</table>\n",
       "</div>"
      ],
      "text/plain": [
       "            Apples  Bananas\n",
       "2017 Sales      35       21\n",
       "2018 Sales      41       34"
      ]
     },
     "execution_count": 4,
     "metadata": {},
     "output_type": "execute_result"
    }
   ],
   "source": [
    "# Your code goes here. Create a dataframe matching the above diagram and assign it to the variable fruit_sales.\n",
    "fruit_sales = pd.DataFrame({'Apples':[35,41],'Bananas':[21,34]},index=['2017 Sales','2018 Sales'])\n",
    "\n",
    "# Check your answer\n",
    "q2.check()\n",
    "fruit_sales"
   ]
  },
  {
   "cell_type": "code",
   "execution_count": 5,
   "id": "cce89f9f",
   "metadata": {
    "execution": {
     "iopub.execute_input": "2022-05-09T17:29:40.785121Z",
     "iopub.status.busy": "2022-05-09T17:29:40.784818Z",
     "iopub.status.idle": "2022-05-09T17:29:40.788911Z",
     "shell.execute_reply": "2022-05-09T17:29:40.787914Z"
    },
    "papermill": {
     "duration": 0.02573,
     "end_time": "2022-05-09T17:29:40.790840",
     "exception": false,
     "start_time": "2022-05-09T17:29:40.765110",
     "status": "completed"
    },
    "tags": []
   },
   "outputs": [],
   "source": [
    "#q2.hint()\n",
    "#q2.solution()"
   ]
  },
  {
   "cell_type": "markdown",
   "id": "87c1a208",
   "metadata": {
    "papermill": {
     "duration": 0.018005,
     "end_time": "2022-05-09T17:29:40.826501",
     "exception": false,
     "start_time": "2022-05-09T17:29:40.808496",
     "status": "completed"
    },
    "tags": []
   },
   "source": [
    "## 3.\n",
    "\n",
    "Create a variable `ingredients` with a Series that looks like:\n",
    "\n",
    "```\n",
    "Flour     4 cups\n",
    "Milk       1 cup\n",
    "Eggs     2 large\n",
    "Spam       1 can\n",
    "Name: Dinner, dtype: object\n",
    "```"
   ]
  },
  {
   "cell_type": "code",
   "execution_count": 6,
   "id": "34816449",
   "metadata": {
    "execution": {
     "iopub.execute_input": "2022-05-09T17:29:40.862314Z",
     "iopub.status.busy": "2022-05-09T17:29:40.862040Z",
     "iopub.status.idle": "2022-05-09T17:29:40.872468Z",
     "shell.execute_reply": "2022-05-09T17:29:40.871600Z"
    },
    "papermill": {
     "duration": 0.030504,
     "end_time": "2022-05-09T17:29:40.874324",
     "exception": false,
     "start_time": "2022-05-09T17:29:40.843820",
     "status": "completed"
    },
    "tags": []
   },
   "outputs": [
    {
     "data": {
      "application/javascript": [
       "parent.postMessage({\"jupyterEvent\": \"custom.exercise_interaction\", \"data\": {\"outcomeType\": 4, \"interactionType\": 1, \"questionType\": 2, \"questionId\": \"3_RecipeSeriesCreation\", \"learnToolsVersion\": \"0.3.4\", \"valueTowardsCompletion\": 0.0, \"failureMessage\": \"\", \"exceptionClass\": \"\", \"trace\": \"\"}}, \"*\")"
      ],
      "text/plain": [
       "<IPython.core.display.Javascript object>"
      ]
     },
     "metadata": {},
     "output_type": "display_data"
    },
    {
     "data": {
      "text/markdown": [
       "<span style=\"color:#ccaa33\">Check:</span> When you've updated the starter code, `check()` will tell you whether your code is correct. You need to update the code that creates variable `ingredients`"
      ],
      "text/plain": [
       "Check: When you've updated the starter code, `check()` will tell you whether your code is correct. You need to update the code that creates variable `ingredients`"
      ]
     },
     "metadata": {},
     "output_type": "display_data"
    },
    {
     "data": {
      "text/markdown": [],
      "text/plain": [
       "<learntools.core.constants.PlaceholderValue at 0x7f0d838ee210>"
      ]
     },
     "execution_count": 6,
     "metadata": {},
     "output_type": "execute_result"
    }
   ],
   "source": [
    "ingredients = ____\n",
    "\n",
    "# Check your answer\n",
    "q3.check()\n",
    "ingredients"
   ]
  },
  {
   "cell_type": "code",
   "execution_count": 7,
   "id": "1c49953a",
   "metadata": {
    "execution": {
     "iopub.execute_input": "2022-05-09T17:29:40.914108Z",
     "iopub.status.busy": "2022-05-09T17:29:40.913849Z",
     "iopub.status.idle": "2022-05-09T17:29:40.917091Z",
     "shell.execute_reply": "2022-05-09T17:29:40.916255Z"
    },
    "papermill": {
     "duration": 0.025509,
     "end_time": "2022-05-09T17:29:40.919125",
     "exception": false,
     "start_time": "2022-05-09T17:29:40.893616",
     "status": "completed"
    },
    "tags": []
   },
   "outputs": [],
   "source": [
    "#q3.hint()\n",
    "#q3.solution()"
   ]
  },
  {
   "cell_type": "markdown",
   "id": "2e126cff",
   "metadata": {
    "papermill": {
     "duration": 0.01854,
     "end_time": "2022-05-09T17:29:40.956889",
     "exception": false,
     "start_time": "2022-05-09T17:29:40.938349",
     "status": "completed"
    },
    "tags": []
   },
   "source": [
    "## 4.\n",
    "\n",
    "Read the following csv dataset of wine reviews into a DataFrame called `reviews`:\n",
    "\n",
    "![](https://i.imgur.com/74RCZtU.png)\n",
    "\n",
    "The filepath to the csv file is `../input/wine-reviews/winemag-data_first150k.csv`. The first few lines look like:\n",
    "\n",
    "```\n",
    ",country,description,designation,points,price,province,region_1,region_2,variety,winery\n",
    "0,US,\"This tremendous 100% varietal wine[...]\",Martha's Vineyard,96,235.0,California,Napa Valley,Napa,Cabernet Sauvignon,Heitz\n",
    "1,Spain,\"Ripe aromas of fig, blackberry and[...]\",Carodorum Selección Especial Reserva,96,110.0,Northern Spain,Toro,,Tinta de Toro,Bodega Carmen Rodríguez\n",
    "```"
   ]
  },
  {
   "cell_type": "code",
   "execution_count": 8,
   "id": "7013d0a7",
   "metadata": {
    "execution": {
     "iopub.execute_input": "2022-05-09T17:29:40.996305Z",
     "iopub.status.busy": "2022-05-09T17:29:40.995985Z",
     "iopub.status.idle": "2022-05-09T17:29:41.004557Z",
     "shell.execute_reply": "2022-05-09T17:29:41.003744Z"
    },
    "papermill": {
     "duration": 0.030615,
     "end_time": "2022-05-09T17:29:41.006487",
     "exception": false,
     "start_time": "2022-05-09T17:29:40.975872",
     "status": "completed"
    },
    "tags": []
   },
   "outputs": [
    {
     "data": {
      "application/javascript": [
       "parent.postMessage({\"jupyterEvent\": \"custom.exercise_interaction\", \"data\": {\"outcomeType\": 4, \"interactionType\": 1, \"questionType\": 1, \"questionId\": \"4_ReadWineCsv\", \"learnToolsVersion\": \"0.3.4\", \"valueTowardsCompletion\": 0.0, \"failureMessage\": \"\", \"exceptionClass\": \"\", \"trace\": \"\"}}, \"*\")"
      ],
      "text/plain": [
       "<IPython.core.display.Javascript object>"
      ]
     },
     "metadata": {},
     "output_type": "display_data"
    },
    {
     "data": {
      "text/markdown": [
       "<span style=\"color:#ccaa33\">Check:</span> When you've updated the starter code, `check()` will tell you whether your code is correct. You need to update the code that creates variable `reviews`"
      ],
      "text/plain": [
       "Check: When you've updated the starter code, `check()` will tell you whether your code is correct. You need to update the code that creates variable `reviews`"
      ]
     },
     "metadata": {},
     "output_type": "display_data"
    },
    {
     "data": {
      "text/markdown": [],
      "text/plain": [
       "<learntools.core.constants.PlaceholderValue at 0x7f0d838ee210>"
      ]
     },
     "execution_count": 8,
     "metadata": {},
     "output_type": "execute_result"
    }
   ],
   "source": [
    "reviews = ____\n",
    "\n",
    "# Check your answer\n",
    "q4.check()\n",
    "reviews"
   ]
  },
  {
   "cell_type": "code",
   "execution_count": 9,
   "id": "2a5ec31a",
   "metadata": {
    "execution": {
     "iopub.execute_input": "2022-05-09T17:29:41.048517Z",
     "iopub.status.busy": "2022-05-09T17:29:41.048263Z",
     "iopub.status.idle": "2022-05-09T17:29:41.051600Z",
     "shell.execute_reply": "2022-05-09T17:29:41.050746Z"
    },
    "papermill": {
     "duration": 0.027038,
     "end_time": "2022-05-09T17:29:41.053453",
     "exception": false,
     "start_time": "2022-05-09T17:29:41.026415",
     "status": "completed"
    },
    "tags": []
   },
   "outputs": [],
   "source": [
    "#q4.hint()\n",
    "#q4.solution()"
   ]
  },
  {
   "cell_type": "markdown",
   "id": "dbb76613",
   "metadata": {
    "papermill": {
     "duration": 0.019514,
     "end_time": "2022-05-09T17:29:41.093315",
     "exception": false,
     "start_time": "2022-05-09T17:29:41.073801",
     "status": "completed"
    },
    "tags": []
   },
   "source": [
    "## 5.\n",
    "\n",
    "Run the cell below to create and display a DataFrame called `animals`:"
   ]
  },
  {
   "cell_type": "code",
   "execution_count": 10,
   "id": "667e05c4",
   "metadata": {
    "execution": {
     "iopub.execute_input": "2022-05-09T17:29:41.134192Z",
     "iopub.status.busy": "2022-05-09T17:29:41.133922Z",
     "iopub.status.idle": "2022-05-09T17:29:41.142421Z",
     "shell.execute_reply": "2022-05-09T17:29:41.141792Z"
    },
    "papermill": {
     "duration": 0.031292,
     "end_time": "2022-05-09T17:29:41.144231",
     "exception": false,
     "start_time": "2022-05-09T17:29:41.112939",
     "status": "completed"
    },
    "tags": []
   },
   "outputs": [
    {
     "data": {
      "text/html": [
       "<div>\n",
       "<style scoped>\n",
       "    .dataframe tbody tr th:only-of-type {\n",
       "        vertical-align: middle;\n",
       "    }\n",
       "\n",
       "    .dataframe tbody tr th {\n",
       "        vertical-align: top;\n",
       "    }\n",
       "\n",
       "    .dataframe thead th {\n",
       "        text-align: right;\n",
       "    }\n",
       "</style>\n",
       "<table border=\"1\" class=\"dataframe\">\n",
       "  <thead>\n",
       "    <tr style=\"text-align: right;\">\n",
       "      <th></th>\n",
       "      <th>Cows</th>\n",
       "      <th>Goats</th>\n",
       "    </tr>\n",
       "  </thead>\n",
       "  <tbody>\n",
       "    <tr>\n",
       "      <th>Year 1</th>\n",
       "      <td>12</td>\n",
       "      <td>22</td>\n",
       "    </tr>\n",
       "    <tr>\n",
       "      <th>Year 2</th>\n",
       "      <td>20</td>\n",
       "      <td>19</td>\n",
       "    </tr>\n",
       "  </tbody>\n",
       "</table>\n",
       "</div>"
      ],
      "text/plain": [
       "        Cows  Goats\n",
       "Year 1    12     22\n",
       "Year 2    20     19"
      ]
     },
     "execution_count": 10,
     "metadata": {},
     "output_type": "execute_result"
    }
   ],
   "source": [
    "animals = pd.DataFrame({'Cows': [12, 20], 'Goats': [22, 19]}, index=['Year 1', 'Year 2'])\n",
    "animals"
   ]
  },
  {
   "cell_type": "markdown",
   "id": "640cc82a",
   "metadata": {
    "papermill": {
     "duration": 0.020809,
     "end_time": "2022-05-09T17:29:41.185809",
     "exception": false,
     "start_time": "2022-05-09T17:29:41.165000",
     "status": "completed"
    },
    "tags": []
   },
   "source": [
    "In the cell below, write code to save this DataFrame to disk as a csv file with the name `cows_and_goats.csv`."
   ]
  },
  {
   "cell_type": "code",
   "execution_count": 11,
   "id": "718d5b49",
   "metadata": {
    "execution": {
     "iopub.execute_input": "2022-05-09T17:29:41.227411Z",
     "iopub.status.busy": "2022-05-09T17:29:41.227109Z",
     "iopub.status.idle": "2022-05-09T17:29:41.233357Z",
     "shell.execute_reply": "2022-05-09T17:29:41.232757Z"
    },
    "papermill": {
     "duration": 0.029169,
     "end_time": "2022-05-09T17:29:41.234947",
     "exception": false,
     "start_time": "2022-05-09T17:29:41.205778",
     "status": "completed"
    },
    "tags": []
   },
   "outputs": [
    {
     "data": {
      "application/javascript": [
       "parent.postMessage({\"jupyterEvent\": \"custom.exercise_interaction\", \"data\": {\"outcomeType\": 2, \"failureMessage\": \"Expected file to exist with name `cows_and_goats.csv`\", \"interactionType\": 1, \"questionType\": 2, \"questionId\": \"5_SaveAnimalsCsv\", \"learnToolsVersion\": \"0.3.4\", \"valueTowardsCompletion\": 0.0, \"exceptionClass\": \"\", \"trace\": \"\"}}, \"*\")"
      ],
      "text/plain": [
       "<IPython.core.display.Javascript object>"
      ]
     },
     "metadata": {},
     "output_type": "display_data"
    },
    {
     "data": {
      "text/markdown": [
       "<span style=\"color:#cc3333\">Incorrect:</span> Expected file to exist with name `cows_and_goats.csv`"
      ],
      "text/plain": [
       "Incorrect: Expected file to exist with name `cows_and_goats.csv`"
      ]
     },
     "metadata": {},
     "output_type": "display_data"
    }
   ],
   "source": [
    "# Your code goes here\n",
    "\n",
    "# Check your answer\n",
    "q5.check()"
   ]
  },
  {
   "cell_type": "code",
   "execution_count": 12,
   "id": "bd3f6c42",
   "metadata": {
    "execution": {
     "iopub.execute_input": "2022-05-09T17:29:41.278681Z",
     "iopub.status.busy": "2022-05-09T17:29:41.278193Z",
     "iopub.status.idle": "2022-05-09T17:29:41.280924Z",
     "shell.execute_reply": "2022-05-09T17:29:41.280416Z"
    },
    "papermill": {
     "duration": 0.026489,
     "end_time": "2022-05-09T17:29:41.282623",
     "exception": false,
     "start_time": "2022-05-09T17:29:41.256134",
     "status": "completed"
    },
    "tags": []
   },
   "outputs": [],
   "source": [
    "#q5.hint()\n",
    "#q5.solution()"
   ]
  },
  {
   "cell_type": "markdown",
   "id": "2a7a66fb",
   "metadata": {
    "papermill": {
     "duration": 0.020856,
     "end_time": "2022-05-09T17:29:41.324483",
     "exception": false,
     "start_time": "2022-05-09T17:29:41.303627",
     "status": "completed"
    },
    "tags": []
   },
   "source": [
    "# Keep going\n",
    "\n",
    "Move on to learn about **[indexing, selecting and assigning](https://www.kaggle.com/residentmario/indexing-selecting-assigning)**."
   ]
  },
  {
   "cell_type": "markdown",
   "id": "ddd32957",
   "metadata": {
    "papermill": {
     "duration": 0.020857,
     "end_time": "2022-05-09T17:29:41.366611",
     "exception": false,
     "start_time": "2022-05-09T17:29:41.345754",
     "status": "completed"
    },
    "tags": []
   },
   "source": [
    "---\n",
    "\n",
    "\n",
    "\n",
    "\n",
    "*Have questions or comments? Visit the [course discussion forum](https://www.kaggle.com/learn/pandas/discussion) to chat with other learners.*"
   ]
  }
 ],
 "metadata": {
  "kernelspec": {
   "display_name": "Python 3",
   "language": "python",
   "name": "python3"
  },
  "language_info": {
   "codemirror_mode": {
    "name": "ipython",
    "version": 3
   },
   "file_extension": ".py",
   "mimetype": "text/x-python",
   "name": "python",
   "nbconvert_exporter": "python",
   "pygments_lexer": "ipython3",
   "version": "3.7.12"
  },
  "papermill": {
   "default_parameters": {},
   "duration": 12.41979,
   "end_time": "2022-05-09T17:29:42.007736",
   "environment_variables": {},
   "exception": null,
   "input_path": "__notebook__.ipynb",
   "output_path": "__notebook__.ipynb",
   "parameters": {},
   "start_time": "2022-05-09T17:29:29.587946",
   "version": "2.3.4"
  }
 },
 "nbformat": 4,
 "nbformat_minor": 5
}
