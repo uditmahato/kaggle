{
 "cells": [
  {
   "cell_type": "markdown",
   "id": "9a5c6f8e",
   "metadata": {
    "papermill": {
     "duration": 0.0244,
     "end_time": "2022-05-09T17:32:33.046095",
     "exception": false,
     "start_time": "2022-05-09T17:32:33.021695",
     "status": "completed"
    },
    "tags": []
   },
   "source": [
    "**This notebook is an exercise in the [Pandas](https://www.kaggle.com/learn/pandas) course.  You can reference the tutorial at [this link](https://www.kaggle.com/residentmario/creating-reading-and-writing).**\n",
    "\n",
    "---\n"
   ]
  },
  {
   "cell_type": "markdown",
   "id": "a6b2c484",
   "metadata": {
    "papermill": {
     "duration": 0.023634,
     "end_time": "2022-05-09T17:32:33.095056",
     "exception": false,
     "start_time": "2022-05-09T17:32:33.071422",
     "status": "completed"
    },
    "tags": []
   },
   "source": [
    "# Introduction\n",
    "\n",
    "The first step in most data analytics projects is reading the data file. In this exercise, you'll create Series and DataFrame objects, both by hand and by reading data files.\n",
    "\n",
    "Run the code cell below to load libraries you will need (including code to check your answers)."
   ]
  },
  {
   "cell_type": "code",
   "execution_count": 1,
   "id": "d9d88543",
   "metadata": {
    "execution": {
     "iopub.execute_input": "2022-05-09T17:32:33.145520Z",
     "iopub.status.busy": "2022-05-09T17:32:33.145002Z",
     "iopub.status.idle": "2022-05-09T17:32:35.418247Z",
     "shell.execute_reply": "2022-05-09T17:32:35.417167Z"
    },
    "papermill": {
     "duration": 2.301957,
     "end_time": "2022-05-09T17:32:35.421006",
     "exception": false,
     "start_time": "2022-05-09T17:32:33.119049",
     "status": "completed"
    },
    "tags": []
   },
   "outputs": [
    {
     "name": "stdout",
     "output_type": "stream",
     "text": [
      "Setup complete.\n"
     ]
    }
   ],
   "source": [
    "import pandas as pd\n",
    "pd.set_option('max_rows', 5)\n",
    "from learntools.core import binder; binder.bind(globals())\n",
    "from learntools.pandas.creating_reading_and_writing import *\n",
    "print(\"Setup complete.\")"
   ]
  },
  {
   "cell_type": "markdown",
   "id": "9c2537d8",
   "metadata": {
    "papermill": {
     "duration": 0.024076,
     "end_time": "2022-05-09T17:32:35.470121",
     "exception": false,
     "start_time": "2022-05-09T17:32:35.446045",
     "status": "completed"
    },
    "tags": []
   },
   "source": [
    "# Exercises"
   ]
  },
  {
   "cell_type": "markdown",
   "id": "2404f17d",
   "metadata": {
    "papermill": {
     "duration": 0.023796,
     "end_time": "2022-05-09T17:32:35.518176",
     "exception": false,
     "start_time": "2022-05-09T17:32:35.494380",
     "status": "completed"
    },
    "tags": []
   },
   "source": [
    "## 1.\n",
    "\n",
    "In the cell below, create a DataFrame `fruits` that looks like this:\n",
    "\n",
    "![](https://i.imgur.com/Ax3pp2A.png)"
   ]
  },
  {
   "cell_type": "code",
   "execution_count": 2,
   "id": "f3c677d1",
   "metadata": {
    "execution": {
     "iopub.execute_input": "2022-05-09T17:32:35.569588Z",
     "iopub.status.busy": "2022-05-09T17:32:35.568559Z",
     "iopub.status.idle": "2022-05-09T17:32:35.590888Z",
     "shell.execute_reply": "2022-05-09T17:32:35.590045Z"
    },
    "papermill": {
     "duration": 0.050068,
     "end_time": "2022-05-09T17:32:35.592802",
     "exception": false,
     "start_time": "2022-05-09T17:32:35.542734",
     "status": "completed"
    },
    "tags": []
   },
   "outputs": [
    {
     "data": {
      "application/javascript": [
       "parent.postMessage({\"jupyterEvent\": \"custom.exercise_interaction\", \"data\": {\"outcomeType\": 1, \"valueTowardsCompletion\": 0.16666666666666666, \"interactionType\": 1, \"questionType\": 1, \"questionId\": \"1_FruitDfCreation\", \"learnToolsVersion\": \"0.3.4\", \"failureMessage\": \"\", \"exceptionClass\": \"\", \"trace\": \"\"}}, \"*\")"
      ],
      "text/plain": [
       "<IPython.core.display.Javascript object>"
      ]
     },
     "metadata": {},
     "output_type": "display_data"
    },
    {
     "data": {
      "text/markdown": [
       "<span style=\"color:#33cc33\">Correct</span>"
      ],
      "text/plain": [
       "Correct"
      ]
     },
     "metadata": {},
     "output_type": "display_data"
    },
    {
     "data": {
      "text/html": [
       "<div>\n",
       "<style scoped>\n",
       "    .dataframe tbody tr th:only-of-type {\n",
       "        vertical-align: middle;\n",
       "    }\n",
       "\n",
       "    .dataframe tbody tr th {\n",
       "        vertical-align: top;\n",
       "    }\n",
       "\n",
       "    .dataframe thead th {\n",
       "        text-align: right;\n",
       "    }\n",
       "</style>\n",
       "<table border=\"1\" class=\"dataframe\">\n",
       "  <thead>\n",
       "    <tr style=\"text-align: right;\">\n",
       "      <th></th>\n",
       "      <th>Apples</th>\n",
       "      <th>Bananas</th>\n",
       "    </tr>\n",
       "  </thead>\n",
       "  <tbody>\n",
       "    <tr>\n",
       "      <th>0</th>\n",
       "      <td>30</td>\n",
       "      <td>21</td>\n",
       "    </tr>\n",
       "  </tbody>\n",
       "</table>\n",
       "</div>"
      ],
      "text/plain": [
       "   Apples  Bananas\n",
       "0      30       21"
      ]
     },
     "execution_count": 2,
     "metadata": {},
     "output_type": "execute_result"
    }
   ],
   "source": [
    "# Your code goes here. Create a dataframe matching the above diagram and assign it to the variable fruits.\n",
    "fruits = pd.DataFrame({'Apples':[30],'Bananas':[21]})\n",
    "\n",
    "# Check your answer\n",
    "q1.check()\n",
    "fruits"
   ]
  },
  {
   "cell_type": "code",
   "execution_count": 3,
   "id": "54467ed5",
   "metadata": {
    "execution": {
     "iopub.execute_input": "2022-05-09T17:32:35.650044Z",
     "iopub.status.busy": "2022-05-09T17:32:35.649041Z",
     "iopub.status.idle": "2022-05-09T17:32:35.652879Z",
     "shell.execute_reply": "2022-05-09T17:32:35.651987Z"
    },
    "papermill": {
     "duration": 0.033896,
     "end_time": "2022-05-09T17:32:35.654976",
     "exception": false,
     "start_time": "2022-05-09T17:32:35.621080",
     "status": "completed"
    },
    "tags": []
   },
   "outputs": [],
   "source": [
    "#q1.hint()\n",
    "#q1.solution()"
   ]
  },
  {
   "cell_type": "markdown",
   "id": "52b0ce65",
   "metadata": {
    "papermill": {
     "duration": 0.025802,
     "end_time": "2022-05-09T17:32:35.707906",
     "exception": false,
     "start_time": "2022-05-09T17:32:35.682104",
     "status": "completed"
    },
    "tags": []
   },
   "source": [
    "## 2.\n",
    "\n",
    "Create a dataframe `fruit_sales` that matches the diagram below:\n",
    "\n",
    "![](https://i.imgur.com/CHPn7ZF.png)"
   ]
  },
  {
   "cell_type": "code",
   "execution_count": 4,
   "id": "ea3ff7b4",
   "metadata": {
    "execution": {
     "iopub.execute_input": "2022-05-09T17:32:35.763669Z",
     "iopub.status.busy": "2022-05-09T17:32:35.762959Z",
     "iopub.status.idle": "2022-05-09T17:32:35.775749Z",
     "shell.execute_reply": "2022-05-09T17:32:35.775242Z"
    },
    "papermill": {
     "duration": 0.043463,
     "end_time": "2022-05-09T17:32:35.777444",
     "exception": false,
     "start_time": "2022-05-09T17:32:35.733981",
     "status": "completed"
    },
    "tags": []
   },
   "outputs": [
    {
     "data": {
      "application/javascript": [
       "parent.postMessage({\"jupyterEvent\": \"custom.exercise_interaction\", \"data\": {\"outcomeType\": 1, \"valueTowardsCompletion\": 0.16666666666666666, \"interactionType\": 1, \"questionType\": 1, \"questionId\": \"2_FruitSalesDfCreation\", \"learnToolsVersion\": \"0.3.4\", \"failureMessage\": \"\", \"exceptionClass\": \"\", \"trace\": \"\"}}, \"*\")"
      ],
      "text/plain": [
       "<IPython.core.display.Javascript object>"
      ]
     },
     "metadata": {},
     "output_type": "display_data"
    },
    {
     "data": {
      "text/markdown": [
       "<span style=\"color:#33cc33\">Correct</span>"
      ],
      "text/plain": [
       "Correct"
      ]
     },
     "metadata": {},
     "output_type": "display_data"
    },
    {
     "data": {
      "text/html": [
       "<div>\n",
       "<style scoped>\n",
       "    .dataframe tbody tr th:only-of-type {\n",
       "        vertical-align: middle;\n",
       "    }\n",
       "\n",
       "    .dataframe tbody tr th {\n",
       "        vertical-align: top;\n",
       "    }\n",
       "\n",
       "    .dataframe thead th {\n",
       "        text-align: right;\n",
       "    }\n",
       "</style>\n",
       "<table border=\"1\" class=\"dataframe\">\n",
       "  <thead>\n",
       "    <tr style=\"text-align: right;\">\n",
       "      <th></th>\n",
       "      <th>Apples</th>\n",
       "      <th>Bananas</th>\n",
       "    </tr>\n",
       "  </thead>\n",
       "  <tbody>\n",
       "    <tr>\n",
       "      <th>2017 Sales</th>\n",
       "      <td>35</td>\n",
       "      <td>21</td>\n",
       "    </tr>\n",
       "    <tr>\n",
       "      <th>2018 Sales</th>\n",
       "      <td>41</td>\n",
       "      <td>34</td>\n",
       "    </tr>\n",
       "  </tbody>\n",
       "</table>\n",
       "</div>"
      ],
      "text/plain": [
       "            Apples  Bananas\n",
       "2017 Sales      35       21\n",
       "2018 Sales      41       34"
      ]
     },
     "execution_count": 4,
     "metadata": {},
     "output_type": "execute_result"
    }
   ],
   "source": [
    "# Your code goes here. Create a dataframe matching the above diagram and assign it to the variable fruit_sales.\n",
    "fruit_sales = pd.DataFrame({'Apples':[35,41],'Bananas':[21,34]},index=['2017 Sales','2018 Sales'])\n",
    "\n",
    "# Check your answer\n",
    "q2.check()\n",
    "fruit_sales"
   ]
  },
  {
   "cell_type": "code",
   "execution_count": 5,
   "id": "a990f2c3",
   "metadata": {
    "execution": {
     "iopub.execute_input": "2022-05-09T17:32:35.835432Z",
     "iopub.status.busy": "2022-05-09T17:32:35.835143Z",
     "iopub.status.idle": "2022-05-09T17:32:35.838586Z",
     "shell.execute_reply": "2022-05-09T17:32:35.837685Z"
    },
    "papermill": {
     "duration": 0.034808,
     "end_time": "2022-05-09T17:32:35.840238",
     "exception": false,
     "start_time": "2022-05-09T17:32:35.805430",
     "status": "completed"
    },
    "tags": []
   },
   "outputs": [],
   "source": [
    "#q2.hint()\n",
    "#q2.solution()"
   ]
  },
  {
   "cell_type": "markdown",
   "id": "c177610d",
   "metadata": {
    "papermill": {
     "duration": 0.027878,
     "end_time": "2022-05-09T17:32:35.896240",
     "exception": false,
     "start_time": "2022-05-09T17:32:35.868362",
     "status": "completed"
    },
    "tags": []
   },
   "source": [
    "## 3.\n",
    "\n",
    "Create a variable `ingredients` with a Series that looks like:\n",
    "\n",
    "```\n",
    "Flour     4 cups\n",
    "Milk       1 cup\n",
    "Eggs     2 large\n",
    "Spam       1 can\n",
    "Name: Dinner, dtype: object\n",
    "```"
   ]
  },
  {
   "cell_type": "code",
   "execution_count": 6,
   "id": "4e4ecc85",
   "metadata": {
    "execution": {
     "iopub.execute_input": "2022-05-09T17:32:35.954093Z",
     "iopub.status.busy": "2022-05-09T17:32:35.953337Z",
     "iopub.status.idle": "2022-05-09T17:32:35.963903Z",
     "shell.execute_reply": "2022-05-09T17:32:35.963418Z"
    },
    "papermill": {
     "duration": 0.041534,
     "end_time": "2022-05-09T17:32:35.965553",
     "exception": false,
     "start_time": "2022-05-09T17:32:35.924019",
     "status": "completed"
    },
    "tags": []
   },
   "outputs": [
    {
     "data": {
      "application/javascript": [
       "parent.postMessage({\"jupyterEvent\": \"custom.exercise_interaction\", \"data\": {\"outcomeType\": 1, \"valueTowardsCompletion\": 0.16666666666666666, \"interactionType\": 1, \"questionType\": 2, \"questionId\": \"3_RecipeSeriesCreation\", \"learnToolsVersion\": \"0.3.4\", \"failureMessage\": \"\", \"exceptionClass\": \"\", \"trace\": \"\"}}, \"*\")"
      ],
      "text/plain": [
       "<IPython.core.display.Javascript object>"
      ]
     },
     "metadata": {},
     "output_type": "display_data"
    },
    {
     "data": {
      "text/markdown": [
       "<span style=\"color:#33cc33\">Correct</span>"
      ],
      "text/plain": [
       "Correct"
      ]
     },
     "metadata": {},
     "output_type": "display_data"
    },
    {
     "data": {
      "text/plain": [
       "Flour     4 cups\n",
       "Milk       1 cup\n",
       "Eggs     2 large\n",
       "Spam       1 can\n",
       "Name: Dinner, dtype: object"
      ]
     },
     "execution_count": 6,
     "metadata": {},
     "output_type": "execute_result"
    }
   ],
   "source": [
    "ingredients = pd.Series(['4 cups','1 cup','2 large','1 can'],index=['Flour','Milk','Eggs','Spam'],name=\"Dinner\")\n",
    "\n",
    "# Check your answer\n",
    "q3.check()\n",
    "ingredients"
   ]
  },
  {
   "cell_type": "code",
   "execution_count": 7,
   "id": "bbc893bd",
   "metadata": {
    "execution": {
     "iopub.execute_input": "2022-05-09T17:32:36.026892Z",
     "iopub.status.busy": "2022-05-09T17:32:36.026472Z",
     "iopub.status.idle": "2022-05-09T17:32:36.029039Z",
     "shell.execute_reply": "2022-05-09T17:32:36.028614Z"
    },
    "papermill": {
     "duration": 0.03582,
     "end_time": "2022-05-09T17:32:36.030962",
     "exception": false,
     "start_time": "2022-05-09T17:32:35.995142",
     "status": "completed"
    },
    "tags": []
   },
   "outputs": [],
   "source": [
    "#q3.hint()\n",
    "#q3.solution()"
   ]
  },
  {
   "cell_type": "markdown",
   "id": "12449a0b",
   "metadata": {
    "papermill": {
     "duration": 0.030148,
     "end_time": "2022-05-09T17:32:36.091421",
     "exception": false,
     "start_time": "2022-05-09T17:32:36.061273",
     "status": "completed"
    },
    "tags": []
   },
   "source": [
    "## 4.\n",
    "\n",
    "Read the following csv dataset of wine reviews into a DataFrame called `reviews`:\n",
    "\n",
    "![](https://i.imgur.com/74RCZtU.png)\n",
    "\n",
    "The filepath to the csv file is `../input/wine-reviews/winemag-data_first150k.csv`. The first few lines look like:\n",
    "\n",
    "```\n",
    ",country,description,designation,points,price,province,region_1,region_2,variety,winery\n",
    "0,US,\"This tremendous 100% varietal wine[...]\",Martha's Vineyard,96,235.0,California,Napa Valley,Napa,Cabernet Sauvignon,Heitz\n",
    "1,Spain,\"Ripe aromas of fig, blackberry and[...]\",Carodorum Selección Especial Reserva,96,110.0,Northern Spain,Toro,,Tinta de Toro,Bodega Carmen Rodríguez\n",
    "```"
   ]
  },
  {
   "cell_type": "code",
   "execution_count": 8,
   "id": "ec728fe2",
   "metadata": {
    "execution": {
     "iopub.execute_input": "2022-05-09T17:32:36.155256Z",
     "iopub.status.busy": "2022-05-09T17:32:36.154089Z",
     "iopub.status.idle": "2022-05-09T17:32:36.162913Z",
     "shell.execute_reply": "2022-05-09T17:32:36.162294Z"
    },
    "papermill": {
     "duration": 0.042535,
     "end_time": "2022-05-09T17:32:36.164856",
     "exception": false,
     "start_time": "2022-05-09T17:32:36.122321",
     "status": "completed"
    },
    "tags": []
   },
   "outputs": [
    {
     "data": {
      "application/javascript": [
       "parent.postMessage({\"jupyterEvent\": \"custom.exercise_interaction\", \"data\": {\"outcomeType\": 4, \"interactionType\": 1, \"questionType\": 1, \"questionId\": \"4_ReadWineCsv\", \"learnToolsVersion\": \"0.3.4\", \"valueTowardsCompletion\": 0.0, \"failureMessage\": \"\", \"exceptionClass\": \"\", \"trace\": \"\"}}, \"*\")"
      ],
      "text/plain": [
       "<IPython.core.display.Javascript object>"
      ]
     },
     "metadata": {},
     "output_type": "display_data"
    },
    {
     "data": {
      "text/markdown": [
       "<span style=\"color:#ccaa33\">Check:</span> When you've updated the starter code, `check()` will tell you whether your code is correct. You need to update the code that creates variable `reviews`"
      ],
      "text/plain": [
       "Check: When you've updated the starter code, `check()` will tell you whether your code is correct. You need to update the code that creates variable `reviews`"
      ]
     },
     "metadata": {},
     "output_type": "display_data"
    },
    {
     "data": {
      "text/markdown": [],
      "text/plain": [
       "<learntools.core.constants.PlaceholderValue at 0x7f7556822590>"
      ]
     },
     "execution_count": 8,
     "metadata": {},
     "output_type": "execute_result"
    }
   ],
   "source": [
    "reviews = ____\n",
    "\n",
    "# Check your answer\n",
    "q4.check()\n",
    "reviews"
   ]
  },
  {
   "cell_type": "code",
   "execution_count": 9,
   "id": "bbbaa3d1",
   "metadata": {
    "execution": {
     "iopub.execute_input": "2022-05-09T17:32:36.227692Z",
     "iopub.status.busy": "2022-05-09T17:32:36.227232Z",
     "iopub.status.idle": "2022-05-09T17:32:36.230078Z",
     "shell.execute_reply": "2022-05-09T17:32:36.229630Z"
    },
    "papermill": {
     "duration": 0.037135,
     "end_time": "2022-05-09T17:32:36.232758",
     "exception": false,
     "start_time": "2022-05-09T17:32:36.195623",
     "status": "completed"
    },
    "tags": []
   },
   "outputs": [],
   "source": [
    "#q4.hint()\n",
    "#q4.solution()"
   ]
  },
  {
   "cell_type": "markdown",
   "id": "e234bdc9",
   "metadata": {
    "papermill": {
     "duration": 0.032774,
     "end_time": "2022-05-09T17:32:36.298746",
     "exception": false,
     "start_time": "2022-05-09T17:32:36.265972",
     "status": "completed"
    },
    "tags": []
   },
   "source": [
    "## 5.\n",
    "\n",
    "Run the cell below to create and display a DataFrame called `animals`:"
   ]
  },
  {
   "cell_type": "code",
   "execution_count": 10,
   "id": "d4326de1",
   "metadata": {
    "execution": {
     "iopub.execute_input": "2022-05-09T17:32:36.366240Z",
     "iopub.status.busy": "2022-05-09T17:32:36.365120Z",
     "iopub.status.idle": "2022-05-09T17:32:36.375421Z",
     "shell.execute_reply": "2022-05-09T17:32:36.374392Z"
    },
    "papermill": {
     "duration": 0.045948,
     "end_time": "2022-05-09T17:32:36.377260",
     "exception": false,
     "start_time": "2022-05-09T17:32:36.331312",
     "status": "completed"
    },
    "tags": []
   },
   "outputs": [
    {
     "data": {
      "text/html": [
       "<div>\n",
       "<style scoped>\n",
       "    .dataframe tbody tr th:only-of-type {\n",
       "        vertical-align: middle;\n",
       "    }\n",
       "\n",
       "    .dataframe tbody tr th {\n",
       "        vertical-align: top;\n",
       "    }\n",
       "\n",
       "    .dataframe thead th {\n",
       "        text-align: right;\n",
       "    }\n",
       "</style>\n",
       "<table border=\"1\" class=\"dataframe\">\n",
       "  <thead>\n",
       "    <tr style=\"text-align: right;\">\n",
       "      <th></th>\n",
       "      <th>Cows</th>\n",
       "      <th>Goats</th>\n",
       "    </tr>\n",
       "  </thead>\n",
       "  <tbody>\n",
       "    <tr>\n",
       "      <th>Year 1</th>\n",
       "      <td>12</td>\n",
       "      <td>22</td>\n",
       "    </tr>\n",
       "    <tr>\n",
       "      <th>Year 2</th>\n",
       "      <td>20</td>\n",
       "      <td>19</td>\n",
       "    </tr>\n",
       "  </tbody>\n",
       "</table>\n",
       "</div>"
      ],
      "text/plain": [
       "        Cows  Goats\n",
       "Year 1    12     22\n",
       "Year 2    20     19"
      ]
     },
     "execution_count": 10,
     "metadata": {},
     "output_type": "execute_result"
    }
   ],
   "source": [
    "animals = pd.DataFrame({'Cows': [12, 20], 'Goats': [22, 19]}, index=['Year 1', 'Year 2'])\n",
    "animals"
   ]
  },
  {
   "cell_type": "markdown",
   "id": "3970fa0c",
   "metadata": {
    "papermill": {
     "duration": 0.032434,
     "end_time": "2022-05-09T17:32:36.442150",
     "exception": false,
     "start_time": "2022-05-09T17:32:36.409716",
     "status": "completed"
    },
    "tags": []
   },
   "source": [
    "In the cell below, write code to save this DataFrame to disk as a csv file with the name `cows_and_goats.csv`."
   ]
  },
  {
   "cell_type": "code",
   "execution_count": 11,
   "id": "bb4341ce",
   "metadata": {
    "execution": {
     "iopub.execute_input": "2022-05-09T17:32:36.508282Z",
     "iopub.status.busy": "2022-05-09T17:32:36.507803Z",
     "iopub.status.idle": "2022-05-09T17:32:36.513826Z",
     "shell.execute_reply": "2022-05-09T17:32:36.513333Z"
    },
    "papermill": {
     "duration": 0.041051,
     "end_time": "2022-05-09T17:32:36.515411",
     "exception": false,
     "start_time": "2022-05-09T17:32:36.474360",
     "status": "completed"
    },
    "tags": []
   },
   "outputs": [
    {
     "data": {
      "application/javascript": [
       "parent.postMessage({\"jupyterEvent\": \"custom.exercise_interaction\", \"data\": {\"outcomeType\": 2, \"failureMessage\": \"Expected file to exist with name `cows_and_goats.csv`\", \"interactionType\": 1, \"questionType\": 2, \"questionId\": \"5_SaveAnimalsCsv\", \"learnToolsVersion\": \"0.3.4\", \"valueTowardsCompletion\": 0.0, \"exceptionClass\": \"\", \"trace\": \"\"}}, \"*\")"
      ],
      "text/plain": [
       "<IPython.core.display.Javascript object>"
      ]
     },
     "metadata": {},
     "output_type": "display_data"
    },
    {
     "data": {
      "text/markdown": [
       "<span style=\"color:#cc3333\">Incorrect:</span> Expected file to exist with name `cows_and_goats.csv`"
      ],
      "text/plain": [
       "Incorrect: Expected file to exist with name `cows_and_goats.csv`"
      ]
     },
     "metadata": {},
     "output_type": "display_data"
    }
   ],
   "source": [
    "# Your code goes here\n",
    "\n",
    "# Check your answer\n",
    "q5.check()"
   ]
  },
  {
   "cell_type": "code",
   "execution_count": 12,
   "id": "6877d2a6",
   "metadata": {
    "execution": {
     "iopub.execute_input": "2022-05-09T17:32:36.586044Z",
     "iopub.status.busy": "2022-05-09T17:32:36.585579Z",
     "iopub.status.idle": "2022-05-09T17:32:36.589002Z",
     "shell.execute_reply": "2022-05-09T17:32:36.588141Z"
    },
    "papermill": {
     "duration": 0.041049,
     "end_time": "2022-05-09T17:32:36.590757",
     "exception": false,
     "start_time": "2022-05-09T17:32:36.549708",
     "status": "completed"
    },
    "tags": []
   },
   "outputs": [],
   "source": [
    "#q5.hint()\n",
    "#q5.solution()"
   ]
  },
  {
   "cell_type": "markdown",
   "id": "2a6a45ea",
   "metadata": {
    "papermill": {
     "duration": 0.034314,
     "end_time": "2022-05-09T17:32:36.659230",
     "exception": false,
     "start_time": "2022-05-09T17:32:36.624916",
     "status": "completed"
    },
    "tags": []
   },
   "source": [
    "# Keep going\n",
    "\n",
    "Move on to learn about **[indexing, selecting and assigning](https://www.kaggle.com/residentmario/indexing-selecting-assigning)**."
   ]
  },
  {
   "cell_type": "markdown",
   "id": "cdd376bd",
   "metadata": {
    "papermill": {
     "duration": 0.034567,
     "end_time": "2022-05-09T17:32:36.728361",
     "exception": false,
     "start_time": "2022-05-09T17:32:36.693794",
     "status": "completed"
    },
    "tags": []
   },
   "source": [
    "---\n",
    "\n",
    "\n",
    "\n",
    "\n",
    "*Have questions or comments? Visit the [course discussion forum](https://www.kaggle.com/learn/pandas/discussion) to chat with other learners.*"
   ]
  }
 ],
 "metadata": {
  "kernelspec": {
   "display_name": "Python 3",
   "language": "python",
   "name": "python3"
  },
  "language_info": {
   "codemirror_mode": {
    "name": "ipython",
    "version": 3
   },
   "file_extension": ".py",
   "mimetype": "text/x-python",
   "name": "python",
   "nbconvert_exporter": "python",
   "pygments_lexer": "ipython3",
   "version": "3.7.12"
  },
  "papermill": {
   "default_parameters": {},
   "duration": 15.668263,
   "end_time": "2022-05-09T17:32:37.683726",
   "environment_variables": {},
   "exception": null,
   "input_path": "__notebook__.ipynb",
   "output_path": "__notebook__.ipynb",
   "parameters": {},
   "start_time": "2022-05-09T17:32:22.015463",
   "version": "2.3.4"
  }
 },
 "nbformat": 4,
 "nbformat_minor": 5
}
