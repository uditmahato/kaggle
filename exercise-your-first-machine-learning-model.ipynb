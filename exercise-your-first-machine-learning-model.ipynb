{
 "cells": [
  {
   "cell_type": "markdown",
   "id": "e8bf14df",
   "metadata": {
    "papermill": {
     "duration": 0.020369,
     "end_time": "2022-05-21T17:47:51.188468",
     "exception": false,
     "start_time": "2022-05-21T17:47:51.168099",
     "status": "completed"
    },
    "tags": []
   },
   "source": [
    "**This notebook is an exercise in the [Introduction to Machine Learning](https://www.kaggle.com/learn/intro-to-machine-learning) course.  You can reference the tutorial at [this link](https://www.kaggle.com/dansbecker/your-first-machine-learning-model).**\n",
    "\n",
    "---\n"
   ]
  },
  {
   "cell_type": "markdown",
   "id": "d0acc5f5",
   "metadata": {
    "papermill": {
     "duration": 0.018592,
     "end_time": "2022-05-21T17:47:51.226112",
     "exception": false,
     "start_time": "2022-05-21T17:47:51.207520",
     "status": "completed"
    },
    "tags": []
   },
   "source": [
    "## Recap\n",
    "So far, you have loaded your data and reviewed it with the following code. Run this cell to set up your coding environment where the previous step left off."
   ]
  },
  {
   "cell_type": "code",
   "execution_count": 1,
   "id": "ac44d253",
   "metadata": {
    "execution": {
     "iopub.execute_input": "2022-05-21T17:47:51.265029Z",
     "iopub.status.busy": "2022-05-21T17:47:51.264637Z",
     "iopub.status.idle": "2022-05-21T17:47:52.627143Z",
     "shell.execute_reply": "2022-05-21T17:47:52.626272Z"
    },
    "papermill": {
     "duration": 1.385018,
     "end_time": "2022-05-21T17:47:52.629616",
     "exception": false,
     "start_time": "2022-05-21T17:47:51.244598",
     "status": "completed"
    },
    "tags": []
   },
   "outputs": [
    {
     "name": "stdout",
     "output_type": "stream",
     "text": [
      "Setup Complete\n"
     ]
    }
   ],
   "source": [
    "# Code you have previously used to load data\n",
    "import pandas as pd\n",
    "\n",
    "# Path of the file to read\n",
    "iowa_file_path = '../input/home-data-for-ml-course/train.csv'\n",
    "\n",
    "home_data = pd.read_csv(iowa_file_path)\n",
    "\n",
    "# Set up code checking\n",
    "from learntools.core import binder\n",
    "binder.bind(globals())\n",
    "from learntools.machine_learning.ex3 import *\n",
    "\n",
    "print(\"Setup Complete\")"
   ]
  },
  {
   "cell_type": "markdown",
   "id": "4c96bdb4",
   "metadata": {
    "papermill": {
     "duration": 0.019123,
     "end_time": "2022-05-21T17:47:52.667510",
     "exception": false,
     "start_time": "2022-05-21T17:47:52.648387",
     "status": "completed"
    },
    "tags": []
   },
   "source": [
    "# Exercises\n",
    "\n",
    "## Step 1: Specify Prediction Target\n",
    "Select the target variable, which corresponds to the sales price. Save this to a new variable called `y`. You'll need to print a list of the columns to find the name of the column you need.\n"
   ]
  },
  {
   "cell_type": "code",
   "execution_count": 2,
   "id": "fecbb869",
   "metadata": {
    "collapsed": true,
    "execution": {
     "iopub.execute_input": "2022-05-21T17:47:52.706863Z",
     "iopub.status.busy": "2022-05-21T17:47:52.706571Z",
     "iopub.status.idle": "2022-05-21T17:47:52.710770Z",
     "shell.execute_reply": "2022-05-21T17:47:52.709851Z"
    },
    "jupyter": {
     "outputs_hidden": true
    },
    "papermill": {
     "duration": 0.026126,
     "end_time": "2022-05-21T17:47:52.712685",
     "exception": false,
     "start_time": "2022-05-21T17:47:52.686559",
     "status": "completed"
    },
    "tags": []
   },
   "outputs": [],
   "source": [
    "# print the list of columns in the dataset to find the name of the prediction target\n"
   ]
  },
  {
   "cell_type": "code",
   "execution_count": 3,
   "id": "5789068a",
   "metadata": {
    "collapsed": true,
    "execution": {
     "iopub.execute_input": "2022-05-21T17:47:52.751275Z",
     "iopub.status.busy": "2022-05-21T17:47:52.750964Z",
     "iopub.status.idle": "2022-05-21T17:47:52.759979Z",
     "shell.execute_reply": "2022-05-21T17:47:52.759405Z"
    },
    "jupyter": {
     "outputs_hidden": true
    },
    "papermill": {
     "duration": 0.030683,
     "end_time": "2022-05-21T17:47:52.762179",
     "exception": false,
     "start_time": "2022-05-21T17:47:52.731496",
     "status": "completed"
    },
    "tags": []
   },
   "outputs": [
    {
     "data": {
      "application/javascript": [
       "parent.postMessage({\"jupyterEvent\": \"custom.exercise_interaction\", \"data\": {\"outcomeType\": 4, \"interactionType\": 1, \"questionType\": 2, \"questionId\": \"1_SetTarget\", \"learnToolsVersion\": \"0.3.4\", \"valueTowardsCompletion\": 0.0, \"failureMessage\": \"\", \"exceptionClass\": \"\", \"trace\": \"\"}}, \"*\")"
      ],
      "text/plain": [
       "<IPython.core.display.Javascript object>"
      ]
     },
     "metadata": {},
     "output_type": "display_data"
    },
    {
     "data": {
      "text/markdown": [
       "<span style=\"color:#ccaa33\">Check:</span> When you've updated the starter code, `check()` will tell you whether your code is correct. You need to update the code that creates variable `y`"
      ],
      "text/plain": [
       "Check: When you've updated the starter code, `check()` will tell you whether your code is correct. You need to update the code that creates variable `y`"
      ]
     },
     "metadata": {},
     "output_type": "display_data"
    }
   ],
   "source": [
    "y = ____\n",
    "\n",
    "# Check your answer\n",
    "step_1.check()"
   ]
  },
  {
   "cell_type": "code",
   "execution_count": 4,
   "id": "fd2674c1",
   "metadata": {
    "collapsed": true,
    "execution": {
     "iopub.execute_input": "2022-05-21T17:47:52.803623Z",
     "iopub.status.busy": "2022-05-21T17:47:52.803070Z",
     "iopub.status.idle": "2022-05-21T17:47:52.806091Z",
     "shell.execute_reply": "2022-05-21T17:47:52.805532Z"
    },
    "jupyter": {
     "outputs_hidden": true
    },
    "papermill": {
     "duration": 0.025766,
     "end_time": "2022-05-21T17:47:52.807854",
     "exception": false,
     "start_time": "2022-05-21T17:47:52.782088",
     "status": "completed"
    },
    "tags": []
   },
   "outputs": [],
   "source": [
    "# The lines below will show you a hint or the solution.\n",
    "# step_1.hint() \n",
    "# step_1.solution()"
   ]
  },
  {
   "cell_type": "markdown",
   "id": "25dd392c",
   "metadata": {
    "papermill": {
     "duration": 0.019819,
     "end_time": "2022-05-21T17:47:52.847799",
     "exception": false,
     "start_time": "2022-05-21T17:47:52.827980",
     "status": "completed"
    },
    "tags": []
   },
   "source": [
    "## Step 2: Create X\n",
    "Now you will create a DataFrame called `X` holding the predictive features.\n",
    "\n",
    "Since you want only some columns from the original data, you'll first create a list with the names of the columns you want in `X`.\n",
    "\n",
    "You'll use just the following columns in the list (you can copy and paste the whole list to save some typing, though you'll still need to add quotes):\n",
    "  * LotArea\n",
    "  * YearBuilt\n",
    "  * 1stFlrSF\n",
    "  * 2ndFlrSF\n",
    "  * FullBath\n",
    "  * BedroomAbvGr\n",
    "  * TotRmsAbvGrd\n",
    "\n",
    "After you've created that list of features, use it to create the DataFrame that you'll use to fit the model."
   ]
  },
  {
   "cell_type": "code",
   "execution_count": 5,
   "id": "91da4ada",
   "metadata": {
    "collapsed": true,
    "execution": {
     "iopub.execute_input": "2022-05-21T17:47:52.891666Z",
     "iopub.status.busy": "2022-05-21T17:47:52.891130Z",
     "iopub.status.idle": "2022-05-21T17:47:52.897801Z",
     "shell.execute_reply": "2022-05-21T17:47:52.896905Z"
    },
    "jupyter": {
     "outputs_hidden": true
    },
    "papermill": {
     "duration": 0.031842,
     "end_time": "2022-05-21T17:47:52.899819",
     "exception": false,
     "start_time": "2022-05-21T17:47:52.867977",
     "status": "completed"
    },
    "tags": []
   },
   "outputs": [
    {
     "data": {
      "application/javascript": [
       "parent.postMessage({\"jupyterEvent\": \"custom.exercise_interaction\", \"data\": {\"outcomeType\": 4, \"interactionType\": 1, \"questionType\": 2, \"questionId\": \"2_SelectPredictionData\", \"learnToolsVersion\": \"0.3.4\", \"valueTowardsCompletion\": 0.0, \"failureMessage\": \"\", \"exceptionClass\": \"\", \"trace\": \"\"}}, \"*\")"
      ],
      "text/plain": [
       "<IPython.core.display.Javascript object>"
      ]
     },
     "metadata": {},
     "output_type": "display_data"
    },
    {
     "data": {
      "text/markdown": [
       "<span style=\"color:#ccaa33\">Check:</span> When you've updated the starter code, `check()` will tell you whether your code is correct. You need to update the code that creates variable `X`"
      ],
      "text/plain": [
       "Check: When you've updated the starter code, `check()` will tell you whether your code is correct. You need to update the code that creates variable `X`"
      ]
     },
     "metadata": {},
     "output_type": "display_data"
    }
   ],
   "source": [
    "# Create the list of features below\n",
    "feature_names = ___\n",
    "\n",
    "# Select data corresponding to features in feature_names\n",
    "X = ____\n",
    "\n",
    "# Check your answer\n",
    "step_2.check()"
   ]
  },
  {
   "cell_type": "code",
   "execution_count": 6,
   "id": "9ea5b48d",
   "metadata": {
    "collapsed": true,
    "execution": {
     "iopub.execute_input": "2022-05-21T17:47:52.945759Z",
     "iopub.status.busy": "2022-05-21T17:47:52.945240Z",
     "iopub.status.idle": "2022-05-21T17:47:52.948500Z",
     "shell.execute_reply": "2022-05-21T17:47:52.947839Z"
    },
    "jupyter": {
     "outputs_hidden": true
    },
    "papermill": {
     "duration": 0.029169,
     "end_time": "2022-05-21T17:47:52.950571",
     "exception": false,
     "start_time": "2022-05-21T17:47:52.921402",
     "status": "completed"
    },
    "tags": []
   },
   "outputs": [],
   "source": [
    "# step_2.hint()\n",
    "# step_2.solution()"
   ]
  },
  {
   "cell_type": "markdown",
   "id": "6da32589",
   "metadata": {
    "papermill": {
     "duration": 0.02148,
     "end_time": "2022-05-21T17:47:52.995155",
     "exception": false,
     "start_time": "2022-05-21T17:47:52.973675",
     "status": "completed"
    },
    "tags": []
   },
   "source": [
    "## Review Data\n",
    "Before building a model, take a quick look at **X** to verify it looks sensible"
   ]
  },
  {
   "cell_type": "code",
   "execution_count": 7,
   "id": "8b349f28",
   "metadata": {
    "collapsed": true,
    "execution": {
     "iopub.execute_input": "2022-05-21T17:47:53.041778Z",
     "iopub.status.busy": "2022-05-21T17:47:53.041280Z",
     "iopub.status.idle": "2022-05-21T17:47:53.044483Z",
     "shell.execute_reply": "2022-05-21T17:47:53.043742Z"
    },
    "jupyter": {
     "outputs_hidden": true
    },
    "papermill": {
     "duration": 0.028182,
     "end_time": "2022-05-21T17:47:53.046361",
     "exception": false,
     "start_time": "2022-05-21T17:47:53.018179",
     "status": "completed"
    },
    "tags": []
   },
   "outputs": [],
   "source": [
    "# Review data\n",
    "# print description or statistics from X\n",
    "#print(_)\n",
    "\n",
    "# print the top few lines\n",
    "#print(_)"
   ]
  },
  {
   "cell_type": "markdown",
   "id": "334ebebf",
   "metadata": {
    "papermill": {
     "duration": 0.021628,
     "end_time": "2022-05-21T17:47:53.090525",
     "exception": false,
     "start_time": "2022-05-21T17:47:53.068897",
     "status": "completed"
    },
    "tags": []
   },
   "source": [
    "## Step 3: Specify and Fit Model\n",
    "Create a `DecisionTreeRegressor` and save it iowa_model. Ensure you've done the relevant import from sklearn to run this command.\n",
    "\n",
    "Then fit the model you just created using the data in `X` and `y` that you saved above."
   ]
  },
  {
   "cell_type": "code",
   "execution_count": 8,
   "id": "90787ba3",
   "metadata": {
    "collapsed": true,
    "execution": {
     "iopub.execute_input": "2022-05-21T17:47:53.136885Z",
     "iopub.status.busy": "2022-05-21T17:47:53.136391Z",
     "iopub.status.idle": "2022-05-21T17:47:53.142846Z",
     "shell.execute_reply": "2022-05-21T17:47:53.142290Z"
    },
    "jupyter": {
     "outputs_hidden": true
    },
    "papermill": {
     "duration": 0.031504,
     "end_time": "2022-05-21T17:47:53.144740",
     "exception": false,
     "start_time": "2022-05-21T17:47:53.113236",
     "status": "completed"
    },
    "tags": []
   },
   "outputs": [
    {
     "data": {
      "application/javascript": [
       "parent.postMessage({\"jupyterEvent\": \"custom.exercise_interaction\", \"data\": {\"outcomeType\": 4, \"interactionType\": 1, \"questionType\": 2, \"questionId\": \"3_CreateModel\", \"learnToolsVersion\": \"0.3.4\", \"valueTowardsCompletion\": 0.0, \"failureMessage\": \"\", \"exceptionClass\": \"\", \"trace\": \"\"}}, \"*\")"
      ],
      "text/plain": [
       "<IPython.core.display.Javascript object>"
      ]
     },
     "metadata": {},
     "output_type": "display_data"
    },
    {
     "data": {
      "text/markdown": [
       "<span style=\"color:#ccaa33\">Check:</span> When you've updated the starter code, `check()` will tell you whether your code is correct. You need to update the code that creates variable `iowa_model`"
      ],
      "text/plain": [
       "Check: When you've updated the starter code, `check()` will tell you whether your code is correct. You need to update the code that creates variable `iowa_model`"
      ]
     },
     "metadata": {},
     "output_type": "display_data"
    }
   ],
   "source": [
    "# from _ import _\n",
    "#specify the model. \n",
    "#For model reproducibility, set a numeric value for random_state when specifying the model\n",
    "iowa_model = ____\n",
    "\n",
    "# Fit the model\n",
    "____\n",
    "\n",
    "# Check your answer\n",
    "step_3.check()"
   ]
  },
  {
   "cell_type": "code",
   "execution_count": 9,
   "id": "de24571e",
   "metadata": {
    "collapsed": true,
    "execution": {
     "iopub.execute_input": "2022-05-21T17:47:53.194048Z",
     "iopub.status.busy": "2022-05-21T17:47:53.193529Z",
     "iopub.status.idle": "2022-05-21T17:47:53.196705Z",
     "shell.execute_reply": "2022-05-21T17:47:53.195865Z"
    },
    "jupyter": {
     "outputs_hidden": true
    },
    "papermill": {
     "duration": 0.029896,
     "end_time": "2022-05-21T17:47:53.198535",
     "exception": false,
     "start_time": "2022-05-21T17:47:53.168639",
     "status": "completed"
    },
    "tags": []
   },
   "outputs": [],
   "source": [
    "# step_3.hint()\n",
    "# step_3.solution()"
   ]
  },
  {
   "cell_type": "markdown",
   "id": "39523968",
   "metadata": {
    "papermill": {
     "duration": 0.022789,
     "end_time": "2022-05-21T17:47:53.244596",
     "exception": false,
     "start_time": "2022-05-21T17:47:53.221807",
     "status": "completed"
    },
    "tags": []
   },
   "source": [
    "## Step 4: Make Predictions\n",
    "Make predictions with the model's `predict` command using `X` as the data. Save the results to a variable called `predictions`."
   ]
  },
  {
   "cell_type": "code",
   "execution_count": 10,
   "id": "574d1047",
   "metadata": {
    "collapsed": true,
    "execution": {
     "iopub.execute_input": "2022-05-21T17:47:53.292772Z",
     "iopub.status.busy": "2022-05-21T17:47:53.292282Z",
     "iopub.status.idle": "2022-05-21T17:47:53.300979Z",
     "shell.execute_reply": "2022-05-21T17:47:53.299982Z"
    },
    "jupyter": {
     "outputs_hidden": true
    },
    "papermill": {
     "duration": 0.035058,
     "end_time": "2022-05-21T17:47:53.303032",
     "exception": false,
     "start_time": "2022-05-21T17:47:53.267974",
     "status": "completed"
    },
    "tags": []
   },
   "outputs": [
    {
     "name": "stdout",
     "output_type": "stream",
     "text": [
      "<learntools.core.constants.PlaceholderValue object at 0x7f6107920350>\n"
     ]
    },
    {
     "data": {
      "application/javascript": [
       "parent.postMessage({\"jupyterEvent\": \"custom.exercise_interaction\", \"data\": {\"outcomeType\": 4, \"interactionType\": 1, \"questionType\": 2, \"questionId\": \"4_MakePredictions\", \"learnToolsVersion\": \"0.3.4\", \"valueTowardsCompletion\": 0.0, \"failureMessage\": \"\", \"exceptionClass\": \"\", \"trace\": \"\"}}, \"*\")"
      ],
      "text/plain": [
       "<IPython.core.display.Javascript object>"
      ]
     },
     "metadata": {},
     "output_type": "display_data"
    },
    {
     "data": {
      "text/markdown": [
       "<span style=\"color:#ccaa33\">Check:</span> When you've updated the starter code, `check()` will tell you whether your code is correct. You need to update the code that creates variables `predictions`, `iowa_model`, `X`"
      ],
      "text/plain": [
       "Check: When you've updated the starter code, `check()` will tell you whether your code is correct. You need to update the code that creates variables `predictions`, `iowa_model`, `X`"
      ]
     },
     "metadata": {},
     "output_type": "display_data"
    }
   ],
   "source": [
    "predictions = ____\n",
    "print(predictions)\n",
    "\n",
    "# Check your answer\n",
    "step_4.check()"
   ]
  },
  {
   "cell_type": "code",
   "execution_count": 11,
   "id": "af4d1e46",
   "metadata": {
    "collapsed": true,
    "execution": {
     "iopub.execute_input": "2022-05-21T17:47:53.354749Z",
     "iopub.status.busy": "2022-05-21T17:47:53.354215Z",
     "iopub.status.idle": "2022-05-21T17:47:53.357459Z",
     "shell.execute_reply": "2022-05-21T17:47:53.356857Z"
    },
    "jupyter": {
     "outputs_hidden": true
    },
    "papermill": {
     "duration": 0.030897,
     "end_time": "2022-05-21T17:47:53.359176",
     "exception": false,
     "start_time": "2022-05-21T17:47:53.328279",
     "status": "completed"
    },
    "tags": []
   },
   "outputs": [],
   "source": [
    "# step_4.hint()\n",
    "# step_4.solution()"
   ]
  },
  {
   "cell_type": "markdown",
   "id": "8377b105",
   "metadata": {
    "papermill": {
     "duration": 0.024901,
     "end_time": "2022-05-21T17:47:53.409331",
     "exception": false,
     "start_time": "2022-05-21T17:47:53.384430",
     "status": "completed"
    },
    "tags": []
   },
   "source": [
    "## Think About Your Results\n",
    "\n",
    "Use the `head` method to compare the top few predictions to the actual home values (in `y`) for those same homes. Anything surprising?\n"
   ]
  },
  {
   "cell_type": "code",
   "execution_count": 12,
   "id": "de7da222",
   "metadata": {
    "execution": {
     "iopub.execute_input": "2022-05-21T17:47:53.465627Z",
     "iopub.status.busy": "2022-05-21T17:47:53.465096Z",
     "iopub.status.idle": "2022-05-21T17:47:53.468133Z",
     "shell.execute_reply": "2022-05-21T17:47:53.467572Z"
    },
    "papermill": {
     "duration": 0.035661,
     "end_time": "2022-05-21T17:47:53.470064",
     "exception": false,
     "start_time": "2022-05-21T17:47:53.434403",
     "status": "completed"
    },
    "tags": []
   },
   "outputs": [],
   "source": [
    "# You can write code in this cell\n"
   ]
  },
  {
   "cell_type": "markdown",
   "id": "4a37c278",
   "metadata": {
    "papermill": {
     "duration": 0.025512,
     "end_time": "2022-05-21T17:47:53.521033",
     "exception": false,
     "start_time": "2022-05-21T17:47:53.495521",
     "status": "completed"
    },
    "tags": []
   },
   "source": [
    "It's natural to ask how accurate the model's predictions will be and how you can improve that. That will be you're next step.\n",
    "\n",
    "# Keep Going\n",
    "\n",
    "You are ready for **[Model Validation](https://www.kaggle.com/dansbecker/model-validation).**\n"
   ]
  },
  {
   "cell_type": "markdown",
   "id": "f866b9e7",
   "metadata": {
    "papermill": {
     "duration": 0.025051,
     "end_time": "2022-05-21T17:47:53.571566",
     "exception": false,
     "start_time": "2022-05-21T17:47:53.546515",
     "status": "completed"
    },
    "tags": []
   },
   "source": [
    "---\n",
    "\n",
    "\n",
    "\n",
    "\n",
    "*Have questions or comments? Visit the [course discussion forum](https://www.kaggle.com/learn/intro-to-machine-learning/discussion) to chat with other learners.*"
   ]
  }
 ],
 "metadata": {
  "kernelspec": {
   "display_name": "Python 3",
   "language": "python",
   "name": "python3"
  },
  "language_info": {
   "codemirror_mode": {
    "name": "ipython",
    "version": 3
   },
   "file_extension": ".py",
   "mimetype": "text/x-python",
   "name": "python",
   "nbconvert_exporter": "python",
   "pygments_lexer": "ipython3",
   "version": "3.7.12"
  },
  "papermill": {
   "default_parameters": {},
   "duration": 13.435246,
   "end_time": "2022-05-21T17:47:54.317712",
   "environment_variables": {},
   "exception": null,
   "input_path": "__notebook__.ipynb",
   "output_path": "__notebook__.ipynb",
   "parameters": {},
   "start_time": "2022-05-21T17:47:40.882466",
   "version": "2.3.4"
  }
 },
 "nbformat": 4,
 "nbformat_minor": 5
}
