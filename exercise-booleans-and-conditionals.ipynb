{
 "cells": [
  {
   "cell_type": "markdown",
   "id": "7add69aa",
   "metadata": {
    "papermill": {
     "duration": 0.043647,
     "end_time": "2022-04-02T11:41:07.592594",
     "exception": false,
     "start_time": "2022-04-02T11:41:07.548947",
     "status": "completed"
    },
    "tags": []
   },
   "source": [
    "**This notebook is an exercise in the [Python](https://www.kaggle.com/learn/python) course.  You can reference the tutorial at [this link](https://www.kaggle.com/colinmorris/booleans-and-conditionals).**\n",
    "\n",
    "---\n"
   ]
  },
  {
   "cell_type": "markdown",
   "id": "8128c85f",
   "metadata": {
    "papermill": {
     "duration": 0.049224,
     "end_time": "2022-04-02T11:41:07.688968",
     "exception": false,
     "start_time": "2022-04-02T11:41:07.639744",
     "status": "completed"
    },
    "tags": []
   },
   "source": [
    "In this exercise, you'll put to work what you have learned about booleans and conditionals.\n",
    "\n",
    "To get started, **run the setup code below** before writing your own code (and if you leave this notebook and come back later, don't forget to run the setup code again)."
   ]
  },
  {
   "cell_type": "code",
   "execution_count": 1,
   "id": "e046afa3",
   "metadata": {
    "execution": {
     "iopub.execute_input": "2022-04-02T11:41:07.764371Z",
     "iopub.status.busy": "2022-04-02T11:41:07.763211Z",
     "iopub.status.idle": "2022-04-02T11:41:07.812470Z",
     "shell.execute_reply": "2022-04-02T11:41:07.813369Z",
     "shell.execute_reply.started": "2022-04-02T10:18:03.261063Z"
    },
    "papermill": {
     "duration": 0.089319,
     "end_time": "2022-04-02T11:41:07.813768",
     "exception": false,
     "start_time": "2022-04-02T11:41:07.724449",
     "status": "completed"
    },
    "tags": []
   },
   "outputs": [
    {
     "name": "stdout",
     "output_type": "stream",
     "text": [
      "Setup complete.\n"
     ]
    }
   ],
   "source": [
    "from learntools.core import binder; binder.bind(globals())\n",
    "from learntools.python.ex3 import *\n",
    "print('Setup complete.')"
   ]
  },
  {
   "cell_type": "markdown",
   "id": "9efb6331",
   "metadata": {
    "papermill": {
     "duration": 0.035419,
     "end_time": "2022-04-02T11:41:07.886850",
     "exception": false,
     "start_time": "2022-04-02T11:41:07.851431",
     "status": "completed"
    },
    "tags": []
   },
   "source": [
    "# 1.\n",
    "\n",
    "Many programming languages have [`sign`](https://en.wikipedia.org/wiki/Sign_function) available as a built-in function. Python doesn't, but we can define our own!\n",
    "\n",
    "In the cell below, define a function called `sign` which takes a numerical argument and returns -1 if it's negative, 1 if it's positive, and 0 if it's 0."
   ]
  },
  {
   "cell_type": "code",
   "execution_count": 2,
   "id": "23271a44",
   "metadata": {
    "execution": {
     "iopub.execute_input": "2022-04-02T11:41:07.961816Z",
     "iopub.status.busy": "2022-04-02T11:41:07.961169Z",
     "iopub.status.idle": "2022-04-02T11:41:07.970353Z",
     "shell.execute_reply": "2022-04-02T11:41:07.970866Z",
     "shell.execute_reply.started": "2022-04-02T10:20:52.785666Z"
    },
    "papermill": {
     "duration": 0.048422,
     "end_time": "2022-04-02T11:41:07.971045",
     "exception": false,
     "start_time": "2022-04-02T11:41:07.922623",
     "status": "completed"
    },
    "tags": []
   },
   "outputs": [
    {
     "data": {
      "application/javascript": [
       "parent.postMessage({\"jupyterEvent\": \"custom.exercise_interaction\", \"data\": {\"outcomeType\": 1, \"valueTowardsCompletion\": 0.2, \"interactionType\": 1, \"questionType\": 2, \"questionId\": \"1_SignFunctionProblem\", \"learnToolsVersion\": \"0.3.4\", \"failureMessage\": \"\", \"exceptionClass\": \"\", \"trace\": \"\"}}, \"*\")"
      ],
      "text/plain": [
       "<IPython.core.display.Javascript object>"
      ]
     },
     "metadata": {},
     "output_type": "display_data"
    },
    {
     "data": {
      "text/markdown": [
       "<span style=\"color:#33cc33\">Correct</span>"
      ],
      "text/plain": [
       "Correct"
      ]
     },
     "metadata": {},
     "output_type": "display_data"
    }
   ],
   "source": [
    "# Your code goes here. Define a function called 'sign'\n",
    "def sign(x):\n",
    "    if x==0:\n",
    "        return 0\n",
    "    elif x<0:\n",
    "        return -1\n",
    "    else:\n",
    "        return 1\n",
    "# Check your answer\n",
    "q1.check()"
   ]
  },
  {
   "cell_type": "code",
   "execution_count": 3,
   "id": "85e6c1fe",
   "metadata": {
    "execution": {
     "iopub.execute_input": "2022-04-02T11:41:08.055623Z",
     "iopub.status.busy": "2022-04-02T11:41:08.054533Z",
     "iopub.status.idle": "2022-04-02T11:41:08.063280Z",
     "shell.execute_reply": "2022-04-02T11:41:08.063933Z",
     "shell.execute_reply.started": "2022-04-02T10:21:42.576926Z"
    },
    "papermill": {
     "duration": 0.054437,
     "end_time": "2022-04-02T11:41:08.064117",
     "exception": false,
     "start_time": "2022-04-02T11:41:08.009680",
     "status": "completed"
    },
    "tags": []
   },
   "outputs": [
    {
     "data": {
      "application/javascript": [
       "parent.postMessage({\"jupyterEvent\": \"custom.exercise_interaction\", \"data\": {\"interactionType\": 3, \"questionType\": 2, \"questionId\": \"1_SignFunctionProblem\", \"learnToolsVersion\": \"0.3.4\", \"valueTowardsCompletion\": 0.0, \"failureMessage\": \"\", \"exceptionClass\": \"\", \"trace\": \"\", \"outcomeType\": 4}}, \"*\")"
      ],
      "text/plain": [
       "<IPython.core.display.Javascript object>"
      ]
     },
     "metadata": {},
     "output_type": "display_data"
    },
    {
     "data": {
      "text/markdown": [
       "<span style=\"color:#33cc99\">Solution:</span> \n",
       "```python\n",
       "def sign(x):\n",
       "    if x > 0:\n",
       "        return 1\n",
       "    elif x < 0:\n",
       "        return -1\n",
       "    else:\n",
       "        return 0\n",
       "```"
      ],
      "text/plain": [
       "Solution: \n",
       "```python\n",
       "def sign(x):\n",
       "    if x > 0:\n",
       "        return 1\n",
       "    elif x < 0:\n",
       "        return -1\n",
       "    else:\n",
       "        return 0\n",
       "```"
      ]
     },
     "metadata": {},
     "output_type": "display_data"
    }
   ],
   "source": [
    "q1.solution()"
   ]
  },
  {
   "cell_type": "markdown",
   "id": "658b6e44",
   "metadata": {
    "papermill": {
     "duration": 0.038322,
     "end_time": "2022-04-02T11:41:08.141712",
     "exception": false,
     "start_time": "2022-04-02T11:41:08.103390",
     "status": "completed"
    },
    "tags": []
   },
   "source": [
    "# 2.\n",
    "\n",
    "We've decided to add \"logging\" to our `to_smash` function from the previous exercise."
   ]
  },
  {
   "cell_type": "code",
   "execution_count": 4,
   "id": "6fb7a047",
   "metadata": {
    "execution": {
     "iopub.execute_input": "2022-04-02T11:41:08.222892Z",
     "iopub.status.busy": "2022-04-02T11:41:08.221890Z",
     "iopub.status.idle": "2022-04-02T11:41:08.231137Z",
     "shell.execute_reply": "2022-04-02T11:41:08.230542Z",
     "shell.execute_reply.started": "2022-04-02T10:21:13.470616Z"
    },
    "papermill": {
     "duration": 0.050962,
     "end_time": "2022-04-02T11:41:08.231281",
     "exception": false,
     "start_time": "2022-04-02T11:41:08.180319",
     "status": "completed"
    },
    "tags": []
   },
   "outputs": [
    {
     "name": "stdout",
     "output_type": "stream",
     "text": [
      "Splitting 91 candies\n"
     ]
    },
    {
     "data": {
      "text/plain": [
       "1"
      ]
     },
     "execution_count": 4,
     "metadata": {},
     "output_type": "execute_result"
    }
   ],
   "source": [
    "def to_smash(total_candies):\n",
    "    \"\"\"Return the number of leftover candies that must be smashed after distributing\n",
    "    the given number of candies evenly between 3 friends.\n",
    "    \n",
    "    >>> to_smash(91)\n",
    "    1\n",
    "    \"\"\"\n",
    "    print(\"Splitting\", total_candies, \"candies\")\n",
    "    return total_candies % 3\n",
    "\n",
    "to_smash(91)"
   ]
  },
  {
   "cell_type": "markdown",
   "id": "cb59c8a7",
   "metadata": {
    "papermill": {
     "duration": 0.039033,
     "end_time": "2022-04-02T11:41:08.310003",
     "exception": false,
     "start_time": "2022-04-02T11:41:08.270970",
     "status": "completed"
    },
    "tags": []
   },
   "source": [
    "What happens if we call it with `total_candies = 1`?"
   ]
  },
  {
   "cell_type": "code",
   "execution_count": 5,
   "id": "f2f00a18",
   "metadata": {
    "execution": {
     "iopub.execute_input": "2022-04-02T11:41:08.396063Z",
     "iopub.status.busy": "2022-04-02T11:41:08.394979Z",
     "iopub.status.idle": "2022-04-02T11:41:08.399763Z",
     "shell.execute_reply": "2022-04-02T11:41:08.400270Z",
     "shell.execute_reply.started": "2022-04-02T10:21:22.575348Z"
    },
    "papermill": {
     "duration": 0.049976,
     "end_time": "2022-04-02T11:41:08.400443",
     "exception": false,
     "start_time": "2022-04-02T11:41:08.350467",
     "status": "completed"
    },
    "tags": []
   },
   "outputs": [
    {
     "name": "stdout",
     "output_type": "stream",
     "text": [
      "Splitting 1 candies\n"
     ]
    },
    {
     "data": {
      "text/plain": [
       "1"
      ]
     },
     "execution_count": 5,
     "metadata": {},
     "output_type": "execute_result"
    }
   ],
   "source": [
    "to_smash(1)"
   ]
  },
  {
   "cell_type": "markdown",
   "id": "1bc4f310",
   "metadata": {
    "papermill": {
     "duration": 0.040033,
     "end_time": "2022-04-02T11:41:08.481090",
     "exception": false,
     "start_time": "2022-04-02T11:41:08.441057",
     "status": "completed"
    },
    "tags": []
   },
   "source": [
    "That isn't great grammar!\n",
    "\n",
    "Modify the definition in the cell below to correct the grammar of our print statement. (If there's only one candy, we should use the singular \"candy\" instead of the plural \"candies\")"
   ]
  },
  {
   "cell_type": "code",
   "execution_count": 6,
   "id": "563a1e1f",
   "metadata": {
    "execution": {
     "iopub.execute_input": "2022-04-02T11:41:08.568995Z",
     "iopub.status.busy": "2022-04-02T11:41:08.567930Z",
     "iopub.status.idle": "2022-04-02T11:41:08.571956Z",
     "shell.execute_reply": "2022-04-02T11:41:08.572446Z",
     "shell.execute_reply.started": "2022-04-02T10:26:39.741186Z"
    },
    "papermill": {
     "duration": 0.050862,
     "end_time": "2022-04-02T11:41:08.572676",
     "exception": false,
     "start_time": "2022-04-02T11:41:08.521814",
     "status": "completed"
    },
    "tags": []
   },
   "outputs": [
    {
     "name": "stdout",
     "output_type": "stream",
     "text": [
      "Splitting 91 candies\n",
      "Splitting 1 candy\n"
     ]
    }
   ],
   "source": [
    "def to_smash(total_candies):\n",
    "    \"\"\"Return the number of leftover candies that must be smashed after distributing\n",
    "    the given number of candies evenly between 3 friends.\n",
    "    \n",
    "    >>> to_smash(91)\n",
    "    1\n",
    "    \"\"\"\n",
    "    print(\"Splitting\", total_candies,\"candy\" if total_candies==1 else \"candies\")\n",
    "#     if total_candies>1:\n",
    "#         print(\"Splitting\", total_candies, \"candies\")\n",
    "#     else:\n",
    "#         print(\"Splitting\", total_candies, \"candy\")\n",
    "#     return total_candies % 3\n",
    "\n",
    "\n",
    "to_smash(91)\n",
    "to_smash(1)"
   ]
  },
  {
   "cell_type": "markdown",
   "id": "bf7539aa",
   "metadata": {
    "papermill": {
     "duration": 0.040273,
     "end_time": "2022-04-02T11:41:08.655170",
     "exception": false,
     "start_time": "2022-04-02T11:41:08.614897",
     "status": "completed"
    },
    "tags": []
   },
   "source": [
    "To get credit for completing this problem, and to see the official answer, run the code cell below."
   ]
  },
  {
   "cell_type": "code",
   "execution_count": 7,
   "id": "491f46cf",
   "metadata": {
    "execution": {
     "iopub.execute_input": "2022-04-02T11:41:08.739666Z",
     "iopub.status.busy": "2022-04-02T11:41:08.739011Z",
     "iopub.status.idle": "2022-04-02T11:41:08.745871Z",
     "shell.execute_reply": "2022-04-02T11:41:08.746373Z",
     "shell.execute_reply.started": "2022-04-02T10:24:34.458577Z"
    },
    "papermill": {
     "duration": 0.050696,
     "end_time": "2022-04-02T11:41:08.746542",
     "exception": false,
     "start_time": "2022-04-02T11:41:08.695846",
     "status": "completed"
    },
    "tags": []
   },
   "outputs": [
    {
     "data": {
      "application/javascript": [
       "parent.postMessage({\"jupyterEvent\": \"custom.exercise_interaction\", \"data\": {\"interactionType\": 3, \"questionType\": 4, \"questionId\": \"2_PluralizationProblem\", \"learnToolsVersion\": \"0.3.4\", \"valueTowardsCompletion\": 0.0, \"failureMessage\": \"\", \"exceptionClass\": \"\", \"trace\": \"\", \"outcomeType\": 4}}, \"*\")"
      ],
      "text/plain": [
       "<IPython.core.display.Javascript object>"
      ]
     },
     "metadata": {},
     "output_type": "display_data"
    },
    {
     "data": {
      "text/markdown": [
       "<span style=\"color:#33cc99\">Solution:</span> A straightforward (and totally fine) solution is to replace the original `print` call with:\n",
       "\n",
       "```python\n",
       "if total_candies == 1:\n",
       "    print(\"Splitting 1 candy\")\n",
       "else:\n",
       "    print(\"Splitting\", total_candies, \"candies\")\n",
       "```\n",
       "\n",
       "Here's a slightly more succinct solution using a conditional expression:\n",
       "\n",
       "```python\n",
       "print(\"Splitting\", total_candies, \"candy\" if total_candies == 1 else \"candies\")\n",
       "```"
      ],
      "text/plain": [
       "Solution: A straightforward (and totally fine) solution is to replace the original `print` call with:\n",
       "\n",
       "```python\n",
       "if total_candies == 1:\n",
       "    print(\"Splitting 1 candy\")\n",
       "else:\n",
       "    print(\"Splitting\", total_candies, \"candies\")\n",
       "```\n",
       "\n",
       "Here's a slightly more succinct solution using a conditional expression:\n",
       "\n",
       "```python\n",
       "print(\"Splitting\", total_candies, \"candy\" if total_candies == 1 else \"candies\")\n",
       "```"
      ]
     },
     "metadata": {},
     "output_type": "display_data"
    }
   ],
   "source": [
    "# Check your answer (Run this code cell to receive credit!)\n",
    "q2.solution()"
   ]
  },
  {
   "cell_type": "markdown",
   "id": "ac8ecaf2",
   "metadata": {
    "papermill": {
     "duration": 0.050694,
     "end_time": "2022-04-02T11:41:08.839758",
     "exception": false,
     "start_time": "2022-04-02T11:41:08.789064",
     "status": "completed"
    },
    "tags": []
   },
   "source": [
    "# 3. <span title=\"A bit spicy\" style=\"color: darkgreen \">🌶️</span>\n",
    "\n",
    "In the tutorial, we talked about deciding whether we're prepared for the weather. I said that I'm safe from today's weather if...\n",
    "- I have an umbrella...\n",
    "- or if the rain isn't too heavy and I have a hood...\n",
    "- otherwise, I'm still fine unless it's raining *and* it's a workday\n",
    "\n",
    "The function below uses our first attempt at turning this logic into a Python expression. I claimed that there was a bug in that code. Can you find it?\n",
    "\n",
    "To prove that `prepared_for_weather` is buggy, come up with a set of inputs where either:\n",
    "- the function returns `False` (but should have returned `True`), or\n",
    "- the function returned `True` (but should have returned `False`).\n",
    "\n",
    "To get credit for completing this question, your code should return a <font color='#33cc33'>Correct</font> result."
   ]
  },
  {
   "cell_type": "code",
   "execution_count": 8,
   "id": "dcffbd0a",
   "metadata": {
    "execution": {
     "iopub.execute_input": "2022-04-02T11:41:08.929490Z",
     "iopub.status.busy": "2022-04-02T11:41:08.928496Z",
     "iopub.status.idle": "2022-04-02T11:41:08.939679Z",
     "shell.execute_reply": "2022-04-02T11:41:08.940241Z",
     "shell.execute_reply.started": "2022-04-02T10:32:46.565967Z"
    },
    "papermill": {
     "duration": 0.056738,
     "end_time": "2022-04-02T11:41:08.940408",
     "exception": false,
     "start_time": "2022-04-02T11:41:08.883670",
     "status": "completed"
    },
    "tags": []
   },
   "outputs": [
    {
     "name": "stdout",
     "output_type": "stream",
     "text": [
      "False\n"
     ]
    },
    {
     "data": {
      "application/javascript": [
       "parent.postMessage({\"jupyterEvent\": \"custom.exercise_interaction\", \"data\": {\"outcomeType\": 1, \"valueTowardsCompletion\": 0.2, \"interactionType\": 1, \"questionType\": 1, \"questionId\": \"3_WeatherDebug\", \"learnToolsVersion\": \"0.3.4\", \"failureMessage\": \"\", \"exceptionClass\": \"\", \"trace\": \"\"}}, \"*\")"
      ],
      "text/plain": [
       "<IPython.core.display.Javascript object>"
      ]
     },
     "metadata": {},
     "output_type": "display_data"
    },
    {
     "data": {
      "text/markdown": [
       "<span style=\"color:#33cc33\">Correct:</span> \n",
       "\n",
       "One example of a failing test case is:\n",
       "\n",
       "```python\n",
       "have_umbrella = False\n",
       "rain_level = 0.0\n",
       "have_hood = False\n",
       "is_workday = False\n",
       "```\n",
       "\n",
       "Clearly we're prepared for the weather in this case. It's not raining. Not only that, it's not a workday, so we don't even need to leave the house! But our function will return False on these inputs.\n",
       "\n",
       "The key problem is that Python implictly parenthesizes the last part as:\n",
       "\n",
       "```python\n",
       "(not (rain_level > 0)) and is_workday\n",
       "```\n",
       "\n",
       "Whereas what we were trying to express would look more like:\n",
       "\n",
       "```python\n",
       "not (rain_level > 0 and is_workday)\n",
       "```\n"
      ],
      "text/plain": [
       "Correct: \n",
       "\n",
       "One example of a failing test case is:\n",
       "\n",
       "```python\n",
       "have_umbrella = False\n",
       "rain_level = 0.0\n",
       "have_hood = False\n",
       "is_workday = False\n",
       "```\n",
       "\n",
       "Clearly we're prepared for the weather in this case. It's not raining. Not only that, it's not a workday, so we don't even need to leave the house! But our function will return False on these inputs.\n",
       "\n",
       "The key problem is that Python implictly parenthesizes the last part as:\n",
       "\n",
       "```python\n",
       "(not (rain_level > 0)) and is_workday\n",
       "```\n",
       "\n",
       "Whereas what we were trying to express would look more like:\n",
       "\n",
       "```python\n",
       "not (rain_level > 0 and is_workday)\n",
       "```"
      ]
     },
     "metadata": {},
     "output_type": "display_data"
    }
   ],
   "source": [
    "def prepared_for_weather(have_umbrella, rain_level, have_hood, is_workday):\n",
    "    # Don't change this code. Our goal is just to find the bug, not fix it!\n",
    "    return have_umbrella or rain_level < 5 and have_hood or not rain_level > 0 and is_workday\n",
    "\n",
    "# Change the values of these inputs so they represent a case where prepared_for_weather\n",
    "# returns the wrong answer.\n",
    "have_umbrella = False\n",
    "rain_level = 4\n",
    "have_hood = False\n",
    "is_workday = False\n",
    "\n",
    "# Check what the function returns given the current values of the variables above\n",
    "actual = prepared_for_weather(have_umbrella, rain_level, have_hood, is_workday)\n",
    "print(actual)\n",
    "\n",
    "# Check your answer\n",
    "q3.check()"
   ]
  },
  {
   "cell_type": "code",
   "execution_count": 9,
   "id": "3e6411bb",
   "metadata": {
    "execution": {
     "iopub.execute_input": "2022-04-02T11:41:09.034719Z",
     "iopub.status.busy": "2022-04-02T11:41:09.033678Z",
     "iopub.status.idle": "2022-04-02T11:41:09.037581Z",
     "shell.execute_reply": "2022-04-02T11:41:09.036928Z",
     "shell.execute_reply.started": "2022-04-02T10:17:54.165338Z"
    },
    "papermill": {
     "duration": 0.052882,
     "end_time": "2022-04-02T11:41:09.037737",
     "exception": false,
     "start_time": "2022-04-02T11:41:08.984855",
     "status": "completed"
    },
    "tags": []
   },
   "outputs": [],
   "source": [
    "#q3.hint()\n",
    "#q3.solution()"
   ]
  },
  {
   "cell_type": "markdown",
   "id": "3f552d62",
   "metadata": {
    "papermill": {
     "duration": 0.044552,
     "end_time": "2022-04-02T11:41:09.126302",
     "exception": false,
     "start_time": "2022-04-02T11:41:09.081750",
     "status": "completed"
    },
    "tags": []
   },
   "source": [
    "# 4.\n",
    "\n",
    "The function `is_negative` below is implemented correctly - it returns True if the given number is negative and False otherwise.\n",
    "\n",
    "However, it's more verbose than it needs to be. We can actually reduce the number of lines of code in this function by *75%* while keeping the same behaviour. \n",
    "\n",
    "See if you can come up with an equivalent body that uses just **one line** of code, and put it in the function `concise_is_negative`. (HINT: you don't even need Python's ternary syntax)"
   ]
  },
  {
   "cell_type": "code",
   "execution_count": 10,
   "id": "8a4d2308",
   "metadata": {
    "execution": {
     "iopub.execute_input": "2022-04-02T11:41:09.217841Z",
     "iopub.status.busy": "2022-04-02T11:41:09.217108Z",
     "iopub.status.idle": "2022-04-02T11:41:09.224112Z",
     "shell.execute_reply": "2022-04-02T11:41:09.224721Z",
     "shell.execute_reply.started": "2022-04-02T10:35:50.833217Z"
    },
    "papermill": {
     "duration": 0.05474,
     "end_time": "2022-04-02T11:41:09.224897",
     "exception": false,
     "start_time": "2022-04-02T11:41:09.170157",
     "status": "completed"
    },
    "tags": []
   },
   "outputs": [
    {
     "data": {
      "application/javascript": [
       "parent.postMessage({\"jupyterEvent\": \"custom.exercise_interaction\", \"data\": {\"outcomeType\": 1, \"valueTowardsCompletion\": 0.2, \"interactionType\": 1, \"questionType\": 2, \"questionId\": \"4_ConciseIsNegative\", \"learnToolsVersion\": \"0.3.4\", \"failureMessage\": \"\", \"exceptionClass\": \"\", \"trace\": \"\"}}, \"*\")"
      ],
      "text/plain": [
       "<IPython.core.display.Javascript object>"
      ]
     },
     "metadata": {},
     "output_type": "display_data"
    },
    {
     "data": {
      "text/markdown": [
       "<span style=\"color:#33cc33\">Correct</span>"
      ],
      "text/plain": [
       "Correct"
      ]
     },
     "metadata": {},
     "output_type": "display_data"
    }
   ],
   "source": [
    "def is_negative(number):\n",
    "    if number < 0:\n",
    "        return True\n",
    "    else:\n",
    "        return False\n",
    "\n",
    "def concise_is_negative(number):\n",
    "    return True if number<0 else False\n",
    "\n",
    "# Check your answer\n",
    "q4.check()"
   ]
  },
  {
   "cell_type": "code",
   "execution_count": 11,
   "id": "d7bbae5f",
   "metadata": {
    "execution": {
     "iopub.execute_input": "2022-04-02T11:41:09.320199Z",
     "iopub.status.busy": "2022-04-02T11:41:09.319163Z",
     "iopub.status.idle": "2022-04-02T11:41:09.322704Z",
     "shell.execute_reply": "2022-04-02T11:41:09.323339Z",
     "shell.execute_reply.started": "2022-04-02T10:17:54.190602Z"
    },
    "papermill": {
     "duration": 0.053069,
     "end_time": "2022-04-02T11:41:09.323512",
     "exception": false,
     "start_time": "2022-04-02T11:41:09.270443",
     "status": "completed"
    },
    "tags": []
   },
   "outputs": [],
   "source": [
    "#q4.hint()\n",
    "#q4.solution()"
   ]
  },
  {
   "cell_type": "markdown",
   "id": "91f73f78",
   "metadata": {
    "papermill": {
     "duration": 0.0447,
     "end_time": "2022-04-02T11:41:09.413384",
     "exception": false,
     "start_time": "2022-04-02T11:41:09.368684",
     "status": "completed"
    },
    "tags": []
   },
   "source": [
    "# 5a.\n",
    "\n",
    "The boolean variables `ketchup`, `mustard` and `onion` represent whether a customer wants a particular topping on their hot dog. We want to implement a number of boolean functions that correspond to some yes-or-no questions about the customer's order. For example:"
   ]
  },
  {
   "cell_type": "code",
   "execution_count": 12,
   "id": "af7674fd",
   "metadata": {
    "execution": {
     "iopub.execute_input": "2022-04-02T11:41:09.509211Z",
     "iopub.status.busy": "2022-04-02T11:41:09.508204Z",
     "iopub.status.idle": "2022-04-02T11:41:09.514580Z",
     "shell.execute_reply": "2022-04-02T11:41:09.515144Z",
     "shell.execute_reply.started": "2022-04-02T10:51:33.844212Z"
    },
    "papermill": {
     "duration": 0.054965,
     "end_time": "2022-04-02T11:41:09.515334",
     "exception": false,
     "start_time": "2022-04-02T11:41:09.460369",
     "status": "completed"
    },
    "tags": []
   },
   "outputs": [
    {
     "data": {
      "text/plain": [
       "True"
      ]
     },
     "execution_count": 12,
     "metadata": {},
     "output_type": "execute_result"
    }
   ],
   "source": [
    "def onionless(ketchup, mustard, onion):\n",
    "    \"\"\"Return whether the customer doesn't want onions.\n",
    "    \"\"\"\n",
    "    return not onion\n",
    "onionless(True,False,False)"
   ]
  },
  {
   "cell_type": "code",
   "execution_count": 13,
   "id": "85502846",
   "metadata": {
    "execution": {
     "iopub.execute_input": "2022-04-02T11:41:09.610093Z",
     "iopub.status.busy": "2022-04-02T11:41:09.609067Z",
     "iopub.status.idle": "2022-04-02T11:41:09.617413Z",
     "shell.execute_reply": "2022-04-02T11:41:09.618038Z",
     "shell.execute_reply.started": "2022-04-02T10:54:03.465709Z"
    },
    "papermill": {
     "duration": 0.057859,
     "end_time": "2022-04-02T11:41:09.618210",
     "exception": false,
     "start_time": "2022-04-02T11:41:09.560351",
     "status": "completed"
    },
    "tags": []
   },
   "outputs": [
    {
     "data": {
      "application/javascript": [
       "parent.postMessage({\"jupyterEvent\": \"custom.exercise_interaction\", \"data\": {\"outcomeType\": 1, \"valueTowardsCompletion\": 0.2, \"interactionType\": 1, \"questionType\": 2, \"questionId\": \"5.1_AllToppings\", \"learnToolsVersion\": \"0.3.4\", \"failureMessage\": \"\", \"exceptionClass\": \"\", \"trace\": \"\"}}, \"*\")"
      ],
      "text/plain": [
       "<IPython.core.display.Javascript object>"
      ]
     },
     "metadata": {},
     "output_type": "display_data"
    },
    {
     "data": {
      "text/markdown": [
       "<span style=\"color:#33cc33\">Correct</span>"
      ],
      "text/plain": [
       "Correct"
      ]
     },
     "metadata": {},
     "output_type": "display_data"
    }
   ],
   "source": [
    "def wants_all_toppings(ketchup, mustard, onion):\n",
    "    \"\"\"Return whether the customer wants \"the works\" (all 3 toppings)\n",
    "    \"\"\"\n",
    "    return ketchup and mustard and onion\n",
    "\n",
    "# Check your answer\n",
    "q5.a.check()"
   ]
  },
  {
   "cell_type": "code",
   "execution_count": 14,
   "id": "997f917d",
   "metadata": {
    "execution": {
     "iopub.execute_input": "2022-04-02T11:41:09.714797Z",
     "iopub.status.busy": "2022-04-02T11:41:09.713766Z",
     "iopub.status.idle": "2022-04-02T11:41:09.721228Z",
     "shell.execute_reply": "2022-04-02T11:41:09.721834Z",
     "shell.execute_reply.started": "2022-04-02T10:53:46.781358Z"
    },
    "papermill": {
     "duration": 0.057686,
     "end_time": "2022-04-02T11:41:09.722013",
     "exception": false,
     "start_time": "2022-04-02T11:41:09.664327",
     "status": "completed"
    },
    "tags": []
   },
   "outputs": [
    {
     "data": {
      "application/javascript": [
       "parent.postMessage({\"jupyterEvent\": \"custom.exercise_interaction\", \"data\": {\"interactionType\": 2, \"questionType\": 2, \"questionId\": \"5.1_AllToppings\", \"learnToolsVersion\": \"0.3.4\", \"valueTowardsCompletion\": 0.0, \"failureMessage\": \"\", \"exceptionClass\": \"\", \"trace\": \"\", \"outcomeType\": 4}}, \"*\")"
      ],
      "text/plain": [
       "<IPython.core.display.Javascript object>"
      ]
     },
     "metadata": {},
     "output_type": "display_data"
    },
    {
     "data": {
      "text/markdown": [
       "<span style=\"color:#3366cc\">Hint:</span> You'll need to use the `and` operator."
      ],
      "text/plain": [
       "Hint: You'll need to use the `and` operator."
      ]
     },
     "metadata": {},
     "output_type": "display_data"
    }
   ],
   "source": [
    "q5.a.hint()\n",
    "#q5.a.solution()"
   ]
  },
  {
   "cell_type": "markdown",
   "id": "38ccc630",
   "metadata": {
    "papermill": {
     "duration": 0.048394,
     "end_time": "2022-04-02T11:41:09.818973",
     "exception": false,
     "start_time": "2022-04-02T11:41:09.770579",
     "status": "completed"
    },
    "tags": []
   },
   "source": [
    "# 5b.\n",
    "\n",
    "For the next function, fill in the body to match the English description in the docstring. "
   ]
  },
  {
   "cell_type": "code",
   "execution_count": 15,
   "id": "61d3f022",
   "metadata": {
    "execution": {
     "iopub.execute_input": "2022-04-02T11:41:09.918046Z",
     "iopub.status.busy": "2022-04-02T11:41:09.917018Z",
     "iopub.status.idle": "2022-04-02T11:41:09.925202Z",
     "shell.execute_reply": "2022-04-02T11:41:09.925816Z",
     "shell.execute_reply.started": "2022-04-02T10:55:29.823859Z"
    },
    "papermill": {
     "duration": 0.059297,
     "end_time": "2022-04-02T11:41:09.925987",
     "exception": false,
     "start_time": "2022-04-02T11:41:09.866690",
     "status": "completed"
    },
    "tags": []
   },
   "outputs": [
    {
     "data": {
      "application/javascript": [
       "parent.postMessage({\"jupyterEvent\": \"custom.exercise_interaction\", \"data\": {\"outcomeType\": 1, \"valueTowardsCompletion\": 0.2, \"interactionType\": 1, \"questionType\": 2, \"questionId\": \"5.2_PlainDog\", \"learnToolsVersion\": \"0.3.4\", \"failureMessage\": \"\", \"exceptionClass\": \"\", \"trace\": \"\"}}, \"*\")"
      ],
      "text/plain": [
       "<IPython.core.display.Javascript object>"
      ]
     },
     "metadata": {},
     "output_type": "display_data"
    },
    {
     "data": {
      "text/markdown": [
       "<span style=\"color:#33cc33\">Correct:</span> \n",
       "\n",
       "One solution looks like:\n",
       "```python\n",
       "return not ketchup and not mustard and not onion\n",
       "```\n",
       "\n",
       "We can also [\"factor out\" the nots](https://en.wikipedia.org/wiki/De_Morgan%27s_laws) to get:\n",
       "\n",
       "```python\n",
       "return not (ketchup or mustard or onion)\n",
       "```"
      ],
      "text/plain": [
       "Correct: \n",
       "\n",
       "One solution looks like:\n",
       "```python\n",
       "return not ketchup and not mustard and not onion\n",
       "```\n",
       "\n",
       "We can also [\"factor out\" the nots](https://en.wikipedia.org/wiki/De_Morgan%27s_laws) to get:\n",
       "\n",
       "```python\n",
       "return not (ketchup or mustard or onion)\n",
       "```"
      ]
     },
     "metadata": {},
     "output_type": "display_data"
    }
   ],
   "source": [
    "def wants_plain_hotdog(ketchup, mustard, onion):\n",
    "    \"\"\"Return whether the customer wants a plain hot dog with no toppings.\n",
    "    \"\"\"\n",
    "    return not ketchup and not mustard and not onion\n",
    "\n",
    "# Check your answer\n",
    "q5.b.check()"
   ]
  },
  {
   "cell_type": "code",
   "execution_count": 16,
   "id": "2bc8397e",
   "metadata": {
    "execution": {
     "iopub.execute_input": "2022-04-02T11:41:10.029453Z",
     "iopub.status.busy": "2022-04-02T11:41:10.028453Z",
     "iopub.status.idle": "2022-04-02T11:41:10.031656Z",
     "shell.execute_reply": "2022-04-02T11:41:10.032210Z",
     "shell.execute_reply.started": "2022-04-02T10:17:54.244017Z"
    },
    "papermill": {
     "duration": 0.056983,
     "end_time": "2022-04-02T11:41:10.032384",
     "exception": false,
     "start_time": "2022-04-02T11:41:09.975401",
     "status": "completed"
    },
    "tags": []
   },
   "outputs": [],
   "source": [
    "#q5.b.hint()\n",
    "#q5.b.solution()"
   ]
  },
  {
   "cell_type": "markdown",
   "id": "3d540cb8",
   "metadata": {
    "papermill": {
     "duration": 0.048234,
     "end_time": "2022-04-02T11:41:10.129376",
     "exception": false,
     "start_time": "2022-04-02T11:41:10.081142",
     "status": "completed"
    },
    "tags": []
   },
   "source": [
    "# 5c.\n",
    "\n",
    "You know what to do: for the next function, fill in the body to match the English description in the docstring."
   ]
  },
  {
   "cell_type": "code",
   "execution_count": 17,
   "id": "2608c257",
   "metadata": {
    "execution": {
     "iopub.execute_input": "2022-04-02T11:41:10.230401Z",
     "iopub.status.busy": "2022-04-02T11:41:10.229419Z",
     "iopub.status.idle": "2022-04-02T11:41:10.237943Z",
     "shell.execute_reply": "2022-04-02T11:41:10.238530Z",
     "shell.execute_reply.started": "2022-04-02T11:08:48.769297Z"
    },
    "papermill": {
     "duration": 0.0609,
     "end_time": "2022-04-02T11:41:10.238730",
     "exception": false,
     "start_time": "2022-04-02T11:41:10.177830",
     "status": "completed"
    },
    "tags": []
   },
   "outputs": [
    {
     "data": {
      "application/javascript": [
       "parent.postMessage({\"jupyterEvent\": \"custom.exercise_interaction\", \"data\": {\"outcomeType\": 1, \"valueTowardsCompletion\": 0.2, \"interactionType\": 1, \"questionType\": 2, \"questionId\": \"5.3_OneSauce\", \"learnToolsVersion\": \"0.3.4\", \"failureMessage\": \"\", \"exceptionClass\": \"\", \"trace\": \"\"}}, \"*\")"
      ],
      "text/plain": [
       "<IPython.core.display.Javascript object>"
      ]
     },
     "metadata": {},
     "output_type": "display_data"
    },
    {
     "data": {
      "text/markdown": [
       "<span style=\"color:#33cc33\">Correct</span>"
      ],
      "text/plain": [
       "Correct"
      ]
     },
     "metadata": {},
     "output_type": "display_data"
    }
   ],
   "source": [
    "def exactly_one_sauce(ketchup, mustard, onion):\n",
    "    \"\"\"Return whether the customer wants either ketchup or mustard, but not both.\n",
    "    (You may be familiar with this operation under the name \"exclusive or\")\n",
    "    \"\"\"\n",
    "    return (ketchup and not mustard) or (not ketchup and mustard) \n",
    "\n",
    "# Check your answer\n",
    "q5.c.check()"
   ]
  },
  {
   "cell_type": "code",
   "execution_count": 18,
   "id": "2db2ce11",
   "metadata": {
    "execution": {
     "iopub.execute_input": "2022-04-02T11:41:10.342266Z",
     "iopub.status.busy": "2022-04-02T11:41:10.341233Z",
     "iopub.status.idle": "2022-04-02T11:41:10.352603Z",
     "shell.execute_reply": "2022-04-02T11:41:10.353215Z",
     "shell.execute_reply.started": "2022-04-02T11:07:54.851102Z"
    },
    "papermill": {
     "duration": 0.06505,
     "end_time": "2022-04-02T11:41:10.353387",
     "exception": false,
     "start_time": "2022-04-02T11:41:10.288337",
     "status": "completed"
    },
    "tags": []
   },
   "outputs": [
    {
     "data": {
      "application/javascript": [
       "parent.postMessage({\"jupyterEvent\": \"custom.exercise_interaction\", \"data\": {\"interactionType\": 2, \"questionType\": 2, \"questionId\": \"5.3_OneSauce\", \"learnToolsVersion\": \"0.3.4\", \"valueTowardsCompletion\": 0.0, \"failureMessage\": \"\", \"exceptionClass\": \"\", \"trace\": \"\", \"outcomeType\": 4}}, \"*\")"
      ],
      "text/plain": [
       "<IPython.core.display.Javascript object>"
      ]
     },
     "metadata": {},
     "output_type": "display_data"
    },
    {
     "data": {
      "text/markdown": [
       "<span style=\"color:#3366cc\">Hint:</span> There are exactly two ways to set ketchup and mustard to make this true. What are they?"
      ],
      "text/plain": [
       "Hint: There are exactly two ways to set ketchup and mustard to make this true. What are they?"
      ]
     },
     "metadata": {},
     "output_type": "display_data"
    },
    {
     "data": {
      "application/javascript": [
       "parent.postMessage({\"jupyterEvent\": \"custom.exercise_interaction\", \"data\": {\"interactionType\": 3, \"questionType\": 2, \"questionId\": \"5.3_OneSauce\", \"learnToolsVersion\": \"0.3.4\", \"valueTowardsCompletion\": 0.0, \"failureMessage\": \"\", \"exceptionClass\": \"\", \"trace\": \"\", \"outcomeType\": 4}}, \"*\")"
      ],
      "text/plain": [
       "<IPython.core.display.Javascript object>"
      ]
     },
     "metadata": {},
     "output_type": "display_data"
    },
    {
     "data": {
      "text/markdown": [
       "<span style=\"color:#33cc99\">Solution:</span> \n",
       "```python\n",
       "return (ketchup and not mustard) or (mustard and not ketchup)\n",
       "```"
      ],
      "text/plain": [
       "Solution: \n",
       "```python\n",
       "return (ketchup and not mustard) or (mustard and not ketchup)\n",
       "```"
      ]
     },
     "metadata": {},
     "output_type": "display_data"
    }
   ],
   "source": [
    "q5.c.hint()\n",
    "q5.c.solution()"
   ]
  },
  {
   "cell_type": "markdown",
   "id": "0b2a554a",
   "metadata": {
    "papermill": {
     "duration": 0.05173,
     "end_time": "2022-04-02T11:41:10.457438",
     "exception": false,
     "start_time": "2022-04-02T11:41:10.405708",
     "status": "completed"
    },
    "tags": []
   },
   "source": [
    "# 6. <span title=\"A bit spicy\" style=\"color: darkgreen \">🌶️</span>\n",
    "\n",
    "We’ve seen that calling `bool()` on an integer returns `False` if it’s equal to 0 and `True` otherwise. What happens if we call `int()` on a bool? Try it out in the notebook cell below.\n",
    "\n",
    "Can you take advantage of this to write a succinct function that corresponds to the English sentence \"does the customer want exactly one topping?\"?"
   ]
  },
  {
   "cell_type": "code",
   "execution_count": 19,
   "id": "6c8c2326",
   "metadata": {
    "execution": {
     "iopub.execute_input": "2022-04-02T11:41:10.569174Z",
     "iopub.status.busy": "2022-04-02T11:41:10.568057Z",
     "iopub.status.idle": "2022-04-02T11:41:10.573446Z",
     "shell.execute_reply": "2022-04-02T11:41:10.573954Z",
     "shell.execute_reply.started": "2022-04-02T10:17:54.271636Z"
    },
    "papermill": {
     "duration": 0.064521,
     "end_time": "2022-04-02T11:41:10.574131",
     "exception": false,
     "start_time": "2022-04-02T11:41:10.509610",
     "status": "completed"
    },
    "tags": []
   },
   "outputs": [
    {
     "data": {
      "application/javascript": [
       "parent.postMessage({\"jupyterEvent\": \"custom.exercise_interaction\", \"data\": {\"outcomeType\": 4, \"interactionType\": 1, \"questionType\": 2, \"questionId\": \"6_OneTopping\", \"learnToolsVersion\": \"0.3.4\", \"valueTowardsCompletion\": 0.0, \"failureMessage\": \"\", \"exceptionClass\": \"\", \"trace\": \"\"}}, \"*\")"
      ],
      "text/plain": [
       "<IPython.core.display.Javascript object>"
      ]
     },
     "metadata": {},
     "output_type": "display_data"
    },
    {
     "data": {
      "text/markdown": [
       "<span style=\"color:#ccaa33\">Check:</span> When you've updated the starter code, `check()` will tell you whether your code is correct. "
      ],
      "text/plain": [
       "Check: When you've updated the starter code, `check()` will tell you whether your code is correct. "
      ]
     },
     "metadata": {},
     "output_type": "display_data"
    }
   ],
   "source": [
    "def exactly_one_topping(ketchup, mustard, onion):\n",
    "    \"\"\"Return whether the customer wants exactly one of the three available toppings\n",
    "    on their hot dog.\n",
    "    \"\"\"\n",
    "    pass\n",
    "\n",
    "# Check your answer\n",
    "q6.check()"
   ]
  },
  {
   "cell_type": "code",
   "execution_count": 20,
   "id": "ca97d51a",
   "metadata": {
    "execution": {
     "iopub.execute_input": "2022-04-02T11:41:10.685169Z",
     "iopub.status.busy": "2022-04-02T11:41:10.684213Z",
     "iopub.status.idle": "2022-04-02T11:41:10.687259Z",
     "shell.execute_reply": "2022-04-02T11:41:10.687907Z",
     "shell.execute_reply.started": "2022-04-02T10:17:54.284877Z"
    },
    "papermill": {
     "duration": 0.060019,
     "end_time": "2022-04-02T11:41:10.688077",
     "exception": false,
     "start_time": "2022-04-02T11:41:10.628058",
     "status": "completed"
    },
    "tags": []
   },
   "outputs": [],
   "source": [
    "#q6.hint()\n",
    "#q6.solution()"
   ]
  },
  {
   "cell_type": "markdown",
   "id": "6f3dc944",
   "metadata": {
    "papermill": {
     "duration": 0.053296,
     "end_time": "2022-04-02T11:41:10.795100",
     "exception": false,
     "start_time": "2022-04-02T11:41:10.741804",
     "status": "completed"
    },
    "tags": []
   },
   "source": [
    "# 7. <span title=\"A bit spicy\" style=\"color: darkgreen \">🌶️</span> (Optional)\n",
    "\n",
    "In this problem we'll be working with a simplified version of [blackjack](https://en.wikipedia.org/wiki/Blackjack) (aka twenty-one). In this version there is one player (who you'll control) and a dealer. Play proceeds as follows:\n",
    "\n",
    "- The player is dealt two face-up cards. The dealer is dealt one face-up card.\n",
    "- The player may ask to be dealt another card ('hit') as many times as they wish. If the sum of their cards exceeds 21, they lose the round immediately.\n",
    "- The dealer then deals additional cards to himself until either:\n",
    "    - the sum of the dealer's cards exceeds 21, in which case the player wins the round\n",
    "    - the sum of the dealer's cards is greater than or equal to 17. If the player's total is greater than the dealer's, the player wins. Otherwise, the dealer wins (even in case of a tie).\n",
    "    \n",
    "When calculating the sum of cards, Jack, Queen, and King count for 10. Aces can count as 1 or 11 (when referring to a player's \"total\" above, we mean the largest total that can be made without exceeding 21. So e.g. A+8 = 19, A+8+8 = 17)\n",
    "\n",
    "For this problem, you'll write a function representing the player's decision-making strategy in this game. We've provided a very unintelligent implementation below:"
   ]
  },
  {
   "cell_type": "code",
   "execution_count": 21,
   "id": "d534a954",
   "metadata": {
    "execution": {
     "iopub.execute_input": "2022-04-02T11:41:10.906428Z",
     "iopub.status.busy": "2022-04-02T11:41:10.905354Z",
     "iopub.status.idle": "2022-04-02T11:41:10.910003Z",
     "shell.execute_reply": "2022-04-02T11:41:10.910619Z",
     "shell.execute_reply.started": "2022-04-02T11:29:50.99675Z"
    },
    "papermill": {
     "duration": 0.061963,
     "end_time": "2022-04-02T11:41:10.910791",
     "exception": false,
     "start_time": "2022-04-02T11:41:10.848828",
     "status": "completed"
    },
    "tags": []
   },
   "outputs": [],
   "source": [
    "def should_hit(dealer_total, player_total, player_low_aces, player_high_aces):\n",
    "    \"\"\"Return True if the player should hit (request another card) given the current game\n",
    "    state, or False if the player should stay.\n",
    "    When calculating a hand's total value, we count aces as \"high\" (with value 11) if doing so\n",
    "    doesn't bring the total above 21, otherwise we count them as low (with value 1). \n",
    "    For example, if the player's hand is {A, A, A, 7}, we will count it as 11 + 1 + 1 + 7,\n",
    "    and therefore set player_total=20, player_low_aces=2, player_high_aces=1.\n",
    "    \"\"\"\n",
    "    \n",
    "    return False"
   ]
  },
  {
   "cell_type": "markdown",
   "id": "1b568be4",
   "metadata": {
    "papermill": {
     "duration": 0.053435,
     "end_time": "2022-04-02T11:41:11.017686",
     "exception": false,
     "start_time": "2022-04-02T11:41:10.964251",
     "status": "completed"
    },
    "tags": []
   },
   "source": [
    "This very conservative agent *always* sticks with the hand of two cards that they're dealt.\n",
    "\n",
    "We'll be simulating games between your player agent and our own dealer agent by calling your function.\n",
    "\n",
    "Try running the function below to see an example of a simulated game:"
   ]
  },
  {
   "cell_type": "code",
   "execution_count": 22,
   "id": "2f6450ed",
   "metadata": {
    "execution": {
     "iopub.execute_input": "2022-04-02T11:41:11.128550Z",
     "iopub.status.busy": "2022-04-02T11:41:11.127615Z",
     "iopub.status.idle": "2022-04-02T11:41:11.133475Z",
     "shell.execute_reply": "2022-04-02T11:41:11.134017Z",
     "shell.execute_reply.started": "2022-04-02T11:31:48.686571Z"
    },
    "papermill": {
     "duration": 0.062876,
     "end_time": "2022-04-02T11:41:11.134190",
     "exception": false,
     "start_time": "2022-04-02T11:41:11.071314",
     "status": "completed"
    },
    "tags": []
   },
   "outputs": [
    {
     "name": "stdout",
     "output_type": "stream",
     "text": [
      "Player starts with 9 and 6 (total = 15)\n",
      "Dealer starts with J\n",
      "\n",
      "__Player's turn__\n",
      "Player stays\n",
      "\n",
      "__Dealer's turn__\n",
      "Dealer hits and receives 4. (total = 14)\n",
      "Dealer hits and receives 4. (total = 18)\n",
      "Dealer stands.\n",
      "Dealer wins. 18 >= 15\n"
     ]
    }
   ],
   "source": [
    "q7.simulate_one_game()"
   ]
  },
  {
   "cell_type": "markdown",
   "id": "a363299e",
   "metadata": {
    "papermill": {
     "duration": 0.05362,
     "end_time": "2022-04-02T11:41:11.241755",
     "exception": false,
     "start_time": "2022-04-02T11:41:11.188135",
     "status": "completed"
    },
    "tags": []
   },
   "source": [
    "The real test of your agent's mettle is their average win rate over many games. Try calling the function below to simulate 50000 games of blackjack (it may take a couple seconds):"
   ]
  },
  {
   "cell_type": "code",
   "execution_count": 23,
   "id": "9bbaa841",
   "metadata": {
    "execution": {
     "iopub.execute_input": "2022-04-02T11:41:11.353957Z",
     "iopub.status.busy": "2022-04-02T11:41:11.352994Z",
     "iopub.status.idle": "2022-04-02T11:41:13.311421Z",
     "shell.execute_reply": "2022-04-02T11:41:13.311946Z",
     "shell.execute_reply.started": "2022-04-02T11:30:23.652067Z"
    },
    "papermill": {
     "duration": 2.016246,
     "end_time": "2022-04-02T11:41:13.312134",
     "exception": false,
     "start_time": "2022-04-02T11:41:11.295888",
     "status": "completed"
    },
    "tags": []
   },
   "outputs": [
    {
     "name": "stdout",
     "output_type": "stream",
     "text": [
      "Player won 19073 out of 50000 games (win rate = 38.1%)\n"
     ]
    }
   ],
   "source": [
    "q7.simulate(n_games=50000)"
   ]
  },
  {
   "cell_type": "markdown",
   "id": "72f8ee99",
   "metadata": {
    "papermill": {
     "duration": 0.056121,
     "end_time": "2022-04-02T11:41:13.422969",
     "exception": false,
     "start_time": "2022-04-02T11:41:13.366848",
     "status": "completed"
    },
    "tags": []
   },
   "source": [
    "Our dumb agent that completely ignores the game state still manages to win shockingly often!\n",
    "\n",
    "Try adding some more smarts to the `should_hit` function and see how it affects the results."
   ]
  },
  {
   "cell_type": "code",
   "execution_count": 24,
   "id": "9eaf5d0a",
   "metadata": {
    "execution": {
     "iopub.execute_input": "2022-04-02T11:41:13.537993Z",
     "iopub.status.busy": "2022-04-02T11:41:13.537195Z",
     "iopub.status.idle": "2022-04-02T11:41:15.476199Z",
     "shell.execute_reply": "2022-04-02T11:41:15.477074Z",
     "shell.execute_reply.started": "2022-04-02T11:32:40.378415Z"
    },
    "papermill": {
     "duration": 1.998809,
     "end_time": "2022-04-02T11:41:15.477317",
     "exception": false,
     "start_time": "2022-04-02T11:41:13.478508",
     "status": "completed"
    },
    "tags": []
   },
   "outputs": [
    {
     "name": "stdout",
     "output_type": "stream",
     "text": [
      "Player won 19133 out of 50000 games (win rate = 38.3%)\n"
     ]
    }
   ],
   "source": [
    "def should_hit(dealer_total, player_total, player_low_aces, player_high_aces):\n",
    "    \"\"\"Return True if the player should hit (request another card) given the current game\n",
    "    state, or False if the player should stay.\n",
    "    When calculating a hand's total value, we count aces as \"high\" (with value 11) if doing so\n",
    "    doesn't bring the total above 21, otherwise we count them as low (with value 1). \n",
    "    For example, if the player's hand is {A, A, A, 7}, we will count it as 11 + 1 + 1 + 7,\n",
    "    and therefore set player_total=20, player_low_aces=2, player_high_aces=1.\n",
    "    \"\"\"\n",
    "    return False\n",
    "\n",
    "q7.simulate(n_games=50000)"
   ]
  },
  {
   "cell_type": "markdown",
   "id": "3b0ba871",
   "metadata": {
    "papermill": {
     "duration": 0.056589,
     "end_time": "2022-04-02T11:41:15.590230",
     "exception": false,
     "start_time": "2022-04-02T11:41:15.533641",
     "status": "completed"
    },
    "tags": []
   },
   "source": [
    "# Keep Going\n",
    "\n",
    "Learn about **[lists and tuples](https://www.kaggle.com/colinmorris/lists)** to handle multiple items of data in a systematic way."
   ]
  },
  {
   "cell_type": "markdown",
   "id": "702fdf32",
   "metadata": {
    "papermill": {
     "duration": 0.054402,
     "end_time": "2022-04-02T11:41:15.699331",
     "exception": false,
     "start_time": "2022-04-02T11:41:15.644929",
     "status": "completed"
    },
    "tags": []
   },
   "source": [
    "---\n",
    "\n",
    "\n",
    "\n",
    "\n",
    "*Have questions or comments? Visit the [course discussion forum](https://www.kaggle.com/learn/python/discussion) to chat with other learners.*"
   ]
  }
 ],
 "metadata": {
  "kernelspec": {
   "display_name": "Python 3",
   "language": "python",
   "name": "python3"
  },
  "language_info": {
   "codemirror_mode": {
    "name": "ipython",
    "version": 3
   },
   "file_extension": ".py",
   "mimetype": "text/x-python",
   "name": "python",
   "nbconvert_exporter": "python",
   "pygments_lexer": "ipython3",
   "version": "3.7.12"
  },
  "papermill": {
   "default_parameters": {},
   "duration": 19.233258,
   "end_time": "2022-04-02T11:41:16.566615",
   "environment_variables": {},
   "exception": null,
   "input_path": "__notebook__.ipynb",
   "output_path": "__notebook__.ipynb",
   "parameters": {},
   "start_time": "2022-04-02T11:40:57.333357",
   "version": "2.3.3"
  }
 },
 "nbformat": 4,
 "nbformat_minor": 5
}
