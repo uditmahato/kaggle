{
 "cells": [
  {
   "cell_type": "markdown",
   "id": "9b3f3c35",
   "metadata": {
    "papermill": {
     "duration": 0.025279,
     "end_time": "2022-05-17T16:36:16.833672",
     "exception": false,
     "start_time": "2022-05-17T16:36:16.808393",
     "status": "completed"
    },
    "tags": []
   },
   "source": [
    "**This notebook is an exercise in the [Pandas](https://www.kaggle.com/learn/pandas) course.  You can reference the tutorial at [this link](https://www.kaggle.com/residentmario/summary-functions-and-maps).**\n",
    "\n",
    "---\n"
   ]
  },
  {
   "cell_type": "markdown",
   "id": "b32cc4a0",
   "metadata": {
    "papermill": {
     "duration": 0.02352,
     "end_time": "2022-05-17T16:36:16.879934",
     "exception": false,
     "start_time": "2022-05-17T16:36:16.856414",
     "status": "completed"
    },
    "tags": []
   },
   "source": [
    "# Introduction\n",
    "\n",
    "Now you are ready to get a deeper understanding of your data.\n",
    "\n",
    "Run the following cell to load your data and some utility functions (including code to check your answers)."
   ]
  },
  {
   "cell_type": "code",
   "execution_count": 1,
   "id": "afda1534",
   "metadata": {
    "execution": {
     "iopub.execute_input": "2022-05-17T16:36:16.927240Z",
     "iopub.status.busy": "2022-05-17T16:36:16.926813Z",
     "iopub.status.idle": "2022-05-17T16:36:24.806236Z",
     "shell.execute_reply": "2022-05-17T16:36:24.805270Z"
    },
    "papermill": {
     "duration": 7.906725,
     "end_time": "2022-05-17T16:36:24.809311",
     "exception": false,
     "start_time": "2022-05-17T16:36:16.902586",
     "status": "completed"
    },
    "tags": []
   },
   "outputs": [
    {
     "name": "stdout",
     "output_type": "stream",
     "text": [
      "Setup complete.\n"
     ]
    },
    {
     "data": {
      "text/html": [
       "<div>\n",
       "<style scoped>\n",
       "    .dataframe tbody tr th:only-of-type {\n",
       "        vertical-align: middle;\n",
       "    }\n",
       "\n",
       "    .dataframe tbody tr th {\n",
       "        vertical-align: top;\n",
       "    }\n",
       "\n",
       "    .dataframe thead th {\n",
       "        text-align: right;\n",
       "    }\n",
       "</style>\n",
       "<table border=\"1\" class=\"dataframe\">\n",
       "  <thead>\n",
       "    <tr style=\"text-align: right;\">\n",
       "      <th></th>\n",
       "      <th>country</th>\n",
       "      <th>description</th>\n",
       "      <th>designation</th>\n",
       "      <th>points</th>\n",
       "      <th>price</th>\n",
       "      <th>province</th>\n",
       "      <th>region_1</th>\n",
       "      <th>region_2</th>\n",
       "      <th>taster_name</th>\n",
       "      <th>taster_twitter_handle</th>\n",
       "      <th>title</th>\n",
       "      <th>variety</th>\n",
       "      <th>winery</th>\n",
       "    </tr>\n",
       "  </thead>\n",
       "  <tbody>\n",
       "    <tr>\n",
       "      <th>0</th>\n",
       "      <td>Italy</td>\n",
       "      <td>Aromas include tropical fruit, broom, brimston...</td>\n",
       "      <td>Vulkà Bianco</td>\n",
       "      <td>87</td>\n",
       "      <td>NaN</td>\n",
       "      <td>Sicily &amp; Sardinia</td>\n",
       "      <td>Etna</td>\n",
       "      <td>NaN</td>\n",
       "      <td>Kerin O’Keefe</td>\n",
       "      <td>@kerinokeefe</td>\n",
       "      <td>Nicosia 2013 Vulkà Bianco  (Etna)</td>\n",
       "      <td>White Blend</td>\n",
       "      <td>Nicosia</td>\n",
       "    </tr>\n",
       "    <tr>\n",
       "      <th>1</th>\n",
       "      <td>Portugal</td>\n",
       "      <td>This is ripe and fruity, a wine that is smooth...</td>\n",
       "      <td>Avidagos</td>\n",
       "      <td>87</td>\n",
       "      <td>15.0</td>\n",
       "      <td>Douro</td>\n",
       "      <td>NaN</td>\n",
       "      <td>NaN</td>\n",
       "      <td>Roger Voss</td>\n",
       "      <td>@vossroger</td>\n",
       "      <td>Quinta dos Avidagos 2011 Avidagos Red (Douro)</td>\n",
       "      <td>Portuguese Red</td>\n",
       "      <td>Quinta dos Avidagos</td>\n",
       "    </tr>\n",
       "    <tr>\n",
       "      <th>2</th>\n",
       "      <td>US</td>\n",
       "      <td>Tart and snappy, the flavors of lime flesh and...</td>\n",
       "      <td>NaN</td>\n",
       "      <td>87</td>\n",
       "      <td>14.0</td>\n",
       "      <td>Oregon</td>\n",
       "      <td>Willamette Valley</td>\n",
       "      <td>Willamette Valley</td>\n",
       "      <td>Paul Gregutt</td>\n",
       "      <td>@paulgwine</td>\n",
       "      <td>Rainstorm 2013 Pinot Gris (Willamette Valley)</td>\n",
       "      <td>Pinot Gris</td>\n",
       "      <td>Rainstorm</td>\n",
       "    </tr>\n",
       "    <tr>\n",
       "      <th>3</th>\n",
       "      <td>US</td>\n",
       "      <td>Pineapple rind, lemon pith and orange blossom ...</td>\n",
       "      <td>Reserve Late Harvest</td>\n",
       "      <td>87</td>\n",
       "      <td>13.0</td>\n",
       "      <td>Michigan</td>\n",
       "      <td>Lake Michigan Shore</td>\n",
       "      <td>NaN</td>\n",
       "      <td>Alexander Peartree</td>\n",
       "      <td>NaN</td>\n",
       "      <td>St. Julian 2013 Reserve Late Harvest Riesling ...</td>\n",
       "      <td>Riesling</td>\n",
       "      <td>St. Julian</td>\n",
       "    </tr>\n",
       "    <tr>\n",
       "      <th>4</th>\n",
       "      <td>US</td>\n",
       "      <td>Much like the regular bottling from 2012, this...</td>\n",
       "      <td>Vintner's Reserve Wild Child Block</td>\n",
       "      <td>87</td>\n",
       "      <td>65.0</td>\n",
       "      <td>Oregon</td>\n",
       "      <td>Willamette Valley</td>\n",
       "      <td>Willamette Valley</td>\n",
       "      <td>Paul Gregutt</td>\n",
       "      <td>@paulgwine</td>\n",
       "      <td>Sweet Cheeks 2012 Vintner's Reserve Wild Child...</td>\n",
       "      <td>Pinot Noir</td>\n",
       "      <td>Sweet Cheeks</td>\n",
       "    </tr>\n",
       "  </tbody>\n",
       "</table>\n",
       "</div>"
      ],
      "text/plain": [
       "    country                                        description  \\\n",
       "0     Italy  Aromas include tropical fruit, broom, brimston...   \n",
       "1  Portugal  This is ripe and fruity, a wine that is smooth...   \n",
       "2        US  Tart and snappy, the flavors of lime flesh and...   \n",
       "3        US  Pineapple rind, lemon pith and orange blossom ...   \n",
       "4        US  Much like the regular bottling from 2012, this...   \n",
       "\n",
       "                          designation  points  price           province  \\\n",
       "0                        Vulkà Bianco      87    NaN  Sicily & Sardinia   \n",
       "1                            Avidagos      87   15.0              Douro   \n",
       "2                                 NaN      87   14.0             Oregon   \n",
       "3                Reserve Late Harvest      87   13.0           Michigan   \n",
       "4  Vintner's Reserve Wild Child Block      87   65.0             Oregon   \n",
       "\n",
       "              region_1           region_2         taster_name  \\\n",
       "0                 Etna                NaN       Kerin O’Keefe   \n",
       "1                  NaN                NaN          Roger Voss   \n",
       "2    Willamette Valley  Willamette Valley        Paul Gregutt   \n",
       "3  Lake Michigan Shore                NaN  Alexander Peartree   \n",
       "4    Willamette Valley  Willamette Valley        Paul Gregutt   \n",
       "\n",
       "  taster_twitter_handle                                              title  \\\n",
       "0          @kerinokeefe                  Nicosia 2013 Vulkà Bianco  (Etna)   \n",
       "1            @vossroger      Quinta dos Avidagos 2011 Avidagos Red (Douro)   \n",
       "2           @paulgwine       Rainstorm 2013 Pinot Gris (Willamette Valley)   \n",
       "3                   NaN  St. Julian 2013 Reserve Late Harvest Riesling ...   \n",
       "4           @paulgwine   Sweet Cheeks 2012 Vintner's Reserve Wild Child...   \n",
       "\n",
       "          variety               winery  \n",
       "0     White Blend              Nicosia  \n",
       "1  Portuguese Red  Quinta dos Avidagos  \n",
       "2      Pinot Gris            Rainstorm  \n",
       "3        Riesling           St. Julian  \n",
       "4      Pinot Noir         Sweet Cheeks  "
      ]
     },
     "execution_count": 1,
     "metadata": {},
     "output_type": "execute_result"
    }
   ],
   "source": [
    "import pandas as pd\n",
    "pd.set_option(\"display.max_rows\", 5)\n",
    "reviews = pd.read_csv(\"../input/wine-reviews/winemag-data-130k-v2.csv\", index_col=0)\n",
    "\n",
    "from learntools.core import binder; binder.bind(globals())\n",
    "from learntools.pandas.summary_functions_and_maps import *\n",
    "print(\"Setup complete.\")\n",
    "\n",
    "reviews.head()"
   ]
  },
  {
   "cell_type": "markdown",
   "id": "2ea23bd3",
   "metadata": {
    "papermill": {
     "duration": 0.023772,
     "end_time": "2022-05-17T16:36:24.857936",
     "exception": false,
     "start_time": "2022-05-17T16:36:24.834164",
     "status": "completed"
    },
    "tags": []
   },
   "source": [
    "# Exercises"
   ]
  },
  {
   "cell_type": "markdown",
   "id": "ee4e7945",
   "metadata": {
    "papermill": {
     "duration": 0.024033,
     "end_time": "2022-05-17T16:36:24.906469",
     "exception": false,
     "start_time": "2022-05-17T16:36:24.882436",
     "status": "completed"
    },
    "tags": []
   },
   "source": [
    "## 1.\n",
    "\n",
    "What is the median of the `points` column in the `reviews` DataFrame?"
   ]
  },
  {
   "cell_type": "code",
   "execution_count": 2,
   "id": "1da153ae",
   "metadata": {
    "execution": {
     "iopub.execute_input": "2022-05-17T16:36:24.957331Z",
     "iopub.status.busy": "2022-05-17T16:36:24.957049Z",
     "iopub.status.idle": "2022-05-17T16:36:24.967259Z",
     "shell.execute_reply": "2022-05-17T16:36:24.966545Z"
    },
    "papermill": {
     "duration": 0.037742,
     "end_time": "2022-05-17T16:36:24.969293",
     "exception": false,
     "start_time": "2022-05-17T16:36:24.931551",
     "status": "completed"
    },
    "tags": []
   },
   "outputs": [
    {
     "data": {
      "application/javascript": [
       "parent.postMessage({\"jupyterEvent\": \"custom.exercise_interaction\", \"data\": {\"outcomeType\": 1, \"valueTowardsCompletion\": 0.14285714285714285, \"interactionType\": 1, \"questionType\": 1, \"questionId\": \"1_MedianPoints\", \"learnToolsVersion\": \"0.3.4\", \"failureMessage\": \"\", \"exceptionClass\": \"\", \"trace\": \"\"}}, \"*\")"
      ],
      "text/plain": [
       "<IPython.core.display.Javascript object>"
      ]
     },
     "metadata": {},
     "output_type": "display_data"
    },
    {
     "data": {
      "text/markdown": [
       "<span style=\"color:#33cc33\">Correct</span>"
      ],
      "text/plain": [
       "Correct"
      ]
     },
     "metadata": {},
     "output_type": "display_data"
    }
   ],
   "source": [
    "median_points = reviews.points.median()\n",
    "\n",
    "# Check your answer\n",
    "q1.check()"
   ]
  },
  {
   "cell_type": "code",
   "execution_count": 3,
   "id": "01a64f03",
   "metadata": {
    "execution": {
     "iopub.execute_input": "2022-05-17T16:36:25.023998Z",
     "iopub.status.busy": "2022-05-17T16:36:25.023559Z",
     "iopub.status.idle": "2022-05-17T16:36:25.026311Z",
     "shell.execute_reply": "2022-05-17T16:36:25.025720Z"
    },
    "papermill": {
     "duration": 0.033197,
     "end_time": "2022-05-17T16:36:25.028177",
     "exception": false,
     "start_time": "2022-05-17T16:36:24.994980",
     "status": "completed"
    },
    "tags": []
   },
   "outputs": [],
   "source": [
    "#q1.hint()\n",
    "#q1.solution()"
   ]
  },
  {
   "cell_type": "markdown",
   "id": "5b9efbf2",
   "metadata": {
    "papermill": {
     "duration": 0.026327,
     "end_time": "2022-05-17T16:36:25.082303",
     "exception": false,
     "start_time": "2022-05-17T16:36:25.055976",
     "status": "completed"
    },
    "tags": []
   },
   "source": [
    "## 2. \n",
    "What countries are represented in the dataset? (Your answer should not include any duplicates.)"
   ]
  },
  {
   "cell_type": "code",
   "execution_count": 4,
   "id": "e6427349",
   "metadata": {
    "execution": {
     "iopub.execute_input": "2022-05-17T16:36:25.135414Z",
     "iopub.status.busy": "2022-05-17T16:36:25.134977Z",
     "iopub.status.idle": "2022-05-17T16:36:25.153467Z",
     "shell.execute_reply": "2022-05-17T16:36:25.152832Z"
    },
    "papermill": {
     "duration": 0.047194,
     "end_time": "2022-05-17T16:36:25.155320",
     "exception": false,
     "start_time": "2022-05-17T16:36:25.108126",
     "status": "completed"
    },
    "tags": []
   },
   "outputs": [
    {
     "data": {
      "application/javascript": [
       "parent.postMessage({\"jupyterEvent\": \"custom.exercise_interaction\", \"data\": {\"outcomeType\": 1, \"valueTowardsCompletion\": 0.14285714285714285, \"interactionType\": 1, \"questionType\": 2, \"questionId\": \"2_UniqueCountries\", \"learnToolsVersion\": \"0.3.4\", \"failureMessage\": \"\", \"exceptionClass\": \"\", \"trace\": \"\"}}, \"*\")"
      ],
      "text/plain": [
       "<IPython.core.display.Javascript object>"
      ]
     },
     "metadata": {},
     "output_type": "display_data"
    },
    {
     "data": {
      "text/markdown": [
       "<span style=\"color:#33cc33\">Correct</span>"
      ],
      "text/plain": [
       "Correct"
      ]
     },
     "metadata": {},
     "output_type": "display_data"
    }
   ],
   "source": [
    "countries = reviews.country.unique()\n",
    "\n",
    "# Check your answer\n",
    "q2.check()"
   ]
  },
  {
   "cell_type": "code",
   "execution_count": 5,
   "id": "63afb3c2",
   "metadata": {
    "execution": {
     "iopub.execute_input": "2022-05-17T16:36:25.210531Z",
     "iopub.status.busy": "2022-05-17T16:36:25.210032Z",
     "iopub.status.idle": "2022-05-17T16:36:25.212952Z",
     "shell.execute_reply": "2022-05-17T16:36:25.212331Z"
    },
    "papermill": {
     "duration": 0.033079,
     "end_time": "2022-05-17T16:36:25.214840",
     "exception": false,
     "start_time": "2022-05-17T16:36:25.181761",
     "status": "completed"
    },
    "tags": []
   },
   "outputs": [],
   "source": [
    "#q2.hint()\n",
    "#q2.solution()"
   ]
  },
  {
   "cell_type": "markdown",
   "id": "c5351f78",
   "metadata": {
    "papermill": {
     "duration": 0.025924,
     "end_time": "2022-05-17T16:36:25.267203",
     "exception": false,
     "start_time": "2022-05-17T16:36:25.241279",
     "status": "completed"
    },
    "tags": []
   },
   "source": [
    "## 3.\n",
    "How often does each country appear in the dataset? Create a Series `reviews_per_country` mapping countries to the count of reviews of wines from that country."
   ]
  },
  {
   "cell_type": "code",
   "execution_count": 6,
   "id": "4b678b80",
   "metadata": {
    "execution": {
     "iopub.execute_input": "2022-05-17T16:36:25.322374Z",
     "iopub.status.busy": "2022-05-17T16:36:25.322102Z",
     "iopub.status.idle": "2022-05-17T16:36:25.348823Z",
     "shell.execute_reply": "2022-05-17T16:36:25.348238Z"
    },
    "papermill": {
     "duration": 0.056183,
     "end_time": "2022-05-17T16:36:25.350713",
     "exception": false,
     "start_time": "2022-05-17T16:36:25.294530",
     "status": "completed"
    },
    "tags": []
   },
   "outputs": [
    {
     "data": {
      "application/javascript": [
       "parent.postMessage({\"jupyterEvent\": \"custom.exercise_interaction\", \"data\": {\"outcomeType\": 1, \"valueTowardsCompletion\": 0.14285714285714285, \"interactionType\": 1, \"questionType\": 1, \"questionId\": \"3_ReviewsPerCountry\", \"learnToolsVersion\": \"0.3.4\", \"failureMessage\": \"\", \"exceptionClass\": \"\", \"trace\": \"\"}}, \"*\")"
      ],
      "text/plain": [
       "<IPython.core.display.Javascript object>"
      ]
     },
     "metadata": {},
     "output_type": "display_data"
    },
    {
     "data": {
      "text/markdown": [
       "<span style=\"color:#33cc33\">Correct</span>"
      ],
      "text/plain": [
       "Correct"
      ]
     },
     "metadata": {},
     "output_type": "display_data"
    }
   ],
   "source": [
    "reviews_per_country = reviews.country.value_counts()\n",
    "\n",
    "# Check your answer\n",
    "q3.check()"
   ]
  },
  {
   "cell_type": "code",
   "execution_count": 7,
   "id": "8b3cd579",
   "metadata": {
    "execution": {
     "iopub.execute_input": "2022-05-17T16:36:25.408292Z",
     "iopub.status.busy": "2022-05-17T16:36:25.407741Z",
     "iopub.status.idle": "2022-05-17T16:36:25.410674Z",
     "shell.execute_reply": "2022-05-17T16:36:25.410136Z"
    },
    "papermill": {
     "duration": 0.034388,
     "end_time": "2022-05-17T16:36:25.412589",
     "exception": false,
     "start_time": "2022-05-17T16:36:25.378201",
     "status": "completed"
    },
    "tags": []
   },
   "outputs": [],
   "source": [
    "# #q3.hint()\n",
    "# q3.solution()"
   ]
  },
  {
   "cell_type": "markdown",
   "id": "0ad4bd1f",
   "metadata": {
    "papermill": {
     "duration": 0.028525,
     "end_time": "2022-05-17T16:36:25.469004",
     "exception": false,
     "start_time": "2022-05-17T16:36:25.440479",
     "status": "completed"
    },
    "tags": []
   },
   "source": [
    "## 4.\n",
    "Create variable `centered_price` containing a version of the `price` column with the mean price subtracted.\n",
    "\n",
    "(Note: this 'centering' transformation is a common preprocessing step before applying various machine learning algorithms.) "
   ]
  },
  {
   "cell_type": "code",
   "execution_count": 8,
   "id": "67076f57",
   "metadata": {
    "execution": {
     "iopub.execute_input": "2022-05-17T16:36:25.526294Z",
     "iopub.status.busy": "2022-05-17T16:36:25.525790Z",
     "iopub.status.idle": "2022-05-17T16:37:49.736260Z",
     "shell.execute_reply": "2022-05-17T16:37:49.735373Z"
    },
    "papermill": {
     "duration": 84.270424,
     "end_time": "2022-05-17T16:37:49.767248",
     "exception": false,
     "start_time": "2022-05-17T16:36:25.496824",
     "status": "completed"
    },
    "tags": []
   },
   "outputs": [
    {
     "data": {
      "application/javascript": [
       "parent.postMessage({\"jupyterEvent\": \"custom.exercise_interaction\", \"data\": {\"outcomeType\": 1, \"valueTowardsCompletion\": 0.14285714285714285, \"interactionType\": 1, \"questionType\": 1, \"questionId\": \"4_CenteredPrice\", \"learnToolsVersion\": \"0.3.4\", \"failureMessage\": \"\", \"exceptionClass\": \"\", \"trace\": \"\"}}, \"*\")"
      ],
      "text/plain": [
       "<IPython.core.display.Javascript object>"
      ]
     },
     "metadata": {},
     "output_type": "display_data"
    },
    {
     "data": {
      "text/markdown": [
       "<span style=\"color:#33cc33\">Correct</span>"
      ],
      "text/plain": [
       "Correct"
      ]
     },
     "metadata": {},
     "output_type": "display_data"
    }
   ],
   "source": [
    "centered_price = reviews.price.map(lambda p : p - reviews.price.mean())\n",
    "\n",
    "# Check your answer\n",
    "q4.check()"
   ]
  },
  {
   "cell_type": "code",
   "execution_count": 9,
   "id": "726c2fc1",
   "metadata": {
    "execution": {
     "iopub.execute_input": "2022-05-17T16:37:49.826761Z",
     "iopub.status.busy": "2022-05-17T16:37:49.826455Z",
     "iopub.status.idle": "2022-05-17T16:37:49.829812Z",
     "shell.execute_reply": "2022-05-17T16:37:49.828979Z"
    },
    "papermill": {
     "duration": 0.035917,
     "end_time": "2022-05-17T16:37:49.831787",
     "exception": false,
     "start_time": "2022-05-17T16:37:49.795870",
     "status": "completed"
    },
    "tags": []
   },
   "outputs": [],
   "source": [
    "#q4.hint()\n",
    "#q4.solution()"
   ]
  },
  {
   "cell_type": "markdown",
   "id": "97e343fe",
   "metadata": {
    "papermill": {
     "duration": 0.032693,
     "end_time": "2022-05-17T16:37:49.894299",
     "exception": false,
     "start_time": "2022-05-17T16:37:49.861606",
     "status": "completed"
    },
    "tags": []
   },
   "source": [
    "## 5.\n",
    "I'm an economical wine buyer. Which wine is the \"best bargain\"? Create a variable `bargain_wine` with the title of the wine with the highest points-to-price ratio in the dataset."
   ]
  },
  {
   "cell_type": "code",
   "execution_count": 10,
   "id": "4f0f3cc5",
   "metadata": {
    "execution": {
     "iopub.execute_input": "2022-05-17T16:37:49.953799Z",
     "iopub.status.busy": "2022-05-17T16:37:49.953455Z",
     "iopub.status.idle": "2022-05-17T16:37:49.966689Z",
     "shell.execute_reply": "2022-05-17T16:37:49.965869Z"
    },
    "papermill": {
     "duration": 0.045003,
     "end_time": "2022-05-17T16:37:49.968706",
     "exception": false,
     "start_time": "2022-05-17T16:37:49.923703",
     "status": "completed"
    },
    "tags": []
   },
   "outputs": [
    {
     "data": {
      "application/javascript": [
       "parent.postMessage({\"jupyterEvent\": \"custom.exercise_interaction\", \"data\": {\"outcomeType\": 1, \"valueTowardsCompletion\": 0.14285714285714285, \"interactionType\": 1, \"questionType\": 2, \"questionId\": \"5_BargainWine\", \"learnToolsVersion\": \"0.3.4\", \"failureMessage\": \"\", \"exceptionClass\": \"\", \"trace\": \"\"}}, \"*\")"
      ],
      "text/plain": [
       "<IPython.core.display.Javascript object>"
      ]
     },
     "metadata": {},
     "output_type": "display_data"
    },
    {
     "data": {
      "text/markdown": [
       "<span style=\"color:#33cc33\">Correct</span>"
      ],
      "text/plain": [
       "Correct"
      ]
     },
     "metadata": {},
     "output_type": "display_data"
    }
   ],
   "source": [
    "bargain_idx = (reviews.points / reviews.price).idxmax()\n",
    "bargain_wine = reviews.loc[bargain_idx, 'title']\n",
    "\n",
    "# Check your answer\n",
    "q5.check()"
   ]
  },
  {
   "cell_type": "code",
   "execution_count": 11,
   "id": "f8ba9648",
   "metadata": {
    "execution": {
     "iopub.execute_input": "2022-05-17T16:37:50.032440Z",
     "iopub.status.busy": "2022-05-17T16:37:50.032140Z",
     "iopub.status.idle": "2022-05-17T16:37:50.036124Z",
     "shell.execute_reply": "2022-05-17T16:37:50.035245Z"
    },
    "papermill": {
     "duration": 0.038888,
     "end_time": "2022-05-17T16:37:50.038444",
     "exception": false,
     "start_time": "2022-05-17T16:37:49.999556",
     "status": "completed"
    },
    "tags": []
   },
   "outputs": [],
   "source": [
    "# q5.hint()\n",
    "# q5.solution()"
   ]
  },
  {
   "cell_type": "markdown",
   "id": "11d50240",
   "metadata": {
    "papermill": {
     "duration": 0.029711,
     "end_time": "2022-05-17T16:37:50.102221",
     "exception": false,
     "start_time": "2022-05-17T16:37:50.072510",
     "status": "completed"
    },
    "tags": []
   },
   "source": [
    "## 6.\n",
    "There are only so many words you can use when describing a bottle of wine. Is a wine more likely to be \"tropical\" or \"fruity\"? Create a Series `descriptor_counts` counting how many times each of these two words appears in the `description` column in the dataset. (For simplicity, let's ignore the capitalized versions of these words.)"
   ]
  },
  {
   "cell_type": "code",
   "execution_count": 12,
   "id": "35914906",
   "metadata": {
    "execution": {
     "iopub.execute_input": "2022-05-17T16:37:50.163910Z",
     "iopub.status.busy": "2022-05-17T16:37:50.163626Z",
     "iopub.status.idle": "2022-05-17T16:37:50.317955Z",
     "shell.execute_reply": "2022-05-17T16:37:50.317113Z"
    },
    "papermill": {
     "duration": 0.188045,
     "end_time": "2022-05-17T16:37:50.320074",
     "exception": false,
     "start_time": "2022-05-17T16:37:50.132029",
     "status": "completed"
    },
    "tags": []
   },
   "outputs": [
    {
     "data": {
      "application/javascript": [
       "parent.postMessage({\"jupyterEvent\": \"custom.exercise_interaction\", \"data\": {\"outcomeType\": 1, \"valueTowardsCompletion\": 0.14285714285714285, \"interactionType\": 1, \"questionType\": 1, \"questionId\": \"6_DescriptorCounts\", \"learnToolsVersion\": \"0.3.4\", \"failureMessage\": \"\", \"exceptionClass\": \"\", \"trace\": \"\"}}, \"*\")"
      ],
      "text/plain": [
       "<IPython.core.display.Javascript object>"
      ]
     },
     "metadata": {},
     "output_type": "display_data"
    },
    {
     "data": {
      "text/markdown": [
       "<span style=\"color:#33cc33\">Correct</span>"
      ],
      "text/plain": [
       "Correct"
      ]
     },
     "metadata": {},
     "output_type": "display_data"
    }
   ],
   "source": [
    "n_trop=reviews.description.map(lambda desc:'tropical' in desc).sum()\n",
    "n_des=reviews.description.map(lambda desc:'fruity' in desc).sum()\n",
    "descriptor_counts=pd.Series([n_trop,n_des],index=['tropical','fruity'])\n",
    "\n",
    "\n",
    "# Check your answer\n",
    "q6.check()"
   ]
  },
  {
   "cell_type": "code",
   "execution_count": 13,
   "id": "d3f6d3f3",
   "metadata": {
    "execution": {
     "iopub.execute_input": "2022-05-17T16:37:50.385272Z",
     "iopub.status.busy": "2022-05-17T16:37:50.384985Z",
     "iopub.status.idle": "2022-05-17T16:37:50.388699Z",
     "shell.execute_reply": "2022-05-17T16:37:50.387746Z"
    },
    "papermill": {
     "duration": 0.039098,
     "end_time": "2022-05-17T16:37:50.390851",
     "exception": false,
     "start_time": "2022-05-17T16:37:50.351753",
     "status": "completed"
    },
    "tags": []
   },
   "outputs": [],
   "source": [
    "# q6.hint()\n",
    "# q6.solution()"
   ]
  },
  {
   "cell_type": "markdown",
   "id": "5a60d0c5",
   "metadata": {
    "papermill": {
     "duration": 0.030758,
     "end_time": "2022-05-17T16:37:50.452455",
     "exception": false,
     "start_time": "2022-05-17T16:37:50.421697",
     "status": "completed"
    },
    "tags": []
   },
   "source": [
    "## 7.\n",
    "We'd like to host these wine reviews on our website, but a rating system ranging from 80 to 100 points is too hard to understand - we'd like to translate them into simple star ratings. A score of 95 or higher counts as 3 stars, a score of at least 85 but less than 95 is 2 stars. Any other score is 1 star.\n",
    "\n",
    "Also, the Canadian Vintners Association bought a lot of ads on the site, so any wines from Canada should automatically get 3 stars, regardless of points.\n",
    "\n",
    "Create a series `star_ratings` with the number of stars corresponding to each review in the dataset."
   ]
  },
  {
   "cell_type": "code",
   "execution_count": 14,
   "id": "3cd30fe2",
   "metadata": {
    "execution": {
     "iopub.execute_input": "2022-05-17T16:37:50.517720Z",
     "iopub.status.busy": "2022-05-17T16:37:50.517267Z",
     "iopub.status.idle": "2022-05-17T16:37:55.540999Z",
     "shell.execute_reply": "2022-05-17T16:37:55.540049Z"
    },
    "papermill": {
     "duration": 5.059423,
     "end_time": "2022-05-17T16:37:55.543366",
     "exception": false,
     "start_time": "2022-05-17T16:37:50.483943",
     "status": "completed"
    },
    "tags": []
   },
   "outputs": [
    {
     "data": {
      "application/javascript": [
       "parent.postMessage({\"jupyterEvent\": \"custom.exercise_interaction\", \"data\": {\"outcomeType\": 1, \"valueTowardsCompletion\": 0.14285714285714285, \"interactionType\": 1, \"questionType\": 1, \"questionId\": \"7_StarRatings\", \"learnToolsVersion\": \"0.3.4\", \"failureMessage\": \"\", \"exceptionClass\": \"\", \"trace\": \"\"}}, \"*\")"
      ],
      "text/plain": [
       "<IPython.core.display.Javascript object>"
      ]
     },
     "metadata": {},
     "output_type": "display_data"
    },
    {
     "data": {
      "text/markdown": [
       "<span style=\"color:#33cc33\">Correct</span>"
      ],
      "text/plain": [
       "Correct"
      ]
     },
     "metadata": {},
     "output_type": "display_data"
    }
   ],
   "source": [
    "def stars(row):\n",
    "    if row.country=='Canada':\n",
    "        return 3\n",
    "    elif row.points>= 95:\n",
    "        return 3\n",
    "    elif row.points>=85:\n",
    "        return 2\n",
    "    else:\n",
    "        return 1\n",
    "star_ratings = reviews.apply(stars,axis='columns')\n",
    "\n",
    "# Check your answer\n",
    "q7.check()"
   ]
  },
  {
   "cell_type": "code",
   "execution_count": 15,
   "id": "8b264140",
   "metadata": {
    "execution": {
     "iopub.execute_input": "2022-05-17T16:37:55.611943Z",
     "iopub.status.busy": "2022-05-17T16:37:55.611476Z",
     "iopub.status.idle": "2022-05-17T16:37:55.614380Z",
     "shell.execute_reply": "2022-05-17T16:37:55.613797Z"
    },
    "papermill": {
     "duration": 0.038853,
     "end_time": "2022-05-17T16:37:55.616197",
     "exception": false,
     "start_time": "2022-05-17T16:37:55.577344",
     "status": "completed"
    },
    "tags": []
   },
   "outputs": [],
   "source": [
    "#q7.hint()\n",
    "# q7.solution()"
   ]
  },
  {
   "cell_type": "markdown",
   "id": "d717d3a3",
   "metadata": {
    "papermill": {
     "duration": 0.032022,
     "end_time": "2022-05-17T16:37:55.680548",
     "exception": false,
     "start_time": "2022-05-17T16:37:55.648526",
     "status": "completed"
    },
    "tags": []
   },
   "source": [
    "# Keep going\n",
    "Continue to **[grouping and sorting](https://www.kaggle.com/residentmario/grouping-and-sorting)**."
   ]
  },
  {
   "cell_type": "markdown",
   "id": "d597c891",
   "metadata": {
    "papermill": {
     "duration": 0.032876,
     "end_time": "2022-05-17T16:37:55.745905",
     "exception": false,
     "start_time": "2022-05-17T16:37:55.713029",
     "status": "completed"
    },
    "tags": []
   },
   "source": [
    "---\n",
    "\n",
    "\n",
    "\n",
    "\n",
    "*Have questions or comments? Visit the [course discussion forum](https://www.kaggle.com/learn/pandas/discussion) to chat with other learners.*"
   ]
  }
 ],
 "metadata": {
  "kernelspec": {
   "display_name": "Python 3",
   "language": "python",
   "name": "python3"
  },
  "language_info": {
   "codemirror_mode": {
    "name": "ipython",
    "version": 3
   },
   "file_extension": ".py",
   "mimetype": "text/x-python",
   "name": "python",
   "nbconvert_exporter": "python",
   "pygments_lexer": "ipython3",
   "version": "3.7.12"
  },
  "papermill": {
   "default_parameters": {},
   "duration": 109.678459,
   "end_time": "2022-05-17T16:37:56.500967",
   "environment_variables": {},
   "exception": null,
   "input_path": "__notebook__.ipynb",
   "output_path": "__notebook__.ipynb",
   "parameters": {},
   "start_time": "2022-05-17T16:36:06.822508",
   "version": "2.3.4"
  }
 },
 "nbformat": 4,
 "nbformat_minor": 5
}
