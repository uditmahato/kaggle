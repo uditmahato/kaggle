{
 "cells": [
  {
   "cell_type": "markdown",
   "id": "431e0ce2",
   "metadata": {
    "papermill": {
     "duration": 0.019449,
     "end_time": "2022-05-16T17:19:41.274180",
     "exception": false,
     "start_time": "2022-05-16T17:19:41.254731",
     "status": "completed"
    },
    "tags": []
   },
   "source": [
    "**This notebook is an exercise in the [Pandas](https://www.kaggle.com/learn/pandas) course.  You can reference the tutorial at [this link](https://www.kaggle.com/residentmario/summary-functions-and-maps).**\n",
    "\n",
    "---\n"
   ]
  },
  {
   "cell_type": "markdown",
   "id": "a274b4ae",
   "metadata": {
    "papermill": {
     "duration": 0.016917,
     "end_time": "2022-05-16T17:19:41.308456",
     "exception": false,
     "start_time": "2022-05-16T17:19:41.291539",
     "status": "completed"
    },
    "tags": []
   },
   "source": [
    "# Introduction\n",
    "\n",
    "Now you are ready to get a deeper understanding of your data.\n",
    "\n",
    "Run the following cell to load your data and some utility functions (including code to check your answers)."
   ]
  },
  {
   "cell_type": "code",
   "execution_count": 1,
   "id": "9ac4f761",
   "metadata": {
    "execution": {
     "iopub.execute_input": "2022-05-16T17:19:41.346362Z",
     "iopub.status.busy": "2022-05-16T17:19:41.345561Z",
     "iopub.status.idle": "2022-05-16T17:19:47.590678Z",
     "shell.execute_reply": "2022-05-16T17:19:47.589456Z"
    },
    "papermill": {
     "duration": 6.267616,
     "end_time": "2022-05-16T17:19:47.594506",
     "exception": false,
     "start_time": "2022-05-16T17:19:41.326890",
     "status": "completed"
    },
    "tags": []
   },
   "outputs": [
    {
     "name": "stdout",
     "output_type": "stream",
     "text": [
      "Setup complete.\n"
     ]
    },
    {
     "data": {
      "text/html": [
       "<div>\n",
       "<style scoped>\n",
       "    .dataframe tbody tr th:only-of-type {\n",
       "        vertical-align: middle;\n",
       "    }\n",
       "\n",
       "    .dataframe tbody tr th {\n",
       "        vertical-align: top;\n",
       "    }\n",
       "\n",
       "    .dataframe thead th {\n",
       "        text-align: right;\n",
       "    }\n",
       "</style>\n",
       "<table border=\"1\" class=\"dataframe\">\n",
       "  <thead>\n",
       "    <tr style=\"text-align: right;\">\n",
       "      <th></th>\n",
       "      <th>country</th>\n",
       "      <th>description</th>\n",
       "      <th>designation</th>\n",
       "      <th>points</th>\n",
       "      <th>price</th>\n",
       "      <th>province</th>\n",
       "      <th>region_1</th>\n",
       "      <th>region_2</th>\n",
       "      <th>taster_name</th>\n",
       "      <th>taster_twitter_handle</th>\n",
       "      <th>title</th>\n",
       "      <th>variety</th>\n",
       "      <th>winery</th>\n",
       "    </tr>\n",
       "  </thead>\n",
       "  <tbody>\n",
       "    <tr>\n",
       "      <th>0</th>\n",
       "      <td>Italy</td>\n",
       "      <td>Aromas include tropical fruit, broom, brimston...</td>\n",
       "      <td>Vulkà Bianco</td>\n",
       "      <td>87</td>\n",
       "      <td>NaN</td>\n",
       "      <td>Sicily &amp; Sardinia</td>\n",
       "      <td>Etna</td>\n",
       "      <td>NaN</td>\n",
       "      <td>Kerin O’Keefe</td>\n",
       "      <td>@kerinokeefe</td>\n",
       "      <td>Nicosia 2013 Vulkà Bianco  (Etna)</td>\n",
       "      <td>White Blend</td>\n",
       "      <td>Nicosia</td>\n",
       "    </tr>\n",
       "    <tr>\n",
       "      <th>1</th>\n",
       "      <td>Portugal</td>\n",
       "      <td>This is ripe and fruity, a wine that is smooth...</td>\n",
       "      <td>Avidagos</td>\n",
       "      <td>87</td>\n",
       "      <td>15.0</td>\n",
       "      <td>Douro</td>\n",
       "      <td>NaN</td>\n",
       "      <td>NaN</td>\n",
       "      <td>Roger Voss</td>\n",
       "      <td>@vossroger</td>\n",
       "      <td>Quinta dos Avidagos 2011 Avidagos Red (Douro)</td>\n",
       "      <td>Portuguese Red</td>\n",
       "      <td>Quinta dos Avidagos</td>\n",
       "    </tr>\n",
       "    <tr>\n",
       "      <th>2</th>\n",
       "      <td>US</td>\n",
       "      <td>Tart and snappy, the flavors of lime flesh and...</td>\n",
       "      <td>NaN</td>\n",
       "      <td>87</td>\n",
       "      <td>14.0</td>\n",
       "      <td>Oregon</td>\n",
       "      <td>Willamette Valley</td>\n",
       "      <td>Willamette Valley</td>\n",
       "      <td>Paul Gregutt</td>\n",
       "      <td>@paulgwine</td>\n",
       "      <td>Rainstorm 2013 Pinot Gris (Willamette Valley)</td>\n",
       "      <td>Pinot Gris</td>\n",
       "      <td>Rainstorm</td>\n",
       "    </tr>\n",
       "    <tr>\n",
       "      <th>3</th>\n",
       "      <td>US</td>\n",
       "      <td>Pineapple rind, lemon pith and orange blossom ...</td>\n",
       "      <td>Reserve Late Harvest</td>\n",
       "      <td>87</td>\n",
       "      <td>13.0</td>\n",
       "      <td>Michigan</td>\n",
       "      <td>Lake Michigan Shore</td>\n",
       "      <td>NaN</td>\n",
       "      <td>Alexander Peartree</td>\n",
       "      <td>NaN</td>\n",
       "      <td>St. Julian 2013 Reserve Late Harvest Riesling ...</td>\n",
       "      <td>Riesling</td>\n",
       "      <td>St. Julian</td>\n",
       "    </tr>\n",
       "    <tr>\n",
       "      <th>4</th>\n",
       "      <td>US</td>\n",
       "      <td>Much like the regular bottling from 2012, this...</td>\n",
       "      <td>Vintner's Reserve Wild Child Block</td>\n",
       "      <td>87</td>\n",
       "      <td>65.0</td>\n",
       "      <td>Oregon</td>\n",
       "      <td>Willamette Valley</td>\n",
       "      <td>Willamette Valley</td>\n",
       "      <td>Paul Gregutt</td>\n",
       "      <td>@paulgwine</td>\n",
       "      <td>Sweet Cheeks 2012 Vintner's Reserve Wild Child...</td>\n",
       "      <td>Pinot Noir</td>\n",
       "      <td>Sweet Cheeks</td>\n",
       "    </tr>\n",
       "  </tbody>\n",
       "</table>\n",
       "</div>"
      ],
      "text/plain": [
       "    country                                        description  \\\n",
       "0     Italy  Aromas include tropical fruit, broom, brimston...   \n",
       "1  Portugal  This is ripe and fruity, a wine that is smooth...   \n",
       "2        US  Tart and snappy, the flavors of lime flesh and...   \n",
       "3        US  Pineapple rind, lemon pith and orange blossom ...   \n",
       "4        US  Much like the regular bottling from 2012, this...   \n",
       "\n",
       "                          designation  points  price           province  \\\n",
       "0                        Vulkà Bianco      87    NaN  Sicily & Sardinia   \n",
       "1                            Avidagos      87   15.0              Douro   \n",
       "2                                 NaN      87   14.0             Oregon   \n",
       "3                Reserve Late Harvest      87   13.0           Michigan   \n",
       "4  Vintner's Reserve Wild Child Block      87   65.0             Oregon   \n",
       "\n",
       "              region_1           region_2         taster_name  \\\n",
       "0                 Etna                NaN       Kerin O’Keefe   \n",
       "1                  NaN                NaN          Roger Voss   \n",
       "2    Willamette Valley  Willamette Valley        Paul Gregutt   \n",
       "3  Lake Michigan Shore                NaN  Alexander Peartree   \n",
       "4    Willamette Valley  Willamette Valley        Paul Gregutt   \n",
       "\n",
       "  taster_twitter_handle                                              title  \\\n",
       "0          @kerinokeefe                  Nicosia 2013 Vulkà Bianco  (Etna)   \n",
       "1            @vossroger      Quinta dos Avidagos 2011 Avidagos Red (Douro)   \n",
       "2           @paulgwine       Rainstorm 2013 Pinot Gris (Willamette Valley)   \n",
       "3                   NaN  St. Julian 2013 Reserve Late Harvest Riesling ...   \n",
       "4           @paulgwine   Sweet Cheeks 2012 Vintner's Reserve Wild Child...   \n",
       "\n",
       "          variety               winery  \n",
       "0     White Blend              Nicosia  \n",
       "1  Portuguese Red  Quinta dos Avidagos  \n",
       "2      Pinot Gris            Rainstorm  \n",
       "3        Riesling           St. Julian  \n",
       "4      Pinot Noir         Sweet Cheeks  "
      ]
     },
     "execution_count": 1,
     "metadata": {},
     "output_type": "execute_result"
    }
   ],
   "source": [
    "import pandas as pd\n",
    "pd.set_option(\"display.max_rows\", 5)\n",
    "reviews = pd.read_csv(\"../input/wine-reviews/winemag-data-130k-v2.csv\", index_col=0)\n",
    "\n",
    "from learntools.core import binder; binder.bind(globals())\n",
    "from learntools.pandas.summary_functions_and_maps import *\n",
    "print(\"Setup complete.\")\n",
    "\n",
    "reviews.head()"
   ]
  },
  {
   "cell_type": "markdown",
   "id": "155a1bfc",
   "metadata": {
    "papermill": {
     "duration": 0.017882,
     "end_time": "2022-05-16T17:19:47.632503",
     "exception": false,
     "start_time": "2022-05-16T17:19:47.614621",
     "status": "completed"
    },
    "tags": []
   },
   "source": [
    "# Exercises"
   ]
  },
  {
   "cell_type": "markdown",
   "id": "8700488c",
   "metadata": {
    "papermill": {
     "duration": 0.017522,
     "end_time": "2022-05-16T17:19:47.667831",
     "exception": false,
     "start_time": "2022-05-16T17:19:47.650309",
     "status": "completed"
    },
    "tags": []
   },
   "source": [
    "## 1.\n",
    "\n",
    "What is the median of the `points` column in the `reviews` DataFrame?"
   ]
  },
  {
   "cell_type": "code",
   "execution_count": 2,
   "id": "b05f8427",
   "metadata": {
    "execution": {
     "iopub.execute_input": "2022-05-16T17:19:47.705700Z",
     "iopub.status.busy": "2022-05-16T17:19:47.705434Z",
     "iopub.status.idle": "2022-05-16T17:19:47.714092Z",
     "shell.execute_reply": "2022-05-16T17:19:47.713443Z"
    },
    "papermill": {
     "duration": 0.030221,
     "end_time": "2022-05-16T17:19:47.715861",
     "exception": false,
     "start_time": "2022-05-16T17:19:47.685640",
     "status": "completed"
    },
    "tags": []
   },
   "outputs": [
    {
     "data": {
      "application/javascript": [
       "parent.postMessage({\"jupyterEvent\": \"custom.exercise_interaction\", \"data\": {\"outcomeType\": 1, \"valueTowardsCompletion\": 0.14285714285714285, \"interactionType\": 1, \"questionType\": 1, \"questionId\": \"1_MedianPoints\", \"learnToolsVersion\": \"0.3.4\", \"failureMessage\": \"\", \"exceptionClass\": \"\", \"trace\": \"\"}}, \"*\")"
      ],
      "text/plain": [
       "<IPython.core.display.Javascript object>"
      ]
     },
     "metadata": {},
     "output_type": "display_data"
    },
    {
     "data": {
      "text/markdown": [
       "<span style=\"color:#33cc33\">Correct</span>"
      ],
      "text/plain": [
       "Correct"
      ]
     },
     "metadata": {},
     "output_type": "display_data"
    }
   ],
   "source": [
    "median_points = reviews.points.median()\n",
    "\n",
    "# Check your answer\n",
    "q1.check()"
   ]
  },
  {
   "cell_type": "code",
   "execution_count": 3,
   "id": "b739ebe4",
   "metadata": {
    "execution": {
     "iopub.execute_input": "2022-05-16T17:19:47.755312Z",
     "iopub.status.busy": "2022-05-16T17:19:47.755008Z",
     "iopub.status.idle": "2022-05-16T17:19:47.757814Z",
     "shell.execute_reply": "2022-05-16T17:19:47.757161Z"
    },
    "papermill": {
     "duration": 0.024853,
     "end_time": "2022-05-16T17:19:47.759660",
     "exception": false,
     "start_time": "2022-05-16T17:19:47.734807",
     "status": "completed"
    },
    "tags": []
   },
   "outputs": [],
   "source": [
    "#q1.hint()\n",
    "#q1.solution()"
   ]
  },
  {
   "cell_type": "markdown",
   "id": "c35fa887",
   "metadata": {
    "papermill": {
     "duration": 0.019268,
     "end_time": "2022-05-16T17:19:47.801179",
     "exception": false,
     "start_time": "2022-05-16T17:19:47.781911",
     "status": "completed"
    },
    "tags": []
   },
   "source": [
    "## 2. \n",
    "What countries are represented in the dataset? (Your answer should not include any duplicates.)"
   ]
  },
  {
   "cell_type": "code",
   "execution_count": 4,
   "id": "f007723a",
   "metadata": {
    "execution": {
     "iopub.execute_input": "2022-05-16T17:19:47.841138Z",
     "iopub.status.busy": "2022-05-16T17:19:47.840787Z",
     "iopub.status.idle": "2022-05-16T17:19:47.854348Z",
     "shell.execute_reply": "2022-05-16T17:19:47.853712Z"
    },
    "papermill": {
     "duration": 0.035717,
     "end_time": "2022-05-16T17:19:47.856032",
     "exception": false,
     "start_time": "2022-05-16T17:19:47.820315",
     "status": "completed"
    },
    "tags": []
   },
   "outputs": [
    {
     "data": {
      "application/javascript": [
       "parent.postMessage({\"jupyterEvent\": \"custom.exercise_interaction\", \"data\": {\"outcomeType\": 1, \"valueTowardsCompletion\": 0.14285714285714285, \"interactionType\": 1, \"questionType\": 2, \"questionId\": \"2_UniqueCountries\", \"learnToolsVersion\": \"0.3.4\", \"failureMessage\": \"\", \"exceptionClass\": \"\", \"trace\": \"\"}}, \"*\")"
      ],
      "text/plain": [
       "<IPython.core.display.Javascript object>"
      ]
     },
     "metadata": {},
     "output_type": "display_data"
    },
    {
     "data": {
      "text/markdown": [
       "<span style=\"color:#33cc33\">Correct</span>"
      ],
      "text/plain": [
       "Correct"
      ]
     },
     "metadata": {},
     "output_type": "display_data"
    }
   ],
   "source": [
    "countries = reviews.country.unique()\n",
    "\n",
    "# Check your answer\n",
    "q2.check()"
   ]
  },
  {
   "cell_type": "code",
   "execution_count": 5,
   "id": "e91e97bc",
   "metadata": {
    "execution": {
     "iopub.execute_input": "2022-05-16T17:19:47.897499Z",
     "iopub.status.busy": "2022-05-16T17:19:47.897012Z",
     "iopub.status.idle": "2022-05-16T17:19:47.899874Z",
     "shell.execute_reply": "2022-05-16T17:19:47.899302Z"
    },
    "papermill": {
     "duration": 0.025794,
     "end_time": "2022-05-16T17:19:47.901767",
     "exception": false,
     "start_time": "2022-05-16T17:19:47.875973",
     "status": "completed"
    },
    "tags": []
   },
   "outputs": [],
   "source": [
    "#q2.hint()\n",
    "#q2.solution()"
   ]
  },
  {
   "cell_type": "markdown",
   "id": "6dc5ec40",
   "metadata": {
    "papermill": {
     "duration": 0.019971,
     "end_time": "2022-05-16T17:19:47.941668",
     "exception": false,
     "start_time": "2022-05-16T17:19:47.921697",
     "status": "completed"
    },
    "tags": []
   },
   "source": [
    "## 3.\n",
    "How often does each country appear in the dataset? Create a Series `reviews_per_country` mapping countries to the count of reviews of wines from that country."
   ]
  },
  {
   "cell_type": "code",
   "execution_count": 6,
   "id": "b6266e03",
   "metadata": {
    "execution": {
     "iopub.execute_input": "2022-05-16T17:19:47.983276Z",
     "iopub.status.busy": "2022-05-16T17:19:47.982964Z",
     "iopub.status.idle": "2022-05-16T17:19:47.998566Z",
     "shell.execute_reply": "2022-05-16T17:19:47.997743Z"
    },
    "papermill": {
     "duration": 0.039009,
     "end_time": "2022-05-16T17:19:48.000507",
     "exception": false,
     "start_time": "2022-05-16T17:19:47.961498",
     "status": "completed"
    },
    "tags": []
   },
   "outputs": [
    {
     "data": {
      "application/javascript": [
       "parent.postMessage({\"jupyterEvent\": \"custom.exercise_interaction\", \"data\": {\"outcomeType\": 1, \"valueTowardsCompletion\": 0.14285714285714285, \"interactionType\": 1, \"questionType\": 1, \"questionId\": \"3_ReviewsPerCountry\", \"learnToolsVersion\": \"0.3.4\", \"failureMessage\": \"\", \"exceptionClass\": \"\", \"trace\": \"\"}}, \"*\")"
      ],
      "text/plain": [
       "<IPython.core.display.Javascript object>"
      ]
     },
     "metadata": {},
     "output_type": "display_data"
    },
    {
     "data": {
      "text/markdown": [
       "<span style=\"color:#33cc33\">Correct</span>"
      ],
      "text/plain": [
       "Correct"
      ]
     },
     "metadata": {},
     "output_type": "display_data"
    }
   ],
   "source": [
    "reviews_per_country = reviews.country.value_counts()\n",
    "\n",
    "# Check your answer\n",
    "q3.check()"
   ]
  },
  {
   "cell_type": "code",
   "execution_count": 7,
   "id": "0990daad",
   "metadata": {
    "execution": {
     "iopub.execute_input": "2022-05-16T17:19:48.045160Z",
     "iopub.status.busy": "2022-05-16T17:19:48.044602Z",
     "iopub.status.idle": "2022-05-16T17:19:48.048106Z",
     "shell.execute_reply": "2022-05-16T17:19:48.047339Z"
    },
    "papermill": {
     "duration": 0.027552,
     "end_time": "2022-05-16T17:19:48.050031",
     "exception": false,
     "start_time": "2022-05-16T17:19:48.022479",
     "status": "completed"
    },
    "tags": []
   },
   "outputs": [],
   "source": [
    "# #q3.hint()\n",
    "# q3.solution()"
   ]
  },
  {
   "cell_type": "markdown",
   "id": "1cb74d43",
   "metadata": {
    "papermill": {
     "duration": 0.021668,
     "end_time": "2022-05-16T17:19:48.092952",
     "exception": false,
     "start_time": "2022-05-16T17:19:48.071284",
     "status": "completed"
    },
    "tags": []
   },
   "source": [
    "## 4.\n",
    "Create variable `centered_price` containing a version of the `price` column with the mean price subtracted.\n",
    "\n",
    "(Note: this 'centering' transformation is a common preprocessing step before applying various machine learning algorithms.) "
   ]
  },
  {
   "cell_type": "code",
   "execution_count": 8,
   "id": "4b61217f",
   "metadata": {
    "execution": {
     "iopub.execute_input": "2022-05-16T17:19:48.136627Z",
     "iopub.status.busy": "2022-05-16T17:19:48.136338Z",
     "iopub.status.idle": "2022-05-16T17:21:10.657674Z",
     "shell.execute_reply": "2022-05-16T17:21:10.656802Z"
    },
    "papermill": {
     "duration": 82.56903,
     "end_time": "2022-05-16T17:21:10.682859",
     "exception": false,
     "start_time": "2022-05-16T17:19:48.113829",
     "status": "completed"
    },
    "tags": []
   },
   "outputs": [
    {
     "data": {
      "application/javascript": [
       "parent.postMessage({\"jupyterEvent\": \"custom.exercise_interaction\", \"data\": {\"outcomeType\": 1, \"valueTowardsCompletion\": 0.14285714285714285, \"interactionType\": 1, \"questionType\": 1, \"questionId\": \"4_CenteredPrice\", \"learnToolsVersion\": \"0.3.4\", \"failureMessage\": \"\", \"exceptionClass\": \"\", \"trace\": \"\"}}, \"*\")"
      ],
      "text/plain": [
       "<IPython.core.display.Javascript object>"
      ]
     },
     "metadata": {},
     "output_type": "display_data"
    },
    {
     "data": {
      "text/markdown": [
       "<span style=\"color:#33cc33\">Correct</span>"
      ],
      "text/plain": [
       "Correct"
      ]
     },
     "metadata": {},
     "output_type": "display_data"
    }
   ],
   "source": [
    "centered_price = reviews.price.map(lambda p : p - reviews.price.mean())\n",
    "\n",
    "# Check your answer\n",
    "q4.check()"
   ]
  },
  {
   "cell_type": "code",
   "execution_count": 9,
   "id": "3b7ae64f",
   "metadata": {
    "execution": {
     "iopub.execute_input": "2022-05-16T17:21:10.728302Z",
     "iopub.status.busy": "2022-05-16T17:21:10.727742Z",
     "iopub.status.idle": "2022-05-16T17:21:10.730699Z",
     "shell.execute_reply": "2022-05-16T17:21:10.730124Z"
    },
    "papermill": {
     "duration": 0.027981,
     "end_time": "2022-05-16T17:21:10.732560",
     "exception": false,
     "start_time": "2022-05-16T17:21:10.704579",
     "status": "completed"
    },
    "tags": []
   },
   "outputs": [],
   "source": [
    "#q4.hint()\n",
    "#q4.solution()"
   ]
  },
  {
   "cell_type": "markdown",
   "id": "e1f9cb0d",
   "metadata": {
    "papermill": {
     "duration": 0.021628,
     "end_time": "2022-05-16T17:21:10.775667",
     "exception": false,
     "start_time": "2022-05-16T17:21:10.754039",
     "status": "completed"
    },
    "tags": []
   },
   "source": [
    "## 5.\n",
    "I'm an economical wine buyer. Which wine is the \"best bargain\"? Create a variable `bargain_wine` with the title of the wine with the highest points-to-price ratio in the dataset."
   ]
  },
  {
   "cell_type": "code",
   "execution_count": 10,
   "id": "f797ad8b",
   "metadata": {
    "execution": {
     "iopub.execute_input": "2022-05-16T17:21:10.821558Z",
     "iopub.status.busy": "2022-05-16T17:21:10.820689Z",
     "iopub.status.idle": "2022-05-16T17:21:10.828400Z",
     "shell.execute_reply": "2022-05-16T17:21:10.827539Z"
    },
    "papermill": {
     "duration": 0.032895,
     "end_time": "2022-05-16T17:21:10.830420",
     "exception": false,
     "start_time": "2022-05-16T17:21:10.797525",
     "status": "completed"
    },
    "tags": []
   },
   "outputs": [
    {
     "data": {
      "application/javascript": [
       "parent.postMessage({\"jupyterEvent\": \"custom.exercise_interaction\", \"data\": {\"outcomeType\": 4, \"interactionType\": 1, \"questionType\": 2, \"questionId\": \"5_BargainWine\", \"learnToolsVersion\": \"0.3.4\", \"valueTowardsCompletion\": 0.0, \"failureMessage\": \"\", \"exceptionClass\": \"\", \"trace\": \"\"}}, \"*\")"
      ],
      "text/plain": [
       "<IPython.core.display.Javascript object>"
      ]
     },
     "metadata": {},
     "output_type": "display_data"
    },
    {
     "data": {
      "text/markdown": [
       "<span style=\"color:#ccaa33\">Check:</span> When you've updated the starter code, `check()` will tell you whether your code is correct. You need to update the code that creates variable `bargain_wine`"
      ],
      "text/plain": [
       "Check: When you've updated the starter code, `check()` will tell you whether your code is correct. You need to update the code that creates variable `bargain_wine`"
      ]
     },
     "metadata": {},
     "output_type": "display_data"
    }
   ],
   "source": [
    "bargain_wine = ____\n",
    "\n",
    "# Check your answer\n",
    "q5.check()"
   ]
  },
  {
   "cell_type": "code",
   "execution_count": 11,
   "id": "5a4877e0",
   "metadata": {
    "execution": {
     "iopub.execute_input": "2022-05-16T17:21:10.881047Z",
     "iopub.status.busy": "2022-05-16T17:21:10.880463Z",
     "iopub.status.idle": "2022-05-16T17:21:10.884290Z",
     "shell.execute_reply": "2022-05-16T17:21:10.883502Z"
    },
    "papermill": {
     "duration": 0.031863,
     "end_time": "2022-05-16T17:21:10.886360",
     "exception": false,
     "start_time": "2022-05-16T17:21:10.854497",
     "status": "completed"
    },
    "tags": []
   },
   "outputs": [],
   "source": [
    "#q5.hint()\n",
    "#q5.solution()"
   ]
  },
  {
   "cell_type": "markdown",
   "id": "6ec7c46d",
   "metadata": {
    "papermill": {
     "duration": 0.022147,
     "end_time": "2022-05-16T17:21:10.930983",
     "exception": false,
     "start_time": "2022-05-16T17:21:10.908836",
     "status": "completed"
    },
    "tags": []
   },
   "source": [
    "## 6.\n",
    "There are only so many words you can use when describing a bottle of wine. Is a wine more likely to be \"tropical\" or \"fruity\"? Create a Series `descriptor_counts` counting how many times each of these two words appears in the `description` column in the dataset. (For simplicity, let's ignore the capitalized versions of these words.)"
   ]
  },
  {
   "cell_type": "code",
   "execution_count": 12,
   "id": "f45240fe",
   "metadata": {
    "execution": {
     "iopub.execute_input": "2022-05-16T17:21:10.977497Z",
     "iopub.status.busy": "2022-05-16T17:21:10.976914Z",
     "iopub.status.idle": "2022-05-16T17:21:10.984477Z",
     "shell.execute_reply": "2022-05-16T17:21:10.983846Z"
    },
    "papermill": {
     "duration": 0.032929,
     "end_time": "2022-05-16T17:21:10.986258",
     "exception": false,
     "start_time": "2022-05-16T17:21:10.953329",
     "status": "completed"
    },
    "tags": []
   },
   "outputs": [
    {
     "data": {
      "application/javascript": [
       "parent.postMessage({\"jupyterEvent\": \"custom.exercise_interaction\", \"data\": {\"outcomeType\": 4, \"interactionType\": 1, \"questionType\": 1, \"questionId\": \"6_DescriptorCounts\", \"learnToolsVersion\": \"0.3.4\", \"valueTowardsCompletion\": 0.0, \"failureMessage\": \"\", \"exceptionClass\": \"\", \"trace\": \"\"}}, \"*\")"
      ],
      "text/plain": [
       "<IPython.core.display.Javascript object>"
      ]
     },
     "metadata": {},
     "output_type": "display_data"
    },
    {
     "data": {
      "text/markdown": [
       "<span style=\"color:#ccaa33\">Check:</span> When you've updated the starter code, `check()` will tell you whether your code is correct. You need to update the code that creates variable `descriptor_counts`"
      ],
      "text/plain": [
       "Check: When you've updated the starter code, `check()` will tell you whether your code is correct. You need to update the code that creates variable `descriptor_counts`"
      ]
     },
     "metadata": {},
     "output_type": "display_data"
    }
   ],
   "source": [
    "descriptor_counts = ____\n",
    "\n",
    "# Check your answer\n",
    "q6.check()"
   ]
  },
  {
   "cell_type": "code",
   "execution_count": 13,
   "id": "64a3defd",
   "metadata": {
    "execution": {
     "iopub.execute_input": "2022-05-16T17:21:11.035868Z",
     "iopub.status.busy": "2022-05-16T17:21:11.035307Z",
     "iopub.status.idle": "2022-05-16T17:21:11.038700Z",
     "shell.execute_reply": "2022-05-16T17:21:11.038150Z"
    },
    "papermill": {
     "duration": 0.031047,
     "end_time": "2022-05-16T17:21:11.040545",
     "exception": false,
     "start_time": "2022-05-16T17:21:11.009498",
     "status": "completed"
    },
    "tags": []
   },
   "outputs": [],
   "source": [
    "#q6.hint()\n",
    "#q6.solution()"
   ]
  },
  {
   "cell_type": "markdown",
   "id": "7a139d3a",
   "metadata": {
    "papermill": {
     "duration": 0.025904,
     "end_time": "2022-05-16T17:21:11.089640",
     "exception": false,
     "start_time": "2022-05-16T17:21:11.063736",
     "status": "completed"
    },
    "tags": []
   },
   "source": [
    "## 7.\n",
    "We'd like to host these wine reviews on our website, but a rating system ranging from 80 to 100 points is too hard to understand - we'd like to translate them into simple star ratings. A score of 95 or higher counts as 3 stars, a score of at least 85 but less than 95 is 2 stars. Any other score is 1 star.\n",
    "\n",
    "Also, the Canadian Vintners Association bought a lot of ads on the site, so any wines from Canada should automatically get 3 stars, regardless of points.\n",
    "\n",
    "Create a series `star_ratings` with the number of stars corresponding to each review in the dataset."
   ]
  },
  {
   "cell_type": "code",
   "execution_count": 14,
   "id": "61a46c2a",
   "metadata": {
    "execution": {
     "iopub.execute_input": "2022-05-16T17:21:11.140942Z",
     "iopub.status.busy": "2022-05-16T17:21:11.140398Z",
     "iopub.status.idle": "2022-05-16T17:21:11.148255Z",
     "shell.execute_reply": "2022-05-16T17:21:11.147606Z"
    },
    "papermill": {
     "duration": 0.036163,
     "end_time": "2022-05-16T17:21:11.150176",
     "exception": false,
     "start_time": "2022-05-16T17:21:11.114013",
     "status": "completed"
    },
    "tags": []
   },
   "outputs": [
    {
     "data": {
      "application/javascript": [
       "parent.postMessage({\"jupyterEvent\": \"custom.exercise_interaction\", \"data\": {\"outcomeType\": 4, \"interactionType\": 1, \"questionType\": 1, \"questionId\": \"7_StarRatings\", \"learnToolsVersion\": \"0.3.4\", \"valueTowardsCompletion\": 0.0, \"failureMessage\": \"\", \"exceptionClass\": \"\", \"trace\": \"\"}}, \"*\")"
      ],
      "text/plain": [
       "<IPython.core.display.Javascript object>"
      ]
     },
     "metadata": {},
     "output_type": "display_data"
    },
    {
     "data": {
      "text/markdown": [
       "<span style=\"color:#ccaa33\">Check:</span> When you've updated the starter code, `check()` will tell you whether your code is correct. You need to update the code that creates variable `star_ratings`"
      ],
      "text/plain": [
       "Check: When you've updated the starter code, `check()` will tell you whether your code is correct. You need to update the code that creates variable `star_ratings`"
      ]
     },
     "metadata": {},
     "output_type": "display_data"
    }
   ],
   "source": [
    "star_ratings = ____\n",
    "\n",
    "# Check your answer\n",
    "q7.check()"
   ]
  },
  {
   "cell_type": "code",
   "execution_count": 15,
   "id": "95204d3c",
   "metadata": {
    "execution": {
     "iopub.execute_input": "2022-05-16T17:21:11.201684Z",
     "iopub.status.busy": "2022-05-16T17:21:11.201047Z",
     "iopub.status.idle": "2022-05-16T17:21:11.205158Z",
     "shell.execute_reply": "2022-05-16T17:21:11.204288Z"
    },
    "papermill": {
     "duration": 0.031674,
     "end_time": "2022-05-16T17:21:11.207224",
     "exception": false,
     "start_time": "2022-05-16T17:21:11.175550",
     "status": "completed"
    },
    "tags": []
   },
   "outputs": [],
   "source": [
    "#q7.hint()\n",
    "#q7.solution()"
   ]
  },
  {
   "cell_type": "markdown",
   "id": "0ab5c6f0",
   "metadata": {
    "papermill": {
     "duration": 0.024111,
     "end_time": "2022-05-16T17:21:11.256292",
     "exception": false,
     "start_time": "2022-05-16T17:21:11.232181",
     "status": "completed"
    },
    "tags": []
   },
   "source": [
    "# Keep going\n",
    "Continue to **[grouping and sorting](https://www.kaggle.com/residentmario/grouping-and-sorting)**."
   ]
  },
  {
   "cell_type": "markdown",
   "id": "cb807976",
   "metadata": {
    "papermill": {
     "duration": 0.024324,
     "end_time": "2022-05-16T17:21:11.304886",
     "exception": false,
     "start_time": "2022-05-16T17:21:11.280562",
     "status": "completed"
    },
    "tags": []
   },
   "source": [
    "---\n",
    "\n",
    "\n",
    "\n",
    "\n",
    "*Have questions or comments? Visit the [course discussion forum](https://www.kaggle.com/learn/pandas/discussion) to chat with other learners.*"
   ]
  }
 ],
 "metadata": {
  "kernelspec": {
   "display_name": "Python 3",
   "language": "python",
   "name": "python3"
  },
  "language_info": {
   "codemirror_mode": {
    "name": "ipython",
    "version": 3
   },
   "file_extension": ".py",
   "mimetype": "text/x-python",
   "name": "python",
   "nbconvert_exporter": "python",
   "pygments_lexer": "ipython3",
   "version": "3.7.12"
  },
  "papermill": {
   "default_parameters": {},
   "duration": 99.787223,
   "end_time": "2022-05-16T17:21:12.050936",
   "environment_variables": {},
   "exception": null,
   "input_path": "__notebook__.ipynb",
   "output_path": "__notebook__.ipynb",
   "parameters": {},
   "start_time": "2022-05-16T17:19:32.263713",
   "version": "2.3.4"
  }
 },
 "nbformat": 4,
 "nbformat_minor": 5
}
