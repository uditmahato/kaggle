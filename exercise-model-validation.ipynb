{
 "cells": [
  {
   "cell_type": "markdown",
   "id": "7adf39f4",
   "metadata": {
    "papermill": {
     "duration": 0.013448,
     "end_time": "2022-05-24T18:00:27.944927",
     "exception": false,
     "start_time": "2022-05-24T18:00:27.931479",
     "status": "completed"
    },
    "tags": []
   },
   "source": [
    "**This notebook is an exercise in the [Introduction to Machine Learning](https://www.kaggle.com/learn/intro-to-machine-learning) course.  You can reference the tutorial at [this link](https://www.kaggle.com/dansbecker/model-validation).**\n",
    "\n",
    "---\n"
   ]
  },
  {
   "cell_type": "markdown",
   "id": "e0508f1d",
   "metadata": {
    "papermill": {
     "duration": 0.011487,
     "end_time": "2022-05-24T18:00:27.967745",
     "exception": false,
     "start_time": "2022-05-24T18:00:27.956258",
     "status": "completed"
    },
    "tags": []
   },
   "source": [
    "## Recap\n",
    "You've built a model. In this exercise you will test how good your model is.\n",
    "\n",
    "Run the cell below to set up your coding environment where the previous exercise left off."
   ]
  },
  {
   "cell_type": "code",
   "execution_count": 1,
   "id": "883718be",
   "metadata": {
    "execution": {
     "iopub.execute_input": "2022-05-24T18:00:27.992607Z",
     "iopub.status.busy": "2022-05-24T18:00:27.991589Z",
     "iopub.status.idle": "2022-05-24T18:00:29.483812Z",
     "shell.execute_reply": "2022-05-24T18:00:29.482884Z"
    },
    "papermill": {
     "duration": 1.506824,
     "end_time": "2022-05-24T18:00:29.486035",
     "exception": false,
     "start_time": "2022-05-24T18:00:27.979211",
     "status": "completed"
    },
    "tags": []
   },
   "outputs": [
    {
     "name": "stdout",
     "output_type": "stream",
     "text": [
      "First in-sample predictions: [208500. 181500. 223500. 140000. 250000.]\n",
      "Actual target values for those homes: [208500, 181500, 223500, 140000, 250000]\n",
      "Setup Complete\n"
     ]
    }
   ],
   "source": [
    "# Code you have previously used to load data\n",
    "import pandas as pd\n",
    "from sklearn.tree import DecisionTreeRegressor\n",
    "\n",
    "# Path of the file to read\n",
    "iowa_file_path = '../input/home-data-for-ml-course/train.csv'\n",
    "\n",
    "home_data = pd.read_csv(iowa_file_path)\n",
    "y = home_data.SalePrice\n",
    "feature_columns = ['LotArea', 'YearBuilt', '1stFlrSF', '2ndFlrSF', 'FullBath', 'BedroomAbvGr', 'TotRmsAbvGrd']\n",
    "X = home_data[feature_columns]\n",
    "\n",
    "# Specify Model\n",
    "iowa_model = DecisionTreeRegressor()\n",
    "# Fit Model\n",
    "iowa_model.fit(X, y)\n",
    "\n",
    "print(\"First in-sample predictions:\", iowa_model.predict(X.head()))\n",
    "print(\"Actual target values for those homes:\", y.head().tolist())\n",
    "\n",
    "# Set up code checking\n",
    "from learntools.core import binder\n",
    "binder.bind(globals())\n",
    "from learntools.machine_learning.ex4 import *\n",
    "print(\"Setup Complete\")"
   ]
  },
  {
   "cell_type": "markdown",
   "id": "d630ccc5",
   "metadata": {
    "papermill": {
     "duration": 0.01126,
     "end_time": "2022-05-24T18:00:29.509494",
     "exception": false,
     "start_time": "2022-05-24T18:00:29.498234",
     "status": "completed"
    },
    "tags": []
   },
   "source": [
    "# Exercises\n",
    "\n",
    "## Step 1: Split Your Data\n",
    "Use the `train_test_split` function to split up your data.\n",
    "\n",
    "Give it the argument `random_state=1` so the `check` functions know what to expect when verifying your code.\n",
    "\n",
    "Recall, your features are loaded in the DataFrame **X** and your target is loaded in **y**.\n"
   ]
  },
  {
   "cell_type": "code",
   "execution_count": 2,
   "id": "a8dfed4e",
   "metadata": {
    "execution": {
     "iopub.execute_input": "2022-05-24T18:00:29.534386Z",
     "iopub.status.busy": "2022-05-24T18:00:29.533686Z",
     "iopub.status.idle": "2022-05-24T18:00:29.542211Z",
     "shell.execute_reply": "2022-05-24T18:00:29.541552Z"
    },
    "papermill": {
     "duration": 0.022962,
     "end_time": "2022-05-24T18:00:29.543897",
     "exception": false,
     "start_time": "2022-05-24T18:00:29.520935",
     "status": "completed"
    },
    "tags": []
   },
   "outputs": [
    {
     "data": {
      "application/javascript": [
       "parent.postMessage({\"jupyterEvent\": \"custom.exercise_interaction\", \"data\": {\"outcomeType\": 2, \"failureMessage\": \"You still need to define the following variables: `train_y`, `val_y`, `train_X`, `val_X`\", \"interactionType\": 1, \"questionType\": 2, \"questionId\": \"1_SplitData\", \"learnToolsVersion\": \"0.3.4\", \"valueTowardsCompletion\": 0.0, \"exceptionClass\": \"\", \"trace\": \"\"}}, \"*\")"
      ],
      "text/plain": [
       "<IPython.core.display.Javascript object>"
      ]
     },
     "metadata": {},
     "output_type": "display_data"
    },
    {
     "data": {
      "text/markdown": [
       "<span style=\"color:#cc3333\">Incorrect:</span> You still need to define the following variables: `train_y`, `val_y`, `train_X`, `val_X`"
      ],
      "text/plain": [
       "Incorrect: You still need to define the following variables: `train_y`, `val_y`, `train_X`, `val_X`"
      ]
     },
     "metadata": {},
     "output_type": "display_data"
    }
   ],
   "source": [
    "# Import the train_test_split function and uncomment\n",
    "# from _ import _\n",
    "\n",
    "# fill in and uncomment\n",
    "# train_X, val_X, train_y, val_y = ____\n",
    "\n",
    "# Check your answer\n",
    "step_1.check()"
   ]
  },
  {
   "cell_type": "code",
   "execution_count": 3,
   "id": "4ad939c2",
   "metadata": {
    "execution": {
     "iopub.execute_input": "2022-05-24T18:00:29.570932Z",
     "iopub.status.busy": "2022-05-24T18:00:29.570103Z",
     "iopub.status.idle": "2022-05-24T18:00:29.573892Z",
     "shell.execute_reply": "2022-05-24T18:00:29.573048Z"
    },
    "papermill": {
     "duration": 0.01951,
     "end_time": "2022-05-24T18:00:29.575947",
     "exception": false,
     "start_time": "2022-05-24T18:00:29.556437",
     "status": "completed"
    },
    "tags": []
   },
   "outputs": [],
   "source": [
    "# The lines below will show you a hint or the solution.\n",
    "# step_1.hint() \n",
    "# step_1.solution()\n"
   ]
  },
  {
   "cell_type": "markdown",
   "id": "49529689",
   "metadata": {
    "papermill": {
     "duration": 0.012528,
     "end_time": "2022-05-24T18:00:29.601361",
     "exception": false,
     "start_time": "2022-05-24T18:00:29.588833",
     "status": "completed"
    },
    "tags": []
   },
   "source": [
    "## Step 2: Specify and Fit the Model\n",
    "\n",
    "Create a `DecisionTreeRegressor` model and fit it to the relevant data.\n",
    "Set `random_state` to 1 again when creating the model."
   ]
  },
  {
   "cell_type": "code",
   "execution_count": 4,
   "id": "b1a63107",
   "metadata": {
    "execution": {
     "iopub.execute_input": "2022-05-24T18:00:29.628856Z",
     "iopub.status.busy": "2022-05-24T18:00:29.628261Z",
     "iopub.status.idle": "2022-05-24T18:00:29.636259Z",
     "shell.execute_reply": "2022-05-24T18:00:29.635361Z"
    },
    "papermill": {
     "duration": 0.024145,
     "end_time": "2022-05-24T18:00:29.638271",
     "exception": false,
     "start_time": "2022-05-24T18:00:29.614126",
     "status": "completed"
    },
    "tags": []
   },
   "outputs": [
    {
     "data": {
      "application/javascript": [
       "parent.postMessage({\"jupyterEvent\": \"custom.exercise_interaction\", \"data\": {\"outcomeType\": 2, \"failureMessage\": \"You still need to define the following variables: `train_y`, `val_X`, `train_X`\", \"interactionType\": 1, \"questionType\": 2, \"questionId\": \"2_FitModelWithTrain\", \"learnToolsVersion\": \"0.3.4\", \"valueTowardsCompletion\": 0.0, \"exceptionClass\": \"\", \"trace\": \"\"}}, \"*\")"
      ],
      "text/plain": [
       "<IPython.core.display.Javascript object>"
      ]
     },
     "metadata": {},
     "output_type": "display_data"
    },
    {
     "data": {
      "text/markdown": [
       "<span style=\"color:#cc3333\">Incorrect:</span> You still need to define the following variables: `train_y`, `val_X`, `train_X`"
      ],
      "text/plain": [
       "Incorrect: You still need to define the following variables: `train_y`, `val_X`, `train_X`"
      ]
     },
     "metadata": {},
     "output_type": "display_data"
    }
   ],
   "source": [
    "# You imported DecisionTreeRegressor in your last exercise\n",
    "# and that code has been copied to the setup code above. So, no need to\n",
    "# import it again\n",
    "\n",
    "# Specify the model\n",
    "iowa_model = ____\n",
    "\n",
    "# Fit iowa_model with the training data.\n",
    "____\n",
    "\n",
    "# Check your answer\n",
    "step_2.check()"
   ]
  },
  {
   "cell_type": "code",
   "execution_count": 5,
   "id": "99ac42c5",
   "metadata": {
    "execution": {
     "iopub.execute_input": "2022-05-24T18:00:29.667195Z",
     "iopub.status.busy": "2022-05-24T18:00:29.666773Z",
     "iopub.status.idle": "2022-05-24T18:00:29.670016Z",
     "shell.execute_reply": "2022-05-24T18:00:29.669400Z"
    },
    "papermill": {
     "duration": 0.019758,
     "end_time": "2022-05-24T18:00:29.671675",
     "exception": false,
     "start_time": "2022-05-24T18:00:29.651917",
     "status": "completed"
    },
    "tags": []
   },
   "outputs": [],
   "source": [
    "# step_2.hint()\n",
    "# step_2.solution()"
   ]
  },
  {
   "cell_type": "markdown",
   "id": "40f247c5",
   "metadata": {
    "papermill": {
     "duration": 0.013382,
     "end_time": "2022-05-24T18:00:29.698823",
     "exception": false,
     "start_time": "2022-05-24T18:00:29.685441",
     "status": "completed"
    },
    "tags": []
   },
   "source": [
    "## Step 3: Make Predictions with Validation data\n"
   ]
  },
  {
   "cell_type": "code",
   "execution_count": 6,
   "id": "be5abf74",
   "metadata": {
    "execution": {
     "iopub.execute_input": "2022-05-24T18:00:29.727885Z",
     "iopub.status.busy": "2022-05-24T18:00:29.727441Z",
     "iopub.status.idle": "2022-05-24T18:00:29.734515Z",
     "shell.execute_reply": "2022-05-24T18:00:29.733708Z"
    },
    "papermill": {
     "duration": 0.023853,
     "end_time": "2022-05-24T18:00:29.736388",
     "exception": false,
     "start_time": "2022-05-24T18:00:29.712535",
     "status": "completed"
    },
    "tags": []
   },
   "outputs": [
    {
     "data": {
      "application/javascript": [
       "parent.postMessage({\"jupyterEvent\": \"custom.exercise_interaction\", \"data\": {\"outcomeType\": 2, \"failureMessage\": \"You still need to define the following variables: `val_X`\", \"interactionType\": 1, \"questionType\": 2, \"questionId\": \"3_ValPreds\", \"learnToolsVersion\": \"0.3.4\", \"valueTowardsCompletion\": 0.0, \"exceptionClass\": \"\", \"trace\": \"\"}}, \"*\")"
      ],
      "text/plain": [
       "<IPython.core.display.Javascript object>"
      ]
     },
     "metadata": {},
     "output_type": "display_data"
    },
    {
     "data": {
      "text/markdown": [
       "<span style=\"color:#cc3333\">Incorrect:</span> You still need to define the following variables: `val_X`"
      ],
      "text/plain": [
       "Incorrect: You still need to define the following variables: `val_X`"
      ]
     },
     "metadata": {},
     "output_type": "display_data"
    }
   ],
   "source": [
    "# Predict with all validation observations\n",
    "val_predictions = ____\n",
    "\n",
    "# Check your answer\n",
    "step_3.check()"
   ]
  },
  {
   "cell_type": "code",
   "execution_count": 7,
   "id": "676daf59",
   "metadata": {
    "execution": {
     "iopub.execute_input": "2022-05-24T18:00:29.768659Z",
     "iopub.status.busy": "2022-05-24T18:00:29.768104Z",
     "iopub.status.idle": "2022-05-24T18:00:29.771702Z",
     "shell.execute_reply": "2022-05-24T18:00:29.771026Z"
    },
    "papermill": {
     "duration": 0.0223,
     "end_time": "2022-05-24T18:00:29.773573",
     "exception": false,
     "start_time": "2022-05-24T18:00:29.751273",
     "status": "completed"
    },
    "tags": []
   },
   "outputs": [],
   "source": [
    "# step_3.hint()\n",
    "# step_3.solution()"
   ]
  },
  {
   "cell_type": "markdown",
   "id": "1c699ad1",
   "metadata": {
    "papermill": {
     "duration": 0.014455,
     "end_time": "2022-05-24T18:00:29.802894",
     "exception": false,
     "start_time": "2022-05-24T18:00:29.788439",
     "status": "completed"
    },
    "tags": []
   },
   "source": [
    "Inspect your predictions and actual values from validation data."
   ]
  },
  {
   "cell_type": "code",
   "execution_count": 8,
   "id": "539327e9",
   "metadata": {
    "execution": {
     "iopub.execute_input": "2022-05-24T18:00:29.836927Z",
     "iopub.status.busy": "2022-05-24T18:00:29.835201Z",
     "iopub.status.idle": "2022-05-24T18:00:29.841270Z",
     "shell.execute_reply": "2022-05-24T18:00:29.840303Z"
    },
    "papermill": {
     "duration": 0.025716,
     "end_time": "2022-05-24T18:00:29.843395",
     "exception": false,
     "start_time": "2022-05-24T18:00:29.817679",
     "status": "completed"
    },
    "tags": []
   },
   "outputs": [
    {
     "name": "stdout",
     "output_type": "stream",
     "text": [
      "<learntools.core.constants.PlaceholderValue object at 0x7f9f183f9050>\n",
      "<learntools.core.constants.PlaceholderValue object at 0x7f9f183f9050>\n"
     ]
    }
   ],
   "source": [
    "# print the top few validation predictions\n",
    "print(____)\n",
    "# print the top few actual prices from validation data\n",
    "print(____)"
   ]
  },
  {
   "cell_type": "markdown",
   "id": "9629f8dc",
   "metadata": {
    "papermill": {
     "duration": 0.015318,
     "end_time": "2022-05-24T18:00:29.874258",
     "exception": false,
     "start_time": "2022-05-24T18:00:29.858940",
     "status": "completed"
    },
    "tags": []
   },
   "source": [
    "What do you notice that is different from what you saw with in-sample predictions (which are printed after the top code cell in this page).\n",
    "\n",
    "Do you remember why validation predictions differ from in-sample (or training) predictions? This is an important idea from the last lesson.\n",
    "\n",
    "## Step 4: Calculate the Mean Absolute Error in Validation Data\n"
   ]
  },
  {
   "cell_type": "code",
   "execution_count": 9,
   "id": "4fc159bc",
   "metadata": {
    "execution": {
     "iopub.execute_input": "2022-05-24T18:00:29.907854Z",
     "iopub.status.busy": "2022-05-24T18:00:29.907523Z",
     "iopub.status.idle": "2022-05-24T18:00:29.914419Z",
     "shell.execute_reply": "2022-05-24T18:00:29.913793Z"
    },
    "papermill": {
     "duration": 0.026394,
     "end_time": "2022-05-24T18:00:29.916208",
     "exception": false,
     "start_time": "2022-05-24T18:00:29.889814",
     "status": "completed"
    },
    "tags": []
   },
   "outputs": [
    {
     "data": {
      "application/javascript": [
       "parent.postMessage({\"jupyterEvent\": \"custom.exercise_interaction\", \"data\": {\"outcomeType\": 4, \"interactionType\": 1, \"questionType\": 1, \"questionId\": \"4_MAE\", \"learnToolsVersion\": \"0.3.4\", \"valueTowardsCompletion\": 0.0, \"failureMessage\": \"\", \"exceptionClass\": \"\", \"trace\": \"\"}}, \"*\")"
      ],
      "text/plain": [
       "<IPython.core.display.Javascript object>"
      ]
     },
     "metadata": {},
     "output_type": "display_data"
    },
    {
     "data": {
      "text/markdown": [
       "<span style=\"color:#ccaa33\">Check:</span> When you've updated the starter code, `check()` will tell you whether your code is correct. You need to update the code that creates variable `val_mae`"
      ],
      "text/plain": [
       "Check: When you've updated the starter code, `check()` will tell you whether your code is correct. You need to update the code that creates variable `val_mae`"
      ]
     },
     "metadata": {},
     "output_type": "display_data"
    }
   ],
   "source": [
    "from sklearn.metrics import mean_absolute_error\n",
    "val_mae = ____\n",
    "\n",
    "# uncomment following line to see the validation_mae\n",
    "#print(val_mae)\n",
    "\n",
    "# Check your answer\n",
    "step_4.check()"
   ]
  },
  {
   "cell_type": "code",
   "execution_count": 10,
   "id": "aca62609",
   "metadata": {
    "execution": {
     "iopub.execute_input": "2022-05-24T18:00:29.951336Z",
     "iopub.status.busy": "2022-05-24T18:00:29.950753Z",
     "iopub.status.idle": "2022-05-24T18:00:29.954185Z",
     "shell.execute_reply": "2022-05-24T18:00:29.953560Z"
    },
    "papermill": {
     "duration": 0.023321,
     "end_time": "2022-05-24T18:00:29.956088",
     "exception": false,
     "start_time": "2022-05-24T18:00:29.932767",
     "status": "completed"
    },
    "tags": []
   },
   "outputs": [],
   "source": [
    "# step_4.hint()\n",
    "# step_4.solution()"
   ]
  },
  {
   "cell_type": "markdown",
   "id": "40058eff",
   "metadata": {
    "papermill": {
     "duration": 0.016407,
     "end_time": "2022-05-24T18:00:29.989153",
     "exception": false,
     "start_time": "2022-05-24T18:00:29.972746",
     "status": "completed"
    },
    "tags": []
   },
   "source": [
    "Is that MAE good?  There isn't a general rule for what values are good that applies across applications. But you'll see how to use (and improve) this number in the next step.\n",
    "\n",
    "# Keep Going\n",
    "\n",
    "You are ready for **[Underfitting and Overfitting](https://www.kaggle.com/dansbecker/underfitting-and-overfitting).**\n"
   ]
  },
  {
   "cell_type": "markdown",
   "id": "f6daf74e",
   "metadata": {
    "papermill": {
     "duration": 0.01633,
     "end_time": "2022-05-24T18:00:30.022926",
     "exception": false,
     "start_time": "2022-05-24T18:00:30.006596",
     "status": "completed"
    },
    "tags": []
   },
   "source": [
    "---\n",
    "\n",
    "\n",
    "\n",
    "\n",
    "*Have questions or comments? Visit the [course discussion forum](https://www.kaggle.com/learn/intro-to-machine-learning/discussion) to chat with other learners.*"
   ]
  }
 ],
 "metadata": {
  "kernelspec": {
   "display_name": "Python 3",
   "language": "python",
   "name": "python3"
  },
  "language_info": {
   "codemirror_mode": {
    "name": "ipython",
    "version": 3
   },
   "file_extension": ".py",
   "mimetype": "text/x-python",
   "name": "python",
   "nbconvert_exporter": "python",
   "pygments_lexer": "ipython3",
   "version": "3.7.12"
  },
  "papermill": {
   "default_parameters": {},
   "duration": 12.180535,
   "end_time": "2022-05-24T18:00:30.760060",
   "environment_variables": {},
   "exception": null,
   "input_path": "__notebook__.ipynb",
   "output_path": "__notebook__.ipynb",
   "parameters": {},
   "start_time": "2022-05-24T18:00:18.579525",
   "version": "2.3.4"
  }
 },
 "nbformat": 4,
 "nbformat_minor": 5
}
