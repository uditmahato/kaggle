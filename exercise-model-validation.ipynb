{
 "cells": [
  {
   "cell_type": "markdown",
   "id": "1aec4053",
   "metadata": {
    "papermill": {
     "duration": 0.016695,
     "end_time": "2022-05-24T18:05:17.632029",
     "exception": false,
     "start_time": "2022-05-24T18:05:17.615334",
     "status": "completed"
    },
    "tags": []
   },
   "source": [
    "**This notebook is an exercise in the [Introduction to Machine Learning](https://www.kaggle.com/learn/intro-to-machine-learning) course.  You can reference the tutorial at [this link](https://www.kaggle.com/dansbecker/model-validation).**\n",
    "\n",
    "---\n"
   ]
  },
  {
   "cell_type": "markdown",
   "id": "324dfa9a",
   "metadata": {
    "papermill": {
     "duration": 0.014865,
     "end_time": "2022-05-24T18:05:17.662643",
     "exception": false,
     "start_time": "2022-05-24T18:05:17.647778",
     "status": "completed"
    },
    "tags": []
   },
   "source": [
    "## Recap\n",
    "You've built a model. In this exercise you will test how good your model is.\n",
    "\n",
    "Run the cell below to set up your coding environment where the previous exercise left off."
   ]
  },
  {
   "cell_type": "code",
   "execution_count": 1,
   "id": "1636414e",
   "metadata": {
    "execution": {
     "iopub.execute_input": "2022-05-24T18:05:17.696893Z",
     "iopub.status.busy": "2022-05-24T18:05:17.695568Z",
     "iopub.status.idle": "2022-05-24T18:05:19.257578Z",
     "shell.execute_reply": "2022-05-24T18:05:19.256498Z"
    },
    "papermill": {
     "duration": 1.582542,
     "end_time": "2022-05-24T18:05:19.261417",
     "exception": false,
     "start_time": "2022-05-24T18:05:17.678875",
     "status": "completed"
    },
    "tags": []
   },
   "outputs": [
    {
     "name": "stdout",
     "output_type": "stream",
     "text": [
      "First in-sample predictions: [208500. 181500. 223500. 140000. 250000.]\n",
      "Actual target values for those homes: [208500, 181500, 223500, 140000, 250000]\n",
      "Setup Complete\n"
     ]
    }
   ],
   "source": [
    "# Code you have previously used to load data\n",
    "import pandas as pd\n",
    "from sklearn.tree import DecisionTreeRegressor\n",
    "\n",
    "# Path of the file to read\n",
    "iowa_file_path = '../input/home-data-for-ml-course/train.csv'\n",
    "\n",
    "home_data = pd.read_csv(iowa_file_path)\n",
    "y = home_data.SalePrice\n",
    "feature_columns = ['LotArea', 'YearBuilt', '1stFlrSF', '2ndFlrSF', 'FullBath', 'BedroomAbvGr', 'TotRmsAbvGrd']\n",
    "X = home_data[feature_columns]\n",
    "\n",
    "# Specify Model\n",
    "iowa_model = DecisionTreeRegressor()\n",
    "# Fit Model\n",
    "iowa_model.fit(X, y)\n",
    "\n",
    "print(\"First in-sample predictions:\", iowa_model.predict(X.head()))\n",
    "print(\"Actual target values for those homes:\", y.head().tolist())\n",
    "\n",
    "# Set up code checking\n",
    "from learntools.core import binder\n",
    "binder.bind(globals())\n",
    "from learntools.machine_learning.ex4 import *\n",
    "print(\"Setup Complete\")"
   ]
  },
  {
   "cell_type": "markdown",
   "id": "5ecee668",
   "metadata": {
    "papermill": {
     "duration": 0.015473,
     "end_time": "2022-05-24T18:05:19.293971",
     "exception": false,
     "start_time": "2022-05-24T18:05:19.278498",
     "status": "completed"
    },
    "tags": []
   },
   "source": [
    "# Exercises\n",
    "\n",
    "## Step 1: Split Your Data\n",
    "Use the `train_test_split` function to split up your data.\n",
    "\n",
    "Give it the argument `random_state=1` so the `check` functions know what to expect when verifying your code.\n",
    "\n",
    "Recall, your features are loaded in the DataFrame **X** and your target is loaded in **y**.\n"
   ]
  },
  {
   "cell_type": "code",
   "execution_count": 2,
   "id": "4de36b7d",
   "metadata": {
    "execution": {
     "iopub.execute_input": "2022-05-24T18:05:19.327988Z",
     "iopub.status.busy": "2022-05-24T18:05:19.327385Z",
     "iopub.status.idle": "2022-05-24T18:05:19.344839Z",
     "shell.execute_reply": "2022-05-24T18:05:19.343898Z"
    },
    "papermill": {
     "duration": 0.037537,
     "end_time": "2022-05-24T18:05:19.347467",
     "exception": false,
     "start_time": "2022-05-24T18:05:19.309930",
     "status": "completed"
    },
    "tags": []
   },
   "outputs": [
    {
     "data": {
      "application/javascript": [
       "parent.postMessage({\"jupyterEvent\": \"custom.exercise_interaction\", \"data\": {\"outcomeType\": 1, \"valueTowardsCompletion\": 0.25, \"interactionType\": 1, \"questionType\": 2, \"questionId\": \"1_SplitData\", \"learnToolsVersion\": \"0.3.4\", \"failureMessage\": \"\", \"exceptionClass\": \"\", \"trace\": \"\"}}, \"*\")"
      ],
      "text/plain": [
       "<IPython.core.display.Javascript object>"
      ]
     },
     "metadata": {},
     "output_type": "display_data"
    },
    {
     "data": {
      "text/markdown": [
       "<span style=\"color:#33cc33\">Correct</span>"
      ],
      "text/plain": [
       "Correct"
      ]
     },
     "metadata": {},
     "output_type": "display_data"
    }
   ],
   "source": [
    "# Import the train_test_split function and uncomment\n",
    "from sklearn.model_selection import train_test_split\n",
    "\n",
    "# fill in and uncomment\n",
    "train_X, val_X, train_y, val_y = train_test_split(X,y,random_state=1)\n",
    "\n",
    "# Check your answer\n",
    "step_1.check()"
   ]
  },
  {
   "cell_type": "code",
   "execution_count": 3,
   "id": "3e1c436e",
   "metadata": {
    "execution": {
     "iopub.execute_input": "2022-05-24T18:05:19.383664Z",
     "iopub.status.busy": "2022-05-24T18:05:19.383157Z",
     "iopub.status.idle": "2022-05-24T18:05:19.386945Z",
     "shell.execute_reply": "2022-05-24T18:05:19.386177Z"
    },
    "papermill": {
     "duration": 0.024237,
     "end_time": "2022-05-24T18:05:19.388804",
     "exception": false,
     "start_time": "2022-05-24T18:05:19.364567",
     "status": "completed"
    },
    "tags": []
   },
   "outputs": [],
   "source": [
    "# The lines below will show you a hint or the solution.\n",
    "# step_1.hint() \n",
    "# step_1.solution()\n"
   ]
  },
  {
   "cell_type": "markdown",
   "id": "4d978673",
   "metadata": {
    "papermill": {
     "duration": 0.01734,
     "end_time": "2022-05-24T18:05:19.423818",
     "exception": false,
     "start_time": "2022-05-24T18:05:19.406478",
     "status": "completed"
    },
    "tags": []
   },
   "source": [
    "## Step 2: Specify and Fit the Model\n",
    "\n",
    "Create a `DecisionTreeRegressor` model and fit it to the relevant data.\n",
    "Set `random_state` to 1 again when creating the model."
   ]
  },
  {
   "cell_type": "code",
   "execution_count": 4,
   "id": "76069945",
   "metadata": {
    "execution": {
     "iopub.execute_input": "2022-05-24T18:05:19.460407Z",
     "iopub.status.busy": "2022-05-24T18:05:19.459793Z",
     "iopub.status.idle": "2022-05-24T18:05:19.466983Z",
     "shell.execute_reply": "2022-05-24T18:05:19.466222Z"
    },
    "papermill": {
     "duration": 0.027804,
     "end_time": "2022-05-24T18:05:19.468822",
     "exception": false,
     "start_time": "2022-05-24T18:05:19.441018",
     "status": "completed"
    },
    "tags": []
   },
   "outputs": [
    {
     "data": {
      "application/javascript": [
       "parent.postMessage({\"jupyterEvent\": \"custom.exercise_interaction\", \"data\": {\"outcomeType\": 4, \"interactionType\": 1, \"questionType\": 2, \"questionId\": \"2_FitModelWithTrain\", \"learnToolsVersion\": \"0.3.4\", \"valueTowardsCompletion\": 0.0, \"failureMessage\": \"\", \"exceptionClass\": \"\", \"trace\": \"\"}}, \"*\")"
      ],
      "text/plain": [
       "<IPython.core.display.Javascript object>"
      ]
     },
     "metadata": {},
     "output_type": "display_data"
    },
    {
     "data": {
      "text/markdown": [
       "<span style=\"color:#ccaa33\">Check:</span> When you've updated the starter code, `check()` will tell you whether your code is correct. You need to update the code that creates variables `iowa_model`, `train_X`, `train_y`, `val_X`"
      ],
      "text/plain": [
       "Check: When you've updated the starter code, `check()` will tell you whether your code is correct. You need to update the code that creates variables `iowa_model`, `train_X`, `train_y`, `val_X`"
      ]
     },
     "metadata": {},
     "output_type": "display_data"
    }
   ],
   "source": [
    "# You imported DecisionTreeRegressor in your last exercise\n",
    "# and that code has been copied to the setup code above. So, no need to\n",
    "# import it again\n",
    "\n",
    "# Specify the model\n",
    "iowa_model = ____\n",
    "\n",
    "# Fit iowa_model with the training data.\n",
    "____\n",
    "\n",
    "# Check your answer\n",
    "step_2.check()"
   ]
  },
  {
   "cell_type": "code",
   "execution_count": 5,
   "id": "358957f0",
   "metadata": {
    "execution": {
     "iopub.execute_input": "2022-05-24T18:05:19.508343Z",
     "iopub.status.busy": "2022-05-24T18:05:19.507603Z",
     "iopub.status.idle": "2022-05-24T18:05:19.511280Z",
     "shell.execute_reply": "2022-05-24T18:05:19.510373Z"
    },
    "papermill": {
     "duration": 0.025936,
     "end_time": "2022-05-24T18:05:19.513305",
     "exception": false,
     "start_time": "2022-05-24T18:05:19.487369",
     "status": "completed"
    },
    "tags": []
   },
   "outputs": [],
   "source": [
    "# step_2.hint()\n",
    "# step_2.solution()"
   ]
  },
  {
   "cell_type": "markdown",
   "id": "95e3b3c3",
   "metadata": {
    "papermill": {
     "duration": 0.018632,
     "end_time": "2022-05-24T18:05:19.551049",
     "exception": false,
     "start_time": "2022-05-24T18:05:19.532417",
     "status": "completed"
    },
    "tags": []
   },
   "source": [
    "## Step 3: Make Predictions with Validation data\n"
   ]
  },
  {
   "cell_type": "code",
   "execution_count": 6,
   "id": "b0a4138d",
   "metadata": {
    "execution": {
     "iopub.execute_input": "2022-05-24T18:05:19.590835Z",
     "iopub.status.busy": "2022-05-24T18:05:19.590427Z",
     "iopub.status.idle": "2022-05-24T18:05:19.598574Z",
     "shell.execute_reply": "2022-05-24T18:05:19.597648Z"
    },
    "papermill": {
     "duration": 0.030848,
     "end_time": "2022-05-24T18:05:19.600646",
     "exception": false,
     "start_time": "2022-05-24T18:05:19.569798",
     "status": "completed"
    },
    "tags": []
   },
   "outputs": [
    {
     "data": {
      "application/javascript": [
       "parent.postMessage({\"jupyterEvent\": \"custom.exercise_interaction\", \"data\": {\"outcomeType\": 4, \"interactionType\": 1, \"questionType\": 2, \"questionId\": \"3_ValPreds\", \"learnToolsVersion\": \"0.3.4\", \"valueTowardsCompletion\": 0.0, \"failureMessage\": \"\", \"exceptionClass\": \"\", \"trace\": \"\"}}, \"*\")"
      ],
      "text/plain": [
       "<IPython.core.display.Javascript object>"
      ]
     },
     "metadata": {},
     "output_type": "display_data"
    },
    {
     "data": {
      "text/markdown": [
       "<span style=\"color:#ccaa33\">Check:</span> When you've updated the starter code, `check()` will tell you whether your code is correct. You need to update the code that creates variables `val_predictions`, `iowa_model`, `val_X`"
      ],
      "text/plain": [
       "Check: When you've updated the starter code, `check()` will tell you whether your code is correct. You need to update the code that creates variables `val_predictions`, `iowa_model`, `val_X`"
      ]
     },
     "metadata": {},
     "output_type": "display_data"
    }
   ],
   "source": [
    "# Predict with all validation observations\n",
    "val_predictions = ____\n",
    "\n",
    "# Check your answer\n",
    "step_3.check()"
   ]
  },
  {
   "cell_type": "code",
   "execution_count": 7,
   "id": "c1fab708",
   "metadata": {
    "execution": {
     "iopub.execute_input": "2022-05-24T18:05:19.643342Z",
     "iopub.status.busy": "2022-05-24T18:05:19.642714Z",
     "iopub.status.idle": "2022-05-24T18:05:19.646162Z",
     "shell.execute_reply": "2022-05-24T18:05:19.645423Z"
    },
    "papermill": {
     "duration": 0.027137,
     "end_time": "2022-05-24T18:05:19.648243",
     "exception": false,
     "start_time": "2022-05-24T18:05:19.621106",
     "status": "completed"
    },
    "tags": []
   },
   "outputs": [],
   "source": [
    "# step_3.hint()\n",
    "# step_3.solution()"
   ]
  },
  {
   "cell_type": "markdown",
   "id": "13b4a4e7",
   "metadata": {
    "papermill": {
     "duration": 0.019824,
     "end_time": "2022-05-24T18:05:19.688574",
     "exception": false,
     "start_time": "2022-05-24T18:05:19.668750",
     "status": "completed"
    },
    "tags": []
   },
   "source": [
    "Inspect your predictions and actual values from validation data."
   ]
  },
  {
   "cell_type": "code",
   "execution_count": 8,
   "id": "3d6a2b9a",
   "metadata": {
    "execution": {
     "iopub.execute_input": "2022-05-24T18:05:19.731972Z",
     "iopub.status.busy": "2022-05-24T18:05:19.731541Z",
     "iopub.status.idle": "2022-05-24T18:05:19.736718Z",
     "shell.execute_reply": "2022-05-24T18:05:19.736049Z"
    },
    "papermill": {
     "duration": 0.029546,
     "end_time": "2022-05-24T18:05:19.738565",
     "exception": false,
     "start_time": "2022-05-24T18:05:19.709019",
     "status": "completed"
    },
    "tags": []
   },
   "outputs": [
    {
     "name": "stdout",
     "output_type": "stream",
     "text": [
      "<learntools.core.constants.PlaceholderValue object at 0x7f848d793110>\n",
      "<learntools.core.constants.PlaceholderValue object at 0x7f848d793110>\n"
     ]
    }
   ],
   "source": [
    "# print the top few validation predictions\n",
    "print(____)\n",
    "# print the top few actual prices from validation data\n",
    "print(____)"
   ]
  },
  {
   "cell_type": "markdown",
   "id": "1164833f",
   "metadata": {
    "papermill": {
     "duration": 0.022318,
     "end_time": "2022-05-24T18:05:19.784075",
     "exception": false,
     "start_time": "2022-05-24T18:05:19.761757",
     "status": "completed"
    },
    "tags": []
   },
   "source": [
    "What do you notice that is different from what you saw with in-sample predictions (which are printed after the top code cell in this page).\n",
    "\n",
    "Do you remember why validation predictions differ from in-sample (or training) predictions? This is an important idea from the last lesson.\n",
    "\n",
    "## Step 4: Calculate the Mean Absolute Error in Validation Data\n"
   ]
  },
  {
   "cell_type": "code",
   "execution_count": 9,
   "id": "46ca21b2",
   "metadata": {
    "execution": {
     "iopub.execute_input": "2022-05-24T18:05:19.829472Z",
     "iopub.status.busy": "2022-05-24T18:05:19.829104Z",
     "iopub.status.idle": "2022-05-24T18:05:19.837162Z",
     "shell.execute_reply": "2022-05-24T18:05:19.836559Z"
    },
    "papermill": {
     "duration": 0.032604,
     "end_time": "2022-05-24T18:05:19.839111",
     "exception": false,
     "start_time": "2022-05-24T18:05:19.806507",
     "status": "completed"
    },
    "tags": []
   },
   "outputs": [
    {
     "data": {
      "application/javascript": [
       "parent.postMessage({\"jupyterEvent\": \"custom.exercise_interaction\", \"data\": {\"outcomeType\": 4, \"interactionType\": 1, \"questionType\": 1, \"questionId\": \"4_MAE\", \"learnToolsVersion\": \"0.3.4\", \"valueTowardsCompletion\": 0.0, \"failureMessage\": \"\", \"exceptionClass\": \"\", \"trace\": \"\"}}, \"*\")"
      ],
      "text/plain": [
       "<IPython.core.display.Javascript object>"
      ]
     },
     "metadata": {},
     "output_type": "display_data"
    },
    {
     "data": {
      "text/markdown": [
       "<span style=\"color:#ccaa33\">Check:</span> When you've updated the starter code, `check()` will tell you whether your code is correct. You need to update the code that creates variable `val_mae`"
      ],
      "text/plain": [
       "Check: When you've updated the starter code, `check()` will tell you whether your code is correct. You need to update the code that creates variable `val_mae`"
      ]
     },
     "metadata": {},
     "output_type": "display_data"
    }
   ],
   "source": [
    "from sklearn.metrics import mean_absolute_error\n",
    "val_mae = ____\n",
    "\n",
    "# uncomment following line to see the validation_mae\n",
    "#print(val_mae)\n",
    "\n",
    "# Check your answer\n",
    "step_4.check()"
   ]
  },
  {
   "cell_type": "code",
   "execution_count": 10,
   "id": "2dc1a3d6",
   "metadata": {
    "execution": {
     "iopub.execute_input": "2022-05-24T18:05:19.885843Z",
     "iopub.status.busy": "2022-05-24T18:05:19.885296Z",
     "iopub.status.idle": "2022-05-24T18:05:19.889955Z",
     "shell.execute_reply": "2022-05-24T18:05:19.889011Z"
    },
    "papermill": {
     "duration": 0.030323,
     "end_time": "2022-05-24T18:05:19.891949",
     "exception": false,
     "start_time": "2022-05-24T18:05:19.861626",
     "status": "completed"
    },
    "tags": []
   },
   "outputs": [],
   "source": [
    "# step_4.hint()\n",
    "# step_4.solution()"
   ]
  },
  {
   "cell_type": "markdown",
   "id": "a3c81fdb",
   "metadata": {
    "papermill": {
     "duration": 0.022139,
     "end_time": "2022-05-24T18:05:19.937045",
     "exception": false,
     "start_time": "2022-05-24T18:05:19.914906",
     "status": "completed"
    },
    "tags": []
   },
   "source": [
    "Is that MAE good?  There isn't a general rule for what values are good that applies across applications. But you'll see how to use (and improve) this number in the next step.\n",
    "\n",
    "# Keep Going\n",
    "\n",
    "You are ready for **[Underfitting and Overfitting](https://www.kaggle.com/dansbecker/underfitting-and-overfitting).**\n"
   ]
  },
  {
   "cell_type": "markdown",
   "id": "7fe97d0c",
   "metadata": {
    "papermill": {
     "duration": 0.022489,
     "end_time": "2022-05-24T18:05:19.982563",
     "exception": false,
     "start_time": "2022-05-24T18:05:19.960074",
     "status": "completed"
    },
    "tags": []
   },
   "source": [
    "---\n",
    "\n",
    "\n",
    "\n",
    "\n",
    "*Have questions or comments? Visit the [course discussion forum](https://www.kaggle.com/learn/intro-to-machine-learning/discussion) to chat with other learners.*"
   ]
  }
 ],
 "metadata": {
  "kernelspec": {
   "display_name": "Python 3",
   "language": "python",
   "name": "python3"
  },
  "language_info": {
   "codemirror_mode": {
    "name": "ipython",
    "version": 3
   },
   "file_extension": ".py",
   "mimetype": "text/x-python",
   "name": "python",
   "nbconvert_exporter": "python",
   "pygments_lexer": "ipython3",
   "version": "3.7.12"
  },
  "papermill": {
   "default_parameters": {},
   "duration": 14.468398,
   "end_time": "2022-05-24T18:05:21.031041",
   "environment_variables": {},
   "exception": null,
   "input_path": "__notebook__.ipynb",
   "output_path": "__notebook__.ipynb",
   "parameters": {},
   "start_time": "2022-05-24T18:05:06.562643",
   "version": "2.3.4"
  }
 },
 "nbformat": 4,
 "nbformat_minor": 5
}
