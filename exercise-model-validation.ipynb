{
 "cells": [
  {
   "cell_type": "markdown",
   "id": "3ff6d03b",
   "metadata": {
    "papermill": {
     "duration": 0.012823,
     "end_time": "2022-05-24T18:10:37.465922",
     "exception": false,
     "start_time": "2022-05-24T18:10:37.453099",
     "status": "completed"
    },
    "tags": []
   },
   "source": [
    "**This notebook is an exercise in the [Introduction to Machine Learning](https://www.kaggle.com/learn/intro-to-machine-learning) course.  You can reference the tutorial at [this link](https://www.kaggle.com/dansbecker/model-validation).**\n",
    "\n",
    "---\n"
   ]
  },
  {
   "cell_type": "markdown",
   "id": "02e47e8e",
   "metadata": {
    "papermill": {
     "duration": 0.011479,
     "end_time": "2022-05-24T18:10:37.489368",
     "exception": false,
     "start_time": "2022-05-24T18:10:37.477889",
     "status": "completed"
    },
    "tags": []
   },
   "source": [
    "## Recap\n",
    "You've built a model. In this exercise you will test how good your model is.\n",
    "\n",
    "Run the cell below to set up your coding environment where the previous exercise left off."
   ]
  },
  {
   "cell_type": "code",
   "execution_count": 1,
   "id": "826ca8c9",
   "metadata": {
    "execution": {
     "iopub.execute_input": "2022-05-24T18:10:37.515887Z",
     "iopub.status.busy": "2022-05-24T18:10:37.515143Z",
     "iopub.status.idle": "2022-05-24T18:10:38.988972Z",
     "shell.execute_reply": "2022-05-24T18:10:38.988115Z"
    },
    "papermill": {
     "duration": 1.49025,
     "end_time": "2022-05-24T18:10:38.991463",
     "exception": false,
     "start_time": "2022-05-24T18:10:37.501213",
     "status": "completed"
    },
    "tags": []
   },
   "outputs": [
    {
     "name": "stdout",
     "output_type": "stream",
     "text": [
      "First in-sample predictions: [208500. 181500. 223500. 140000. 250000.]\n",
      "Actual target values for those homes: [208500, 181500, 223500, 140000, 250000]\n",
      "Setup Complete\n"
     ]
    }
   ],
   "source": [
    "# Code you have previously used to load data\n",
    "import pandas as pd\n",
    "from sklearn.tree import DecisionTreeRegressor\n",
    "\n",
    "# Path of the file to read\n",
    "iowa_file_path = '../input/home-data-for-ml-course/train.csv'\n",
    "\n",
    "home_data = pd.read_csv(iowa_file_path)\n",
    "y = home_data.SalePrice\n",
    "feature_columns = ['LotArea', 'YearBuilt', '1stFlrSF', '2ndFlrSF', 'FullBath', 'BedroomAbvGr', 'TotRmsAbvGrd']\n",
    "X = home_data[feature_columns]\n",
    "\n",
    "# Specify Model\n",
    "iowa_model = DecisionTreeRegressor()\n",
    "# Fit Model\n",
    "iowa_model.fit(X, y)\n",
    "\n",
    "print(\"First in-sample predictions:\", iowa_model.predict(X.head()))\n",
    "print(\"Actual target values for those homes:\", y.head().tolist())\n",
    "\n",
    "# Set up code checking\n",
    "from learntools.core import binder\n",
    "binder.bind(globals())\n",
    "from learntools.machine_learning.ex4 import *\n",
    "print(\"Setup Complete\")"
   ]
  },
  {
   "cell_type": "markdown",
   "id": "aadd6dcb",
   "metadata": {
    "papermill": {
     "duration": 0.012275,
     "end_time": "2022-05-24T18:10:39.016541",
     "exception": false,
     "start_time": "2022-05-24T18:10:39.004266",
     "status": "completed"
    },
    "tags": []
   },
   "source": [
    "# Exercises\n",
    "\n",
    "## Step 1: Split Your Data\n",
    "Use the `train_test_split` function to split up your data.\n",
    "\n",
    "Give it the argument `random_state=1` so the `check` functions know what to expect when verifying your code.\n",
    "\n",
    "Recall, your features are loaded in the DataFrame **X** and your target is loaded in **y**.\n"
   ]
  },
  {
   "cell_type": "code",
   "execution_count": 2,
   "id": "3e16cbb7",
   "metadata": {
    "execution": {
     "iopub.execute_input": "2022-05-24T18:10:39.043414Z",
     "iopub.status.busy": "2022-05-24T18:10:39.042670Z",
     "iopub.status.idle": "2022-05-24T18:10:39.056191Z",
     "shell.execute_reply": "2022-05-24T18:10:39.055075Z"
    },
    "papermill": {
     "duration": 0.029424,
     "end_time": "2022-05-24T18:10:39.058366",
     "exception": false,
     "start_time": "2022-05-24T18:10:39.028942",
     "status": "completed"
    },
    "tags": []
   },
   "outputs": [
    {
     "data": {
      "application/javascript": [
       "parent.postMessage({\"jupyterEvent\": \"custom.exercise_interaction\", \"data\": {\"outcomeType\": 1, \"valueTowardsCompletion\": 0.25, \"interactionType\": 1, \"questionType\": 2, \"questionId\": \"1_SplitData\", \"learnToolsVersion\": \"0.3.4\", \"failureMessage\": \"\", \"exceptionClass\": \"\", \"trace\": \"\"}}, \"*\")"
      ],
      "text/plain": [
       "<IPython.core.display.Javascript object>"
      ]
     },
     "metadata": {},
     "output_type": "display_data"
    },
    {
     "data": {
      "text/markdown": [
       "<span style=\"color:#33cc33\">Correct</span>"
      ],
      "text/plain": [
       "Correct"
      ]
     },
     "metadata": {},
     "output_type": "display_data"
    }
   ],
   "source": [
    "# Import the train_test_split function and uncomment\n",
    "from sklearn.model_selection import train_test_split\n",
    "\n",
    "# fill in and uncomment\n",
    "train_X, val_X, train_y, val_y = train_test_split(X,y,random_state=1)\n",
    "\n",
    "# Check your answer\n",
    "step_1.check()"
   ]
  },
  {
   "cell_type": "code",
   "execution_count": 3,
   "id": "44732701",
   "metadata": {
    "execution": {
     "iopub.execute_input": "2022-05-24T18:10:39.086259Z",
     "iopub.status.busy": "2022-05-24T18:10:39.085962Z",
     "iopub.status.idle": "2022-05-24T18:10:39.089416Z",
     "shell.execute_reply": "2022-05-24T18:10:39.088419Z"
    },
    "papermill": {
     "duration": 0.01978,
     "end_time": "2022-05-24T18:10:39.091400",
     "exception": false,
     "start_time": "2022-05-24T18:10:39.071620",
     "status": "completed"
    },
    "tags": []
   },
   "outputs": [],
   "source": [
    "# The lines below will show you a hint or the solution.\n",
    "# step_1.hint() \n",
    "# step_1.solution()\n"
   ]
  },
  {
   "cell_type": "markdown",
   "id": "5e87a9c2",
   "metadata": {
    "papermill": {
     "duration": 0.012916,
     "end_time": "2022-05-24T18:10:39.118200",
     "exception": false,
     "start_time": "2022-05-24T18:10:39.105284",
     "status": "completed"
    },
    "tags": []
   },
   "source": [
    "## Step 2: Specify and Fit the Model\n",
    "\n",
    "Create a `DecisionTreeRegressor` model and fit it to the relevant data.\n",
    "Set `random_state` to 1 again when creating the model."
   ]
  },
  {
   "cell_type": "code",
   "execution_count": 4,
   "id": "7a21e9b1",
   "metadata": {
    "execution": {
     "iopub.execute_input": "2022-05-24T18:10:39.145674Z",
     "iopub.status.busy": "2022-05-24T18:10:39.145423Z",
     "iopub.status.idle": "2022-05-24T18:10:39.171587Z",
     "shell.execute_reply": "2022-05-24T18:10:39.170368Z"
    },
    "papermill": {
     "duration": 0.042589,
     "end_time": "2022-05-24T18:10:39.173785",
     "exception": false,
     "start_time": "2022-05-24T18:10:39.131196",
     "status": "completed"
    },
    "tags": []
   },
   "outputs": [
    {
     "name": "stdout",
     "output_type": "stream",
     "text": [
      "[186500. 184000. 130000.  92000. 164500. 220000. 335000. 144152. 215000.\n",
      " 262000.]\n",
      "[186500. 184000. 130000.  92000. 164500. 220000. 335000. 144152. 215000.\n",
      " 262000.]\n"
     ]
    },
    {
     "data": {
      "application/javascript": [
       "parent.postMessage({\"jupyterEvent\": \"custom.exercise_interaction\", \"data\": {\"outcomeType\": 1, \"valueTowardsCompletion\": 0.25, \"interactionType\": 1, \"questionType\": 2, \"questionId\": \"2_FitModelWithTrain\", \"learnToolsVersion\": \"0.3.4\", \"failureMessage\": \"\", \"exceptionClass\": \"\", \"trace\": \"\"}}, \"*\")"
      ],
      "text/plain": [
       "<IPython.core.display.Javascript object>"
      ]
     },
     "metadata": {},
     "output_type": "display_data"
    },
    {
     "data": {
      "text/markdown": [
       "<span style=\"color:#33cc33\">Correct</span>"
      ],
      "text/plain": [
       "Correct"
      ]
     },
     "metadata": {},
     "output_type": "display_data"
    }
   ],
   "source": [
    "# You imported DecisionTreeRegressor in your last exercise\n",
    "# and that code has been copied to the setup code above. So, no need to\n",
    "# import it again\n",
    "\n",
    "# Specify the model\n",
    "iowa_model = DecisionTreeRegressor(random_state=1)\n",
    "\n",
    "# Fit iowa_model with the training data.\n",
    "iowa_model.fit(train_X,train_y)\n",
    "\n",
    "# Check your answer\n",
    "step_2.check()"
   ]
  },
  {
   "cell_type": "code",
   "execution_count": 5,
   "id": "dad4b1af",
   "metadata": {
    "execution": {
     "iopub.execute_input": "2022-05-24T18:10:39.204350Z",
     "iopub.status.busy": "2022-05-24T18:10:39.204092Z",
     "iopub.status.idle": "2022-05-24T18:10:39.206877Z",
     "shell.execute_reply": "2022-05-24T18:10:39.206321Z"
    },
    "papermill": {
     "duration": 0.019974,
     "end_time": "2022-05-24T18:10:39.208607",
     "exception": false,
     "start_time": "2022-05-24T18:10:39.188633",
     "status": "completed"
    },
    "tags": []
   },
   "outputs": [],
   "source": [
    "# step_2.hint()\n",
    "# step_2.solution()"
   ]
  },
  {
   "cell_type": "markdown",
   "id": "d58245a4",
   "metadata": {
    "papermill": {
     "duration": 0.015456,
     "end_time": "2022-05-24T18:10:39.238592",
     "exception": false,
     "start_time": "2022-05-24T18:10:39.223136",
     "status": "completed"
    },
    "tags": []
   },
   "source": [
    "## Step 3: Make Predictions with Validation data\n"
   ]
  },
  {
   "cell_type": "code",
   "execution_count": 6,
   "id": "c71948b7",
   "metadata": {
    "execution": {
     "iopub.execute_input": "2022-05-24T18:10:39.270476Z",
     "iopub.status.busy": "2022-05-24T18:10:39.270189Z",
     "iopub.status.idle": "2022-05-24T18:10:39.281493Z",
     "shell.execute_reply": "2022-05-24T18:10:39.280701Z"
    },
    "papermill": {
     "duration": 0.030017,
     "end_time": "2022-05-24T18:10:39.283469",
     "exception": false,
     "start_time": "2022-05-24T18:10:39.253452",
     "status": "completed"
    },
    "tags": []
   },
   "outputs": [
    {
     "data": {
      "application/javascript": [
       "parent.postMessage({\"jupyterEvent\": \"custom.exercise_interaction\", \"data\": {\"outcomeType\": 1, \"valueTowardsCompletion\": 0.25, \"interactionType\": 1, \"questionType\": 2, \"questionId\": \"3_ValPreds\", \"learnToolsVersion\": \"0.3.4\", \"failureMessage\": \"\", \"exceptionClass\": \"\", \"trace\": \"\"}}, \"*\")"
      ],
      "text/plain": [
       "<IPython.core.display.Javascript object>"
      ]
     },
     "metadata": {},
     "output_type": "display_data"
    },
    {
     "data": {
      "text/markdown": [
       "<span style=\"color:#33cc33\">Correct</span>"
      ],
      "text/plain": [
       "Correct"
      ]
     },
     "metadata": {},
     "output_type": "display_data"
    }
   ],
   "source": [
    "# Predict with all validation observations\n",
    "val_predictions = iowa_model.predict(val_X)\n",
    "\n",
    "# Check your answer\n",
    "step_3.check()"
   ]
  },
  {
   "cell_type": "code",
   "execution_count": 7,
   "id": "70d027a6",
   "metadata": {
    "execution": {
     "iopub.execute_input": "2022-05-24T18:10:39.317320Z",
     "iopub.status.busy": "2022-05-24T18:10:39.317056Z",
     "iopub.status.idle": "2022-05-24T18:10:39.320325Z",
     "shell.execute_reply": "2022-05-24T18:10:39.319417Z"
    },
    "papermill": {
     "duration": 0.022655,
     "end_time": "2022-05-24T18:10:39.322162",
     "exception": false,
     "start_time": "2022-05-24T18:10:39.299507",
     "status": "completed"
    },
    "tags": []
   },
   "outputs": [],
   "source": [
    "# step_3.hint()\n",
    "# step_3.solution()"
   ]
  },
  {
   "cell_type": "markdown",
   "id": "51a86a2f",
   "metadata": {
    "papermill": {
     "duration": 0.014959,
     "end_time": "2022-05-24T18:10:39.352491",
     "exception": false,
     "start_time": "2022-05-24T18:10:39.337532",
     "status": "completed"
    },
    "tags": []
   },
   "source": [
    "Inspect your predictions and actual values from validation data."
   ]
  },
  {
   "cell_type": "code",
   "execution_count": 8,
   "id": "ca02f3d1",
   "metadata": {
    "execution": {
     "iopub.execute_input": "2022-05-24T18:10:39.384493Z",
     "iopub.status.busy": "2022-05-24T18:10:39.384227Z",
     "iopub.status.idle": "2022-05-24T18:10:39.388930Z",
     "shell.execute_reply": "2022-05-24T18:10:39.388313Z"
    },
    "papermill": {
     "duration": 0.022966,
     "end_time": "2022-05-24T18:10:39.390698",
     "exception": false,
     "start_time": "2022-05-24T18:10:39.367732",
     "status": "completed"
    },
    "tags": []
   },
   "outputs": [
    {
     "name": "stdout",
     "output_type": "stream",
     "text": [
      "<learntools.core.constants.PlaceholderValue object at 0x7f4d8844a190>\n",
      "<learntools.core.constants.PlaceholderValue object at 0x7f4d8844a190>\n"
     ]
    }
   ],
   "source": [
    "# print the top few validation predictions\n",
    "print(____)\n",
    "# print the top few actual prices from validation data\n",
    "print(____)"
   ]
  },
  {
   "cell_type": "markdown",
   "id": "3cb3a583",
   "metadata": {
    "papermill": {
     "duration": 0.01574,
     "end_time": "2022-05-24T18:10:39.422403",
     "exception": false,
     "start_time": "2022-05-24T18:10:39.406663",
     "status": "completed"
    },
    "tags": []
   },
   "source": [
    "What do you notice that is different from what you saw with in-sample predictions (which are printed after the top code cell in this page).\n",
    "\n",
    "Do you remember why validation predictions differ from in-sample (or training) predictions? This is an important idea from the last lesson.\n",
    "\n",
    "## Step 4: Calculate the Mean Absolute Error in Validation Data\n"
   ]
  },
  {
   "cell_type": "code",
   "execution_count": 9,
   "id": "40c99bbd",
   "metadata": {
    "execution": {
     "iopub.execute_input": "2022-05-24T18:10:39.458388Z",
     "iopub.status.busy": "2022-05-24T18:10:39.458097Z",
     "iopub.status.idle": "2022-05-24T18:10:39.464618Z",
     "shell.execute_reply": "2022-05-24T18:10:39.464066Z"
    },
    "papermill": {
     "duration": 0.02625,
     "end_time": "2022-05-24T18:10:39.466255",
     "exception": false,
     "start_time": "2022-05-24T18:10:39.440005",
     "status": "completed"
    },
    "tags": []
   },
   "outputs": [
    {
     "data": {
      "application/javascript": [
       "parent.postMessage({\"jupyterEvent\": \"custom.exercise_interaction\", \"data\": {\"outcomeType\": 4, \"interactionType\": 1, \"questionType\": 1, \"questionId\": \"4_MAE\", \"learnToolsVersion\": \"0.3.4\", \"valueTowardsCompletion\": 0.0, \"failureMessage\": \"\", \"exceptionClass\": \"\", \"trace\": \"\"}}, \"*\")"
      ],
      "text/plain": [
       "<IPython.core.display.Javascript object>"
      ]
     },
     "metadata": {},
     "output_type": "display_data"
    },
    {
     "data": {
      "text/markdown": [
       "<span style=\"color:#ccaa33\">Check:</span> When you've updated the starter code, `check()` will tell you whether your code is correct. You need to update the code that creates variable `val_mae`"
      ],
      "text/plain": [
       "Check: When you've updated the starter code, `check()` will tell you whether your code is correct. You need to update the code that creates variable `val_mae`"
      ]
     },
     "metadata": {},
     "output_type": "display_data"
    }
   ],
   "source": [
    "from sklearn.metrics import mean_absolute_error\n",
    "val_mae = ____\n",
    "\n",
    "# uncomment following line to see the validation_mae\n",
    "#print(val_mae)\n",
    "\n",
    "# Check your answer\n",
    "step_4.check()"
   ]
  },
  {
   "cell_type": "code",
   "execution_count": 10,
   "id": "14eeddd3",
   "metadata": {
    "execution": {
     "iopub.execute_input": "2022-05-24T18:10:39.502415Z",
     "iopub.status.busy": "2022-05-24T18:10:39.502141Z",
     "iopub.status.idle": "2022-05-24T18:10:39.505569Z",
     "shell.execute_reply": "2022-05-24T18:10:39.504702Z"
    },
    "papermill": {
     "duration": 0.0244,
     "end_time": "2022-05-24T18:10:39.507557",
     "exception": false,
     "start_time": "2022-05-24T18:10:39.483157",
     "status": "completed"
    },
    "tags": []
   },
   "outputs": [],
   "source": [
    "# step_4.hint()\n",
    "# step_4.solution()"
   ]
  },
  {
   "cell_type": "markdown",
   "id": "23ebf26e",
   "metadata": {
    "papermill": {
     "duration": 0.016948,
     "end_time": "2022-05-24T18:10:39.542574",
     "exception": false,
     "start_time": "2022-05-24T18:10:39.525626",
     "status": "completed"
    },
    "tags": []
   },
   "source": [
    "Is that MAE good?  There isn't a general rule for what values are good that applies across applications. But you'll see how to use (and improve) this number in the next step.\n",
    "\n",
    "# Keep Going\n",
    "\n",
    "You are ready for **[Underfitting and Overfitting](https://www.kaggle.com/dansbecker/underfitting-and-overfitting).**\n"
   ]
  },
  {
   "cell_type": "markdown",
   "id": "bbf3fbe0",
   "metadata": {
    "papermill": {
     "duration": 0.018447,
     "end_time": "2022-05-24T18:10:39.579161",
     "exception": false,
     "start_time": "2022-05-24T18:10:39.560714",
     "status": "completed"
    },
    "tags": []
   },
   "source": [
    "---\n",
    "\n",
    "\n",
    "\n",
    "\n",
    "*Have questions or comments? Visit the [course discussion forum](https://www.kaggle.com/learn/intro-to-machine-learning/discussion) to chat with other learners.*"
   ]
  }
 ],
 "metadata": {
  "kernelspec": {
   "display_name": "Python 3",
   "language": "python",
   "name": "python3"
  },
  "language_info": {
   "codemirror_mode": {
    "name": "ipython",
    "version": 3
   },
   "file_extension": ".py",
   "mimetype": "text/x-python",
   "name": "python",
   "nbconvert_exporter": "python",
   "pygments_lexer": "ipython3",
   "version": "3.7.12"
  },
  "papermill": {
   "default_parameters": {},
   "duration": 12.055183,
   "end_time": "2022-05-24T18:10:40.318878",
   "environment_variables": {},
   "exception": null,
   "input_path": "__notebook__.ipynb",
   "output_path": "__notebook__.ipynb",
   "parameters": {},
   "start_time": "2022-05-24T18:10:28.263695",
   "version": "2.3.4"
  }
 },
 "nbformat": 4,
 "nbformat_minor": 5
}
