{
 "cells": [
  {
   "cell_type": "markdown",
   "id": "d1b7d551",
   "metadata": {
    "papermill": {
     "duration": 0.022503,
     "end_time": "2022-05-24T18:17:54.729864",
     "exception": false,
     "start_time": "2022-05-24T18:17:54.707361",
     "status": "completed"
    },
    "tags": []
   },
   "source": [
    "**This notebook is an exercise in the [Introduction to Machine Learning](https://www.kaggle.com/learn/intro-to-machine-learning) course.  You can reference the tutorial at [this link](https://www.kaggle.com/dansbecker/model-validation).**\n",
    "\n",
    "---\n"
   ]
  },
  {
   "cell_type": "markdown",
   "id": "37b67633",
   "metadata": {
    "papermill": {
     "duration": 0.016615,
     "end_time": "2022-05-24T18:17:54.763897",
     "exception": false,
     "start_time": "2022-05-24T18:17:54.747282",
     "status": "completed"
    },
    "tags": []
   },
   "source": [
    "## Recap\n",
    "You've built a model. In this exercise you will test how good your model is.\n",
    "\n",
    "Run the cell below to set up your coding environment where the previous exercise left off."
   ]
  },
  {
   "cell_type": "code",
   "execution_count": 1,
   "id": "f130d300",
   "metadata": {
    "execution": {
     "iopub.execute_input": "2022-05-24T18:17:54.801762Z",
     "iopub.status.busy": "2022-05-24T18:17:54.801179Z",
     "iopub.status.idle": "2022-05-24T18:17:56.353207Z",
     "shell.execute_reply": "2022-05-24T18:17:56.352288Z"
    },
    "papermill": {
     "duration": 1.576308,
     "end_time": "2022-05-24T18:17:56.357018",
     "exception": false,
     "start_time": "2022-05-24T18:17:54.780710",
     "status": "completed"
    },
    "tags": []
   },
   "outputs": [
    {
     "name": "stdout",
     "output_type": "stream",
     "text": [
      "First in-sample predictions: [208500. 181500. 223500. 140000. 250000.]\n",
      "Actual target values for those homes: [208500, 181500, 223500, 140000, 250000]\n",
      "Setup Complete\n"
     ]
    }
   ],
   "source": [
    "# Code you have previously used to load data\n",
    "import pandas as pd\n",
    "from sklearn.tree import DecisionTreeRegressor\n",
    "\n",
    "# Path of the file to read\n",
    "iowa_file_path = '../input/home-data-for-ml-course/train.csv'\n",
    "\n",
    "home_data = pd.read_csv(iowa_file_path)\n",
    "y = home_data.SalePrice\n",
    "feature_columns = ['LotArea', 'YearBuilt', '1stFlrSF', '2ndFlrSF', 'FullBath', 'BedroomAbvGr', 'TotRmsAbvGrd']\n",
    "X = home_data[feature_columns]\n",
    "\n",
    "# Specify Model\n",
    "iowa_model = DecisionTreeRegressor()\n",
    "# Fit Model\n",
    "iowa_model.fit(X, y)\n",
    "\n",
    "print(\"First in-sample predictions:\", iowa_model.predict(X.head()))\n",
    "print(\"Actual target values for those homes:\", y.head().tolist())\n",
    "\n",
    "# Set up code checking\n",
    "from learntools.core import binder\n",
    "binder.bind(globals())\n",
    "from learntools.machine_learning.ex4 import *\n",
    "print(\"Setup Complete\")"
   ]
  },
  {
   "cell_type": "markdown",
   "id": "e894fe28",
   "metadata": {
    "papermill": {
     "duration": 0.018387,
     "end_time": "2022-05-24T18:17:56.394087",
     "exception": false,
     "start_time": "2022-05-24T18:17:56.375700",
     "status": "completed"
    },
    "tags": []
   },
   "source": [
    "# Exercises\n",
    "\n",
    "## Step 1: Split Your Data\n",
    "Use the `train_test_split` function to split up your data.\n",
    "\n",
    "Give it the argument `random_state=1` so the `check` functions know what to expect when verifying your code.\n",
    "\n",
    "Recall, your features are loaded in the DataFrame **X** and your target is loaded in **y**.\n"
   ]
  },
  {
   "cell_type": "code",
   "execution_count": 2,
   "id": "b23bc392",
   "metadata": {
    "execution": {
     "iopub.execute_input": "2022-05-24T18:17:56.433503Z",
     "iopub.status.busy": "2022-05-24T18:17:56.433138Z",
     "iopub.status.idle": "2022-05-24T18:17:56.448303Z",
     "shell.execute_reply": "2022-05-24T18:17:56.447360Z"
    },
    "papermill": {
     "duration": 0.036684,
     "end_time": "2022-05-24T18:17:56.450515",
     "exception": false,
     "start_time": "2022-05-24T18:17:56.413831",
     "status": "completed"
    },
    "tags": []
   },
   "outputs": [
    {
     "data": {
      "application/javascript": [
       "parent.postMessage({\"jupyterEvent\": \"custom.exercise_interaction\", \"data\": {\"outcomeType\": 1, \"valueTowardsCompletion\": 0.25, \"interactionType\": 1, \"questionType\": 2, \"questionId\": \"1_SplitData\", \"learnToolsVersion\": \"0.3.4\", \"failureMessage\": \"\", \"exceptionClass\": \"\", \"trace\": \"\"}}, \"*\")"
      ],
      "text/plain": [
       "<IPython.core.display.Javascript object>"
      ]
     },
     "metadata": {},
     "output_type": "display_data"
    },
    {
     "data": {
      "text/markdown": [
       "<span style=\"color:#33cc33\">Correct</span>"
      ],
      "text/plain": [
       "Correct"
      ]
     },
     "metadata": {},
     "output_type": "display_data"
    }
   ],
   "source": [
    "# Import the train_test_split function and uncomment\n",
    "from sklearn.model_selection import train_test_split\n",
    "\n",
    "# fill in and uncomment\n",
    "train_X, val_X, train_y, val_y = train_test_split(X,y,random_state=1)\n",
    "\n",
    "# Check your answer\n",
    "step_1.check()"
   ]
  },
  {
   "cell_type": "code",
   "execution_count": 3,
   "id": "0b3c9f26",
   "metadata": {
    "execution": {
     "iopub.execute_input": "2022-05-24T18:17:56.498284Z",
     "iopub.status.busy": "2022-05-24T18:17:56.497957Z",
     "iopub.status.idle": "2022-05-24T18:17:56.502211Z",
     "shell.execute_reply": "2022-05-24T18:17:56.501081Z"
    },
    "papermill": {
     "duration": 0.030941,
     "end_time": "2022-05-24T18:17:56.504537",
     "exception": false,
     "start_time": "2022-05-24T18:17:56.473596",
     "status": "completed"
    },
    "tags": []
   },
   "outputs": [],
   "source": [
    "# The lines below will show you a hint or the solution.\n",
    "# step_1.hint() \n",
    "# step_1.solution()\n"
   ]
  },
  {
   "cell_type": "markdown",
   "id": "4f83532b",
   "metadata": {
    "papermill": {
     "duration": 0.019085,
     "end_time": "2022-05-24T18:17:56.542784",
     "exception": false,
     "start_time": "2022-05-24T18:17:56.523699",
     "status": "completed"
    },
    "tags": []
   },
   "source": [
    "## Step 2: Specify and Fit the Model\n",
    "\n",
    "Create a `DecisionTreeRegressor` model and fit it to the relevant data.\n",
    "Set `random_state` to 1 again when creating the model."
   ]
  },
  {
   "cell_type": "code",
   "execution_count": 4,
   "id": "70d55a5d",
   "metadata": {
    "execution": {
     "iopub.execute_input": "2022-05-24T18:17:56.581759Z",
     "iopub.status.busy": "2022-05-24T18:17:56.581323Z",
     "iopub.status.idle": "2022-05-24T18:17:56.610209Z",
     "shell.execute_reply": "2022-05-24T18:17:56.609289Z"
    },
    "papermill": {
     "duration": 0.051259,
     "end_time": "2022-05-24T18:17:56.612612",
     "exception": false,
     "start_time": "2022-05-24T18:17:56.561353",
     "status": "completed"
    },
    "tags": []
   },
   "outputs": [
    {
     "name": "stdout",
     "output_type": "stream",
     "text": [
      "[186500. 184000. 130000.  92000. 164500. 220000. 335000. 144152. 215000.\n",
      " 262000.]\n",
      "[186500. 184000. 130000.  92000. 164500. 220000. 335000. 144152. 215000.\n",
      " 262000.]\n"
     ]
    },
    {
     "data": {
      "application/javascript": [
       "parent.postMessage({\"jupyterEvent\": \"custom.exercise_interaction\", \"data\": {\"outcomeType\": 1, \"valueTowardsCompletion\": 0.25, \"interactionType\": 1, \"questionType\": 2, \"questionId\": \"2_FitModelWithTrain\", \"learnToolsVersion\": \"0.3.4\", \"failureMessage\": \"\", \"exceptionClass\": \"\", \"trace\": \"\"}}, \"*\")"
      ],
      "text/plain": [
       "<IPython.core.display.Javascript object>"
      ]
     },
     "metadata": {},
     "output_type": "display_data"
    },
    {
     "data": {
      "text/markdown": [
       "<span style=\"color:#33cc33\">Correct</span>"
      ],
      "text/plain": [
       "Correct"
      ]
     },
     "metadata": {},
     "output_type": "display_data"
    }
   ],
   "source": [
    "# You imported DecisionTreeRegressor in your last exercise\n",
    "# and that code has been copied to the setup code above. So, no need to\n",
    "# import it again\n",
    "\n",
    "# Specify the model\n",
    "iowa_model = DecisionTreeRegressor(random_state=1)\n",
    "\n",
    "# Fit iowa_model with the training data.\n",
    "iowa_model.fit(train_X,train_y)\n",
    "\n",
    "# Check your answer\n",
    "step_2.check()"
   ]
  },
  {
   "cell_type": "code",
   "execution_count": 5,
   "id": "451b7e14",
   "metadata": {
    "execution": {
     "iopub.execute_input": "2022-05-24T18:17:56.655033Z",
     "iopub.status.busy": "2022-05-24T18:17:56.654454Z",
     "iopub.status.idle": "2022-05-24T18:17:56.658010Z",
     "shell.execute_reply": "2022-05-24T18:17:56.657420Z"
    },
    "papermill": {
     "duration": 0.026558,
     "end_time": "2022-05-24T18:17:56.659908",
     "exception": false,
     "start_time": "2022-05-24T18:17:56.633350",
     "status": "completed"
    },
    "tags": []
   },
   "outputs": [],
   "source": [
    "# step_2.hint()\n",
    "# step_2.solution()"
   ]
  },
  {
   "cell_type": "markdown",
   "id": "5eb63921",
   "metadata": {
    "papermill": {
     "duration": 0.019996,
     "end_time": "2022-05-24T18:17:56.699646",
     "exception": false,
     "start_time": "2022-05-24T18:17:56.679650",
     "status": "completed"
    },
    "tags": []
   },
   "source": [
    "## Step 3: Make Predictions with Validation data\n"
   ]
  },
  {
   "cell_type": "code",
   "execution_count": 6,
   "id": "7af3f37e",
   "metadata": {
    "execution": {
     "iopub.execute_input": "2022-05-24T18:17:56.742333Z",
     "iopub.status.busy": "2022-05-24T18:17:56.741721Z",
     "iopub.status.idle": "2022-05-24T18:17:56.753800Z",
     "shell.execute_reply": "2022-05-24T18:17:56.752850Z"
    },
    "papermill": {
     "duration": 0.035496,
     "end_time": "2022-05-24T18:17:56.755936",
     "exception": false,
     "start_time": "2022-05-24T18:17:56.720440",
     "status": "completed"
    },
    "tags": []
   },
   "outputs": [
    {
     "data": {
      "application/javascript": [
       "parent.postMessage({\"jupyterEvent\": \"custom.exercise_interaction\", \"data\": {\"outcomeType\": 1, \"valueTowardsCompletion\": 0.25, \"interactionType\": 1, \"questionType\": 2, \"questionId\": \"3_ValPreds\", \"learnToolsVersion\": \"0.3.4\", \"failureMessage\": \"\", \"exceptionClass\": \"\", \"trace\": \"\"}}, \"*\")"
      ],
      "text/plain": [
       "<IPython.core.display.Javascript object>"
      ]
     },
     "metadata": {},
     "output_type": "display_data"
    },
    {
     "data": {
      "text/markdown": [
       "<span style=\"color:#33cc33\">Correct</span>"
      ],
      "text/plain": [
       "Correct"
      ]
     },
     "metadata": {},
     "output_type": "display_data"
    }
   ],
   "source": [
    "# Predict with all validation observations\n",
    "val_predictions = iowa_model.predict(val_X)\n",
    "\n",
    "# Check your answer\n",
    "step_3.check()"
   ]
  },
  {
   "cell_type": "code",
   "execution_count": 7,
   "id": "1e4bacf6",
   "metadata": {
    "execution": {
     "iopub.execute_input": "2022-05-24T18:17:56.799956Z",
     "iopub.status.busy": "2022-05-24T18:17:56.799372Z",
     "iopub.status.idle": "2022-05-24T18:17:56.802957Z",
     "shell.execute_reply": "2022-05-24T18:17:56.802358Z"
    },
    "papermill": {
     "duration": 0.028328,
     "end_time": "2022-05-24T18:17:56.804904",
     "exception": false,
     "start_time": "2022-05-24T18:17:56.776576",
     "status": "completed"
    },
    "tags": []
   },
   "outputs": [],
   "source": [
    "# step_3.hint()\n",
    "# step_3.solution()"
   ]
  },
  {
   "cell_type": "markdown",
   "id": "961781a7",
   "metadata": {
    "papermill": {
     "duration": 0.021437,
     "end_time": "2022-05-24T18:17:56.847757",
     "exception": false,
     "start_time": "2022-05-24T18:17:56.826320",
     "status": "completed"
    },
    "tags": []
   },
   "source": [
    "Inspect your predictions and actual values from validation data."
   ]
  },
  {
   "cell_type": "code",
   "execution_count": 8,
   "id": "1a2f6665",
   "metadata": {
    "execution": {
     "iopub.execute_input": "2022-05-24T18:17:56.894734Z",
     "iopub.status.busy": "2022-05-24T18:17:56.893852Z",
     "iopub.status.idle": "2022-05-24T18:17:56.903000Z",
     "shell.execute_reply": "2022-05-24T18:17:56.901885Z"
    },
    "papermill": {
     "duration": 0.035927,
     "end_time": "2022-05-24T18:17:56.905255",
     "exception": false,
     "start_time": "2022-05-24T18:17:56.869328",
     "status": "completed"
    },
    "tags": []
   },
   "outputs": [
    {
     "name": "stdout",
     "output_type": "stream",
     "text": [
      "[186500. 184000. 130000.  92000. 164500.]\n",
      "6       307000\n",
      "807     223500\n",
      "955     145000\n",
      "1040    155000\n",
      "701     140000\n",
      "Name: SalePrice, dtype: int64\n"
     ]
    }
   ],
   "source": [
    "# print the top few validation predictions\n",
    "print(iowa_model.predict(val_X.head()))\n",
    "# print the top few actual prices from validation data\n",
    "print(train_y.head())"
   ]
  },
  {
   "cell_type": "markdown",
   "id": "82b92939",
   "metadata": {
    "papermill": {
     "duration": 0.021579,
     "end_time": "2022-05-24T18:17:56.948491",
     "exception": false,
     "start_time": "2022-05-24T18:17:56.926912",
     "status": "completed"
    },
    "tags": []
   },
   "source": [
    "What do you notice that is different from what you saw with in-sample predictions (which are printed after the top code cell in this page).\n",
    "\n",
    "Do you remember why validation predictions differ from in-sample (or training) predictions? This is an important idea from the last lesson.\n",
    "\n",
    "## Step 4: Calculate the Mean Absolute Error in Validation Data\n"
   ]
  },
  {
   "cell_type": "code",
   "execution_count": 9,
   "id": "fb9e03e3",
   "metadata": {
    "execution": {
     "iopub.execute_input": "2022-05-24T18:17:56.993671Z",
     "iopub.status.busy": "2022-05-24T18:17:56.992973Z",
     "iopub.status.idle": "2022-05-24T18:17:57.003350Z",
     "shell.execute_reply": "2022-05-24T18:17:57.002431Z"
    },
    "papermill": {
     "duration": 0.035561,
     "end_time": "2022-05-24T18:17:57.005666",
     "exception": false,
     "start_time": "2022-05-24T18:17:56.970105",
     "status": "completed"
    },
    "tags": []
   },
   "outputs": [
    {
     "name": "stdout",
     "output_type": "stream",
     "text": [
      "29652.931506849316\n"
     ]
    },
    {
     "data": {
      "application/javascript": [
       "parent.postMessage({\"jupyterEvent\": \"custom.exercise_interaction\", \"data\": {\"outcomeType\": 1, \"valueTowardsCompletion\": 0.25, \"interactionType\": 1, \"questionType\": 1, \"questionId\": \"4_MAE\", \"learnToolsVersion\": \"0.3.4\", \"failureMessage\": \"\", \"exceptionClass\": \"\", \"trace\": \"\"}}, \"*\")"
      ],
      "text/plain": [
       "<IPython.core.display.Javascript object>"
      ]
     },
     "metadata": {},
     "output_type": "display_data"
    },
    {
     "data": {
      "text/markdown": [
       "<span style=\"color:#33cc33\">Correct</span>"
      ],
      "text/plain": [
       "Correct"
      ]
     },
     "metadata": {},
     "output_type": "display_data"
    }
   ],
   "source": [
    "from sklearn.metrics import mean_absolute_error\n",
    "val_mae = mean_absolute_error(val_y,val_predictions)\n",
    "\n",
    "# uncomment following line to see the validation_mae\n",
    "print(val_mae)\n",
    "\n",
    "# Check your answer\n",
    "step_4.check()"
   ]
  },
  {
   "cell_type": "code",
   "execution_count": 10,
   "id": "a47290e4",
   "metadata": {
    "execution": {
     "iopub.execute_input": "2022-05-24T18:17:57.055381Z",
     "iopub.status.busy": "2022-05-24T18:17:57.055067Z",
     "iopub.status.idle": "2022-05-24T18:17:57.058034Z",
     "shell.execute_reply": "2022-05-24T18:17:57.057370Z"
    },
    "papermill": {
     "duration": 0.029817,
     "end_time": "2022-05-24T18:17:57.059866",
     "exception": false,
     "start_time": "2022-05-24T18:17:57.030049",
     "status": "completed"
    },
    "tags": []
   },
   "outputs": [],
   "source": [
    "# step_4.hint()\n",
    "# step_4.solution()"
   ]
  },
  {
   "cell_type": "markdown",
   "id": "5182ccc2",
   "metadata": {
    "papermill": {
     "duration": 0.02342,
     "end_time": "2022-05-24T18:17:57.108414",
     "exception": false,
     "start_time": "2022-05-24T18:17:57.084994",
     "status": "completed"
    },
    "tags": []
   },
   "source": [
    "Is that MAE good?  There isn't a general rule for what values are good that applies across applications. But you'll see how to use (and improve) this number in the next step.\n",
    "\n",
    "# Keep Going\n",
    "\n",
    "You are ready for **[Underfitting and Overfitting](https://www.kaggle.com/dansbecker/underfitting-and-overfitting).**\n"
   ]
  },
  {
   "cell_type": "markdown",
   "id": "0dc43b85",
   "metadata": {
    "papermill": {
     "duration": 0.028938,
     "end_time": "2022-05-24T18:17:57.162088",
     "exception": false,
     "start_time": "2022-05-24T18:17:57.133150",
     "status": "completed"
    },
    "tags": []
   },
   "source": [
    "---\n",
    "\n",
    "\n",
    "\n",
    "\n",
    "*Have questions or comments? Visit the [course discussion forum](https://www.kaggle.com/learn/intro-to-machine-learning/discussion) to chat with other learners.*"
   ]
  }
 ],
 "metadata": {
  "kernelspec": {
   "display_name": "Python 3",
   "language": "python",
   "name": "python3"
  },
  "language_info": {
   "codemirror_mode": {
    "name": "ipython",
    "version": 3
   },
   "file_extension": ".py",
   "mimetype": "text/x-python",
   "name": "python",
   "nbconvert_exporter": "python",
   "pygments_lexer": "ipython3",
   "version": "3.7.12"
  },
  "papermill": {
   "default_parameters": {},
   "duration": 14.072799,
   "end_time": "2022-05-24T18:17:58.013058",
   "environment_variables": {},
   "exception": null,
   "input_path": "__notebook__.ipynb",
   "output_path": "__notebook__.ipynb",
   "parameters": {},
   "start_time": "2022-05-24T18:17:43.940259",
   "version": "2.3.4"
  }
 },
 "nbformat": 4,
 "nbformat_minor": 5
}
