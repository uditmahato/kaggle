{
 "cells": [
  {
   "cell_type": "markdown",
   "id": "cdfc0c22",
   "metadata": {
    "papermill": {
     "duration": 0.0183,
     "end_time": "2022-05-19T18:53:37.760147",
     "exception": false,
     "start_time": "2022-05-19T18:53:37.741847",
     "status": "completed"
    },
    "tags": []
   },
   "source": [
    "**This notebook is an exercise in the [Pandas](https://www.kaggle.com/learn/pandas) course.  You can reference the tutorial at [this link](https://www.kaggle.com/residentmario/data-types-and-missing-values).**\n",
    "\n",
    "---\n"
   ]
  },
  {
   "cell_type": "markdown",
   "id": "290dbe2d",
   "metadata": {
    "papermill": {
     "duration": 0.016053,
     "end_time": "2022-05-19T18:53:37.792921",
     "exception": false,
     "start_time": "2022-05-19T18:53:37.776868",
     "status": "completed"
    },
    "tags": []
   },
   "source": [
    "# Introduction\n",
    "\n",
    "Run the following cell to load your data and some utility functions."
   ]
  },
  {
   "cell_type": "code",
   "execution_count": 1,
   "id": "fbb48a22",
   "metadata": {
    "execution": {
     "iopub.execute_input": "2022-05-19T18:53:37.828814Z",
     "iopub.status.busy": "2022-05-19T18:53:37.828342Z",
     "iopub.status.idle": "2022-05-19T18:53:40.752489Z",
     "shell.execute_reply": "2022-05-19T18:53:40.751692Z"
    },
    "papermill": {
     "duration": 2.944592,
     "end_time": "2022-05-19T18:53:40.755303",
     "exception": false,
     "start_time": "2022-05-19T18:53:37.810711",
     "status": "completed"
    },
    "tags": []
   },
   "outputs": [
    {
     "name": "stdout",
     "output_type": "stream",
     "text": [
      "Setup complete.\n"
     ]
    }
   ],
   "source": [
    "import pandas as pd\n",
    "\n",
    "reviews = pd.read_csv(\"../input/wine-reviews/winemag-data-130k-v2.csv\", index_col=0)\n",
    "\n",
    "from learntools.core import binder; binder.bind(globals())\n",
    "from learntools.pandas.data_types_and_missing_data import *\n",
    "print(\"Setup complete.\")"
   ]
  },
  {
   "cell_type": "markdown",
   "id": "f1265fee",
   "metadata": {
    "papermill": {
     "duration": 0.016521,
     "end_time": "2022-05-19T18:53:40.789773",
     "exception": false,
     "start_time": "2022-05-19T18:53:40.773252",
     "status": "completed"
    },
    "tags": []
   },
   "source": [
    "# Exercises"
   ]
  },
  {
   "cell_type": "markdown",
   "id": "0fa1b9c6",
   "metadata": {
    "papermill": {
     "duration": 0.01653,
     "end_time": "2022-05-19T18:53:40.822969",
     "exception": false,
     "start_time": "2022-05-19T18:53:40.806439",
     "status": "completed"
    },
    "tags": []
   },
   "source": [
    "## 1. \n",
    "What is the data type of the `points` column in the dataset?"
   ]
  },
  {
   "cell_type": "code",
   "execution_count": 2,
   "id": "041c1723",
   "metadata": {
    "execution": {
     "iopub.execute_input": "2022-05-19T18:53:40.857975Z",
     "iopub.status.busy": "2022-05-19T18:53:40.857665Z",
     "iopub.status.idle": "2022-05-19T18:53:40.868168Z",
     "shell.execute_reply": "2022-05-19T18:53:40.867377Z"
    },
    "papermill": {
     "duration": 0.030318,
     "end_time": "2022-05-19T18:53:40.870117",
     "exception": false,
     "start_time": "2022-05-19T18:53:40.839799",
     "status": "completed"
    },
    "tags": []
   },
   "outputs": [
    {
     "data": {
      "application/javascript": [
       "parent.postMessage({\"jupyterEvent\": \"custom.exercise_interaction\", \"data\": {\"outcomeType\": 1, \"valueTowardsCompletion\": 0.25, \"interactionType\": 1, \"questionType\": 1, \"questionId\": \"1_PointsDtype\", \"learnToolsVersion\": \"0.3.4\", \"failureMessage\": \"\", \"exceptionClass\": \"\", \"trace\": \"\"}}, \"*\")"
      ],
      "text/plain": [
       "<IPython.core.display.Javascript object>"
      ]
     },
     "metadata": {},
     "output_type": "display_data"
    },
    {
     "data": {
      "text/markdown": [
       "<span style=\"color:#33cc33\">Correct</span>"
      ],
      "text/plain": [
       "Correct"
      ]
     },
     "metadata": {},
     "output_type": "display_data"
    }
   ],
   "source": [
    "# Your code here\n",
    "dtype = reviews.points.dtype\n",
    "\n",
    "# Check your answer\n",
    "q1.check()"
   ]
  },
  {
   "cell_type": "code",
   "execution_count": 3,
   "id": "80c9a4d2",
   "metadata": {
    "execution": {
     "iopub.execute_input": "2022-05-19T18:53:40.909143Z",
     "iopub.status.busy": "2022-05-19T18:53:40.908639Z",
     "iopub.status.idle": "2022-05-19T18:53:40.911695Z",
     "shell.execute_reply": "2022-05-19T18:53:40.911009Z"
    },
    "papermill": {
     "duration": 0.024838,
     "end_time": "2022-05-19T18:53:40.913565",
     "exception": false,
     "start_time": "2022-05-19T18:53:40.888727",
     "status": "completed"
    },
    "tags": []
   },
   "outputs": [],
   "source": [
    "#q1.hint()\n",
    "#q1.solution()\n"
   ]
  },
  {
   "cell_type": "markdown",
   "id": "a26991fe",
   "metadata": {
    "papermill": {
     "duration": 0.017793,
     "end_time": "2022-05-19T18:53:40.949480",
     "exception": false,
     "start_time": "2022-05-19T18:53:40.931687",
     "status": "completed"
    },
    "tags": []
   },
   "source": [
    "## 2. \n",
    "Create a Series from entries in the `points` column, but convert the entries to strings. Hint: strings are `str` in native Python."
   ]
  },
  {
   "cell_type": "code",
   "execution_count": 4,
   "id": "9e2fef51",
   "metadata": {
    "execution": {
     "iopub.execute_input": "2022-05-19T18:53:40.987061Z",
     "iopub.status.busy": "2022-05-19T18:53:40.986753Z",
     "iopub.status.idle": "2022-05-19T18:53:41.130217Z",
     "shell.execute_reply": "2022-05-19T18:53:41.129623Z"
    },
    "papermill": {
     "duration": 0.164307,
     "end_time": "2022-05-19T18:53:41.131993",
     "exception": false,
     "start_time": "2022-05-19T18:53:40.967686",
     "status": "completed"
    },
    "tags": []
   },
   "outputs": [
    {
     "data": {
      "application/javascript": [
       "parent.postMessage({\"jupyterEvent\": \"custom.exercise_interaction\", \"data\": {\"outcomeType\": 1, \"valueTowardsCompletion\": 0.25, \"interactionType\": 1, \"questionType\": 1, \"questionId\": \"2_StrPoints\", \"learnToolsVersion\": \"0.3.4\", \"failureMessage\": \"\", \"exceptionClass\": \"\", \"trace\": \"\"}}, \"*\")"
      ],
      "text/plain": [
       "<IPython.core.display.Javascript object>"
      ]
     },
     "metadata": {},
     "output_type": "display_data"
    },
    {
     "data": {
      "text/markdown": [
       "<span style=\"color:#33cc33\">Correct</span>"
      ],
      "text/plain": [
       "Correct"
      ]
     },
     "metadata": {},
     "output_type": "display_data"
    }
   ],
   "source": [
    "point_strings =reviews.points.astype('str')\n",
    "\n",
    "# Check your answer\n",
    "q2.check()"
   ]
  },
  {
   "cell_type": "code",
   "execution_count": 5,
   "id": "1f7a8576",
   "metadata": {
    "execution": {
     "iopub.execute_input": "2022-05-19T18:53:41.172313Z",
     "iopub.status.busy": "2022-05-19T18:53:41.171845Z",
     "iopub.status.idle": "2022-05-19T18:53:41.175903Z",
     "shell.execute_reply": "2022-05-19T18:53:41.175063Z"
    },
    "papermill": {
     "duration": 0.026858,
     "end_time": "2022-05-19T18:53:41.177993",
     "exception": false,
     "start_time": "2022-05-19T18:53:41.151135",
     "status": "completed"
    },
    "tags": []
   },
   "outputs": [],
   "source": [
    "#q2.hint()\n",
    "#q2.solution()"
   ]
  },
  {
   "cell_type": "code",
   "execution_count": 6,
   "id": "b01e3207",
   "metadata": {
    "execution": {
     "iopub.execute_input": "2022-05-19T18:53:41.217948Z",
     "iopub.status.busy": "2022-05-19T18:53:41.217626Z",
     "iopub.status.idle": "2022-05-19T18:53:41.237927Z",
     "shell.execute_reply": "2022-05-19T18:53:41.237109Z"
    },
    "papermill": {
     "duration": 0.042838,
     "end_time": "2022-05-19T18:53:41.240088",
     "exception": false,
     "start_time": "2022-05-19T18:53:41.197250",
     "status": "completed"
    },
    "tags": []
   },
   "outputs": [
    {
     "data": {
      "text/html": [
       "<div>\n",
       "<style scoped>\n",
       "    .dataframe tbody tr th:only-of-type {\n",
       "        vertical-align: middle;\n",
       "    }\n",
       "\n",
       "    .dataframe tbody tr th {\n",
       "        vertical-align: top;\n",
       "    }\n",
       "\n",
       "    .dataframe thead th {\n",
       "        text-align: right;\n",
       "    }\n",
       "</style>\n",
       "<table border=\"1\" class=\"dataframe\">\n",
       "  <thead>\n",
       "    <tr style=\"text-align: right;\">\n",
       "      <th></th>\n",
       "      <th>country</th>\n",
       "      <th>description</th>\n",
       "      <th>designation</th>\n",
       "      <th>points</th>\n",
       "      <th>price</th>\n",
       "      <th>province</th>\n",
       "      <th>region_1</th>\n",
       "      <th>region_2</th>\n",
       "      <th>taster_name</th>\n",
       "      <th>taster_twitter_handle</th>\n",
       "      <th>title</th>\n",
       "      <th>variety</th>\n",
       "      <th>winery</th>\n",
       "    </tr>\n",
       "  </thead>\n",
       "  <tbody>\n",
       "    <tr>\n",
       "      <th>0</th>\n",
       "      <td>Italy</td>\n",
       "      <td>Aromas include tropical fruit, broom, brimston...</td>\n",
       "      <td>Vulkà Bianco</td>\n",
       "      <td>87</td>\n",
       "      <td>NaN</td>\n",
       "      <td>Sicily &amp; Sardinia</td>\n",
       "      <td>Etna</td>\n",
       "      <td>NaN</td>\n",
       "      <td>Kerin O’Keefe</td>\n",
       "      <td>@kerinokeefe</td>\n",
       "      <td>Nicosia 2013 Vulkà Bianco  (Etna)</td>\n",
       "      <td>White Blend</td>\n",
       "      <td>Nicosia</td>\n",
       "    </tr>\n",
       "    <tr>\n",
       "      <th>1</th>\n",
       "      <td>Portugal</td>\n",
       "      <td>This is ripe and fruity, a wine that is smooth...</td>\n",
       "      <td>Avidagos</td>\n",
       "      <td>87</td>\n",
       "      <td>15.0</td>\n",
       "      <td>Douro</td>\n",
       "      <td>NaN</td>\n",
       "      <td>NaN</td>\n",
       "      <td>Roger Voss</td>\n",
       "      <td>@vossroger</td>\n",
       "      <td>Quinta dos Avidagos 2011 Avidagos Red (Douro)</td>\n",
       "      <td>Portuguese Red</td>\n",
       "      <td>Quinta dos Avidagos</td>\n",
       "    </tr>\n",
       "  </tbody>\n",
       "</table>\n",
       "</div>"
      ],
      "text/plain": [
       "    country                                        description   designation  \\\n",
       "0     Italy  Aromas include tropical fruit, broom, brimston...  Vulkà Bianco   \n",
       "1  Portugal  This is ripe and fruity, a wine that is smooth...      Avidagos   \n",
       "\n",
       "   points  price           province region_1 region_2    taster_name  \\\n",
       "0      87    NaN  Sicily & Sardinia     Etna      NaN  Kerin O’Keefe   \n",
       "1      87   15.0              Douro      NaN      NaN     Roger Voss   \n",
       "\n",
       "  taster_twitter_handle                                          title  \\\n",
       "0          @kerinokeefe              Nicosia 2013 Vulkà Bianco  (Etna)   \n",
       "1            @vossroger  Quinta dos Avidagos 2011 Avidagos Red (Douro)   \n",
       "\n",
       "          variety               winery  \n",
       "0     White Blend              Nicosia  \n",
       "1  Portuguese Red  Quinta dos Avidagos  "
      ]
     },
     "execution_count": 6,
     "metadata": {},
     "output_type": "execute_result"
    }
   ],
   "source": [
    "reviews.head(2)"
   ]
  },
  {
   "cell_type": "markdown",
   "id": "9ea64e8e",
   "metadata": {
    "papermill": {
     "duration": 0.019835,
     "end_time": "2022-05-19T18:53:41.279753",
     "exception": false,
     "start_time": "2022-05-19T18:53:41.259918",
     "status": "completed"
    },
    "tags": []
   },
   "source": [
    "## 3.\n",
    "Sometimes the price column is null. How many reviews in the dataset are missing a price?"
   ]
  },
  {
   "cell_type": "code",
   "execution_count": 7,
   "id": "57e50ce6",
   "metadata": {
    "execution": {
     "iopub.execute_input": "2022-05-19T18:53:41.321183Z",
     "iopub.status.busy": "2022-05-19T18:53:41.320675Z",
     "iopub.status.idle": "2022-05-19T18:53:41.334718Z",
     "shell.execute_reply": "2022-05-19T18:53:41.334070Z"
    },
    "papermill": {
     "duration": 0.036836,
     "end_time": "2022-05-19T18:53:41.336453",
     "exception": false,
     "start_time": "2022-05-19T18:53:41.299617",
     "status": "completed"
    },
    "tags": []
   },
   "outputs": [
    {
     "name": "stdout",
     "output_type": "stream",
     "text": [
      "8996\n"
     ]
    },
    {
     "data": {
      "application/javascript": [
       "parent.postMessage({\"jupyterEvent\": \"custom.exercise_interaction\", \"data\": {\"outcomeType\": 1, \"valueTowardsCompletion\": 0.25, \"interactionType\": 1, \"questionType\": 1, \"questionId\": \"3_CountMissingPrices\", \"learnToolsVersion\": \"0.3.4\", \"failureMessage\": \"\", \"exceptionClass\": \"\", \"trace\": \"\"}}, \"*\")"
      ],
      "text/plain": [
       "<IPython.core.display.Javascript object>"
      ]
     },
     "metadata": {},
     "output_type": "display_data"
    },
    {
     "data": {
      "text/markdown": [
       "<span style=\"color:#33cc33\">Correct</span>"
      ],
      "text/plain": [
       "Correct"
      ]
     },
     "metadata": {},
     "output_type": "display_data"
    }
   ],
   "source": [
    "missing_price_reviews = reviews[reviews.price.isnull()]\n",
    "n_missing_prices=len(missing_price_reviews)\n",
    "print(n_missing_prices)\n",
    "\n",
    "# Check your answer\n",
    "q3.check()"
   ]
  },
  {
   "cell_type": "code",
   "execution_count": 8,
   "id": "99a567f2",
   "metadata": {
    "execution": {
     "iopub.execute_input": "2022-05-19T18:53:41.382258Z",
     "iopub.status.busy": "2022-05-19T18:53:41.381807Z",
     "iopub.status.idle": "2022-05-19T18:53:41.384663Z",
     "shell.execute_reply": "2022-05-19T18:53:41.384074Z"
    },
    "papermill": {
     "duration": 0.027103,
     "end_time": "2022-05-19T18:53:41.386417",
     "exception": false,
     "start_time": "2022-05-19T18:53:41.359314",
     "status": "completed"
    },
    "tags": []
   },
   "outputs": [],
   "source": [
    "#q3.hint()\n",
    "# q3.solution()"
   ]
  },
  {
   "cell_type": "markdown",
   "id": "152c7e3e",
   "metadata": {
    "papermill": {
     "duration": 0.02082,
     "end_time": "2022-05-19T18:53:41.428521",
     "exception": false,
     "start_time": "2022-05-19T18:53:41.407701",
     "status": "completed"
    },
    "tags": []
   },
   "source": [
    "## 4.\n",
    "What are the most common wine-producing regions? Create a Series counting the number of times each value occurs in the `region_1` field. This field is often missing data, so replace missing values with `Unknown`. Sort in descending order.  Your output should look something like this:\n",
    "\n",
    "```\n",
    "Unknown                    21247\n",
    "Napa Valley                 4480\n",
    "                           ...  \n",
    "Bardolino Superiore            1\n",
    "Primitivo del Tarantino        1\n",
    "Name: region_1, Length: 1230, dtype: int64\n",
    "```"
   ]
  },
  {
   "cell_type": "code",
   "execution_count": 9,
   "id": "937c47a3",
   "metadata": {
    "execution": {
     "iopub.execute_input": "2022-05-19T18:53:41.472702Z",
     "iopub.status.busy": "2022-05-19T18:53:41.472201Z",
     "iopub.status.idle": "2022-05-19T18:53:41.514323Z",
     "shell.execute_reply": "2022-05-19T18:53:41.513145Z"
    },
    "papermill": {
     "duration": 0.066582,
     "end_time": "2022-05-19T18:53:41.516318",
     "exception": false,
     "start_time": "2022-05-19T18:53:41.449736",
     "status": "completed"
    },
    "tags": []
   },
   "outputs": [
    {
     "data": {
      "text/plain": [
       "Paestum                     1\n",
       "Isle St. George             1\n",
       "Corton Perrières            1\n",
       "Offida Rosso                1\n",
       "Clairette de Die            1\n",
       "                        ...  \n",
       "California               2629\n",
       "Russian River Valley     3091\n",
       "Columbia Valley (WA)     4124\n",
       "Napa Valley              4480\n",
       "uknown                  21247\n",
       "Name: region_1, Length: 1230, dtype: int64"
      ]
     },
     "execution_count": 9,
     "metadata": {},
     "output_type": "execute_result"
    }
   ],
   "source": [
    "reviews_per_region = reviews.region_1.fillna('uknown').value_counts().sort_values(ascending=True)\n",
    "reviews_per_region\n",
    "# Check your answer\n",
    "# q4.check()"
   ]
  },
  {
   "cell_type": "code",
   "execution_count": 10,
   "id": "a5a3a0d2",
   "metadata": {
    "execution": {
     "iopub.execute_input": "2022-05-19T18:53:41.561197Z",
     "iopub.status.busy": "2022-05-19T18:53:41.560912Z",
     "iopub.status.idle": "2022-05-19T18:53:41.564093Z",
     "shell.execute_reply": "2022-05-19T18:53:41.563316Z"
    },
    "papermill": {
     "duration": 0.028085,
     "end_time": "2022-05-19T18:53:41.566121",
     "exception": false,
     "start_time": "2022-05-19T18:53:41.538036",
     "status": "completed"
    },
    "tags": []
   },
   "outputs": [],
   "source": [
    "#q4.hint()\n",
    "#q4.solution()"
   ]
  },
  {
   "cell_type": "markdown",
   "id": "cd45eb5b",
   "metadata": {
    "papermill": {
     "duration": 0.021214,
     "end_time": "2022-05-19T18:53:41.609034",
     "exception": false,
     "start_time": "2022-05-19T18:53:41.587820",
     "status": "completed"
    },
    "tags": []
   },
   "source": [
    "# Keep going\n",
    "\n",
    "Move on to **[renaming and combining](https://www.kaggle.com/residentmario/renaming-and-combining)**."
   ]
  },
  {
   "cell_type": "markdown",
   "id": "a4d28373",
   "metadata": {
    "papermill": {
     "duration": 0.021167,
     "end_time": "2022-05-19T18:53:41.651682",
     "exception": false,
     "start_time": "2022-05-19T18:53:41.630515",
     "status": "completed"
    },
    "tags": []
   },
   "source": [
    "---\n",
    "\n",
    "\n",
    "\n",
    "\n",
    "*Have questions or comments? Visit the [course discussion forum](https://www.kaggle.com/learn/pandas/discussion) to chat with other learners.*"
   ]
  }
 ],
 "metadata": {
  "kernelspec": {
   "display_name": "Python 3",
   "language": "python",
   "name": "python3"
  },
  "language_info": {
   "codemirror_mode": {
    "name": "ipython",
    "version": 3
   },
   "file_extension": ".py",
   "mimetype": "text/x-python",
   "name": "python",
   "nbconvert_exporter": "python",
   "pygments_lexer": "ipython3",
   "version": "3.7.12"
  },
  "papermill": {
   "default_parameters": {},
   "duration": 14.699889,
   "end_time": "2022-05-19T18:53:42.393125",
   "environment_variables": {},
   "exception": null,
   "input_path": "__notebook__.ipynb",
   "output_path": "__notebook__.ipynb",
   "parameters": {},
   "start_time": "2022-05-19T18:53:27.693236",
   "version": "2.3.4"
  }
 },
 "nbformat": 4,
 "nbformat_minor": 5
}
