{
 "cells": [
  {
   "cell_type": "markdown",
   "id": "0dac9243",
   "metadata": {
    "papermill": {
     "duration": 0.008458,
     "end_time": "2022-06-04T17:25:50.521474",
     "exception": false,
     "start_time": "2022-06-04T17:25:50.513016",
     "status": "completed"
    },
    "tags": []
   },
   "source": [
    "**This notebook is an exercise in the [Intro to Programming](https://www.kaggle.com/learn/intro-to-programming) course.  You can reference the tutorial at [this link](https://www.kaggle.com/alexisbcook/functions).**\n",
    "\n",
    "---\n"
   ]
  },
  {
   "cell_type": "markdown",
   "id": "18519136",
   "metadata": {
    "papermill": {
     "duration": 0.004742,
     "end_time": "2022-06-04T17:25:50.531550",
     "exception": false,
     "start_time": "2022-06-04T17:25:50.526808",
     "status": "completed"
    },
    "tags": []
   },
   "source": [
    "In the tutorial, you learned about functions. In this exercise, you'll write some of your own!\n",
    "\n",
    "# Set up the notebook\n",
    "\n",
    "Run the next code cell without changes to set up the notebook."
   ]
  },
  {
   "cell_type": "code",
   "execution_count": 1,
   "id": "f96b00c2",
   "metadata": {
    "execution": {
     "iopub.execute_input": "2022-06-04T17:25:50.542943Z",
     "iopub.status.busy": "2022-06-04T17:25:50.542466Z",
     "iopub.status.idle": "2022-06-04T17:25:50.587076Z",
     "shell.execute_reply": "2022-06-04T17:25:50.586386Z"
    },
    "papermill": {
     "duration": 0.052795,
     "end_time": "2022-06-04T17:25:50.589270",
     "exception": false,
     "start_time": "2022-06-04T17:25:50.536475",
     "status": "completed"
    },
    "tags": []
   },
   "outputs": [
    {
     "name": "stdout",
     "output_type": "stream",
     "text": [
      "Setup complete.\n"
     ]
    }
   ],
   "source": [
    "# Set up the exercise\n",
    "import math\n",
    "from learntools.core import binder\n",
    "binder.bind(globals())\n",
    "from learntools.intro_to_programming.ex2 import *\n",
    "print('Setup complete.')"
   ]
  },
  {
   "cell_type": "markdown",
   "id": "fb0824e3",
   "metadata": {
    "papermill": {
     "duration": 0.004824,
     "end_time": "2022-06-04T17:25:50.600060",
     "exception": false,
     "start_time": "2022-06-04T17:25:50.595236",
     "status": "completed"
    },
    "tags": []
   },
   "source": [
    "# Question 1\n",
    "\n",
    "In the [House Prices - Advanced Regression Techniques competition](https://www.kaggle.com/c/house-prices-advanced-regression-techniques/overview), you need to use information like the number of bedrooms and bathrooms to predict the price of a house.  Inspired by this competition, you'll write your own function to do this.\n",
    "\n",
    "In the next code cell, create a function `get_expected_cost()` that has two arguments:\n",
    "- `beds` - number of bedrooms \n",
    "- `baths` - number of bathrooms\n",
    "\n",
    "It should return the expected cost of a house with that number of bedrooms and bathrooms.  Assume that:\n",
    "- the expected cost for a house with 0 bedrooms and 0 bathrooms is `80000`.  \n",
    "- each bedroom adds `30000` to the expected cost\n",
    "- each bathroom adds `10000` to the expected cost.\n",
    "\n",
    "For instance, \n",
    "- a house with 1 bedroom and 1 bathroom has an expected cost of `120000`, and \n",
    "- a house with 2 bedrooms and 1 bathroom has an expected cost of `150000`."
   ]
  },
  {
   "cell_type": "code",
   "execution_count": 2,
   "id": "60334e1c",
   "metadata": {
    "execution": {
     "iopub.execute_input": "2022-06-04T17:25:50.611632Z",
     "iopub.status.busy": "2022-06-04T17:25:50.611230Z",
     "iopub.status.idle": "2022-06-04T17:25:50.622016Z",
     "shell.execute_reply": "2022-06-04T17:25:50.621128Z"
    },
    "papermill": {
     "duration": 0.018972,
     "end_time": "2022-06-04T17:25:50.624008",
     "exception": false,
     "start_time": "2022-06-04T17:25:50.605036",
     "status": "completed"
    },
    "tags": []
   },
   "outputs": [
    {
     "data": {
      "application/javascript": [
       "parent.postMessage({\"jupyterEvent\": \"custom.exercise_interaction\", \"data\": {\"outcomeType\": 1, \"valueTowardsCompletion\": 0.2, \"interactionType\": 1, \"questionType\": 2, \"questionId\": \"1_GetExpectedCost\", \"learnToolsVersion\": \"0.3.4\", \"failureMessage\": \"\", \"exceptionClass\": \"\", \"trace\": \"\"}}, \"*\")"
      ],
      "text/plain": [
       "<IPython.core.display.Javascript object>"
      ]
     },
     "metadata": {},
     "output_type": "display_data"
    },
    {
     "data": {
      "text/markdown": [
       "<span style=\"color:#33cc33\">Correct</span>"
      ],
      "text/plain": [
       "Correct"
      ]
     },
     "metadata": {},
     "output_type": "display_data"
    }
   ],
   "source": [
    "# TODO: Complete the function\n",
    "def get_expected_cost(beds, baths):\n",
    "    value = 80000+beds*30000+baths*10000\n",
    "    return value\n",
    "\n",
    "# Check your answer \n",
    "q1.check()"
   ]
  },
  {
   "cell_type": "code",
   "execution_count": 3,
   "id": "e51fb80c",
   "metadata": {
    "execution": {
     "iopub.execute_input": "2022-06-04T17:25:50.636179Z",
     "iopub.status.busy": "2022-06-04T17:25:50.635809Z",
     "iopub.status.idle": "2022-06-04T17:25:50.639267Z",
     "shell.execute_reply": "2022-06-04T17:25:50.638299Z"
    },
    "papermill": {
     "duration": 0.01176,
     "end_time": "2022-06-04T17:25:50.641102",
     "exception": false,
     "start_time": "2022-06-04T17:25:50.629342",
     "status": "completed"
    },
    "tags": []
   },
   "outputs": [],
   "source": [
    "# Uncomment to see a hint\n",
    "#q1.hint()\n",
    "\n",
    "# Uncomment to view the solution\n",
    "#q1.solution()"
   ]
  },
  {
   "cell_type": "markdown",
   "id": "0dcd557f",
   "metadata": {
    "papermill": {
     "duration": 0.00532,
     "end_time": "2022-06-04T17:25:50.651873",
     "exception": false,
     "start_time": "2022-06-04T17:25:50.646553",
     "status": "completed"
    },
    "tags": []
   },
   "source": [
    "# Question 2\n",
    "\n",
    "You are thinking about buying a home and want to get an idea of how much you will spend, based on the number of bedrooms and bathrooms.  You are trying to decide between four different options:\n",
    "- Option 1: house with two bedrooms and three bathrooms\n",
    "- Option 2: house with three bedrooms and two bathrooms\n",
    "- Option 3: house with three bedrooms and three bathrooms\n",
    "- Option 4: house with three bedrooms and four bathrooms\n",
    "\n",
    "Use the `get_expected_cost()` function you defined in question 1 to set `option_1`, `option_2`, `option_3`, and `option_4` to the expected cost of each option."
   ]
  },
  {
   "cell_type": "code",
   "execution_count": 4,
   "id": "9183c975",
   "metadata": {
    "execution": {
     "iopub.execute_input": "2022-06-04T17:25:50.664311Z",
     "iopub.status.busy": "2022-06-04T17:25:50.663906Z",
     "iopub.status.idle": "2022-06-04T17:25:50.673358Z",
     "shell.execute_reply": "2022-06-04T17:25:50.672209Z"
    },
    "papermill": {
     "duration": 0.018158,
     "end_time": "2022-06-04T17:25:50.675356",
     "exception": false,
     "start_time": "2022-06-04T17:25:50.657198",
     "status": "completed"
    },
    "tags": []
   },
   "outputs": [
    {
     "name": "stdout",
     "output_type": "stream",
     "text": [
      "170000\n",
      "190000\n",
      "200000\n",
      "210000\n"
     ]
    },
    {
     "data": {
      "application/javascript": [
       "parent.postMessage({\"jupyterEvent\": \"custom.exercise_interaction\", \"data\": {\"outcomeType\": 1, \"valueTowardsCompletion\": 0.2, \"interactionType\": 1, \"questionType\": 1, \"questionId\": \"2_RunGetExpectedCost\", \"learnToolsVersion\": \"0.3.4\", \"failureMessage\": \"\", \"exceptionClass\": \"\", \"trace\": \"\"}}, \"*\")"
      ],
      "text/plain": [
       "<IPython.core.display.Javascript object>"
      ]
     },
     "metadata": {},
     "output_type": "display_data"
    },
    {
     "data": {
      "text/markdown": [
       "<span style=\"color:#33cc33\">Correct</span>"
      ],
      "text/plain": [
       "Correct"
      ]
     },
     "metadata": {},
     "output_type": "display_data"
    }
   ],
   "source": [
    "# TODO: Use the get_expected_cost function to fill in each value\n",
    "option_one = get_expected_cost(2, 3)\n",
    "option_two = get_expected_cost(3, 2)\n",
    "option_three = get_expected_cost(3, 3)\n",
    "option_four = get_expected_cost(3, 4)\n",
    "\n",
    "print(option_one)\n",
    "print(option_two)\n",
    "print(option_three)\n",
    "print(option_four)\n",
    "\n",
    "# Check your answer\n",
    "q2.check()"
   ]
  },
  {
   "cell_type": "code",
   "execution_count": 5,
   "id": "81f7c5e2",
   "metadata": {
    "execution": {
     "iopub.execute_input": "2022-06-04T17:25:50.687865Z",
     "iopub.status.busy": "2022-06-04T17:25:50.687442Z",
     "iopub.status.idle": "2022-06-04T17:25:50.691116Z",
     "shell.execute_reply": "2022-06-04T17:25:50.690359Z"
    },
    "papermill": {
     "duration": 0.011921,
     "end_time": "2022-06-04T17:25:50.692907",
     "exception": false,
     "start_time": "2022-06-04T17:25:50.680986",
     "status": "completed"
    },
    "tags": []
   },
   "outputs": [],
   "source": [
    "# Uncomment to see a hint\n",
    "#q2.hint()\n",
    "\n",
    "# Uncomment to view the solution\n",
    "# q2.solution()"
   ]
  },
  {
   "cell_type": "markdown",
   "id": "1d003bd2",
   "metadata": {
    "papermill": {
     "duration": 0.005094,
     "end_time": "2022-06-04T17:25:50.703593",
     "exception": false,
     "start_time": "2022-06-04T17:25:50.698499",
     "status": "completed"
    },
    "tags": []
   },
   "source": [
    "# Question 3\n",
    "\n",
    "You're a home decorator, and you'd like to use Python to streamline some of your work.  Specifically, you're creating a tool that you intend to use to calculate the cost of painting a room.\n",
    "\n",
    "As a first step, define a function `get_cost()` that takes as input:\n",
    "- `sqft_walls` = total square feet of walls to be painted\n",
    "- `sqft_ceiling` = square feet of ceiling to be painted\n",
    "- `sqft_per_gallon` = number of square feet that you can cover with one gallon of paint\n",
    "- `cost_per_gallon` = cost (in dollars) of one gallon of paint\n",
    "\n",
    "It should return the cost (in dollars) of putting one coat of paint on all walls and the ceiling.  Assume you can buy the exact amount of paint that you need, so you can buy partial gallons (e.g., if you need 7.523 gallons, you can buy that exact amount, instead of needing to buy 8 gallons and waste some paint).  Do not round your answer."
   ]
  },
  {
   "cell_type": "code",
   "execution_count": 6,
   "id": "71d109ea",
   "metadata": {
    "execution": {
     "iopub.execute_input": "2022-06-04T17:25:50.716329Z",
     "iopub.status.busy": "2022-06-04T17:25:50.715956Z",
     "iopub.status.idle": "2022-06-04T17:25:50.722822Z",
     "shell.execute_reply": "2022-06-04T17:25:50.722116Z"
    },
    "papermill": {
     "duration": 0.015495,
     "end_time": "2022-06-04T17:25:50.724500",
     "exception": false,
     "start_time": "2022-06-04T17:25:50.709005",
     "status": "completed"
    },
    "tags": []
   },
   "outputs": [
    {
     "data": {
      "application/javascript": [
       "parent.postMessage({\"jupyterEvent\": \"custom.exercise_interaction\", \"data\": {\"outcomeType\": 1, \"valueTowardsCompletion\": 0.2, \"interactionType\": 1, \"questionType\": 2, \"questionId\": \"3_GetCostPaint\", \"learnToolsVersion\": \"0.3.4\", \"failureMessage\": \"\", \"exceptionClass\": \"\", \"trace\": \"\"}}, \"*\")"
      ],
      "text/plain": [
       "<IPython.core.display.Javascript object>"
      ]
     },
     "metadata": {},
     "output_type": "display_data"
    },
    {
     "data": {
      "text/markdown": [
       "<span style=\"color:#33cc33\">Correct</span>"
      ],
      "text/plain": [
       "Correct"
      ]
     },
     "metadata": {},
     "output_type": "display_data"
    }
   ],
   "source": [
    "# TODO: Finish defining the function\n",
    "def get_cost(sqft_walls, sqft_ceiling, sqft_per_gallon, cost_per_gallon):\n",
    "    total_sqft = sqft_walls + sqft_ceiling\n",
    "    gallons_needed = total_sqft / sqft_per_gallon\n",
    "    cost = cost_per_gallon * gallons_needed\n",
    "    return cost\n",
    "\n",
    "# Check your answer\n",
    "q3.check()"
   ]
  },
  {
   "cell_type": "code",
   "execution_count": 7,
   "id": "13b4d7b9",
   "metadata": {
    "execution": {
     "iopub.execute_input": "2022-06-04T17:25:50.738317Z",
     "iopub.status.busy": "2022-06-04T17:25:50.737647Z",
     "iopub.status.idle": "2022-06-04T17:25:50.741230Z",
     "shell.execute_reply": "2022-06-04T17:25:50.740466Z"
    },
    "papermill": {
     "duration": 0.01283,
     "end_time": "2022-06-04T17:25:50.743105",
     "exception": false,
     "start_time": "2022-06-04T17:25:50.730275",
     "status": "completed"
    },
    "tags": []
   },
   "outputs": [],
   "source": [
    "# Uncomment to see a hint\n",
    "#q3.hint()\n",
    "\n",
    "# Uncomment to view the solution\n",
    "# q3.solution()"
   ]
  },
  {
   "cell_type": "markdown",
   "id": "34560b7e",
   "metadata": {
    "papermill": {
     "duration": 0.005223,
     "end_time": "2022-06-04T17:25:50.753995",
     "exception": false,
     "start_time": "2022-06-04T17:25:50.748772",
     "status": "completed"
    },
    "tags": []
   },
   "source": [
    "# Question 4\n",
    "\n",
    "Use the `get_cost()` function you defined in Question 3 to calculate the cost of applying one coat of paint to a room with:\n",
    "- 432 square feet of walls, and\n",
    "- 144 square feet of ceiling.\n",
    "\n",
    "Assume that one gallon of paint covers 400 square feet and costs $15.  As in Question 3, assume you can buy partial gallons of paint.  Do not round your answer."
   ]
  },
  {
   "cell_type": "code",
   "execution_count": 8,
   "id": "87098960",
   "metadata": {
    "execution": {
     "iopub.execute_input": "2022-06-04T17:25:50.767004Z",
     "iopub.status.busy": "2022-06-04T17:25:50.766530Z",
     "iopub.status.idle": "2022-06-04T17:25:50.773713Z",
     "shell.execute_reply": "2022-06-04T17:25:50.773037Z"
    },
    "papermill": {
     "duration": 0.015985,
     "end_time": "2022-06-04T17:25:50.775565",
     "exception": false,
     "start_time": "2022-06-04T17:25:50.759580",
     "status": "completed"
    },
    "tags": []
   },
   "outputs": [
    {
     "data": {
      "application/javascript": [
       "parent.postMessage({\"jupyterEvent\": \"custom.exercise_interaction\", \"data\": {\"outcomeType\": 1, \"valueTowardsCompletion\": 0.2, \"interactionType\": 1, \"questionType\": 1, \"questionId\": \"4_GetCostPaintExample\", \"learnToolsVersion\": \"0.3.4\", \"failureMessage\": \"\", \"exceptionClass\": \"\", \"trace\": \"\"}}, \"*\")"
      ],
      "text/plain": [
       "<IPython.core.display.Javascript object>"
      ]
     },
     "metadata": {},
     "output_type": "display_data"
    },
    {
     "data": {
      "text/markdown": [
       "<span style=\"color:#33cc33\">Correct</span>"
      ],
      "text/plain": [
       "Correct"
      ]
     },
     "metadata": {},
     "output_type": "display_data"
    }
   ],
   "source": [
    "# TODO: Set the project_cost variable to the cost of the project\n",
    "project_cost = get_cost(432, 144, 400, 15) \n",
    "\n",
    "\n",
    "# Check your answer\n",
    "q4.check()"
   ]
  },
  {
   "cell_type": "code",
   "execution_count": 9,
   "id": "bc900229",
   "metadata": {
    "execution": {
     "iopub.execute_input": "2022-06-04T17:25:50.789242Z",
     "iopub.status.busy": "2022-06-04T17:25:50.788712Z",
     "iopub.status.idle": "2022-06-04T17:25:50.791923Z",
     "shell.execute_reply": "2022-06-04T17:25:50.791252Z"
    },
    "papermill": {
     "duration": 0.012185,
     "end_time": "2022-06-04T17:25:50.793707",
     "exception": false,
     "start_time": "2022-06-04T17:25:50.781522",
     "status": "completed"
    },
    "tags": []
   },
   "outputs": [],
   "source": [
    "# Uncomment to see a hint\n",
    "#q4.hint()\n",
    "\n",
    "# Uncomment to view the solution\n",
    "# q4.solution()"
   ]
  },
  {
   "cell_type": "markdown",
   "id": "46a8bc8f",
   "metadata": {
    "papermill": {
     "duration": 0.005393,
     "end_time": "2022-06-04T17:25:50.805327",
     "exception": false,
     "start_time": "2022-06-04T17:25:50.799934",
     "status": "completed"
    },
    "tags": []
   },
   "source": [
    "# 🌶️ Question 5\n",
    "\n",
    "Now say you can no longer buy fractions of a gallon.  (For instance, if you need 4.3 gallons to do a project, then you have to buy 5 gallons of paint.)\n",
    "\n",
    "With this new scenario, you will create a new function `get_actual_cost` that uses the same inputs and calculates the cost of your project.\n",
    "\n",
    "One function that you'll need to use to do this is `math.ceil()`.  We demonstrate usage of this function in the code cell below.  It takes as a number as input and rounds the number up to the nearest integer.  \n",
    "\n",
    "Run the next code cell to test this function for yourself.  Feel free to change the value of `test_value` and make sure `math.ceil()` returns the number you expect."
   ]
  },
  {
   "cell_type": "code",
   "execution_count": 10,
   "id": "b2251da1",
   "metadata": {
    "execution": {
     "iopub.execute_input": "2022-06-04T17:25:50.818447Z",
     "iopub.status.busy": "2022-06-04T17:25:50.817900Z",
     "iopub.status.idle": "2022-06-04T17:25:50.822386Z",
     "shell.execute_reply": "2022-06-04T17:25:50.821363Z"
    },
    "papermill": {
     "duration": 0.013126,
     "end_time": "2022-06-04T17:25:50.824120",
     "exception": false,
     "start_time": "2022-06-04T17:25:50.810994",
     "status": "completed"
    },
    "tags": []
   },
   "outputs": [
    {
     "name": "stdout",
     "output_type": "stream",
     "text": [
      "3\n"
     ]
    }
   ],
   "source": [
    "test_value = 2.17\n",
    "\n",
    "rounded_value = math.ceil(test_value)\n",
    "print(rounded_value)"
   ]
  },
  {
   "cell_type": "markdown",
   "id": "617cd5b9",
   "metadata": {
    "papermill": {
     "duration": 0.005318,
     "end_time": "2022-06-04T17:25:50.835331",
     "exception": false,
     "start_time": "2022-06-04T17:25:50.830013",
     "status": "completed"
    },
    "tags": []
   },
   "source": [
    "Use the next code cell to define the function `get_actual_cost()`.  You'll need to use the `math.ceil()` function to do this.\n",
    "\n",
    "When answering this question, note that it's completely valid to define a function that makes use of another function.  For instance, we can define a function `round_up_and_divide_by_three` that makes use of the `math.ceil` function:\n",
    "```\n",
    "def round_up_and_divide_by_three(num):\n",
    "    new_value = math.ceil(num)\n",
    "    final_value = new_value / 3\n",
    "    return final_value\n",
    "```"
   ]
  },
  {
   "cell_type": "code",
   "execution_count": 11,
   "id": "e2f5a775",
   "metadata": {
    "execution": {
     "iopub.execute_input": "2022-06-04T17:25:50.848495Z",
     "iopub.status.busy": "2022-06-04T17:25:50.847846Z",
     "iopub.status.idle": "2022-06-04T17:25:50.854510Z",
     "shell.execute_reply": "2022-06-04T17:25:50.853860Z"
    },
    "papermill": {
     "duration": 0.01533,
     "end_time": "2022-06-04T17:25:50.856281",
     "exception": false,
     "start_time": "2022-06-04T17:25:50.840951",
     "status": "completed"
    },
    "tags": []
   },
   "outputs": [
    {
     "data": {
      "application/javascript": [
       "parent.postMessage({\"jupyterEvent\": \"custom.exercise_interaction\", \"data\": {\"outcomeType\": 2, \"failureMessage\": \"Expected return value of `30` given `sqft_walls=432`, `sqft_ceiling=144`, `sqft_per_gallon=400`, `cost_per_gallon=15`, but got `<learntools.core.constants.PlaceholderValue object at 0x7f2924a3a710>` instead.\", \"interactionType\": 1, \"questionType\": 2, \"questionId\": \"5_NoMoreFractions\", \"learnToolsVersion\": \"0.3.4\", \"valueTowardsCompletion\": 0.0, \"exceptionClass\": \"\", \"trace\": \"\"}}, \"*\")"
      ],
      "text/plain": [
       "<IPython.core.display.Javascript object>"
      ]
     },
     "metadata": {},
     "output_type": "display_data"
    },
    {
     "data": {
      "text/markdown": [
       "<span style=\"color:#cc3333\">Incorrect:</span> Expected return value of `30` given `sqft_walls=432`, `sqft_ceiling=144`, `sqft_per_gallon=400`, `cost_per_gallon=15`, but got `<learntools.core.constants.PlaceholderValue object at 0x7f2924a3a710>` instead."
      ],
      "text/plain": [
       "Incorrect: Expected return value of `30` given `sqft_walls=432`, `sqft_ceiling=144`, `sqft_per_gallon=400`, `cost_per_gallon=15`, but got `<learntools.core.constants.PlaceholderValue object at 0x7f2924a3a710>` instead."
      ]
     },
     "metadata": {},
     "output_type": "display_data"
    }
   ],
   "source": [
    "def get_actual_cost(sqft_walls, sqft_ceiling, sqft_per_gallon, cost_per_gallon):\n",
    "    cost = ____\n",
    "    return cost\n",
    "\n",
    "# Check your answer\n",
    "q5.check()"
   ]
  },
  {
   "cell_type": "code",
   "execution_count": 12,
   "id": "113161aa",
   "metadata": {
    "execution": {
     "iopub.execute_input": "2022-06-04T17:25:50.870348Z",
     "iopub.status.busy": "2022-06-04T17:25:50.869705Z",
     "iopub.status.idle": "2022-06-04T17:25:50.873457Z",
     "shell.execute_reply": "2022-06-04T17:25:50.872419Z"
    },
    "papermill": {
     "duration": 0.01269,
     "end_time": "2022-06-04T17:25:50.875164",
     "exception": false,
     "start_time": "2022-06-04T17:25:50.862474",
     "status": "completed"
    },
    "tags": []
   },
   "outputs": [],
   "source": [
    "# Uncomment to see a hint\n",
    "#q5.hint()\n",
    "\n",
    "# Uncomment to view the solution\n",
    "#q5.solution()"
   ]
  },
  {
   "cell_type": "markdown",
   "id": "2300b50d",
   "metadata": {
    "papermill": {
     "duration": 0.006001,
     "end_time": "2022-06-04T17:25:50.887411",
     "exception": false,
     "start_time": "2022-06-04T17:25:50.881410",
     "status": "completed"
    },
    "tags": []
   },
   "source": [
    "Once your function is verified as correct, run the next code cell to calculate the updated cost of your project."
   ]
  },
  {
   "cell_type": "code",
   "execution_count": 13,
   "id": "346f63b1",
   "metadata": {
    "execution": {
     "iopub.execute_input": "2022-06-04T17:25:50.901760Z",
     "iopub.status.busy": "2022-06-04T17:25:50.901136Z",
     "iopub.status.idle": "2022-06-04T17:25:50.906706Z",
     "shell.execute_reply": "2022-06-04T17:25:50.905806Z"
    },
    "papermill": {
     "duration": 0.014658,
     "end_time": "2022-06-04T17:25:50.908350",
     "exception": false,
     "start_time": "2022-06-04T17:25:50.893692",
     "status": "completed"
    },
    "tags": []
   },
   "outputs": [
    {
     "data": {
      "text/markdown": [],
      "text/plain": [
       "<learntools.core.constants.PlaceholderValue at 0x7f2924a3a710>"
      ]
     },
     "execution_count": 13,
     "metadata": {},
     "output_type": "execute_result"
    }
   ],
   "source": [
    "get_actual_cost(432, 144, 400, 15) "
   ]
  },
  {
   "cell_type": "markdown",
   "id": "fc79566b",
   "metadata": {
    "papermill": {
     "duration": 0.006085,
     "end_time": "2022-06-04T17:25:50.920559",
     "exception": false,
     "start_time": "2022-06-04T17:25:50.914474",
     "status": "completed"
    },
    "tags": []
   },
   "source": [
    "Say you're working with a slightly larger room.  Run the next code cell to calculate the cost of the project."
   ]
  },
  {
   "cell_type": "code",
   "execution_count": 14,
   "id": "9a5d7e02",
   "metadata": {
    "execution": {
     "iopub.execute_input": "2022-06-04T17:25:50.936043Z",
     "iopub.status.busy": "2022-06-04T17:25:50.935353Z",
     "iopub.status.idle": "2022-06-04T17:25:50.940821Z",
     "shell.execute_reply": "2022-06-04T17:25:50.939814Z"
    },
    "papermill": {
     "duration": 0.015087,
     "end_time": "2022-06-04T17:25:50.942594",
     "exception": false,
     "start_time": "2022-06-04T17:25:50.927507",
     "status": "completed"
    },
    "tags": []
   },
   "outputs": [
    {
     "data": {
      "text/markdown": [],
      "text/plain": [
       "<learntools.core.constants.PlaceholderValue at 0x7f2924a3a710>"
      ]
     },
     "execution_count": 14,
     "metadata": {},
     "output_type": "execute_result"
    }
   ],
   "source": [
    "get_actual_cost(594, 288, 400, 15) "
   ]
  },
  {
   "cell_type": "markdown",
   "id": "0daa5b31",
   "metadata": {
    "papermill": {
     "duration": 0.005962,
     "end_time": "2022-06-04T17:25:50.954958",
     "exception": false,
     "start_time": "2022-06-04T17:25:50.948996",
     "status": "completed"
    },
    "tags": []
   },
   "source": [
    "# Keep going\n",
    "\n",
    "Continue to learn about **[data types](https://www.kaggle.com/alexisbcook/data-types)**."
   ]
  },
  {
   "cell_type": "markdown",
   "id": "2b16cdb0",
   "metadata": {
    "papermill": {
     "duration": 0.00588,
     "end_time": "2022-06-04T17:25:50.967132",
     "exception": false,
     "start_time": "2022-06-04T17:25:50.961252",
     "status": "completed"
    },
    "tags": []
   },
   "source": [
    "---\n",
    "\n",
    "\n",
    "\n",
    "\n",
    "*Have questions or comments? Visit the [course discussion forum](https://www.kaggle.com/learn/intro-to-programming/discussion) to chat with other learners.*"
   ]
  }
 ],
 "metadata": {
  "kernelspec": {
   "display_name": "Python 3",
   "language": "python",
   "name": "python3"
  },
  "language_info": {
   "codemirror_mode": {
    "name": "ipython",
    "version": 3
   },
   "file_extension": ".py",
   "mimetype": "text/x-python",
   "name": "python",
   "nbconvert_exporter": "python",
   "pygments_lexer": "ipython3",
   "version": "3.7.12"
  },
  "papermill": {
   "default_parameters": {},
   "duration": 10.617633,
   "end_time": "2022-06-04T17:25:51.693367",
   "environment_variables": {},
   "exception": null,
   "input_path": "__notebook__.ipynb",
   "output_path": "__notebook__.ipynb",
   "parameters": {},
   "start_time": "2022-06-04T17:25:41.075734",
   "version": "2.3.4"
  }
 },
 "nbformat": 4,
 "nbformat_minor": 5
}
