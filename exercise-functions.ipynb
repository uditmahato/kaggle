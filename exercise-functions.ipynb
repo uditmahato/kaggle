{
 "cells": [
  {
   "cell_type": "markdown",
   "id": "9656535b",
   "metadata": {
    "papermill": {
     "duration": 0.014089,
     "end_time": "2022-06-04T17:26:34.780550",
     "exception": false,
     "start_time": "2022-06-04T17:26:34.766461",
     "status": "completed"
    },
    "tags": []
   },
   "source": [
    "**This notebook is an exercise in the [Intro to Programming](https://www.kaggle.com/learn/intro-to-programming) course.  You can reference the tutorial at [this link](https://www.kaggle.com/alexisbcook/functions).**\n",
    "\n",
    "---\n"
   ]
  },
  {
   "cell_type": "markdown",
   "id": "e83e9658",
   "metadata": {
    "papermill": {
     "duration": 0.006479,
     "end_time": "2022-06-04T17:26:34.794141",
     "exception": false,
     "start_time": "2022-06-04T17:26:34.787662",
     "status": "completed"
    },
    "tags": []
   },
   "source": [
    "In the tutorial, you learned about functions. In this exercise, you'll write some of your own!\n",
    "\n",
    "# Set up the notebook\n",
    "\n",
    "Run the next code cell without changes to set up the notebook."
   ]
  },
  {
   "cell_type": "code",
   "execution_count": 1,
   "id": "f17b92c0",
   "metadata": {
    "execution": {
     "iopub.execute_input": "2022-06-04T17:26:34.813465Z",
     "iopub.status.busy": "2022-06-04T17:26:34.812121Z",
     "iopub.status.idle": "2022-06-04T17:26:34.862554Z",
     "shell.execute_reply": "2022-06-04T17:26:34.861604Z"
    },
    "papermill": {
     "duration": 0.064141,
     "end_time": "2022-06-04T17:26:34.865167",
     "exception": false,
     "start_time": "2022-06-04T17:26:34.801026",
     "status": "completed"
    },
    "tags": []
   },
   "outputs": [
    {
     "name": "stdout",
     "output_type": "stream",
     "text": [
      "Setup complete.\n"
     ]
    }
   ],
   "source": [
    "# Set up the exercise\n",
    "import math\n",
    "from learntools.core import binder\n",
    "binder.bind(globals())\n",
    "from learntools.intro_to_programming.ex2 import *\n",
    "print('Setup complete.')"
   ]
  },
  {
   "cell_type": "markdown",
   "id": "5c1e95f7",
   "metadata": {
    "papermill": {
     "duration": 0.009546,
     "end_time": "2022-06-04T17:26:34.881791",
     "exception": false,
     "start_time": "2022-06-04T17:26:34.872245",
     "status": "completed"
    },
    "tags": []
   },
   "source": [
    "# Question 1\n",
    "\n",
    "In the [House Prices - Advanced Regression Techniques competition](https://www.kaggle.com/c/house-prices-advanced-regression-techniques/overview), you need to use information like the number of bedrooms and bathrooms to predict the price of a house.  Inspired by this competition, you'll write your own function to do this.\n",
    "\n",
    "In the next code cell, create a function `get_expected_cost()` that has two arguments:\n",
    "- `beds` - number of bedrooms \n",
    "- `baths` - number of bathrooms\n",
    "\n",
    "It should return the expected cost of a house with that number of bedrooms and bathrooms.  Assume that:\n",
    "- the expected cost for a house with 0 bedrooms and 0 bathrooms is `80000`.  \n",
    "- each bedroom adds `30000` to the expected cost\n",
    "- each bathroom adds `10000` to the expected cost.\n",
    "\n",
    "For instance, \n",
    "- a house with 1 bedroom and 1 bathroom has an expected cost of `120000`, and \n",
    "- a house with 2 bedrooms and 1 bathroom has an expected cost of `150000`."
   ]
  },
  {
   "cell_type": "code",
   "execution_count": 2,
   "id": "3fb421b7",
   "metadata": {
    "execution": {
     "iopub.execute_input": "2022-06-04T17:26:34.899654Z",
     "iopub.status.busy": "2022-06-04T17:26:34.898942Z",
     "iopub.status.idle": "2022-06-04T17:26:34.910427Z",
     "shell.execute_reply": "2022-06-04T17:26:34.909339Z"
    },
    "papermill": {
     "duration": 0.021712,
     "end_time": "2022-06-04T17:26:34.912400",
     "exception": false,
     "start_time": "2022-06-04T17:26:34.890688",
     "status": "completed"
    },
    "tags": []
   },
   "outputs": [
    {
     "data": {
      "application/javascript": [
       "parent.postMessage({\"jupyterEvent\": \"custom.exercise_interaction\", \"data\": {\"outcomeType\": 1, \"valueTowardsCompletion\": 0.2, \"interactionType\": 1, \"questionType\": 2, \"questionId\": \"1_GetExpectedCost\", \"learnToolsVersion\": \"0.3.4\", \"failureMessage\": \"\", \"exceptionClass\": \"\", \"trace\": \"\"}}, \"*\")"
      ],
      "text/plain": [
       "<IPython.core.display.Javascript object>"
      ]
     },
     "metadata": {},
     "output_type": "display_data"
    },
    {
     "data": {
      "text/markdown": [
       "<span style=\"color:#33cc33\">Correct</span>"
      ],
      "text/plain": [
       "Correct"
      ]
     },
     "metadata": {},
     "output_type": "display_data"
    }
   ],
   "source": [
    "# TODO: Complete the function\n",
    "def get_expected_cost(beds, baths):\n",
    "    value = 80000+beds*30000+baths*10000\n",
    "    return value\n",
    "\n",
    "# Check your answer \n",
    "q1.check()"
   ]
  },
  {
   "cell_type": "code",
   "execution_count": 3,
   "id": "01a6459d",
   "metadata": {
    "execution": {
     "iopub.execute_input": "2022-06-04T17:26:34.928738Z",
     "iopub.status.busy": "2022-06-04T17:26:34.928025Z",
     "iopub.status.idle": "2022-06-04T17:26:34.932156Z",
     "shell.execute_reply": "2022-06-04T17:26:34.931534Z"
    },
    "papermill": {
     "duration": 0.01456,
     "end_time": "2022-06-04T17:26:34.934113",
     "exception": false,
     "start_time": "2022-06-04T17:26:34.919553",
     "status": "completed"
    },
    "tags": []
   },
   "outputs": [],
   "source": [
    "# Uncomment to see a hint\n",
    "#q1.hint()\n",
    "\n",
    "# Uncomment to view the solution\n",
    "#q1.solution()"
   ]
  },
  {
   "cell_type": "markdown",
   "id": "ad43a0ed",
   "metadata": {
    "papermill": {
     "duration": 0.006939,
     "end_time": "2022-06-04T17:26:34.948262",
     "exception": false,
     "start_time": "2022-06-04T17:26:34.941323",
     "status": "completed"
    },
    "tags": []
   },
   "source": [
    "# Question 2\n",
    "\n",
    "You are thinking about buying a home and want to get an idea of how much you will spend, based on the number of bedrooms and bathrooms.  You are trying to decide between four different options:\n",
    "- Option 1: house with two bedrooms and three bathrooms\n",
    "- Option 2: house with three bedrooms and two bathrooms\n",
    "- Option 3: house with three bedrooms and three bathrooms\n",
    "- Option 4: house with three bedrooms and four bathrooms\n",
    "\n",
    "Use the `get_expected_cost()` function you defined in question 1 to set `option_1`, `option_2`, `option_3`, and `option_4` to the expected cost of each option."
   ]
  },
  {
   "cell_type": "code",
   "execution_count": 4,
   "id": "ffbea4a9",
   "metadata": {
    "execution": {
     "iopub.execute_input": "2022-06-04T17:26:34.964827Z",
     "iopub.status.busy": "2022-06-04T17:26:34.964071Z",
     "iopub.status.idle": "2022-06-04T17:26:34.977174Z",
     "shell.execute_reply": "2022-06-04T17:26:34.976234Z"
    },
    "papermill": {
     "duration": 0.02376,
     "end_time": "2022-06-04T17:26:34.979196",
     "exception": false,
     "start_time": "2022-06-04T17:26:34.955436",
     "status": "completed"
    },
    "tags": []
   },
   "outputs": [
    {
     "name": "stdout",
     "output_type": "stream",
     "text": [
      "170000\n",
      "190000\n",
      "200000\n",
      "210000\n"
     ]
    },
    {
     "data": {
      "application/javascript": [
       "parent.postMessage({\"jupyterEvent\": \"custom.exercise_interaction\", \"data\": {\"outcomeType\": 1, \"valueTowardsCompletion\": 0.2, \"interactionType\": 1, \"questionType\": 1, \"questionId\": \"2_RunGetExpectedCost\", \"learnToolsVersion\": \"0.3.4\", \"failureMessage\": \"\", \"exceptionClass\": \"\", \"trace\": \"\"}}, \"*\")"
      ],
      "text/plain": [
       "<IPython.core.display.Javascript object>"
      ]
     },
     "metadata": {},
     "output_type": "display_data"
    },
    {
     "data": {
      "text/markdown": [
       "<span style=\"color:#33cc33\">Correct</span>"
      ],
      "text/plain": [
       "Correct"
      ]
     },
     "metadata": {},
     "output_type": "display_data"
    }
   ],
   "source": [
    "# TODO: Use the get_expected_cost function to fill in each value\n",
    "option_one = get_expected_cost(2, 3)\n",
    "option_two = get_expected_cost(3, 2)\n",
    "option_three = get_expected_cost(3, 3)\n",
    "option_four = get_expected_cost(3, 4)\n",
    "\n",
    "print(option_one)\n",
    "print(option_two)\n",
    "print(option_three)\n",
    "print(option_four)\n",
    "\n",
    "# Check your answer\n",
    "q2.check()"
   ]
  },
  {
   "cell_type": "code",
   "execution_count": 5,
   "id": "9675e1b4",
   "metadata": {
    "execution": {
     "iopub.execute_input": "2022-06-04T17:26:34.997020Z",
     "iopub.status.busy": "2022-06-04T17:26:34.996037Z",
     "iopub.status.idle": "2022-06-04T17:26:35.000982Z",
     "shell.execute_reply": "2022-06-04T17:26:35.000017Z"
    },
    "papermill": {
     "duration": 0.016116,
     "end_time": "2022-06-04T17:26:35.003212",
     "exception": false,
     "start_time": "2022-06-04T17:26:34.987096",
     "status": "completed"
    },
    "tags": []
   },
   "outputs": [],
   "source": [
    "# Uncomment to see a hint\n",
    "#q2.hint()\n",
    "\n",
    "# Uncomment to view the solution\n",
    "# q2.solution()"
   ]
  },
  {
   "cell_type": "markdown",
   "id": "c66ab66f",
   "metadata": {
    "papermill": {
     "duration": 0.007383,
     "end_time": "2022-06-04T17:26:35.019381",
     "exception": false,
     "start_time": "2022-06-04T17:26:35.011998",
     "status": "completed"
    },
    "tags": []
   },
   "source": [
    "# Question 3\n",
    "\n",
    "You're a home decorator, and you'd like to use Python to streamline some of your work.  Specifically, you're creating a tool that you intend to use to calculate the cost of painting a room.\n",
    "\n",
    "As a first step, define a function `get_cost()` that takes as input:\n",
    "- `sqft_walls` = total square feet of walls to be painted\n",
    "- `sqft_ceiling` = square feet of ceiling to be painted\n",
    "- `sqft_per_gallon` = number of square feet that you can cover with one gallon of paint\n",
    "- `cost_per_gallon` = cost (in dollars) of one gallon of paint\n",
    "\n",
    "It should return the cost (in dollars) of putting one coat of paint on all walls and the ceiling.  Assume you can buy the exact amount of paint that you need, so you can buy partial gallons (e.g., if you need 7.523 gallons, you can buy that exact amount, instead of needing to buy 8 gallons and waste some paint).  Do not round your answer."
   ]
  },
  {
   "cell_type": "code",
   "execution_count": 6,
   "id": "9de28fbd",
   "metadata": {
    "execution": {
     "iopub.execute_input": "2022-06-04T17:26:35.037101Z",
     "iopub.status.busy": "2022-06-04T17:26:35.036370Z",
     "iopub.status.idle": "2022-06-04T17:26:35.045785Z",
     "shell.execute_reply": "2022-06-04T17:26:35.044831Z"
    },
    "papermill": {
     "duration": 0.020774,
     "end_time": "2022-06-04T17:26:35.047616",
     "exception": false,
     "start_time": "2022-06-04T17:26:35.026842",
     "status": "completed"
    },
    "tags": []
   },
   "outputs": [
    {
     "data": {
      "application/javascript": [
       "parent.postMessage({\"jupyterEvent\": \"custom.exercise_interaction\", \"data\": {\"outcomeType\": 1, \"valueTowardsCompletion\": 0.2, \"interactionType\": 1, \"questionType\": 2, \"questionId\": \"3_GetCostPaint\", \"learnToolsVersion\": \"0.3.4\", \"failureMessage\": \"\", \"exceptionClass\": \"\", \"trace\": \"\"}}, \"*\")"
      ],
      "text/plain": [
       "<IPython.core.display.Javascript object>"
      ]
     },
     "metadata": {},
     "output_type": "display_data"
    },
    {
     "data": {
      "text/markdown": [
       "<span style=\"color:#33cc33\">Correct</span>"
      ],
      "text/plain": [
       "Correct"
      ]
     },
     "metadata": {},
     "output_type": "display_data"
    }
   ],
   "source": [
    "# TODO: Finish defining the function\n",
    "def get_cost(sqft_walls, sqft_ceiling, sqft_per_gallon, cost_per_gallon):\n",
    "    total_sqft = sqft_walls + sqft_ceiling\n",
    "    gallons_needed = total_sqft / sqft_per_gallon\n",
    "    cost = cost_per_gallon * gallons_needed\n",
    "    return cost\n",
    "\n",
    "# Check your answer\n",
    "q3.check()"
   ]
  },
  {
   "cell_type": "code",
   "execution_count": 7,
   "id": "f79fbce0",
   "metadata": {
    "execution": {
     "iopub.execute_input": "2022-06-04T17:26:35.065064Z",
     "iopub.status.busy": "2022-06-04T17:26:35.064525Z",
     "iopub.status.idle": "2022-06-04T17:26:35.070181Z",
     "shell.execute_reply": "2022-06-04T17:26:35.069398Z"
    },
    "papermill": {
     "duration": 0.01669,
     "end_time": "2022-06-04T17:26:35.072302",
     "exception": false,
     "start_time": "2022-06-04T17:26:35.055612",
     "status": "completed"
    },
    "tags": []
   },
   "outputs": [],
   "source": [
    "# Uncomment to see a hint\n",
    "#q3.hint()\n",
    "\n",
    "# Uncomment to view the solution\n",
    "# q3.solution()"
   ]
  },
  {
   "cell_type": "markdown",
   "id": "c55bc3dc",
   "metadata": {
    "papermill": {
     "duration": 0.007263,
     "end_time": "2022-06-04T17:26:35.087366",
     "exception": false,
     "start_time": "2022-06-04T17:26:35.080103",
     "status": "completed"
    },
    "tags": []
   },
   "source": [
    "# Question 4\n",
    "\n",
    "Use the `get_cost()` function you defined in Question 3 to calculate the cost of applying one coat of paint to a room with:\n",
    "- 432 square feet of walls, and\n",
    "- 144 square feet of ceiling.\n",
    "\n",
    "Assume that one gallon of paint covers 400 square feet and costs $15.  As in Question 3, assume you can buy partial gallons of paint.  Do not round your answer."
   ]
  },
  {
   "cell_type": "code",
   "execution_count": 8,
   "id": "b8557494",
   "metadata": {
    "execution": {
     "iopub.execute_input": "2022-06-04T17:26:35.104466Z",
     "iopub.status.busy": "2022-06-04T17:26:35.104089Z",
     "iopub.status.idle": "2022-06-04T17:26:35.112715Z",
     "shell.execute_reply": "2022-06-04T17:26:35.111845Z"
    },
    "papermill": {
     "duration": 0.019449,
     "end_time": "2022-06-04T17:26:35.114743",
     "exception": false,
     "start_time": "2022-06-04T17:26:35.095294",
     "status": "completed"
    },
    "tags": []
   },
   "outputs": [
    {
     "data": {
      "application/javascript": [
       "parent.postMessage({\"jupyterEvent\": \"custom.exercise_interaction\", \"data\": {\"outcomeType\": 1, \"valueTowardsCompletion\": 0.2, \"interactionType\": 1, \"questionType\": 1, \"questionId\": \"4_GetCostPaintExample\", \"learnToolsVersion\": \"0.3.4\", \"failureMessage\": \"\", \"exceptionClass\": \"\", \"trace\": \"\"}}, \"*\")"
      ],
      "text/plain": [
       "<IPython.core.display.Javascript object>"
      ]
     },
     "metadata": {},
     "output_type": "display_data"
    },
    {
     "data": {
      "text/markdown": [
       "<span style=\"color:#33cc33\">Correct</span>"
      ],
      "text/plain": [
       "Correct"
      ]
     },
     "metadata": {},
     "output_type": "display_data"
    }
   ],
   "source": [
    "# TODO: Set the project_cost variable to the cost of the project\n",
    "project_cost = get_cost(432, 144, 400, 15) \n",
    "\n",
    "\n",
    "# Check your answer\n",
    "q4.check()"
   ]
  },
  {
   "cell_type": "code",
   "execution_count": 9,
   "id": "a23352b3",
   "metadata": {
    "execution": {
     "iopub.execute_input": "2022-06-04T17:26:35.132792Z",
     "iopub.status.busy": "2022-06-04T17:26:35.132070Z",
     "iopub.status.idle": "2022-06-04T17:26:35.136331Z",
     "shell.execute_reply": "2022-06-04T17:26:35.135644Z"
    },
    "papermill": {
     "duration": 0.015845,
     "end_time": "2022-06-04T17:26:35.138364",
     "exception": false,
     "start_time": "2022-06-04T17:26:35.122519",
     "status": "completed"
    },
    "tags": []
   },
   "outputs": [],
   "source": [
    "# Uncomment to see a hint\n",
    "#q4.hint()\n",
    "\n",
    "# Uncomment to view the solution\n",
    "# q4.solution()"
   ]
  },
  {
   "cell_type": "markdown",
   "id": "29568b65",
   "metadata": {
    "papermill": {
     "duration": 0.007682,
     "end_time": "2022-06-04T17:26:35.153941",
     "exception": false,
     "start_time": "2022-06-04T17:26:35.146259",
     "status": "completed"
    },
    "tags": []
   },
   "source": [
    "# 🌶️ Question 5\n",
    "\n",
    "Now say you can no longer buy fractions of a gallon.  (For instance, if you need 4.3 gallons to do a project, then you have to buy 5 gallons of paint.)\n",
    "\n",
    "With this new scenario, you will create a new function `get_actual_cost` that uses the same inputs and calculates the cost of your project.\n",
    "\n",
    "One function that you'll need to use to do this is `math.ceil()`.  We demonstrate usage of this function in the code cell below.  It takes as a number as input and rounds the number up to the nearest integer.  \n",
    "\n",
    "Run the next code cell to test this function for yourself.  Feel free to change the value of `test_value` and make sure `math.ceil()` returns the number you expect."
   ]
  },
  {
   "cell_type": "code",
   "execution_count": 10,
   "id": "387291da",
   "metadata": {
    "execution": {
     "iopub.execute_input": "2022-06-04T17:26:35.171923Z",
     "iopub.status.busy": "2022-06-04T17:26:35.171180Z",
     "iopub.status.idle": "2022-06-04T17:26:35.176789Z",
     "shell.execute_reply": "2022-06-04T17:26:35.175891Z"
    },
    "papermill": {
     "duration": 0.016865,
     "end_time": "2022-06-04T17:26:35.178743",
     "exception": false,
     "start_time": "2022-06-04T17:26:35.161878",
     "status": "completed"
    },
    "tags": []
   },
   "outputs": [
    {
     "name": "stdout",
     "output_type": "stream",
     "text": [
      "3\n"
     ]
    }
   ],
   "source": [
    "test_value = 2.17\n",
    "\n",
    "rounded_value = math.ceil(test_value)\n",
    "print(rounded_value)"
   ]
  },
  {
   "cell_type": "markdown",
   "id": "8a5f42ec",
   "metadata": {
    "papermill": {
     "duration": 0.007661,
     "end_time": "2022-06-04T17:26:35.194349",
     "exception": false,
     "start_time": "2022-06-04T17:26:35.186688",
     "status": "completed"
    },
    "tags": []
   },
   "source": [
    "Use the next code cell to define the function `get_actual_cost()`.  You'll need to use the `math.ceil()` function to do this.\n",
    "\n",
    "When answering this question, note that it's completely valid to define a function that makes use of another function.  For instance, we can define a function `round_up_and_divide_by_three` that makes use of the `math.ceil` function:\n",
    "```\n",
    "def round_up_and_divide_by_three(num):\n",
    "    new_value = math.ceil(num)\n",
    "    final_value = new_value / 3\n",
    "    return final_value\n",
    "```"
   ]
  },
  {
   "cell_type": "code",
   "execution_count": 11,
   "id": "9eb0e186",
   "metadata": {
    "execution": {
     "iopub.execute_input": "2022-06-04T17:26:35.212253Z",
     "iopub.status.busy": "2022-06-04T17:26:35.211544Z",
     "iopub.status.idle": "2022-06-04T17:26:35.221085Z",
     "shell.execute_reply": "2022-06-04T17:26:35.220316Z"
    },
    "papermill": {
     "duration": 0.020738,
     "end_time": "2022-06-04T17:26:35.222998",
     "exception": false,
     "start_time": "2022-06-04T17:26:35.202260",
     "status": "completed"
    },
    "tags": []
   },
   "outputs": [
    {
     "data": {
      "application/javascript": [
       "parent.postMessage({\"jupyterEvent\": \"custom.exercise_interaction\", \"data\": {\"outcomeType\": 1, \"valueTowardsCompletion\": 0.2, \"interactionType\": 1, \"questionType\": 2, \"questionId\": \"5_NoMoreFractions\", \"learnToolsVersion\": \"0.3.4\", \"failureMessage\": \"\", \"exceptionClass\": \"\", \"trace\": \"\"}}, \"*\")"
      ],
      "text/plain": [
       "<IPython.core.display.Javascript object>"
      ]
     },
     "metadata": {},
     "output_type": "display_data"
    },
    {
     "data": {
      "text/markdown": [
       "<span style=\"color:#33cc33\">Correct</span>"
      ],
      "text/plain": [
       "Correct"
      ]
     },
     "metadata": {},
     "output_type": "display_data"
    }
   ],
   "source": [
    "def get_actual_cost(sqft_walls, sqft_ceiling, sqft_per_gallon, cost_per_gallon):\n",
    "    total_sqft = sqft_walls + sqft_ceiling\n",
    "    gallons_needed = total_sqft / sqft_per_gallon\n",
    "    gallons_to_buy = math.ceil(gallons_needed)\n",
    "    cost = cost_per_gallon * gallons_to_buy\n",
    "    return cost\n",
    "\n",
    "\n",
    "# Check your answer\n",
    "q5.check()"
   ]
  },
  {
   "cell_type": "code",
   "execution_count": 12,
   "id": "fb139679",
   "metadata": {
    "execution": {
     "iopub.execute_input": "2022-06-04T17:26:35.241500Z",
     "iopub.status.busy": "2022-06-04T17:26:35.240821Z",
     "iopub.status.idle": "2022-06-04T17:26:35.245400Z",
     "shell.execute_reply": "2022-06-04T17:26:35.244459Z"
    },
    "papermill": {
     "duration": 0.016164,
     "end_time": "2022-06-04T17:26:35.247364",
     "exception": false,
     "start_time": "2022-06-04T17:26:35.231200",
     "status": "completed"
    },
    "tags": []
   },
   "outputs": [],
   "source": [
    "# Uncomment to see a hint\n",
    "#q5.hint()\n",
    "\n",
    "# Uncomment to view the solution\n",
    "# q5.solution()"
   ]
  },
  {
   "cell_type": "markdown",
   "id": "ac181411",
   "metadata": {
    "papermill": {
     "duration": 0.008054,
     "end_time": "2022-06-04T17:26:35.263983",
     "exception": false,
     "start_time": "2022-06-04T17:26:35.255929",
     "status": "completed"
    },
    "tags": []
   },
   "source": [
    "Once your function is verified as correct, run the next code cell to calculate the updated cost of your project."
   ]
  },
  {
   "cell_type": "code",
   "execution_count": 13,
   "id": "3c65b20e",
   "metadata": {
    "execution": {
     "iopub.execute_input": "2022-06-04T17:26:35.282033Z",
     "iopub.status.busy": "2022-06-04T17:26:35.281626Z",
     "iopub.status.idle": "2022-06-04T17:26:35.287930Z",
     "shell.execute_reply": "2022-06-04T17:26:35.287004Z"
    },
    "papermill": {
     "duration": 0.017906,
     "end_time": "2022-06-04T17:26:35.290232",
     "exception": false,
     "start_time": "2022-06-04T17:26:35.272326",
     "status": "completed"
    },
    "tags": []
   },
   "outputs": [
    {
     "data": {
      "text/plain": [
       "30"
      ]
     },
     "execution_count": 13,
     "metadata": {},
     "output_type": "execute_result"
    }
   ],
   "source": [
    "get_actual_cost(432, 144, 400, 15) "
   ]
  },
  {
   "cell_type": "markdown",
   "id": "60b18b0e",
   "metadata": {
    "papermill": {
     "duration": 0.008101,
     "end_time": "2022-06-04T17:26:35.306502",
     "exception": false,
     "start_time": "2022-06-04T17:26:35.298401",
     "status": "completed"
    },
    "tags": []
   },
   "source": [
    "Say you're working with a slightly larger room.  Run the next code cell to calculate the cost of the project."
   ]
  },
  {
   "cell_type": "code",
   "execution_count": 14,
   "id": "9a52f2c6",
   "metadata": {
    "execution": {
     "iopub.execute_input": "2022-06-04T17:26:35.325344Z",
     "iopub.status.busy": "2022-06-04T17:26:35.324621Z",
     "iopub.status.idle": "2022-06-04T17:26:35.330977Z",
     "shell.execute_reply": "2022-06-04T17:26:35.330045Z"
    },
    "papermill": {
     "duration": 0.017817,
     "end_time": "2022-06-04T17:26:35.332904",
     "exception": false,
     "start_time": "2022-06-04T17:26:35.315087",
     "status": "completed"
    },
    "tags": []
   },
   "outputs": [
    {
     "data": {
      "text/plain": [
       "45"
      ]
     },
     "execution_count": 14,
     "metadata": {},
     "output_type": "execute_result"
    }
   ],
   "source": [
    "get_actual_cost(594, 288, 400, 15) "
   ]
  },
  {
   "cell_type": "markdown",
   "id": "7c91b94d",
   "metadata": {
    "papermill": {
     "duration": 0.008195,
     "end_time": "2022-06-04T17:26:35.349379",
     "exception": false,
     "start_time": "2022-06-04T17:26:35.341184",
     "status": "completed"
    },
    "tags": []
   },
   "source": [
    "# Keep going\n",
    "\n",
    "Continue to learn about **[data types](https://www.kaggle.com/alexisbcook/data-types)**."
   ]
  },
  {
   "cell_type": "markdown",
   "id": "65c0c0cf",
   "metadata": {
    "papermill": {
     "duration": 0.008197,
     "end_time": "2022-06-04T17:26:35.365917",
     "exception": false,
     "start_time": "2022-06-04T17:26:35.357720",
     "status": "completed"
    },
    "tags": []
   },
   "source": [
    "---\n",
    "\n",
    "\n",
    "\n",
    "\n",
    "*Have questions or comments? Visit the [course discussion forum](https://www.kaggle.com/learn/intro-to-programming/discussion) to chat with other learners.*"
   ]
  }
 ],
 "metadata": {
  "kernelspec": {
   "display_name": "Python 3",
   "language": "python",
   "name": "python3"
  },
  "language_info": {
   "codemirror_mode": {
    "name": "ipython",
    "version": 3
   },
   "file_extension": ".py",
   "mimetype": "text/x-python",
   "name": "python",
   "nbconvert_exporter": "python",
   "pygments_lexer": "ipython3",
   "version": "3.7.12"
  },
  "papermill": {
   "default_parameters": {},
   "duration": 12.059123,
   "end_time": "2022-06-04T17:26:35.994167",
   "environment_variables": {},
   "exception": null,
   "input_path": "__notebook__.ipynb",
   "output_path": "__notebook__.ipynb",
   "parameters": {},
   "start_time": "2022-06-04T17:26:23.935044",
   "version": "2.3.4"
  }
 },
 "nbformat": 4,
 "nbformat_minor": 5
}
