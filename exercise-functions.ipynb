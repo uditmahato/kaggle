{
 "cells": [
  {
   "cell_type": "markdown",
   "id": "ed429b88",
   "metadata": {
    "papermill": {
     "duration": 0.008441,
     "end_time": "2022-06-04T17:22:55.942373",
     "exception": false,
     "start_time": "2022-06-04T17:22:55.933932",
     "status": "completed"
    },
    "tags": []
   },
   "source": [
    "**This notebook is an exercise in the [Intro to Programming](https://www.kaggle.com/learn/intro-to-programming) course.  You can reference the tutorial at [this link](https://www.kaggle.com/alexisbcook/functions).**\n",
    "\n",
    "---\n"
   ]
  },
  {
   "cell_type": "markdown",
   "id": "48e154a9",
   "metadata": {
    "papermill": {
     "duration": 0.004633,
     "end_time": "2022-06-04T17:22:55.952597",
     "exception": false,
     "start_time": "2022-06-04T17:22:55.947964",
     "status": "completed"
    },
    "tags": []
   },
   "source": [
    "In the tutorial, you learned about functions. In this exercise, you'll write some of your own!\n",
    "\n",
    "# Set up the notebook\n",
    "\n",
    "Run the next code cell without changes to set up the notebook."
   ]
  },
  {
   "cell_type": "code",
   "execution_count": 1,
   "id": "58e8704d",
   "metadata": {
    "execution": {
     "iopub.execute_input": "2022-06-04T17:22:55.964152Z",
     "iopub.status.busy": "2022-06-04T17:22:55.963503Z",
     "iopub.status.idle": "2022-06-04T17:22:56.004279Z",
     "shell.execute_reply": "2022-06-04T17:22:56.003590Z"
    },
    "papermill": {
     "duration": 0.049669,
     "end_time": "2022-06-04T17:22:56.007132",
     "exception": false,
     "start_time": "2022-06-04T17:22:55.957463",
     "status": "completed"
    },
    "tags": []
   },
   "outputs": [
    {
     "name": "stdout",
     "output_type": "stream",
     "text": [
      "Setup complete.\n"
     ]
    }
   ],
   "source": [
    "# Set up the exercise\n",
    "import math\n",
    "from learntools.core import binder\n",
    "binder.bind(globals())\n",
    "from learntools.intro_to_programming.ex2 import *\n",
    "print('Setup complete.')"
   ]
  },
  {
   "cell_type": "markdown",
   "id": "e2b99216",
   "metadata": {
    "papermill": {
     "duration": 0.004778,
     "end_time": "2022-06-04T17:22:56.017102",
     "exception": false,
     "start_time": "2022-06-04T17:22:56.012324",
     "status": "completed"
    },
    "tags": []
   },
   "source": [
    "# Question 1\n",
    "\n",
    "In the [House Prices - Advanced Regression Techniques competition](https://www.kaggle.com/c/house-prices-advanced-regression-techniques/overview), you need to use information like the number of bedrooms and bathrooms to predict the price of a house.  Inspired by this competition, you'll write your own function to do this.\n",
    "\n",
    "In the next code cell, create a function `get_expected_cost()` that has two arguments:\n",
    "- `beds` - number of bedrooms \n",
    "- `baths` - number of bathrooms\n",
    "\n",
    "It should return the expected cost of a house with that number of bedrooms and bathrooms.  Assume that:\n",
    "- the expected cost for a house with 0 bedrooms and 0 bathrooms is `80000`.  \n",
    "- each bedroom adds `30000` to the expected cost\n",
    "- each bathroom adds `10000` to the expected cost.\n",
    "\n",
    "For instance, \n",
    "- a house with 1 bedroom and 1 bathroom has an expected cost of `120000`, and \n",
    "- a house with 2 bedrooms and 1 bathroom has an expected cost of `150000`."
   ]
  },
  {
   "cell_type": "code",
   "execution_count": 2,
   "id": "da5712d2",
   "metadata": {
    "execution": {
     "iopub.execute_input": "2022-06-04T17:22:56.028637Z",
     "iopub.status.busy": "2022-06-04T17:22:56.028035Z",
     "iopub.status.idle": "2022-06-04T17:22:56.036433Z",
     "shell.execute_reply": "2022-06-04T17:22:56.035634Z"
    },
    "papermill": {
     "duration": 0.016319,
     "end_time": "2022-06-04T17:22:56.038268",
     "exception": false,
     "start_time": "2022-06-04T17:22:56.021949",
     "status": "completed"
    },
    "tags": []
   },
   "outputs": [
    {
     "data": {
      "application/javascript": [
       "parent.postMessage({\"jupyterEvent\": \"custom.exercise_interaction\", \"data\": {\"outcomeType\": 1, \"valueTowardsCompletion\": 0.2, \"interactionType\": 1, \"questionType\": 2, \"questionId\": \"1_GetExpectedCost\", \"learnToolsVersion\": \"0.3.4\", \"failureMessage\": \"\", \"exceptionClass\": \"\", \"trace\": \"\"}}, \"*\")"
      ],
      "text/plain": [
       "<IPython.core.display.Javascript object>"
      ]
     },
     "metadata": {},
     "output_type": "display_data"
    },
    {
     "data": {
      "text/markdown": [
       "<span style=\"color:#33cc33\">Correct</span>"
      ],
      "text/plain": [
       "Correct"
      ]
     },
     "metadata": {},
     "output_type": "display_data"
    }
   ],
   "source": [
    "# TODO: Complete the function\n",
    "def get_expected_cost(beds, baths):\n",
    "    value = 80000+beds*30000+baths*10000\n",
    "    return value\n",
    "\n",
    "# Check your answer \n",
    "q1.check()"
   ]
  },
  {
   "cell_type": "code",
   "execution_count": 3,
   "id": "34fc5ef9",
   "metadata": {
    "execution": {
     "iopub.execute_input": "2022-06-04T17:22:56.050543Z",
     "iopub.status.busy": "2022-06-04T17:22:56.049732Z",
     "iopub.status.idle": "2022-06-04T17:22:56.053388Z",
     "shell.execute_reply": "2022-06-04T17:22:56.052552Z"
    },
    "papermill": {
     "duration": 0.011916,
     "end_time": "2022-06-04T17:22:56.055315",
     "exception": false,
     "start_time": "2022-06-04T17:22:56.043399",
     "status": "completed"
    },
    "tags": []
   },
   "outputs": [],
   "source": [
    "# Uncomment to see a hint\n",
    "#q1.hint()\n",
    "\n",
    "# Uncomment to view the solution\n",
    "#q1.solution()"
   ]
  },
  {
   "cell_type": "markdown",
   "id": "a3b3fba7",
   "metadata": {
    "papermill": {
     "duration": 0.004894,
     "end_time": "2022-06-04T17:22:56.065406",
     "exception": false,
     "start_time": "2022-06-04T17:22:56.060512",
     "status": "completed"
    },
    "tags": []
   },
   "source": [
    "# Question 2\n",
    "\n",
    "You are thinking about buying a home and want to get an idea of how much you will spend, based on the number of bedrooms and bathrooms.  You are trying to decide between four different options:\n",
    "- Option 1: house with two bedrooms and three bathrooms\n",
    "- Option 2: house with three bedrooms and two bathrooms\n",
    "- Option 3: house with three bedrooms and three bathrooms\n",
    "- Option 4: house with three bedrooms and four bathrooms\n",
    "\n",
    "Use the `get_expected_cost()` function you defined in question 1 to set `option_1`, `option_2`, `option_3`, and `option_4` to the expected cost of each option."
   ]
  },
  {
   "cell_type": "code",
   "execution_count": 4,
   "id": "ce1e87dd",
   "metadata": {
    "execution": {
     "iopub.execute_input": "2022-06-04T17:22:56.077494Z",
     "iopub.status.busy": "2022-06-04T17:22:56.076855Z",
     "iopub.status.idle": "2022-06-04T17:22:56.085323Z",
     "shell.execute_reply": "2022-06-04T17:22:56.084211Z"
    },
    "papermill": {
     "duration": 0.016716,
     "end_time": "2022-06-04T17:22:56.087217",
     "exception": false,
     "start_time": "2022-06-04T17:22:56.070501",
     "status": "completed"
    },
    "tags": []
   },
   "outputs": [
    {
     "name": "stdout",
     "output_type": "stream",
     "text": [
      "170000\n",
      "190000\n",
      "200000\n",
      "210000\n"
     ]
    },
    {
     "data": {
      "application/javascript": [
       "parent.postMessage({\"jupyterEvent\": \"custom.exercise_interaction\", \"data\": {\"outcomeType\": 1, \"valueTowardsCompletion\": 0.2, \"interactionType\": 1, \"questionType\": 1, \"questionId\": \"2_RunGetExpectedCost\", \"learnToolsVersion\": \"0.3.4\", \"failureMessage\": \"\", \"exceptionClass\": \"\", \"trace\": \"\"}}, \"*\")"
      ],
      "text/plain": [
       "<IPython.core.display.Javascript object>"
      ]
     },
     "metadata": {},
     "output_type": "display_data"
    },
    {
     "data": {
      "text/markdown": [
       "<span style=\"color:#33cc33\">Correct</span>"
      ],
      "text/plain": [
       "Correct"
      ]
     },
     "metadata": {},
     "output_type": "display_data"
    }
   ],
   "source": [
    "# TODO: Use the get_expected_cost function to fill in each value\n",
    "option_one = get_expected_cost(2, 3)\n",
    "option_two = get_expected_cost(3, 2)\n",
    "option_three = get_expected_cost(3, 3)\n",
    "option_four = get_expected_cost(3, 4)\n",
    "\n",
    "print(option_one)\n",
    "print(option_two)\n",
    "print(option_three)\n",
    "print(option_four)\n",
    "\n",
    "# Check your answer\n",
    "q2.check()"
   ]
  },
  {
   "cell_type": "code",
   "execution_count": 5,
   "id": "42835430",
   "metadata": {
    "execution": {
     "iopub.execute_input": "2022-06-04T17:22:56.099491Z",
     "iopub.status.busy": "2022-06-04T17:22:56.099113Z",
     "iopub.status.idle": "2022-06-04T17:22:56.103197Z",
     "shell.execute_reply": "2022-06-04T17:22:56.102139Z"
    },
    "papermill": {
     "duration": 0.012642,
     "end_time": "2022-06-04T17:22:56.105295",
     "exception": false,
     "start_time": "2022-06-04T17:22:56.092653",
     "status": "completed"
    },
    "tags": []
   },
   "outputs": [],
   "source": [
    "# Uncomment to see a hint\n",
    "#q2.hint()\n",
    "\n",
    "# Uncomment to view the solution\n",
    "# q2.solution()"
   ]
  },
  {
   "cell_type": "markdown",
   "id": "b96018b0",
   "metadata": {
    "papermill": {
     "duration": 0.005001,
     "end_time": "2022-06-04T17:22:56.115968",
     "exception": false,
     "start_time": "2022-06-04T17:22:56.110967",
     "status": "completed"
    },
    "tags": []
   },
   "source": [
    "# Question 3\n",
    "\n",
    "You're a home decorator, and you'd like to use Python to streamline some of your work.  Specifically, you're creating a tool that you intend to use to calculate the cost of painting a room.\n",
    "\n",
    "As a first step, define a function `get_cost()` that takes as input:\n",
    "- `sqft_walls` = total square feet of walls to be painted\n",
    "- `sqft_ceiling` = square feet of ceiling to be painted\n",
    "- `sqft_per_gallon` = number of square feet that you can cover with one gallon of paint\n",
    "- `cost_per_gallon` = cost (in dollars) of one gallon of paint\n",
    "\n",
    "It should return the cost (in dollars) of putting one coat of paint on all walls and the ceiling.  Assume you can buy the exact amount of paint that you need, so you can buy partial gallons (e.g., if you need 7.523 gallons, you can buy that exact amount, instead of needing to buy 8 gallons and waste some paint).  Do not round your answer."
   ]
  },
  {
   "cell_type": "code",
   "execution_count": 6,
   "id": "fd3fabd7",
   "metadata": {
    "execution": {
     "iopub.execute_input": "2022-06-04T17:22:56.128291Z",
     "iopub.status.busy": "2022-06-04T17:22:56.127567Z",
     "iopub.status.idle": "2022-06-04T17:22:56.136203Z",
     "shell.execute_reply": "2022-06-04T17:22:56.135495Z"
    },
    "papermill": {
     "duration": 0.016644,
     "end_time": "2022-06-04T17:22:56.137867",
     "exception": false,
     "start_time": "2022-06-04T17:22:56.121223",
     "status": "completed"
    },
    "tags": []
   },
   "outputs": [
    {
     "data": {
      "application/javascript": [
       "parent.postMessage({\"jupyterEvent\": \"custom.exercise_interaction\", \"data\": {\"outcomeType\": 2, \"failureMessage\": \"Expected return value of `21.599999999999998` given `sqft_walls=432`, `sqft_ceiling=144`, `sqft_per_gallon=400`, `cost_per_gallon=15`, but got `<learntools.core.constants.PlaceholderValue object at 0x7f484f51f610>` instead.\", \"interactionType\": 1, \"questionType\": 2, \"questionId\": \"3_GetCostPaint\", \"learnToolsVersion\": \"0.3.4\", \"valueTowardsCompletion\": 0.0, \"exceptionClass\": \"\", \"trace\": \"\"}}, \"*\")"
      ],
      "text/plain": [
       "<IPython.core.display.Javascript object>"
      ]
     },
     "metadata": {},
     "output_type": "display_data"
    },
    {
     "data": {
      "text/markdown": [
       "<span style=\"color:#cc3333\">Incorrect:</span> Expected return value of `21.599999999999998` given `sqft_walls=432`, `sqft_ceiling=144`, `sqft_per_gallon=400`, `cost_per_gallon=15`, but got `<learntools.core.constants.PlaceholderValue object at 0x7f484f51f610>` instead."
      ],
      "text/plain": [
       "Incorrect: Expected return value of `21.599999999999998` given `sqft_walls=432`, `sqft_ceiling=144`, `sqft_per_gallon=400`, `cost_per_gallon=15`, but got `<learntools.core.constants.PlaceholderValue object at 0x7f484f51f610>` instead."
      ]
     },
     "metadata": {},
     "output_type": "display_data"
    }
   ],
   "source": [
    "# TODO: Finish defining the function\n",
    "def get_cost(sqft_walls, sqft_ceiling, sqft_per_gallon, cost_per_gallon):\n",
    "    cost = ____\n",
    "    return cost\n",
    "\n",
    "# Check your answer\n",
    "q3.check()"
   ]
  },
  {
   "cell_type": "code",
   "execution_count": 7,
   "id": "e92ec78e",
   "metadata": {
    "execution": {
     "iopub.execute_input": "2022-06-04T17:22:56.150605Z",
     "iopub.status.busy": "2022-06-04T17:22:56.149833Z",
     "iopub.status.idle": "2022-06-04T17:22:56.153472Z",
     "shell.execute_reply": "2022-06-04T17:22:56.152837Z"
    },
    "papermill": {
     "duration": 0.01172,
     "end_time": "2022-06-04T17:22:56.155085",
     "exception": false,
     "start_time": "2022-06-04T17:22:56.143365",
     "status": "completed"
    },
    "tags": []
   },
   "outputs": [],
   "source": [
    "# Uncomment to see a hint\n",
    "#q3.hint()\n",
    "\n",
    "# Uncomment to view the solution\n",
    "#q3.solution()"
   ]
  },
  {
   "cell_type": "markdown",
   "id": "a5c0c3ee",
   "metadata": {
    "papermill": {
     "duration": 0.005167,
     "end_time": "2022-06-04T17:22:56.165858",
     "exception": false,
     "start_time": "2022-06-04T17:22:56.160691",
     "status": "completed"
    },
    "tags": []
   },
   "source": [
    "# Question 4\n",
    "\n",
    "Use the `get_cost()` function you defined in Question 3 to calculate the cost of applying one coat of paint to a room with:\n",
    "- 432 square feet of walls, and\n",
    "- 144 square feet of ceiling.\n",
    "\n",
    "Assume that one gallon of paint covers 400 square feet and costs $15.  As in Question 3, assume you can buy partial gallons of paint.  Do not round your answer."
   ]
  },
  {
   "cell_type": "code",
   "execution_count": 8,
   "id": "b3725d9a",
   "metadata": {
    "execution": {
     "iopub.execute_input": "2022-06-04T17:22:56.178867Z",
     "iopub.status.busy": "2022-06-04T17:22:56.177869Z",
     "iopub.status.idle": "2022-06-04T17:22:56.186001Z",
     "shell.execute_reply": "2022-06-04T17:22:56.185125Z"
    },
    "papermill": {
     "duration": 0.016434,
     "end_time": "2022-06-04T17:22:56.187863",
     "exception": false,
     "start_time": "2022-06-04T17:22:56.171429",
     "status": "completed"
    },
    "tags": []
   },
   "outputs": [
    {
     "data": {
      "application/javascript": [
       "parent.postMessage({\"jupyterEvent\": \"custom.exercise_interaction\", \"data\": {\"outcomeType\": 4, \"interactionType\": 1, \"questionType\": 1, \"questionId\": \"4_GetCostPaintExample\", \"learnToolsVersion\": \"0.3.4\", \"valueTowardsCompletion\": 0.0, \"failureMessage\": \"\", \"exceptionClass\": \"\", \"trace\": \"\"}}, \"*\")"
      ],
      "text/plain": [
       "<IPython.core.display.Javascript object>"
      ]
     },
     "metadata": {},
     "output_type": "display_data"
    },
    {
     "data": {
      "text/markdown": [
       "<span style=\"color:#ccaa33\">Check:</span> When you've updated the starter code, `check()` will tell you whether your code is correct. You need to update the code that creates variable `project_cost`"
      ],
      "text/plain": [
       "Check: When you've updated the starter code, `check()` will tell you whether your code is correct. You need to update the code that creates variable `project_cost`"
      ]
     },
     "metadata": {},
     "output_type": "display_data"
    }
   ],
   "source": [
    "# TODO: Set the project_cost variable to the cost of the project\n",
    "project_cost = ____\n",
    "\n",
    "# Check your answer\n",
    "q4.check()"
   ]
  },
  {
   "cell_type": "code",
   "execution_count": 9,
   "id": "68c78efd",
   "metadata": {
    "execution": {
     "iopub.execute_input": "2022-06-04T17:22:56.201147Z",
     "iopub.status.busy": "2022-06-04T17:22:56.200167Z",
     "iopub.status.idle": "2022-06-04T17:22:56.204328Z",
     "shell.execute_reply": "2022-06-04T17:22:56.203576Z"
    },
    "papermill": {
     "duration": 0.012501,
     "end_time": "2022-06-04T17:22:56.205981",
     "exception": false,
     "start_time": "2022-06-04T17:22:56.193480",
     "status": "completed"
    },
    "tags": []
   },
   "outputs": [],
   "source": [
    "# Uncomment to see a hint\n",
    "#q4.hint()\n",
    "\n",
    "# Uncomment to view the solution\n",
    "#q4.solution()"
   ]
  },
  {
   "cell_type": "markdown",
   "id": "48858acc",
   "metadata": {
    "papermill": {
     "duration": 0.005545,
     "end_time": "2022-06-04T17:22:56.217425",
     "exception": false,
     "start_time": "2022-06-04T17:22:56.211880",
     "status": "completed"
    },
    "tags": []
   },
   "source": [
    "# 🌶️ Question 5\n",
    "\n",
    "Now say you can no longer buy fractions of a gallon.  (For instance, if you need 4.3 gallons to do a project, then you have to buy 5 gallons of paint.)\n",
    "\n",
    "With this new scenario, you will create a new function `get_actual_cost` that uses the same inputs and calculates the cost of your project.\n",
    "\n",
    "One function that you'll need to use to do this is `math.ceil()`.  We demonstrate usage of this function in the code cell below.  It takes as a number as input and rounds the number up to the nearest integer.  \n",
    "\n",
    "Run the next code cell to test this function for yourself.  Feel free to change the value of `test_value` and make sure `math.ceil()` returns the number you expect."
   ]
  },
  {
   "cell_type": "code",
   "execution_count": 10,
   "id": "0d0eaaf7",
   "metadata": {
    "execution": {
     "iopub.execute_input": "2022-06-04T17:22:56.230716Z",
     "iopub.status.busy": "2022-06-04T17:22:56.230162Z",
     "iopub.status.idle": "2022-06-04T17:22:56.234781Z",
     "shell.execute_reply": "2022-06-04T17:22:56.233785Z"
    },
    "papermill": {
     "duration": 0.014099,
     "end_time": "2022-06-04T17:22:56.237212",
     "exception": false,
     "start_time": "2022-06-04T17:22:56.223113",
     "status": "completed"
    },
    "tags": []
   },
   "outputs": [
    {
     "name": "stdout",
     "output_type": "stream",
     "text": [
      "3\n"
     ]
    }
   ],
   "source": [
    "test_value = 2.17\n",
    "\n",
    "rounded_value = math.ceil(test_value)\n",
    "print(rounded_value)"
   ]
  },
  {
   "cell_type": "markdown",
   "id": "64e356ee",
   "metadata": {
    "papermill": {
     "duration": 0.005592,
     "end_time": "2022-06-04T17:22:56.249371",
     "exception": false,
     "start_time": "2022-06-04T17:22:56.243779",
     "status": "completed"
    },
    "tags": []
   },
   "source": [
    "Use the next code cell to define the function `get_actual_cost()`.  You'll need to use the `math.ceil()` function to do this.\n",
    "\n",
    "When answering this question, note that it's completely valid to define a function that makes use of another function.  For instance, we can define a function `round_up_and_divide_by_three` that makes use of the `math.ceil` function:\n",
    "```\n",
    "def round_up_and_divide_by_three(num):\n",
    "    new_value = math.ceil(num)\n",
    "    final_value = new_value / 3\n",
    "    return final_value\n",
    "```"
   ]
  },
  {
   "cell_type": "code",
   "execution_count": 11,
   "id": "5735f2e6",
   "metadata": {
    "execution": {
     "iopub.execute_input": "2022-06-04T17:22:56.262158Z",
     "iopub.status.busy": "2022-06-04T17:22:56.261740Z",
     "iopub.status.idle": "2022-06-04T17:22:56.268672Z",
     "shell.execute_reply": "2022-06-04T17:22:56.268048Z"
    },
    "papermill": {
     "duration": 0.015381,
     "end_time": "2022-06-04T17:22:56.270450",
     "exception": false,
     "start_time": "2022-06-04T17:22:56.255069",
     "status": "completed"
    },
    "tags": []
   },
   "outputs": [
    {
     "data": {
      "application/javascript": [
       "parent.postMessage({\"jupyterEvent\": \"custom.exercise_interaction\", \"data\": {\"outcomeType\": 2, \"failureMessage\": \"Expected return value of `30` given `sqft_walls=432`, `sqft_ceiling=144`, `sqft_per_gallon=400`, `cost_per_gallon=15`, but got `<learntools.core.constants.PlaceholderValue object at 0x7f484f51f610>` instead.\", \"interactionType\": 1, \"questionType\": 2, \"questionId\": \"5_NoMoreFractions\", \"learnToolsVersion\": \"0.3.4\", \"valueTowardsCompletion\": 0.0, \"exceptionClass\": \"\", \"trace\": \"\"}}, \"*\")"
      ],
      "text/plain": [
       "<IPython.core.display.Javascript object>"
      ]
     },
     "metadata": {},
     "output_type": "display_data"
    },
    {
     "data": {
      "text/markdown": [
       "<span style=\"color:#cc3333\">Incorrect:</span> Expected return value of `30` given `sqft_walls=432`, `sqft_ceiling=144`, `sqft_per_gallon=400`, `cost_per_gallon=15`, but got `<learntools.core.constants.PlaceholderValue object at 0x7f484f51f610>` instead."
      ],
      "text/plain": [
       "Incorrect: Expected return value of `30` given `sqft_walls=432`, `sqft_ceiling=144`, `sqft_per_gallon=400`, `cost_per_gallon=15`, but got `<learntools.core.constants.PlaceholderValue object at 0x7f484f51f610>` instead."
      ]
     },
     "metadata": {},
     "output_type": "display_data"
    }
   ],
   "source": [
    "def get_actual_cost(sqft_walls, sqft_ceiling, sqft_per_gallon, cost_per_gallon):\n",
    "    cost = ____\n",
    "    return cost\n",
    "\n",
    "# Check your answer\n",
    "q5.check()"
   ]
  },
  {
   "cell_type": "code",
   "execution_count": 12,
   "id": "174a4927",
   "metadata": {
    "execution": {
     "iopub.execute_input": "2022-06-04T17:22:56.284344Z",
     "iopub.status.busy": "2022-06-04T17:22:56.283853Z",
     "iopub.status.idle": "2022-06-04T17:22:56.286766Z",
     "shell.execute_reply": "2022-06-04T17:22:56.286190Z"
    },
    "papermill": {
     "duration": 0.011672,
     "end_time": "2022-06-04T17:22:56.288424",
     "exception": false,
     "start_time": "2022-06-04T17:22:56.276752",
     "status": "completed"
    },
    "tags": []
   },
   "outputs": [],
   "source": [
    "# Uncomment to see a hint\n",
    "#q5.hint()\n",
    "\n",
    "# Uncomment to view the solution\n",
    "#q5.solution()"
   ]
  },
  {
   "cell_type": "markdown",
   "id": "b02bcec5",
   "metadata": {
    "papermill": {
     "duration": 0.005768,
     "end_time": "2022-06-04T17:22:56.300309",
     "exception": false,
     "start_time": "2022-06-04T17:22:56.294541",
     "status": "completed"
    },
    "tags": []
   },
   "source": [
    "Once your function is verified as correct, run the next code cell to calculate the updated cost of your project."
   ]
  },
  {
   "cell_type": "code",
   "execution_count": 13,
   "id": "7e7067f4",
   "metadata": {
    "execution": {
     "iopub.execute_input": "2022-06-04T17:22:56.314228Z",
     "iopub.status.busy": "2022-06-04T17:22:56.313659Z",
     "iopub.status.idle": "2022-06-04T17:22:56.318996Z",
     "shell.execute_reply": "2022-06-04T17:22:56.318166Z"
    },
    "papermill": {
     "duration": 0.01429,
     "end_time": "2022-06-04T17:22:56.320827",
     "exception": false,
     "start_time": "2022-06-04T17:22:56.306537",
     "status": "completed"
    },
    "tags": []
   },
   "outputs": [
    {
     "data": {
      "text/markdown": [],
      "text/plain": [
       "<learntools.core.constants.PlaceholderValue at 0x7f484f51f610>"
      ]
     },
     "execution_count": 13,
     "metadata": {},
     "output_type": "execute_result"
    }
   ],
   "source": [
    "get_actual_cost(432, 144, 400, 15) "
   ]
  },
  {
   "cell_type": "markdown",
   "id": "a4dbc544",
   "metadata": {
    "papermill": {
     "duration": 0.005942,
     "end_time": "2022-06-04T17:22:56.333436",
     "exception": false,
     "start_time": "2022-06-04T17:22:56.327494",
     "status": "completed"
    },
    "tags": []
   },
   "source": [
    "Say you're working with a slightly larger room.  Run the next code cell to calculate the cost of the project."
   ]
  },
  {
   "cell_type": "code",
   "execution_count": 14,
   "id": "382439a3",
   "metadata": {
    "execution": {
     "iopub.execute_input": "2022-06-04T17:22:56.347361Z",
     "iopub.status.busy": "2022-06-04T17:22:56.346971Z",
     "iopub.status.idle": "2022-06-04T17:22:56.352406Z",
     "shell.execute_reply": "2022-06-04T17:22:56.351557Z"
    },
    "papermill": {
     "duration": 0.014626,
     "end_time": "2022-06-04T17:22:56.354320",
     "exception": false,
     "start_time": "2022-06-04T17:22:56.339694",
     "status": "completed"
    },
    "tags": []
   },
   "outputs": [
    {
     "data": {
      "text/markdown": [],
      "text/plain": [
       "<learntools.core.constants.PlaceholderValue at 0x7f484f51f610>"
      ]
     },
     "execution_count": 14,
     "metadata": {},
     "output_type": "execute_result"
    }
   ],
   "source": [
    "get_actual_cost(594, 288, 400, 15) "
   ]
  },
  {
   "cell_type": "markdown",
   "id": "f23a027a",
   "metadata": {
    "papermill": {
     "duration": 0.006009,
     "end_time": "2022-06-04T17:22:56.366416",
     "exception": false,
     "start_time": "2022-06-04T17:22:56.360407",
     "status": "completed"
    },
    "tags": []
   },
   "source": [
    "# Keep going\n",
    "\n",
    "Continue to learn about **[data types](https://www.kaggle.com/alexisbcook/data-types)**."
   ]
  },
  {
   "cell_type": "markdown",
   "id": "7e63ee77",
   "metadata": {
    "papermill": {
     "duration": 0.005809,
     "end_time": "2022-06-04T17:22:56.379016",
     "exception": false,
     "start_time": "2022-06-04T17:22:56.373207",
     "status": "completed"
    },
    "tags": []
   },
   "source": [
    "---\n",
    "\n",
    "\n",
    "\n",
    "\n",
    "*Have questions or comments? Visit the [course discussion forum](https://www.kaggle.com/learn/intro-to-programming/discussion) to chat with other learners.*"
   ]
  }
 ],
 "metadata": {
  "kernelspec": {
   "display_name": "Python 3",
   "language": "python",
   "name": "python3"
  },
  "language_info": {
   "codemirror_mode": {
    "name": "ipython",
    "version": 3
   },
   "file_extension": ".py",
   "mimetype": "text/x-python",
   "name": "python",
   "nbconvert_exporter": "python",
   "pygments_lexer": "ipython3",
   "version": "3.7.12"
  },
  "papermill": {
   "default_parameters": {},
   "duration": 9.415968,
   "end_time": "2022-06-04T17:22:57.006496",
   "environment_variables": {},
   "exception": null,
   "input_path": "__notebook__.ipynb",
   "output_path": "__notebook__.ipynb",
   "parameters": {},
   "start_time": "2022-06-04T17:22:47.590528",
   "version": "2.3.4"
  }
 },
 "nbformat": 4,
 "nbformat_minor": 5
}
