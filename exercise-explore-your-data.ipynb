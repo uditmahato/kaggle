{
 "cells": [
  {
   "cell_type": "markdown",
   "id": "183ada7c",
   "metadata": {
    "papermill": {
     "duration": 0.011529,
     "end_time": "2022-05-20T17:28:26.841645",
     "exception": false,
     "start_time": "2022-05-20T17:28:26.830116",
     "status": "completed"
    },
    "tags": []
   },
   "source": [
    "**[Machine Learning Course Home Page](https://www.kaggle.com/learn/machine-learning)**\n",
    "\n",
    "---\n"
   ]
  },
  {
   "cell_type": "markdown",
   "id": "92b9d0a1",
   "metadata": {
    "papermill": {
     "duration": 0.01084,
     "end_time": "2022-05-20T17:28:26.863222",
     "exception": false,
     "start_time": "2022-05-20T17:28:26.852382",
     "status": "completed"
    },
    "tags": []
   },
   "source": [
    "This exercise will test your ability to read a data file and understand statistics about the data.\n",
    "\n",
    "In later exercises, you will apply techniques to filter the data, build a machine learning model, and iteratively improve your model.\n",
    "\n",
    "The course examples use data from Melbourne. To ensure you can apply these techniques on your own, you will have to apply them to a new dataset (with house prices from Iowa).\n",
    "\n",
    "The exercises use a \"notebook\" coding environment.  In case you are unfamiliar with notebooks, we have a [90-second intro video](https://www.youtube.com/watch?v=4C2qMnaIKL4).\n",
    "\n",
    "# Exercises\n",
    "\n",
    "Run the following cell to set up code-checking, which will verify your work as you go."
   ]
  },
  {
   "cell_type": "code",
   "execution_count": 1,
   "id": "8ace78f9",
   "metadata": {
    "execution": {
     "iopub.execute_input": "2022-05-20T17:28:26.885942Z",
     "iopub.status.busy": "2022-05-20T17:28:26.885471Z",
     "iopub.status.idle": "2022-05-20T17:28:26.935110Z",
     "shell.execute_reply": "2022-05-20T17:28:26.934370Z"
    },
    "papermill": {
     "duration": 0.064684,
     "end_time": "2022-05-20T17:28:26.938345",
     "exception": false,
     "start_time": "2022-05-20T17:28:26.873661",
     "status": "completed"
    },
    "tags": []
   },
   "outputs": [
    {
     "name": "stdout",
     "output_type": "stream",
     "text": [
      "Setup Complete\n"
     ]
    }
   ],
   "source": [
    "# Set up code checking\n",
    "from learntools.core import binder\n",
    "binder.bind(globals())\n",
    "from learntools.machine_learning.ex2 import *\n",
    "print(\"Setup Complete\")"
   ]
  },
  {
   "cell_type": "markdown",
   "id": "7941df8c",
   "metadata": {
    "papermill": {
     "duration": 0.010478,
     "end_time": "2022-05-20T17:28:26.960359",
     "exception": false,
     "start_time": "2022-05-20T17:28:26.949881",
     "status": "completed"
    },
    "tags": []
   },
   "source": [
    "## Step 1: Loading Data\n",
    "Read the Iowa data file into a Pandas DataFrame called `home_data`."
   ]
  },
  {
   "cell_type": "code",
   "execution_count": 2,
   "id": "0897c2f9",
   "metadata": {
    "execution": {
     "iopub.execute_input": "2022-05-20T17:28:26.983821Z",
     "iopub.status.busy": "2022-05-20T17:28:26.983183Z",
     "iopub.status.idle": "2022-05-20T17:28:27.035007Z",
     "shell.execute_reply": "2022-05-20T17:28:27.034113Z"
    },
    "papermill": {
     "duration": 0.066123,
     "end_time": "2022-05-20T17:28:27.037184",
     "exception": false,
     "start_time": "2022-05-20T17:28:26.971061",
     "status": "completed"
    },
    "tags": []
   },
   "outputs": [
    {
     "data": {
      "application/javascript": [
       "parent.postMessage({\"jupyterEvent\": \"custom.exercise_interaction\", \"data\": {\"outcomeType\": 1, \"valueTowardsCompletion\": 0.5, \"interactionType\": 1, \"questionType\": 1, \"questionId\": \"1_LoadHomeData\", \"learnToolsVersion\": \"0.3.4\", \"failureMessage\": \"\", \"exceptionClass\": \"\", \"trace\": \"\"}}, \"*\")"
      ],
      "text/plain": [
       "<IPython.core.display.Javascript object>"
      ]
     },
     "metadata": {},
     "output_type": "display_data"
    },
    {
     "data": {
      "text/markdown": [
       "<span style=\"color:#33cc33\">Correct</span>"
      ],
      "text/plain": [
       "Correct"
      ]
     },
     "metadata": {},
     "output_type": "display_data"
    }
   ],
   "source": [
    "import pandas as pd\n",
    "\n",
    "# Path of the file to read\n",
    "iowa_file_path = '../input/home-data-for-ml-course/train.csv'\n",
    "\n",
    "# Fill in the line below to read the file into a variable home_data\n",
    "home_data = pd.read_csv(iowa_file_path)\n",
    "\n",
    "# Call line below with no argument to check that you've loaded the data correctly\n",
    "step_1.check()"
   ]
  },
  {
   "cell_type": "code",
   "execution_count": 3,
   "id": "d1d2aeef",
   "metadata": {
    "collapsed": true,
    "execution": {
     "iopub.execute_input": "2022-05-20T17:28:27.063783Z",
     "iopub.status.busy": "2022-05-20T17:28:27.063479Z",
     "iopub.status.idle": "2022-05-20T17:28:27.067806Z",
     "shell.execute_reply": "2022-05-20T17:28:27.066656Z"
    },
    "jupyter": {
     "outputs_hidden": true
    },
    "papermill": {
     "duration": 0.020389,
     "end_time": "2022-05-20T17:28:27.070228",
     "exception": false,
     "start_time": "2022-05-20T17:28:27.049839",
     "status": "completed"
    },
    "tags": []
   },
   "outputs": [],
   "source": [
    "# Lines below will give you a hint or solution code\n",
    "#step_1.hint()\n",
    "#step_1.solution()"
   ]
  },
  {
   "cell_type": "markdown",
   "id": "de9481c4",
   "metadata": {
    "papermill": {
     "duration": 0.012185,
     "end_time": "2022-05-20T17:28:27.095230",
     "exception": false,
     "start_time": "2022-05-20T17:28:27.083045",
     "status": "completed"
    },
    "tags": []
   },
   "source": [
    "## Step 2: Review The Data\n",
    "Use the command you learned to view summary statistics of the data. Then fill in variables to answer the following questions"
   ]
  },
  {
   "cell_type": "code",
   "execution_count": 4,
   "id": "93780352",
   "metadata": {
    "collapsed": true,
    "execution": {
     "iopub.execute_input": "2022-05-20T17:28:27.121662Z",
     "iopub.status.busy": "2022-05-20T17:28:27.121356Z",
     "iopub.status.idle": "2022-05-20T17:28:27.126597Z",
     "shell.execute_reply": "2022-05-20T17:28:27.125763Z"
    },
    "jupyter": {
     "outputs_hidden": true
    },
    "papermill": {
     "duration": 0.021339,
     "end_time": "2022-05-20T17:28:27.129091",
     "exception": false,
     "start_time": "2022-05-20T17:28:27.107752",
     "status": "completed"
    },
    "tags": []
   },
   "outputs": [
    {
     "data": {
      "text/markdown": [],
      "text/plain": [
       "<learntools.core.constants.PlaceholderValue at 0x7f3f9ddd1910>"
      ]
     },
     "execution_count": 4,
     "metadata": {},
     "output_type": "execute_result"
    }
   ],
   "source": [
    "# Print summary statistics in next line\n",
    "____"
   ]
  },
  {
   "cell_type": "code",
   "execution_count": 5,
   "id": "92f4a7c1",
   "metadata": {
    "execution": {
     "iopub.execute_input": "2022-05-20T17:28:27.157433Z",
     "iopub.status.busy": "2022-05-20T17:28:27.157140Z",
     "iopub.status.idle": "2022-05-20T17:28:27.164559Z",
     "shell.execute_reply": "2022-05-20T17:28:27.163793Z"
    },
    "papermill": {
     "duration": 0.024702,
     "end_time": "2022-05-20T17:28:27.166993",
     "exception": false,
     "start_time": "2022-05-20T17:28:27.142291",
     "status": "completed"
    },
    "tags": []
   },
   "outputs": [
    {
     "data": {
      "application/javascript": [
       "parent.postMessage({\"jupyterEvent\": \"custom.exercise_interaction\", \"data\": {\"outcomeType\": 4, \"interactionType\": 1, \"questionType\": 1, \"questionId\": \"2_HomeDescription\", \"learnToolsVersion\": \"0.3.4\", \"valueTowardsCompletion\": 0.0, \"failureMessage\": \"\", \"exceptionClass\": \"\", \"trace\": \"\"}}, \"*\")"
      ],
      "text/plain": [
       "<IPython.core.display.Javascript object>"
      ]
     },
     "metadata": {},
     "output_type": "display_data"
    },
    {
     "data": {
      "text/markdown": [
       "<span style=\"color:#ccaa33\">Check:</span> When you've updated the starter code, `check()` will tell you whether your code is correct. You need to update the code that creates variables `avg_lot_size`, `newest_home_age`"
      ],
      "text/plain": [
       "Check: When you've updated the starter code, `check()` will tell you whether your code is correct. You need to update the code that creates variables `avg_lot_size`, `newest_home_age`"
      ]
     },
     "metadata": {},
     "output_type": "display_data"
    }
   ],
   "source": [
    "# What is the average lot size (rounded to nearest integer)?\n",
    "avg_lot_size = ____\n",
    "\n",
    "# As of today, how old is the newest home (current year - the date in which it was built)\n",
    "newest_home_age = ____\n",
    "\n",
    "# Checks your answers\n",
    "step_2.check()"
   ]
  },
  {
   "cell_type": "code",
   "execution_count": 6,
   "id": "eb732ba3",
   "metadata": {
    "collapsed": true,
    "execution": {
     "iopub.execute_input": "2022-05-20T17:28:27.198540Z",
     "iopub.status.busy": "2022-05-20T17:28:27.198277Z",
     "iopub.status.idle": "2022-05-20T17:28:27.201656Z",
     "shell.execute_reply": "2022-05-20T17:28:27.200812Z"
    },
    "jupyter": {
     "outputs_hidden": true
    },
    "papermill": {
     "duration": 0.022035,
     "end_time": "2022-05-20T17:28:27.203538",
     "exception": false,
     "start_time": "2022-05-20T17:28:27.181503",
     "status": "completed"
    },
    "tags": []
   },
   "outputs": [],
   "source": [
    "#step_2.hint()\n",
    "#step_2.solution()"
   ]
  },
  {
   "cell_type": "markdown",
   "id": "f0878314",
   "metadata": {
    "papermill": {
     "duration": 0.014108,
     "end_time": "2022-05-20T17:28:27.232180",
     "exception": false,
     "start_time": "2022-05-20T17:28:27.218072",
     "status": "completed"
    },
    "tags": []
   },
   "source": [
    "## Think About Your Data\n",
    "\n",
    "The newest house in your data isn't that new.  A few potential explanations for this:\n",
    "1. They haven't built new houses where this data was collected.\n",
    "1. The data was collected a long time ago. Houses built after the data publication wouldn't show up.\n",
    "\n",
    "If the reason is explanation #1 above, does that affect your trust in the model you build with this data? What about if it is reason #2?\n",
    "\n",
    "How could you dig into the data to see which explanation is more plausible?\n",
    "\n",
    "Check out this **[discussion thread](https://www.kaggle.com/learn-forum/60581)** to see what others think or to add your ideas.\n",
    "\n",
    "# Keep Going\n",
    "\n",
    "You are ready for **[Your First Machine Learning Model](https://www.kaggle.com/dansbecker/your-first-machine-learning-model).**\n"
   ]
  },
  {
   "cell_type": "markdown",
   "id": "541699cd",
   "metadata": {
    "papermill": {
     "duration": 0.01467,
     "end_time": "2022-05-20T17:28:27.261263",
     "exception": false,
     "start_time": "2022-05-20T17:28:27.246593",
     "status": "completed"
    },
    "tags": []
   },
   "source": [
    "---\n",
    "**[Machine Learning Course Home Page](https://www.kaggle.com/learn/machine-learning)**\n",
    "\n"
   ]
  }
 ],
 "metadata": {
  "kernelspec": {
   "display_name": "Python 3",
   "language": "python",
   "name": "python3"
  },
  "language_info": {
   "codemirror_mode": {
    "name": "ipython",
    "version": 3
   },
   "file_extension": ".py",
   "mimetype": "text/x-python",
   "name": "python",
   "nbconvert_exporter": "python",
   "pygments_lexer": "ipython3",
   "version": "3.7.12"
  },
  "papermill": {
   "default_parameters": {},
   "duration": 11.856488,
   "end_time": "2022-05-20T17:28:27.896133",
   "environment_variables": {},
   "exception": null,
   "input_path": "__notebook__.ipynb",
   "output_path": "__notebook__.ipynb",
   "parameters": {},
   "start_time": "2022-05-20T17:28:16.039645",
   "version": "2.3.4"
  }
 },
 "nbformat": 4,
 "nbformat_minor": 5
}
