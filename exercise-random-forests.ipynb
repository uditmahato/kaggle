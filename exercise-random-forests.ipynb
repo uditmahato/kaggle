{
 "cells": [
  {
   "cell_type": "markdown",
   "id": "cba2f3a3",
   "metadata": {
    "papermill": {
     "duration": 0.003117,
     "end_time": "2022-05-28T17:31:26.926122",
     "exception": false,
     "start_time": "2022-05-28T17:31:26.923005",
     "status": "completed"
    },
    "tags": []
   },
   "source": [
    "**This notebook is an exercise in the [Introduction to Machine Learning](https://www.kaggle.com/learn/intro-to-machine-learning) course.  You can reference the tutorial at [this link](https://www.kaggle.com/dansbecker/random-forests).**\n",
    "\n",
    "---\n"
   ]
  },
  {
   "cell_type": "markdown",
   "id": "094485c9",
   "metadata": {
    "papermill": {
     "duration": 0.001865,
     "end_time": "2022-05-28T17:31:26.930303",
     "exception": false,
     "start_time": "2022-05-28T17:31:26.928438",
     "status": "completed"
    },
    "tags": []
   },
   "source": [
    "## Recap\n",
    "Here's the code you've written so far."
   ]
  },
  {
   "cell_type": "code",
   "execution_count": 1,
   "id": "72355f4d",
   "metadata": {
    "collapsed": true,
    "execution": {
     "iopub.execute_input": "2022-05-28T17:31:26.936263Z",
     "iopub.status.busy": "2022-05-28T17:31:26.935830Z",
     "iopub.status.idle": "2022-05-28T17:31:28.524793Z",
     "shell.execute_reply": "2022-05-28T17:31:28.523601Z"
    },
    "jupyter": {
     "outputs_hidden": true
    },
    "papermill": {
     "duration": 1.595143,
     "end_time": "2022-05-28T17:31:28.527462",
     "exception": false,
     "start_time": "2022-05-28T17:31:26.932319",
     "status": "completed"
    },
    "tags": []
   },
   "outputs": [
    {
     "name": "stdout",
     "output_type": "stream",
     "text": [
      "Validation MAE when not specifying max_leaf_nodes: 29,653\n",
      "Validation MAE for best value of max_leaf_nodes: 27,283\n",
      "\n",
      "Setup complete\n"
     ]
    }
   ],
   "source": [
    "# Code you have previously used to load data\n",
    "import pandas as pd\n",
    "from sklearn.metrics import mean_absolute_error\n",
    "from sklearn.model_selection import train_test_split\n",
    "from sklearn.tree import DecisionTreeRegressor\n",
    "\n",
    "\n",
    "# Path of the file to read\n",
    "iowa_file_path = '../input/home-data-for-ml-course/train.csv'\n",
    "\n",
    "home_data = pd.read_csv(iowa_file_path)\n",
    "# Create target object and call it y\n",
    "y = home_data.SalePrice\n",
    "# Create X\n",
    "features = ['LotArea', 'YearBuilt', '1stFlrSF', '2ndFlrSF', 'FullBath', 'BedroomAbvGr', 'TotRmsAbvGrd']\n",
    "X = home_data[features]\n",
    "\n",
    "# Split into validation and training data\n",
    "train_X, val_X, train_y, val_y = train_test_split(X, y, random_state=1)\n",
    "\n",
    "# Specify Model\n",
    "iowa_model = DecisionTreeRegressor(random_state=1)\n",
    "# Fit Model\n",
    "iowa_model.fit(train_X, train_y)\n",
    "\n",
    "# Make validation predictions and calculate mean absolute error\n",
    "val_predictions = iowa_model.predict(val_X)\n",
    "val_mae = mean_absolute_error(val_predictions, val_y)\n",
    "print(\"Validation MAE when not specifying max_leaf_nodes: {:,.0f}\".format(val_mae))\n",
    "\n",
    "# Using best value for max_leaf_nodes\n",
    "iowa_model = DecisionTreeRegressor(max_leaf_nodes=100, random_state=1)\n",
    "iowa_model.fit(train_X, train_y)\n",
    "val_predictions = iowa_model.predict(val_X)\n",
    "val_mae = mean_absolute_error(val_predictions, val_y)\n",
    "print(\"Validation MAE for best value of max_leaf_nodes: {:,.0f}\".format(val_mae))\n",
    "\n",
    "\n",
    "# Set up code checking\n",
    "from learntools.core import binder\n",
    "binder.bind(globals())\n",
    "from learntools.machine_learning.ex6 import *\n",
    "print(\"\\nSetup complete\")"
   ]
  },
  {
   "cell_type": "markdown",
   "id": "ce8bcd65",
   "metadata": {
    "papermill": {
     "duration": 0.002134,
     "end_time": "2022-05-28T17:31:28.532066",
     "exception": false,
     "start_time": "2022-05-28T17:31:28.529932",
     "status": "completed"
    },
    "tags": []
   },
   "source": [
    "# Exercises\n",
    "Data science isn't always this easy. But replacing the decision tree with a Random Forest is going to be an easy win."
   ]
  },
  {
   "cell_type": "markdown",
   "id": "a31a9d61",
   "metadata": {
    "papermill": {
     "duration": 0.004105,
     "end_time": "2022-05-28T17:31:28.538337",
     "exception": false,
     "start_time": "2022-05-28T17:31:28.534232",
     "status": "completed"
    },
    "tags": []
   },
   "source": [
    "## Step 1: Use a Random Forest"
   ]
  },
  {
   "cell_type": "code",
   "execution_count": 2,
   "id": "8f28e6fa",
   "metadata": {
    "execution": {
     "iopub.execute_input": "2022-05-28T17:31:28.544806Z",
     "iopub.status.busy": "2022-05-28T17:31:28.543860Z",
     "iopub.status.idle": "2022-05-28T17:31:28.628061Z",
     "shell.execute_reply": "2022-05-28T17:31:28.627015Z"
    },
    "papermill": {
     "duration": 0.089496,
     "end_time": "2022-05-28T17:31:28.630047",
     "exception": false,
     "start_time": "2022-05-28T17:31:28.540551",
     "status": "completed"
    },
    "tags": []
   },
   "outputs": [
    {
     "name": "stdout",
     "output_type": "stream",
     "text": [
      "Validation MAE for Random Forest Model: <learntools.core.constants.PlaceholderValue object at 0x7fda8b8061d0>\n"
     ]
    },
    {
     "data": {
      "application/javascript": [
       "parent.postMessage({\"jupyterEvent\": \"custom.exercise_interaction\", \"data\": {\"outcomeType\": 4, \"interactionType\": 1, \"questionType\": 2, \"questionId\": \"1_CheckRfScore\", \"learnToolsVersion\": \"0.3.4\", \"valueTowardsCompletion\": 0.0, \"failureMessage\": \"\", \"exceptionClass\": \"\", \"trace\": \"\"}}, \"*\")"
      ],
      "text/plain": [
       "<IPython.core.display.Javascript object>"
      ]
     },
     "metadata": {},
     "output_type": "display_data"
    },
    {
     "data": {
      "text/markdown": [
       "<span style=\"color:#ccaa33\">Check:</span> When you've updated the starter code, `check()` will tell you whether your code is correct. You need to update the code that creates variable `rf_val_mae`"
      ],
      "text/plain": [
       "Check: When you've updated the starter code, `check()` will tell you whether your code is correct. You need to update the code that creates variable `rf_val_mae`"
      ]
     },
     "metadata": {},
     "output_type": "display_data"
    }
   ],
   "source": [
    "from sklearn.ensemble import RandomForestRegressor\n",
    "\n",
    "# Define the model. Set random_state to 1\n",
    "rf_model = ____\n",
    "\n",
    "# fit your model\n",
    "____\n",
    "\n",
    "# Calculate the mean absolute error of your Random Forest model on the validation data\n",
    "rf_val_mae = ____\n",
    "\n",
    "print(\"Validation MAE for Random Forest Model: {}\".format(rf_val_mae))\n",
    "\n",
    "# Check your answer\n",
    "step_1.check()"
   ]
  },
  {
   "cell_type": "code",
   "execution_count": 3,
   "id": "22827b6c",
   "metadata": {
    "execution": {
     "iopub.execute_input": "2022-05-28T17:31:28.636854Z",
     "iopub.status.busy": "2022-05-28T17:31:28.636507Z",
     "iopub.status.idle": "2022-05-28T17:31:28.639855Z",
     "shell.execute_reply": "2022-05-28T17:31:28.638976Z"
    },
    "papermill": {
     "duration": 0.008824,
     "end_time": "2022-05-28T17:31:28.641557",
     "exception": false,
     "start_time": "2022-05-28T17:31:28.632733",
     "status": "completed"
    },
    "tags": []
   },
   "outputs": [],
   "source": [
    "# The lines below will show you a hint or the solution.\n",
    "# step_1.hint() \n",
    "# step_1.solution()\n"
   ]
  },
  {
   "cell_type": "markdown",
   "id": "34404919",
   "metadata": {
    "papermill": {
     "duration": 0.002357,
     "end_time": "2022-05-28T17:31:28.646540",
     "exception": false,
     "start_time": "2022-05-28T17:31:28.644183",
     "status": "completed"
    },
    "tags": []
   },
   "source": [
    "So far, you have followed specific instructions at each step of your project. This helped learn key ideas and build your first model, but now you know enough to try things on your own. \n",
    "\n",
    "Machine Learning competitions are a great way to try your own ideas and learn more as you independently navigate a machine learning project. \n",
    "\n",
    "# Keep Going\n",
    "\n",
    "You are ready for **[Machine Learning Competitions](https://www.kaggle.com/alexisbcook/machine-learning-competitions).**\n"
   ]
  },
  {
   "cell_type": "markdown",
   "id": "07f4ab25",
   "metadata": {
    "papermill": {
     "duration": 0.002228,
     "end_time": "2022-05-28T17:31:28.651297",
     "exception": false,
     "start_time": "2022-05-28T17:31:28.649069",
     "status": "completed"
    },
    "tags": []
   },
   "source": [
    "---\n",
    "\n",
    "\n",
    "\n",
    "\n",
    "*Have questions or comments? Visit the [course discussion forum](https://www.kaggle.com/learn/intro-to-machine-learning/discussion) to chat with other learners.*"
   ]
  }
 ],
 "metadata": {
  "kernelspec": {
   "display_name": "Python 3",
   "language": "python",
   "name": "python3"
  },
  "language_info": {
   "codemirror_mode": {
    "name": "ipython",
    "version": 3
   },
   "file_extension": ".py",
   "mimetype": "text/x-python",
   "name": "python",
   "nbconvert_exporter": "python",
   "pygments_lexer": "ipython3",
   "version": "3.7.12"
  },
  "papermill": {
   "default_parameters": {},
   "duration": 11.429107,
   "end_time": "2022-05-28T17:31:29.373761",
   "environment_variables": {},
   "exception": null,
   "input_path": "__notebook__.ipynb",
   "output_path": "__notebook__.ipynb",
   "parameters": {},
   "start_time": "2022-05-28T17:31:17.944654",
   "version": "2.3.4"
  }
 },
 "nbformat": 4,
 "nbformat_minor": 5
}
