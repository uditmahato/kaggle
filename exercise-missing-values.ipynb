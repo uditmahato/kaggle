{
 "cells": [
  {
   "cell_type": "markdown",
   "id": "45045b0e",
   "metadata": {
    "papermill": {
     "duration": 0.008169,
     "end_time": "2022-06-22T18:07:41.080218",
     "exception": false,
     "start_time": "2022-06-22T18:07:41.072049",
     "status": "completed"
    },
    "tags": []
   },
   "source": [
    "**This notebook is an exercise in the [Intermediate Machine Learning](https://www.kaggle.com/learn/intermediate-machine-learning) course.  You can reference the tutorial at [this link](https://www.kaggle.com/alexisbcook/missing-values).**\n",
    "\n",
    "---\n"
   ]
  },
  {
   "cell_type": "markdown",
   "id": "4dc7110c",
   "metadata": {
    "papermill": {
     "duration": 0.006406,
     "end_time": "2022-06-22T18:07:41.093553",
     "exception": false,
     "start_time": "2022-06-22T18:07:41.087147",
     "status": "completed"
    },
    "tags": []
   },
   "source": [
    "Now it's your turn to test your new knowledge of **missing values** handling. You'll probably find it makes a big difference.\n",
    "\n",
    "# Setup\n",
    "\n",
    "The questions will give you feedback on your work. Run the following cell to set up the feedback system."
   ]
  },
  {
   "cell_type": "code",
   "execution_count": 1,
   "id": "5963069e",
   "metadata": {
    "execution": {
     "iopub.execute_input": "2022-06-22T18:07:41.109397Z",
     "iopub.status.busy": "2022-06-22T18:07:41.108787Z",
     "iopub.status.idle": "2022-06-22T18:07:41.176201Z",
     "shell.execute_reply": "2022-06-22T18:07:41.174618Z"
    },
    "papermill": {
     "duration": 0.080284,
     "end_time": "2022-06-22T18:07:41.180543",
     "exception": false,
     "start_time": "2022-06-22T18:07:41.100259",
     "status": "completed"
    },
    "tags": []
   },
   "outputs": [
    {
     "name": "stdout",
     "output_type": "stream",
     "text": [
      "Setup Complete\n"
     ]
    }
   ],
   "source": [
    "# Set up code checking\n",
    "import os\n",
    "if not os.path.exists(\"../input/train.csv\"):\n",
    "    os.symlink(\"../input/home-data-for-ml-course/train.csv\", \"../input/train.csv\")  \n",
    "    os.symlink(\"../input/home-data-for-ml-course/test.csv\", \"../input/test.csv\") \n",
    "from learntools.core import binder\n",
    "binder.bind(globals())\n",
    "from learntools.ml_intermediate.ex2 import *\n",
    "print(\"Setup Complete\")"
   ]
  },
  {
   "cell_type": "markdown",
   "id": "9d65fdd1",
   "metadata": {
    "papermill": {
     "duration": 0.006952,
     "end_time": "2022-06-22T18:07:41.195313",
     "exception": false,
     "start_time": "2022-06-22T18:07:41.188361",
     "status": "completed"
    },
    "tags": []
   },
   "source": [
    "In this exercise, you will work with data from the [Housing Prices Competition for Kaggle Learn Users](https://www.kaggle.com/c/home-data-for-ml-course). \n",
    "\n",
    "![Ames Housing dataset image](https://i.imgur.com/lTJVG4e.png)\n",
    "\n",
    "Run the next code cell without changes to load the training and validation sets in `X_train`, `X_valid`, `y_train`, and `y_valid`.  The test set is loaded in `X_test`."
   ]
  },
  {
   "cell_type": "code",
   "execution_count": 2,
   "id": "1070af1f",
   "metadata": {
    "execution": {
     "iopub.execute_input": "2022-06-22T18:07:41.211726Z",
     "iopub.status.busy": "2022-06-22T18:07:41.211328Z",
     "iopub.status.idle": "2022-06-22T18:07:42.692739Z",
     "shell.execute_reply": "2022-06-22T18:07:42.691252Z"
    },
    "papermill": {
     "duration": 1.493594,
     "end_time": "2022-06-22T18:07:42.696138",
     "exception": false,
     "start_time": "2022-06-22T18:07:41.202544",
     "status": "completed"
    },
    "tags": []
   },
   "outputs": [],
   "source": [
    "import pandas as pd\n",
    "from sklearn.model_selection import train_test_split\n",
    "\n",
    "# Read the data\n",
    "X_full = pd.read_csv('../input/train.csv', index_col='Id')\n",
    "X_test_full = pd.read_csv('../input/test.csv', index_col='Id')\n",
    "\n",
    "# Remove rows with missing target, separate target from predictors\n",
    "X_full.dropna(axis=0, subset=['SalePrice'], inplace=True)\n",
    "y = X_full.SalePrice\n",
    "X_full.drop(['SalePrice'], axis=1, inplace=True)\n",
    "\n",
    "# To keep things simple, we'll use only numerical predictors\n",
    "X = X_full.select_dtypes(exclude=['object'])\n",
    "X_test = X_test_full.select_dtypes(exclude=['object'])\n",
    "\n",
    "# Break off validation set from training data\n",
    "X_train, X_valid, y_train, y_valid = train_test_split(X, y, train_size=0.8, test_size=0.2,\n",
    "                                                      random_state=0)"
   ]
  },
  {
   "cell_type": "markdown",
   "id": "88e6c59d",
   "metadata": {
    "papermill": {
     "duration": 0.007289,
     "end_time": "2022-06-22T18:07:42.711830",
     "exception": false,
     "start_time": "2022-06-22T18:07:42.704541",
     "status": "completed"
    },
    "tags": []
   },
   "source": [
    "Use the next code cell to print the first five rows of the data."
   ]
  },
  {
   "cell_type": "code",
   "execution_count": 3,
   "id": "1963be64",
   "metadata": {
    "execution": {
     "iopub.execute_input": "2022-06-22T18:07:42.729632Z",
     "iopub.status.busy": "2022-06-22T18:07:42.729139Z",
     "iopub.status.idle": "2022-06-22T18:07:42.758798Z",
     "shell.execute_reply": "2022-06-22T18:07:42.757398Z"
    },
    "papermill": {
     "duration": 0.041231,
     "end_time": "2022-06-22T18:07:42.761144",
     "exception": false,
     "start_time": "2022-06-22T18:07:42.719913",
     "status": "completed"
    },
    "tags": []
   },
   "outputs": [
    {
     "data": {
      "text/html": [
       "<div>\n",
       "<style scoped>\n",
       "    .dataframe tbody tr th:only-of-type {\n",
       "        vertical-align: middle;\n",
       "    }\n",
       "\n",
       "    .dataframe tbody tr th {\n",
       "        vertical-align: top;\n",
       "    }\n",
       "\n",
       "    .dataframe thead th {\n",
       "        text-align: right;\n",
       "    }\n",
       "</style>\n",
       "<table border=\"1\" class=\"dataframe\">\n",
       "  <thead>\n",
       "    <tr style=\"text-align: right;\">\n",
       "      <th></th>\n",
       "      <th>MSSubClass</th>\n",
       "      <th>LotFrontage</th>\n",
       "      <th>LotArea</th>\n",
       "      <th>OverallQual</th>\n",
       "      <th>OverallCond</th>\n",
       "      <th>YearBuilt</th>\n",
       "      <th>YearRemodAdd</th>\n",
       "      <th>MasVnrArea</th>\n",
       "      <th>BsmtFinSF1</th>\n",
       "      <th>BsmtFinSF2</th>\n",
       "      <th>...</th>\n",
       "      <th>GarageArea</th>\n",
       "      <th>WoodDeckSF</th>\n",
       "      <th>OpenPorchSF</th>\n",
       "      <th>EnclosedPorch</th>\n",
       "      <th>3SsnPorch</th>\n",
       "      <th>ScreenPorch</th>\n",
       "      <th>PoolArea</th>\n",
       "      <th>MiscVal</th>\n",
       "      <th>MoSold</th>\n",
       "      <th>YrSold</th>\n",
       "    </tr>\n",
       "    <tr>\n",
       "      <th>Id</th>\n",
       "      <th></th>\n",
       "      <th></th>\n",
       "      <th></th>\n",
       "      <th></th>\n",
       "      <th></th>\n",
       "      <th></th>\n",
       "      <th></th>\n",
       "      <th></th>\n",
       "      <th></th>\n",
       "      <th></th>\n",
       "      <th></th>\n",
       "      <th></th>\n",
       "      <th></th>\n",
       "      <th></th>\n",
       "      <th></th>\n",
       "      <th></th>\n",
       "      <th></th>\n",
       "      <th></th>\n",
       "      <th></th>\n",
       "      <th></th>\n",
       "      <th></th>\n",
       "    </tr>\n",
       "  </thead>\n",
       "  <tbody>\n",
       "    <tr>\n",
       "      <th>619</th>\n",
       "      <td>20</td>\n",
       "      <td>90.0</td>\n",
       "      <td>11694</td>\n",
       "      <td>9</td>\n",
       "      <td>5</td>\n",
       "      <td>2007</td>\n",
       "      <td>2007</td>\n",
       "      <td>452.0</td>\n",
       "      <td>48</td>\n",
       "      <td>0</td>\n",
       "      <td>...</td>\n",
       "      <td>774</td>\n",
       "      <td>0</td>\n",
       "      <td>108</td>\n",
       "      <td>0</td>\n",
       "      <td>0</td>\n",
       "      <td>260</td>\n",
       "      <td>0</td>\n",
       "      <td>0</td>\n",
       "      <td>7</td>\n",
       "      <td>2007</td>\n",
       "    </tr>\n",
       "    <tr>\n",
       "      <th>871</th>\n",
       "      <td>20</td>\n",
       "      <td>60.0</td>\n",
       "      <td>6600</td>\n",
       "      <td>5</td>\n",
       "      <td>5</td>\n",
       "      <td>1962</td>\n",
       "      <td>1962</td>\n",
       "      <td>0.0</td>\n",
       "      <td>0</td>\n",
       "      <td>0</td>\n",
       "      <td>...</td>\n",
       "      <td>308</td>\n",
       "      <td>0</td>\n",
       "      <td>0</td>\n",
       "      <td>0</td>\n",
       "      <td>0</td>\n",
       "      <td>0</td>\n",
       "      <td>0</td>\n",
       "      <td>0</td>\n",
       "      <td>8</td>\n",
       "      <td>2009</td>\n",
       "    </tr>\n",
       "    <tr>\n",
       "      <th>93</th>\n",
       "      <td>30</td>\n",
       "      <td>80.0</td>\n",
       "      <td>13360</td>\n",
       "      <td>5</td>\n",
       "      <td>7</td>\n",
       "      <td>1921</td>\n",
       "      <td>2006</td>\n",
       "      <td>0.0</td>\n",
       "      <td>713</td>\n",
       "      <td>0</td>\n",
       "      <td>...</td>\n",
       "      <td>432</td>\n",
       "      <td>0</td>\n",
       "      <td>0</td>\n",
       "      <td>44</td>\n",
       "      <td>0</td>\n",
       "      <td>0</td>\n",
       "      <td>0</td>\n",
       "      <td>0</td>\n",
       "      <td>8</td>\n",
       "      <td>2009</td>\n",
       "    </tr>\n",
       "    <tr>\n",
       "      <th>818</th>\n",
       "      <td>20</td>\n",
       "      <td>NaN</td>\n",
       "      <td>13265</td>\n",
       "      <td>8</td>\n",
       "      <td>5</td>\n",
       "      <td>2002</td>\n",
       "      <td>2002</td>\n",
       "      <td>148.0</td>\n",
       "      <td>1218</td>\n",
       "      <td>0</td>\n",
       "      <td>...</td>\n",
       "      <td>857</td>\n",
       "      <td>150</td>\n",
       "      <td>59</td>\n",
       "      <td>0</td>\n",
       "      <td>0</td>\n",
       "      <td>0</td>\n",
       "      <td>0</td>\n",
       "      <td>0</td>\n",
       "      <td>7</td>\n",
       "      <td>2008</td>\n",
       "    </tr>\n",
       "    <tr>\n",
       "      <th>303</th>\n",
       "      <td>20</td>\n",
       "      <td>118.0</td>\n",
       "      <td>13704</td>\n",
       "      <td>7</td>\n",
       "      <td>5</td>\n",
       "      <td>2001</td>\n",
       "      <td>2002</td>\n",
       "      <td>150.0</td>\n",
       "      <td>0</td>\n",
       "      <td>0</td>\n",
       "      <td>...</td>\n",
       "      <td>843</td>\n",
       "      <td>468</td>\n",
       "      <td>81</td>\n",
       "      <td>0</td>\n",
       "      <td>0</td>\n",
       "      <td>0</td>\n",
       "      <td>0</td>\n",
       "      <td>0</td>\n",
       "      <td>1</td>\n",
       "      <td>2006</td>\n",
       "    </tr>\n",
       "  </tbody>\n",
       "</table>\n",
       "<p>5 rows × 36 columns</p>\n",
       "</div>"
      ],
      "text/plain": [
       "     MSSubClass  LotFrontage  LotArea  OverallQual  OverallCond  YearBuilt  \\\n",
       "Id                                                                           \n",
       "619          20         90.0    11694            9            5       2007   \n",
       "871          20         60.0     6600            5            5       1962   \n",
       "93           30         80.0    13360            5            7       1921   \n",
       "818          20          NaN    13265            8            5       2002   \n",
       "303          20        118.0    13704            7            5       2001   \n",
       "\n",
       "     YearRemodAdd  MasVnrArea  BsmtFinSF1  BsmtFinSF2  ...  GarageArea  \\\n",
       "Id                                                     ...               \n",
       "619          2007       452.0          48           0  ...         774   \n",
       "871          1962         0.0           0           0  ...         308   \n",
       "93           2006         0.0         713           0  ...         432   \n",
       "818          2002       148.0        1218           0  ...         857   \n",
       "303          2002       150.0           0           0  ...         843   \n",
       "\n",
       "     WoodDeckSF  OpenPorchSF  EnclosedPorch  3SsnPorch  ScreenPorch  PoolArea  \\\n",
       "Id                                                                              \n",
       "619           0          108              0          0          260         0   \n",
       "871           0            0              0          0            0         0   \n",
       "93            0            0             44          0            0         0   \n",
       "818         150           59              0          0            0         0   \n",
       "303         468           81              0          0            0         0   \n",
       "\n",
       "     MiscVal  MoSold  YrSold  \n",
       "Id                            \n",
       "619        0       7    2007  \n",
       "871        0       8    2009  \n",
       "93         0       8    2009  \n",
       "818        0       7    2008  \n",
       "303        0       1    2006  \n",
       "\n",
       "[5 rows x 36 columns]"
      ]
     },
     "execution_count": 3,
     "metadata": {},
     "output_type": "execute_result"
    }
   ],
   "source": [
    "X_train.head()"
   ]
  },
  {
   "cell_type": "markdown",
   "id": "9616adbb",
   "metadata": {
    "papermill": {
     "duration": 0.006987,
     "end_time": "2022-06-22T18:07:42.775633",
     "exception": false,
     "start_time": "2022-06-22T18:07:42.768646",
     "status": "completed"
    },
    "tags": []
   },
   "source": [
    "You can already see a few missing values in the first several rows.  In the next step, you'll obtain a more comprehensive understanding of the missing values in the dataset.\n",
    "\n",
    "# Step 1: Preliminary investigation\n",
    "\n",
    "Run the code cell below without changes."
   ]
  },
  {
   "cell_type": "code",
   "execution_count": 4,
   "id": "e8c479de",
   "metadata": {
    "execution": {
     "iopub.execute_input": "2022-06-22T18:07:42.793192Z",
     "iopub.status.busy": "2022-06-22T18:07:42.792451Z",
     "iopub.status.idle": "2022-06-22T18:07:42.802165Z",
     "shell.execute_reply": "2022-06-22T18:07:42.800422Z"
    },
    "papermill": {
     "duration": 0.020687,
     "end_time": "2022-06-22T18:07:42.804341",
     "exception": false,
     "start_time": "2022-06-22T18:07:42.783654",
     "status": "completed"
    },
    "tags": []
   },
   "outputs": [
    {
     "name": "stdout",
     "output_type": "stream",
     "text": [
      "(1168, 36)\n",
      "LotFrontage    212\n",
      "MasVnrArea       6\n",
      "GarageYrBlt     58\n",
      "dtype: int64\n"
     ]
    }
   ],
   "source": [
    "# Shape of training data (num_rows, num_columns)\n",
    "print(X_train.shape)\n",
    "\n",
    "# Number of missing values in each column of training data\n",
    "missing_val_count_by_column = (X_train.isnull().sum())\n",
    "print(missing_val_count_by_column[missing_val_count_by_column > 0])"
   ]
  },
  {
   "cell_type": "markdown",
   "id": "2bb450b2",
   "metadata": {
    "papermill": {
     "duration": 0.00724,
     "end_time": "2022-06-22T18:07:42.818996",
     "exception": false,
     "start_time": "2022-06-22T18:07:42.811756",
     "status": "completed"
    },
    "tags": []
   },
   "source": [
    "### Part A\n",
    "\n",
    "Use the above output to answer the questions below."
   ]
  },
  {
   "cell_type": "code",
   "execution_count": 5,
   "id": "70d697b4",
   "metadata": {
    "execution": {
     "iopub.execute_input": "2022-06-22T18:07:42.837151Z",
     "iopub.status.busy": "2022-06-22T18:07:42.836410Z",
     "iopub.status.idle": "2022-06-22T18:07:42.846368Z",
     "shell.execute_reply": "2022-06-22T18:07:42.845573Z"
    },
    "papermill": {
     "duration": 0.021376,
     "end_time": "2022-06-22T18:07:42.848578",
     "exception": false,
     "start_time": "2022-06-22T18:07:42.827202",
     "status": "completed"
    },
    "tags": []
   },
   "outputs": [
    {
     "data": {
      "application/javascript": [
       "parent.postMessage({\"jupyterEvent\": \"custom.exercise_interaction\", \"data\": {\"outcomeType\": 1, \"valueTowardsCompletion\": 1.0, \"interactionType\": 1, \"questionType\": 1, \"questionId\": \"1.1_InvestigateEquality\", \"learnToolsVersion\": \"0.3.4\", \"failureMessage\": \"\", \"exceptionClass\": \"\", \"trace\": \"\"}}, \"*\")"
      ],
      "text/plain": [
       "<IPython.core.display.Javascript object>"
      ]
     },
     "metadata": {},
     "output_type": "display_data"
    },
    {
     "data": {
      "text/markdown": [
       "<span style=\"color:#33cc33\">Correct</span>"
      ],
      "text/plain": [
       "Correct"
      ]
     },
     "metadata": {},
     "output_type": "display_data"
    }
   ],
   "source": [
    "# Fill in the line below: How many rows are in the training data?\n",
    "num_rows = 1168\n",
    "# Fill in the line below: How many columns in the training data\n",
    "# have missing values?\n",
    "num_cols_with_missing = 3\n",
    "# Fill in the line below: How many missing entries are contained in \n",
    "# all of the training data?\n",
    "tot_missing = 212+6+58\n",
    "\n",
    "# Check your answers\n",
    "step_1.a.check()"
   ]
  },
  {
   "cell_type": "code",
   "execution_count": 6,
   "id": "2019deb0",
   "metadata": {
    "execution": {
     "iopub.execute_input": "2022-06-22T18:07:42.867460Z",
     "iopub.status.busy": "2022-06-22T18:07:42.866706Z",
     "iopub.status.idle": "2022-06-22T18:07:42.870759Z",
     "shell.execute_reply": "2022-06-22T18:07:42.869596Z"
    },
    "papermill": {
     "duration": 0.016008,
     "end_time": "2022-06-22T18:07:42.873052",
     "exception": false,
     "start_time": "2022-06-22T18:07:42.857044",
     "status": "completed"
    },
    "tags": []
   },
   "outputs": [],
   "source": [
    "# Lines below will give you a hint or solution code\n",
    "#step_1.a.hint()\n",
    "# step_1.a.solution()"
   ]
  },
  {
   "cell_type": "markdown",
   "id": "fc8f0e8c",
   "metadata": {
    "papermill": {
     "duration": 0.008107,
     "end_time": "2022-06-22T18:07:42.889487",
     "exception": false,
     "start_time": "2022-06-22T18:07:42.881380",
     "status": "completed"
    },
    "tags": []
   },
   "source": [
    "### Part B\n",
    "Considering your answers above, what do you think is likely the best approach to dealing with the missing values?"
   ]
  },
  {
   "cell_type": "code",
   "execution_count": 7,
   "id": "6cd41e89",
   "metadata": {
    "execution": {
     "iopub.execute_input": "2022-06-22T18:07:42.908737Z",
     "iopub.status.busy": "2022-06-22T18:07:42.908333Z",
     "iopub.status.idle": "2022-06-22T18:07:42.917020Z",
     "shell.execute_reply": "2022-06-22T18:07:42.915769Z"
    },
    "papermill": {
     "duration": 0.021036,
     "end_time": "2022-06-22T18:07:42.919383",
     "exception": false,
     "start_time": "2022-06-22T18:07:42.898347",
     "status": "completed"
    },
    "tags": []
   },
   "outputs": [
    {
     "data": {
      "application/javascript": [
       "parent.postMessage({\"jupyterEvent\": \"custom.exercise_interaction\", \"data\": {\"outcomeType\": 1, \"valueTowardsCompletion\": 1.0, \"interactionType\": 1, \"questionType\": 4, \"questionId\": \"1.2_InvestigateThought\", \"learnToolsVersion\": \"0.3.4\", \"failureMessage\": \"\", \"exceptionClass\": \"\", \"trace\": \"\"}}, \"*\")"
      ],
      "text/plain": [
       "<IPython.core.display.Javascript object>"
      ]
     },
     "metadata": {},
     "output_type": "display_data"
    },
    {
     "data": {
      "text/markdown": [
       "<span style=\"color:#33cc33\">Correct:</span> \n",
       "\n",
       "Since there are relatively few missing entries in the data (the column with the greatest percentage of missing values is missing less than 20% of its entries), we can expect that dropping columns is unlikely to yield good results.  This is because we'd be throwing away a lot of valuable data, and so imputation will likely perform better."
      ],
      "text/plain": [
       "Correct: \n",
       "\n",
       "Since there are relatively few missing entries in the data (the column with the greatest percentage of missing values is missing less than 20% of its entries), we can expect that dropping columns is unlikely to yield good results.  This is because we'd be throwing away a lot of valuable data, and so imputation will likely perform better."
      ]
     },
     "metadata": {},
     "output_type": "display_data"
    }
   ],
   "source": [
    "# Check your answer (Run this code cell to receive credit!)\n",
    "step_1.b.check()"
   ]
  },
  {
   "cell_type": "code",
   "execution_count": 8,
   "id": "b2f97f01",
   "metadata": {
    "execution": {
     "iopub.execute_input": "2022-06-22T18:07:42.938422Z",
     "iopub.status.busy": "2022-06-22T18:07:42.937799Z",
     "iopub.status.idle": "2022-06-22T18:07:42.942159Z",
     "shell.execute_reply": "2022-06-22T18:07:42.941314Z"
    },
    "papermill": {
     "duration": 0.01649,
     "end_time": "2022-06-22T18:07:42.944305",
     "exception": false,
     "start_time": "2022-06-22T18:07:42.927815",
     "status": "completed"
    },
    "tags": []
   },
   "outputs": [],
   "source": [
    "#step_1.b.hint()"
   ]
  },
  {
   "cell_type": "markdown",
   "id": "5825917a",
   "metadata": {
    "papermill": {
     "duration": 0.009081,
     "end_time": "2022-06-22T18:07:42.961634",
     "exception": false,
     "start_time": "2022-06-22T18:07:42.952553",
     "status": "completed"
    },
    "tags": []
   },
   "source": [
    "To compare different approaches to dealing with missing values, you'll use the same `score_dataset()` function from the tutorial.  This function reports the [mean absolute error](https://en.wikipedia.org/wiki/Mean_absolute_error) (MAE) from a random forest model."
   ]
  },
  {
   "cell_type": "code",
   "execution_count": 9,
   "id": "6c62d66f",
   "metadata": {
    "execution": {
     "iopub.execute_input": "2022-06-22T18:07:42.980655Z",
     "iopub.status.busy": "2022-06-22T18:07:42.980032Z",
     "iopub.status.idle": "2022-06-22T18:07:43.251046Z",
     "shell.execute_reply": "2022-06-22T18:07:43.249537Z"
    },
    "papermill": {
     "duration": 0.283787,
     "end_time": "2022-06-22T18:07:43.254157",
     "exception": false,
     "start_time": "2022-06-22T18:07:42.970370",
     "status": "completed"
    },
    "tags": []
   },
   "outputs": [],
   "source": [
    "from sklearn.ensemble import RandomForestRegressor\n",
    "from sklearn.metrics import mean_absolute_error\n",
    "\n",
    "# Function for comparing different approaches\n",
    "def score_dataset(X_train, X_valid, y_train, y_valid):\n",
    "    model = RandomForestRegressor(n_estimators=100, random_state=0)\n",
    "    model.fit(X_train, y_train)\n",
    "    preds = model.predict(X_valid)\n",
    "    return mean_absolute_error(y_valid, preds)"
   ]
  },
  {
   "cell_type": "markdown",
   "id": "0131bc89",
   "metadata": {
    "papermill": {
     "duration": 0.007714,
     "end_time": "2022-06-22T18:07:43.270144",
     "exception": false,
     "start_time": "2022-06-22T18:07:43.262430",
     "status": "completed"
    },
    "tags": []
   },
   "source": [
    "# Step 2: Drop columns with missing values\n",
    "\n",
    "In this step, you'll preprocess the data in `X_train` and `X_valid` to remove columns with missing values.  Set the preprocessed DataFrames to `reduced_X_train` and `reduced_X_valid`, respectively.  "
   ]
  },
  {
   "cell_type": "code",
   "execution_count": 10,
   "id": "05f1df9c",
   "metadata": {
    "execution": {
     "iopub.execute_input": "2022-06-22T18:07:43.288610Z",
     "iopub.status.busy": "2022-06-22T18:07:43.288135Z",
     "iopub.status.idle": "2022-06-22T18:07:43.323194Z",
     "shell.execute_reply": "2022-06-22T18:07:43.322294Z"
    },
    "papermill": {
     "duration": 0.047319,
     "end_time": "2022-06-22T18:07:43.325504",
     "exception": false,
     "start_time": "2022-06-22T18:07:43.278185",
     "status": "completed"
    },
    "tags": []
   },
   "outputs": [
    {
     "data": {
      "application/javascript": [
       "parent.postMessage({\"jupyterEvent\": \"custom.exercise_interaction\", \"data\": {\"outcomeType\": 1, \"valueTowardsCompletion\": 1.0, \"interactionType\": 1, \"questionType\": 2, \"questionId\": \"2_DropMissing\", \"learnToolsVersion\": \"0.3.4\", \"failureMessage\": \"\", \"exceptionClass\": \"\", \"trace\": \"\"}}, \"*\")"
      ],
      "text/plain": [
       "<IPython.core.display.Javascript object>"
      ]
     },
     "metadata": {},
     "output_type": "display_data"
    },
    {
     "data": {
      "text/markdown": [
       "<span style=\"color:#33cc33\">Correct</span>"
      ],
      "text/plain": [
       "Correct"
      ]
     },
     "metadata": {},
     "output_type": "display_data"
    }
   ],
   "source": [
    "# Fill in the line below: get names of columns with missing values\n",
    "cols_with_missing = [col for col in X_train.columns\n",
    "                     if X_train[col].isnull().any()]# Your code here\n",
    "\n",
    "# # Fill in the lines below: drop columns in training and validation data\n",
    "reduced_X_train = X_train.drop(cols_with_missing, axis=1)\n",
    "reduced_X_valid = X_valid.drop(cols_with_missing, axis=1)\n",
    "\n",
    "# Check your answers\n",
    "step_2.check()"
   ]
  },
  {
   "cell_type": "code",
   "execution_count": 11,
   "id": "9a6290b5",
   "metadata": {
    "execution": {
     "iopub.execute_input": "2022-06-22T18:07:43.345324Z",
     "iopub.status.busy": "2022-06-22T18:07:43.343709Z",
     "iopub.status.idle": "2022-06-22T18:07:43.349244Z",
     "shell.execute_reply": "2022-06-22T18:07:43.348443Z"
    },
    "papermill": {
     "duration": 0.017452,
     "end_time": "2022-06-22T18:07:43.351327",
     "exception": false,
     "start_time": "2022-06-22T18:07:43.333875",
     "status": "completed"
    },
    "tags": []
   },
   "outputs": [],
   "source": [
    "# Lines below will give you a hint or solution code\n",
    "#step_2.hint()\n",
    "# step_2.solution()"
   ]
  },
  {
   "cell_type": "markdown",
   "id": "58e49f34",
   "metadata": {
    "papermill": {
     "duration": 0.007977,
     "end_time": "2022-06-22T18:07:43.367604",
     "exception": false,
     "start_time": "2022-06-22T18:07:43.359627",
     "status": "completed"
    },
    "tags": []
   },
   "source": [
    "Run the next code cell without changes to obtain the MAE for this approach."
   ]
  },
  {
   "cell_type": "code",
   "execution_count": 12,
   "id": "3ab9c59f",
   "metadata": {
    "execution": {
     "iopub.execute_input": "2022-06-22T18:07:43.386413Z",
     "iopub.status.busy": "2022-06-22T18:07:43.385676Z",
     "iopub.status.idle": "2022-06-22T18:07:44.499879Z",
     "shell.execute_reply": "2022-06-22T18:07:44.498632Z"
    },
    "papermill": {
     "duration": 1.126487,
     "end_time": "2022-06-22T18:07:44.502459",
     "exception": false,
     "start_time": "2022-06-22T18:07:43.375972",
     "status": "completed"
    },
    "tags": []
   },
   "outputs": [
    {
     "name": "stdout",
     "output_type": "stream",
     "text": [
      "MAE (Drop columns with missing values):\n",
      "17837.82570776256\n"
     ]
    }
   ],
   "source": [
    "print(\"MAE (Drop columns with missing values):\")\n",
    "print(score_dataset(reduced_X_train, reduced_X_valid, y_train, y_valid))"
   ]
  },
  {
   "cell_type": "markdown",
   "id": "8316e536",
   "metadata": {
    "papermill": {
     "duration": 0.008118,
     "end_time": "2022-06-22T18:07:44.519370",
     "exception": false,
     "start_time": "2022-06-22T18:07:44.511252",
     "status": "completed"
    },
    "tags": []
   },
   "source": [
    "# Step 3: Imputation\n",
    "\n",
    "### Part A\n",
    "\n",
    "Use the next code cell to impute missing values with the mean value along each column.  Set the preprocessed DataFrames to `imputed_X_train` and `imputed_X_valid`.  Make sure that the column names match those in `X_train` and `X_valid`."
   ]
  },
  {
   "cell_type": "code",
   "execution_count": 13,
   "id": "a666dedc",
   "metadata": {
    "execution": {
     "iopub.execute_input": "2022-06-22T18:07:44.538608Z",
     "iopub.status.busy": "2022-06-22T18:07:44.537828Z",
     "iopub.status.idle": "2022-06-22T18:07:44.575961Z",
     "shell.execute_reply": "2022-06-22T18:07:44.574683Z"
    },
    "papermill": {
     "duration": 0.05061,
     "end_time": "2022-06-22T18:07:44.578490",
     "exception": false,
     "start_time": "2022-06-22T18:07:44.527880",
     "status": "completed"
    },
    "tags": []
   },
   "outputs": [
    {
     "data": {
      "application/javascript": [
       "parent.postMessage({\"jupyterEvent\": \"custom.exercise_interaction\", \"data\": {\"outcomeType\": 1, \"valueTowardsCompletion\": 1.0, \"interactionType\": 1, \"questionType\": 2, \"questionId\": \"3.1_ImputeCode\", \"learnToolsVersion\": \"0.3.4\", \"failureMessage\": \"\", \"exceptionClass\": \"\", \"trace\": \"\"}}, \"*\")"
      ],
      "text/plain": [
       "<IPython.core.display.Javascript object>"
      ]
     },
     "metadata": {},
     "output_type": "display_data"
    },
    {
     "data": {
      "text/markdown": [
       "<span style=\"color:#33cc33\">Correct</span>"
      ],
      "text/plain": [
       "Correct"
      ]
     },
     "metadata": {},
     "output_type": "display_data"
    }
   ],
   "source": [
    "from sklearn.impute import SimpleImputer\n",
    "\n",
    "# Fill in the lines below: imputation\n",
    "my_imputer=SimpleImputer()# Your code here\n",
    "imputed_X_train = pd.DataFrame(my_imputer.fit_transform(X_train))\n",
    "imputed_X_valid = pd.DataFrame(my_imputer.transform(X_valid))\n",
    "\n",
    "# Fill in the lines below: imputation removed column names; put them back\n",
    "imputed_X_train.columns = X_train.columns\n",
    "imputed_X_valid.columns = X_valid.columns\n",
    "\n",
    "# Check your answers\n",
    "step_3.a.check()"
   ]
  },
  {
   "cell_type": "code",
   "execution_count": 14,
   "id": "9edc5050",
   "metadata": {
    "execution": {
     "iopub.execute_input": "2022-06-22T18:07:44.599753Z",
     "iopub.status.busy": "2022-06-22T18:07:44.598511Z",
     "iopub.status.idle": "2022-06-22T18:07:44.605119Z",
     "shell.execute_reply": "2022-06-22T18:07:44.603322Z"
    },
    "papermill": {
     "duration": 0.020541,
     "end_time": "2022-06-22T18:07:44.607885",
     "exception": false,
     "start_time": "2022-06-22T18:07:44.587344",
     "status": "completed"
    },
    "tags": []
   },
   "outputs": [],
   "source": [
    "# Lines below will give you a hint or solution code\n",
    "#step_3.a.hint()\n",
    "#step_3.a.solution()"
   ]
  },
  {
   "cell_type": "markdown",
   "id": "d85256c8",
   "metadata": {
    "papermill": {
     "duration": 0.00843,
     "end_time": "2022-06-22T18:07:44.625372",
     "exception": false,
     "start_time": "2022-06-22T18:07:44.616942",
     "status": "completed"
    },
    "tags": []
   },
   "source": [
    "Run the next code cell without changes to obtain the MAE for this approach."
   ]
  },
  {
   "cell_type": "code",
   "execution_count": 15,
   "id": "1a1efca8",
   "metadata": {
    "execution": {
     "iopub.execute_input": "2022-06-22T18:07:44.644540Z",
     "iopub.status.busy": "2022-06-22T18:07:44.644086Z",
     "iopub.status.idle": "2022-06-22T18:07:45.877100Z",
     "shell.execute_reply": "2022-06-22T18:07:45.875807Z"
    },
    "papermill": {
     "duration": 1.246332,
     "end_time": "2022-06-22T18:07:45.880379",
     "exception": false,
     "start_time": "2022-06-22T18:07:44.634047",
     "status": "completed"
    },
    "tags": []
   },
   "outputs": [
    {
     "name": "stdout",
     "output_type": "stream",
     "text": [
      "MAE (Imputation):\n",
      "18062.894611872147\n"
     ]
    }
   ],
   "source": [
    "print(\"MAE (Imputation):\")\n",
    "print(score_dataset(imputed_X_train, imputed_X_valid, y_train, y_valid))"
   ]
  },
  {
   "cell_type": "markdown",
   "id": "8cf22ad8",
   "metadata": {
    "papermill": {
     "duration": 0.008071,
     "end_time": "2022-06-22T18:07:45.897437",
     "exception": false,
     "start_time": "2022-06-22T18:07:45.889366",
     "status": "completed"
    },
    "tags": []
   },
   "source": [
    "### Part B\n",
    "\n",
    "Compare the MAE from each approach.  Does anything surprise you about the results?  Why do you think one approach performed better than the other?"
   ]
  },
  {
   "cell_type": "code",
   "execution_count": 16,
   "id": "428051c8",
   "metadata": {
    "execution": {
     "iopub.execute_input": "2022-06-22T18:07:45.917287Z",
     "iopub.status.busy": "2022-06-22T18:07:45.916831Z",
     "iopub.status.idle": "2022-06-22T18:07:45.925501Z",
     "shell.execute_reply": "2022-06-22T18:07:45.924593Z"
    },
    "papermill": {
     "duration": 0.022104,
     "end_time": "2022-06-22T18:07:45.927991",
     "exception": false,
     "start_time": "2022-06-22T18:07:45.905887",
     "status": "completed"
    },
    "tags": []
   },
   "outputs": [
    {
     "data": {
      "application/javascript": [
       "parent.postMessage({\"jupyterEvent\": \"custom.exercise_interaction\", \"data\": {\"outcomeType\": 1, \"valueTowardsCompletion\": 1.0, \"interactionType\": 1, \"questionType\": 4, \"questionId\": \"3.2_ImputeThought\", \"learnToolsVersion\": \"0.3.4\", \"failureMessage\": \"\", \"exceptionClass\": \"\", \"trace\": \"\"}}, \"*\")"
      ],
      "text/plain": [
       "<IPython.core.display.Javascript object>"
      ]
     },
     "metadata": {},
     "output_type": "display_data"
    },
    {
     "data": {
      "text/markdown": [
       "<span style=\"color:#33cc33\">Correct:</span> \n",
       "\n",
       "Given that thre are so few missing values in the dataset, we'd expect imputation to perform better than dropping columns entirely.  However, we see that dropping columns performs slightly better!  While this can probably partially be attributed to noise in the dataset, another potential explanation is that the imputation method is not a great match to this dataset.  That is, maybe instead of filling in the mean value, it makes more sense to set every missing value to a value of 0, to fill in the most frequently encountered value, or to use some other method.  For instance, consider the `GarageYrBlt` column (which indicates the year that the garage was built).  It's likely that in some cases, a missing value could indicate a house that does not have a garage.  Does it make more sense to fill in the median value along each column in this case?  Or could we get better results by filling in the minimum value along each column?  It's not quite clear what's best in this case, but perhaps we can rule out some options immediately - for instance, setting missing values in this column to 0 is likely to yield horrible results!"
      ],
      "text/plain": [
       "Correct: \n",
       "\n",
       "Given that thre are so few missing values in the dataset, we'd expect imputation to perform better than dropping columns entirely.  However, we see that dropping columns performs slightly better!  While this can probably partially be attributed to noise in the dataset, another potential explanation is that the imputation method is not a great match to this dataset.  That is, maybe instead of filling in the mean value, it makes more sense to set every missing value to a value of 0, to fill in the most frequently encountered value, or to use some other method.  For instance, consider the `GarageYrBlt` column (which indicates the year that the garage was built).  It's likely that in some cases, a missing value could indicate a house that does not have a garage.  Does it make more sense to fill in the median value along each column in this case?  Or could we get better results by filling in the minimum value along each column?  It's not quite clear what's best in this case, but perhaps we can rule out some options immediately - for instance, setting missing values in this column to 0 is likely to yield horrible results!"
      ]
     },
     "metadata": {},
     "output_type": "display_data"
    }
   ],
   "source": [
    "# Check your answer (Run this code cell to receive credit!)\n",
    "step_3.b.check()"
   ]
  },
  {
   "cell_type": "code",
   "execution_count": 17,
   "id": "1d31c3f3",
   "metadata": {
    "execution": {
     "iopub.execute_input": "2022-06-22T18:07:45.948363Z",
     "iopub.status.busy": "2022-06-22T18:07:45.947539Z",
     "iopub.status.idle": "2022-06-22T18:07:45.951776Z",
     "shell.execute_reply": "2022-06-22T18:07:45.950860Z"
    },
    "papermill": {
     "duration": 0.016962,
     "end_time": "2022-06-22T18:07:45.953982",
     "exception": false,
     "start_time": "2022-06-22T18:07:45.937020",
     "status": "completed"
    },
    "tags": []
   },
   "outputs": [],
   "source": [
    "#step_3.b.hint()"
   ]
  },
  {
   "cell_type": "markdown",
   "id": "f573c3d7",
   "metadata": {
    "papermill": {
     "duration": 0.008606,
     "end_time": "2022-06-22T18:07:45.971948",
     "exception": false,
     "start_time": "2022-06-22T18:07:45.963342",
     "status": "completed"
    },
    "tags": []
   },
   "source": [
    "# Step 4: Generate test predictions\n",
    "\n",
    "In this final step, you'll use any approach of your choosing to deal with missing values.  Once you've preprocessed the training and validation features, you'll train and evaluate a random forest model.  Then, you'll preprocess the test data before generating predictions that can be submitted to the competition!\n",
    "\n",
    "### Part A\n",
    "\n",
    "Use the next code cell to preprocess the training and validation data.  Set the preprocessed DataFrames to `final_X_train` and `final_X_valid`.  **You can use any approach of your choosing here!**  in order for this step to be marked as correct, you need only ensure:\n",
    "- the preprocessed DataFrames have the same number of columns,\n",
    "- the preprocessed DataFrames have no missing values, \n",
    "- `final_X_train` and `y_train` have the same number of rows, and\n",
    "- `final_X_valid` and `y_valid` have the same number of rows."
   ]
  },
  {
   "cell_type": "code",
   "execution_count": 18,
   "id": "f7c939f3",
   "metadata": {
    "execution": {
     "iopub.execute_input": "2022-06-22T18:07:45.994208Z",
     "iopub.status.busy": "2022-06-22T18:07:45.993417Z",
     "iopub.status.idle": "2022-06-22T18:07:46.025913Z",
     "shell.execute_reply": "2022-06-22T18:07:46.024957Z"
    },
    "papermill": {
     "duration": 0.047331,
     "end_time": "2022-06-22T18:07:46.028168",
     "exception": false,
     "start_time": "2022-06-22T18:07:45.980837",
     "status": "completed"
    },
    "tags": []
   },
   "outputs": [
    {
     "data": {
      "application/javascript": [
       "parent.postMessage({\"jupyterEvent\": \"custom.exercise_interaction\", \"data\": {\"outcomeType\": 1, \"valueTowardsCompletion\": 1.0, \"interactionType\": 1, \"questionType\": 2, \"questionId\": \"4.1_PredsCodeA\", \"learnToolsVersion\": \"0.3.4\", \"failureMessage\": \"\", \"exceptionClass\": \"\", \"trace\": \"\"}}, \"*\")"
      ],
      "text/plain": [
       "<IPython.core.display.Javascript object>"
      ]
     },
     "metadata": {},
     "output_type": "display_data"
    },
    {
     "data": {
      "text/markdown": [
       "<span style=\"color:#33cc33\">Correct</span>"
      ],
      "text/plain": [
       "Correct"
      ]
     },
     "metadata": {},
     "output_type": "display_data"
    }
   ],
   "source": [
    "# Imputation\n",
    "final_imputer = SimpleImputer(strategy='median')\n",
    "final_X_train = pd.DataFrame(final_imputer.fit_transform(X_train))\n",
    "final_X_valid = pd.DataFrame(final_imputer.transform(X_valid))\n",
    "\n",
    "# Imputation removed column names; put them back\n",
    "final_X_train.columns = X_train.columns\n",
    "final_X_valid.columns = X_valid.columns\n",
    "# Check your answers\n",
    "step_4.a.check()"
   ]
  },
  {
   "cell_type": "code",
   "execution_count": 19,
   "id": "ce73943a",
   "metadata": {
    "execution": {
     "iopub.execute_input": "2022-06-22T18:07:46.048544Z",
     "iopub.status.busy": "2022-06-22T18:07:46.047774Z",
     "iopub.status.idle": "2022-06-22T18:07:46.052609Z",
     "shell.execute_reply": "2022-06-22T18:07:46.051673Z"
    },
    "papermill": {
     "duration": 0.017414,
     "end_time": "2022-06-22T18:07:46.054582",
     "exception": false,
     "start_time": "2022-06-22T18:07:46.037168",
     "status": "completed"
    },
    "tags": []
   },
   "outputs": [],
   "source": [
    "# Lines below will give you a hint or solution code\n",
    "#step_4.a.hint()\n",
    "# step_4.a.solution()"
   ]
  },
  {
   "cell_type": "markdown",
   "id": "317d4c92",
   "metadata": {
    "papermill": {
     "duration": 0.008439,
     "end_time": "2022-06-22T18:07:46.071978",
     "exception": false,
     "start_time": "2022-06-22T18:07:46.063539",
     "status": "completed"
    },
    "tags": []
   },
   "source": [
    "Run the next code cell to train and evaluate a random forest model.  (*Note that we don't use the `score_dataset()` function above, because we will soon use the trained model to generate test predictions!*)"
   ]
  },
  {
   "cell_type": "code",
   "execution_count": 20,
   "id": "09179b0b",
   "metadata": {
    "execution": {
     "iopub.execute_input": "2022-06-22T18:07:46.095766Z",
     "iopub.status.busy": "2022-06-22T18:07:46.094641Z",
     "iopub.status.idle": "2022-06-22T18:07:47.306810Z",
     "shell.execute_reply": "2022-06-22T18:07:47.305925Z"
    },
    "papermill": {
     "duration": 1.22783,
     "end_time": "2022-06-22T18:07:47.309347",
     "exception": false,
     "start_time": "2022-06-22T18:07:46.081517",
     "status": "completed"
    },
    "tags": []
   },
   "outputs": [
    {
     "name": "stdout",
     "output_type": "stream",
     "text": [
      "MAE (Your approach):\n",
      "17791.59899543379\n"
     ]
    }
   ],
   "source": [
    "# Define and fit model\n",
    "model = RandomForestRegressor(n_estimators=100, random_state=0)\n",
    "model.fit(final_X_train, y_train)\n",
    "\n",
    "# Get validation predictions and MAE\n",
    "preds_valid = model.predict(final_X_valid)\n",
    "print(\"MAE (Your approach):\")\n",
    "print(mean_absolute_error(y_valid, preds_valid))"
   ]
  },
  {
   "cell_type": "markdown",
   "id": "25e677a2",
   "metadata": {
    "papermill": {
     "duration": 0.008915,
     "end_time": "2022-06-22T18:07:47.328379",
     "exception": false,
     "start_time": "2022-06-22T18:07:47.319464",
     "status": "completed"
    },
    "tags": []
   },
   "source": [
    "### Part B\n",
    "\n",
    "Use the next code cell to preprocess your test data.  Make sure that you use a method that agrees with how you preprocessed the training and validation data, and set the preprocessed test features to `final_X_test`.\n",
    "\n",
    "Then, use the preprocessed test features and the trained model to generate test predictions in `preds_test`.\n",
    "\n",
    "In order for this step to be marked correct, you need only ensure:\n",
    "- the preprocessed test DataFrame has no missing values, and\n",
    "- `final_X_test` has the same number of rows as `X_test`."
   ]
  },
  {
   "cell_type": "code",
   "execution_count": 21,
   "id": "2855b645",
   "metadata": {
    "execution": {
     "iopub.execute_input": "2022-06-22T18:07:47.349281Z",
     "iopub.status.busy": "2022-06-22T18:07:47.348515Z",
     "iopub.status.idle": "2022-06-22T18:07:47.405674Z",
     "shell.execute_reply": "2022-06-22T18:07:47.404162Z"
    },
    "papermill": {
     "duration": 0.070589,
     "end_time": "2022-06-22T18:07:47.408149",
     "exception": false,
     "start_time": "2022-06-22T18:07:47.337560",
     "status": "completed"
    },
    "tags": []
   },
   "outputs": [
    {
     "name": "stderr",
     "output_type": "stream",
     "text": [
      "/opt/conda/lib/python3.7/site-packages/sklearn/base.py:451: UserWarning: X does not have valid feature names, but RandomForestRegressor was fitted with feature names\n",
      "  \"X does not have valid feature names, but\"\n"
     ]
    },
    {
     "data": {
      "application/javascript": [
       "parent.postMessage({\"jupyterEvent\": \"custom.exercise_interaction\", \"data\": {\"outcomeType\": 1, \"valueTowardsCompletion\": 1.0, \"interactionType\": 1, \"questionType\": 2, \"questionId\": \"4.2_PredsCodeB\", \"learnToolsVersion\": \"0.3.4\", \"failureMessage\": \"\", \"exceptionClass\": \"\", \"trace\": \"\"}}, \"*\")"
      ],
      "text/plain": [
       "<IPython.core.display.Javascript object>"
      ]
     },
     "metadata": {},
     "output_type": "display_data"
    },
    {
     "data": {
      "text/markdown": [
       "<span style=\"color:#33cc33\">Correct</span>"
      ],
      "text/plain": [
       "Correct"
      ]
     },
     "metadata": {},
     "output_type": "display_data"
    }
   ],
   "source": [
    "# Fill in the line below: preprocess test data\n",
    "final_X_test = pd.DataFrame(final_imputer.transform(X_test))\n",
    "\n",
    "# Fill in the line below: get test predictions\n",
    "preds_test = model.predict(final_X_test)\n",
    "\n",
    "# Check your answers\n",
    "step_4.b.check()"
   ]
  },
  {
   "cell_type": "code",
   "execution_count": 22,
   "id": "069d5ee7",
   "metadata": {
    "execution": {
     "iopub.execute_input": "2022-06-22T18:07:47.429176Z",
     "iopub.status.busy": "2022-06-22T18:07:47.428757Z",
     "iopub.status.idle": "2022-06-22T18:07:47.433920Z",
     "shell.execute_reply": "2022-06-22T18:07:47.432575Z"
    },
    "papermill": {
     "duration": 0.018893,
     "end_time": "2022-06-22T18:07:47.436505",
     "exception": false,
     "start_time": "2022-06-22T18:07:47.417612",
     "status": "completed"
    },
    "tags": []
   },
   "outputs": [],
   "source": [
    "# Lines below will give you a hint or solution code\n",
    "#step_4.b.hint()\n",
    "# step_4.b.solution()"
   ]
  },
  {
   "cell_type": "markdown",
   "id": "7ddedb56",
   "metadata": {
    "papermill": {
     "duration": 0.009091,
     "end_time": "2022-06-22T18:07:47.454846",
     "exception": false,
     "start_time": "2022-06-22T18:07:47.445755",
     "status": "completed"
    },
    "tags": []
   },
   "source": [
    "Run the next code cell without changes to save your results to a CSV file that can be submitted directly to the competition."
   ]
  },
  {
   "cell_type": "code",
   "execution_count": 23,
   "id": "7fa86332",
   "metadata": {
    "execution": {
     "iopub.execute_input": "2022-06-22T18:07:47.475456Z",
     "iopub.status.busy": "2022-06-22T18:07:47.474991Z",
     "iopub.status.idle": "2022-06-22T18:07:47.489366Z",
     "shell.execute_reply": "2022-06-22T18:07:47.487745Z"
    },
    "papermill": {
     "duration": 0.028349,
     "end_time": "2022-06-22T18:07:47.492358",
     "exception": false,
     "start_time": "2022-06-22T18:07:47.464009",
     "status": "completed"
    },
    "tags": []
   },
   "outputs": [],
   "source": [
    "# Save test predictions to file\n",
    "output = pd.DataFrame({'Id': X_test.index,\n",
    "                       'SalePrice': preds_test})\n",
    "output.to_csv('submission.csv', index=False)"
   ]
  },
  {
   "cell_type": "markdown",
   "id": "1bafef0a",
   "metadata": {
    "papermill": {
     "duration": 0.009313,
     "end_time": "2022-06-22T18:07:47.511362",
     "exception": false,
     "start_time": "2022-06-22T18:07:47.502049",
     "status": "completed"
    },
    "tags": []
   },
   "source": [
    "# Submit your results\n",
    "\n",
    "Once you have successfully completed Step 4, you're ready to submit your results to the leaderboard!  (_You also learned how to do this in the previous exercise.  If you need a reminder of how to do this, please use the instructions below._)  \n",
    "\n",
    "First, you'll need to join the competition if you haven't already.  So open a new window by clicking on [this link](https://www.kaggle.com/c/home-data-for-ml-course).  Then click on the **Join Competition** button.\n",
    "\n",
    "![join competition image](https://i.imgur.com/wLmFtH3.png)\n",
    "\n",
    "Next, follow the instructions below:\n",
    "1. Begin by clicking on the **Save Version** button in the top right corner of the window.  This will generate a pop-up window.  \n",
    "2. Ensure that the **Save and Run All** option is selected, and then click on the **Save** button.\n",
    "3. This generates a window in the bottom left corner of the notebook.  After it has finished running, click on the number to the right of the **Save Version** button.  This pulls up a list of versions on the right of the screen.  Click on the ellipsis **(...)** to the right of the most recent version, and select **Open in Viewer**.  This brings you into view mode of the same page. You will need to scroll down to get back to these instructions.\n",
    "4. Click on the **Output** tab on the right of the screen.  Then, click on the file you would like to submit, and click on the **Submit** button to submit your results to the leaderboard.\n",
    "\n",
    "You have now successfully submitted to the competition!\n",
    "\n",
    "If you want to keep working to improve your performance, select the **Edit** button in the top right of the screen. Then you can change your code and repeat the process. There's a lot of room to improve, and you will climb up the leaderboard as you work.\n",
    "\n",
    "\n",
    "# Keep going\n",
    "\n",
    "Move on to learn what **[categorical variables](https://www.kaggle.com/alexisbcook/categorical-variables)** are, along with how to incorporate them into your machine learning models.  Categorical variables are very common in real-world data, but you'll get an error if you try to plug them into your models without processing them first!"
   ]
  },
  {
   "cell_type": "markdown",
   "id": "c5ce596d",
   "metadata": {
    "papermill": {
     "duration": 0.008964,
     "end_time": "2022-06-22T18:07:47.529701",
     "exception": false,
     "start_time": "2022-06-22T18:07:47.520737",
     "status": "completed"
    },
    "tags": []
   },
   "source": [
    "---\n",
    "\n",
    "\n",
    "\n",
    "\n",
    "*Have questions or comments? Visit the [course discussion forum](https://www.kaggle.com/learn/intermediate-machine-learning/discussion) to chat with other learners.*"
   ]
  }
 ],
 "metadata": {
  "kernelspec": {
   "display_name": "Python 3",
   "language": "python",
   "name": "python3"
  },
  "language_info": {
   "codemirror_mode": {
    "name": "ipython",
    "version": 3
   },
   "file_extension": ".py",
   "mimetype": "text/x-python",
   "name": "python",
   "nbconvert_exporter": "python",
   "pygments_lexer": "ipython3",
   "version": "3.7.12"
  },
  "papermill": {
   "default_parameters": {},
   "duration": 17.819018,
   "end_time": "2022-06-22T18:07:48.563958",
   "environment_variables": {},
   "exception": null,
   "input_path": "__notebook__.ipynb",
   "output_path": "__notebook__.ipynb",
   "parameters": {},
   "start_time": "2022-06-22T18:07:30.744940",
   "version": "2.3.4"
  }
 },
 "nbformat": 4,
 "nbformat_minor": 5
}
