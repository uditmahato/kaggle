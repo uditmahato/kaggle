{
 "cells": [
  {
   "cell_type": "markdown",
   "id": "90f1cbc2",
   "metadata": {
    "papermill": {
     "duration": 0.031573,
     "end_time": "2022-05-10T17:03:09.966278",
     "exception": false,
     "start_time": "2022-05-10T17:03:09.934705",
     "status": "completed"
    },
    "tags": []
   },
   "source": [
    "**This notebook is an exercise in the [Pandas](https://www.kaggle.com/learn/pandas) course.  You can reference the tutorial at [this link](https://www.kaggle.com/residentmario/indexing-selecting-assigning).**\n",
    "\n",
    "---\n"
   ]
  },
  {
   "cell_type": "markdown",
   "id": "c7596386",
   "metadata": {
    "papermill": {
     "duration": 0.031767,
     "end_time": "2022-05-10T17:03:10.028238",
     "exception": false,
     "start_time": "2022-05-10T17:03:09.996471",
     "status": "completed"
    },
    "tags": []
   },
   "source": [
    "# Introduction\n",
    "\n",
    "In this set of exercises we will work with the [Wine Reviews dataset](https://www.kaggle.com/zynicide/wine-reviews). "
   ]
  },
  {
   "cell_type": "markdown",
   "id": "b13df47e",
   "metadata": {
    "papermill": {
     "duration": 0.030807,
     "end_time": "2022-05-10T17:03:10.089544",
     "exception": false,
     "start_time": "2022-05-10T17:03:10.058737",
     "status": "completed"
    },
    "tags": []
   },
   "source": [
    "Run the following cell to load your data and some utility functions (including code to check your answers)."
   ]
  },
  {
   "cell_type": "code",
   "execution_count": 1,
   "id": "39baf842",
   "metadata": {
    "execution": {
     "iopub.execute_input": "2022-05-10T17:03:10.152479Z",
     "iopub.status.busy": "2022-05-10T17:03:10.152161Z",
     "iopub.status.idle": "2022-05-10T17:03:13.123590Z",
     "shell.execute_reply": "2022-05-10T17:03:13.122730Z"
    },
    "papermill": {
     "duration": 3.007149,
     "end_time": "2022-05-10T17:03:13.127415",
     "exception": false,
     "start_time": "2022-05-10T17:03:10.120266",
     "status": "completed"
    },
    "tags": []
   },
   "outputs": [
    {
     "name": "stdout",
     "output_type": "stream",
     "text": [
      "Setup complete.\n"
     ]
    }
   ],
   "source": [
    "import pandas as pd\n",
    "\n",
    "reviews = pd.read_csv(\"../input/wine-reviews/winemag-data-130k-v2.csv\", index_col=0)\n",
    "pd.set_option(\"display.max_rows\", 5)\n",
    "\n",
    "from learntools.core import binder; binder.bind(globals())\n",
    "from learntools.pandas.indexing_selecting_and_assigning import *\n",
    "print(\"Setup complete.\")"
   ]
  },
  {
   "cell_type": "markdown",
   "id": "9b3d407b",
   "metadata": {
    "papermill": {
     "duration": 0.032151,
     "end_time": "2022-05-10T17:03:13.192883",
     "exception": false,
     "start_time": "2022-05-10T17:03:13.160732",
     "status": "completed"
    },
    "tags": []
   },
   "source": [
    "Look at an overview of your data by running the following line."
   ]
  },
  {
   "cell_type": "code",
   "execution_count": 2,
   "id": "ee46ed77",
   "metadata": {
    "execution": {
     "iopub.execute_input": "2022-05-10T17:03:13.258276Z",
     "iopub.status.busy": "2022-05-10T17:03:13.257985Z",
     "iopub.status.idle": "2022-05-10T17:03:13.281587Z",
     "shell.execute_reply": "2022-05-10T17:03:13.280747Z"
    },
    "papermill": {
     "duration": 0.060205,
     "end_time": "2022-05-10T17:03:13.283854",
     "exception": false,
     "start_time": "2022-05-10T17:03:13.223649",
     "status": "completed"
    },
    "tags": []
   },
   "outputs": [
    {
     "data": {
      "text/html": [
       "<div>\n",
       "<style scoped>\n",
       "    .dataframe tbody tr th:only-of-type {\n",
       "        vertical-align: middle;\n",
       "    }\n",
       "\n",
       "    .dataframe tbody tr th {\n",
       "        vertical-align: top;\n",
       "    }\n",
       "\n",
       "    .dataframe thead th {\n",
       "        text-align: right;\n",
       "    }\n",
       "</style>\n",
       "<table border=\"1\" class=\"dataframe\">\n",
       "  <thead>\n",
       "    <tr style=\"text-align: right;\">\n",
       "      <th></th>\n",
       "      <th>country</th>\n",
       "      <th>description</th>\n",
       "      <th>designation</th>\n",
       "      <th>points</th>\n",
       "      <th>price</th>\n",
       "      <th>province</th>\n",
       "      <th>region_1</th>\n",
       "      <th>region_2</th>\n",
       "      <th>taster_name</th>\n",
       "      <th>taster_twitter_handle</th>\n",
       "      <th>title</th>\n",
       "      <th>variety</th>\n",
       "      <th>winery</th>\n",
       "    </tr>\n",
       "  </thead>\n",
       "  <tbody>\n",
       "    <tr>\n",
       "      <th>0</th>\n",
       "      <td>Italy</td>\n",
       "      <td>Aromas include tropical fruit, broom, brimston...</td>\n",
       "      <td>Vulkà Bianco</td>\n",
       "      <td>87</td>\n",
       "      <td>NaN</td>\n",
       "      <td>Sicily &amp; Sardinia</td>\n",
       "      <td>Etna</td>\n",
       "      <td>NaN</td>\n",
       "      <td>Kerin O’Keefe</td>\n",
       "      <td>@kerinokeefe</td>\n",
       "      <td>Nicosia 2013 Vulkà Bianco  (Etna)</td>\n",
       "      <td>White Blend</td>\n",
       "      <td>Nicosia</td>\n",
       "    </tr>\n",
       "    <tr>\n",
       "      <th>1</th>\n",
       "      <td>Portugal</td>\n",
       "      <td>This is ripe and fruity, a wine that is smooth...</td>\n",
       "      <td>Avidagos</td>\n",
       "      <td>87</td>\n",
       "      <td>15.0</td>\n",
       "      <td>Douro</td>\n",
       "      <td>NaN</td>\n",
       "      <td>NaN</td>\n",
       "      <td>Roger Voss</td>\n",
       "      <td>@vossroger</td>\n",
       "      <td>Quinta dos Avidagos 2011 Avidagos Red (Douro)</td>\n",
       "      <td>Portuguese Red</td>\n",
       "      <td>Quinta dos Avidagos</td>\n",
       "    </tr>\n",
       "    <tr>\n",
       "      <th>2</th>\n",
       "      <td>US</td>\n",
       "      <td>Tart and snappy, the flavors of lime flesh and...</td>\n",
       "      <td>NaN</td>\n",
       "      <td>87</td>\n",
       "      <td>14.0</td>\n",
       "      <td>Oregon</td>\n",
       "      <td>Willamette Valley</td>\n",
       "      <td>Willamette Valley</td>\n",
       "      <td>Paul Gregutt</td>\n",
       "      <td>@paulgwine</td>\n",
       "      <td>Rainstorm 2013 Pinot Gris (Willamette Valley)</td>\n",
       "      <td>Pinot Gris</td>\n",
       "      <td>Rainstorm</td>\n",
       "    </tr>\n",
       "    <tr>\n",
       "      <th>3</th>\n",
       "      <td>US</td>\n",
       "      <td>Pineapple rind, lemon pith and orange blossom ...</td>\n",
       "      <td>Reserve Late Harvest</td>\n",
       "      <td>87</td>\n",
       "      <td>13.0</td>\n",
       "      <td>Michigan</td>\n",
       "      <td>Lake Michigan Shore</td>\n",
       "      <td>NaN</td>\n",
       "      <td>Alexander Peartree</td>\n",
       "      <td>NaN</td>\n",
       "      <td>St. Julian 2013 Reserve Late Harvest Riesling ...</td>\n",
       "      <td>Riesling</td>\n",
       "      <td>St. Julian</td>\n",
       "    </tr>\n",
       "    <tr>\n",
       "      <th>4</th>\n",
       "      <td>US</td>\n",
       "      <td>Much like the regular bottling from 2012, this...</td>\n",
       "      <td>Vintner's Reserve Wild Child Block</td>\n",
       "      <td>87</td>\n",
       "      <td>65.0</td>\n",
       "      <td>Oregon</td>\n",
       "      <td>Willamette Valley</td>\n",
       "      <td>Willamette Valley</td>\n",
       "      <td>Paul Gregutt</td>\n",
       "      <td>@paulgwine</td>\n",
       "      <td>Sweet Cheeks 2012 Vintner's Reserve Wild Child...</td>\n",
       "      <td>Pinot Noir</td>\n",
       "      <td>Sweet Cheeks</td>\n",
       "    </tr>\n",
       "  </tbody>\n",
       "</table>\n",
       "</div>"
      ],
      "text/plain": [
       "    country                                        description  \\\n",
       "0     Italy  Aromas include tropical fruit, broom, brimston...   \n",
       "1  Portugal  This is ripe and fruity, a wine that is smooth...   \n",
       "2        US  Tart and snappy, the flavors of lime flesh and...   \n",
       "3        US  Pineapple rind, lemon pith and orange blossom ...   \n",
       "4        US  Much like the regular bottling from 2012, this...   \n",
       "\n",
       "                          designation  points  price           province  \\\n",
       "0                        Vulkà Bianco      87    NaN  Sicily & Sardinia   \n",
       "1                            Avidagos      87   15.0              Douro   \n",
       "2                                 NaN      87   14.0             Oregon   \n",
       "3                Reserve Late Harvest      87   13.0           Michigan   \n",
       "4  Vintner's Reserve Wild Child Block      87   65.0             Oregon   \n",
       "\n",
       "              region_1           region_2         taster_name  \\\n",
       "0                 Etna                NaN       Kerin O’Keefe   \n",
       "1                  NaN                NaN          Roger Voss   \n",
       "2    Willamette Valley  Willamette Valley        Paul Gregutt   \n",
       "3  Lake Michigan Shore                NaN  Alexander Peartree   \n",
       "4    Willamette Valley  Willamette Valley        Paul Gregutt   \n",
       "\n",
       "  taster_twitter_handle                                              title  \\\n",
       "0          @kerinokeefe                  Nicosia 2013 Vulkà Bianco  (Etna)   \n",
       "1            @vossroger      Quinta dos Avidagos 2011 Avidagos Red (Douro)   \n",
       "2           @paulgwine       Rainstorm 2013 Pinot Gris (Willamette Valley)   \n",
       "3                   NaN  St. Julian 2013 Reserve Late Harvest Riesling ...   \n",
       "4           @paulgwine   Sweet Cheeks 2012 Vintner's Reserve Wild Child...   \n",
       "\n",
       "          variety               winery  \n",
       "0     White Blend              Nicosia  \n",
       "1  Portuguese Red  Quinta dos Avidagos  \n",
       "2      Pinot Gris            Rainstorm  \n",
       "3        Riesling           St. Julian  \n",
       "4      Pinot Noir         Sweet Cheeks  "
      ]
     },
     "execution_count": 2,
     "metadata": {},
     "output_type": "execute_result"
    }
   ],
   "source": [
    "reviews.head()"
   ]
  },
  {
   "cell_type": "markdown",
   "id": "38472484",
   "metadata": {
    "papermill": {
     "duration": 0.031459,
     "end_time": "2022-05-10T17:03:13.347030",
     "exception": false,
     "start_time": "2022-05-10T17:03:13.315571",
     "status": "completed"
    },
    "tags": []
   },
   "source": [
    "# Exercises"
   ]
  },
  {
   "cell_type": "markdown",
   "id": "2ad5f332",
   "metadata": {
    "papermill": {
     "duration": 0.031082,
     "end_time": "2022-05-10T17:03:13.410321",
     "exception": false,
     "start_time": "2022-05-10T17:03:13.379239",
     "status": "completed"
    },
    "tags": []
   },
   "source": [
    "## 1.\n",
    "\n",
    "Select the `description` column from `reviews` and assign the result to the variable `desc`."
   ]
  },
  {
   "cell_type": "code",
   "execution_count": 3,
   "id": "5b42e7dc",
   "metadata": {
    "execution": {
     "iopub.execute_input": "2022-05-10T17:03:13.474406Z",
     "iopub.status.busy": "2022-05-10T17:03:13.474083Z",
     "iopub.status.idle": "2022-05-10T17:03:13.482486Z",
     "shell.execute_reply": "2022-05-10T17:03:13.481911Z"
    },
    "papermill": {
     "duration": 0.042814,
     "end_time": "2022-05-10T17:03:13.484357",
     "exception": false,
     "start_time": "2022-05-10T17:03:13.441543",
     "status": "completed"
    },
    "tags": []
   },
   "outputs": [
    {
     "data": {
      "application/javascript": [
       "parent.postMessage({\"jupyterEvent\": \"custom.exercise_interaction\", \"data\": {\"outcomeType\": 1, \"valueTowardsCompletion\": 0.1111111111111111, \"interactionType\": 1, \"questionType\": 1, \"questionId\": \"1_SelectDescCol\", \"learnToolsVersion\": \"0.3.4\", \"failureMessage\": \"\", \"exceptionClass\": \"\", \"trace\": \"\"}}, \"*\")"
      ],
      "text/plain": [
       "<IPython.core.display.Javascript object>"
      ]
     },
     "metadata": {},
     "output_type": "display_data"
    },
    {
     "data": {
      "text/markdown": [
       "<span style=\"color:#33cc33\">Correct</span>"
      ],
      "text/plain": [
       "Correct"
      ]
     },
     "metadata": {},
     "output_type": "display_data"
    }
   ],
   "source": [
    "# Your code here\n",
    "desc = reviews['description']\n",
    "\n",
    "# Check your answer\n",
    "q1.check()"
   ]
  },
  {
   "cell_type": "markdown",
   "id": "a3de5980",
   "metadata": {
    "papermill": {
     "duration": 0.032824,
     "end_time": "2022-05-10T17:03:13.551251",
     "exception": false,
     "start_time": "2022-05-10T17:03:13.518427",
     "status": "completed"
    },
    "tags": []
   },
   "source": [
    "Follow-up question: what type of object is `desc`? If you're not sure, you can check by calling Python's `type` function: `type(desc)`."
   ]
  },
  {
   "cell_type": "code",
   "execution_count": 4,
   "id": "71b2d974",
   "metadata": {
    "execution": {
     "iopub.execute_input": "2022-05-10T17:03:13.619454Z",
     "iopub.status.busy": "2022-05-10T17:03:13.618718Z",
     "iopub.status.idle": "2022-05-10T17:03:13.622561Z",
     "shell.execute_reply": "2022-05-10T17:03:13.621390Z"
    },
    "papermill": {
     "duration": 0.040212,
     "end_time": "2022-05-10T17:03:13.624697",
     "exception": false,
     "start_time": "2022-05-10T17:03:13.584485",
     "status": "completed"
    },
    "tags": []
   },
   "outputs": [],
   "source": [
    "#q1.hint()\n",
    "#q1.solution()"
   ]
  },
  {
   "cell_type": "markdown",
   "id": "5600bcd9",
   "metadata": {
    "papermill": {
     "duration": 0.032483,
     "end_time": "2022-05-10T17:03:13.690065",
     "exception": false,
     "start_time": "2022-05-10T17:03:13.657582",
     "status": "completed"
    },
    "tags": []
   },
   "source": [
    "## 2.\n",
    "\n",
    "Select the first value from the description column of `reviews`, assigning it to variable `first_description`."
   ]
  },
  {
   "cell_type": "code",
   "execution_count": 5,
   "id": "2e2f2f3e",
   "metadata": {
    "execution": {
     "iopub.execute_input": "2022-05-10T17:03:13.757936Z",
     "iopub.status.busy": "2022-05-10T17:03:13.757463Z",
     "iopub.status.idle": "2022-05-10T17:03:13.771851Z",
     "shell.execute_reply": "2022-05-10T17:03:13.771282Z"
    },
    "papermill": {
     "duration": 0.051305,
     "end_time": "2022-05-10T17:03:13.773920",
     "exception": false,
     "start_time": "2022-05-10T17:03:13.722615",
     "status": "completed"
    },
    "tags": []
   },
   "outputs": [
    {
     "data": {
      "application/javascript": [
       "parent.postMessage({\"jupyterEvent\": \"custom.exercise_interaction\", \"data\": {\"outcomeType\": 1, \"valueTowardsCompletion\": 0.1111111111111111, \"interactionType\": 1, \"questionType\": 1, \"questionId\": \"2_FirstDesc\", \"learnToolsVersion\": \"0.3.4\", \"failureMessage\": \"\", \"exceptionClass\": \"\", \"trace\": \"\"}}, \"*\")"
      ],
      "text/plain": [
       "<IPython.core.display.Javascript object>"
      ]
     },
     "metadata": {},
     "output_type": "display_data"
    },
    {
     "data": {
      "text/markdown": [
       "<span style=\"color:#33cc33\">Correct:</span> \n",
       "\n",
       "\n",
       "```python\n",
       "first_description = reviews.description.iloc[0]\n",
       "```\n",
       "Note that while this is the preferred way to obtain the entry in the DataFrame, many other options will return a valid result, such as `reviews.description.loc[0]`, `reviews.description[0]`, and more!  \n"
      ],
      "text/plain": [
       "Correct: \n",
       "\n",
       "\n",
       "```python\n",
       "first_description = reviews.description.iloc[0]\n",
       "```\n",
       "Note that while this is the preferred way to obtain the entry in the DataFrame, many other options will return a valid result, such as `reviews.description.loc[0]`, `reviews.description[0]`, and more!  "
      ]
     },
     "metadata": {},
     "output_type": "display_data"
    },
    {
     "data": {
      "text/plain": [
       "\"Aromas include tropical fruit, broom, brimstone and dried herb. The palate isn't overly expressive, offering unripened apple, citrus and dried sage alongside brisk acidity.\""
      ]
     },
     "execution_count": 5,
     "metadata": {},
     "output_type": "execute_result"
    }
   ],
   "source": [
    "first_description = reviews['description'][0]\n",
    "\n",
    "# Check your answer\n",
    "q2.check()\n",
    "first_description"
   ]
  },
  {
   "cell_type": "code",
   "execution_count": 6,
   "id": "a3a0eec8",
   "metadata": {
    "execution": {
     "iopub.execute_input": "2022-05-10T17:03:13.845844Z",
     "iopub.status.busy": "2022-05-10T17:03:13.845286Z",
     "iopub.status.idle": "2022-05-10T17:03:13.848513Z",
     "shell.execute_reply": "2022-05-10T17:03:13.847758Z"
    },
    "papermill": {
     "duration": 0.041059,
     "end_time": "2022-05-10T17:03:13.850577",
     "exception": false,
     "start_time": "2022-05-10T17:03:13.809518",
     "status": "completed"
    },
    "tags": []
   },
   "outputs": [],
   "source": [
    "#q2.hint()\n",
    "#q2.solution()"
   ]
  },
  {
   "cell_type": "markdown",
   "id": "e1c5d328",
   "metadata": {
    "papermill": {
     "duration": 0.033893,
     "end_time": "2022-05-10T17:03:13.920290",
     "exception": false,
     "start_time": "2022-05-10T17:03:13.886397",
     "status": "completed"
    },
    "tags": []
   },
   "source": [
    "## 3. \n",
    "\n",
    "Select the first row of data (the first record) from `reviews`, assigning it to the variable `first_row`."
   ]
  },
  {
   "cell_type": "code",
   "execution_count": 7,
   "id": "96b185da",
   "metadata": {
    "execution": {
     "iopub.execute_input": "2022-05-10T17:03:13.991600Z",
     "iopub.status.busy": "2022-05-10T17:03:13.991054Z",
     "iopub.status.idle": "2022-05-10T17:03:14.002120Z",
     "shell.execute_reply": "2022-05-10T17:03:14.001392Z"
    },
    "papermill": {
     "duration": 0.04862,
     "end_time": "2022-05-10T17:03:14.004054",
     "exception": false,
     "start_time": "2022-05-10T17:03:13.955434",
     "status": "completed"
    },
    "tags": []
   },
   "outputs": [
    {
     "data": {
      "application/javascript": [
       "parent.postMessage({\"jupyterEvent\": \"custom.exercise_interaction\", \"data\": {\"outcomeType\": 1, \"valueTowardsCompletion\": 0.1111111111111111, \"interactionType\": 1, \"questionType\": 1, \"questionId\": \"3_FirstRow\", \"learnToolsVersion\": \"0.3.4\", \"failureMessage\": \"\", \"exceptionClass\": \"\", \"trace\": \"\"}}, \"*\")"
      ],
      "text/plain": [
       "<IPython.core.display.Javascript object>"
      ]
     },
     "metadata": {},
     "output_type": "display_data"
    },
    {
     "data": {
      "text/markdown": [
       "<span style=\"color:#33cc33\">Correct</span>"
      ],
      "text/plain": [
       "Correct"
      ]
     },
     "metadata": {},
     "output_type": "display_data"
    },
    {
     "data": {
      "text/plain": [
       "country                                                    Italy\n",
       "description    Aromas include tropical fruit, broom, brimston...\n",
       "                                     ...                        \n",
       "variety                                              White Blend\n",
       "winery                                                   Nicosia\n",
       "Name: 0, Length: 13, dtype: object"
      ]
     },
     "execution_count": 7,
     "metadata": {},
     "output_type": "execute_result"
    }
   ],
   "source": [
    "first_row = reviews.loc[0]\n",
    "\n",
    "# Check your answer\n",
    "q3.check()\n",
    "first_row"
   ]
  },
  {
   "cell_type": "code",
   "execution_count": 8,
   "id": "aaa5b177",
   "metadata": {
    "execution": {
     "iopub.execute_input": "2022-05-10T17:03:14.078846Z",
     "iopub.status.busy": "2022-05-10T17:03:14.078581Z",
     "iopub.status.idle": "2022-05-10T17:03:14.081959Z",
     "shell.execute_reply": "2022-05-10T17:03:14.081063Z"
    },
    "papermill": {
     "duration": 0.042595,
     "end_time": "2022-05-10T17:03:14.083783",
     "exception": false,
     "start_time": "2022-05-10T17:03:14.041188",
     "status": "completed"
    },
    "tags": []
   },
   "outputs": [],
   "source": [
    "#q3.hint()\n",
    "#q3.solution()"
   ]
  },
  {
   "cell_type": "markdown",
   "id": "c71510d2",
   "metadata": {
    "papermill": {
     "duration": 0.036358,
     "end_time": "2022-05-10T17:03:14.156280",
     "exception": false,
     "start_time": "2022-05-10T17:03:14.119922",
     "status": "completed"
    },
    "tags": []
   },
   "source": [
    "## 4.\n",
    "\n",
    "Select the first 10 values from the `description` column in `reviews`, assigning the result to variable `first_descriptions`.\n",
    "\n",
    "Hint: format your output as a pandas Series."
   ]
  },
  {
   "cell_type": "code",
   "execution_count": 9,
   "id": "30c6ce2a",
   "metadata": {
    "execution": {
     "iopub.execute_input": "2022-05-10T17:03:14.231706Z",
     "iopub.status.busy": "2022-05-10T17:03:14.231437Z",
     "iopub.status.idle": "2022-05-10T17:03:14.244585Z",
     "shell.execute_reply": "2022-05-10T17:03:14.243384Z"
    },
    "papermill": {
     "duration": 0.054465,
     "end_time": "2022-05-10T17:03:14.246696",
     "exception": false,
     "start_time": "2022-05-10T17:03:14.192231",
     "status": "completed"
    },
    "tags": []
   },
   "outputs": [
    {
     "data": {
      "application/javascript": [
       "parent.postMessage({\"jupyterEvent\": \"custom.exercise_interaction\", \"data\": {\"outcomeType\": 1, \"valueTowardsCompletion\": 0.1111111111111111, \"interactionType\": 1, \"questionType\": 1, \"questionId\": \"4_FirstDescs\", \"learnToolsVersion\": \"0.3.4\", \"failureMessage\": \"\", \"exceptionClass\": \"\", \"trace\": \"\"}}, \"*\")"
      ],
      "text/plain": [
       "<IPython.core.display.Javascript object>"
      ]
     },
     "metadata": {},
     "output_type": "display_data"
    },
    {
     "data": {
      "text/markdown": [
       "<span style=\"color:#33cc33\">Correct:</span> \n",
       "\n",
       "\n",
       "```python\n",
       "first_descriptions = reviews.description.iloc[:10]\n",
       "```\n",
       "Note that many other options will return a valid result, such as `desc.head(10)` and `reviews.loc[:9, \"description\"]`.    \n"
      ],
      "text/plain": [
       "Correct: \n",
       "\n",
       "\n",
       "```python\n",
       "first_descriptions = reviews.description.iloc[:10]\n",
       "```\n",
       "Note that many other options will return a valid result, such as `desc.head(10)` and `reviews.loc[:9, \"description\"]`.    "
      ]
     },
     "metadata": {},
     "output_type": "display_data"
    },
    {
     "data": {
      "text/plain": [
       "0    Aromas include tropical fruit, broom, brimston...\n",
       "1    This is ripe and fruity, a wine that is smooth...\n",
       "                           ...                        \n",
       "8    Savory dried thyme notes accent sunnier flavor...\n",
       "9    This has great depth of flavor with its fresh ...\n",
       "Name: description, Length: 10, dtype: object"
      ]
     },
     "execution_count": 9,
     "metadata": {},
     "output_type": "execute_result"
    }
   ],
   "source": [
    "first_descriptions = reviews.description.loc[0:9]\n",
    "\n",
    "# Check your answer\n",
    "q4.check()\n",
    "first_descriptions"
   ]
  },
  {
   "cell_type": "code",
   "execution_count": 10,
   "id": "ec835ccb",
   "metadata": {
    "execution": {
     "iopub.execute_input": "2022-05-10T17:03:14.324964Z",
     "iopub.status.busy": "2022-05-10T17:03:14.324041Z",
     "iopub.status.idle": "2022-05-10T17:03:14.327730Z",
     "shell.execute_reply": "2022-05-10T17:03:14.327121Z"
    },
    "papermill": {
     "duration": 0.044641,
     "end_time": "2022-05-10T17:03:14.329603",
     "exception": false,
     "start_time": "2022-05-10T17:03:14.284962",
     "status": "completed"
    },
    "tags": []
   },
   "outputs": [],
   "source": [
    "#q4.hint()\n",
    "#q4.solution()"
   ]
  },
  {
   "cell_type": "markdown",
   "id": "42019756",
   "metadata": {
    "papermill": {
     "duration": 0.037498,
     "end_time": "2022-05-10T17:03:14.404914",
     "exception": false,
     "start_time": "2022-05-10T17:03:14.367416",
     "status": "completed"
    },
    "tags": []
   },
   "source": [
    "## 5.\n",
    "\n",
    "Select the records with index labels `1`, `2`, `3`, `5`, and `8`, assigning the result to the variable `sample_reviews`.\n",
    "\n",
    "In other words, generate the following DataFrame:\n",
    "\n",
    "![](https://i.imgur.com/sHZvI1O.png)"
   ]
  },
  {
   "cell_type": "code",
   "execution_count": 11,
   "id": "579e7b66",
   "metadata": {
    "execution": {
     "iopub.execute_input": "2022-05-10T17:03:14.484799Z",
     "iopub.status.busy": "2022-05-10T17:03:14.484231Z",
     "iopub.status.idle": "2022-05-10T17:03:14.492920Z",
     "shell.execute_reply": "2022-05-10T17:03:14.492014Z"
    },
    "papermill": {
     "duration": 0.049693,
     "end_time": "2022-05-10T17:03:14.494976",
     "exception": false,
     "start_time": "2022-05-10T17:03:14.445283",
     "status": "completed"
    },
    "tags": []
   },
   "outputs": [
    {
     "data": {
      "application/javascript": [
       "parent.postMessage({\"jupyterEvent\": \"custom.exercise_interaction\", \"data\": {\"outcomeType\": 4, \"interactionType\": 1, \"questionType\": 1, \"questionId\": \"5_SampleReviews\", \"learnToolsVersion\": \"0.3.4\", \"valueTowardsCompletion\": 0.0, \"failureMessage\": \"\", \"exceptionClass\": \"\", \"trace\": \"\"}}, \"*\")"
      ],
      "text/plain": [
       "<IPython.core.display.Javascript object>"
      ]
     },
     "metadata": {},
     "output_type": "display_data"
    },
    {
     "data": {
      "text/markdown": [
       "<span style=\"color:#ccaa33\">Check:</span> When you've updated the starter code, `check()` will tell you whether your code is correct. You need to update the code that creates variable `sample_reviews`"
      ],
      "text/plain": [
       "Check: When you've updated the starter code, `check()` will tell you whether your code is correct. You need to update the code that creates variable `sample_reviews`"
      ]
     },
     "metadata": {},
     "output_type": "display_data"
    },
    {
     "data": {
      "text/markdown": [],
      "text/plain": [
       "<learntools.core.constants.PlaceholderValue at 0x7f5ac125c150>"
      ]
     },
     "execution_count": 11,
     "metadata": {},
     "output_type": "execute_result"
    }
   ],
   "source": [
    "sample_reviews = ____\n",
    "\n",
    "# Check your answer\n",
    "q5.check()\n",
    "sample_reviews"
   ]
  },
  {
   "cell_type": "code",
   "execution_count": 12,
   "id": "ad744e2e",
   "metadata": {
    "execution": {
     "iopub.execute_input": "2022-05-10T17:03:14.576941Z",
     "iopub.status.busy": "2022-05-10T17:03:14.576052Z",
     "iopub.status.idle": "2022-05-10T17:03:14.579952Z",
     "shell.execute_reply": "2022-05-10T17:03:14.579125Z"
    },
    "papermill": {
     "duration": 0.046706,
     "end_time": "2022-05-10T17:03:14.582026",
     "exception": false,
     "start_time": "2022-05-10T17:03:14.535320",
     "status": "completed"
    },
    "tags": []
   },
   "outputs": [],
   "source": [
    "#q5.hint()\n",
    "#q5.solution()"
   ]
  },
  {
   "cell_type": "markdown",
   "id": "9ee6384f",
   "metadata": {
    "papermill": {
     "duration": 0.03897,
     "end_time": "2022-05-10T17:03:14.660351",
     "exception": false,
     "start_time": "2022-05-10T17:03:14.621381",
     "status": "completed"
    },
    "tags": []
   },
   "source": [
    "## 6.\n",
    "\n",
    "Create a variable `df` containing the `country`, `province`, `region_1`, and `region_2` columns of the records with the index labels `0`, `1`, `10`, and `100`. In other words, generate the following DataFrame:\n",
    "\n",
    "![](https://i.imgur.com/FUCGiKP.png)"
   ]
  },
  {
   "cell_type": "code",
   "execution_count": 13,
   "id": "26bcbc60",
   "metadata": {
    "execution": {
     "iopub.execute_input": "2022-05-10T17:03:14.740755Z",
     "iopub.status.busy": "2022-05-10T17:03:14.740235Z",
     "iopub.status.idle": "2022-05-10T17:03:14.748142Z",
     "shell.execute_reply": "2022-05-10T17:03:14.747196Z"
    },
    "papermill": {
     "duration": 0.050594,
     "end_time": "2022-05-10T17:03:14.750043",
     "exception": false,
     "start_time": "2022-05-10T17:03:14.699449",
     "status": "completed"
    },
    "tags": []
   },
   "outputs": [
    {
     "data": {
      "application/javascript": [
       "parent.postMessage({\"jupyterEvent\": \"custom.exercise_interaction\", \"data\": {\"outcomeType\": 4, \"interactionType\": 1, \"questionType\": 1, \"questionId\": \"6_RowColSelect\", \"learnToolsVersion\": \"0.3.4\", \"valueTowardsCompletion\": 0.0, \"failureMessage\": \"\", \"exceptionClass\": \"\", \"trace\": \"\"}}, \"*\")"
      ],
      "text/plain": [
       "<IPython.core.display.Javascript object>"
      ]
     },
     "metadata": {},
     "output_type": "display_data"
    },
    {
     "data": {
      "text/markdown": [
       "<span style=\"color:#ccaa33\">Check:</span> When you've updated the starter code, `check()` will tell you whether your code is correct. You need to update the code that creates variable `df`"
      ],
      "text/plain": [
       "Check: When you've updated the starter code, `check()` will tell you whether your code is correct. You need to update the code that creates variable `df`"
      ]
     },
     "metadata": {},
     "output_type": "display_data"
    },
    {
     "data": {
      "text/markdown": [],
      "text/plain": [
       "<learntools.core.constants.PlaceholderValue at 0x7f5ac125c150>"
      ]
     },
     "execution_count": 13,
     "metadata": {},
     "output_type": "execute_result"
    }
   ],
   "source": [
    "df = ____\n",
    "\n",
    "# Check your answer\n",
    "q6.check()\n",
    "df"
   ]
  },
  {
   "cell_type": "code",
   "execution_count": 14,
   "id": "8ba6555d",
   "metadata": {
    "execution": {
     "iopub.execute_input": "2022-05-10T17:03:14.833095Z",
     "iopub.status.busy": "2022-05-10T17:03:14.832538Z",
     "iopub.status.idle": "2022-05-10T17:03:14.835745Z",
     "shell.execute_reply": "2022-05-10T17:03:14.834989Z"
    },
    "papermill": {
     "duration": 0.0472,
     "end_time": "2022-05-10T17:03:14.837845",
     "exception": false,
     "start_time": "2022-05-10T17:03:14.790645",
     "status": "completed"
    },
    "tags": []
   },
   "outputs": [],
   "source": [
    "#q6.hint()\n",
    "#q6.solution()"
   ]
  },
  {
   "cell_type": "markdown",
   "id": "a4be6bf8",
   "metadata": {
    "papermill": {
     "duration": 0.040267,
     "end_time": "2022-05-10T17:03:14.919817",
     "exception": false,
     "start_time": "2022-05-10T17:03:14.879550",
     "status": "completed"
    },
    "tags": []
   },
   "source": [
    "## 7.\n",
    "\n",
    "Create a variable `df` containing the `country` and `variety` columns of the first 100 records. \n",
    "\n",
    "Hint: you may use `loc` or `iloc`. When working on the answer this question and the several of the ones that follow, keep the following \"gotcha\" described in the tutorial:\n",
    "\n",
    "> `iloc` uses the Python stdlib indexing scheme, where the first element of the range is included and the last one excluded. \n",
    "`loc`, meanwhile, indexes inclusively. \n",
    "\n",
    "> This is particularly confusing when the DataFrame index is a simple numerical list, e.g. `0,...,1000`. In this case `df.iloc[0:1000]` will return 1000 entries, while `df.loc[0:1000]` return 1001 of them! To get 1000 elements using `loc`, you will need to go one lower and ask for `df.iloc[0:999]`. "
   ]
  },
  {
   "cell_type": "code",
   "execution_count": 15,
   "id": "69ab1cfa",
   "metadata": {
    "execution": {
     "iopub.execute_input": "2022-05-10T17:03:15.002985Z",
     "iopub.status.busy": "2022-05-10T17:03:15.001963Z",
     "iopub.status.idle": "2022-05-10T17:03:15.010996Z",
     "shell.execute_reply": "2022-05-10T17:03:15.010113Z"
    },
    "papermill": {
     "duration": 0.052542,
     "end_time": "2022-05-10T17:03:15.013016",
     "exception": false,
     "start_time": "2022-05-10T17:03:14.960474",
     "status": "completed"
    },
    "tags": []
   },
   "outputs": [
    {
     "data": {
      "application/javascript": [
       "parent.postMessage({\"jupyterEvent\": \"custom.exercise_interaction\", \"data\": {\"outcomeType\": 4, \"interactionType\": 1, \"questionType\": 1, \"questionId\": \"7_RowColSelect2\", \"learnToolsVersion\": \"0.3.4\", \"valueTowardsCompletion\": 0.0, \"failureMessage\": \"\", \"exceptionClass\": \"\", \"trace\": \"\"}}, \"*\")"
      ],
      "text/plain": [
       "<IPython.core.display.Javascript object>"
      ]
     },
     "metadata": {},
     "output_type": "display_data"
    },
    {
     "data": {
      "text/markdown": [
       "<span style=\"color:#ccaa33\">Check:</span> When you've updated the starter code, `check()` will tell you whether your code is correct. You need to update the code that creates variable `df`"
      ],
      "text/plain": [
       "Check: When you've updated the starter code, `check()` will tell you whether your code is correct. You need to update the code that creates variable `df`"
      ]
     },
     "metadata": {},
     "output_type": "display_data"
    },
    {
     "data": {
      "text/markdown": [],
      "text/plain": [
       "<learntools.core.constants.PlaceholderValue at 0x7f5ac125c150>"
      ]
     },
     "execution_count": 15,
     "metadata": {},
     "output_type": "execute_result"
    }
   ],
   "source": [
    "df = ____\n",
    "\n",
    "# Check your answer\n",
    "q7.check()\n",
    "df"
   ]
  },
  {
   "cell_type": "code",
   "execution_count": 16,
   "id": "42d0c9f2",
   "metadata": {
    "execution": {
     "iopub.execute_input": "2022-05-10T17:03:15.104237Z",
     "iopub.status.busy": "2022-05-10T17:03:15.103955Z",
     "iopub.status.idle": "2022-05-10T17:03:15.106861Z",
     "shell.execute_reply": "2022-05-10T17:03:15.106201Z"
    },
    "papermill": {
     "duration": 0.050142,
     "end_time": "2022-05-10T17:03:15.108743",
     "exception": false,
     "start_time": "2022-05-10T17:03:15.058601",
     "status": "completed"
    },
    "tags": []
   },
   "outputs": [],
   "source": [
    "#q7.hint()\n",
    "#q7.solution()"
   ]
  },
  {
   "cell_type": "markdown",
   "id": "2787bcce",
   "metadata": {
    "papermill": {
     "duration": 0.042522,
     "end_time": "2022-05-10T17:03:15.193737",
     "exception": false,
     "start_time": "2022-05-10T17:03:15.151215",
     "status": "completed"
    },
    "tags": []
   },
   "source": [
    "## 8.\n",
    "\n",
    "Create a DataFrame `italian_wines` containing reviews of wines made in `Italy`. Hint: `reviews.country` equals what?"
   ]
  },
  {
   "cell_type": "code",
   "execution_count": 17,
   "id": "261a3ebf",
   "metadata": {
    "execution": {
     "iopub.execute_input": "2022-05-10T17:03:15.282051Z",
     "iopub.status.busy": "2022-05-10T17:03:15.281527Z",
     "iopub.status.idle": "2022-05-10T17:03:15.287806Z",
     "shell.execute_reply": "2022-05-10T17:03:15.287184Z"
    },
    "papermill": {
     "duration": 0.051849,
     "end_time": "2022-05-10T17:03:15.289531",
     "exception": false,
     "start_time": "2022-05-10T17:03:15.237682",
     "status": "completed"
    },
    "tags": []
   },
   "outputs": [
    {
     "data": {
      "application/javascript": [
       "parent.postMessage({\"jupyterEvent\": \"custom.exercise_interaction\", \"data\": {\"outcomeType\": 4, \"interactionType\": 1, \"questionType\": 1, \"questionId\": \"8_ItalianWines\", \"learnToolsVersion\": \"0.3.4\", \"valueTowardsCompletion\": 0.0, \"failureMessage\": \"\", \"exceptionClass\": \"\", \"trace\": \"\"}}, \"*\")"
      ],
      "text/plain": [
       "<IPython.core.display.Javascript object>"
      ]
     },
     "metadata": {},
     "output_type": "display_data"
    },
    {
     "data": {
      "text/markdown": [
       "<span style=\"color:#ccaa33\">Check:</span> When you've updated the starter code, `check()` will tell you whether your code is correct. You need to update the code that creates variable `italian_wines`"
      ],
      "text/plain": [
       "Check: When you've updated the starter code, `check()` will tell you whether your code is correct. You need to update the code that creates variable `italian_wines`"
      ]
     },
     "metadata": {},
     "output_type": "display_data"
    }
   ],
   "source": [
    "italian_wines = ____\n",
    "\n",
    "# Check your answer\n",
    "q8.check()"
   ]
  },
  {
   "cell_type": "code",
   "execution_count": 18,
   "id": "e21c0994",
   "metadata": {
    "execution": {
     "iopub.execute_input": "2022-05-10T17:03:15.378890Z",
     "iopub.status.busy": "2022-05-10T17:03:15.378379Z",
     "iopub.status.idle": "2022-05-10T17:03:15.381426Z",
     "shell.execute_reply": "2022-05-10T17:03:15.380697Z"
    },
    "papermill": {
     "duration": 0.050388,
     "end_time": "2022-05-10T17:03:15.383356",
     "exception": false,
     "start_time": "2022-05-10T17:03:15.332968",
     "status": "completed"
    },
    "tags": []
   },
   "outputs": [],
   "source": [
    "#q8.hint()\n",
    "#q8.solution()"
   ]
  },
  {
   "cell_type": "markdown",
   "id": "14403b0d",
   "metadata": {
    "papermill": {
     "duration": 0.043357,
     "end_time": "2022-05-10T17:03:15.472333",
     "exception": false,
     "start_time": "2022-05-10T17:03:15.428976",
     "status": "completed"
    },
    "tags": []
   },
   "source": [
    "## 9.\n",
    "\n",
    "Create a DataFrame `top_oceania_wines` containing all reviews with at least 95 points (out of 100) for wines from Australia or New Zealand."
   ]
  },
  {
   "cell_type": "code",
   "execution_count": 19,
   "id": "241f0885",
   "metadata": {
    "execution": {
     "iopub.execute_input": "2022-05-10T17:03:15.561603Z",
     "iopub.status.busy": "2022-05-10T17:03:15.560841Z",
     "iopub.status.idle": "2022-05-10T17:03:15.568962Z",
     "shell.execute_reply": "2022-05-10T17:03:15.568403Z"
    },
    "papermill": {
     "duration": 0.054476,
     "end_time": "2022-05-10T17:03:15.570809",
     "exception": false,
     "start_time": "2022-05-10T17:03:15.516333",
     "status": "completed"
    },
    "tags": []
   },
   "outputs": [
    {
     "data": {
      "application/javascript": [
       "parent.postMessage({\"jupyterEvent\": \"custom.exercise_interaction\", \"data\": {\"outcomeType\": 4, \"interactionType\": 1, \"questionType\": 1, \"questionId\": \"9_TopOceanicWines\", \"learnToolsVersion\": \"0.3.4\", \"valueTowardsCompletion\": 0.0, \"failureMessage\": \"\", \"exceptionClass\": \"\", \"trace\": \"\"}}, \"*\")"
      ],
      "text/plain": [
       "<IPython.core.display.Javascript object>"
      ]
     },
     "metadata": {},
     "output_type": "display_data"
    },
    {
     "data": {
      "text/markdown": [
       "<span style=\"color:#ccaa33\">Check:</span> When you've updated the starter code, `check()` will tell you whether your code is correct. You need to update the code that creates variable `top_oceania_wines`"
      ],
      "text/plain": [
       "Check: When you've updated the starter code, `check()` will tell you whether your code is correct. You need to update the code that creates variable `top_oceania_wines`"
      ]
     },
     "metadata": {},
     "output_type": "display_data"
    },
    {
     "data": {
      "text/markdown": [],
      "text/plain": [
       "<learntools.core.constants.PlaceholderValue at 0x7f5ac125c150>"
      ]
     },
     "execution_count": 19,
     "metadata": {},
     "output_type": "execute_result"
    }
   ],
   "source": [
    "top_oceania_wines = ____\n",
    "\n",
    "# Check your answer\n",
    "q9.check()\n",
    "top_oceania_wines"
   ]
  },
  {
   "cell_type": "code",
   "execution_count": 20,
   "id": "707e4557",
   "metadata": {
    "execution": {
     "iopub.execute_input": "2022-05-10T17:03:15.662932Z",
     "iopub.status.busy": "2022-05-10T17:03:15.662436Z",
     "iopub.status.idle": "2022-05-10T17:03:15.665439Z",
     "shell.execute_reply": "2022-05-10T17:03:15.664735Z"
    },
    "papermill": {
     "duration": 0.051765,
     "end_time": "2022-05-10T17:03:15.667481",
     "exception": false,
     "start_time": "2022-05-10T17:03:15.615716",
     "status": "completed"
    },
    "tags": []
   },
   "outputs": [],
   "source": [
    "#q9.hint()\n",
    "#q9.solution()"
   ]
  },
  {
   "cell_type": "markdown",
   "id": "013a3390",
   "metadata": {
    "papermill": {
     "duration": 0.044885,
     "end_time": "2022-05-10T17:03:15.758355",
     "exception": false,
     "start_time": "2022-05-10T17:03:15.713470",
     "status": "completed"
    },
    "tags": []
   },
   "source": [
    "# Keep going\n",
    "\n",
    "Move on to learn about **[summary functions and maps](https://www.kaggle.com/residentmario/summary-functions-and-maps)**."
   ]
  },
  {
   "cell_type": "markdown",
   "id": "5aab89b4",
   "metadata": {
    "papermill": {
     "duration": 0.04467,
     "end_time": "2022-05-10T17:03:15.848654",
     "exception": false,
     "start_time": "2022-05-10T17:03:15.803984",
     "status": "completed"
    },
    "tags": []
   },
   "source": [
    "---\n",
    "\n",
    "\n",
    "\n",
    "\n",
    "*Have questions or comments? Visit the [course discussion forum](https://www.kaggle.com/learn/pandas/discussion) to chat with other learners.*"
   ]
  }
 ],
 "metadata": {
  "kernelspec": {
   "display_name": "Python 3",
   "language": "python",
   "name": "python3"
  },
  "language_info": {
   "codemirror_mode": {
    "name": "ipython",
    "version": 3
   },
   "file_extension": ".py",
   "mimetype": "text/x-python",
   "name": "python",
   "nbconvert_exporter": "python",
   "pygments_lexer": "ipython3",
   "version": "3.7.12"
  },
  "papermill": {
   "default_parameters": {},
   "duration": 17.147843,
   "end_time": "2022-05-10T17:03:16.615673",
   "environment_variables": {},
   "exception": null,
   "input_path": "__notebook__.ipynb",
   "output_path": "__notebook__.ipynb",
   "parameters": {},
   "start_time": "2022-05-10T17:02:59.467830",
   "version": "2.3.4"
  }
 },
 "nbformat": 4,
 "nbformat_minor": 5
}
