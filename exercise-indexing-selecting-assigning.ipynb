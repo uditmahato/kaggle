{
 "cells": [
  {
   "cell_type": "markdown",
   "id": "6623dfc2",
   "metadata": {
    "papermill": {
     "duration": 0.032104,
     "end_time": "2022-05-10T16:56:25.344566",
     "exception": false,
     "start_time": "2022-05-10T16:56:25.312462",
     "status": "completed"
    },
    "tags": []
   },
   "source": [
    "**This notebook is an exercise in the [Pandas](https://www.kaggle.com/learn/pandas) course.  You can reference the tutorial at [this link](https://www.kaggle.com/residentmario/indexing-selecting-assigning).**\n",
    "\n",
    "---\n"
   ]
  },
  {
   "cell_type": "markdown",
   "id": "a890030c",
   "metadata": {
    "papermill": {
     "duration": 0.030186,
     "end_time": "2022-05-10T16:56:25.405765",
     "exception": false,
     "start_time": "2022-05-10T16:56:25.375579",
     "status": "completed"
    },
    "tags": []
   },
   "source": [
    "# Introduction\n",
    "\n",
    "In this set of exercises we will work with the [Wine Reviews dataset](https://www.kaggle.com/zynicide/wine-reviews). "
   ]
  },
  {
   "cell_type": "markdown",
   "id": "f8d89250",
   "metadata": {
    "papermill": {
     "duration": 0.032328,
     "end_time": "2022-05-10T16:56:25.469298",
     "exception": false,
     "start_time": "2022-05-10T16:56:25.436970",
     "status": "completed"
    },
    "tags": []
   },
   "source": [
    "Run the following cell to load your data and some utility functions (including code to check your answers)."
   ]
  },
  {
   "cell_type": "code",
   "execution_count": 1,
   "id": "0d9adb5a",
   "metadata": {
    "execution": {
     "iopub.execute_input": "2022-05-10T16:56:25.532933Z",
     "iopub.status.busy": "2022-05-10T16:56:25.532341Z",
     "iopub.status.idle": "2022-05-10T16:56:28.941398Z",
     "shell.execute_reply": "2022-05-10T16:56:28.940601Z"
    },
    "papermill": {
     "duration": 3.444246,
     "end_time": "2022-05-10T16:56:28.944433",
     "exception": false,
     "start_time": "2022-05-10T16:56:25.500187",
     "status": "completed"
    },
    "tags": []
   },
   "outputs": [
    {
     "name": "stdout",
     "output_type": "stream",
     "text": [
      "Setup complete.\n"
     ]
    }
   ],
   "source": [
    "import pandas as pd\n",
    "\n",
    "reviews = pd.read_csv(\"../input/wine-reviews/winemag-data-130k-v2.csv\", index_col=0)\n",
    "pd.set_option(\"display.max_rows\", 5)\n",
    "\n",
    "from learntools.core import binder; binder.bind(globals())\n",
    "from learntools.pandas.indexing_selecting_and_assigning import *\n",
    "print(\"Setup complete.\")"
   ]
  },
  {
   "cell_type": "markdown",
   "id": "f6169898",
   "metadata": {
    "papermill": {
     "duration": 0.031802,
     "end_time": "2022-05-10T16:56:29.009712",
     "exception": false,
     "start_time": "2022-05-10T16:56:28.977910",
     "status": "completed"
    },
    "tags": []
   },
   "source": [
    "Look at an overview of your data by running the following line."
   ]
  },
  {
   "cell_type": "code",
   "execution_count": 2,
   "id": "8e2a6093",
   "metadata": {
    "execution": {
     "iopub.execute_input": "2022-05-10T16:56:29.077760Z",
     "iopub.status.busy": "2022-05-10T16:56:29.077175Z",
     "iopub.status.idle": "2022-05-10T16:56:29.101951Z",
     "shell.execute_reply": "2022-05-10T16:56:29.101078Z"
    },
    "papermill": {
     "duration": 0.063062,
     "end_time": "2022-05-10T16:56:29.104921",
     "exception": false,
     "start_time": "2022-05-10T16:56:29.041859",
     "status": "completed"
    },
    "tags": []
   },
   "outputs": [
    {
     "data": {
      "text/html": [
       "<div>\n",
       "<style scoped>\n",
       "    .dataframe tbody tr th:only-of-type {\n",
       "        vertical-align: middle;\n",
       "    }\n",
       "\n",
       "    .dataframe tbody tr th {\n",
       "        vertical-align: top;\n",
       "    }\n",
       "\n",
       "    .dataframe thead th {\n",
       "        text-align: right;\n",
       "    }\n",
       "</style>\n",
       "<table border=\"1\" class=\"dataframe\">\n",
       "  <thead>\n",
       "    <tr style=\"text-align: right;\">\n",
       "      <th></th>\n",
       "      <th>country</th>\n",
       "      <th>description</th>\n",
       "      <th>designation</th>\n",
       "      <th>points</th>\n",
       "      <th>price</th>\n",
       "      <th>province</th>\n",
       "      <th>region_1</th>\n",
       "      <th>region_2</th>\n",
       "      <th>taster_name</th>\n",
       "      <th>taster_twitter_handle</th>\n",
       "      <th>title</th>\n",
       "      <th>variety</th>\n",
       "      <th>winery</th>\n",
       "    </tr>\n",
       "  </thead>\n",
       "  <tbody>\n",
       "    <tr>\n",
       "      <th>0</th>\n",
       "      <td>Italy</td>\n",
       "      <td>Aromas include tropical fruit, broom, brimston...</td>\n",
       "      <td>Vulkà Bianco</td>\n",
       "      <td>87</td>\n",
       "      <td>NaN</td>\n",
       "      <td>Sicily &amp; Sardinia</td>\n",
       "      <td>Etna</td>\n",
       "      <td>NaN</td>\n",
       "      <td>Kerin O’Keefe</td>\n",
       "      <td>@kerinokeefe</td>\n",
       "      <td>Nicosia 2013 Vulkà Bianco  (Etna)</td>\n",
       "      <td>White Blend</td>\n",
       "      <td>Nicosia</td>\n",
       "    </tr>\n",
       "    <tr>\n",
       "      <th>1</th>\n",
       "      <td>Portugal</td>\n",
       "      <td>This is ripe and fruity, a wine that is smooth...</td>\n",
       "      <td>Avidagos</td>\n",
       "      <td>87</td>\n",
       "      <td>15.0</td>\n",
       "      <td>Douro</td>\n",
       "      <td>NaN</td>\n",
       "      <td>NaN</td>\n",
       "      <td>Roger Voss</td>\n",
       "      <td>@vossroger</td>\n",
       "      <td>Quinta dos Avidagos 2011 Avidagos Red (Douro)</td>\n",
       "      <td>Portuguese Red</td>\n",
       "      <td>Quinta dos Avidagos</td>\n",
       "    </tr>\n",
       "    <tr>\n",
       "      <th>2</th>\n",
       "      <td>US</td>\n",
       "      <td>Tart and snappy, the flavors of lime flesh and...</td>\n",
       "      <td>NaN</td>\n",
       "      <td>87</td>\n",
       "      <td>14.0</td>\n",
       "      <td>Oregon</td>\n",
       "      <td>Willamette Valley</td>\n",
       "      <td>Willamette Valley</td>\n",
       "      <td>Paul Gregutt</td>\n",
       "      <td>@paulgwine</td>\n",
       "      <td>Rainstorm 2013 Pinot Gris (Willamette Valley)</td>\n",
       "      <td>Pinot Gris</td>\n",
       "      <td>Rainstorm</td>\n",
       "    </tr>\n",
       "    <tr>\n",
       "      <th>3</th>\n",
       "      <td>US</td>\n",
       "      <td>Pineapple rind, lemon pith and orange blossom ...</td>\n",
       "      <td>Reserve Late Harvest</td>\n",
       "      <td>87</td>\n",
       "      <td>13.0</td>\n",
       "      <td>Michigan</td>\n",
       "      <td>Lake Michigan Shore</td>\n",
       "      <td>NaN</td>\n",
       "      <td>Alexander Peartree</td>\n",
       "      <td>NaN</td>\n",
       "      <td>St. Julian 2013 Reserve Late Harvest Riesling ...</td>\n",
       "      <td>Riesling</td>\n",
       "      <td>St. Julian</td>\n",
       "    </tr>\n",
       "    <tr>\n",
       "      <th>4</th>\n",
       "      <td>US</td>\n",
       "      <td>Much like the regular bottling from 2012, this...</td>\n",
       "      <td>Vintner's Reserve Wild Child Block</td>\n",
       "      <td>87</td>\n",
       "      <td>65.0</td>\n",
       "      <td>Oregon</td>\n",
       "      <td>Willamette Valley</td>\n",
       "      <td>Willamette Valley</td>\n",
       "      <td>Paul Gregutt</td>\n",
       "      <td>@paulgwine</td>\n",
       "      <td>Sweet Cheeks 2012 Vintner's Reserve Wild Child...</td>\n",
       "      <td>Pinot Noir</td>\n",
       "      <td>Sweet Cheeks</td>\n",
       "    </tr>\n",
       "  </tbody>\n",
       "</table>\n",
       "</div>"
      ],
      "text/plain": [
       "    country                                        description  \\\n",
       "0     Italy  Aromas include tropical fruit, broom, brimston...   \n",
       "1  Portugal  This is ripe and fruity, a wine that is smooth...   \n",
       "2        US  Tart and snappy, the flavors of lime flesh and...   \n",
       "3        US  Pineapple rind, lemon pith and orange blossom ...   \n",
       "4        US  Much like the regular bottling from 2012, this...   \n",
       "\n",
       "                          designation  points  price           province  \\\n",
       "0                        Vulkà Bianco      87    NaN  Sicily & Sardinia   \n",
       "1                            Avidagos      87   15.0              Douro   \n",
       "2                                 NaN      87   14.0             Oregon   \n",
       "3                Reserve Late Harvest      87   13.0           Michigan   \n",
       "4  Vintner's Reserve Wild Child Block      87   65.0             Oregon   \n",
       "\n",
       "              region_1           region_2         taster_name  \\\n",
       "0                 Etna                NaN       Kerin O’Keefe   \n",
       "1                  NaN                NaN          Roger Voss   \n",
       "2    Willamette Valley  Willamette Valley        Paul Gregutt   \n",
       "3  Lake Michigan Shore                NaN  Alexander Peartree   \n",
       "4    Willamette Valley  Willamette Valley        Paul Gregutt   \n",
       "\n",
       "  taster_twitter_handle                                              title  \\\n",
       "0          @kerinokeefe                  Nicosia 2013 Vulkà Bianco  (Etna)   \n",
       "1            @vossroger      Quinta dos Avidagos 2011 Avidagos Red (Douro)   \n",
       "2           @paulgwine       Rainstorm 2013 Pinot Gris (Willamette Valley)   \n",
       "3                   NaN  St. Julian 2013 Reserve Late Harvest Riesling ...   \n",
       "4           @paulgwine   Sweet Cheeks 2012 Vintner's Reserve Wild Child...   \n",
       "\n",
       "          variety               winery  \n",
       "0     White Blend              Nicosia  \n",
       "1  Portuguese Red  Quinta dos Avidagos  \n",
       "2      Pinot Gris            Rainstorm  \n",
       "3        Riesling           St. Julian  \n",
       "4      Pinot Noir         Sweet Cheeks  "
      ]
     },
     "execution_count": 2,
     "metadata": {},
     "output_type": "execute_result"
    }
   ],
   "source": [
    "reviews.head()"
   ]
  },
  {
   "cell_type": "markdown",
   "id": "d3f377cd",
   "metadata": {
    "papermill": {
     "duration": 0.032785,
     "end_time": "2022-05-10T16:56:29.170033",
     "exception": false,
     "start_time": "2022-05-10T16:56:29.137248",
     "status": "completed"
    },
    "tags": []
   },
   "source": [
    "# Exercises"
   ]
  },
  {
   "cell_type": "markdown",
   "id": "af508c49",
   "metadata": {
    "papermill": {
     "duration": 0.030955,
     "end_time": "2022-05-10T16:56:29.232732",
     "exception": false,
     "start_time": "2022-05-10T16:56:29.201777",
     "status": "completed"
    },
    "tags": []
   },
   "source": [
    "## 1.\n",
    "\n",
    "Select the `description` column from `reviews` and assign the result to the variable `desc`."
   ]
  },
  {
   "cell_type": "code",
   "execution_count": 3,
   "id": "3b09f5c8",
   "metadata": {
    "execution": {
     "iopub.execute_input": "2022-05-10T16:56:29.297629Z",
     "iopub.status.busy": "2022-05-10T16:56:29.297077Z",
     "iopub.status.idle": "2022-05-10T16:56:29.306466Z",
     "shell.execute_reply": "2022-05-10T16:56:29.305567Z"
    },
    "papermill": {
     "duration": 0.04414,
     "end_time": "2022-05-10T16:56:29.308548",
     "exception": false,
     "start_time": "2022-05-10T16:56:29.264408",
     "status": "completed"
    },
    "tags": []
   },
   "outputs": [
    {
     "data": {
      "application/javascript": [
       "parent.postMessage({\"jupyterEvent\": \"custom.exercise_interaction\", \"data\": {\"outcomeType\": 1, \"valueTowardsCompletion\": 0.1111111111111111, \"interactionType\": 1, \"questionType\": 1, \"questionId\": \"1_SelectDescCol\", \"learnToolsVersion\": \"0.3.4\", \"failureMessage\": \"\", \"exceptionClass\": \"\", \"trace\": \"\"}}, \"*\")"
      ],
      "text/plain": [
       "<IPython.core.display.Javascript object>"
      ]
     },
     "metadata": {},
     "output_type": "display_data"
    },
    {
     "data": {
      "text/markdown": [
       "<span style=\"color:#33cc33\">Correct</span>"
      ],
      "text/plain": [
       "Correct"
      ]
     },
     "metadata": {},
     "output_type": "display_data"
    }
   ],
   "source": [
    "# Your code here\n",
    "desc = reviews['description']\n",
    "\n",
    "# Check your answer\n",
    "q1.check()"
   ]
  },
  {
   "cell_type": "markdown",
   "id": "4d63d96e",
   "metadata": {
    "papermill": {
     "duration": 0.032942,
     "end_time": "2022-05-10T16:56:29.374267",
     "exception": false,
     "start_time": "2022-05-10T16:56:29.341325",
     "status": "completed"
    },
    "tags": []
   },
   "source": [
    "Follow-up question: what type of object is `desc`? If you're not sure, you can check by calling Python's `type` function: `type(desc)`."
   ]
  },
  {
   "cell_type": "code",
   "execution_count": 4,
   "id": "9ff5253a",
   "metadata": {
    "execution": {
     "iopub.execute_input": "2022-05-10T16:56:29.443677Z",
     "iopub.status.busy": "2022-05-10T16:56:29.443084Z",
     "iopub.status.idle": "2022-05-10T16:56:29.447339Z",
     "shell.execute_reply": "2022-05-10T16:56:29.446220Z"
    },
    "papermill": {
     "duration": 0.042682,
     "end_time": "2022-05-10T16:56:29.449558",
     "exception": false,
     "start_time": "2022-05-10T16:56:29.406876",
     "status": "completed"
    },
    "tags": []
   },
   "outputs": [],
   "source": [
    "#q1.hint()\n",
    "#q1.solution()"
   ]
  },
  {
   "cell_type": "markdown",
   "id": "342dcd0f",
   "metadata": {
    "papermill": {
     "duration": 0.032488,
     "end_time": "2022-05-10T16:56:29.514628",
     "exception": false,
     "start_time": "2022-05-10T16:56:29.482140",
     "status": "completed"
    },
    "tags": []
   },
   "source": [
    "## 2.\n",
    "\n",
    "Select the first value from the description column of `reviews`, assigning it to variable `first_description`."
   ]
  },
  {
   "cell_type": "code",
   "execution_count": 5,
   "id": "e81b40e6",
   "metadata": {
    "execution": {
     "iopub.execute_input": "2022-05-10T16:56:29.582120Z",
     "iopub.status.busy": "2022-05-10T16:56:29.581539Z",
     "iopub.status.idle": "2022-05-10T16:56:29.597972Z",
     "shell.execute_reply": "2022-05-10T16:56:29.597289Z"
    },
    "papermill": {
     "duration": 0.05285,
     "end_time": "2022-05-10T16:56:29.599929",
     "exception": false,
     "start_time": "2022-05-10T16:56:29.547079",
     "status": "completed"
    },
    "tags": []
   },
   "outputs": [
    {
     "data": {
      "application/javascript": [
       "parent.postMessage({\"jupyterEvent\": \"custom.exercise_interaction\", \"data\": {\"outcomeType\": 1, \"valueTowardsCompletion\": 0.1111111111111111, \"interactionType\": 1, \"questionType\": 1, \"questionId\": \"2_FirstDesc\", \"learnToolsVersion\": \"0.3.4\", \"failureMessage\": \"\", \"exceptionClass\": \"\", \"trace\": \"\"}}, \"*\")"
      ],
      "text/plain": [
       "<IPython.core.display.Javascript object>"
      ]
     },
     "metadata": {},
     "output_type": "display_data"
    },
    {
     "data": {
      "text/markdown": [
       "<span style=\"color:#33cc33\">Correct:</span> \n",
       "\n",
       "\n",
       "```python\n",
       "first_description = reviews.description.iloc[0]\n",
       "```\n",
       "Note that while this is the preferred way to obtain the entry in the DataFrame, many other options will return a valid result, such as `reviews.description.loc[0]`, `reviews.description[0]`, and more!  \n"
      ],
      "text/plain": [
       "Correct: \n",
       "\n",
       "\n",
       "```python\n",
       "first_description = reviews.description.iloc[0]\n",
       "```\n",
       "Note that while this is the preferred way to obtain the entry in the DataFrame, many other options will return a valid result, such as `reviews.description.loc[0]`, `reviews.description[0]`, and more!  "
      ]
     },
     "metadata": {},
     "output_type": "display_data"
    },
    {
     "data": {
      "text/plain": [
       "\"Aromas include tropical fruit, broom, brimstone and dried herb. The palate isn't overly expressive, offering unripened apple, citrus and dried sage alongside brisk acidity.\""
      ]
     },
     "execution_count": 5,
     "metadata": {},
     "output_type": "execute_result"
    }
   ],
   "source": [
    "first_description = reviews['description'][0]\n",
    "\n",
    "# Check your answer\n",
    "q2.check()\n",
    "first_description"
   ]
  },
  {
   "cell_type": "code",
   "execution_count": 6,
   "id": "c2b34a86",
   "metadata": {
    "execution": {
     "iopub.execute_input": "2022-05-10T16:56:29.671329Z",
     "iopub.status.busy": "2022-05-10T16:56:29.670620Z",
     "iopub.status.idle": "2022-05-10T16:56:29.673961Z",
     "shell.execute_reply": "2022-05-10T16:56:29.673269Z"
    },
    "papermill": {
     "duration": 0.041852,
     "end_time": "2022-05-10T16:56:29.675979",
     "exception": false,
     "start_time": "2022-05-10T16:56:29.634127",
     "status": "completed"
    },
    "tags": []
   },
   "outputs": [],
   "source": [
    "#q2.hint()\n",
    "#q2.solution()"
   ]
  },
  {
   "cell_type": "markdown",
   "id": "4ac4bf56",
   "metadata": {
    "papermill": {
     "duration": 0.036552,
     "end_time": "2022-05-10T16:56:29.747118",
     "exception": false,
     "start_time": "2022-05-10T16:56:29.710566",
     "status": "completed"
    },
    "tags": []
   },
   "source": [
    "## 3. \n",
    "\n",
    "Select the first row of data (the first record) from `reviews`, assigning it to the variable `first_row`."
   ]
  },
  {
   "cell_type": "code",
   "execution_count": 7,
   "id": "7f67724e",
   "metadata": {
    "execution": {
     "iopub.execute_input": "2022-05-10T16:56:29.818797Z",
     "iopub.status.busy": "2022-05-10T16:56:29.818082Z",
     "iopub.status.idle": "2022-05-10T16:56:29.829205Z",
     "shell.execute_reply": "2022-05-10T16:56:29.828373Z"
    },
    "papermill": {
     "duration": 0.048771,
     "end_time": "2022-05-10T16:56:29.831177",
     "exception": false,
     "start_time": "2022-05-10T16:56:29.782406",
     "status": "completed"
    },
    "tags": []
   },
   "outputs": [
    {
     "data": {
      "application/javascript": [
       "parent.postMessage({\"jupyterEvent\": \"custom.exercise_interaction\", \"data\": {\"outcomeType\": 1, \"valueTowardsCompletion\": 0.1111111111111111, \"interactionType\": 1, \"questionType\": 1, \"questionId\": \"3_FirstRow\", \"learnToolsVersion\": \"0.3.4\", \"failureMessage\": \"\", \"exceptionClass\": \"\", \"trace\": \"\"}}, \"*\")"
      ],
      "text/plain": [
       "<IPython.core.display.Javascript object>"
      ]
     },
     "metadata": {},
     "output_type": "display_data"
    },
    {
     "data": {
      "text/markdown": [
       "<span style=\"color:#33cc33\">Correct</span>"
      ],
      "text/plain": [
       "Correct"
      ]
     },
     "metadata": {},
     "output_type": "display_data"
    },
    {
     "data": {
      "text/plain": [
       "country                                                    Italy\n",
       "description    Aromas include tropical fruit, broom, brimston...\n",
       "                                     ...                        \n",
       "variety                                              White Blend\n",
       "winery                                                   Nicosia\n",
       "Name: 0, Length: 13, dtype: object"
      ]
     },
     "execution_count": 7,
     "metadata": {},
     "output_type": "execute_result"
    }
   ],
   "source": [
    "first_row = reviews.loc[0]\n",
    "\n",
    "# Check your answer\n",
    "q3.check()\n",
    "first_row"
   ]
  },
  {
   "cell_type": "code",
   "execution_count": 8,
   "id": "9e8a928e",
   "metadata": {
    "execution": {
     "iopub.execute_input": "2022-05-10T16:56:29.906368Z",
     "iopub.status.busy": "2022-05-10T16:56:29.905783Z",
     "iopub.status.idle": "2022-05-10T16:56:29.908885Z",
     "shell.execute_reply": "2022-05-10T16:56:29.908270Z"
    },
    "papermill": {
     "duration": 0.042248,
     "end_time": "2022-05-10T16:56:29.910811",
     "exception": false,
     "start_time": "2022-05-10T16:56:29.868563",
     "status": "completed"
    },
    "tags": []
   },
   "outputs": [],
   "source": [
    "#q3.hint()\n",
    "#q3.solution()"
   ]
  },
  {
   "cell_type": "markdown",
   "id": "ca7df770",
   "metadata": {
    "papermill": {
     "duration": 0.036444,
     "end_time": "2022-05-10T16:56:29.983247",
     "exception": false,
     "start_time": "2022-05-10T16:56:29.946803",
     "status": "completed"
    },
    "tags": []
   },
   "source": [
    "## 4.\n",
    "\n",
    "Select the first 10 values from the `description` column in `reviews`, assigning the result to variable `first_descriptions`.\n",
    "\n",
    "Hint: format your output as a pandas Series."
   ]
  },
  {
   "cell_type": "code",
   "execution_count": 9,
   "id": "f5c13c85",
   "metadata": {
    "execution": {
     "iopub.execute_input": "2022-05-10T16:56:30.061743Z",
     "iopub.status.busy": "2022-05-10T16:56:30.061266Z",
     "iopub.status.idle": "2022-05-10T16:56:30.070627Z",
     "shell.execute_reply": "2022-05-10T16:56:30.069805Z"
    },
    "papermill": {
     "duration": 0.050615,
     "end_time": "2022-05-10T16:56:30.073056",
     "exception": false,
     "start_time": "2022-05-10T16:56:30.022441",
     "status": "completed"
    },
    "tags": []
   },
   "outputs": [
    {
     "data": {
      "application/javascript": [
       "parent.postMessage({\"jupyterEvent\": \"custom.exercise_interaction\", \"data\": {\"outcomeType\": 4, \"interactionType\": 1, \"questionType\": 1, \"questionId\": \"4_FirstDescs\", \"learnToolsVersion\": \"0.3.4\", \"valueTowardsCompletion\": 0.0, \"failureMessage\": \"\", \"exceptionClass\": \"\", \"trace\": \"\"}}, \"*\")"
      ],
      "text/plain": [
       "<IPython.core.display.Javascript object>"
      ]
     },
     "metadata": {},
     "output_type": "display_data"
    },
    {
     "data": {
      "text/markdown": [
       "<span style=\"color:#ccaa33\">Check:</span> When you've updated the starter code, `check()` will tell you whether your code is correct. You need to update the code that creates variable `first_descriptions`"
      ],
      "text/plain": [
       "Check: When you've updated the starter code, `check()` will tell you whether your code is correct. You need to update the code that creates variable `first_descriptions`"
      ]
     },
     "metadata": {},
     "output_type": "display_data"
    },
    {
     "data": {
      "text/markdown": [],
      "text/plain": [
       "<learntools.core.constants.PlaceholderValue at 0x7f44a28aa0d0>"
      ]
     },
     "execution_count": 9,
     "metadata": {},
     "output_type": "execute_result"
    }
   ],
   "source": [
    "first_descriptions = ____\n",
    "\n",
    "# Check your answer\n",
    "q4.check()\n",
    "first_descriptions"
   ]
  },
  {
   "cell_type": "code",
   "execution_count": 10,
   "id": "93173924",
   "metadata": {
    "execution": {
     "iopub.execute_input": "2022-05-10T16:56:30.150610Z",
     "iopub.status.busy": "2022-05-10T16:56:30.149833Z",
     "iopub.status.idle": "2022-05-10T16:56:30.153856Z",
     "shell.execute_reply": "2022-05-10T16:56:30.152949Z"
    },
    "papermill": {
     "duration": 0.045445,
     "end_time": "2022-05-10T16:56:30.156127",
     "exception": false,
     "start_time": "2022-05-10T16:56:30.110682",
     "status": "completed"
    },
    "tags": []
   },
   "outputs": [],
   "source": [
    "#q4.hint()\n",
    "#q4.solution()"
   ]
  },
  {
   "cell_type": "markdown",
   "id": "1f9fed03",
   "metadata": {
    "papermill": {
     "duration": 0.038069,
     "end_time": "2022-05-10T16:56:30.232961",
     "exception": false,
     "start_time": "2022-05-10T16:56:30.194892",
     "status": "completed"
    },
    "tags": []
   },
   "source": [
    "## 5.\n",
    "\n",
    "Select the records with index labels `1`, `2`, `3`, `5`, and `8`, assigning the result to the variable `sample_reviews`.\n",
    "\n",
    "In other words, generate the following DataFrame:\n",
    "\n",
    "![](https://i.imgur.com/sHZvI1O.png)"
   ]
  },
  {
   "cell_type": "code",
   "execution_count": 11,
   "id": "f583bf33",
   "metadata": {
    "execution": {
     "iopub.execute_input": "2022-05-10T16:56:30.310292Z",
     "iopub.status.busy": "2022-05-10T16:56:30.309996Z",
     "iopub.status.idle": "2022-05-10T16:56:30.318450Z",
     "shell.execute_reply": "2022-05-10T16:56:30.317748Z"
    },
    "papermill": {
     "duration": 0.04999,
     "end_time": "2022-05-10T16:56:30.320423",
     "exception": false,
     "start_time": "2022-05-10T16:56:30.270433",
     "status": "completed"
    },
    "tags": []
   },
   "outputs": [
    {
     "data": {
      "application/javascript": [
       "parent.postMessage({\"jupyterEvent\": \"custom.exercise_interaction\", \"data\": {\"outcomeType\": 4, \"interactionType\": 1, \"questionType\": 1, \"questionId\": \"5_SampleReviews\", \"learnToolsVersion\": \"0.3.4\", \"valueTowardsCompletion\": 0.0, \"failureMessage\": \"\", \"exceptionClass\": \"\", \"trace\": \"\"}}, \"*\")"
      ],
      "text/plain": [
       "<IPython.core.display.Javascript object>"
      ]
     },
     "metadata": {},
     "output_type": "display_data"
    },
    {
     "data": {
      "text/markdown": [
       "<span style=\"color:#ccaa33\">Check:</span> When you've updated the starter code, `check()` will tell you whether your code is correct. You need to update the code that creates variable `sample_reviews`"
      ],
      "text/plain": [
       "Check: When you've updated the starter code, `check()` will tell you whether your code is correct. You need to update the code that creates variable `sample_reviews`"
      ]
     },
     "metadata": {},
     "output_type": "display_data"
    },
    {
     "data": {
      "text/markdown": [],
      "text/plain": [
       "<learntools.core.constants.PlaceholderValue at 0x7f44a28aa0d0>"
      ]
     },
     "execution_count": 11,
     "metadata": {},
     "output_type": "execute_result"
    }
   ],
   "source": [
    "sample_reviews = ____\n",
    "\n",
    "# Check your answer\n",
    "q5.check()\n",
    "sample_reviews"
   ]
  },
  {
   "cell_type": "code",
   "execution_count": 12,
   "id": "62497e60",
   "metadata": {
    "execution": {
     "iopub.execute_input": "2022-05-10T16:56:30.401984Z",
     "iopub.status.busy": "2022-05-10T16:56:30.401382Z",
     "iopub.status.idle": "2022-05-10T16:56:30.404553Z",
     "shell.execute_reply": "2022-05-10T16:56:30.403927Z"
    },
    "papermill": {
     "duration": 0.046343,
     "end_time": "2022-05-10T16:56:30.406535",
     "exception": false,
     "start_time": "2022-05-10T16:56:30.360192",
     "status": "completed"
    },
    "tags": []
   },
   "outputs": [],
   "source": [
    "#q5.hint()\n",
    "#q5.solution()"
   ]
  },
  {
   "cell_type": "markdown",
   "id": "d5ea3b4d",
   "metadata": {
    "papermill": {
     "duration": 0.039541,
     "end_time": "2022-05-10T16:56:30.489392",
     "exception": false,
     "start_time": "2022-05-10T16:56:30.449851",
     "status": "completed"
    },
    "tags": []
   },
   "source": [
    "## 6.\n",
    "\n",
    "Create a variable `df` containing the `country`, `province`, `region_1`, and `region_2` columns of the records with the index labels `0`, `1`, `10`, and `100`. In other words, generate the following DataFrame:\n",
    "\n",
    "![](https://i.imgur.com/FUCGiKP.png)"
   ]
  },
  {
   "cell_type": "code",
   "execution_count": 13,
   "id": "615b7294",
   "metadata": {
    "execution": {
     "iopub.execute_input": "2022-05-10T16:56:30.570234Z",
     "iopub.status.busy": "2022-05-10T16:56:30.569728Z",
     "iopub.status.idle": "2022-05-10T16:56:30.578631Z",
     "shell.execute_reply": "2022-05-10T16:56:30.577736Z"
    },
    "papermill": {
     "duration": 0.051585,
     "end_time": "2022-05-10T16:56:30.580605",
     "exception": false,
     "start_time": "2022-05-10T16:56:30.529020",
     "status": "completed"
    },
    "tags": []
   },
   "outputs": [
    {
     "data": {
      "application/javascript": [
       "parent.postMessage({\"jupyterEvent\": \"custom.exercise_interaction\", \"data\": {\"outcomeType\": 4, \"interactionType\": 1, \"questionType\": 1, \"questionId\": \"6_RowColSelect\", \"learnToolsVersion\": \"0.3.4\", \"valueTowardsCompletion\": 0.0, \"failureMessage\": \"\", \"exceptionClass\": \"\", \"trace\": \"\"}}, \"*\")"
      ],
      "text/plain": [
       "<IPython.core.display.Javascript object>"
      ]
     },
     "metadata": {},
     "output_type": "display_data"
    },
    {
     "data": {
      "text/markdown": [
       "<span style=\"color:#ccaa33\">Check:</span> When you've updated the starter code, `check()` will tell you whether your code is correct. You need to update the code that creates variable `df`"
      ],
      "text/plain": [
       "Check: When you've updated the starter code, `check()` will tell you whether your code is correct. You need to update the code that creates variable `df`"
      ]
     },
     "metadata": {},
     "output_type": "display_data"
    },
    {
     "data": {
      "text/markdown": [],
      "text/plain": [
       "<learntools.core.constants.PlaceholderValue at 0x7f44a28aa0d0>"
      ]
     },
     "execution_count": 13,
     "metadata": {},
     "output_type": "execute_result"
    }
   ],
   "source": [
    "df = ____\n",
    "\n",
    "# Check your answer\n",
    "q6.check()\n",
    "df"
   ]
  },
  {
   "cell_type": "code",
   "execution_count": 14,
   "id": "da307094",
   "metadata": {
    "execution": {
     "iopub.execute_input": "2022-05-10T16:56:30.666228Z",
     "iopub.status.busy": "2022-05-10T16:56:30.665398Z",
     "iopub.status.idle": "2022-05-10T16:56:30.669755Z",
     "shell.execute_reply": "2022-05-10T16:56:30.668757Z"
    },
    "papermill": {
     "duration": 0.048859,
     "end_time": "2022-05-10T16:56:30.672017",
     "exception": false,
     "start_time": "2022-05-10T16:56:30.623158",
     "status": "completed"
    },
    "tags": []
   },
   "outputs": [],
   "source": [
    "#q6.hint()\n",
    "#q6.solution()"
   ]
  },
  {
   "cell_type": "markdown",
   "id": "58f1fbb1",
   "metadata": {
    "papermill": {
     "duration": 0.047015,
     "end_time": "2022-05-10T16:56:30.762560",
     "exception": false,
     "start_time": "2022-05-10T16:56:30.715545",
     "status": "completed"
    },
    "tags": []
   },
   "source": [
    "## 7.\n",
    "\n",
    "Create a variable `df` containing the `country` and `variety` columns of the first 100 records. \n",
    "\n",
    "Hint: you may use `loc` or `iloc`. When working on the answer this question and the several of the ones that follow, keep the following \"gotcha\" described in the tutorial:\n",
    "\n",
    "> `iloc` uses the Python stdlib indexing scheme, where the first element of the range is included and the last one excluded. \n",
    "`loc`, meanwhile, indexes inclusively. \n",
    "\n",
    "> This is particularly confusing when the DataFrame index is a simple numerical list, e.g. `0,...,1000`. In this case `df.iloc[0:1000]` will return 1000 entries, while `df.loc[0:1000]` return 1001 of them! To get 1000 elements using `loc`, you will need to go one lower and ask for `df.iloc[0:999]`. "
   ]
  },
  {
   "cell_type": "code",
   "execution_count": 15,
   "id": "4b09d3e3",
   "metadata": {
    "execution": {
     "iopub.execute_input": "2022-05-10T16:56:30.851164Z",
     "iopub.status.busy": "2022-05-10T16:56:30.850608Z",
     "iopub.status.idle": "2022-05-10T16:56:30.858362Z",
     "shell.execute_reply": "2022-05-10T16:56:30.857732Z"
    },
    "papermill": {
     "duration": 0.053164,
     "end_time": "2022-05-10T16:56:30.860318",
     "exception": false,
     "start_time": "2022-05-10T16:56:30.807154",
     "status": "completed"
    },
    "tags": []
   },
   "outputs": [
    {
     "data": {
      "application/javascript": [
       "parent.postMessage({\"jupyterEvent\": \"custom.exercise_interaction\", \"data\": {\"outcomeType\": 4, \"interactionType\": 1, \"questionType\": 1, \"questionId\": \"7_RowColSelect2\", \"learnToolsVersion\": \"0.3.4\", \"valueTowardsCompletion\": 0.0, \"failureMessage\": \"\", \"exceptionClass\": \"\", \"trace\": \"\"}}, \"*\")"
      ],
      "text/plain": [
       "<IPython.core.display.Javascript object>"
      ]
     },
     "metadata": {},
     "output_type": "display_data"
    },
    {
     "data": {
      "text/markdown": [
       "<span style=\"color:#ccaa33\">Check:</span> When you've updated the starter code, `check()` will tell you whether your code is correct. You need to update the code that creates variable `df`"
      ],
      "text/plain": [
       "Check: When you've updated the starter code, `check()` will tell you whether your code is correct. You need to update the code that creates variable `df`"
      ]
     },
     "metadata": {},
     "output_type": "display_data"
    },
    {
     "data": {
      "text/markdown": [],
      "text/plain": [
       "<learntools.core.constants.PlaceholderValue at 0x7f44a28aa0d0>"
      ]
     },
     "execution_count": 15,
     "metadata": {},
     "output_type": "execute_result"
    }
   ],
   "source": [
    "df = ____\n",
    "\n",
    "# Check your answer\n",
    "q7.check()\n",
    "df"
   ]
  },
  {
   "cell_type": "code",
   "execution_count": 16,
   "id": "b2138bf8",
   "metadata": {
    "execution": {
     "iopub.execute_input": "2022-05-10T16:56:30.948125Z",
     "iopub.status.busy": "2022-05-10T16:56:30.947652Z",
     "iopub.status.idle": "2022-05-10T16:56:30.951297Z",
     "shell.execute_reply": "2022-05-10T16:56:30.950406Z"
    },
    "papermill": {
     "duration": 0.05012,
     "end_time": "2022-05-10T16:56:30.953330",
     "exception": false,
     "start_time": "2022-05-10T16:56:30.903210",
     "status": "completed"
    },
    "tags": []
   },
   "outputs": [],
   "source": [
    "#q7.hint()\n",
    "#q7.solution()"
   ]
  },
  {
   "cell_type": "markdown",
   "id": "961ea94c",
   "metadata": {
    "papermill": {
     "duration": 0.047438,
     "end_time": "2022-05-10T16:56:31.044570",
     "exception": false,
     "start_time": "2022-05-10T16:56:30.997132",
     "status": "completed"
    },
    "tags": []
   },
   "source": [
    "## 8.\n",
    "\n",
    "Create a DataFrame `italian_wines` containing reviews of wines made in `Italy`. Hint: `reviews.country` equals what?"
   ]
  },
  {
   "cell_type": "code",
   "execution_count": 17,
   "id": "23462f19",
   "metadata": {
    "execution": {
     "iopub.execute_input": "2022-05-10T16:56:31.133972Z",
     "iopub.status.busy": "2022-05-10T16:56:31.133476Z",
     "iopub.status.idle": "2022-05-10T16:56:31.139558Z",
     "shell.execute_reply": "2022-05-10T16:56:31.138995Z"
    },
    "papermill": {
     "duration": 0.053145,
     "end_time": "2022-05-10T16:56:31.141425",
     "exception": false,
     "start_time": "2022-05-10T16:56:31.088280",
     "status": "completed"
    },
    "tags": []
   },
   "outputs": [
    {
     "data": {
      "application/javascript": [
       "parent.postMessage({\"jupyterEvent\": \"custom.exercise_interaction\", \"data\": {\"outcomeType\": 4, \"interactionType\": 1, \"questionType\": 1, \"questionId\": \"8_ItalianWines\", \"learnToolsVersion\": \"0.3.4\", \"valueTowardsCompletion\": 0.0, \"failureMessage\": \"\", \"exceptionClass\": \"\", \"trace\": \"\"}}, \"*\")"
      ],
      "text/plain": [
       "<IPython.core.display.Javascript object>"
      ]
     },
     "metadata": {},
     "output_type": "display_data"
    },
    {
     "data": {
      "text/markdown": [
       "<span style=\"color:#ccaa33\">Check:</span> When you've updated the starter code, `check()` will tell you whether your code is correct. You need to update the code that creates variable `italian_wines`"
      ],
      "text/plain": [
       "Check: When you've updated the starter code, `check()` will tell you whether your code is correct. You need to update the code that creates variable `italian_wines`"
      ]
     },
     "metadata": {},
     "output_type": "display_data"
    }
   ],
   "source": [
    "italian_wines = ____\n",
    "\n",
    "# Check your answer\n",
    "q8.check()"
   ]
  },
  {
   "cell_type": "code",
   "execution_count": 18,
   "id": "38609bff",
   "metadata": {
    "execution": {
     "iopub.execute_input": "2022-05-10T16:56:31.234519Z",
     "iopub.status.busy": "2022-05-10T16:56:31.234002Z",
     "iopub.status.idle": "2022-05-10T16:56:31.236915Z",
     "shell.execute_reply": "2022-05-10T16:56:31.236370Z"
    },
    "papermill": {
     "duration": 0.051843,
     "end_time": "2022-05-10T16:56:31.238773",
     "exception": false,
     "start_time": "2022-05-10T16:56:31.186930",
     "status": "completed"
    },
    "tags": []
   },
   "outputs": [],
   "source": [
    "#q8.hint()\n",
    "#q8.solution()"
   ]
  },
  {
   "cell_type": "markdown",
   "id": "cee4f0a4",
   "metadata": {
    "papermill": {
     "duration": 0.047663,
     "end_time": "2022-05-10T16:56:31.332304",
     "exception": false,
     "start_time": "2022-05-10T16:56:31.284641",
     "status": "completed"
    },
    "tags": []
   },
   "source": [
    "## 9.\n",
    "\n",
    "Create a DataFrame `top_oceania_wines` containing all reviews with at least 95 points (out of 100) for wines from Australia or New Zealand."
   ]
  },
  {
   "cell_type": "code",
   "execution_count": 19,
   "id": "e007e1de",
   "metadata": {
    "execution": {
     "iopub.execute_input": "2022-05-10T16:56:31.425474Z",
     "iopub.status.busy": "2022-05-10T16:56:31.424920Z",
     "iopub.status.idle": "2022-05-10T16:56:31.433540Z",
     "shell.execute_reply": "2022-05-10T16:56:31.432975Z"
    },
    "papermill": {
     "duration": 0.056891,
     "end_time": "2022-05-10T16:56:31.435568",
     "exception": false,
     "start_time": "2022-05-10T16:56:31.378677",
     "status": "completed"
    },
    "tags": []
   },
   "outputs": [
    {
     "data": {
      "application/javascript": [
       "parent.postMessage({\"jupyterEvent\": \"custom.exercise_interaction\", \"data\": {\"outcomeType\": 4, \"interactionType\": 1, \"questionType\": 1, \"questionId\": \"9_TopOceanicWines\", \"learnToolsVersion\": \"0.3.4\", \"valueTowardsCompletion\": 0.0, \"failureMessage\": \"\", \"exceptionClass\": \"\", \"trace\": \"\"}}, \"*\")"
      ],
      "text/plain": [
       "<IPython.core.display.Javascript object>"
      ]
     },
     "metadata": {},
     "output_type": "display_data"
    },
    {
     "data": {
      "text/markdown": [
       "<span style=\"color:#ccaa33\">Check:</span> When you've updated the starter code, `check()` will tell you whether your code is correct. You need to update the code that creates variable `top_oceania_wines`"
      ],
      "text/plain": [
       "Check: When you've updated the starter code, `check()` will tell you whether your code is correct. You need to update the code that creates variable `top_oceania_wines`"
      ]
     },
     "metadata": {},
     "output_type": "display_data"
    },
    {
     "data": {
      "text/markdown": [],
      "text/plain": [
       "<learntools.core.constants.PlaceholderValue at 0x7f44a28aa0d0>"
      ]
     },
     "execution_count": 19,
     "metadata": {},
     "output_type": "execute_result"
    }
   ],
   "source": [
    "top_oceania_wines = ____\n",
    "\n",
    "# Check your answer\n",
    "q9.check()\n",
    "top_oceania_wines"
   ]
  },
  {
   "cell_type": "code",
   "execution_count": 20,
   "id": "ed0c3acb",
   "metadata": {
    "execution": {
     "iopub.execute_input": "2022-05-10T16:56:31.535962Z",
     "iopub.status.busy": "2022-05-10T16:56:31.535401Z",
     "iopub.status.idle": "2022-05-10T16:56:31.538498Z",
     "shell.execute_reply": "2022-05-10T16:56:31.537886Z"
    },
    "papermill": {
     "duration": 0.054967,
     "end_time": "2022-05-10T16:56:31.540667",
     "exception": false,
     "start_time": "2022-05-10T16:56:31.485700",
     "status": "completed"
    },
    "tags": []
   },
   "outputs": [],
   "source": [
    "#q9.hint()\n",
    "#q9.solution()"
   ]
  },
  {
   "cell_type": "markdown",
   "id": "d83d3f96",
   "metadata": {
    "papermill": {
     "duration": 0.046619,
     "end_time": "2022-05-10T16:56:31.634239",
     "exception": false,
     "start_time": "2022-05-10T16:56:31.587620",
     "status": "completed"
    },
    "tags": []
   },
   "source": [
    "# Keep going\n",
    "\n",
    "Move on to learn about **[summary functions and maps](https://www.kaggle.com/residentmario/summary-functions-and-maps)**."
   ]
  },
  {
   "cell_type": "markdown",
   "id": "23d57838",
   "metadata": {
    "papermill": {
     "duration": 0.04484,
     "end_time": "2022-05-10T16:56:31.724290",
     "exception": false,
     "start_time": "2022-05-10T16:56:31.679450",
     "status": "completed"
    },
    "tags": []
   },
   "source": [
    "---\n",
    "\n",
    "\n",
    "\n",
    "\n",
    "*Have questions or comments? Visit the [course discussion forum](https://www.kaggle.com/learn/pandas/discussion) to chat with other learners.*"
   ]
  }
 ],
 "metadata": {
  "kernelspec": {
   "display_name": "Python 3",
   "language": "python",
   "name": "python3"
  },
  "language_info": {
   "codemirror_mode": {
    "name": "ipython",
    "version": 3
   },
   "file_extension": ".py",
   "mimetype": "text/x-python",
   "name": "python",
   "nbconvert_exporter": "python",
   "pygments_lexer": "ipython3",
   "version": "3.7.12"
  },
  "papermill": {
   "default_parameters": {},
   "duration": 18.230072,
   "end_time": "2022-05-10T16:56:32.492155",
   "environment_variables": {},
   "exception": null,
   "input_path": "__notebook__.ipynb",
   "output_path": "__notebook__.ipynb",
   "parameters": {},
   "start_time": "2022-05-10T16:56:14.262083",
   "version": "2.3.4"
  }
 },
 "nbformat": 4,
 "nbformat_minor": 5
}
