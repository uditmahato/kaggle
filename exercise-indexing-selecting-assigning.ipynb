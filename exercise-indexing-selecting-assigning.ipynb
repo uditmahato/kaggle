{
 "cells": [
  {
   "cell_type": "markdown",
   "id": "97a3ab72",
   "metadata": {
    "papermill": {
     "duration": 0.023317,
     "end_time": "2022-05-10T16:54:21.393388",
     "exception": false,
     "start_time": "2022-05-10T16:54:21.370071",
     "status": "completed"
    },
    "tags": []
   },
   "source": [
    "**This notebook is an exercise in the [Pandas](https://www.kaggle.com/learn/pandas) course.  You can reference the tutorial at [this link](https://www.kaggle.com/residentmario/indexing-selecting-assigning).**\n",
    "\n",
    "---\n"
   ]
  },
  {
   "cell_type": "markdown",
   "id": "24589ea6",
   "metadata": {
    "papermill": {
     "duration": 0.021596,
     "end_time": "2022-05-10T16:54:21.437074",
     "exception": false,
     "start_time": "2022-05-10T16:54:21.415478",
     "status": "completed"
    },
    "tags": []
   },
   "source": [
    "# Introduction\n",
    "\n",
    "In this set of exercises we will work with the [Wine Reviews dataset](https://www.kaggle.com/zynicide/wine-reviews). "
   ]
  },
  {
   "cell_type": "markdown",
   "id": "fbd5e3ed",
   "metadata": {
    "papermill": {
     "duration": 0.021479,
     "end_time": "2022-05-10T16:54:21.480557",
     "exception": false,
     "start_time": "2022-05-10T16:54:21.459078",
     "status": "completed"
    },
    "tags": []
   },
   "source": [
    "Run the following cell to load your data and some utility functions (including code to check your answers)."
   ]
  },
  {
   "cell_type": "code",
   "execution_count": 1,
   "id": "9b79f131",
   "metadata": {
    "execution": {
     "iopub.execute_input": "2022-05-10T16:54:21.527077Z",
     "iopub.status.busy": "2022-05-10T16:54:21.526384Z",
     "iopub.status.idle": "2022-05-10T16:54:24.318492Z",
     "shell.execute_reply": "2022-05-10T16:54:24.317516Z"
    },
    "papermill": {
     "duration": 2.817822,
     "end_time": "2022-05-10T16:54:24.320803",
     "exception": false,
     "start_time": "2022-05-10T16:54:21.502981",
     "status": "completed"
    },
    "tags": []
   },
   "outputs": [
    {
     "name": "stdout",
     "output_type": "stream",
     "text": [
      "Setup complete.\n"
     ]
    }
   ],
   "source": [
    "import pandas as pd\n",
    "\n",
    "reviews = pd.read_csv(\"../input/wine-reviews/winemag-data-130k-v2.csv\", index_col=0)\n",
    "pd.set_option(\"display.max_rows\", 5)\n",
    "\n",
    "from learntools.core import binder; binder.bind(globals())\n",
    "from learntools.pandas.indexing_selecting_and_assigning import *\n",
    "print(\"Setup complete.\")"
   ]
  },
  {
   "cell_type": "markdown",
   "id": "5e377e17",
   "metadata": {
    "papermill": {
     "duration": 0.023385,
     "end_time": "2022-05-10T16:54:24.367752",
     "exception": false,
     "start_time": "2022-05-10T16:54:24.344367",
     "status": "completed"
    },
    "tags": []
   },
   "source": [
    "Look at an overview of your data by running the following line."
   ]
  },
  {
   "cell_type": "code",
   "execution_count": 2,
   "id": "e9700de0",
   "metadata": {
    "execution": {
     "iopub.execute_input": "2022-05-10T16:54:24.415550Z",
     "iopub.status.busy": "2022-05-10T16:54:24.415001Z",
     "iopub.status.idle": "2022-05-10T16:54:24.438261Z",
     "shell.execute_reply": "2022-05-10T16:54:24.437291Z"
    },
    "papermill": {
     "duration": 0.050527,
     "end_time": "2022-05-10T16:54:24.440470",
     "exception": false,
     "start_time": "2022-05-10T16:54:24.389943",
     "status": "completed"
    },
    "tags": []
   },
   "outputs": [
    {
     "data": {
      "text/html": [
       "<div>\n",
       "<style scoped>\n",
       "    .dataframe tbody tr th:only-of-type {\n",
       "        vertical-align: middle;\n",
       "    }\n",
       "\n",
       "    .dataframe tbody tr th {\n",
       "        vertical-align: top;\n",
       "    }\n",
       "\n",
       "    .dataframe thead th {\n",
       "        text-align: right;\n",
       "    }\n",
       "</style>\n",
       "<table border=\"1\" class=\"dataframe\">\n",
       "  <thead>\n",
       "    <tr style=\"text-align: right;\">\n",
       "      <th></th>\n",
       "      <th>country</th>\n",
       "      <th>description</th>\n",
       "      <th>designation</th>\n",
       "      <th>points</th>\n",
       "      <th>price</th>\n",
       "      <th>province</th>\n",
       "      <th>region_1</th>\n",
       "      <th>region_2</th>\n",
       "      <th>taster_name</th>\n",
       "      <th>taster_twitter_handle</th>\n",
       "      <th>title</th>\n",
       "      <th>variety</th>\n",
       "      <th>winery</th>\n",
       "    </tr>\n",
       "  </thead>\n",
       "  <tbody>\n",
       "    <tr>\n",
       "      <th>0</th>\n",
       "      <td>Italy</td>\n",
       "      <td>Aromas include tropical fruit, broom, brimston...</td>\n",
       "      <td>Vulkà Bianco</td>\n",
       "      <td>87</td>\n",
       "      <td>NaN</td>\n",
       "      <td>Sicily &amp; Sardinia</td>\n",
       "      <td>Etna</td>\n",
       "      <td>NaN</td>\n",
       "      <td>Kerin O’Keefe</td>\n",
       "      <td>@kerinokeefe</td>\n",
       "      <td>Nicosia 2013 Vulkà Bianco  (Etna)</td>\n",
       "      <td>White Blend</td>\n",
       "      <td>Nicosia</td>\n",
       "    </tr>\n",
       "    <tr>\n",
       "      <th>1</th>\n",
       "      <td>Portugal</td>\n",
       "      <td>This is ripe and fruity, a wine that is smooth...</td>\n",
       "      <td>Avidagos</td>\n",
       "      <td>87</td>\n",
       "      <td>15.0</td>\n",
       "      <td>Douro</td>\n",
       "      <td>NaN</td>\n",
       "      <td>NaN</td>\n",
       "      <td>Roger Voss</td>\n",
       "      <td>@vossroger</td>\n",
       "      <td>Quinta dos Avidagos 2011 Avidagos Red (Douro)</td>\n",
       "      <td>Portuguese Red</td>\n",
       "      <td>Quinta dos Avidagos</td>\n",
       "    </tr>\n",
       "    <tr>\n",
       "      <th>2</th>\n",
       "      <td>US</td>\n",
       "      <td>Tart and snappy, the flavors of lime flesh and...</td>\n",
       "      <td>NaN</td>\n",
       "      <td>87</td>\n",
       "      <td>14.0</td>\n",
       "      <td>Oregon</td>\n",
       "      <td>Willamette Valley</td>\n",
       "      <td>Willamette Valley</td>\n",
       "      <td>Paul Gregutt</td>\n",
       "      <td>@paulgwine</td>\n",
       "      <td>Rainstorm 2013 Pinot Gris (Willamette Valley)</td>\n",
       "      <td>Pinot Gris</td>\n",
       "      <td>Rainstorm</td>\n",
       "    </tr>\n",
       "    <tr>\n",
       "      <th>3</th>\n",
       "      <td>US</td>\n",
       "      <td>Pineapple rind, lemon pith and orange blossom ...</td>\n",
       "      <td>Reserve Late Harvest</td>\n",
       "      <td>87</td>\n",
       "      <td>13.0</td>\n",
       "      <td>Michigan</td>\n",
       "      <td>Lake Michigan Shore</td>\n",
       "      <td>NaN</td>\n",
       "      <td>Alexander Peartree</td>\n",
       "      <td>NaN</td>\n",
       "      <td>St. Julian 2013 Reserve Late Harvest Riesling ...</td>\n",
       "      <td>Riesling</td>\n",
       "      <td>St. Julian</td>\n",
       "    </tr>\n",
       "    <tr>\n",
       "      <th>4</th>\n",
       "      <td>US</td>\n",
       "      <td>Much like the regular bottling from 2012, this...</td>\n",
       "      <td>Vintner's Reserve Wild Child Block</td>\n",
       "      <td>87</td>\n",
       "      <td>65.0</td>\n",
       "      <td>Oregon</td>\n",
       "      <td>Willamette Valley</td>\n",
       "      <td>Willamette Valley</td>\n",
       "      <td>Paul Gregutt</td>\n",
       "      <td>@paulgwine</td>\n",
       "      <td>Sweet Cheeks 2012 Vintner's Reserve Wild Child...</td>\n",
       "      <td>Pinot Noir</td>\n",
       "      <td>Sweet Cheeks</td>\n",
       "    </tr>\n",
       "  </tbody>\n",
       "</table>\n",
       "</div>"
      ],
      "text/plain": [
       "    country                                        description  \\\n",
       "0     Italy  Aromas include tropical fruit, broom, brimston...   \n",
       "1  Portugal  This is ripe and fruity, a wine that is smooth...   \n",
       "2        US  Tart and snappy, the flavors of lime flesh and...   \n",
       "3        US  Pineapple rind, lemon pith and orange blossom ...   \n",
       "4        US  Much like the regular bottling from 2012, this...   \n",
       "\n",
       "                          designation  points  price           province  \\\n",
       "0                        Vulkà Bianco      87    NaN  Sicily & Sardinia   \n",
       "1                            Avidagos      87   15.0              Douro   \n",
       "2                                 NaN      87   14.0             Oregon   \n",
       "3                Reserve Late Harvest      87   13.0           Michigan   \n",
       "4  Vintner's Reserve Wild Child Block      87   65.0             Oregon   \n",
       "\n",
       "              region_1           region_2         taster_name  \\\n",
       "0                 Etna                NaN       Kerin O’Keefe   \n",
       "1                  NaN                NaN          Roger Voss   \n",
       "2    Willamette Valley  Willamette Valley        Paul Gregutt   \n",
       "3  Lake Michigan Shore                NaN  Alexander Peartree   \n",
       "4    Willamette Valley  Willamette Valley        Paul Gregutt   \n",
       "\n",
       "  taster_twitter_handle                                              title  \\\n",
       "0          @kerinokeefe                  Nicosia 2013 Vulkà Bianco  (Etna)   \n",
       "1            @vossroger      Quinta dos Avidagos 2011 Avidagos Red (Douro)   \n",
       "2           @paulgwine       Rainstorm 2013 Pinot Gris (Willamette Valley)   \n",
       "3                   NaN  St. Julian 2013 Reserve Late Harvest Riesling ...   \n",
       "4           @paulgwine   Sweet Cheeks 2012 Vintner's Reserve Wild Child...   \n",
       "\n",
       "          variety               winery  \n",
       "0     White Blend              Nicosia  \n",
       "1  Portuguese Red  Quinta dos Avidagos  \n",
       "2      Pinot Gris            Rainstorm  \n",
       "3        Riesling           St. Julian  \n",
       "4      Pinot Noir         Sweet Cheeks  "
      ]
     },
     "execution_count": 2,
     "metadata": {},
     "output_type": "execute_result"
    }
   ],
   "source": [
    "reviews.head()"
   ]
  },
  {
   "cell_type": "markdown",
   "id": "0f85c5ba",
   "metadata": {
    "papermill": {
     "duration": 0.023179,
     "end_time": "2022-05-10T16:54:24.486738",
     "exception": false,
     "start_time": "2022-05-10T16:54:24.463559",
     "status": "completed"
    },
    "tags": []
   },
   "source": [
    "# Exercises"
   ]
  },
  {
   "cell_type": "markdown",
   "id": "e03229c0",
   "metadata": {
    "papermill": {
     "duration": 0.022821,
     "end_time": "2022-05-10T16:54:24.533327",
     "exception": false,
     "start_time": "2022-05-10T16:54:24.510506",
     "status": "completed"
    },
    "tags": []
   },
   "source": [
    "## 1.\n",
    "\n",
    "Select the `description` column from `reviews` and assign the result to the variable `desc`."
   ]
  },
  {
   "cell_type": "code",
   "execution_count": 3,
   "id": "01a10fbb",
   "metadata": {
    "execution": {
     "iopub.execute_input": "2022-05-10T16:54:24.580646Z",
     "iopub.status.busy": "2022-05-10T16:54:24.580001Z",
     "iopub.status.idle": "2022-05-10T16:54:24.586939Z",
     "shell.execute_reply": "2022-05-10T16:54:24.586438Z"
    },
    "papermill": {
     "duration": 0.032507,
     "end_time": "2022-05-10T16:54:24.588655",
     "exception": false,
     "start_time": "2022-05-10T16:54:24.556148",
     "status": "completed"
    },
    "tags": []
   },
   "outputs": [
    {
     "data": {
      "application/javascript": [
       "parent.postMessage({\"jupyterEvent\": \"custom.exercise_interaction\", \"data\": {\"outcomeType\": 1, \"valueTowardsCompletion\": 0.1111111111111111, \"interactionType\": 1, \"questionType\": 1, \"questionId\": \"1_SelectDescCol\", \"learnToolsVersion\": \"0.3.4\", \"failureMessage\": \"\", \"exceptionClass\": \"\", \"trace\": \"\"}}, \"*\")"
      ],
      "text/plain": [
       "<IPython.core.display.Javascript object>"
      ]
     },
     "metadata": {},
     "output_type": "display_data"
    },
    {
     "data": {
      "text/markdown": [
       "<span style=\"color:#33cc33\">Correct</span>"
      ],
      "text/plain": [
       "Correct"
      ]
     },
     "metadata": {},
     "output_type": "display_data"
    }
   ],
   "source": [
    "# Your code here\n",
    "desc = reviews['description']\n",
    "\n",
    "# Check your answer\n",
    "q1.check()"
   ]
  },
  {
   "cell_type": "markdown",
   "id": "533ba358",
   "metadata": {
    "papermill": {
     "duration": 0.024384,
     "end_time": "2022-05-10T16:54:24.637064",
     "exception": false,
     "start_time": "2022-05-10T16:54:24.612680",
     "status": "completed"
    },
    "tags": []
   },
   "source": [
    "Follow-up question: what type of object is `desc`? If you're not sure, you can check by calling Python's `type` function: `type(desc)`."
   ]
  },
  {
   "cell_type": "code",
   "execution_count": 4,
   "id": "e37bb03f",
   "metadata": {
    "execution": {
     "iopub.execute_input": "2022-05-10T16:54:24.687772Z",
     "iopub.status.busy": "2022-05-10T16:54:24.687106Z",
     "iopub.status.idle": "2022-05-10T16:54:24.690641Z",
     "shell.execute_reply": "2022-05-10T16:54:24.689760Z"
    },
    "papermill": {
     "duration": 0.030852,
     "end_time": "2022-05-10T16:54:24.692364",
     "exception": false,
     "start_time": "2022-05-10T16:54:24.661512",
     "status": "completed"
    },
    "tags": []
   },
   "outputs": [],
   "source": [
    "#q1.hint()\n",
    "#q1.solution()"
   ]
  },
  {
   "cell_type": "markdown",
   "id": "cf0c2e03",
   "metadata": {
    "papermill": {
     "duration": 0.024185,
     "end_time": "2022-05-10T16:54:24.740573",
     "exception": false,
     "start_time": "2022-05-10T16:54:24.716388",
     "status": "completed"
    },
    "tags": []
   },
   "source": [
    "## 2.\n",
    "\n",
    "Select the first value from the description column of `reviews`, assigning it to variable `first_description`."
   ]
  },
  {
   "cell_type": "code",
   "execution_count": 5,
   "id": "af747905",
   "metadata": {
    "execution": {
     "iopub.execute_input": "2022-05-10T16:54:24.790257Z",
     "iopub.status.busy": "2022-05-10T16:54:24.789345Z",
     "iopub.status.idle": "2022-05-10T16:54:24.802496Z",
     "shell.execute_reply": "2022-05-10T16:54:24.801958Z"
    },
    "papermill": {
     "duration": 0.039826,
     "end_time": "2022-05-10T16:54:24.804162",
     "exception": false,
     "start_time": "2022-05-10T16:54:24.764336",
     "status": "completed"
    },
    "tags": []
   },
   "outputs": [
    {
     "data": {
      "application/javascript": [
       "parent.postMessage({\"jupyterEvent\": \"custom.exercise_interaction\", \"data\": {\"outcomeType\": 1, \"valueTowardsCompletion\": 0.1111111111111111, \"interactionType\": 1, \"questionType\": 1, \"questionId\": \"2_FirstDesc\", \"learnToolsVersion\": \"0.3.4\", \"failureMessage\": \"\", \"exceptionClass\": \"\", \"trace\": \"\"}}, \"*\")"
      ],
      "text/plain": [
       "<IPython.core.display.Javascript object>"
      ]
     },
     "metadata": {},
     "output_type": "display_data"
    },
    {
     "data": {
      "text/markdown": [
       "<span style=\"color:#33cc33\">Correct:</span> \n",
       "\n",
       "\n",
       "```python\n",
       "first_description = reviews.description.iloc[0]\n",
       "```\n",
       "Note that while this is the preferred way to obtain the entry in the DataFrame, many other options will return a valid result, such as `reviews.description.loc[0]`, `reviews.description[0]`, and more!  \n"
      ],
      "text/plain": [
       "Correct: \n",
       "\n",
       "\n",
       "```python\n",
       "first_description = reviews.description.iloc[0]\n",
       "```\n",
       "Note that while this is the preferred way to obtain the entry in the DataFrame, many other options will return a valid result, such as `reviews.description.loc[0]`, `reviews.description[0]`, and more!  "
      ]
     },
     "metadata": {},
     "output_type": "display_data"
    },
    {
     "data": {
      "text/plain": [
       "\"Aromas include tropical fruit, broom, brimstone and dried herb. The palate isn't overly expressive, offering unripened apple, citrus and dried sage alongside brisk acidity.\""
      ]
     },
     "execution_count": 5,
     "metadata": {},
     "output_type": "execute_result"
    }
   ],
   "source": [
    "first_description = reviews['description'][0]\n",
    "\n",
    "# Check your answer\n",
    "q2.check()\n",
    "first_description"
   ]
  },
  {
   "cell_type": "code",
   "execution_count": 6,
   "id": "ad32d8db",
   "metadata": {
    "execution": {
     "iopub.execute_input": "2022-05-10T16:54:24.857365Z",
     "iopub.status.busy": "2022-05-10T16:54:24.856970Z",
     "iopub.status.idle": "2022-05-10T16:54:24.859594Z",
     "shell.execute_reply": "2022-05-10T16:54:24.859044Z"
    },
    "papermill": {
     "duration": 0.030922,
     "end_time": "2022-05-10T16:54:24.861407",
     "exception": false,
     "start_time": "2022-05-10T16:54:24.830485",
     "status": "completed"
    },
    "tags": []
   },
   "outputs": [],
   "source": [
    "#q2.hint()\n",
    "#q2.solution()"
   ]
  },
  {
   "cell_type": "markdown",
   "id": "d7608c45",
   "metadata": {
    "papermill": {
     "duration": 0.024957,
     "end_time": "2022-05-10T16:54:24.911583",
     "exception": false,
     "start_time": "2022-05-10T16:54:24.886626",
     "status": "completed"
    },
    "tags": []
   },
   "source": [
    "## 3. \n",
    "\n",
    "Select the first row of data (the first record) from `reviews`, assigning it to the variable `first_row`."
   ]
  },
  {
   "cell_type": "code",
   "execution_count": 7,
   "id": "88b9c0aa",
   "metadata": {
    "execution": {
     "iopub.execute_input": "2022-05-10T16:54:24.964954Z",
     "iopub.status.busy": "2022-05-10T16:54:24.964530Z",
     "iopub.status.idle": "2022-05-10T16:54:24.971019Z",
     "shell.execute_reply": "2022-05-10T16:54:24.970496Z"
    },
    "papermill": {
     "duration": 0.034762,
     "end_time": "2022-05-10T16:54:24.972652",
     "exception": false,
     "start_time": "2022-05-10T16:54:24.937890",
     "status": "completed"
    },
    "tags": []
   },
   "outputs": [
    {
     "data": {
      "application/javascript": [
       "parent.postMessage({\"jupyterEvent\": \"custom.exercise_interaction\", \"data\": {\"outcomeType\": 4, \"interactionType\": 1, \"questionType\": 1, \"questionId\": \"3_FirstRow\", \"learnToolsVersion\": \"0.3.4\", \"valueTowardsCompletion\": 0.0, \"failureMessage\": \"\", \"exceptionClass\": \"\", \"trace\": \"\"}}, \"*\")"
      ],
      "text/plain": [
       "<IPython.core.display.Javascript object>"
      ]
     },
     "metadata": {},
     "output_type": "display_data"
    },
    {
     "data": {
      "text/markdown": [
       "<span style=\"color:#ccaa33\">Check:</span> When you've updated the starter code, `check()` will tell you whether your code is correct. You need to update the code that creates variable `first_row`"
      ],
      "text/plain": [
       "Check: When you've updated the starter code, `check()` will tell you whether your code is correct. You need to update the code that creates variable `first_row`"
      ]
     },
     "metadata": {},
     "output_type": "display_data"
    },
    {
     "data": {
      "text/markdown": [],
      "text/plain": [
       "<learntools.core.constants.PlaceholderValue at 0x7fd6791635d0>"
      ]
     },
     "execution_count": 7,
     "metadata": {},
     "output_type": "execute_result"
    }
   ],
   "source": [
    "first_row = ____\n",
    "\n",
    "# Check your answer\n",
    "q3.check()\n",
    "first_row"
   ]
  },
  {
   "cell_type": "code",
   "execution_count": 8,
   "id": "b6a7cd90",
   "metadata": {
    "execution": {
     "iopub.execute_input": "2022-05-10T16:54:25.027393Z",
     "iopub.status.busy": "2022-05-10T16:54:25.026690Z",
     "iopub.status.idle": "2022-05-10T16:54:25.029923Z",
     "shell.execute_reply": "2022-05-10T16:54:25.029209Z"
    },
    "papermill": {
     "duration": 0.032692,
     "end_time": "2022-05-10T16:54:25.031837",
     "exception": false,
     "start_time": "2022-05-10T16:54:24.999145",
     "status": "completed"
    },
    "tags": []
   },
   "outputs": [],
   "source": [
    "#q3.hint()\n",
    "#q3.solution()"
   ]
  },
  {
   "cell_type": "markdown",
   "id": "94a43fa8",
   "metadata": {
    "papermill": {
     "duration": 0.026079,
     "end_time": "2022-05-10T16:54:25.084453",
     "exception": false,
     "start_time": "2022-05-10T16:54:25.058374",
     "status": "completed"
    },
    "tags": []
   },
   "source": [
    "## 4.\n",
    "\n",
    "Select the first 10 values from the `description` column in `reviews`, assigning the result to variable `first_descriptions`.\n",
    "\n",
    "Hint: format your output as a pandas Series."
   ]
  },
  {
   "cell_type": "code",
   "execution_count": 9,
   "id": "1da3af08",
   "metadata": {
    "execution": {
     "iopub.execute_input": "2022-05-10T16:54:25.139709Z",
     "iopub.status.busy": "2022-05-10T16:54:25.139255Z",
     "iopub.status.idle": "2022-05-10T16:54:25.146265Z",
     "shell.execute_reply": "2022-05-10T16:54:25.145735Z"
    },
    "papermill": {
     "duration": 0.03662,
     "end_time": "2022-05-10T16:54:25.147866",
     "exception": false,
     "start_time": "2022-05-10T16:54:25.111246",
     "status": "completed"
    },
    "tags": []
   },
   "outputs": [
    {
     "data": {
      "application/javascript": [
       "parent.postMessage({\"jupyterEvent\": \"custom.exercise_interaction\", \"data\": {\"outcomeType\": 4, \"interactionType\": 1, \"questionType\": 1, \"questionId\": \"4_FirstDescs\", \"learnToolsVersion\": \"0.3.4\", \"valueTowardsCompletion\": 0.0, \"failureMessage\": \"\", \"exceptionClass\": \"\", \"trace\": \"\"}}, \"*\")"
      ],
      "text/plain": [
       "<IPython.core.display.Javascript object>"
      ]
     },
     "metadata": {},
     "output_type": "display_data"
    },
    {
     "data": {
      "text/markdown": [
       "<span style=\"color:#ccaa33\">Check:</span> When you've updated the starter code, `check()` will tell you whether your code is correct. You need to update the code that creates variable `first_descriptions`"
      ],
      "text/plain": [
       "Check: When you've updated the starter code, `check()` will tell you whether your code is correct. You need to update the code that creates variable `first_descriptions`"
      ]
     },
     "metadata": {},
     "output_type": "display_data"
    },
    {
     "data": {
      "text/markdown": [],
      "text/plain": [
       "<learntools.core.constants.PlaceholderValue at 0x7fd6791635d0>"
      ]
     },
     "execution_count": 9,
     "metadata": {},
     "output_type": "execute_result"
    }
   ],
   "source": [
    "first_descriptions = ____\n",
    "\n",
    "# Check your answer\n",
    "q4.check()\n",
    "first_descriptions"
   ]
  },
  {
   "cell_type": "code",
   "execution_count": 10,
   "id": "6232abb0",
   "metadata": {
    "execution": {
     "iopub.execute_input": "2022-05-10T16:54:25.204266Z",
     "iopub.status.busy": "2022-05-10T16:54:25.203780Z",
     "iopub.status.idle": "2022-05-10T16:54:25.206555Z",
     "shell.execute_reply": "2022-05-10T16:54:25.206062Z"
    },
    "papermill": {
     "duration": 0.032635,
     "end_time": "2022-05-10T16:54:25.208100",
     "exception": false,
     "start_time": "2022-05-10T16:54:25.175465",
     "status": "completed"
    },
    "tags": []
   },
   "outputs": [],
   "source": [
    "#q4.hint()\n",
    "#q4.solution()"
   ]
  },
  {
   "cell_type": "markdown",
   "id": "664f0f80",
   "metadata": {
    "papermill": {
     "duration": 0.026957,
     "end_time": "2022-05-10T16:54:25.262560",
     "exception": false,
     "start_time": "2022-05-10T16:54:25.235603",
     "status": "completed"
    },
    "tags": []
   },
   "source": [
    "## 5.\n",
    "\n",
    "Select the records with index labels `1`, `2`, `3`, `5`, and `8`, assigning the result to the variable `sample_reviews`.\n",
    "\n",
    "In other words, generate the following DataFrame:\n",
    "\n",
    "![](https://i.imgur.com/sHZvI1O.png)"
   ]
  },
  {
   "cell_type": "code",
   "execution_count": 11,
   "id": "374a37ad",
   "metadata": {
    "execution": {
     "iopub.execute_input": "2022-05-10T16:54:25.319377Z",
     "iopub.status.busy": "2022-05-10T16:54:25.318531Z",
     "iopub.status.idle": "2022-05-10T16:54:25.326009Z",
     "shell.execute_reply": "2022-05-10T16:54:25.325414Z"
    },
    "papermill": {
     "duration": 0.037653,
     "end_time": "2022-05-10T16:54:25.327638",
     "exception": false,
     "start_time": "2022-05-10T16:54:25.289985",
     "status": "completed"
    },
    "tags": []
   },
   "outputs": [
    {
     "data": {
      "application/javascript": [
       "parent.postMessage({\"jupyterEvent\": \"custom.exercise_interaction\", \"data\": {\"outcomeType\": 4, \"interactionType\": 1, \"questionType\": 1, \"questionId\": \"5_SampleReviews\", \"learnToolsVersion\": \"0.3.4\", \"valueTowardsCompletion\": 0.0, \"failureMessage\": \"\", \"exceptionClass\": \"\", \"trace\": \"\"}}, \"*\")"
      ],
      "text/plain": [
       "<IPython.core.display.Javascript object>"
      ]
     },
     "metadata": {},
     "output_type": "display_data"
    },
    {
     "data": {
      "text/markdown": [
       "<span style=\"color:#ccaa33\">Check:</span> When you've updated the starter code, `check()` will tell you whether your code is correct. You need to update the code that creates variable `sample_reviews`"
      ],
      "text/plain": [
       "Check: When you've updated the starter code, `check()` will tell you whether your code is correct. You need to update the code that creates variable `sample_reviews`"
      ]
     },
     "metadata": {},
     "output_type": "display_data"
    },
    {
     "data": {
      "text/markdown": [],
      "text/plain": [
       "<learntools.core.constants.PlaceholderValue at 0x7fd6791635d0>"
      ]
     },
     "execution_count": 11,
     "metadata": {},
     "output_type": "execute_result"
    }
   ],
   "source": [
    "sample_reviews = ____\n",
    "\n",
    "# Check your answer\n",
    "q5.check()\n",
    "sample_reviews"
   ]
  },
  {
   "cell_type": "code",
   "execution_count": 12,
   "id": "62dc06b3",
   "metadata": {
    "execution": {
     "iopub.execute_input": "2022-05-10T16:54:25.386977Z",
     "iopub.status.busy": "2022-05-10T16:54:25.386289Z",
     "iopub.status.idle": "2022-05-10T16:54:25.389299Z",
     "shell.execute_reply": "2022-05-10T16:54:25.388775Z"
    },
    "papermill": {
     "duration": 0.034232,
     "end_time": "2022-05-10T16:54:25.390873",
     "exception": false,
     "start_time": "2022-05-10T16:54:25.356641",
     "status": "completed"
    },
    "tags": []
   },
   "outputs": [],
   "source": [
    "#q5.hint()\n",
    "#q5.solution()"
   ]
  },
  {
   "cell_type": "markdown",
   "id": "c1d5486c",
   "metadata": {
    "papermill": {
     "duration": 0.028429,
     "end_time": "2022-05-10T16:54:25.448577",
     "exception": false,
     "start_time": "2022-05-10T16:54:25.420148",
     "status": "completed"
    },
    "tags": []
   },
   "source": [
    "## 6.\n",
    "\n",
    "Create a variable `df` containing the `country`, `province`, `region_1`, and `region_2` columns of the records with the index labels `0`, `1`, `10`, and `100`. In other words, generate the following DataFrame:\n",
    "\n",
    "![](https://i.imgur.com/FUCGiKP.png)"
   ]
  },
  {
   "cell_type": "code",
   "execution_count": 13,
   "id": "685f3ea8",
   "metadata": {
    "execution": {
     "iopub.execute_input": "2022-05-10T16:54:25.507795Z",
     "iopub.status.busy": "2022-05-10T16:54:25.507301Z",
     "iopub.status.idle": "2022-05-10T16:54:25.515081Z",
     "shell.execute_reply": "2022-05-10T16:54:25.514370Z"
    },
    "papermill": {
     "duration": 0.039365,
     "end_time": "2022-05-10T16:54:25.516637",
     "exception": false,
     "start_time": "2022-05-10T16:54:25.477272",
     "status": "completed"
    },
    "tags": []
   },
   "outputs": [
    {
     "data": {
      "application/javascript": [
       "parent.postMessage({\"jupyterEvent\": \"custom.exercise_interaction\", \"data\": {\"outcomeType\": 4, \"interactionType\": 1, \"questionType\": 1, \"questionId\": \"6_RowColSelect\", \"learnToolsVersion\": \"0.3.4\", \"valueTowardsCompletion\": 0.0, \"failureMessage\": \"\", \"exceptionClass\": \"\", \"trace\": \"\"}}, \"*\")"
      ],
      "text/plain": [
       "<IPython.core.display.Javascript object>"
      ]
     },
     "metadata": {},
     "output_type": "display_data"
    },
    {
     "data": {
      "text/markdown": [
       "<span style=\"color:#ccaa33\">Check:</span> When you've updated the starter code, `check()` will tell you whether your code is correct. You need to update the code that creates variable `df`"
      ],
      "text/plain": [
       "Check: When you've updated the starter code, `check()` will tell you whether your code is correct. You need to update the code that creates variable `df`"
      ]
     },
     "metadata": {},
     "output_type": "display_data"
    },
    {
     "data": {
      "text/markdown": [],
      "text/plain": [
       "<learntools.core.constants.PlaceholderValue at 0x7fd6791635d0>"
      ]
     },
     "execution_count": 13,
     "metadata": {},
     "output_type": "execute_result"
    }
   ],
   "source": [
    "df = ____\n",
    "\n",
    "# Check your answer\n",
    "q6.check()\n",
    "df"
   ]
  },
  {
   "cell_type": "code",
   "execution_count": 14,
   "id": "b5a26156",
   "metadata": {
    "execution": {
     "iopub.execute_input": "2022-05-10T16:54:25.578597Z",
     "iopub.status.busy": "2022-05-10T16:54:25.578114Z",
     "iopub.status.idle": "2022-05-10T16:54:25.581169Z",
     "shell.execute_reply": "2022-05-10T16:54:25.580375Z"
    },
    "papermill": {
     "duration": 0.035953,
     "end_time": "2022-05-10T16:54:25.582793",
     "exception": false,
     "start_time": "2022-05-10T16:54:25.546840",
     "status": "completed"
    },
    "tags": []
   },
   "outputs": [],
   "source": [
    "#q6.hint()\n",
    "#q6.solution()"
   ]
  },
  {
   "cell_type": "markdown",
   "id": "3acc3f91",
   "metadata": {
    "papermill": {
     "duration": 0.030267,
     "end_time": "2022-05-10T16:54:25.643645",
     "exception": false,
     "start_time": "2022-05-10T16:54:25.613378",
     "status": "completed"
    },
    "tags": []
   },
   "source": [
    "## 7.\n",
    "\n",
    "Create a variable `df` containing the `country` and `variety` columns of the first 100 records. \n",
    "\n",
    "Hint: you may use `loc` or `iloc`. When working on the answer this question and the several of the ones that follow, keep the following \"gotcha\" described in the tutorial:\n",
    "\n",
    "> `iloc` uses the Python stdlib indexing scheme, where the first element of the range is included and the last one excluded. \n",
    "`loc`, meanwhile, indexes inclusively. \n",
    "\n",
    "> This is particularly confusing when the DataFrame index is a simple numerical list, e.g. `0,...,1000`. In this case `df.iloc[0:1000]` will return 1000 entries, while `df.loc[0:1000]` return 1001 of them! To get 1000 elements using `loc`, you will need to go one lower and ask for `df.iloc[0:999]`. "
   ]
  },
  {
   "cell_type": "code",
   "execution_count": 15,
   "id": "6bb25fc0",
   "metadata": {
    "execution": {
     "iopub.execute_input": "2022-05-10T16:54:25.706501Z",
     "iopub.status.busy": "2022-05-10T16:54:25.705984Z",
     "iopub.status.idle": "2022-05-10T16:54:25.712735Z",
     "shell.execute_reply": "2022-05-10T16:54:25.712218Z"
    },
    "papermill": {
     "duration": 0.039547,
     "end_time": "2022-05-10T16:54:25.714237",
     "exception": false,
     "start_time": "2022-05-10T16:54:25.674690",
     "status": "completed"
    },
    "tags": []
   },
   "outputs": [
    {
     "data": {
      "application/javascript": [
       "parent.postMessage({\"jupyterEvent\": \"custom.exercise_interaction\", \"data\": {\"outcomeType\": 4, \"interactionType\": 1, \"questionType\": 1, \"questionId\": \"7_RowColSelect2\", \"learnToolsVersion\": \"0.3.4\", \"valueTowardsCompletion\": 0.0, \"failureMessage\": \"\", \"exceptionClass\": \"\", \"trace\": \"\"}}, \"*\")"
      ],
      "text/plain": [
       "<IPython.core.display.Javascript object>"
      ]
     },
     "metadata": {},
     "output_type": "display_data"
    },
    {
     "data": {
      "text/markdown": [
       "<span style=\"color:#ccaa33\">Check:</span> When you've updated the starter code, `check()` will tell you whether your code is correct. You need to update the code that creates variable `df`"
      ],
      "text/plain": [
       "Check: When you've updated the starter code, `check()` will tell you whether your code is correct. You need to update the code that creates variable `df`"
      ]
     },
     "metadata": {},
     "output_type": "display_data"
    },
    {
     "data": {
      "text/markdown": [],
      "text/plain": [
       "<learntools.core.constants.PlaceholderValue at 0x7fd6791635d0>"
      ]
     },
     "execution_count": 15,
     "metadata": {},
     "output_type": "execute_result"
    }
   ],
   "source": [
    "df = ____\n",
    "\n",
    "# Check your answer\n",
    "q7.check()\n",
    "df"
   ]
  },
  {
   "cell_type": "code",
   "execution_count": 16,
   "id": "87d2a761",
   "metadata": {
    "execution": {
     "iopub.execute_input": "2022-05-10T16:54:25.778286Z",
     "iopub.status.busy": "2022-05-10T16:54:25.777802Z",
     "iopub.status.idle": "2022-05-10T16:54:25.780529Z",
     "shell.execute_reply": "2022-05-10T16:54:25.780020Z"
    },
    "papermill": {
     "duration": 0.036717,
     "end_time": "2022-05-10T16:54:25.782055",
     "exception": false,
     "start_time": "2022-05-10T16:54:25.745338",
     "status": "completed"
    },
    "tags": []
   },
   "outputs": [],
   "source": [
    "#q7.hint()\n",
    "#q7.solution()"
   ]
  },
  {
   "cell_type": "markdown",
   "id": "49fa9afc",
   "metadata": {
    "papermill": {
     "duration": 0.030617,
     "end_time": "2022-05-10T16:54:25.843619",
     "exception": false,
     "start_time": "2022-05-10T16:54:25.813002",
     "status": "completed"
    },
    "tags": []
   },
   "source": [
    "## 8.\n",
    "\n",
    "Create a DataFrame `italian_wines` containing reviews of wines made in `Italy`. Hint: `reviews.country` equals what?"
   ]
  },
  {
   "cell_type": "code",
   "execution_count": 17,
   "id": "5319c9de",
   "metadata": {
    "execution": {
     "iopub.execute_input": "2022-05-10T16:54:25.907310Z",
     "iopub.status.busy": "2022-05-10T16:54:25.906785Z",
     "iopub.status.idle": "2022-05-10T16:54:25.913213Z",
     "shell.execute_reply": "2022-05-10T16:54:25.912431Z"
    },
    "papermill": {
     "duration": 0.04028,
     "end_time": "2022-05-10T16:54:25.914777",
     "exception": false,
     "start_time": "2022-05-10T16:54:25.874497",
     "status": "completed"
    },
    "tags": []
   },
   "outputs": [
    {
     "data": {
      "application/javascript": [
       "parent.postMessage({\"jupyterEvent\": \"custom.exercise_interaction\", \"data\": {\"outcomeType\": 4, \"interactionType\": 1, \"questionType\": 1, \"questionId\": \"8_ItalianWines\", \"learnToolsVersion\": \"0.3.4\", \"valueTowardsCompletion\": 0.0, \"failureMessage\": \"\", \"exceptionClass\": \"\", \"trace\": \"\"}}, \"*\")"
      ],
      "text/plain": [
       "<IPython.core.display.Javascript object>"
      ]
     },
     "metadata": {},
     "output_type": "display_data"
    },
    {
     "data": {
      "text/markdown": [
       "<span style=\"color:#ccaa33\">Check:</span> When you've updated the starter code, `check()` will tell you whether your code is correct. You need to update the code that creates variable `italian_wines`"
      ],
      "text/plain": [
       "Check: When you've updated the starter code, `check()` will tell you whether your code is correct. You need to update the code that creates variable `italian_wines`"
      ]
     },
     "metadata": {},
     "output_type": "display_data"
    }
   ],
   "source": [
    "italian_wines = ____\n",
    "\n",
    "# Check your answer\n",
    "q8.check()"
   ]
  },
  {
   "cell_type": "code",
   "execution_count": 18,
   "id": "b3ad0853",
   "metadata": {
    "execution": {
     "iopub.execute_input": "2022-05-10T16:54:25.980662Z",
     "iopub.status.busy": "2022-05-10T16:54:25.980148Z",
     "iopub.status.idle": "2022-05-10T16:54:25.983102Z",
     "shell.execute_reply": "2022-05-10T16:54:25.982398Z"
    },
    "papermill": {
     "duration": 0.037877,
     "end_time": "2022-05-10T16:54:25.984740",
     "exception": false,
     "start_time": "2022-05-10T16:54:25.946863",
     "status": "completed"
    },
    "tags": []
   },
   "outputs": [],
   "source": [
    "#q8.hint()\n",
    "#q8.solution()"
   ]
  },
  {
   "cell_type": "markdown",
   "id": "d0876c23",
   "metadata": {
    "papermill": {
     "duration": 0.031948,
     "end_time": "2022-05-10T16:54:26.048879",
     "exception": false,
     "start_time": "2022-05-10T16:54:26.016931",
     "status": "completed"
    },
    "tags": []
   },
   "source": [
    "## 9.\n",
    "\n",
    "Create a DataFrame `top_oceania_wines` containing all reviews with at least 95 points (out of 100) for wines from Australia or New Zealand."
   ]
  },
  {
   "cell_type": "code",
   "execution_count": 19,
   "id": "63edcc57",
   "metadata": {
    "execution": {
     "iopub.execute_input": "2022-05-10T16:54:26.116527Z",
     "iopub.status.busy": "2022-05-10T16:54:26.115989Z",
     "iopub.status.idle": "2022-05-10T16:54:26.124523Z",
     "shell.execute_reply": "2022-05-10T16:54:26.123926Z"
    },
    "papermill": {
     "duration": 0.044345,
     "end_time": "2022-05-10T16:54:26.126156",
     "exception": false,
     "start_time": "2022-05-10T16:54:26.081811",
     "status": "completed"
    },
    "tags": []
   },
   "outputs": [
    {
     "data": {
      "application/javascript": [
       "parent.postMessage({\"jupyterEvent\": \"custom.exercise_interaction\", \"data\": {\"outcomeType\": 4, \"interactionType\": 1, \"questionType\": 1, \"questionId\": \"9_TopOceanicWines\", \"learnToolsVersion\": \"0.3.4\", \"valueTowardsCompletion\": 0.0, \"failureMessage\": \"\", \"exceptionClass\": \"\", \"trace\": \"\"}}, \"*\")"
      ],
      "text/plain": [
       "<IPython.core.display.Javascript object>"
      ]
     },
     "metadata": {},
     "output_type": "display_data"
    },
    {
     "data": {
      "text/markdown": [
       "<span style=\"color:#ccaa33\">Check:</span> When you've updated the starter code, `check()` will tell you whether your code is correct. You need to update the code that creates variable `top_oceania_wines`"
      ],
      "text/plain": [
       "Check: When you've updated the starter code, `check()` will tell you whether your code is correct. You need to update the code that creates variable `top_oceania_wines`"
      ]
     },
     "metadata": {},
     "output_type": "display_data"
    },
    {
     "data": {
      "text/markdown": [],
      "text/plain": [
       "<learntools.core.constants.PlaceholderValue at 0x7fd6791635d0>"
      ]
     },
     "execution_count": 19,
     "metadata": {},
     "output_type": "execute_result"
    }
   ],
   "source": [
    "top_oceania_wines = ____\n",
    "\n",
    "# Check your answer\n",
    "q9.check()\n",
    "top_oceania_wines"
   ]
  },
  {
   "cell_type": "code",
   "execution_count": 20,
   "id": "097ecbe7",
   "metadata": {
    "execution": {
     "iopub.execute_input": "2022-05-10T16:54:26.195677Z",
     "iopub.status.busy": "2022-05-10T16:54:26.195159Z",
     "iopub.status.idle": "2022-05-10T16:54:26.198524Z",
     "shell.execute_reply": "2022-05-10T16:54:26.197974Z"
    },
    "papermill": {
     "duration": 0.039768,
     "end_time": "2022-05-10T16:54:26.200251",
     "exception": false,
     "start_time": "2022-05-10T16:54:26.160483",
     "status": "completed"
    },
    "tags": []
   },
   "outputs": [],
   "source": [
    "#q9.hint()\n",
    "#q9.solution()"
   ]
  },
  {
   "cell_type": "markdown",
   "id": "d358af8b",
   "metadata": {
    "papermill": {
     "duration": 0.032909,
     "end_time": "2022-05-10T16:54:26.266326",
     "exception": false,
     "start_time": "2022-05-10T16:54:26.233417",
     "status": "completed"
    },
    "tags": []
   },
   "source": [
    "# Keep going\n",
    "\n",
    "Move on to learn about **[summary functions and maps](https://www.kaggle.com/residentmario/summary-functions-and-maps)**."
   ]
  },
  {
   "cell_type": "markdown",
   "id": "0b6692c0",
   "metadata": {
    "papermill": {
     "duration": 0.038524,
     "end_time": "2022-05-10T16:54:26.337874",
     "exception": false,
     "start_time": "2022-05-10T16:54:26.299350",
     "status": "completed"
    },
    "tags": []
   },
   "source": [
    "---\n",
    "\n",
    "\n",
    "\n",
    "\n",
    "*Have questions or comments? Visit the [course discussion forum](https://www.kaggle.com/learn/pandas/discussion) to chat with other learners.*"
   ]
  }
 ],
 "metadata": {
  "kernelspec": {
   "display_name": "Python 3",
   "language": "python",
   "name": "python3"
  },
  "language_info": {
   "codemirror_mode": {
    "name": "ipython",
    "version": 3
   },
   "file_extension": ".py",
   "mimetype": "text/x-python",
   "name": "python",
   "nbconvert_exporter": "python",
   "pygments_lexer": "ipython3",
   "version": "3.7.12"
  },
  "papermill": {
   "default_parameters": {},
   "duration": 13.963252,
   "end_time": "2022-05-10T16:54:26.990862",
   "environment_variables": {},
   "exception": null,
   "input_path": "__notebook__.ipynb",
   "output_path": "__notebook__.ipynb",
   "parameters": {},
   "start_time": "2022-05-10T16:54:13.027610",
   "version": "2.3.4"
  }
 },
 "nbformat": 4,
 "nbformat_minor": 5
}
