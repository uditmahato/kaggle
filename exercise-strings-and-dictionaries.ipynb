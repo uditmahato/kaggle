{
 "cells": [
  {
   "cell_type": "markdown",
   "id": "0448c56d",
   "metadata": {
    "papermill": {
     "duration": 0.022493,
     "end_time": "2022-04-19T04:22:21.783871",
     "exception": false,
     "start_time": "2022-04-19T04:22:21.761378",
     "status": "completed"
    },
    "tags": []
   },
   "source": [
    "**This notebook is an exercise in the [Python](https://www.kaggle.com/learn/python) course.  You can reference the tutorial at [this link](https://www.kaggle.com/colinmorris/strings-and-dictionaries).**\n",
    "\n",
    "---\n"
   ]
  },
  {
   "cell_type": "markdown",
   "id": "bada56be",
   "metadata": {
    "papermill": {
     "duration": 0.019656,
     "end_time": "2022-04-19T04:22:21.823719",
     "exception": false,
     "start_time": "2022-04-19T04:22:21.804063",
     "status": "completed"
    },
    "tags": []
   },
   "source": [
    "You are almost done with the course. Nice job!\n",
    "\n",
    "We have a couple more interesting problems for you before you go. \n",
    "\n",
    "As always, run the setup code below before working on the questions."
   ]
  },
  {
   "cell_type": "code",
   "execution_count": 1,
   "id": "48dea991",
   "metadata": {
    "execution": {
     "iopub.execute_input": "2022-04-19T04:22:21.866789Z",
     "iopub.status.busy": "2022-04-19T04:22:21.866103Z",
     "iopub.status.idle": "2022-04-19T04:22:21.927900Z",
     "shell.execute_reply": "2022-04-19T04:22:21.927037Z"
    },
    "papermill": {
     "duration": 0.08691,
     "end_time": "2022-04-19T04:22:21.930569",
     "exception": false,
     "start_time": "2022-04-19T04:22:21.843659",
     "status": "completed"
    },
    "tags": []
   },
   "outputs": [
    {
     "name": "stdout",
     "output_type": "stream",
     "text": [
      "Setup complete.\n"
     ]
    }
   ],
   "source": [
    "from learntools.core import binder; binder.bind(globals())\n",
    "from learntools.python.ex6 import *\n",
    "print('Setup complete.')"
   ]
  },
  {
   "cell_type": "markdown",
   "id": "926b3817",
   "metadata": {
    "papermill": {
     "duration": 0.02089,
     "end_time": "2022-04-19T04:22:21.973953",
     "exception": false,
     "start_time": "2022-04-19T04:22:21.953063",
     "status": "completed"
    },
    "tags": []
   },
   "source": [
    "Let's start with a string lightning round to warm up. What are the lengths of the strings below?\n",
    "\n",
    "For each of the five strings below, predict what `len()` would return when passed that string. Use the variable `length` to record your answer, then run the cell to check whether you were right.  \n",
    "\n",
    "# 0a."
   ]
  },
  {
   "cell_type": "code",
   "execution_count": 2,
   "id": "05e08453",
   "metadata": {
    "execution": {
     "iopub.execute_input": "2022-04-19T04:22:22.018291Z",
     "iopub.status.busy": "2022-04-19T04:22:22.017710Z",
     "iopub.status.idle": "2022-04-19T04:22:22.026737Z",
     "shell.execute_reply": "2022-04-19T04:22:22.026172Z"
    },
    "papermill": {
     "duration": 0.034287,
     "end_time": "2022-04-19T04:22:22.029209",
     "exception": false,
     "start_time": "2022-04-19T04:22:21.994922",
     "status": "completed"
    },
    "tags": []
   },
   "outputs": [
    {
     "data": {
      "application/javascript": [
       "parent.postMessage({\"jupyterEvent\": \"custom.exercise_interaction\", \"data\": {\"outcomeType\": 1, \"valueTowardsCompletion\": 0.3333333333333333, \"interactionType\": 1, \"questionType\": 1, \"questionId\": \"0.1_ZA\", \"learnToolsVersion\": \"0.3.4\", \"failureMessage\": \"\", \"exceptionClass\": \"\", \"trace\": \"\"}}, \"*\")"
      ],
      "text/plain": [
       "<IPython.core.display.Javascript object>"
      ]
     },
     "metadata": {},
     "output_type": "display_data"
    },
    {
     "data": {
      "text/markdown": [
       "<span style=\"color:#33cc33\">Correct:</span> \n",
       "\n",
       "The empty string has length zero. Note that the empty string is also the only string that Python considers as False when converting to boolean."
      ],
      "text/plain": [
       "Correct: \n",
       "\n",
       "The empty string has length zero. Note that the empty string is also the only string that Python considers as False when converting to boolean."
      ]
     },
     "metadata": {},
     "output_type": "display_data"
    }
   ],
   "source": [
    "a = \"\"\n",
    "length = len(a)\n",
    "q0.a.check()"
   ]
  },
  {
   "cell_type": "markdown",
   "id": "a854558f",
   "metadata": {
    "papermill": {
     "duration": 0.021591,
     "end_time": "2022-04-19T04:22:22.073301",
     "exception": false,
     "start_time": "2022-04-19T04:22:22.051710",
     "status": "completed"
    },
    "tags": []
   },
   "source": [
    "# 0b."
   ]
  },
  {
   "cell_type": "code",
   "execution_count": 3,
   "id": "4e9bbba1",
   "metadata": {
    "execution": {
     "iopub.execute_input": "2022-04-19T04:22:22.119830Z",
     "iopub.status.busy": "2022-04-19T04:22:22.119283Z",
     "iopub.status.idle": "2022-04-19T04:22:22.125932Z",
     "shell.execute_reply": "2022-04-19T04:22:22.125279Z"
    },
    "papermill": {
     "duration": 0.032407,
     "end_time": "2022-04-19T04:22:22.127911",
     "exception": false,
     "start_time": "2022-04-19T04:22:22.095504",
     "status": "completed"
    },
    "tags": []
   },
   "outputs": [
    {
     "data": {
      "application/javascript": [
       "parent.postMessage({\"jupyterEvent\": \"custom.exercise_interaction\", \"data\": {\"outcomeType\": 1, \"valueTowardsCompletion\": 0.3333333333333333, \"interactionType\": 1, \"questionType\": 1, \"questionId\": \"0.2_ZB\", \"learnToolsVersion\": \"0.3.4\", \"failureMessage\": \"\", \"exceptionClass\": \"\", \"trace\": \"\"}}, \"*\")"
      ],
      "text/plain": [
       "<IPython.core.display.Javascript object>"
      ]
     },
     "metadata": {},
     "output_type": "display_data"
    },
    {
     "data": {
      "text/markdown": [
       "<span style=\"color:#33cc33\">Correct:</span> \n",
       "\n",
       "Keep in mind Python includes spaces (and punctuation) when counting string length."
      ],
      "text/plain": [
       "Correct: \n",
       "\n",
       "Keep in mind Python includes spaces (and punctuation) when counting string length."
      ]
     },
     "metadata": {},
     "output_type": "display_data"
    }
   ],
   "source": [
    "b = \"it's ok\"\n",
    "length = len(b)\n",
    "q0.b.check()"
   ]
  },
  {
   "cell_type": "markdown",
   "id": "34cb0849",
   "metadata": {
    "papermill": {
     "duration": 0.023107,
     "end_time": "2022-04-19T04:22:22.174756",
     "exception": false,
     "start_time": "2022-04-19T04:22:22.151649",
     "status": "completed"
    },
    "tags": []
   },
   "source": [
    "# 0c."
   ]
  },
  {
   "cell_type": "code",
   "execution_count": 4,
   "id": "8672e221",
   "metadata": {
    "execution": {
     "iopub.execute_input": "2022-04-19T04:22:22.226073Z",
     "iopub.status.busy": "2022-04-19T04:22:22.225537Z",
     "iopub.status.idle": "2022-04-19T04:22:22.233947Z",
     "shell.execute_reply": "2022-04-19T04:22:22.233067Z"
    },
    "papermill": {
     "duration": 0.037834,
     "end_time": "2022-04-19T04:22:22.236184",
     "exception": false,
     "start_time": "2022-04-19T04:22:22.198350",
     "status": "completed"
    },
    "tags": []
   },
   "outputs": [
    {
     "data": {
      "application/javascript": [
       "parent.postMessage({\"jupyterEvent\": \"custom.exercise_interaction\", \"data\": {\"outcomeType\": 1, \"valueTowardsCompletion\": 0.3333333333333333, \"interactionType\": 1, \"questionType\": 1, \"questionId\": \"0.3_ZC\", \"learnToolsVersion\": \"0.3.4\", \"failureMessage\": \"\", \"exceptionClass\": \"\", \"trace\": \"\"}}, \"*\")"
      ],
      "text/plain": [
       "<IPython.core.display.Javascript object>"
      ]
     },
     "metadata": {},
     "output_type": "display_data"
    },
    {
     "data": {
      "text/markdown": [
       "<span style=\"color:#33cc33\">Correct:</span> \n",
       "\n",
       "Even though we use different syntax to create it, the string `c` is identical to `b`. In particular, note that the backslash is not part of the string, so it doesn't contribute to its length."
      ],
      "text/plain": [
       "Correct: \n",
       "\n",
       "Even though we use different syntax to create it, the string `c` is identical to `b`. In particular, note that the backslash is not part of the string, so it doesn't contribute to its length."
      ]
     },
     "metadata": {},
     "output_type": "display_data"
    }
   ],
   "source": [
    "c = 'it\\'s ok'\n",
    "length = len(c)\n",
    "q0.c.check()"
   ]
  },
  {
   "cell_type": "markdown",
   "id": "bef5fca4",
   "metadata": {
    "papermill": {
     "duration": 0.024121,
     "end_time": "2022-04-19T04:22:22.285283",
     "exception": false,
     "start_time": "2022-04-19T04:22:22.261162",
     "status": "completed"
    },
    "tags": []
   },
   "source": [
    "# 0d."
   ]
  },
  {
   "cell_type": "code",
   "execution_count": 5,
   "id": "7b8a8d24",
   "metadata": {
    "execution": {
     "iopub.execute_input": "2022-04-19T04:22:22.336400Z",
     "iopub.status.busy": "2022-04-19T04:22:22.335589Z",
     "iopub.status.idle": "2022-04-19T04:22:22.346677Z",
     "shell.execute_reply": "2022-04-19T04:22:22.345487Z"
    },
    "papermill": {
     "duration": 0.039524,
     "end_time": "2022-04-19T04:22:22.349207",
     "exception": false,
     "start_time": "2022-04-19T04:22:22.309683",
     "status": "completed"
    },
    "tags": []
   },
   "outputs": [
    {
     "data": {
      "application/javascript": [
       "parent.postMessage({\"jupyterEvent\": \"custom.exercise_interaction\", \"data\": {\"outcomeType\": 1, \"valueTowardsCompletion\": 0.3333333333333333, \"interactionType\": 1, \"questionType\": 1, \"questionId\": \"0.4_ZD\", \"learnToolsVersion\": \"0.3.4\", \"failureMessage\": \"\", \"exceptionClass\": \"\", \"trace\": \"\"}}, \"*\")"
      ],
      "text/plain": [
       "<IPython.core.display.Javascript object>"
      ]
     },
     "metadata": {},
     "output_type": "display_data"
    },
    {
     "data": {
      "text/markdown": [
       "<span style=\"color:#33cc33\">Correct:</span> \n",
       "\n",
       "The fact that this string was created using triple-quote syntax doesn't make any difference in terms of its content or length. This string is exactly the same as `'hey'`."
      ],
      "text/plain": [
       "Correct: \n",
       "\n",
       "The fact that this string was created using triple-quote syntax doesn't make any difference in terms of its content or length. This string is exactly the same as `'hey'`."
      ]
     },
     "metadata": {},
     "output_type": "display_data"
    }
   ],
   "source": [
    "d = \"\"\"hey\"\"\"\n",
    "length = len(d)\n",
    "q0.d.check()"
   ]
  },
  {
   "cell_type": "markdown",
   "id": "695c4fe6",
   "metadata": {
    "papermill": {
     "duration": 0.026958,
     "end_time": "2022-04-19T04:22:22.402436",
     "exception": false,
     "start_time": "2022-04-19T04:22:22.375478",
     "status": "completed"
    },
    "tags": []
   },
   "source": [
    "# 0e."
   ]
  },
  {
   "cell_type": "code",
   "execution_count": 6,
   "id": "d50fc6d8",
   "metadata": {
    "execution": {
     "iopub.execute_input": "2022-04-19T04:22:22.456744Z",
     "iopub.status.busy": "2022-04-19T04:22:22.456437Z",
     "iopub.status.idle": "2022-04-19T04:22:22.466202Z",
     "shell.execute_reply": "2022-04-19T04:22:22.464978Z"
    },
    "papermill": {
     "duration": 0.039365,
     "end_time": "2022-04-19T04:22:22.468517",
     "exception": false,
     "start_time": "2022-04-19T04:22:22.429152",
     "status": "completed"
    },
    "tags": []
   },
   "outputs": [
    {
     "data": {
      "application/javascript": [
       "parent.postMessage({\"jupyterEvent\": \"custom.exercise_interaction\", \"data\": {\"outcomeType\": 1, \"valueTowardsCompletion\": 0.3333333333333333, \"interactionType\": 1, \"questionType\": 1, \"questionId\": \"0.5_ZE\", \"learnToolsVersion\": \"0.3.4\", \"failureMessage\": \"\", \"exceptionClass\": \"\", \"trace\": \"\"}}, \"*\")"
      ],
      "text/plain": [
       "<IPython.core.display.Javascript object>"
      ]
     },
     "metadata": {},
     "output_type": "display_data"
    },
    {
     "data": {
      "text/markdown": [
       "<span style=\"color:#33cc33\">Correct:</span> \n",
       "\n",
       "The newline character is just a single character! (Even though we represent it to Python using a combination of two characters.)"
      ],
      "text/plain": [
       "Correct: \n",
       "\n",
       "The newline character is just a single character! (Even though we represent it to Python using a combination of two characters.)"
      ]
     },
     "metadata": {},
     "output_type": "display_data"
    }
   ],
   "source": [
    "e = '\\n'\n",
    "length =len(e)\n",
    "q0.e.check()"
   ]
  },
  {
   "cell_type": "markdown",
   "id": "a2dff9d4",
   "metadata": {
    "papermill": {
     "duration": 0.02819,
     "end_time": "2022-04-19T04:22:22.523893",
     "exception": false,
     "start_time": "2022-04-19T04:22:22.495703",
     "status": "completed"
    },
    "tags": []
   },
   "source": [
    "# 1.\n",
    "\n",
    "There is a saying that \"Data scientists spend 80% of their time cleaning data, and 20% of their time complaining about cleaning data.\" Let's see if you can write a function to help clean US zip code data. Given a string, it should return whether or not that string represents a valid zip code. For our purposes, a valid zip code is any string consisting of exactly 5 digits.\n",
    "\n",
    "HINT: `str` has a method that will be useful here. Use `help(str)` to review a list of string methods."
   ]
  },
  {
   "cell_type": "code",
   "execution_count": 7,
   "id": "d8563294",
   "metadata": {
    "execution": {
     "iopub.execute_input": "2022-04-19T04:22:22.581696Z",
     "iopub.status.busy": "2022-04-19T04:22:22.581005Z",
     "iopub.status.idle": "2022-04-19T04:22:22.589187Z",
     "shell.execute_reply": "2022-04-19T04:22:22.588222Z"
    },
    "papermill": {
     "duration": 0.039861,
     "end_time": "2022-04-19T04:22:22.591508",
     "exception": false,
     "start_time": "2022-04-19T04:22:22.551647",
     "status": "completed"
    },
    "tags": []
   },
   "outputs": [
    {
     "data": {
      "application/javascript": [
       "parent.postMessage({\"jupyterEvent\": \"custom.exercise_interaction\", \"data\": {\"outcomeType\": 1, \"valueTowardsCompletion\": 0.3333333333333333, \"interactionType\": 1, \"questionType\": 2, \"questionId\": \"1_ZipValidator\", \"learnToolsVersion\": \"0.3.4\", \"failureMessage\": \"\", \"exceptionClass\": \"\", \"trace\": \"\"}}, \"*\")"
      ],
      "text/plain": [
       "<IPython.core.display.Javascript object>"
      ]
     },
     "metadata": {},
     "output_type": "display_data"
    },
    {
     "data": {
      "text/markdown": [
       "<span style=\"color:#33cc33\">Correct</span>"
      ],
      "text/plain": [
       "Correct"
      ]
     },
     "metadata": {},
     "output_type": "display_data"
    }
   ],
   "source": [
    "def is_valid_zip(zip_code):\n",
    "    \"\"\"Returns whether the input string is a valid (5 digit) zip code\n",
    "    \"\"\"\n",
    "    return len(zip_code) == 5 and zip_code.isdigit()\n",
    "\n",
    "# Check your answer\n",
    "q1.check()"
   ]
  },
  {
   "cell_type": "code",
   "execution_count": 8,
   "id": "0aa5aa2f",
   "metadata": {
    "execution": {
     "iopub.execute_input": "2022-04-19T04:22:22.650256Z",
     "iopub.status.busy": "2022-04-19T04:22:22.649945Z",
     "iopub.status.idle": "2022-04-19T04:22:22.654213Z",
     "shell.execute_reply": "2022-04-19T04:22:22.653250Z"
    },
    "papermill": {
     "duration": 0.036374,
     "end_time": "2022-04-19T04:22:22.656404",
     "exception": false,
     "start_time": "2022-04-19T04:22:22.620030",
     "status": "completed"
    },
    "tags": []
   },
   "outputs": [],
   "source": [
    "# q1.hint()\n",
    "# q1.solution()"
   ]
  },
  {
   "cell_type": "markdown",
   "id": "f7b0d28d",
   "metadata": {
    "papermill": {
     "duration": 0.027744,
     "end_time": "2022-04-19T04:22:22.712674",
     "exception": false,
     "start_time": "2022-04-19T04:22:22.684930",
     "status": "completed"
    },
    "tags": []
   },
   "source": [
    "# 2.\n",
    "\n",
    "A researcher has gathered thousands of news articles. But she wants to focus her attention on articles including a specific word. Complete the function below to help her filter her list of articles.\n",
    "\n",
    "Your function should meet the following criteria:\n",
    "\n",
    "- Do not include documents where the keyword string shows up only as a part of a larger word. For example, if she were looking for the keyword “closed”, you would not include the string “enclosed.” \n",
    "- She does not want you to distinguish upper case from lower case letters. So the phrase “Closed the case.” would be included when the keyword is “closed”\n",
    "- Do not let periods or commas affect what is matched. “It is closed.” would be included when the keyword is “closed”. But you can assume there are no other types of punctuation."
   ]
  },
  {
   "cell_type": "code",
   "execution_count": 9,
   "id": "5102cd5f",
   "metadata": {
    "execution": {
     "iopub.execute_input": "2022-04-19T04:22:22.773122Z",
     "iopub.status.busy": "2022-04-19T04:22:22.772524Z",
     "iopub.status.idle": "2022-04-19T04:22:22.783535Z",
     "shell.execute_reply": "2022-04-19T04:22:22.782598Z"
    },
    "papermill": {
     "duration": 0.044512,
     "end_time": "2022-04-19T04:22:22.785767",
     "exception": false,
     "start_time": "2022-04-19T04:22:22.741255",
     "status": "completed"
    },
    "tags": []
   },
   "outputs": [
    {
     "data": {
      "application/javascript": [
       "parent.postMessage({\"jupyterEvent\": \"custom.exercise_interaction\", \"data\": {\"outcomeType\": 1, \"valueTowardsCompletion\": 0.3333333333333333, \"interactionType\": 1, \"questionType\": 2, \"questionId\": \"2_WordSearch\", \"learnToolsVersion\": \"0.3.4\", \"failureMessage\": \"\", \"exceptionClass\": \"\", \"trace\": \"\"}}, \"*\")"
      ],
      "text/plain": [
       "<IPython.core.display.Javascript object>"
      ]
     },
     "metadata": {},
     "output_type": "display_data"
    },
    {
     "data": {
      "text/markdown": [
       "<span style=\"color:#33cc33\">Correct</span>"
      ],
      "text/plain": [
       "Correct"
      ]
     },
     "metadata": {},
     "output_type": "display_data"
    }
   ],
   "source": [
    "def word_search(doc_list, keyword):\n",
    "    # list to hold the indices of matching documents\n",
    "    indices = [] \n",
    "    # Iterate through the indices (i) and elements (doc) of documents\n",
    "    for i, doc in enumerate(doc_list):\n",
    "        # Split the string doc into a list of words (according to whitespace)\n",
    "        tokens = doc.split()\n",
    "        # Make a transformed list where we 'normalize' each word to facilitate matching.\n",
    "        # Periods and commas are removed from the end of each word, and it's set to all lowercase.\n",
    "        normalized = [token.rstrip('.,').lower() for token in tokens]\n",
    "        # Is there a match? If so, update the list of matching indices.\n",
    "        if keyword.lower() in normalized:\n",
    "            indices.append(i)\n",
    "    return indices\n",
    "q2.check()\n"
   ]
  },
  {
   "cell_type": "code",
   "execution_count": 10,
   "id": "d7aac57c",
   "metadata": {
    "execution": {
     "iopub.execute_input": "2022-04-19T04:22:22.849104Z",
     "iopub.status.busy": "2022-04-19T04:22:22.848800Z",
     "iopub.status.idle": "2022-04-19T04:22:22.852657Z",
     "shell.execute_reply": "2022-04-19T04:22:22.851723Z"
    },
    "papermill": {
     "duration": 0.038659,
     "end_time": "2022-04-19T04:22:22.854952",
     "exception": false,
     "start_time": "2022-04-19T04:22:22.816293",
     "status": "completed"
    },
    "tags": []
   },
   "outputs": [],
   "source": [
    "# q2.hint()\n",
    "# q2.solution()"
   ]
  },
  {
   "cell_type": "markdown",
   "id": "ed0c4a12",
   "metadata": {
    "papermill": {
     "duration": 0.029151,
     "end_time": "2022-04-19T04:22:22.913659",
     "exception": false,
     "start_time": "2022-04-19T04:22:22.884508",
     "status": "completed"
    },
    "tags": []
   },
   "source": [
    "# 3.\n",
    "\n",
    "Now the researcher wants to supply multiple keywords to search for. Complete the function below to help her.\n",
    "\n",
    "(You're encouraged to use the `word_search` function you just wrote when implementing this function. Reusing code in this way makes your programs more robust and readable - and it saves typing!)"
   ]
  },
  {
   "cell_type": "code",
   "execution_count": 11,
   "id": "2204813d",
   "metadata": {
    "execution": {
     "iopub.execute_input": "2022-04-19T04:22:22.975313Z",
     "iopub.status.busy": "2022-04-19T04:22:22.974955Z",
     "iopub.status.idle": "2022-04-19T04:22:22.984433Z",
     "shell.execute_reply": "2022-04-19T04:22:22.983568Z"
    },
    "papermill": {
     "duration": 0.043844,
     "end_time": "2022-04-19T04:22:22.987773",
     "exception": false,
     "start_time": "2022-04-19T04:22:22.943929",
     "status": "completed"
    },
    "tags": []
   },
   "outputs": [
    {
     "data": {
      "application/javascript": [
       "parent.postMessage({\"jupyterEvent\": \"custom.exercise_interaction\", \"data\": {\"outcomeType\": 1, \"valueTowardsCompletion\": 0.3333333333333333, \"interactionType\": 1, \"questionType\": 2, \"questionId\": \"3_MultiWordSearch\", \"learnToolsVersion\": \"0.3.4\", \"failureMessage\": \"\", \"exceptionClass\": \"\", \"trace\": \"\"}}, \"*\")"
      ],
      "text/plain": [
       "<IPython.core.display.Javascript object>"
      ]
     },
     "metadata": {},
     "output_type": "display_data"
    },
    {
     "data": {
      "text/markdown": [
       "<span style=\"color:#33cc33\">Correct</span>"
      ],
      "text/plain": [
       "Correct"
      ]
     },
     "metadata": {},
     "output_type": "display_data"
    }
   ],
   "source": [
    "def multi_word_search(documents, keywords):\n",
    "    keyword_to_indices = {}\n",
    "    for keyword in keywords:\n",
    "        keyword_to_indices[keyword] = word_search(documents, keyword)\n",
    "    return keyword_to_indices\n",
    "\n",
    "# Check your answer\n",
    "q3.check()"
   ]
  },
  {
   "cell_type": "code",
   "execution_count": 12,
   "id": "141fdfe7",
   "metadata": {
    "execution": {
     "iopub.execute_input": "2022-04-19T04:22:23.052996Z",
     "iopub.status.busy": "2022-04-19T04:22:23.052347Z",
     "iopub.status.idle": "2022-04-19T04:22:23.056838Z",
     "shell.execute_reply": "2022-04-19T04:22:23.056229Z"
    },
    "papermill": {
     "duration": 0.039345,
     "end_time": "2022-04-19T04:22:23.058985",
     "exception": false,
     "start_time": "2022-04-19T04:22:23.019640",
     "status": "completed"
    },
    "tags": []
   },
   "outputs": [],
   "source": [
    "# q3.solution()"
   ]
  },
  {
   "cell_type": "markdown",
   "id": "02ab4b16",
   "metadata": {
    "papermill": {
     "duration": 0.030503,
     "end_time": "2022-04-19T04:22:23.120011",
     "exception": false,
     "start_time": "2022-04-19T04:22:23.089508",
     "status": "completed"
    },
    "tags": []
   },
   "source": [
    "# Keep Going\n",
    "\n",
    "You've learned a lot. But even the best programmers rely heavily on \"libraries\" of code from other programmers. You'll learn about that in **[the last lesson](https://www.kaggle.com/colinmorris/working-with-external-libraries)**.\n"
   ]
  },
  {
   "cell_type": "markdown",
   "id": "4e248a6d",
   "metadata": {
    "papermill": {
     "duration": 0.030003,
     "end_time": "2022-04-19T04:22:23.180743",
     "exception": false,
     "start_time": "2022-04-19T04:22:23.150740",
     "status": "completed"
    },
    "tags": []
   },
   "source": [
    "---\n",
    "\n",
    "\n",
    "\n",
    "\n",
    "*Have questions or comments? Visit the [course discussion forum](https://www.kaggle.com/learn/python/discussion) to chat with other learners.*"
   ]
  }
 ],
 "metadata": {
  "kernelspec": {
   "display_name": "Python 3",
   "language": "python",
   "name": "python3"
  },
  "language_info": {
   "codemirror_mode": {
    "name": "ipython",
    "version": 3
   },
   "file_extension": ".py",
   "mimetype": "text/x-python",
   "name": "python",
   "nbconvert_exporter": "python",
   "pygments_lexer": "ipython3",
   "version": "3.7.12"
  },
  "papermill": {
   "default_parameters": {},
   "duration": 14.137746,
   "end_time": "2022-04-19T04:22:24.036271",
   "environment_variables": {},
   "exception": null,
   "input_path": "__notebook__.ipynb",
   "output_path": "__notebook__.ipynb",
   "parameters": {},
   "start_time": "2022-04-19T04:22:09.898525",
   "version": "2.3.4"
  }
 },
 "nbformat": 4,
 "nbformat_minor": 5
}
