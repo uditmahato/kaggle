{
 "cells": [
  {
   "cell_type": "markdown",
   "id": "f6938134",
   "metadata": {
    "papermill": {
     "duration": 0.00831,
     "end_time": "2022-06-04T17:33:42.915417",
     "exception": false,
     "start_time": "2022-06-04T17:33:42.907107",
     "status": "completed"
    },
    "tags": []
   },
   "source": [
    "**This notebook is an exercise in the [Intro to Programming](https://www.kaggle.com/learn/intro-to-programming) course.  You can reference the tutorial at [this link](https://www.kaggle.com/alexisbcook/data-types).**\n",
    "\n",
    "---\n"
   ]
  },
  {
   "cell_type": "markdown",
   "id": "e964d945",
   "metadata": {
    "papermill": {
     "duration": 0.006834,
     "end_time": "2022-06-04T17:33:42.929567",
     "exception": false,
     "start_time": "2022-06-04T17:33:42.922733",
     "status": "completed"
    },
    "tags": []
   },
   "source": [
    "In the tutorial, you learned about four different data types: floats, integers, strings, and booleans.  In this exercise, you'll experiment with them.\n",
    "\n",
    "# Set up the notebook\n",
    "\n",
    "Run the next code cell without changes to set up the notebook."
   ]
  },
  {
   "cell_type": "code",
   "execution_count": 1,
   "id": "aa461887",
   "metadata": {
    "execution": {
     "iopub.execute_input": "2022-06-04T17:33:42.946258Z",
     "iopub.status.busy": "2022-06-04T17:33:42.945500Z",
     "iopub.status.idle": "2022-06-04T17:33:43.000241Z",
     "shell.execute_reply": "2022-06-04T17:33:42.999135Z"
    },
    "papermill": {
     "duration": 0.067083,
     "end_time": "2022-06-04T17:33:43.003800",
     "exception": false,
     "start_time": "2022-06-04T17:33:42.936717",
     "status": "completed"
    },
    "tags": []
   },
   "outputs": [
    {
     "name": "stdout",
     "output_type": "stream",
     "text": [
      "Setup complete.\n"
     ]
    }
   ],
   "source": [
    "# Set up the exercise\n",
    "from learntools.core import binder\n",
    "binder.bind(globals())\n",
    "from learntools.intro_to_programming.ex3 import *\n",
    "print('Setup complete.')"
   ]
  },
  {
   "cell_type": "markdown",
   "id": "f740b59a",
   "metadata": {
    "papermill": {
     "duration": 0.007004,
     "end_time": "2022-06-04T17:33:43.019157",
     "exception": false,
     "start_time": "2022-06-04T17:33:43.012153",
     "status": "completed"
    },
    "tags": []
   },
   "source": [
    "# Question 1\n",
    "\n",
    "You have seen how to convert a float to an integer with the `int` function.  Try this out yourself by running the code cell below."
   ]
  },
  {
   "cell_type": "code",
   "execution_count": 2,
   "id": "91320b25",
   "metadata": {
    "execution": {
     "iopub.execute_input": "2022-06-04T17:33:43.035528Z",
     "iopub.status.busy": "2022-06-04T17:33:43.035143Z",
     "iopub.status.idle": "2022-06-04T17:33:43.040547Z",
     "shell.execute_reply": "2022-06-04T17:33:43.039762Z"
    },
    "papermill": {
     "duration": 0.016641,
     "end_time": "2022-06-04T17:33:43.043158",
     "exception": false,
     "start_time": "2022-06-04T17:33:43.026517",
     "status": "completed"
    },
    "tags": []
   },
   "outputs": [
    {
     "name": "stdout",
     "output_type": "stream",
     "text": [
      "1.0\n",
      "<class 'float'>\n",
      "1\n",
      "<class 'int'>\n"
     ]
    }
   ],
   "source": [
    "# Define a float\n",
    "y = 1.\n",
    "print(y)\n",
    "print(type(y))\n",
    "\n",
    "# Convert float to integer with the int function\n",
    "z = int(y)\n",
    "print(z)\n",
    "print(type(z))"
   ]
  },
  {
   "cell_type": "markdown",
   "id": "c53d6291",
   "metadata": {
    "papermill": {
     "duration": 0.007161,
     "end_time": "2022-06-04T17:33:43.059197",
     "exception": false,
     "start_time": "2022-06-04T17:33:43.052036",
     "status": "completed"
    },
    "tags": []
   },
   "source": [
    "In this case, the float you are using has no numbers after the decimal.  \n",
    "- But what happens when you try to convert a float with a fractional part to an integer?  \n",
    "- How does the outcome of the `int` function change for positive and negative numbers?\n",
    "\n",
    "Use the next code cell to investigate and answer these questions.  Feel free to add or remove any lines of code -- it is your workspace!"
   ]
  },
  {
   "cell_type": "code",
   "execution_count": 3,
   "id": "2aebdfeb",
   "metadata": {
    "execution": {
     "iopub.execute_input": "2022-06-04T17:33:43.075864Z",
     "iopub.status.busy": "2022-06-04T17:33:43.075347Z",
     "iopub.status.idle": "2022-06-04T17:33:43.080677Z",
     "shell.execute_reply": "2022-06-04T17:33:43.079501Z"
    },
    "papermill": {
     "duration": 0.016011,
     "end_time": "2022-06-04T17:33:43.082708",
     "exception": false,
     "start_time": "2022-06-04T17:33:43.066697",
     "status": "completed"
    },
    "tags": []
   },
   "outputs": [
    {
     "name": "stdout",
     "output_type": "stream",
     "text": [
      "1\n",
      "1\n",
      "-3\n",
      "-2\n"
     ]
    }
   ],
   "source": [
    "# Uncomment and run this code to get started!\n",
    "print(int(1.2321))\n",
    "print(int(1.747))\n",
    "print(int(-3.94535))\n",
    "print(int(-2.19774))"
   ]
  },
  {
   "cell_type": "markdown",
   "id": "123b18f7",
   "metadata": {
    "papermill": {
     "duration": 0.007258,
     "end_time": "2022-06-04T17:33:43.097469",
     "exception": false,
     "start_time": "2022-06-04T17:33:43.090211",
     "status": "completed"
    },
    "tags": []
   },
   "source": [
    "Once you have an answer, run the code cell below to see the solution.  Viewing the solution will give you credit for answering the problem."
   ]
  },
  {
   "cell_type": "code",
   "execution_count": 4,
   "id": "9c3e38d0",
   "metadata": {
    "execution": {
     "iopub.execute_input": "2022-06-04T17:33:43.113957Z",
     "iopub.status.busy": "2022-06-04T17:33:43.113561Z",
     "iopub.status.idle": "2022-06-04T17:33:43.123705Z",
     "shell.execute_reply": "2022-06-04T17:33:43.122772Z"
    },
    "papermill": {
     "duration": 0.021046,
     "end_time": "2022-06-04T17:33:43.125862",
     "exception": false,
     "start_time": "2022-06-04T17:33:43.104816",
     "status": "completed"
    },
    "tags": []
   },
   "outputs": [
    {
     "data": {
      "application/javascript": [
       "parent.postMessage({\"jupyterEvent\": \"custom.exercise_interaction\", \"data\": {\"outcomeType\": 1, \"valueTowardsCompletion\": 0.2, \"interactionType\": 1, \"questionType\": 4, \"questionId\": \"1_FloatToInt\", \"learnToolsVersion\": \"0.3.4\", \"failureMessage\": \"\", \"exceptionClass\": \"\", \"trace\": \"\"}}, \"*\")"
      ],
      "text/plain": [
       "<IPython.core.display.Javascript object>"
      ]
     },
     "metadata": {},
     "output_type": "display_data"
    },
    {
     "data": {
      "text/markdown": [
       "<span style=\"color:#33cc33\">Correct:</span> \n",
       "\n",
       "Negative floats are always rounded UP to the closest integer (for instance, both -1.1 and -1.9 are rounded up to -1). Positive floats are always rounded DOWN to the closest integer (for instance, 2.1 and 2.9 are rounded down to 2)."
      ],
      "text/plain": [
       "Correct: \n",
       "\n",
       "Negative floats are always rounded UP to the closest integer (for instance, both -1.1 and -1.9 are rounded up to -1). Positive floats are always rounded DOWN to the closest integer (for instance, 2.1 and 2.9 are rounded down to 2)."
      ]
     },
     "metadata": {},
     "output_type": "display_data"
    }
   ],
   "source": [
    "# Check your answer (Run this code cell to receive credit!)\n",
    "q1.check()"
   ]
  },
  {
   "cell_type": "markdown",
   "id": "e9d4aded",
   "metadata": {
    "papermill": {
     "duration": 0.007534,
     "end_time": "2022-06-04T17:33:43.141114",
     "exception": false,
     "start_time": "2022-06-04T17:33:43.133580",
     "status": "completed"
    },
    "tags": []
   },
   "source": [
    "# Question 2\n",
    "\n",
    "In the tutorial, you learned about booleans (which can take a value of `True` or `False`), in addition to integers, floats, and strings.  For this question, your goal is to determine what happens when you multiply a boolean by any of these data types.  Specifically, \n",
    "- What happens when you multiply an integer or float by `True`?  What happens when you multiply them by `False`?  How does the answer change if the numbers are positive or negative?\n",
    "- What happens when you multiply a string by `True`?  By `False`?\n",
    "\n",
    "Use the next code cell for your investigation. "
   ]
  },
  {
   "cell_type": "code",
   "execution_count": 5,
   "id": "217f284b",
   "metadata": {
    "execution": {
     "iopub.execute_input": "2022-06-04T17:33:43.158423Z",
     "iopub.status.busy": "2022-06-04T17:33:43.157971Z",
     "iopub.status.idle": "2022-06-04T17:33:43.163404Z",
     "shell.execute_reply": "2022-06-04T17:33:43.162475Z"
    },
    "papermill": {
     "duration": 0.017646,
     "end_time": "2022-06-04T17:33:43.166568",
     "exception": false,
     "start_time": "2022-06-04T17:33:43.148922",
     "status": "completed"
    },
    "tags": []
   },
   "outputs": [
    {
     "name": "stdout",
     "output_type": "stream",
     "text": [
      "3\n",
      "-3.1\n",
      "<class 'str'>\n",
      "0\n"
     ]
    }
   ],
   "source": [
    "# Uncomment and run this code to get started!\n",
    "print(3 * True)\n",
    "print(-3.1 * True)\n",
    "print(type(\"abc\" * False))\n",
    "print(len(\"abc\" * False))"
   ]
  },
  {
   "cell_type": "markdown",
   "id": "d905ac49",
   "metadata": {
    "papermill": {
     "duration": 0.007303,
     "end_time": "2022-06-04T17:33:43.181617",
     "exception": false,
     "start_time": "2022-06-04T17:33:43.174314",
     "status": "completed"
    },
    "tags": []
   },
   "source": [
    "Once you have an answer, run the code cell below to see the solution.  Viewing the solution will give you credit for answering the problem."
   ]
  },
  {
   "cell_type": "code",
   "execution_count": 6,
   "id": "78ad6680",
   "metadata": {
    "execution": {
     "iopub.execute_input": "2022-06-04T17:33:43.199602Z",
     "iopub.status.busy": "2022-06-04T17:33:43.198886Z",
     "iopub.status.idle": "2022-06-04T17:33:43.207721Z",
     "shell.execute_reply": "2022-06-04T17:33:43.206752Z"
    },
    "papermill": {
     "duration": 0.019992,
     "end_time": "2022-06-04T17:33:43.209690",
     "exception": false,
     "start_time": "2022-06-04T17:33:43.189698",
     "status": "completed"
    },
    "tags": []
   },
   "outputs": [
    {
     "data": {
      "application/javascript": [
       "parent.postMessage({\"jupyterEvent\": \"custom.exercise_interaction\", \"data\": {\"outcomeType\": 1, \"valueTowardsCompletion\": 0.2, \"interactionType\": 1, \"questionType\": 4, \"questionId\": \"2_MultiplyBooleans\", \"learnToolsVersion\": \"0.3.4\", \"failureMessage\": \"\", \"exceptionClass\": \"\", \"trace\": \"\"}}, \"*\")"
      ],
      "text/plain": [
       "<IPython.core.display.Javascript object>"
      ]
     },
     "metadata": {},
     "output_type": "display_data"
    },
    {
     "data": {
      "text/markdown": [
       "<span style=\"color:#33cc33\">Correct:</span> \n",
       "\n",
       "When you multiple an integer or float by a boolean with value `True`, it just returns that same integer or float (and is equivalent to multiplying by 1).  If you multiply an integer or float by a boolean with value `False`, it always returns 0.  This is true for both positive and negative numbers.  If you multiply a string by a boolean with value `True`, it just returns that same string.  And if you multiply a string by a boolean with value `False`, it returns an empty string (or a string with length zero)."
      ],
      "text/plain": [
       "Correct: \n",
       "\n",
       "When you multiple an integer or float by a boolean with value `True`, it just returns that same integer or float (and is equivalent to multiplying by 1).  If you multiply an integer or float by a boolean with value `False`, it always returns 0.  This is true for both positive and negative numbers.  If you multiply a string by a boolean with value `True`, it just returns that same string.  And if you multiply a string by a boolean with value `False`, it returns an empty string (or a string with length zero)."
      ]
     },
     "metadata": {},
     "output_type": "display_data"
    }
   ],
   "source": [
    "# Check your answer (Run this code cell to receive credit!)\n",
    "q2.check()"
   ]
  },
  {
   "cell_type": "markdown",
   "id": "213bd927",
   "metadata": {
    "papermill": {
     "duration": 0.007703,
     "end_time": "2022-06-04T17:33:43.225595",
     "exception": false,
     "start_time": "2022-06-04T17:33:43.217892",
     "status": "completed"
    },
    "tags": []
   },
   "source": [
    "# Question 3\n",
    "\n",
    "In this question, you will build off your work from the previous exercise to write a function that estimates the value of a house.\n",
    "\n",
    "Use the next code cell to create a function `get_expected_cost` that takes as input three variables:\n",
    "- `beds` - number of bedrooms (data type float)\n",
    "- `baths` - number of bathrooms (data type float)\n",
    "- `has_basement` - whether or not the house has a basement (data type boolean)\n",
    "\n",
    "It should return the expected cost of a house with those characteristics. Assume that:\n",
    "- the expected cost for a house with 0 bedrooms and 0 bathrooms, and no basement is 80000, \n",
    "- each bedroom adds 30000 to the expected cost,\n",
    "- each bathroom adds 10000 to the expected cost, and\n",
    "- a basement adds 40000 to the expected cost.\n",
    "\n",
    "For instance,\n",
    "- a house with 1 bedroom, 1 bathroom, and no basement has an expected cost of 80000 + 30000 + 10000 = 120000.  This value will be calculated with `get_expected_cost(1, 1, False)`.\n",
    "- a house with 2 bedrooms, 1 bathroom, and a basement has an expected cost of 80000 + 2*30000 + 10000 + 40000 = 190000.  This value will be calculated with `get_expected_cost(2, 1, True)`.\n",
    "\n",
    "Remember you can always get a hint by uncommenting `q3.hint()` in the code cell following the next!"
   ]
  },
  {
   "cell_type": "code",
   "execution_count": 7,
   "id": "306c2754",
   "metadata": {
    "execution": {
     "iopub.execute_input": "2022-06-04T17:33:43.244240Z",
     "iopub.status.busy": "2022-06-04T17:33:43.243682Z",
     "iopub.status.idle": "2022-06-04T17:33:43.250980Z",
     "shell.execute_reply": "2022-06-04T17:33:43.250382Z"
    },
    "papermill": {
     "duration": 0.018951,
     "end_time": "2022-06-04T17:33:43.252727",
     "exception": false,
     "start_time": "2022-06-04T17:33:43.233776",
     "status": "completed"
    },
    "tags": []
   },
   "outputs": [
    {
     "data": {
      "application/javascript": [
       "parent.postMessage({\"jupyterEvent\": \"custom.exercise_interaction\", \"data\": {\"outcomeType\": 1, \"valueTowardsCompletion\": 0.2, \"interactionType\": 1, \"questionType\": 2, \"questionId\": \"3_EstimateHouseValueBool\", \"learnToolsVersion\": \"0.3.4\", \"failureMessage\": \"\", \"exceptionClass\": \"\", \"trace\": \"\"}}, \"*\")"
      ],
      "text/plain": [
       "<IPython.core.display.Javascript object>"
      ]
     },
     "metadata": {},
     "output_type": "display_data"
    },
    {
     "data": {
      "text/markdown": [
       "<span style=\"color:#33cc33\">Correct</span>"
      ],
      "text/plain": [
       "Correct"
      ]
     },
     "metadata": {},
     "output_type": "display_data"
    }
   ],
   "source": [
    "# TODO: Complete the function\n",
    "def get_expected_cost(beds, baths, has_basement):\n",
    "    value = 80000 + 30000 * beds + 10000 * baths + 40000 * has_basement\n",
    "    return value\n",
    "\n",
    "# Check your answer \n",
    "q3.check()"
   ]
  },
  {
   "cell_type": "code",
   "execution_count": 8,
   "id": "75bae836",
   "metadata": {
    "execution": {
     "iopub.execute_input": "2022-06-04T17:33:43.271028Z",
     "iopub.status.busy": "2022-06-04T17:33:43.270473Z",
     "iopub.status.idle": "2022-06-04T17:33:43.273623Z",
     "shell.execute_reply": "2022-06-04T17:33:43.273011Z"
    },
    "papermill": {
     "duration": 0.014453,
     "end_time": "2022-06-04T17:33:43.275457",
     "exception": false,
     "start_time": "2022-06-04T17:33:43.261004",
     "status": "completed"
    },
    "tags": []
   },
   "outputs": [],
   "source": [
    "# Uncomment to see a hint\n",
    "#q3.hint()\n",
    "\n",
    "# Uncomment to view the solution\n",
    "# q3.solution()"
   ]
  },
  {
   "cell_type": "markdown",
   "id": "54576a27",
   "metadata": {
    "papermill": {
     "duration": 0.008001,
     "end_time": "2022-06-04T17:33:43.291645",
     "exception": false,
     "start_time": "2022-06-04T17:33:43.283644",
     "status": "completed"
    },
    "tags": []
   },
   "source": [
    "# Question 4\n",
    "\n",
    "We'll continue our study of boolean arithmetic.  For this question, your task is to provide a description of what happpens when you add booleans. \n",
    "\n",
    "Use the next code cell for your investigation.  Feel free to add or remove any lines of code - use it as your workspace!"
   ]
  },
  {
   "cell_type": "code",
   "execution_count": 9,
   "id": "9ca80aed",
   "metadata": {
    "execution": {
     "iopub.execute_input": "2022-06-04T17:33:43.310464Z",
     "iopub.status.busy": "2022-06-04T17:33:43.309922Z",
     "iopub.status.idle": "2022-06-04T17:33:43.315480Z",
     "shell.execute_reply": "2022-06-04T17:33:43.314283Z"
    },
    "papermill": {
     "duration": 0.017785,
     "end_time": "2022-06-04T17:33:43.318108",
     "exception": false,
     "start_time": "2022-06-04T17:33:43.300323",
     "status": "completed"
    },
    "tags": []
   },
   "outputs": [
    {
     "name": "stdout",
     "output_type": "stream",
     "text": [
      "0\n",
      "1\n",
      "1\n",
      "2\n",
      "3\n"
     ]
    }
   ],
   "source": [
    "print(False + False)\n",
    "print(True + False)\n",
    "print(False + True)\n",
    "print(True + True)\n",
    "print(False + True + True + True)"
   ]
  },
  {
   "cell_type": "markdown",
   "id": "a2bd8859",
   "metadata": {
    "papermill": {
     "duration": 0.008038,
     "end_time": "2022-06-04T17:33:43.334775",
     "exception": false,
     "start_time": "2022-06-04T17:33:43.326737",
     "status": "completed"
    },
    "tags": []
   },
   "source": [
    "Once you have an answer, run the code cell below to see the solution.  Viewing the solution will give you credit for answering the problem."
   ]
  },
  {
   "cell_type": "code",
   "execution_count": 10,
   "id": "b3974029",
   "metadata": {
    "execution": {
     "iopub.execute_input": "2022-06-04T17:33:43.353536Z",
     "iopub.status.busy": "2022-06-04T17:33:43.352688Z",
     "iopub.status.idle": "2022-06-04T17:33:43.361529Z",
     "shell.execute_reply": "2022-06-04T17:33:43.360546Z"
    },
    "papermill": {
     "duration": 0.020348,
     "end_time": "2022-06-04T17:33:43.363616",
     "exception": false,
     "start_time": "2022-06-04T17:33:43.343268",
     "status": "completed"
    },
    "tags": []
   },
   "outputs": [
    {
     "data": {
      "application/javascript": [
       "parent.postMessage({\"jupyterEvent\": \"custom.exercise_interaction\", \"data\": {\"outcomeType\": 1, \"valueTowardsCompletion\": 0.2, \"interactionType\": 1, \"questionType\": 4, \"questionId\": \"4_AddingBooleans\", \"learnToolsVersion\": \"0.3.4\", \"failureMessage\": \"\", \"exceptionClass\": \"\", \"trace\": \"\"}}, \"*\")"
      ],
      "text/plain": [
       "<IPython.core.display.Javascript object>"
      ]
     },
     "metadata": {},
     "output_type": "display_data"
    },
    {
     "data": {
      "text/markdown": [
       "<span style=\"color:#33cc33\">Correct:</span> \n",
       "\n",
       "When you add booleans, adding `False` is equivalent to adding 0, and adding `True` is equivalent to adding 1."
      ],
      "text/plain": [
       "Correct: \n",
       "\n",
       "When you add booleans, adding `False` is equivalent to adding 0, and adding `True` is equivalent to adding 1."
      ]
     },
     "metadata": {},
     "output_type": "display_data"
    }
   ],
   "source": [
    "# Check your answer (Run this code cell to receive credit!)\n",
    "q4.check()"
   ]
  },
  {
   "cell_type": "markdown",
   "id": "3cb9739e",
   "metadata": {
    "papermill": {
     "duration": 0.008249,
     "end_time": "2022-06-04T17:33:43.380407",
     "exception": false,
     "start_time": "2022-06-04T17:33:43.372158",
     "status": "completed"
    },
    "tags": []
   },
   "source": [
    "# 🌶️ Question 5\n",
    "\n",
    "You own an online shop where you sell rings with custom engravings.  You offer both gold plated and solid gold rings.\n",
    "- Gold plated rings have a base cost of \\\\$50, and you charge \\\\$7 per engraved unit.  \n",
    "- Solid gold rings have a base cost of \\\\$100, and you charge \\\\$10 per engraved unit.\n",
    "- Spaces and punctuation are counted as engraved units.\n",
    "\n",
    "Write a function `cost_of_project()` that takes two arguments:\n",
    "- `engraving` - a Python string with the text of the engraving\n",
    "- `solid_gold` - a Boolean that indicates whether the ring is solid gold\n",
    "\n",
    "It should return the cost of the project.  This question should be fairly challenging, and you may need a hint."
   ]
  },
  {
   "cell_type": "code",
   "execution_count": 11,
   "id": "c3a40b09",
   "metadata": {
    "execution": {
     "iopub.execute_input": "2022-06-04T17:33:43.399176Z",
     "iopub.status.busy": "2022-06-04T17:33:43.398267Z",
     "iopub.status.idle": "2022-06-04T17:33:43.407412Z",
     "shell.execute_reply": "2022-06-04T17:33:43.406508Z"
    },
    "papermill": {
     "duration": 0.020411,
     "end_time": "2022-06-04T17:33:43.409237",
     "exception": false,
     "start_time": "2022-06-04T17:33:43.388826",
     "status": "completed"
    },
    "tags": []
   },
   "outputs": [
    {
     "data": {
      "application/javascript": [
       "parent.postMessage({\"jupyterEvent\": \"custom.exercise_interaction\", \"data\": {\"outcomeType\": 1, \"valueTowardsCompletion\": 0.2, \"interactionType\": 1, \"questionType\": 2, \"questionId\": \"5_CustomEngravings\", \"learnToolsVersion\": \"0.3.4\", \"failureMessage\": \"\", \"exceptionClass\": \"\", \"trace\": \"\"}}, \"*\")"
      ],
      "text/plain": [
       "<IPython.core.display.Javascript object>"
      ]
     },
     "metadata": {},
     "output_type": "display_data"
    },
    {
     "data": {
      "text/markdown": [
       "<span style=\"color:#33cc33\">Correct</span>"
      ],
      "text/plain": [
       "Correct"
      ]
     },
     "metadata": {},
     "output_type": "display_data"
    }
   ],
   "source": [
    "def cost_of_project(engraving, solid_gold):\n",
    "    cost = solid_gold * (100 + 10 * len(engraving)) + (not solid_gold) * (50 + 7 * len(engraving))\n",
    "    return cost\n",
    "\n",
    "# Check your answer\n",
    "q5.check()"
   ]
  },
  {
   "cell_type": "code",
   "execution_count": 12,
   "id": "d46388d0",
   "metadata": {
    "execution": {
     "iopub.execute_input": "2022-06-04T17:33:43.429070Z",
     "iopub.status.busy": "2022-06-04T17:33:43.428509Z",
     "iopub.status.idle": "2022-06-04T17:33:43.432455Z",
     "shell.execute_reply": "2022-06-04T17:33:43.431710Z"
    },
    "papermill": {
     "duration": 0.016295,
     "end_time": "2022-06-04T17:33:43.434227",
     "exception": false,
     "start_time": "2022-06-04T17:33:43.417932",
     "status": "completed"
    },
    "tags": []
   },
   "outputs": [],
   "source": [
    "# Uncomment to see a hint\n",
    "#q5.hint()\n",
    "\n",
    "# Uncomment to view the solution\n",
    "# q5.solution()"
   ]
  },
  {
   "cell_type": "markdown",
   "id": "73e35bdf",
   "metadata": {
    "papermill": {
     "duration": 0.008603,
     "end_time": "2022-06-04T17:33:43.451644",
     "exception": false,
     "start_time": "2022-06-04T17:33:43.443041",
     "status": "completed"
    },
    "tags": []
   },
   "source": [
    "Run the next code cell to calculate the cost of engraving `Charlie+Denver` on a solid gold ring."
   ]
  },
  {
   "cell_type": "code",
   "execution_count": 13,
   "id": "ff2728ef",
   "metadata": {
    "execution": {
     "iopub.execute_input": "2022-06-04T17:33:43.470640Z",
     "iopub.status.busy": "2022-06-04T17:33:43.470256Z",
     "iopub.status.idle": "2022-06-04T17:33:43.475437Z",
     "shell.execute_reply": "2022-06-04T17:33:43.474509Z"
    },
    "papermill": {
     "duration": 0.017882,
     "end_time": "2022-06-04T17:33:43.478356",
     "exception": false,
     "start_time": "2022-06-04T17:33:43.460474",
     "status": "completed"
    },
    "tags": []
   },
   "outputs": [
    {
     "name": "stdout",
     "output_type": "stream",
     "text": [
      "240\n"
     ]
    }
   ],
   "source": [
    "project_one = cost_of_project(\"Charlie+Denver\", True)\n",
    "print(project_one)"
   ]
  },
  {
   "cell_type": "markdown",
   "id": "57a13b39",
   "metadata": {
    "papermill": {
     "duration": 0.008627,
     "end_time": "2022-06-04T17:33:43.497425",
     "exception": false,
     "start_time": "2022-06-04T17:33:43.488798",
     "status": "completed"
    },
    "tags": []
   },
   "source": [
    "Use the next code cell to calculate the cost of engraving `08/10/2000` on a gold plated ring."
   ]
  },
  {
   "cell_type": "code",
   "execution_count": 14,
   "id": "5a127453",
   "metadata": {
    "execution": {
     "iopub.execute_input": "2022-06-04T17:33:43.517543Z",
     "iopub.status.busy": "2022-06-04T17:33:43.517159Z",
     "iopub.status.idle": "2022-06-04T17:33:43.521803Z",
     "shell.execute_reply": "2022-06-04T17:33:43.520939Z"
    },
    "papermill": {
     "duration": 0.017796,
     "end_time": "2022-06-04T17:33:43.524536",
     "exception": false,
     "start_time": "2022-06-04T17:33:43.506740",
     "status": "completed"
    },
    "tags": []
   },
   "outputs": [
    {
     "name": "stdout",
     "output_type": "stream",
     "text": [
      "120\n"
     ]
    }
   ],
   "source": [
    "project_two = cost_of_project(\"08/10/2000\", False)\n",
    "print(project_two)"
   ]
  },
  {
   "cell_type": "markdown",
   "id": "46e54147",
   "metadata": {
    "papermill": {
     "duration": 0.008918,
     "end_time": "2022-06-04T17:33:43.543483",
     "exception": false,
     "start_time": "2022-06-04T17:33:43.534565",
     "status": "completed"
    },
    "tags": []
   },
   "source": [
    "# Keep going\n",
    "\n",
    "Continue to the next lesson to **[learn about conditions and conditional statements](https://www.kaggle.com/alexisbcook/conditions-and-conditional-statements)**."
   ]
  },
  {
   "cell_type": "markdown",
   "id": "9e7b2010",
   "metadata": {
    "papermill": {
     "duration": 0.008664,
     "end_time": "2022-06-04T17:33:43.561114",
     "exception": false,
     "start_time": "2022-06-04T17:33:43.552450",
     "status": "completed"
    },
    "tags": []
   },
   "source": [
    "---\n",
    "\n",
    "\n",
    "\n",
    "\n",
    "*Have questions or comments? Visit the [course discussion forum](https://www.kaggle.com/learn/intro-to-programming/discussion) to chat with other learners.*"
   ]
  }
 ],
 "metadata": {
  "kernelspec": {
   "display_name": "Python 3",
   "language": "python",
   "name": "python3"
  },
  "language_info": {
   "codemirror_mode": {
    "name": "ipython",
    "version": 3
   },
   "file_extension": ".py",
   "mimetype": "text/x-python",
   "name": "python",
   "nbconvert_exporter": "python",
   "pygments_lexer": "ipython3",
   "version": "3.7.12"
  },
  "papermill": {
   "default_parameters": {},
   "duration": 11.652093,
   "end_time": "2022-06-04T17:33:44.190349",
   "environment_variables": {},
   "exception": null,
   "input_path": "__notebook__.ipynb",
   "output_path": "__notebook__.ipynb",
   "parameters": {},
   "start_time": "2022-06-04T17:33:32.538256",
   "version": "2.3.4"
  }
 },
 "nbformat": 4,
 "nbformat_minor": 5
}
