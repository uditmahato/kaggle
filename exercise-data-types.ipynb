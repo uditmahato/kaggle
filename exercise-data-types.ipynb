{
 "cells": [
  {
   "cell_type": "markdown",
   "id": "9378295c",
   "metadata": {
    "papermill": {
     "duration": 0.008793,
     "end_time": "2022-06-04T17:33:45.390812",
     "exception": false,
     "start_time": "2022-06-04T17:33:45.382019",
     "status": "completed"
    },
    "tags": []
   },
   "source": [
    "**This notebook is an exercise in the [Intro to Programming](https://www.kaggle.com/learn/intro-to-programming) course.  You can reference the tutorial at [this link](https://www.kaggle.com/alexisbcook/data-types).**\n",
    "\n",
    "---\n"
   ]
  },
  {
   "cell_type": "markdown",
   "id": "04624833",
   "metadata": {
    "papermill": {
     "duration": 0.007163,
     "end_time": "2022-06-04T17:33:45.405593",
     "exception": false,
     "start_time": "2022-06-04T17:33:45.398430",
     "status": "completed"
    },
    "tags": []
   },
   "source": [
    "In the tutorial, you learned about four different data types: floats, integers, strings, and booleans.  In this exercise, you'll experiment with them.\n",
    "\n",
    "# Set up the notebook\n",
    "\n",
    "Run the next code cell without changes to set up the notebook."
   ]
  },
  {
   "cell_type": "code",
   "execution_count": 1,
   "id": "940decef",
   "metadata": {
    "execution": {
     "iopub.execute_input": "2022-06-04T17:33:45.422913Z",
     "iopub.status.busy": "2022-06-04T17:33:45.422311Z",
     "iopub.status.idle": "2022-06-04T17:33:45.476706Z",
     "shell.execute_reply": "2022-06-04T17:33:45.475645Z"
    },
    "papermill": {
     "duration": 0.06578,
     "end_time": "2022-06-04T17:33:45.478895",
     "exception": false,
     "start_time": "2022-06-04T17:33:45.413115",
     "status": "completed"
    },
    "tags": []
   },
   "outputs": [
    {
     "name": "stdout",
     "output_type": "stream",
     "text": [
      "Setup complete.\n"
     ]
    }
   ],
   "source": [
    "# Set up the exercise\n",
    "from learntools.core import binder\n",
    "binder.bind(globals())\n",
    "from learntools.intro_to_programming.ex3 import *\n",
    "print('Setup complete.')"
   ]
  },
  {
   "cell_type": "markdown",
   "id": "eab9b554",
   "metadata": {
    "papermill": {
     "duration": 0.007164,
     "end_time": "2022-06-04T17:33:45.493848",
     "exception": false,
     "start_time": "2022-06-04T17:33:45.486684",
     "status": "completed"
    },
    "tags": []
   },
   "source": [
    "# Question 1\n",
    "\n",
    "You have seen how to convert a float to an integer with the `int` function.  Try this out yourself by running the code cell below."
   ]
  },
  {
   "cell_type": "code",
   "execution_count": 2,
   "id": "050214a8",
   "metadata": {
    "execution": {
     "iopub.execute_input": "2022-06-04T17:33:45.511332Z",
     "iopub.status.busy": "2022-06-04T17:33:45.510851Z",
     "iopub.status.idle": "2022-06-04T17:33:45.516872Z",
     "shell.execute_reply": "2022-06-04T17:33:45.515896Z"
    },
    "papermill": {
     "duration": 0.017858,
     "end_time": "2022-06-04T17:33:45.519279",
     "exception": false,
     "start_time": "2022-06-04T17:33:45.501421",
     "status": "completed"
    },
    "tags": []
   },
   "outputs": [
    {
     "name": "stdout",
     "output_type": "stream",
     "text": [
      "1.0\n",
      "<class 'float'>\n",
      "1\n",
      "<class 'int'>\n"
     ]
    }
   ],
   "source": [
    "# Define a float\n",
    "y = 1.\n",
    "print(y)\n",
    "print(type(y))\n",
    "\n",
    "# Convert float to integer with the int function\n",
    "z = int(y)\n",
    "print(z)\n",
    "print(type(z))"
   ]
  },
  {
   "cell_type": "markdown",
   "id": "960367f4",
   "metadata": {
    "papermill": {
     "duration": 0.007509,
     "end_time": "2022-06-04T17:33:45.535367",
     "exception": false,
     "start_time": "2022-06-04T17:33:45.527858",
     "status": "completed"
    },
    "tags": []
   },
   "source": [
    "In this case, the float you are using has no numbers after the decimal.  \n",
    "- But what happens when you try to convert a float with a fractional part to an integer?  \n",
    "- How does the outcome of the `int` function change for positive and negative numbers?\n",
    "\n",
    "Use the next code cell to investigate and answer these questions.  Feel free to add or remove any lines of code -- it is your workspace!"
   ]
  },
  {
   "cell_type": "code",
   "execution_count": 3,
   "id": "d120fc7d",
   "metadata": {
    "execution": {
     "iopub.execute_input": "2022-06-04T17:33:45.552872Z",
     "iopub.status.busy": "2022-06-04T17:33:45.552475Z",
     "iopub.status.idle": "2022-06-04T17:33:45.558537Z",
     "shell.execute_reply": "2022-06-04T17:33:45.557653Z"
    },
    "papermill": {
     "duration": 0.017583,
     "end_time": "2022-06-04T17:33:45.560934",
     "exception": false,
     "start_time": "2022-06-04T17:33:45.543351",
     "status": "completed"
    },
    "tags": []
   },
   "outputs": [
    {
     "name": "stdout",
     "output_type": "stream",
     "text": [
      "1\n",
      "1\n",
      "-3\n",
      "-2\n"
     ]
    }
   ],
   "source": [
    "# Uncomment and run this code to get started!\n",
    "print(int(1.2321))\n",
    "print(int(1.747))\n",
    "print(int(-3.94535))\n",
    "print(int(-2.19774))"
   ]
  },
  {
   "cell_type": "markdown",
   "id": "a5b9fa45",
   "metadata": {
    "papermill": {
     "duration": 0.007051,
     "end_time": "2022-06-04T17:33:45.575475",
     "exception": false,
     "start_time": "2022-06-04T17:33:45.568424",
     "status": "completed"
    },
    "tags": []
   },
   "source": [
    "Once you have an answer, run the code cell below to see the solution.  Viewing the solution will give you credit for answering the problem."
   ]
  },
  {
   "cell_type": "code",
   "execution_count": 4,
   "id": "220521ab",
   "metadata": {
    "execution": {
     "iopub.execute_input": "2022-06-04T17:33:45.592179Z",
     "iopub.status.busy": "2022-06-04T17:33:45.591423Z",
     "iopub.status.idle": "2022-06-04T17:33:45.600997Z",
     "shell.execute_reply": "2022-06-04T17:33:45.600388Z"
    },
    "papermill": {
     "duration": 0.020348,
     "end_time": "2022-06-04T17:33:45.603057",
     "exception": false,
     "start_time": "2022-06-04T17:33:45.582709",
     "status": "completed"
    },
    "tags": []
   },
   "outputs": [
    {
     "data": {
      "application/javascript": [
       "parent.postMessage({\"jupyterEvent\": \"custom.exercise_interaction\", \"data\": {\"outcomeType\": 1, \"valueTowardsCompletion\": 0.2, \"interactionType\": 1, \"questionType\": 4, \"questionId\": \"1_FloatToInt\", \"learnToolsVersion\": \"0.3.4\", \"failureMessage\": \"\", \"exceptionClass\": \"\", \"trace\": \"\"}}, \"*\")"
      ],
      "text/plain": [
       "<IPython.core.display.Javascript object>"
      ]
     },
     "metadata": {},
     "output_type": "display_data"
    },
    {
     "data": {
      "text/markdown": [
       "<span style=\"color:#33cc33\">Correct:</span> \n",
       "\n",
       "Negative floats are always rounded UP to the closest integer (for instance, both -1.1 and -1.9 are rounded up to -1). Positive floats are always rounded DOWN to the closest integer (for instance, 2.1 and 2.9 are rounded down to 2)."
      ],
      "text/plain": [
       "Correct: \n",
       "\n",
       "Negative floats are always rounded UP to the closest integer (for instance, both -1.1 and -1.9 are rounded up to -1). Positive floats are always rounded DOWN to the closest integer (for instance, 2.1 and 2.9 are rounded down to 2)."
      ]
     },
     "metadata": {},
     "output_type": "display_data"
    }
   ],
   "source": [
    "# Check your answer (Run this code cell to receive credit!)\n",
    "q1.check()"
   ]
  },
  {
   "cell_type": "markdown",
   "id": "8fd55f5b",
   "metadata": {
    "papermill": {
     "duration": 0.007423,
     "end_time": "2022-06-04T17:33:45.618246",
     "exception": false,
     "start_time": "2022-06-04T17:33:45.610823",
     "status": "completed"
    },
    "tags": []
   },
   "source": [
    "# Question 2\n",
    "\n",
    "In the tutorial, you learned about booleans (which can take a value of `True` or `False`), in addition to integers, floats, and strings.  For this question, your goal is to determine what happens when you multiply a boolean by any of these data types.  Specifically, \n",
    "- What happens when you multiply an integer or float by `True`?  What happens when you multiply them by `False`?  How does the answer change if the numbers are positive or negative?\n",
    "- What happens when you multiply a string by `True`?  By `False`?\n",
    "\n",
    "Use the next code cell for your investigation. "
   ]
  },
  {
   "cell_type": "code",
   "execution_count": 5,
   "id": "2ca469cf",
   "metadata": {
    "execution": {
     "iopub.execute_input": "2022-06-04T17:33:45.635904Z",
     "iopub.status.busy": "2022-06-04T17:33:45.635059Z",
     "iopub.status.idle": "2022-06-04T17:33:45.642093Z",
     "shell.execute_reply": "2022-06-04T17:33:45.640438Z"
    },
    "papermill": {
     "duration": 0.018478,
     "end_time": "2022-06-04T17:33:45.644257",
     "exception": false,
     "start_time": "2022-06-04T17:33:45.625779",
     "status": "completed"
    },
    "tags": []
   },
   "outputs": [
    {
     "name": "stdout",
     "output_type": "stream",
     "text": [
      "3\n",
      "-3.1\n",
      "<class 'str'>\n",
      "0\n"
     ]
    }
   ],
   "source": [
    "# Uncomment and run this code to get started!\n",
    "print(3 * True)\n",
    "print(-3.1 * True)\n",
    "print(type(\"abc\" * False))\n",
    "print(len(\"abc\" * False))"
   ]
  },
  {
   "cell_type": "markdown",
   "id": "98aeed07",
   "metadata": {
    "papermill": {
     "duration": 0.007275,
     "end_time": "2022-06-04T17:33:45.659335",
     "exception": false,
     "start_time": "2022-06-04T17:33:45.652060",
     "status": "completed"
    },
    "tags": []
   },
   "source": [
    "Once you have an answer, run the code cell below to see the solution.  Viewing the solution will give you credit for answering the problem."
   ]
  },
  {
   "cell_type": "code",
   "execution_count": 6,
   "id": "c39d6dfb",
   "metadata": {
    "execution": {
     "iopub.execute_input": "2022-06-04T17:33:45.676613Z",
     "iopub.status.busy": "2022-06-04T17:33:45.676217Z",
     "iopub.status.idle": "2022-06-04T17:33:45.684372Z",
     "shell.execute_reply": "2022-06-04T17:33:45.683576Z"
    },
    "papermill": {
     "duration": 0.019026,
     "end_time": "2022-06-04T17:33:45.686126",
     "exception": false,
     "start_time": "2022-06-04T17:33:45.667100",
     "status": "completed"
    },
    "tags": []
   },
   "outputs": [
    {
     "data": {
      "application/javascript": [
       "parent.postMessage({\"jupyterEvent\": \"custom.exercise_interaction\", \"data\": {\"outcomeType\": 1, \"valueTowardsCompletion\": 0.2, \"interactionType\": 1, \"questionType\": 4, \"questionId\": \"2_MultiplyBooleans\", \"learnToolsVersion\": \"0.3.4\", \"failureMessage\": \"\", \"exceptionClass\": \"\", \"trace\": \"\"}}, \"*\")"
      ],
      "text/plain": [
       "<IPython.core.display.Javascript object>"
      ]
     },
     "metadata": {},
     "output_type": "display_data"
    },
    {
     "data": {
      "text/markdown": [
       "<span style=\"color:#33cc33\">Correct:</span> \n",
       "\n",
       "When you multiple an integer or float by a boolean with value `True`, it just returns that same integer or float (and is equivalent to multiplying by 1).  If you multiply an integer or float by a boolean with value `False`, it always returns 0.  This is true for both positive and negative numbers.  If you multiply a string by a boolean with value `True`, it just returns that same string.  And if you multiply a string by a boolean with value `False`, it returns an empty string (or a string with length zero)."
      ],
      "text/plain": [
       "Correct: \n",
       "\n",
       "When you multiple an integer or float by a boolean with value `True`, it just returns that same integer or float (and is equivalent to multiplying by 1).  If you multiply an integer or float by a boolean with value `False`, it always returns 0.  This is true for both positive and negative numbers.  If you multiply a string by a boolean with value `True`, it just returns that same string.  And if you multiply a string by a boolean with value `False`, it returns an empty string (or a string with length zero)."
      ]
     },
     "metadata": {},
     "output_type": "display_data"
    }
   ],
   "source": [
    "# Check your answer (Run this code cell to receive credit!)\n",
    "q2.check()"
   ]
  },
  {
   "cell_type": "markdown",
   "id": "59f1ce4f",
   "metadata": {
    "papermill": {
     "duration": 0.007934,
     "end_time": "2022-06-04T17:33:45.702210",
     "exception": false,
     "start_time": "2022-06-04T17:33:45.694276",
     "status": "completed"
    },
    "tags": []
   },
   "source": [
    "# Question 3\n",
    "\n",
    "In this question, you will build off your work from the previous exercise to write a function that estimates the value of a house.\n",
    "\n",
    "Use the next code cell to create a function `get_expected_cost` that takes as input three variables:\n",
    "- `beds` - number of bedrooms (data type float)\n",
    "- `baths` - number of bathrooms (data type float)\n",
    "- `has_basement` - whether or not the house has a basement (data type boolean)\n",
    "\n",
    "It should return the expected cost of a house with those characteristics. Assume that:\n",
    "- the expected cost for a house with 0 bedrooms and 0 bathrooms, and no basement is 80000, \n",
    "- each bedroom adds 30000 to the expected cost,\n",
    "- each bathroom adds 10000 to the expected cost, and\n",
    "- a basement adds 40000 to the expected cost.\n",
    "\n",
    "For instance,\n",
    "- a house with 1 bedroom, 1 bathroom, and no basement has an expected cost of 80000 + 30000 + 10000 = 120000.  This value will be calculated with `get_expected_cost(1, 1, False)`.\n",
    "- a house with 2 bedrooms, 1 bathroom, and a basement has an expected cost of 80000 + 2*30000 + 10000 + 40000 = 190000.  This value will be calculated with `get_expected_cost(2, 1, True)`.\n",
    "\n",
    "Remember you can always get a hint by uncommenting `q3.hint()` in the code cell following the next!"
   ]
  },
  {
   "cell_type": "code",
   "execution_count": 7,
   "id": "5df97ea2",
   "metadata": {
    "execution": {
     "iopub.execute_input": "2022-06-04T17:33:45.721324Z",
     "iopub.status.busy": "2022-06-04T17:33:45.720581Z",
     "iopub.status.idle": "2022-06-04T17:33:45.730651Z",
     "shell.execute_reply": "2022-06-04T17:33:45.729587Z"
    },
    "papermill": {
     "duration": 0.022265,
     "end_time": "2022-06-04T17:33:45.732951",
     "exception": false,
     "start_time": "2022-06-04T17:33:45.710686",
     "status": "completed"
    },
    "tags": []
   },
   "outputs": [
    {
     "data": {
      "application/javascript": [
       "parent.postMessage({\"jupyterEvent\": \"custom.exercise_interaction\", \"data\": {\"outcomeType\": 1, \"valueTowardsCompletion\": 0.2, \"interactionType\": 1, \"questionType\": 2, \"questionId\": \"3_EstimateHouseValueBool\", \"learnToolsVersion\": \"0.3.4\", \"failureMessage\": \"\", \"exceptionClass\": \"\", \"trace\": \"\"}}, \"*\")"
      ],
      "text/plain": [
       "<IPython.core.display.Javascript object>"
      ]
     },
     "metadata": {},
     "output_type": "display_data"
    },
    {
     "data": {
      "text/markdown": [
       "<span style=\"color:#33cc33\">Correct</span>"
      ],
      "text/plain": [
       "Correct"
      ]
     },
     "metadata": {},
     "output_type": "display_data"
    }
   ],
   "source": [
    "# TODO: Complete the function\n",
    "def get_expected_cost(beds, baths, has_basement):\n",
    "    value = 80000 + 30000 * beds + 10000 * baths + 40000 * has_basement\n",
    "    return value\n",
    "\n",
    "# Check your answer \n",
    "q3.check()"
   ]
  },
  {
   "cell_type": "code",
   "execution_count": 8,
   "id": "9373f00f",
   "metadata": {
    "execution": {
     "iopub.execute_input": "2022-06-04T17:33:45.752030Z",
     "iopub.status.busy": "2022-06-04T17:33:45.751549Z",
     "iopub.status.idle": "2022-06-04T17:33:45.755680Z",
     "shell.execute_reply": "2022-06-04T17:33:45.754718Z"
    },
    "papermill": {
     "duration": 0.015873,
     "end_time": "2022-06-04T17:33:45.757691",
     "exception": false,
     "start_time": "2022-06-04T17:33:45.741818",
     "status": "completed"
    },
    "tags": []
   },
   "outputs": [],
   "source": [
    "# Uncomment to see a hint\n",
    "#q3.hint()\n",
    "\n",
    "# Uncomment to view the solution\n",
    "# q3.solution()"
   ]
  },
  {
   "cell_type": "markdown",
   "id": "73211c2e",
   "metadata": {
    "papermill": {
     "duration": 0.008045,
     "end_time": "2022-06-04T17:33:45.774011",
     "exception": false,
     "start_time": "2022-06-04T17:33:45.765966",
     "status": "completed"
    },
    "tags": []
   },
   "source": [
    "# Question 4\n",
    "\n",
    "We'll continue our study of boolean arithmetic.  For this question, your task is to provide a description of what happpens when you add booleans. \n",
    "\n",
    "Use the next code cell for your investigation.  Feel free to add or remove any lines of code - use it as your workspace!"
   ]
  },
  {
   "cell_type": "code",
   "execution_count": 9,
   "id": "f01a9d7a",
   "metadata": {
    "execution": {
     "iopub.execute_input": "2022-06-04T17:33:45.792935Z",
     "iopub.status.busy": "2022-06-04T17:33:45.791745Z",
     "iopub.status.idle": "2022-06-04T17:33:45.799088Z",
     "shell.execute_reply": "2022-06-04T17:33:45.797386Z"
    },
    "papermill": {
     "duration": 0.019056,
     "end_time": "2022-06-04T17:33:45.801399",
     "exception": false,
     "start_time": "2022-06-04T17:33:45.782343",
     "status": "completed"
    },
    "tags": []
   },
   "outputs": [
    {
     "name": "stdout",
     "output_type": "stream",
     "text": [
      "0\n",
      "1\n",
      "1\n",
      "2\n",
      "3\n"
     ]
    }
   ],
   "source": [
    "print(False + False)\n",
    "print(True + False)\n",
    "print(False + True)\n",
    "print(True + True)\n",
    "print(False + True + True + True)"
   ]
  },
  {
   "cell_type": "markdown",
   "id": "b454f0d4",
   "metadata": {
    "papermill": {
     "duration": 0.008385,
     "end_time": "2022-06-04T17:33:45.818562",
     "exception": false,
     "start_time": "2022-06-04T17:33:45.810177",
     "status": "completed"
    },
    "tags": []
   },
   "source": [
    "Once you have an answer, run the code cell below to see the solution.  Viewing the solution will give you credit for answering the problem."
   ]
  },
  {
   "cell_type": "code",
   "execution_count": 10,
   "id": "d585349f",
   "metadata": {
    "execution": {
     "iopub.execute_input": "2022-06-04T17:33:45.837778Z",
     "iopub.status.busy": "2022-06-04T17:33:45.837079Z",
     "iopub.status.idle": "2022-06-04T17:33:45.844971Z",
     "shell.execute_reply": "2022-06-04T17:33:45.844256Z"
    },
    "papermill": {
     "duration": 0.019627,
     "end_time": "2022-06-04T17:33:45.846978",
     "exception": false,
     "start_time": "2022-06-04T17:33:45.827351",
     "status": "completed"
    },
    "tags": []
   },
   "outputs": [
    {
     "data": {
      "application/javascript": [
       "parent.postMessage({\"jupyterEvent\": \"custom.exercise_interaction\", \"data\": {\"outcomeType\": 1, \"valueTowardsCompletion\": 0.2, \"interactionType\": 1, \"questionType\": 4, \"questionId\": \"4_AddingBooleans\", \"learnToolsVersion\": \"0.3.4\", \"failureMessage\": \"\", \"exceptionClass\": \"\", \"trace\": \"\"}}, \"*\")"
      ],
      "text/plain": [
       "<IPython.core.display.Javascript object>"
      ]
     },
     "metadata": {},
     "output_type": "display_data"
    },
    {
     "data": {
      "text/markdown": [
       "<span style=\"color:#33cc33\">Correct:</span> \n",
       "\n",
       "When you add booleans, adding `False` is equivalent to adding 0, and adding `True` is equivalent to adding 1."
      ],
      "text/plain": [
       "Correct: \n",
       "\n",
       "When you add booleans, adding `False` is equivalent to adding 0, and adding `True` is equivalent to adding 1."
      ]
     },
     "metadata": {},
     "output_type": "display_data"
    }
   ],
   "source": [
    "# Check your answer (Run this code cell to receive credit!)\n",
    "q4.check()"
   ]
  },
  {
   "cell_type": "markdown",
   "id": "d1afa68a",
   "metadata": {
    "papermill": {
     "duration": 0.008593,
     "end_time": "2022-06-04T17:33:45.865077",
     "exception": false,
     "start_time": "2022-06-04T17:33:45.856484",
     "status": "completed"
    },
    "tags": []
   },
   "source": [
    "# 🌶️ Question 5\n",
    "\n",
    "You own an online shop where you sell rings with custom engravings.  You offer both gold plated and solid gold rings.\n",
    "- Gold plated rings have a base cost of \\\\$50, and you charge \\\\$7 per engraved unit.  \n",
    "- Solid gold rings have a base cost of \\\\$100, and you charge \\\\$10 per engraved unit.\n",
    "- Spaces and punctuation are counted as engraved units.\n",
    "\n",
    "Write a function `cost_of_project()` that takes two arguments:\n",
    "- `engraving` - a Python string with the text of the engraving\n",
    "- `solid_gold` - a Boolean that indicates whether the ring is solid gold\n",
    "\n",
    "It should return the cost of the project.  This question should be fairly challenging, and you may need a hint."
   ]
  },
  {
   "cell_type": "code",
   "execution_count": 11,
   "id": "5568ff30",
   "metadata": {
    "execution": {
     "iopub.execute_input": "2022-06-04T17:33:45.883942Z",
     "iopub.status.busy": "2022-06-04T17:33:45.883334Z",
     "iopub.status.idle": "2022-06-04T17:33:45.892569Z",
     "shell.execute_reply": "2022-06-04T17:33:45.891714Z"
    },
    "papermill": {
     "duration": 0.020804,
     "end_time": "2022-06-04T17:33:45.894406",
     "exception": false,
     "start_time": "2022-06-04T17:33:45.873602",
     "status": "completed"
    },
    "tags": []
   },
   "outputs": [
    {
     "data": {
      "application/javascript": [
       "parent.postMessage({\"jupyterEvent\": \"custom.exercise_interaction\", \"data\": {\"outcomeType\": 1, \"valueTowardsCompletion\": 0.2, \"interactionType\": 1, \"questionType\": 2, \"questionId\": \"5_CustomEngravings\", \"learnToolsVersion\": \"0.3.4\", \"failureMessage\": \"\", \"exceptionClass\": \"\", \"trace\": \"\"}}, \"*\")"
      ],
      "text/plain": [
       "<IPython.core.display.Javascript object>"
      ]
     },
     "metadata": {},
     "output_type": "display_data"
    },
    {
     "data": {
      "text/markdown": [
       "<span style=\"color:#33cc33\">Correct</span>"
      ],
      "text/plain": [
       "Correct"
      ]
     },
     "metadata": {},
     "output_type": "display_data"
    }
   ],
   "source": [
    "def cost_of_project(engraving, solid_gold):\n",
    "    cost = solid_gold * (100 + 10 * len(engraving)) + (not solid_gold) * (50 + 7 * len(engraving))\n",
    "    return cost\n",
    "\n",
    "# Check your answer\n",
    "q5.check()"
   ]
  },
  {
   "cell_type": "code",
   "execution_count": 12,
   "id": "76bcb006",
   "metadata": {
    "execution": {
     "iopub.execute_input": "2022-06-04T17:33:45.914369Z",
     "iopub.status.busy": "2022-06-04T17:33:45.913444Z",
     "iopub.status.idle": "2022-06-04T17:33:45.918155Z",
     "shell.execute_reply": "2022-06-04T17:33:45.917254Z"
    },
    "papermill": {
     "duration": 0.016665,
     "end_time": "2022-06-04T17:33:45.920110",
     "exception": false,
     "start_time": "2022-06-04T17:33:45.903445",
     "status": "completed"
    },
    "tags": []
   },
   "outputs": [],
   "source": [
    "# Uncomment to see a hint\n",
    "#q5.hint()\n",
    "\n",
    "# Uncomment to view the solution\n",
    "# q5.solution()"
   ]
  },
  {
   "cell_type": "markdown",
   "id": "c298bdad",
   "metadata": {
    "papermill": {
     "duration": 0.008635,
     "end_time": "2022-06-04T17:33:45.937641",
     "exception": false,
     "start_time": "2022-06-04T17:33:45.929006",
     "status": "completed"
    },
    "tags": []
   },
   "source": [
    "Run the next code cell to calculate the cost of engraving `Charlie+Denver` on a solid gold ring."
   ]
  },
  {
   "cell_type": "code",
   "execution_count": 13,
   "id": "e5149dae",
   "metadata": {
    "execution": {
     "iopub.execute_input": "2022-06-04T17:33:45.957664Z",
     "iopub.status.busy": "2022-06-04T17:33:45.956479Z",
     "iopub.status.idle": "2022-06-04T17:33:45.963400Z",
     "shell.execute_reply": "2022-06-04T17:33:45.962047Z"
    },
    "papermill": {
     "duration": 0.020397,
     "end_time": "2022-06-04T17:33:45.966791",
     "exception": false,
     "start_time": "2022-06-04T17:33:45.946394",
     "status": "completed"
    },
    "tags": []
   },
   "outputs": [
    {
     "name": "stdout",
     "output_type": "stream",
     "text": [
      "240\n"
     ]
    }
   ],
   "source": [
    "project_one = cost_of_project(\"Charlie+Denver\", True)\n",
    "print(project_one)"
   ]
  },
  {
   "cell_type": "markdown",
   "id": "1a93db78",
   "metadata": {
    "papermill": {
     "duration": 0.008944,
     "end_time": "2022-06-04T17:33:45.986047",
     "exception": false,
     "start_time": "2022-06-04T17:33:45.977103",
     "status": "completed"
    },
    "tags": []
   },
   "source": [
    "Use the next code cell to calculate the cost of engraving `08/10/2000` on a gold plated ring."
   ]
  },
  {
   "cell_type": "code",
   "execution_count": 14,
   "id": "66b47b9c",
   "metadata": {
    "execution": {
     "iopub.execute_input": "2022-06-04T17:33:46.006293Z",
     "iopub.status.busy": "2022-06-04T17:33:46.005457Z",
     "iopub.status.idle": "2022-06-04T17:33:46.011377Z",
     "shell.execute_reply": "2022-06-04T17:33:46.010399Z"
    },
    "papermill": {
     "duration": 0.018658,
     "end_time": "2022-06-04T17:33:46.013777",
     "exception": false,
     "start_time": "2022-06-04T17:33:45.995119",
     "status": "completed"
    },
    "tags": []
   },
   "outputs": [
    {
     "name": "stdout",
     "output_type": "stream",
     "text": [
      "120\n"
     ]
    }
   ],
   "source": [
    "project_two = cost_of_project(\"08/10/2000\", False)\n",
    "print(project_two)"
   ]
  },
  {
   "cell_type": "markdown",
   "id": "e7932ea0",
   "metadata": {
    "papermill": {
     "duration": 0.008983,
     "end_time": "2022-06-04T17:33:46.031778",
     "exception": false,
     "start_time": "2022-06-04T17:33:46.022795",
     "status": "completed"
    },
    "tags": []
   },
   "source": [
    "# Keep going\n",
    "\n",
    "Continue to the next lesson to **[learn about conditions and conditional statements](https://www.kaggle.com/alexisbcook/conditions-and-conditional-statements)**."
   ]
  },
  {
   "cell_type": "markdown",
   "id": "a2d6f1fd",
   "metadata": {
    "papermill": {
     "duration": 0.008551,
     "end_time": "2022-06-04T17:33:46.049599",
     "exception": false,
     "start_time": "2022-06-04T17:33:46.041048",
     "status": "completed"
    },
    "tags": []
   },
   "source": [
    "---\n",
    "\n",
    "\n",
    "\n",
    "\n",
    "*Have questions or comments? Visit the [course discussion forum](https://www.kaggle.com/learn/intro-to-programming/discussion) to chat with other learners.*"
   ]
  }
 ],
 "metadata": {
  "kernelspec": {
   "display_name": "Python 3",
   "language": "python",
   "name": "python3"
  },
  "language_info": {
   "codemirror_mode": {
    "name": "ipython",
    "version": 3
   },
   "file_extension": ".py",
   "mimetype": "text/x-python",
   "name": "python",
   "nbconvert_exporter": "python",
   "pygments_lexer": "ipython3",
   "version": "3.7.12"
  },
  "papermill": {
   "default_parameters": {},
   "duration": 11.484114,
   "end_time": "2022-06-04T17:33:46.780274",
   "environment_variables": {},
   "exception": null,
   "input_path": "__notebook__.ipynb",
   "output_path": "__notebook__.ipynb",
   "parameters": {},
   "start_time": "2022-06-04T17:33:35.296160",
   "version": "2.3.4"
  }
 },
 "nbformat": 4,
 "nbformat_minor": 5
}
