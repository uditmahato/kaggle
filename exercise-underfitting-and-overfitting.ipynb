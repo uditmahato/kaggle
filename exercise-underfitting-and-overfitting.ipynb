{
 "cells": [
  {
   "cell_type": "markdown",
   "id": "1444aab6",
   "metadata": {
    "papermill": {
     "duration": 0.004684,
     "end_time": "2022-05-27T16:27:49.325638",
     "exception": false,
     "start_time": "2022-05-27T16:27:49.320954",
     "status": "completed"
    },
    "tags": []
   },
   "source": [
    "**This notebook is an exercise in the [Introduction to Machine Learning](https://www.kaggle.com/learn/intro-to-machine-learning) course.  You can reference the tutorial at [this link](https://www.kaggle.com/dansbecker/underfitting-and-overfitting).**\n",
    "\n",
    "---\n"
   ]
  },
  {
   "cell_type": "markdown",
   "id": "d5d8585b",
   "metadata": {
    "papermill": {
     "duration": 0.003335,
     "end_time": "2022-05-27T16:27:49.335201",
     "exception": false,
     "start_time": "2022-05-27T16:27:49.331866",
     "status": "completed"
    },
    "tags": []
   },
   "source": [
    "## Recap\n",
    "You've built your first model, and now it's time to optimize the size of the tree to make better predictions. Run this cell to set up your coding environment where the previous step left off."
   ]
  },
  {
   "cell_type": "code",
   "execution_count": 1,
   "id": "98b4ec80",
   "metadata": {
    "execution": {
     "iopub.execute_input": "2022-05-27T16:27:49.344527Z",
     "iopub.status.busy": "2022-05-27T16:27:49.343889Z",
     "iopub.status.idle": "2022-05-27T16:27:50.618357Z",
     "shell.execute_reply": "2022-05-27T16:27:50.617366Z"
    },
    "papermill": {
     "duration": 1.282111,
     "end_time": "2022-05-27T16:27:50.620933",
     "exception": false,
     "start_time": "2022-05-27T16:27:49.338822",
     "status": "completed"
    },
    "tags": []
   },
   "outputs": [
    {
     "name": "stdout",
     "output_type": "stream",
     "text": [
      "Validation MAE: 29,653\n",
      "\n",
      "Setup complete\n"
     ]
    }
   ],
   "source": [
    "# Code you have previously used to load data\n",
    "import pandas as pd\n",
    "from sklearn.metrics import mean_absolute_error\n",
    "from sklearn.model_selection import train_test_split\n",
    "from sklearn.tree import DecisionTreeRegressor\n",
    "\n",
    "\n",
    "# Path of the file to read\n",
    "iowa_file_path = '../input/home-data-for-ml-course/train.csv'\n",
    "\n",
    "home_data = pd.read_csv(iowa_file_path)\n",
    "# Create target object and call it y\n",
    "y = home_data.SalePrice\n",
    "# Create X\n",
    "features = ['LotArea', 'YearBuilt', '1stFlrSF', '2ndFlrSF', 'FullBath', 'BedroomAbvGr', 'TotRmsAbvGrd']\n",
    "X = home_data[features]\n",
    "\n",
    "# Split into validation and training data\n",
    "train_X, val_X, train_y, val_y = train_test_split(X, y, random_state=1)\n",
    "\n",
    "# Specify Model\n",
    "iowa_model = DecisionTreeRegressor(random_state=1)\n",
    "# Fit Model\n",
    "iowa_model.fit(train_X, train_y)\n",
    "\n",
    "# Make validation predictions and calculate mean absolute error\n",
    "val_predictions = iowa_model.predict(val_X)\n",
    "val_mae = mean_absolute_error(val_predictions, val_y)\n",
    "print(\"Validation MAE: {:,.0f}\".format(val_mae))\n",
    "\n",
    "# Set up code checking\n",
    "from learntools.core import binder\n",
    "binder.bind(globals())\n",
    "from learntools.machine_learning.ex5 import *\n",
    "print(\"\\nSetup complete\")"
   ]
  },
  {
   "cell_type": "markdown",
   "id": "69f834c8",
   "metadata": {
    "papermill": {
     "duration": 0.003551,
     "end_time": "2022-05-27T16:27:50.628269",
     "exception": false,
     "start_time": "2022-05-27T16:27:50.624718",
     "status": "completed"
    },
    "tags": []
   },
   "source": [
    "# Exercises\n",
    "You could write the function `get_mae` yourself. For now, we'll supply it. This is the same function you read about in the previous lesson. Just run the cell below."
   ]
  },
  {
   "cell_type": "code",
   "execution_count": 2,
   "id": "d4f26896",
   "metadata": {
    "execution": {
     "iopub.execute_input": "2022-05-27T16:27:50.637328Z",
     "iopub.status.busy": "2022-05-27T16:27:50.636940Z",
     "iopub.status.idle": "2022-05-27T16:27:50.643017Z",
     "shell.execute_reply": "2022-05-27T16:27:50.642062Z"
    },
    "papermill": {
     "duration": 0.01311,
     "end_time": "2022-05-27T16:27:50.645032",
     "exception": false,
     "start_time": "2022-05-27T16:27:50.631922",
     "status": "completed"
    },
    "tags": []
   },
   "outputs": [],
   "source": [
    "def get_mae(max_leaf_nodes, train_X, val_X, train_y, val_y):\n",
    "    model = DecisionTreeRegressor(max_leaf_nodes=max_leaf_nodes, random_state=0)\n",
    "    model.fit(train_X, train_y)\n",
    "    preds_val = model.predict(val_X)\n",
    "    mae = mean_absolute_error(val_y, preds_val)\n",
    "    return(mae)"
   ]
  },
  {
   "cell_type": "markdown",
   "id": "b5856408",
   "metadata": {
    "papermill": {
     "duration": 0.003411,
     "end_time": "2022-05-27T16:27:50.652276",
     "exception": false,
     "start_time": "2022-05-27T16:27:50.648865",
     "status": "completed"
    },
    "tags": []
   },
   "source": [
    "## Step 1: Compare Different Tree Sizes\n",
    "Write a loop that tries the following values for *max_leaf_nodes* from a set of possible values.\n",
    "\n",
    "Call the *get_mae* function on each value of max_leaf_nodes. Store the output in some way that allows you to select the value of `max_leaf_nodes` that gives the most accurate model on your data."
   ]
  },
  {
   "cell_type": "code",
   "execution_count": 3,
   "id": "965901b5",
   "metadata": {
    "execution": {
     "iopub.execute_input": "2022-05-27T16:27:50.662300Z",
     "iopub.status.busy": "2022-05-27T16:27:50.661912Z",
     "iopub.status.idle": "2022-05-27T16:27:50.883108Z",
     "shell.execute_reply": "2022-05-27T16:27:50.882287Z"
    },
    "papermill": {
     "duration": 0.229387,
     "end_time": "2022-05-27T16:27:50.885262",
     "exception": false,
     "start_time": "2022-05-27T16:27:50.655875",
     "status": "completed"
    },
    "tags": []
   },
   "outputs": [
    {
     "data": {
      "application/javascript": [
       "parent.postMessage({\"jupyterEvent\": \"custom.exercise_interaction\", \"data\": {\"outcomeType\": 1, \"valueTowardsCompletion\": 0.5, \"interactionType\": 1, \"questionType\": 1, \"questionId\": \"1_BestTreeSize\", \"learnToolsVersion\": \"0.3.4\", \"failureMessage\": \"\", \"exceptionClass\": \"\", \"trace\": \"\"}}, \"*\")"
      ],
      "text/plain": [
       "<IPython.core.display.Javascript object>"
      ]
     },
     "metadata": {},
     "output_type": "display_data"
    },
    {
     "data": {
      "text/markdown": [
       "<span style=\"color:#33cc33\">Correct</span>"
      ],
      "text/plain": [
       "Correct"
      ]
     },
     "metadata": {},
     "output_type": "display_data"
    }
   ],
   "source": [
    "candidate_max_leaf_nodes = [5, 25, 50, 100, 250, 500]\n",
    "# Write loop to find the ideal tree size from candidate_max_leaf_nodes\n",
    "for i in candidate_max_leaf_nodes:\n",
    "    # Store the best value of max_leaf_nodes (it will be either 5, 25, 50, 100, 250 or 500)\n",
    "    scores = {leaf_size: get_mae(leaf_size, train_X, val_X, train_y, val_y) for leaf_size in candidate_max_leaf_nodes}\n",
    "    best_tree_size = min(scores, key=scores.get)\n",
    "\n",
    "\n",
    "# Check your answer\n",
    "step_1.check()"
   ]
  },
  {
   "cell_type": "code",
   "execution_count": 4,
   "id": "e009d769",
   "metadata": {
    "execution": {
     "iopub.execute_input": "2022-05-27T16:27:50.894789Z",
     "iopub.status.busy": "2022-05-27T16:27:50.894439Z",
     "iopub.status.idle": "2022-05-27T16:27:50.899583Z",
     "shell.execute_reply": "2022-05-27T16:27:50.898695Z"
    },
    "papermill": {
     "duration": 0.012466,
     "end_time": "2022-05-27T16:27:50.901760",
     "exception": false,
     "start_time": "2022-05-27T16:27:50.889294",
     "status": "completed"
    },
    "tags": []
   },
   "outputs": [],
   "source": [
    "# The lines below will show you a hint or the solution.\n",
    "# step_1.hint() \n",
    "# step_1.solution()"
   ]
  },
  {
   "cell_type": "markdown",
   "id": "2f116b9e",
   "metadata": {
    "papermill": {
     "duration": 0.003765,
     "end_time": "2022-05-27T16:27:50.909714",
     "exception": false,
     "start_time": "2022-05-27T16:27:50.905949",
     "status": "completed"
    },
    "tags": []
   },
   "source": [
    "## Step 2: Fit Model Using All Data\n",
    "You know the best tree size. If you were going to deploy this model in practice, you would make it even more accurate by using all of the data and keeping that tree size.  That is, you don't need to hold out the validation data now that you've made all your modeling decisions."
   ]
  },
  {
   "cell_type": "code",
   "execution_count": 5,
   "id": "cd182a3e",
   "metadata": {
    "execution": {
     "iopub.execute_input": "2022-05-27T16:27:50.919793Z",
     "iopub.status.busy": "2022-05-27T16:27:50.919050Z",
     "iopub.status.idle": "2022-05-27T16:27:50.927553Z",
     "shell.execute_reply": "2022-05-27T16:27:50.926648Z"
    },
    "papermill": {
     "duration": 0.015645,
     "end_time": "2022-05-27T16:27:50.929530",
     "exception": false,
     "start_time": "2022-05-27T16:27:50.913885",
     "status": "completed"
    },
    "tags": []
   },
   "outputs": [
    {
     "data": {
      "application/javascript": [
       "parent.postMessage({\"jupyterEvent\": \"custom.exercise_interaction\", \"data\": {\"outcomeType\": 2, \"failureMessage\": \"You still need to define the following variables: `final_model`\", \"interactionType\": 1, \"questionType\": 2, \"questionId\": \"2_FitModelWithAllData\", \"learnToolsVersion\": \"0.3.4\", \"valueTowardsCompletion\": 0.0, \"exceptionClass\": \"\", \"trace\": \"\"}}, \"*\")"
      ],
      "text/plain": [
       "<IPython.core.display.Javascript object>"
      ]
     },
     "metadata": {},
     "output_type": "display_data"
    },
    {
     "data": {
      "text/markdown": [
       "<span style=\"color:#cc3333\">Incorrect:</span> You still need to define the following variables: `final_model`"
      ],
      "text/plain": [
       "Incorrect: You still need to define the following variables: `final_model`"
      ]
     },
     "metadata": {},
     "output_type": "display_data"
    }
   ],
   "source": [
    "# Fill in argument to make optimal size and uncomment\n",
    "# final_model = DecisionTreeRegressor(____)\n",
    "\n",
    "# fit the final model and uncomment the next two lines\n",
    "# final_model.fit(____, ____)\n",
    "\n",
    "# Check your answer\n",
    "step_2.check()"
   ]
  },
  {
   "cell_type": "code",
   "execution_count": 6,
   "id": "11fbd06c",
   "metadata": {
    "execution": {
     "iopub.execute_input": "2022-05-27T16:27:50.939861Z",
     "iopub.status.busy": "2022-05-27T16:27:50.939249Z",
     "iopub.status.idle": "2022-05-27T16:27:50.943589Z",
     "shell.execute_reply": "2022-05-27T16:27:50.942653Z"
    },
    "papermill": {
     "duration": 0.011631,
     "end_time": "2022-05-27T16:27:50.945520",
     "exception": false,
     "start_time": "2022-05-27T16:27:50.933889",
     "status": "completed"
    },
    "tags": []
   },
   "outputs": [],
   "source": [
    "# step_2.hint()\n",
    "# step_2.solution()"
   ]
  },
  {
   "cell_type": "markdown",
   "id": "c4910d21",
   "metadata": {
    "papermill": {
     "duration": 0.004174,
     "end_time": "2022-05-27T16:27:50.954178",
     "exception": false,
     "start_time": "2022-05-27T16:27:50.950004",
     "status": "completed"
    },
    "tags": []
   },
   "source": [
    "You've tuned this model and improved your results. But we are still using Decision Tree models, which are not very sophisticated by modern machine learning standards. In the next step you will learn to use Random Forests to improve your models even more.\n",
    "\n",
    "# Keep Going\n",
    "\n",
    "You are ready for **[Random Forests](https://www.kaggle.com/dansbecker/random-forests).**\n"
   ]
  },
  {
   "cell_type": "markdown",
   "id": "3896b960",
   "metadata": {
    "papermill": {
     "duration": 0.003972,
     "end_time": "2022-05-27T16:27:50.962402",
     "exception": false,
     "start_time": "2022-05-27T16:27:50.958430",
     "status": "completed"
    },
    "tags": []
   },
   "source": [
    "---\n",
    "\n",
    "\n",
    "\n",
    "\n",
    "*Have questions or comments? Visit the [course discussion forum](https://www.kaggle.com/learn/intro-to-machine-learning/discussion) to chat with other learners.*"
   ]
  }
 ],
 "metadata": {
  "kernelspec": {
   "display_name": "Python 3",
   "language": "python",
   "name": "python3"
  },
  "language_info": {
   "codemirror_mode": {
    "name": "ipython",
    "version": 3
   },
   "file_extension": ".py",
   "mimetype": "text/x-python",
   "name": "python",
   "nbconvert_exporter": "python",
   "pygments_lexer": "ipython3",
   "version": "3.7.12"
  },
  "papermill": {
   "default_parameters": {},
   "duration": 11.955349,
   "end_time": "2022-05-27T16:27:51.686798",
   "environment_variables": {},
   "exception": null,
   "input_path": "__notebook__.ipynb",
   "output_path": "__notebook__.ipynb",
   "parameters": {},
   "start_time": "2022-05-27T16:27:39.731449",
   "version": "2.3.4"
  }
 },
 "nbformat": 4,
 "nbformat_minor": 5
}
