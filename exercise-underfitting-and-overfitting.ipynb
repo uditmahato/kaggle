{
 "cells": [
  {
   "cell_type": "markdown",
   "id": "6dc93616",
   "metadata": {
    "papermill": {
     "duration": 0.004897,
     "end_time": "2022-05-27T16:29:11.336482",
     "exception": false,
     "start_time": "2022-05-27T16:29:11.331585",
     "status": "completed"
    },
    "tags": []
   },
   "source": [
    "**This notebook is an exercise in the [Introduction to Machine Learning](https://www.kaggle.com/learn/intro-to-machine-learning) course.  You can reference the tutorial at [this link](https://www.kaggle.com/dansbecker/underfitting-and-overfitting).**\n",
    "\n",
    "---\n"
   ]
  },
  {
   "cell_type": "markdown",
   "id": "7be4ec08",
   "metadata": {
    "papermill": {
     "duration": 0.003577,
     "end_time": "2022-05-27T16:29:11.346440",
     "exception": false,
     "start_time": "2022-05-27T16:29:11.342863",
     "status": "completed"
    },
    "tags": []
   },
   "source": [
    "## Recap\n",
    "You've built your first model, and now it's time to optimize the size of the tree to make better predictions. Run this cell to set up your coding environment where the previous step left off."
   ]
  },
  {
   "cell_type": "code",
   "execution_count": 1,
   "id": "82507ba4",
   "metadata": {
    "execution": {
     "iopub.execute_input": "2022-05-27T16:29:11.356147Z",
     "iopub.status.busy": "2022-05-27T16:29:11.355417Z",
     "iopub.status.idle": "2022-05-27T16:29:12.796038Z",
     "shell.execute_reply": "2022-05-27T16:29:12.794839Z"
    },
    "papermill": {
     "duration": 1.44832,
     "end_time": "2022-05-27T16:29:12.798576",
     "exception": false,
     "start_time": "2022-05-27T16:29:11.350256",
     "status": "completed"
    },
    "tags": []
   },
   "outputs": [
    {
     "name": "stdout",
     "output_type": "stream",
     "text": [
      "Validation MAE: 29,653\n",
      "\n",
      "Setup complete\n"
     ]
    }
   ],
   "source": [
    "# Code you have previously used to load data\n",
    "import pandas as pd\n",
    "from sklearn.metrics import mean_absolute_error\n",
    "from sklearn.model_selection import train_test_split\n",
    "from sklearn.tree import DecisionTreeRegressor\n",
    "\n",
    "\n",
    "# Path of the file to read\n",
    "iowa_file_path = '../input/home-data-for-ml-course/train.csv'\n",
    "\n",
    "home_data = pd.read_csv(iowa_file_path)\n",
    "# Create target object and call it y\n",
    "y = home_data.SalePrice\n",
    "# Create X\n",
    "features = ['LotArea', 'YearBuilt', '1stFlrSF', '2ndFlrSF', 'FullBath', 'BedroomAbvGr', 'TotRmsAbvGrd']\n",
    "X = home_data[features]\n",
    "\n",
    "# Split into validation and training data\n",
    "train_X, val_X, train_y, val_y = train_test_split(X, y, random_state=1)\n",
    "\n",
    "# Specify Model\n",
    "iowa_model = DecisionTreeRegressor(random_state=1)\n",
    "# Fit Model\n",
    "iowa_model.fit(train_X, train_y)\n",
    "\n",
    "# Make validation predictions and calculate mean absolute error\n",
    "val_predictions = iowa_model.predict(val_X)\n",
    "val_mae = mean_absolute_error(val_predictions, val_y)\n",
    "print(\"Validation MAE: {:,.0f}\".format(val_mae))\n",
    "\n",
    "# Set up code checking\n",
    "from learntools.core import binder\n",
    "binder.bind(globals())\n",
    "from learntools.machine_learning.ex5 import *\n",
    "print(\"\\nSetup complete\")"
   ]
  },
  {
   "cell_type": "markdown",
   "id": "56f4dad4",
   "metadata": {
    "papermill": {
     "duration": 0.005954,
     "end_time": "2022-05-27T16:29:12.810176",
     "exception": false,
     "start_time": "2022-05-27T16:29:12.804222",
     "status": "completed"
    },
    "tags": []
   },
   "source": [
    "# Exercises\n",
    "You could write the function `get_mae` yourself. For now, we'll supply it. This is the same function you read about in the previous lesson. Just run the cell below."
   ]
  },
  {
   "cell_type": "code",
   "execution_count": 2,
   "id": "171ee1a1",
   "metadata": {
    "execution": {
     "iopub.execute_input": "2022-05-27T16:29:12.823051Z",
     "iopub.status.busy": "2022-05-27T16:29:12.822473Z",
     "iopub.status.idle": "2022-05-27T16:29:12.828217Z",
     "shell.execute_reply": "2022-05-27T16:29:12.827298Z"
    },
    "papermill": {
     "duration": 0.015793,
     "end_time": "2022-05-27T16:29:12.830557",
     "exception": false,
     "start_time": "2022-05-27T16:29:12.814764",
     "status": "completed"
    },
    "tags": []
   },
   "outputs": [],
   "source": [
    "def get_mae(max_leaf_nodes, train_X, val_X, train_y, val_y):\n",
    "    model = DecisionTreeRegressor(max_leaf_nodes=max_leaf_nodes, random_state=0)\n",
    "    model.fit(train_X, train_y)\n",
    "    preds_val = model.predict(val_X)\n",
    "    mae = mean_absolute_error(val_y, preds_val)\n",
    "    return(mae)"
   ]
  },
  {
   "cell_type": "markdown",
   "id": "352d609e",
   "metadata": {
    "papermill": {
     "duration": 0.003809,
     "end_time": "2022-05-27T16:29:12.838501",
     "exception": false,
     "start_time": "2022-05-27T16:29:12.834692",
     "status": "completed"
    },
    "tags": []
   },
   "source": [
    "## Step 1: Compare Different Tree Sizes\n",
    "Write a loop that tries the following values for *max_leaf_nodes* from a set of possible values.\n",
    "\n",
    "Call the *get_mae* function on each value of max_leaf_nodes. Store the output in some way that allows you to select the value of `max_leaf_nodes` that gives the most accurate model on your data."
   ]
  },
  {
   "cell_type": "code",
   "execution_count": 3,
   "id": "e1756047",
   "metadata": {
    "execution": {
     "iopub.execute_input": "2022-05-27T16:29:12.850018Z",
     "iopub.status.busy": "2022-05-27T16:29:12.849374Z",
     "iopub.status.idle": "2022-05-27T16:29:13.100704Z",
     "shell.execute_reply": "2022-05-27T16:29:13.099766Z"
    },
    "papermill": {
     "duration": 0.261359,
     "end_time": "2022-05-27T16:29:13.103854",
     "exception": false,
     "start_time": "2022-05-27T16:29:12.842495",
     "status": "completed"
    },
    "tags": []
   },
   "outputs": [
    {
     "data": {
      "application/javascript": [
       "parent.postMessage({\"jupyterEvent\": \"custom.exercise_interaction\", \"data\": {\"outcomeType\": 1, \"valueTowardsCompletion\": 0.5, \"interactionType\": 1, \"questionType\": 1, \"questionId\": \"1_BestTreeSize\", \"learnToolsVersion\": \"0.3.4\", \"failureMessage\": \"\", \"exceptionClass\": \"\", \"trace\": \"\"}}, \"*\")"
      ],
      "text/plain": [
       "<IPython.core.display.Javascript object>"
      ]
     },
     "metadata": {},
     "output_type": "display_data"
    },
    {
     "data": {
      "text/markdown": [
       "<span style=\"color:#33cc33\">Correct</span>"
      ],
      "text/plain": [
       "Correct"
      ]
     },
     "metadata": {},
     "output_type": "display_data"
    }
   ],
   "source": [
    "candidate_max_leaf_nodes = [5, 25, 50, 100, 250, 500]\n",
    "# Write loop to find the ideal tree size from candidate_max_leaf_nodes\n",
    "for i in candidate_max_leaf_nodes:\n",
    "    # Store the best value of max_leaf_nodes (it will be either 5, 25, 50, 100, 250 or 500)\n",
    "    scores = {leaf_size: get_mae(leaf_size, train_X, val_X, train_y, val_y) for leaf_size in candidate_max_leaf_nodes}\n",
    "    best_tree_size = min(scores, key=scores.get)\n",
    "\n",
    "\n",
    "# Check your answer\n",
    "step_1.check()"
   ]
  },
  {
   "cell_type": "code",
   "execution_count": 4,
   "id": "9a3dcdbd",
   "metadata": {
    "execution": {
     "iopub.execute_input": "2022-05-27T16:29:13.114349Z",
     "iopub.status.busy": "2022-05-27T16:29:13.113920Z",
     "iopub.status.idle": "2022-05-27T16:29:13.117775Z",
     "shell.execute_reply": "2022-05-27T16:29:13.117061Z"
    },
    "papermill": {
     "duration": 0.012382,
     "end_time": "2022-05-27T16:29:13.120630",
     "exception": false,
     "start_time": "2022-05-27T16:29:13.108248",
     "status": "completed"
    },
    "tags": []
   },
   "outputs": [],
   "source": [
    "# The lines below will show you a hint or the solution.\n",
    "# step_1.hint() \n",
    "# step_1.solution()"
   ]
  },
  {
   "cell_type": "markdown",
   "id": "a7dde8b6",
   "metadata": {
    "papermill": {
     "duration": 0.004416,
     "end_time": "2022-05-27T16:29:13.129835",
     "exception": false,
     "start_time": "2022-05-27T16:29:13.125419",
     "status": "completed"
    },
    "tags": []
   },
   "source": [
    "## Step 2: Fit Model Using All Data\n",
    "You know the best tree size. If you were going to deploy this model in practice, you would make it even more accurate by using all of the data and keeping that tree size.  That is, you don't need to hold out the validation data now that you've made all your modeling decisions."
   ]
  },
  {
   "cell_type": "code",
   "execution_count": 5,
   "id": "40b00a0b",
   "metadata": {
    "execution": {
     "iopub.execute_input": "2022-05-27T16:29:13.147306Z",
     "iopub.status.busy": "2022-05-27T16:29:13.145258Z",
     "iopub.status.idle": "2022-05-27T16:29:13.174427Z",
     "shell.execute_reply": "2022-05-27T16:29:13.172993Z"
    },
    "papermill": {
     "duration": 0.039991,
     "end_time": "2022-05-27T16:29:13.176591",
     "exception": false,
     "start_time": "2022-05-27T16:29:13.136600",
     "status": "completed"
    },
    "tags": []
   },
   "outputs": [
    {
     "data": {
      "application/javascript": [
       "parent.postMessage({\"jupyterEvent\": \"custom.exercise_interaction\", \"data\": {\"outcomeType\": 1, \"valueTowardsCompletion\": 0.5, \"interactionType\": 1, \"questionType\": 2, \"questionId\": \"2_FitModelWithAllData\", \"learnToolsVersion\": \"0.3.4\", \"failureMessage\": \"\", \"exceptionClass\": \"\", \"trace\": \"\"}}, \"*\")"
      ],
      "text/plain": [
       "<IPython.core.display.Javascript object>"
      ]
     },
     "metadata": {},
     "output_type": "display_data"
    },
    {
     "data": {
      "text/markdown": [
       "<span style=\"color:#33cc33\">Correct</span>"
      ],
      "text/plain": [
       "Correct"
      ]
     },
     "metadata": {},
     "output_type": "display_data"
    }
   ],
   "source": [
    "# Fit the model with best_tree_size. Fill in argument to make optimal size\n",
    "final_model = DecisionTreeRegressor(max_leaf_nodes=best_tree_size, random_state=1)\n",
    "\n",
    "# fit the final model\n",
    "final_model.fit(X, y)\n",
    "\n",
    "# Check your answer\n",
    "step_2.check()"
   ]
  },
  {
   "cell_type": "code",
   "execution_count": 6,
   "id": "95828212",
   "metadata": {
    "execution": {
     "iopub.execute_input": "2022-05-27T16:29:13.188786Z",
     "iopub.status.busy": "2022-05-27T16:29:13.187985Z",
     "iopub.status.idle": "2022-05-27T16:29:13.192831Z",
     "shell.execute_reply": "2022-05-27T16:29:13.191582Z"
    },
    "papermill": {
     "duration": 0.014279,
     "end_time": "2022-05-27T16:29:13.195811",
     "exception": false,
     "start_time": "2022-05-27T16:29:13.181532",
     "status": "completed"
    },
    "tags": []
   },
   "outputs": [],
   "source": [
    "# step_2.hint()\n",
    "# step_2.solution()"
   ]
  },
  {
   "cell_type": "markdown",
   "id": "55b90bf2",
   "metadata": {
    "papermill": {
     "duration": 0.006894,
     "end_time": "2022-05-27T16:29:13.210196",
     "exception": false,
     "start_time": "2022-05-27T16:29:13.203302",
     "status": "completed"
    },
    "tags": []
   },
   "source": [
    "You've tuned this model and improved your results. But we are still using Decision Tree models, which are not very sophisticated by modern machine learning standards. In the next step you will learn to use Random Forests to improve your models even more.\n",
    "\n",
    "# Keep Going\n",
    "\n",
    "You are ready for **[Random Forests](https://www.kaggle.com/dansbecker/random-forests).**\n"
   ]
  },
  {
   "cell_type": "markdown",
   "id": "f8789636",
   "metadata": {
    "papermill": {
     "duration": 0.006848,
     "end_time": "2022-05-27T16:29:13.224378",
     "exception": false,
     "start_time": "2022-05-27T16:29:13.217530",
     "status": "completed"
    },
    "tags": []
   },
   "source": [
    "---\n",
    "\n",
    "\n",
    "\n",
    "\n",
    "*Have questions or comments? Visit the [course discussion forum](https://www.kaggle.com/learn/intro-to-machine-learning/discussion) to chat with other learners.*"
   ]
  }
 ],
 "metadata": {
  "kernelspec": {
   "display_name": "Python 3",
   "language": "python",
   "name": "python3"
  },
  "language_info": {
   "codemirror_mode": {
    "name": "ipython",
    "version": 3
   },
   "file_extension": ".py",
   "mimetype": "text/x-python",
   "name": "python",
   "nbconvert_exporter": "python",
   "pygments_lexer": "ipython3",
   "version": "3.7.12"
  },
  "papermill": {
   "default_parameters": {},
   "duration": 12.905548,
   "end_time": "2022-05-27T16:29:13.952090",
   "environment_variables": {},
   "exception": null,
   "input_path": "__notebook__.ipynb",
   "output_path": "__notebook__.ipynb",
   "parameters": {},
   "start_time": "2022-05-27T16:29:01.046542",
   "version": "2.3.4"
  }
 },
 "nbformat": 4,
 "nbformat_minor": 5
}
