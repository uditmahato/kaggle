{
 "cells": [
  {
   "cell_type": "markdown",
   "id": "4ee10809",
   "metadata": {
    "papermill": {
     "duration": 0.004829,
     "end_time": "2022-05-29T18:11:43.110673",
     "exception": false,
     "start_time": "2022-05-29T18:11:43.105844",
     "status": "completed"
    },
    "tags": []
   },
   "source": [
    "**This notebook is an exercise in the [Introduction to Machine Learning](https://www.kaggle.com/learn/intro-to-machine-learning) course.  You can reference the tutorial at [this link](https://www.kaggle.com/dansbecker/underfitting-and-overfitting).**\n",
    "\n",
    "---\n"
   ]
  },
  {
   "cell_type": "markdown",
   "id": "ea65e36b",
   "metadata": {
    "papermill": {
     "duration": 0.003564,
     "end_time": "2022-05-29T18:11:43.120662",
     "exception": false,
     "start_time": "2022-05-29T18:11:43.117098",
     "status": "completed"
    },
    "tags": []
   },
   "source": [
    "## Recap\n",
    "You've built your first model, and now it's time to optimize the size of the tree to make better predictions. Run this cell to set up your coding environment where the previous step left off."
   ]
  },
  {
   "cell_type": "code",
   "execution_count": 1,
   "id": "7a84a280",
   "metadata": {
    "execution": {
     "iopub.execute_input": "2022-05-29T18:11:43.130857Z",
     "iopub.status.busy": "2022-05-29T18:11:43.130378Z",
     "iopub.status.idle": "2022-05-29T18:11:44.576605Z",
     "shell.execute_reply": "2022-05-29T18:11:44.575831Z"
    },
    "papermill": {
     "duration": 1.454681,
     "end_time": "2022-05-29T18:11:44.579193",
     "exception": false,
     "start_time": "2022-05-29T18:11:43.124512",
     "status": "completed"
    },
    "tags": []
   },
   "outputs": [
    {
     "name": "stdout",
     "output_type": "stream",
     "text": [
      "Validation MAE: 29,653\n",
      "\n",
      "Setup complete\n"
     ]
    }
   ],
   "source": [
    "# Code you have previously used to load data\n",
    "import pandas as pd\n",
    "from sklearn.metrics import mean_absolute_error\n",
    "from sklearn.model_selection import train_test_split\n",
    "from sklearn.tree import DecisionTreeRegressor\n",
    "\n",
    "\n",
    "# Path of the file to read\n",
    "iowa_file_path = '../input/home-data-for-ml-course/train.csv'\n",
    "\n",
    "home_data = pd.read_csv(iowa_file_path)\n",
    "# Create target object and call it y\n",
    "y = home_data.SalePrice\n",
    "# Create X\n",
    "features = ['LotArea', 'YearBuilt', '1stFlrSF', '2ndFlrSF', 'FullBath', 'BedroomAbvGr', 'TotRmsAbvGrd']\n",
    "X = home_data[features]\n",
    "\n",
    "# Split into validation and training data\n",
    "train_X, val_X, train_y, val_y = train_test_split(X, y, random_state=1)\n",
    "\n",
    "# Specify Model\n",
    "iowa_model = DecisionTreeRegressor(random_state=1)\n",
    "# Fit Model\n",
    "iowa_model.fit(train_X, train_y)\n",
    "\n",
    "# Make validation predictions and calculate mean absolute error\n",
    "val_predictions = iowa_model.predict(val_X)\n",
    "val_mae = mean_absolute_error(val_predictions, val_y)\n",
    "print(\"Validation MAE: {:,.0f}\".format(val_mae))\n",
    "\n",
    "# Set up code checking\n",
    "from learntools.core import binder\n",
    "binder.bind(globals())\n",
    "from learntools.machine_learning.ex5 import *\n",
    "print(\"\\nSetup complete\")"
   ]
  },
  {
   "cell_type": "markdown",
   "id": "07cebdf0",
   "metadata": {
    "papermill": {
     "duration": 0.003671,
     "end_time": "2022-05-29T18:11:44.587109",
     "exception": false,
     "start_time": "2022-05-29T18:11:44.583438",
     "status": "completed"
    },
    "tags": []
   },
   "source": [
    "# Exercises\n",
    "You could write the function `get_mae` yourself. For now, we'll supply it. This is the same function you read about in the previous lesson. Just run the cell below."
   ]
  },
  {
   "cell_type": "code",
   "execution_count": 2,
   "id": "2274814a",
   "metadata": {
    "execution": {
     "iopub.execute_input": "2022-05-29T18:11:44.597168Z",
     "iopub.status.busy": "2022-05-29T18:11:44.596133Z",
     "iopub.status.idle": "2022-05-29T18:11:44.602442Z",
     "shell.execute_reply": "2022-05-29T18:11:44.601728Z"
    },
    "papermill": {
     "duration": 0.013655,
     "end_time": "2022-05-29T18:11:44.604680",
     "exception": false,
     "start_time": "2022-05-29T18:11:44.591025",
     "status": "completed"
    },
    "tags": []
   },
   "outputs": [],
   "source": [
    "def get_mae(max_leaf_nodes, train_X, val_X, train_y, val_y):\n",
    "    model = DecisionTreeRegressor(max_leaf_nodes=max_leaf_nodes, random_state=0)\n",
    "    model.fit(train_X, train_y)\n",
    "    preds_val = model.predict(val_X)\n",
    "    mae = mean_absolute_error(val_y, preds_val)\n",
    "    return(mae)"
   ]
  },
  {
   "cell_type": "markdown",
   "id": "69f63777",
   "metadata": {
    "papermill": {
     "duration": 0.00366,
     "end_time": "2022-05-29T18:11:44.612365",
     "exception": false,
     "start_time": "2022-05-29T18:11:44.608705",
     "status": "completed"
    },
    "tags": []
   },
   "source": [
    "## Step 1: Compare Different Tree Sizes\n",
    "Write a loop that tries the following values for *max_leaf_nodes* from a set of possible values.\n",
    "\n",
    "Call the *get_mae* function on each value of max_leaf_nodes. Store the output in some way that allows you to select the value of `max_leaf_nodes` that gives the most accurate model on your data."
   ]
  },
  {
   "cell_type": "code",
   "execution_count": 3,
   "id": "af7cad8c",
   "metadata": {
    "execution": {
     "iopub.execute_input": "2022-05-29T18:11:44.622134Z",
     "iopub.status.busy": "2022-05-29T18:11:44.621766Z",
     "iopub.status.idle": "2022-05-29T18:11:44.847394Z",
     "shell.execute_reply": "2022-05-29T18:11:44.846415Z"
    },
    "papermill": {
     "duration": 0.233617,
     "end_time": "2022-05-29T18:11:44.850013",
     "exception": false,
     "start_time": "2022-05-29T18:11:44.616396",
     "status": "completed"
    },
    "tags": []
   },
   "outputs": [
    {
     "data": {
      "application/javascript": [
       "parent.postMessage({\"jupyterEvent\": \"custom.exercise_interaction\", \"data\": {\"outcomeType\": 1, \"valueTowardsCompletion\": 0.5, \"interactionType\": 1, \"questionType\": 1, \"questionId\": \"1_BestTreeSize\", \"learnToolsVersion\": \"0.3.4\", \"failureMessage\": \"\", \"exceptionClass\": \"\", \"trace\": \"\"}}, \"*\")"
      ],
      "text/plain": [
       "<IPython.core.display.Javascript object>"
      ]
     },
     "metadata": {},
     "output_type": "display_data"
    },
    {
     "data": {
      "text/markdown": [
       "<span style=\"color:#33cc33\">Correct</span>"
      ],
      "text/plain": [
       "Correct"
      ]
     },
     "metadata": {},
     "output_type": "display_data"
    }
   ],
   "source": [
    "candidate_max_leaf_nodes = [5, 25, 50, 100, 250, 500]\n",
    "# Write loop to find the ideal tree size from candidate_max_leaf_nodes\n",
    "for i in candidate_max_leaf_nodes:\n",
    "    # Store the best value of max_leaf_nodes (it will be either 5, 25, 50, 100, 250 or 500)\n",
    "    scores = {leaf_size: get_mae(leaf_size, train_X, val_X, train_y, val_y) for leaf_size in candidate_max_leaf_nodes}\n",
    "    best_tree_size = min(scores, key=scores.get)\n",
    "\n",
    "\n",
    "# Check your answer\n",
    "step_1.check()"
   ]
  },
  {
   "cell_type": "code",
   "execution_count": 4,
   "id": "4967ca3f",
   "metadata": {
    "execution": {
     "iopub.execute_input": "2022-05-29T18:11:44.860302Z",
     "iopub.status.busy": "2022-05-29T18:11:44.859937Z",
     "iopub.status.idle": "2022-05-29T18:11:44.864049Z",
     "shell.execute_reply": "2022-05-29T18:11:44.862894Z"
    },
    "papermill": {
     "duration": 0.011646,
     "end_time": "2022-05-29T18:11:44.866040",
     "exception": false,
     "start_time": "2022-05-29T18:11:44.854394",
     "status": "completed"
    },
    "tags": []
   },
   "outputs": [],
   "source": [
    "# The lines below will show you a hint or the solution.\n",
    "# step_1.hint() \n",
    "# step_1.solution()"
   ]
  },
  {
   "cell_type": "markdown",
   "id": "672ade4f",
   "metadata": {
    "papermill": {
     "duration": 0.004584,
     "end_time": "2022-05-29T18:11:44.874920",
     "exception": false,
     "start_time": "2022-05-29T18:11:44.870336",
     "status": "completed"
    },
    "tags": []
   },
   "source": [
    "## Step 2: Fit Model Using All Data\n",
    "You know the best tree size. If you were going to deploy this model in practice, you would make it even more accurate by using all of the data and keeping that tree size.  That is, you don't need to hold out the validation data now that you've made all your modeling decisions."
   ]
  },
  {
   "cell_type": "code",
   "execution_count": 5,
   "id": "aacc81a1",
   "metadata": {
    "execution": {
     "iopub.execute_input": "2022-05-29T18:11:44.885252Z",
     "iopub.status.busy": "2022-05-29T18:11:44.884885Z",
     "iopub.status.idle": "2022-05-29T18:11:44.901519Z",
     "shell.execute_reply": "2022-05-29T18:11:44.900548Z"
    },
    "papermill": {
     "duration": 0.024336,
     "end_time": "2022-05-29T18:11:44.903639",
     "exception": false,
     "start_time": "2022-05-29T18:11:44.879303",
     "status": "completed"
    },
    "tags": []
   },
   "outputs": [
    {
     "data": {
      "application/javascript": [
       "parent.postMessage({\"jupyterEvent\": \"custom.exercise_interaction\", \"data\": {\"outcomeType\": 1, \"valueTowardsCompletion\": 0.5, \"interactionType\": 1, \"questionType\": 2, \"questionId\": \"2_FitModelWithAllData\", \"learnToolsVersion\": \"0.3.4\", \"failureMessage\": \"\", \"exceptionClass\": \"\", \"trace\": \"\"}}, \"*\")"
      ],
      "text/plain": [
       "<IPython.core.display.Javascript object>"
      ]
     },
     "metadata": {},
     "output_type": "display_data"
    },
    {
     "data": {
      "text/markdown": [
       "<span style=\"color:#33cc33\">Correct</span>"
      ],
      "text/plain": [
       "Correct"
      ]
     },
     "metadata": {},
     "output_type": "display_data"
    }
   ],
   "source": [
    "# Fit the model with best_tree_size. Fill in argument to make optimal size\n",
    "final_model = DecisionTreeRegressor(max_leaf_nodes=best_tree_size, random_state=1)\n",
    "\n",
    "# fit the final model\n",
    "final_model.fit(X, y)\n",
    "\n",
    "# Check your answer\n",
    "step_2.check()"
   ]
  },
  {
   "cell_type": "code",
   "execution_count": 6,
   "id": "76486ea6",
   "metadata": {
    "execution": {
     "iopub.execute_input": "2022-05-29T18:11:44.914358Z",
     "iopub.status.busy": "2022-05-29T18:11:44.913956Z",
     "iopub.status.idle": "2022-05-29T18:11:44.919085Z",
     "shell.execute_reply": "2022-05-29T18:11:44.918322Z"
    },
    "papermill": {
     "duration": 0.012931,
     "end_time": "2022-05-29T18:11:44.921150",
     "exception": false,
     "start_time": "2022-05-29T18:11:44.908219",
     "status": "completed"
    },
    "tags": []
   },
   "outputs": [],
   "source": [
    "# step_2.hint()\n",
    "# step_2.solution()"
   ]
  },
  {
   "cell_type": "markdown",
   "id": "0192e51e",
   "metadata": {
    "papermill": {
     "duration": 0.004315,
     "end_time": "2022-05-29T18:11:44.930783",
     "exception": false,
     "start_time": "2022-05-29T18:11:44.926468",
     "status": "completed"
    },
    "tags": []
   },
   "source": [
    "You've tuned this model and improved your results. But we are still using Decision Tree models, which are not very sophisticated by modern machine learning standards. In the next step you will learn to use Random Forests to improve your models even more.\n",
    "\n",
    "# Keep Going\n",
    "\n",
    "You are ready for **[Random Forests](https://www.kaggle.com/dansbecker/random-forests).**\n"
   ]
  },
  {
   "cell_type": "markdown",
   "id": "5ceae605",
   "metadata": {
    "papermill": {
     "duration": 0.004692,
     "end_time": "2022-05-29T18:11:44.940215",
     "exception": false,
     "start_time": "2022-05-29T18:11:44.935523",
     "status": "completed"
    },
    "tags": []
   },
   "source": [
    "---\n",
    "\n",
    "\n",
    "\n",
    "\n",
    "*Have questions or comments? Visit the [course discussion forum](https://www.kaggle.com/learn/intro-to-machine-learning/discussion) to chat with other learners.*"
   ]
  }
 ],
 "metadata": {
  "kernelspec": {
   "display_name": "Python 3",
   "language": "python",
   "name": "python3"
  },
  "language_info": {
   "codemirror_mode": {
    "name": "ipython",
    "version": 3
   },
   "file_extension": ".py",
   "mimetype": "text/x-python",
   "name": "python",
   "nbconvert_exporter": "python",
   "pygments_lexer": "ipython3",
   "version": "3.7.12"
  },
  "papermill": {
   "default_parameters": {},
   "duration": 12.42495,
   "end_time": "2022-05-29T18:11:45.666650",
   "environment_variables": {},
   "exception": null,
   "input_path": "__notebook__.ipynb",
   "output_path": "__notebook__.ipynb",
   "parameters": {},
   "start_time": "2022-05-29T18:11:33.241700",
   "version": "2.3.4"
  }
 },
 "nbformat": 4,
 "nbformat_minor": 5
}
