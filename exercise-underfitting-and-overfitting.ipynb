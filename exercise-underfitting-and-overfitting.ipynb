{
 "cells": [
  {
   "cell_type": "markdown",
   "id": "22fdbd49",
   "metadata": {
    "papermill": {
     "duration": 0.00357,
     "end_time": "2022-05-26T18:09:38.313127",
     "exception": false,
     "start_time": "2022-05-26T18:09:38.309557",
     "status": "completed"
    },
    "tags": []
   },
   "source": [
    "**This notebook is an exercise in the [Introduction to Machine Learning](https://www.kaggle.com/learn/intro-to-machine-learning) course.  You can reference the tutorial at [this link](https://www.kaggle.com/dansbecker/underfitting-and-overfitting).**\n",
    "\n",
    "---\n"
   ]
  },
  {
   "cell_type": "markdown",
   "id": "5d80b92c",
   "metadata": {
    "papermill": {
     "duration": 0.002556,
     "end_time": "2022-05-26T18:09:38.321056",
     "exception": false,
     "start_time": "2022-05-26T18:09:38.318500",
     "status": "completed"
    },
    "tags": []
   },
   "source": [
    "## Recap\n",
    "You've built your first model, and now it's time to optimize the size of the tree to make better predictions. Run this cell to set up your coding environment where the previous step left off."
   ]
  },
  {
   "cell_type": "code",
   "execution_count": 1,
   "id": "17badc3c",
   "metadata": {
    "execution": {
     "iopub.execute_input": "2022-05-26T18:09:38.328302Z",
     "iopub.status.busy": "2022-05-26T18:09:38.327662Z",
     "iopub.status.idle": "2022-05-26T18:09:39.680993Z",
     "shell.execute_reply": "2022-05-26T18:09:39.679979Z"
    },
    "papermill": {
     "duration": 1.359615,
     "end_time": "2022-05-26T18:09:39.683294",
     "exception": false,
     "start_time": "2022-05-26T18:09:38.323679",
     "status": "completed"
    },
    "tags": []
   },
   "outputs": [
    {
     "name": "stdout",
     "output_type": "stream",
     "text": [
      "Validation MAE: 29,653\n",
      "\n",
      "Setup complete\n"
     ]
    }
   ],
   "source": [
    "# Code you have previously used to load data\n",
    "import pandas as pd\n",
    "from sklearn.metrics import mean_absolute_error\n",
    "from sklearn.model_selection import train_test_split\n",
    "from sklearn.tree import DecisionTreeRegressor\n",
    "\n",
    "\n",
    "# Path of the file to read\n",
    "iowa_file_path = '../input/home-data-for-ml-course/train.csv'\n",
    "\n",
    "home_data = pd.read_csv(iowa_file_path)\n",
    "# Create target object and call it y\n",
    "y = home_data.SalePrice\n",
    "# Create X\n",
    "features = ['LotArea', 'YearBuilt', '1stFlrSF', '2ndFlrSF', 'FullBath', 'BedroomAbvGr', 'TotRmsAbvGrd']\n",
    "X = home_data[features]\n",
    "\n",
    "# Split into validation and training data\n",
    "train_X, val_X, train_y, val_y = train_test_split(X, y, random_state=1)\n",
    "\n",
    "# Specify Model\n",
    "iowa_model = DecisionTreeRegressor(random_state=1)\n",
    "# Fit Model\n",
    "iowa_model.fit(train_X, train_y)\n",
    "\n",
    "# Make validation predictions and calculate mean absolute error\n",
    "val_predictions = iowa_model.predict(val_X)\n",
    "val_mae = mean_absolute_error(val_predictions, val_y)\n",
    "print(\"Validation MAE: {:,.0f}\".format(val_mae))\n",
    "\n",
    "# Set up code checking\n",
    "from learntools.core import binder\n",
    "binder.bind(globals())\n",
    "from learntools.machine_learning.ex5 import *\n",
    "print(\"\\nSetup complete\")"
   ]
  },
  {
   "cell_type": "markdown",
   "id": "ea3b8b9d",
   "metadata": {
    "papermill": {
     "duration": 0.002689,
     "end_time": "2022-05-26T18:09:39.688994",
     "exception": false,
     "start_time": "2022-05-26T18:09:39.686305",
     "status": "completed"
    },
    "tags": []
   },
   "source": [
    "# Exercises\n",
    "You could write the function `get_mae` yourself. For now, we'll supply it. This is the same function you read about in the previous lesson. Just run the cell below."
   ]
  },
  {
   "cell_type": "code",
   "execution_count": 2,
   "id": "2364b914",
   "metadata": {
    "execution": {
     "iopub.execute_input": "2022-05-26T18:09:39.696253Z",
     "iopub.status.busy": "2022-05-26T18:09:39.695841Z",
     "iopub.status.idle": "2022-05-26T18:09:39.701497Z",
     "shell.execute_reply": "2022-05-26T18:09:39.700274Z"
    },
    "papermill": {
     "duration": 0.011717,
     "end_time": "2022-05-26T18:09:39.703491",
     "exception": false,
     "start_time": "2022-05-26T18:09:39.691774",
     "status": "completed"
    },
    "tags": []
   },
   "outputs": [],
   "source": [
    "def get_mae(max_leaf_nodes, train_X, val_X, train_y, val_y):\n",
    "    model = DecisionTreeRegressor(max_leaf_nodes=max_leaf_nodes, random_state=0)\n",
    "    model.fit(train_X, train_y)\n",
    "    preds_val = model.predict(val_X)\n",
    "    mae = mean_absolute_error(val_y, preds_val)\n",
    "    return(mae)"
   ]
  },
  {
   "cell_type": "markdown",
   "id": "086a4006",
   "metadata": {
    "papermill": {
     "duration": 0.002801,
     "end_time": "2022-05-26T18:09:39.709256",
     "exception": false,
     "start_time": "2022-05-26T18:09:39.706455",
     "status": "completed"
    },
    "tags": []
   },
   "source": [
    "## Step 1: Compare Different Tree Sizes\n",
    "Write a loop that tries the following values for *max_leaf_nodes* from a set of possible values.\n",
    "\n",
    "Call the *get_mae* function on each value of max_leaf_nodes. Store the output in some way that allows you to select the value of `max_leaf_nodes` that gives the most accurate model on your data."
   ]
  },
  {
   "cell_type": "code",
   "execution_count": 3,
   "id": "354d6ebf",
   "metadata": {
    "execution": {
     "iopub.execute_input": "2022-05-26T18:09:39.716640Z",
     "iopub.status.busy": "2022-05-26T18:09:39.716243Z",
     "iopub.status.idle": "2022-05-26T18:09:39.726097Z",
     "shell.execute_reply": "2022-05-26T18:09:39.725303Z"
    },
    "papermill": {
     "duration": 0.015541,
     "end_time": "2022-05-26T18:09:39.727813",
     "exception": false,
     "start_time": "2022-05-26T18:09:39.712272",
     "status": "completed"
    },
    "tags": []
   },
   "outputs": [
    {
     "data": {
      "application/javascript": [
       "parent.postMessage({\"jupyterEvent\": \"custom.exercise_interaction\", \"data\": {\"outcomeType\": 4, \"interactionType\": 1, \"questionType\": 1, \"questionId\": \"1_BestTreeSize\", \"learnToolsVersion\": \"0.3.4\", \"valueTowardsCompletion\": 0.0, \"failureMessage\": \"\", \"exceptionClass\": \"\", \"trace\": \"\"}}, \"*\")"
      ],
      "text/plain": [
       "<IPython.core.display.Javascript object>"
      ]
     },
     "metadata": {},
     "output_type": "display_data"
    },
    {
     "data": {
      "text/markdown": [
       "<span style=\"color:#ccaa33\">Check:</span> When you've updated the starter code, `check()` will tell you whether your code is correct. You need to update the code that creates variable `best_tree_size`"
      ],
      "text/plain": [
       "Check: When you've updated the starter code, `check()` will tell you whether your code is correct. You need to update the code that creates variable `best_tree_size`"
      ]
     },
     "metadata": {},
     "output_type": "display_data"
    }
   ],
   "source": [
    "candidate_max_leaf_nodes = [5, 25, 50, 100, 250, 500]\n",
    "# Write loop to find the ideal tree size from candidate_max_leaf_nodes\n",
    "_\n",
    "\n",
    "# Store the best value of max_leaf_nodes (it will be either 5, 25, 50, 100, 250 or 500)\n",
    "best_tree_size = ____\n",
    "\n",
    "# Check your answer\n",
    "step_1.check()"
   ]
  },
  {
   "cell_type": "code",
   "execution_count": 4,
   "id": "0c631faa",
   "metadata": {
    "execution": {
     "iopub.execute_input": "2022-05-26T18:09:39.735495Z",
     "iopub.status.busy": "2022-05-26T18:09:39.734785Z",
     "iopub.status.idle": "2022-05-26T18:09:39.737993Z",
     "shell.execute_reply": "2022-05-26T18:09:39.737410Z"
    },
    "papermill": {
     "duration": 0.00872,
     "end_time": "2022-05-26T18:09:39.739581",
     "exception": false,
     "start_time": "2022-05-26T18:09:39.730861",
     "status": "completed"
    },
    "tags": []
   },
   "outputs": [],
   "source": [
    "# The lines below will show you a hint or the solution.\n",
    "# step_1.hint() \n",
    "# step_1.solution()"
   ]
  },
  {
   "cell_type": "markdown",
   "id": "da64739e",
   "metadata": {
    "papermill": {
     "duration": 0.002917,
     "end_time": "2022-05-26T18:09:39.745690",
     "exception": false,
     "start_time": "2022-05-26T18:09:39.742773",
     "status": "completed"
    },
    "tags": []
   },
   "source": [
    "## Step 2: Fit Model Using All Data\n",
    "You know the best tree size. If you were going to deploy this model in practice, you would make it even more accurate by using all of the data and keeping that tree size.  That is, you don't need to hold out the validation data now that you've made all your modeling decisions."
   ]
  },
  {
   "cell_type": "code",
   "execution_count": 5,
   "id": "884448ec",
   "metadata": {
    "execution": {
     "iopub.execute_input": "2022-05-26T18:09:39.753608Z",
     "iopub.status.busy": "2022-05-26T18:09:39.753028Z",
     "iopub.status.idle": "2022-05-26T18:09:39.758988Z",
     "shell.execute_reply": "2022-05-26T18:09:39.758212Z"
    },
    "papermill": {
     "duration": 0.011874,
     "end_time": "2022-05-26T18:09:39.760745",
     "exception": false,
     "start_time": "2022-05-26T18:09:39.748871",
     "status": "completed"
    },
    "tags": []
   },
   "outputs": [
    {
     "data": {
      "application/javascript": [
       "parent.postMessage({\"jupyterEvent\": \"custom.exercise_interaction\", \"data\": {\"outcomeType\": 2, \"failureMessage\": \"You still need to define the following variables: `final_model`\", \"interactionType\": 1, \"questionType\": 2, \"questionId\": \"2_FitModelWithAllData\", \"learnToolsVersion\": \"0.3.4\", \"valueTowardsCompletion\": 0.0, \"exceptionClass\": \"\", \"trace\": \"\"}}, \"*\")"
      ],
      "text/plain": [
       "<IPython.core.display.Javascript object>"
      ]
     },
     "metadata": {},
     "output_type": "display_data"
    },
    {
     "data": {
      "text/markdown": [
       "<span style=\"color:#cc3333\">Incorrect:</span> You still need to define the following variables: `final_model`"
      ],
      "text/plain": [
       "Incorrect: You still need to define the following variables: `final_model`"
      ]
     },
     "metadata": {},
     "output_type": "display_data"
    }
   ],
   "source": [
    "# Fill in argument to make optimal size and uncomment\n",
    "# final_model = DecisionTreeRegressor(____)\n",
    "\n",
    "# fit the final model and uncomment the next two lines\n",
    "# final_model.fit(____, ____)\n",
    "\n",
    "# Check your answer\n",
    "step_2.check()"
   ]
  },
  {
   "cell_type": "code",
   "execution_count": 6,
   "id": "f661170a",
   "metadata": {
    "execution": {
     "iopub.execute_input": "2022-05-26T18:09:39.769078Z",
     "iopub.status.busy": "2022-05-26T18:09:39.768551Z",
     "iopub.status.idle": "2022-05-26T18:09:39.771611Z",
     "shell.execute_reply": "2022-05-26T18:09:39.771014Z"
    },
    "papermill": {
     "duration": 0.009094,
     "end_time": "2022-05-26T18:09:39.773219",
     "exception": false,
     "start_time": "2022-05-26T18:09:39.764125",
     "status": "completed"
    },
    "tags": []
   },
   "outputs": [],
   "source": [
    "# step_2.hint()\n",
    "# step_2.solution()"
   ]
  },
  {
   "cell_type": "markdown",
   "id": "72d0ccd1",
   "metadata": {
    "papermill": {
     "duration": 0.003096,
     "end_time": "2022-05-26T18:09:39.779591",
     "exception": false,
     "start_time": "2022-05-26T18:09:39.776495",
     "status": "completed"
    },
    "tags": []
   },
   "source": [
    "You've tuned this model and improved your results. But we are still using Decision Tree models, which are not very sophisticated by modern machine learning standards. In the next step you will learn to use Random Forests to improve your models even more.\n",
    "\n",
    "# Keep Going\n",
    "\n",
    "You are ready for **[Random Forests](https://www.kaggle.com/dansbecker/random-forests).**\n"
   ]
  },
  {
   "cell_type": "markdown",
   "id": "c8996e23",
   "metadata": {
    "papermill": {
     "duration": 0.00313,
     "end_time": "2022-05-26T18:09:39.786094",
     "exception": false,
     "start_time": "2022-05-26T18:09:39.782964",
     "status": "completed"
    },
    "tags": []
   },
   "source": [
    "---\n",
    "\n",
    "\n",
    "\n",
    "\n",
    "*Have questions or comments? Visit the [course discussion forum](https://www.kaggle.com/learn/intro-to-machine-learning/discussion) to chat with other learners.*"
   ]
  }
 ],
 "metadata": {
  "kernelspec": {
   "display_name": "Python 3",
   "language": "python",
   "name": "python3"
  },
  "language_info": {
   "codemirror_mode": {
    "name": "ipython",
    "version": 3
   },
   "file_extension": ".py",
   "mimetype": "text/x-python",
   "name": "python",
   "nbconvert_exporter": "python",
   "pygments_lexer": "ipython3",
   "version": "3.7.12"
  },
  "papermill": {
   "default_parameters": {},
   "duration": 10.987636,
   "end_time": "2022-05-26T18:09:40.510273",
   "environment_variables": {},
   "exception": null,
   "input_path": "__notebook__.ipynb",
   "output_path": "__notebook__.ipynb",
   "parameters": {},
   "start_time": "2022-05-26T18:09:29.522637",
   "version": "2.3.4"
  }
 },
 "nbformat": 4,
 "nbformat_minor": 5
}
