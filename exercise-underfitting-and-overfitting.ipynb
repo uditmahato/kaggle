{
 "cells": [
  {
   "cell_type": "markdown",
   "id": "12b71582",
   "metadata": {
    "papermill": {
     "duration": 0.004979,
     "end_time": "2022-05-27T16:27:46.977417",
     "exception": false,
     "start_time": "2022-05-27T16:27:46.972438",
     "status": "completed"
    },
    "tags": []
   },
   "source": [
    "**This notebook is an exercise in the [Introduction to Machine Learning](https://www.kaggle.com/learn/intro-to-machine-learning) course.  You can reference the tutorial at [this link](https://www.kaggle.com/dansbecker/underfitting-and-overfitting).**\n",
    "\n",
    "---\n"
   ]
  },
  {
   "cell_type": "markdown",
   "id": "a7f0409a",
   "metadata": {
    "papermill": {
     "duration": 0.003484,
     "end_time": "2022-05-27T16:27:46.987352",
     "exception": false,
     "start_time": "2022-05-27T16:27:46.983868",
     "status": "completed"
    },
    "tags": []
   },
   "source": [
    "## Recap\n",
    "You've built your first model, and now it's time to optimize the size of the tree to make better predictions. Run this cell to set up your coding environment where the previous step left off."
   ]
  },
  {
   "cell_type": "code",
   "execution_count": 1,
   "id": "ea04ccd9",
   "metadata": {
    "execution": {
     "iopub.execute_input": "2022-05-27T16:27:46.997638Z",
     "iopub.status.busy": "2022-05-27T16:27:46.996887Z",
     "iopub.status.idle": "2022-05-27T16:27:48.420978Z",
     "shell.execute_reply": "2022-05-27T16:27:48.418205Z"
    },
    "papermill": {
     "duration": 1.432722,
     "end_time": "2022-05-27T16:27:48.423763",
     "exception": false,
     "start_time": "2022-05-27T16:27:46.991041",
     "status": "completed"
    },
    "tags": []
   },
   "outputs": [
    {
     "name": "stdout",
     "output_type": "stream",
     "text": [
      "Validation MAE: 29,653\n",
      "\n",
      "Setup complete\n"
     ]
    }
   ],
   "source": [
    "# Code you have previously used to load data\n",
    "import pandas as pd\n",
    "from sklearn.metrics import mean_absolute_error\n",
    "from sklearn.model_selection import train_test_split\n",
    "from sklearn.tree import DecisionTreeRegressor\n",
    "\n",
    "\n",
    "# Path of the file to read\n",
    "iowa_file_path = '../input/home-data-for-ml-course/train.csv'\n",
    "\n",
    "home_data = pd.read_csv(iowa_file_path)\n",
    "# Create target object and call it y\n",
    "y = home_data.SalePrice\n",
    "# Create X\n",
    "features = ['LotArea', 'YearBuilt', '1stFlrSF', '2ndFlrSF', 'FullBath', 'BedroomAbvGr', 'TotRmsAbvGrd']\n",
    "X = home_data[features]\n",
    "\n",
    "# Split into validation and training data\n",
    "train_X, val_X, train_y, val_y = train_test_split(X, y, random_state=1)\n",
    "\n",
    "# Specify Model\n",
    "iowa_model = DecisionTreeRegressor(random_state=1)\n",
    "# Fit Model\n",
    "iowa_model.fit(train_X, train_y)\n",
    "\n",
    "# Make validation predictions and calculate mean absolute error\n",
    "val_predictions = iowa_model.predict(val_X)\n",
    "val_mae = mean_absolute_error(val_predictions, val_y)\n",
    "print(\"Validation MAE: {:,.0f}\".format(val_mae))\n",
    "\n",
    "# Set up code checking\n",
    "from learntools.core import binder\n",
    "binder.bind(globals())\n",
    "from learntools.machine_learning.ex5 import *\n",
    "print(\"\\nSetup complete\")"
   ]
  },
  {
   "cell_type": "markdown",
   "id": "22964838",
   "metadata": {
    "papermill": {
     "duration": 0.003821,
     "end_time": "2022-05-27T16:27:48.431746",
     "exception": false,
     "start_time": "2022-05-27T16:27:48.427925",
     "status": "completed"
    },
    "tags": []
   },
   "source": [
    "# Exercises\n",
    "You could write the function `get_mae` yourself. For now, we'll supply it. This is the same function you read about in the previous lesson. Just run the cell below."
   ]
  },
  {
   "cell_type": "code",
   "execution_count": 2,
   "id": "eb2b829c",
   "metadata": {
    "execution": {
     "iopub.execute_input": "2022-05-27T16:27:48.441598Z",
     "iopub.status.busy": "2022-05-27T16:27:48.441072Z",
     "iopub.status.idle": "2022-05-27T16:27:48.447130Z",
     "shell.execute_reply": "2022-05-27T16:27:48.446180Z"
    },
    "papermill": {
     "duration": 0.013717,
     "end_time": "2022-05-27T16:27:48.449349",
     "exception": false,
     "start_time": "2022-05-27T16:27:48.435632",
     "status": "completed"
    },
    "tags": []
   },
   "outputs": [],
   "source": [
    "def get_mae(max_leaf_nodes, train_X, val_X, train_y, val_y):\n",
    "    model = DecisionTreeRegressor(max_leaf_nodes=max_leaf_nodes, random_state=0)\n",
    "    model.fit(train_X, train_y)\n",
    "    preds_val = model.predict(val_X)\n",
    "    mae = mean_absolute_error(val_y, preds_val)\n",
    "    return(mae)"
   ]
  },
  {
   "cell_type": "markdown",
   "id": "3bf7e37d",
   "metadata": {
    "papermill": {
     "duration": 0.003464,
     "end_time": "2022-05-27T16:27:48.456848",
     "exception": false,
     "start_time": "2022-05-27T16:27:48.453384",
     "status": "completed"
    },
    "tags": []
   },
   "source": [
    "## Step 1: Compare Different Tree Sizes\n",
    "Write a loop that tries the following values for *max_leaf_nodes* from a set of possible values.\n",
    "\n",
    "Call the *get_mae* function on each value of max_leaf_nodes. Store the output in some way that allows you to select the value of `max_leaf_nodes` that gives the most accurate model on your data."
   ]
  },
  {
   "cell_type": "code",
   "execution_count": 3,
   "id": "ce2149bb",
   "metadata": {
    "execution": {
     "iopub.execute_input": "2022-05-27T16:27:48.467268Z",
     "iopub.status.busy": "2022-05-27T16:27:48.466445Z",
     "iopub.status.idle": "2022-05-27T16:27:48.715549Z",
     "shell.execute_reply": "2022-05-27T16:27:48.714404Z"
    },
    "papermill": {
     "duration": 0.258126,
     "end_time": "2022-05-27T16:27:48.718648",
     "exception": false,
     "start_time": "2022-05-27T16:27:48.460522",
     "status": "completed"
    },
    "tags": []
   },
   "outputs": [
    {
     "data": {
      "application/javascript": [
       "parent.postMessage({\"jupyterEvent\": \"custom.exercise_interaction\", \"data\": {\"outcomeType\": 1, \"valueTowardsCompletion\": 0.5, \"interactionType\": 1, \"questionType\": 1, \"questionId\": \"1_BestTreeSize\", \"learnToolsVersion\": \"0.3.4\", \"failureMessage\": \"\", \"exceptionClass\": \"\", \"trace\": \"\"}}, \"*\")"
      ],
      "text/plain": [
       "<IPython.core.display.Javascript object>"
      ]
     },
     "metadata": {},
     "output_type": "display_data"
    },
    {
     "data": {
      "text/markdown": [
       "<span style=\"color:#33cc33\">Correct</span>"
      ],
      "text/plain": [
       "Correct"
      ]
     },
     "metadata": {},
     "output_type": "display_data"
    }
   ],
   "source": [
    "candidate_max_leaf_nodes = [5, 25, 50, 100, 250, 500]\n",
    "# Write loop to find the ideal tree size from candidate_max_leaf_nodes\n",
    "for i in candidate_max_leaf_nodes:\n",
    "    # Store the best value of max_leaf_nodes (it will be either 5, 25, 50, 100, 250 or 500)\n",
    "    scores = {leaf_size: get_mae(leaf_size, train_X, val_X, train_y, val_y) for leaf_size in candidate_max_leaf_nodes}\n",
    "    best_tree_size = min(scores, key=scores.get)\n",
    "\n",
    "\n",
    "# Check your answer\n",
    "step_1.check()"
   ]
  },
  {
   "cell_type": "code",
   "execution_count": 4,
   "id": "0ee59281",
   "metadata": {
    "execution": {
     "iopub.execute_input": "2022-05-27T16:27:48.730045Z",
     "iopub.status.busy": "2022-05-27T16:27:48.728955Z",
     "iopub.status.idle": "2022-05-27T16:27:48.733971Z",
     "shell.execute_reply": "2022-05-27T16:27:48.733218Z"
    },
    "papermill": {
     "duration": 0.012277,
     "end_time": "2022-05-27T16:27:48.735962",
     "exception": false,
     "start_time": "2022-05-27T16:27:48.723685",
     "status": "completed"
    },
    "tags": []
   },
   "outputs": [],
   "source": [
    "# The lines below will show you a hint or the solution.\n",
    "# step_1.hint() \n",
    "# step_1.solution()"
   ]
  },
  {
   "cell_type": "markdown",
   "id": "5c8d2271",
   "metadata": {
    "papermill": {
     "duration": 0.003762,
     "end_time": "2022-05-27T16:27:48.744107",
     "exception": false,
     "start_time": "2022-05-27T16:27:48.740345",
     "status": "completed"
    },
    "tags": []
   },
   "source": [
    "## Step 2: Fit Model Using All Data\n",
    "You know the best tree size. If you were going to deploy this model in practice, you would make it even more accurate by using all of the data and keeping that tree size.  That is, you don't need to hold out the validation data now that you've made all your modeling decisions."
   ]
  },
  {
   "cell_type": "code",
   "execution_count": 5,
   "id": "06ad62ea",
   "metadata": {
    "execution": {
     "iopub.execute_input": "2022-05-27T16:27:48.754382Z",
     "iopub.status.busy": "2022-05-27T16:27:48.753721Z",
     "iopub.status.idle": "2022-05-27T16:27:48.760837Z",
     "shell.execute_reply": "2022-05-27T16:27:48.760102Z"
    },
    "papermill": {
     "duration": 0.014592,
     "end_time": "2022-05-27T16:27:48.762834",
     "exception": false,
     "start_time": "2022-05-27T16:27:48.748242",
     "status": "completed"
    },
    "tags": []
   },
   "outputs": [
    {
     "data": {
      "application/javascript": [
       "parent.postMessage({\"jupyterEvent\": \"custom.exercise_interaction\", \"data\": {\"outcomeType\": 2, \"failureMessage\": \"You still need to define the following variables: `final_model`\", \"interactionType\": 1, \"questionType\": 2, \"questionId\": \"2_FitModelWithAllData\", \"learnToolsVersion\": \"0.3.4\", \"valueTowardsCompletion\": 0.0, \"exceptionClass\": \"\", \"trace\": \"\"}}, \"*\")"
      ],
      "text/plain": [
       "<IPython.core.display.Javascript object>"
      ]
     },
     "metadata": {},
     "output_type": "display_data"
    },
    {
     "data": {
      "text/markdown": [
       "<span style=\"color:#cc3333\">Incorrect:</span> You still need to define the following variables: `final_model`"
      ],
      "text/plain": [
       "Incorrect: You still need to define the following variables: `final_model`"
      ]
     },
     "metadata": {},
     "output_type": "display_data"
    }
   ],
   "source": [
    "# Fill in argument to make optimal size and uncomment\n",
    "# final_model = DecisionTreeRegressor(____)\n",
    "\n",
    "# fit the final model and uncomment the next two lines\n",
    "# final_model.fit(____, ____)\n",
    "\n",
    "# Check your answer\n",
    "step_2.check()"
   ]
  },
  {
   "cell_type": "code",
   "execution_count": 6,
   "id": "03025b08",
   "metadata": {
    "execution": {
     "iopub.execute_input": "2022-05-27T16:27:48.774145Z",
     "iopub.status.busy": "2022-05-27T16:27:48.773471Z",
     "iopub.status.idle": "2022-05-27T16:27:48.777147Z",
     "shell.execute_reply": "2022-05-27T16:27:48.776416Z"
    },
    "papermill": {
     "duration": 0.011677,
     "end_time": "2022-05-27T16:27:48.779245",
     "exception": false,
     "start_time": "2022-05-27T16:27:48.767568",
     "status": "completed"
    },
    "tags": []
   },
   "outputs": [],
   "source": [
    "# step_2.hint()\n",
    "# step_2.solution()"
   ]
  },
  {
   "cell_type": "markdown",
   "id": "020498f3",
   "metadata": {
    "papermill": {
     "duration": 0.004414,
     "end_time": "2022-05-27T16:27:48.788604",
     "exception": false,
     "start_time": "2022-05-27T16:27:48.784190",
     "status": "completed"
    },
    "tags": []
   },
   "source": [
    "You've tuned this model and improved your results. But we are still using Decision Tree models, which are not very sophisticated by modern machine learning standards. In the next step you will learn to use Random Forests to improve your models even more.\n",
    "\n",
    "# Keep Going\n",
    "\n",
    "You are ready for **[Random Forests](https://www.kaggle.com/dansbecker/random-forests).**\n"
   ]
  },
  {
   "cell_type": "markdown",
   "id": "fb004c5b",
   "metadata": {
    "papermill": {
     "duration": 0.004293,
     "end_time": "2022-05-27T16:27:48.797467",
     "exception": false,
     "start_time": "2022-05-27T16:27:48.793174",
     "status": "completed"
    },
    "tags": []
   },
   "source": [
    "---\n",
    "\n",
    "\n",
    "\n",
    "\n",
    "*Have questions or comments? Visit the [course discussion forum](https://www.kaggle.com/learn/intro-to-machine-learning/discussion) to chat with other learners.*"
   ]
  }
 ],
 "metadata": {
  "kernelspec": {
   "display_name": "Python 3",
   "language": "python",
   "name": "python3"
  },
  "language_info": {
   "codemirror_mode": {
    "name": "ipython",
    "version": 3
   },
   "file_extension": ".py",
   "mimetype": "text/x-python",
   "name": "python",
   "nbconvert_exporter": "python",
   "pygments_lexer": "ipython3",
   "version": "3.7.12"
  },
  "papermill": {
   "default_parameters": {},
   "duration": 13.166102,
   "end_time": "2022-05-27T16:27:49.724493",
   "environment_variables": {},
   "exception": null,
   "input_path": "__notebook__.ipynb",
   "output_path": "__notebook__.ipynb",
   "parameters": {},
   "start_time": "2022-05-27T16:27:36.558391",
   "version": "2.3.4"
  }
 },
 "nbformat": 4,
 "nbformat_minor": 5
}
