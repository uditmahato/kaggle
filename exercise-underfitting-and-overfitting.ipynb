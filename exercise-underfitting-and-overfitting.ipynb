{
 "cells": [
  {
   "cell_type": "markdown",
   "id": "be76705c",
   "metadata": {
    "papermill": {
     "duration": 0.003917,
     "end_time": "2022-05-29T18:11:48.928709",
     "exception": false,
     "start_time": "2022-05-29T18:11:48.924792",
     "status": "completed"
    },
    "tags": []
   },
   "source": [
    "**This notebook is an exercise in the [Introduction to Machine Learning](https://www.kaggle.com/learn/intro-to-machine-learning) course.  You can reference the tutorial at [this link](https://www.kaggle.com/dansbecker/underfitting-and-overfitting).**\n",
    "\n",
    "---\n"
   ]
  },
  {
   "cell_type": "markdown",
   "id": "87cd4c17",
   "metadata": {
    "papermill": {
     "duration": 0.002677,
     "end_time": "2022-05-29T18:11:48.936990",
     "exception": false,
     "start_time": "2022-05-29T18:11:48.934313",
     "status": "completed"
    },
    "tags": []
   },
   "source": [
    "## Recap\n",
    "You've built your first model, and now it's time to optimize the size of the tree to make better predictions. Run this cell to set up your coding environment where the previous step left off."
   ]
  },
  {
   "cell_type": "code",
   "execution_count": 1,
   "id": "4a13c8d7",
   "metadata": {
    "execution": {
     "iopub.execute_input": "2022-05-29T18:11:48.944710Z",
     "iopub.status.busy": "2022-05-29T18:11:48.944041Z",
     "iopub.status.idle": "2022-05-29T18:11:50.310569Z",
     "shell.execute_reply": "2022-05-29T18:11:50.309803Z"
    },
    "papermill": {
     "duration": 1.373622,
     "end_time": "2022-05-29T18:11:50.313508",
     "exception": false,
     "start_time": "2022-05-29T18:11:48.939886",
     "status": "completed"
    },
    "tags": []
   },
   "outputs": [
    {
     "name": "stdout",
     "output_type": "stream",
     "text": [
      "Validation MAE: 29,653\n",
      "\n",
      "Setup complete\n"
     ]
    }
   ],
   "source": [
    "# Code you have previously used to load data\n",
    "import pandas as pd\n",
    "from sklearn.metrics import mean_absolute_error\n",
    "from sklearn.model_selection import train_test_split\n",
    "from sklearn.tree import DecisionTreeRegressor\n",
    "\n",
    "\n",
    "# Path of the file to read\n",
    "iowa_file_path = '../input/home-data-for-ml-course/train.csv'\n",
    "\n",
    "home_data = pd.read_csv(iowa_file_path)\n",
    "# Create target object and call it y\n",
    "y = home_data.SalePrice\n",
    "# Create X\n",
    "features = ['LotArea', 'YearBuilt', '1stFlrSF', '2ndFlrSF', 'FullBath', 'BedroomAbvGr', 'TotRmsAbvGrd']\n",
    "X = home_data[features]\n",
    "\n",
    "# Split into validation and training data\n",
    "train_X, val_X, train_y, val_y = train_test_split(X, y, random_state=1)\n",
    "\n",
    "# Specify Model\n",
    "iowa_model = DecisionTreeRegressor(random_state=1)\n",
    "# Fit Model\n",
    "iowa_model.fit(train_X, train_y)\n",
    "\n",
    "# Make validation predictions and calculate mean absolute error\n",
    "val_predictions = iowa_model.predict(val_X)\n",
    "val_mae = mean_absolute_error(val_predictions, val_y)\n",
    "print(\"Validation MAE: {:,.0f}\".format(val_mae))\n",
    "\n",
    "# Set up code checking\n",
    "from learntools.core import binder\n",
    "binder.bind(globals())\n",
    "from learntools.machine_learning.ex5 import *\n",
    "print(\"\\nSetup complete\")"
   ]
  },
  {
   "cell_type": "markdown",
   "id": "2587b25b",
   "metadata": {
    "papermill": {
     "duration": 0.002782,
     "end_time": "2022-05-29T18:11:50.320583",
     "exception": false,
     "start_time": "2022-05-29T18:11:50.317801",
     "status": "completed"
    },
    "tags": []
   },
   "source": [
    "# Exercises\n",
    "You could write the function `get_mae` yourself. For now, we'll supply it. This is the same function you read about in the previous lesson. Just run the cell below."
   ]
  },
  {
   "cell_type": "code",
   "execution_count": 2,
   "id": "d8d8abe6",
   "metadata": {
    "execution": {
     "iopub.execute_input": "2022-05-29T18:11:50.328293Z",
     "iopub.status.busy": "2022-05-29T18:11:50.327569Z",
     "iopub.status.idle": "2022-05-29T18:11:50.333544Z",
     "shell.execute_reply": "2022-05-29T18:11:50.332503Z"
    },
    "papermill": {
     "duration": 0.012028,
     "end_time": "2022-05-29T18:11:50.335599",
     "exception": false,
     "start_time": "2022-05-29T18:11:50.323571",
     "status": "completed"
    },
    "tags": []
   },
   "outputs": [],
   "source": [
    "def get_mae(max_leaf_nodes, train_X, val_X, train_y, val_y):\n",
    "    model = DecisionTreeRegressor(max_leaf_nodes=max_leaf_nodes, random_state=0)\n",
    "    model.fit(train_X, train_y)\n",
    "    preds_val = model.predict(val_X)\n",
    "    mae = mean_absolute_error(val_y, preds_val)\n",
    "    return(mae)"
   ]
  },
  {
   "cell_type": "markdown",
   "id": "dec69da6",
   "metadata": {
    "papermill": {
     "duration": 0.002752,
     "end_time": "2022-05-29T18:11:50.341475",
     "exception": false,
     "start_time": "2022-05-29T18:11:50.338723",
     "status": "completed"
    },
    "tags": []
   },
   "source": [
    "## Step 1: Compare Different Tree Sizes\n",
    "Write a loop that tries the following values for *max_leaf_nodes* from a set of possible values.\n",
    "\n",
    "Call the *get_mae* function on each value of max_leaf_nodes. Store the output in some way that allows you to select the value of `max_leaf_nodes` that gives the most accurate model on your data."
   ]
  },
  {
   "cell_type": "code",
   "execution_count": 3,
   "id": "86fe1cca",
   "metadata": {
    "execution": {
     "iopub.execute_input": "2022-05-29T18:11:50.349444Z",
     "iopub.status.busy": "2022-05-29T18:11:50.348581Z",
     "iopub.status.idle": "2022-05-29T18:11:50.600289Z",
     "shell.execute_reply": "2022-05-29T18:11:50.599263Z"
    },
    "papermill": {
     "duration": 0.25786,
     "end_time": "2022-05-29T18:11:50.602376",
     "exception": false,
     "start_time": "2022-05-29T18:11:50.344516",
     "status": "completed"
    },
    "tags": []
   },
   "outputs": [
    {
     "data": {
      "application/javascript": [
       "parent.postMessage({\"jupyterEvent\": \"custom.exercise_interaction\", \"data\": {\"outcomeType\": 1, \"valueTowardsCompletion\": 0.5, \"interactionType\": 1, \"questionType\": 1, \"questionId\": \"1_BestTreeSize\", \"learnToolsVersion\": \"0.3.4\", \"failureMessage\": \"\", \"exceptionClass\": \"\", \"trace\": \"\"}}, \"*\")"
      ],
      "text/plain": [
       "<IPython.core.display.Javascript object>"
      ]
     },
     "metadata": {},
     "output_type": "display_data"
    },
    {
     "data": {
      "text/markdown": [
       "<span style=\"color:#33cc33\">Correct</span>"
      ],
      "text/plain": [
       "Correct"
      ]
     },
     "metadata": {},
     "output_type": "display_data"
    }
   ],
   "source": [
    "candidate_max_leaf_nodes = [5, 25, 50, 100, 250, 500]\n",
    "# Write loop to find the ideal tree size from candidate_max_leaf_nodes\n",
    "for i in candidate_max_leaf_nodes:\n",
    "    # Store the best value of max_leaf_nodes (it will be either 5, 25, 50, 100, 250 or 500)\n",
    "    scores = {leaf_size: get_mae(leaf_size, train_X, val_X, train_y, val_y) for leaf_size in candidate_max_leaf_nodes}\n",
    "    best_tree_size = min(scores, key=scores.get)\n",
    "\n",
    "\n",
    "# Check your answer\n",
    "step_1.check()"
   ]
  },
  {
   "cell_type": "code",
   "execution_count": 4,
   "id": "74fecbc7",
   "metadata": {
    "execution": {
     "iopub.execute_input": "2022-05-29T18:11:50.610617Z",
     "iopub.status.busy": "2022-05-29T18:11:50.610225Z",
     "iopub.status.idle": "2022-05-29T18:11:50.614038Z",
     "shell.execute_reply": "2022-05-29T18:11:50.613217Z"
    },
    "papermill": {
     "duration": 0.010174,
     "end_time": "2022-05-29T18:11:50.615991",
     "exception": false,
     "start_time": "2022-05-29T18:11:50.605817",
     "status": "completed"
    },
    "tags": []
   },
   "outputs": [],
   "source": [
    "# The lines below will show you a hint or the solution.\n",
    "# step_1.hint() \n",
    "# step_1.solution()"
   ]
  },
  {
   "cell_type": "markdown",
   "id": "3d59b1c7",
   "metadata": {
    "papermill": {
     "duration": 0.003235,
     "end_time": "2022-05-29T18:11:50.622594",
     "exception": false,
     "start_time": "2022-05-29T18:11:50.619359",
     "status": "completed"
    },
    "tags": []
   },
   "source": [
    "## Step 2: Fit Model Using All Data\n",
    "You know the best tree size. If you were going to deploy this model in practice, you would make it even more accurate by using all of the data and keeping that tree size.  That is, you don't need to hold out the validation data now that you've made all your modeling decisions."
   ]
  },
  {
   "cell_type": "code",
   "execution_count": 5,
   "id": "911dd45f",
   "metadata": {
    "execution": {
     "iopub.execute_input": "2022-05-29T18:11:50.630664Z",
     "iopub.status.busy": "2022-05-29T18:11:50.630272Z",
     "iopub.status.idle": "2022-05-29T18:11:50.646475Z",
     "shell.execute_reply": "2022-05-29T18:11:50.645817Z"
    },
    "papermill": {
     "duration": 0.022164,
     "end_time": "2022-05-29T18:11:50.648067",
     "exception": false,
     "start_time": "2022-05-29T18:11:50.625903",
     "status": "completed"
    },
    "tags": []
   },
   "outputs": [
    {
     "data": {
      "application/javascript": [
       "parent.postMessage({\"jupyterEvent\": \"custom.exercise_interaction\", \"data\": {\"outcomeType\": 1, \"valueTowardsCompletion\": 0.5, \"interactionType\": 1, \"questionType\": 2, \"questionId\": \"2_FitModelWithAllData\", \"learnToolsVersion\": \"0.3.4\", \"failureMessage\": \"\", \"exceptionClass\": \"\", \"trace\": \"\"}}, \"*\")"
      ],
      "text/plain": [
       "<IPython.core.display.Javascript object>"
      ]
     },
     "metadata": {},
     "output_type": "display_data"
    },
    {
     "data": {
      "text/markdown": [
       "<span style=\"color:#33cc33\">Correct</span>"
      ],
      "text/plain": [
       "Correct"
      ]
     },
     "metadata": {},
     "output_type": "display_data"
    }
   ],
   "source": [
    "# Fit the model with best_tree_size. Fill in argument to make optimal size\n",
    "final_model = DecisionTreeRegressor(max_leaf_nodes=best_tree_size, random_state=1)\n",
    "\n",
    "# fit the final model\n",
    "final_model.fit(X, y)\n",
    "\n",
    "# Check your answer\n",
    "step_2.check()"
   ]
  },
  {
   "cell_type": "code",
   "execution_count": 6,
   "id": "fbb7df5a",
   "metadata": {
    "execution": {
     "iopub.execute_input": "2022-05-29T18:11:50.657519Z",
     "iopub.status.busy": "2022-05-29T18:11:50.656646Z",
     "iopub.status.idle": "2022-05-29T18:11:50.660656Z",
     "shell.execute_reply": "2022-05-29T18:11:50.659641Z"
    },
    "papermill": {
     "duration": 0.010601,
     "end_time": "2022-05-29T18:11:50.662528",
     "exception": false,
     "start_time": "2022-05-29T18:11:50.651927",
     "status": "completed"
    },
    "tags": []
   },
   "outputs": [],
   "source": [
    "# step_2.hint()\n",
    "# step_2.solution()"
   ]
  },
  {
   "cell_type": "markdown",
   "id": "aad572f3",
   "metadata": {
    "papermill": {
     "duration": 0.003151,
     "end_time": "2022-05-29T18:11:50.669261",
     "exception": false,
     "start_time": "2022-05-29T18:11:50.666110",
     "status": "completed"
    },
    "tags": []
   },
   "source": [
    "You've tuned this model and improved your results. But we are still using Decision Tree models, which are not very sophisticated by modern machine learning standards. In the next step you will learn to use Random Forests to improve your models even more.\n",
    "\n",
    "# Keep Going\n",
    "\n",
    "You are ready for **[Random Forests](https://www.kaggle.com/dansbecker/random-forests).**\n"
   ]
  },
  {
   "cell_type": "markdown",
   "id": "4a026da6",
   "metadata": {
    "papermill": {
     "duration": 0.003145,
     "end_time": "2022-05-29T18:11:50.675864",
     "exception": false,
     "start_time": "2022-05-29T18:11:50.672719",
     "status": "completed"
    },
    "tags": []
   },
   "source": [
    "---\n",
    "\n",
    "\n",
    "\n",
    "\n",
    "*Have questions or comments? Visit the [course discussion forum](https://www.kaggle.com/learn/intro-to-machine-learning/discussion) to chat with other learners.*"
   ]
  }
 ],
 "metadata": {
  "kernelspec": {
   "display_name": "Python 3",
   "language": "python",
   "name": "python3"
  },
  "language_info": {
   "codemirror_mode": {
    "name": "ipython",
    "version": 3
   },
   "file_extension": ".py",
   "mimetype": "text/x-python",
   "name": "python",
   "nbconvert_exporter": "python",
   "pygments_lexer": "ipython3",
   "version": "3.7.12"
  },
  "papermill": {
   "default_parameters": {},
   "duration": 11.300857,
   "end_time": "2022-05-29T18:11:51.400556",
   "environment_variables": {},
   "exception": null,
   "input_path": "__notebook__.ipynb",
   "output_path": "__notebook__.ipynb",
   "parameters": {},
   "start_time": "2022-05-29T18:11:40.099699",
   "version": "2.3.4"
  }
 },
 "nbformat": 4,
 "nbformat_minor": 5
}
