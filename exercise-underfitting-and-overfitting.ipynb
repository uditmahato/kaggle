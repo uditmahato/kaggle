{
 "cells": [
  {
   "cell_type": "markdown",
   "id": "bf45f242",
   "metadata": {
    "papermill": {
     "duration": 0.004291,
     "end_time": "2022-05-29T18:11:53.740559",
     "exception": false,
     "start_time": "2022-05-29T18:11:53.736268",
     "status": "completed"
    },
    "tags": []
   },
   "source": [
    "**This notebook is an exercise in the [Introduction to Machine Learning](https://www.kaggle.com/learn/intro-to-machine-learning) course.  You can reference the tutorial at [this link](https://www.kaggle.com/dansbecker/underfitting-and-overfitting).**\n",
    "\n",
    "---\n"
   ]
  },
  {
   "cell_type": "markdown",
   "id": "a906789a",
   "metadata": {
    "papermill": {
     "duration": 0.002873,
     "end_time": "2022-05-29T18:11:53.749992",
     "exception": false,
     "start_time": "2022-05-29T18:11:53.747119",
     "status": "completed"
    },
    "tags": []
   },
   "source": [
    "## Recap\n",
    "You've built your first model, and now it's time to optimize the size of the tree to make better predictions. Run this cell to set up your coding environment where the previous step left off."
   ]
  },
  {
   "cell_type": "code",
   "execution_count": 1,
   "id": "7ed27556",
   "metadata": {
    "execution": {
     "iopub.execute_input": "2022-05-29T18:11:53.758400Z",
     "iopub.status.busy": "2022-05-29T18:11:53.757883Z",
     "iopub.status.idle": "2022-05-29T18:11:55.256127Z",
     "shell.execute_reply": "2022-05-29T18:11:55.255047Z"
    },
    "papermill": {
     "duration": 1.506063,
     "end_time": "2022-05-29T18:11:55.259153",
     "exception": false,
     "start_time": "2022-05-29T18:11:53.753090",
     "status": "completed"
    },
    "tags": []
   },
   "outputs": [
    {
     "name": "stdout",
     "output_type": "stream",
     "text": [
      "Validation MAE: 29,653\n",
      "\n",
      "Setup complete\n"
     ]
    }
   ],
   "source": [
    "# Code you have previously used to load data\n",
    "import pandas as pd\n",
    "from sklearn.metrics import mean_absolute_error\n",
    "from sklearn.model_selection import train_test_split\n",
    "from sklearn.tree import DecisionTreeRegressor\n",
    "\n",
    "\n",
    "# Path of the file to read\n",
    "iowa_file_path = '../input/home-data-for-ml-course/train.csv'\n",
    "\n",
    "home_data = pd.read_csv(iowa_file_path)\n",
    "# Create target object and call it y\n",
    "y = home_data.SalePrice\n",
    "# Create X\n",
    "features = ['LotArea', 'YearBuilt', '1stFlrSF', '2ndFlrSF', 'FullBath', 'BedroomAbvGr', 'TotRmsAbvGrd']\n",
    "X = home_data[features]\n",
    "\n",
    "# Split into validation and training data\n",
    "train_X, val_X, train_y, val_y = train_test_split(X, y, random_state=1)\n",
    "\n",
    "# Specify Model\n",
    "iowa_model = DecisionTreeRegressor(random_state=1)\n",
    "# Fit Model\n",
    "iowa_model.fit(train_X, train_y)\n",
    "\n",
    "# Make validation predictions and calculate mean absolute error\n",
    "val_predictions = iowa_model.predict(val_X)\n",
    "val_mae = mean_absolute_error(val_predictions, val_y)\n",
    "print(\"Validation MAE: {:,.0f}\".format(val_mae))\n",
    "\n",
    "# Set up code checking\n",
    "from learntools.core import binder\n",
    "binder.bind(globals())\n",
    "from learntools.machine_learning.ex5 import *\n",
    "print(\"\\nSetup complete\")"
   ]
  },
  {
   "cell_type": "markdown",
   "id": "79dada6d",
   "metadata": {
    "papermill": {
     "duration": 0.002782,
     "end_time": "2022-05-29T18:11:55.265786",
     "exception": false,
     "start_time": "2022-05-29T18:11:55.263004",
     "status": "completed"
    },
    "tags": []
   },
   "source": [
    "# Exercises\n",
    "You could write the function `get_mae` yourself. For now, we'll supply it. This is the same function you read about in the previous lesson. Just run the cell below."
   ]
  },
  {
   "cell_type": "code",
   "execution_count": 2,
   "id": "cb797664",
   "metadata": {
    "execution": {
     "iopub.execute_input": "2022-05-29T18:11:55.274671Z",
     "iopub.status.busy": "2022-05-29T18:11:55.273331Z",
     "iopub.status.idle": "2022-05-29T18:11:55.279860Z",
     "shell.execute_reply": "2022-05-29T18:11:55.279124Z"
    },
    "papermill": {
     "duration": 0.013057,
     "end_time": "2022-05-29T18:11:55.281848",
     "exception": false,
     "start_time": "2022-05-29T18:11:55.268791",
     "status": "completed"
    },
    "tags": []
   },
   "outputs": [],
   "source": [
    "def get_mae(max_leaf_nodes, train_X, val_X, train_y, val_y):\n",
    "    model = DecisionTreeRegressor(max_leaf_nodes=max_leaf_nodes, random_state=0)\n",
    "    model.fit(train_X, train_y)\n",
    "    preds_val = model.predict(val_X)\n",
    "    mae = mean_absolute_error(val_y, preds_val)\n",
    "    return(mae)"
   ]
  },
  {
   "cell_type": "markdown",
   "id": "a00518c6",
   "metadata": {
    "papermill": {
     "duration": 0.002958,
     "end_time": "2022-05-29T18:11:55.288227",
     "exception": false,
     "start_time": "2022-05-29T18:11:55.285269",
     "status": "completed"
    },
    "tags": []
   },
   "source": [
    "## Step 1: Compare Different Tree Sizes\n",
    "Write a loop that tries the following values for *max_leaf_nodes* from a set of possible values.\n",
    "\n",
    "Call the *get_mae* function on each value of max_leaf_nodes. Store the output in some way that allows you to select the value of `max_leaf_nodes` that gives the most accurate model on your data."
   ]
  },
  {
   "cell_type": "code",
   "execution_count": 3,
   "id": "88ba71dd",
   "metadata": {
    "execution": {
     "iopub.execute_input": "2022-05-29T18:11:55.296826Z",
     "iopub.status.busy": "2022-05-29T18:11:55.295809Z",
     "iopub.status.idle": "2022-05-29T18:11:55.517454Z",
     "shell.execute_reply": "2022-05-29T18:11:55.516461Z"
    },
    "papermill": {
     "duration": 0.229761,
     "end_time": "2022-05-29T18:11:55.521154",
     "exception": false,
     "start_time": "2022-05-29T18:11:55.291393",
     "status": "completed"
    },
    "tags": []
   },
   "outputs": [
    {
     "data": {
      "application/javascript": [
       "parent.postMessage({\"jupyterEvent\": \"custom.exercise_interaction\", \"data\": {\"outcomeType\": 1, \"valueTowardsCompletion\": 0.5, \"interactionType\": 1, \"questionType\": 1, \"questionId\": \"1_BestTreeSize\", \"learnToolsVersion\": \"0.3.4\", \"failureMessage\": \"\", \"exceptionClass\": \"\", \"trace\": \"\"}}, \"*\")"
      ],
      "text/plain": [
       "<IPython.core.display.Javascript object>"
      ]
     },
     "metadata": {},
     "output_type": "display_data"
    },
    {
     "data": {
      "text/markdown": [
       "<span style=\"color:#33cc33\">Correct</span>"
      ],
      "text/plain": [
       "Correct"
      ]
     },
     "metadata": {},
     "output_type": "display_data"
    }
   ],
   "source": [
    "candidate_max_leaf_nodes = [5, 25, 50, 100, 250, 500]\n",
    "# Write loop to find the ideal tree size from candidate_max_leaf_nodes\n",
    "for i in candidate_max_leaf_nodes:\n",
    "    # Store the best value of max_leaf_nodes (it will be either 5, 25, 50, 100, 250 or 500)\n",
    "    scores = {leaf_size: get_mae(leaf_size, train_X, val_X, train_y, val_y) for leaf_size in candidate_max_leaf_nodes}\n",
    "    best_tree_size = min(scores, key=scores.get)\n",
    "\n",
    "\n",
    "# Check your answer\n",
    "step_1.check()"
   ]
  },
  {
   "cell_type": "code",
   "execution_count": 4,
   "id": "663555ee",
   "metadata": {
    "execution": {
     "iopub.execute_input": "2022-05-29T18:11:55.530143Z",
     "iopub.status.busy": "2022-05-29T18:11:55.529688Z",
     "iopub.status.idle": "2022-05-29T18:11:55.533900Z",
     "shell.execute_reply": "2022-05-29T18:11:55.533024Z"
    },
    "papermill": {
     "duration": 0.011535,
     "end_time": "2022-05-29T18:11:55.536244",
     "exception": false,
     "start_time": "2022-05-29T18:11:55.524709",
     "status": "completed"
    },
    "tags": []
   },
   "outputs": [],
   "source": [
    "# The lines below will show you a hint or the solution.\n",
    "# step_1.hint() \n",
    "# step_1.solution()"
   ]
  },
  {
   "cell_type": "markdown",
   "id": "c97bb265",
   "metadata": {
    "papermill": {
     "duration": 0.003016,
     "end_time": "2022-05-29T18:11:55.542759",
     "exception": false,
     "start_time": "2022-05-29T18:11:55.539743",
     "status": "completed"
    },
    "tags": []
   },
   "source": [
    "## Step 2: Fit Model Using All Data\n",
    "You know the best tree size. If you were going to deploy this model in practice, you would make it even more accurate by using all of the data and keeping that tree size.  That is, you don't need to hold out the validation data now that you've made all your modeling decisions."
   ]
  },
  {
   "cell_type": "code",
   "execution_count": 5,
   "id": "5938e581",
   "metadata": {
    "execution": {
     "iopub.execute_input": "2022-05-29T18:11:55.550876Z",
     "iopub.status.busy": "2022-05-29T18:11:55.550455Z",
     "iopub.status.idle": "2022-05-29T18:11:55.567198Z",
     "shell.execute_reply": "2022-05-29T18:11:55.566246Z"
    },
    "papermill": {
     "duration": 0.024096,
     "end_time": "2022-05-29T18:11:55.570189",
     "exception": false,
     "start_time": "2022-05-29T18:11:55.546093",
     "status": "completed"
    },
    "tags": []
   },
   "outputs": [
    {
     "data": {
      "application/javascript": [
       "parent.postMessage({\"jupyterEvent\": \"custom.exercise_interaction\", \"data\": {\"outcomeType\": 1, \"valueTowardsCompletion\": 0.5, \"interactionType\": 1, \"questionType\": 2, \"questionId\": \"2_FitModelWithAllData\", \"learnToolsVersion\": \"0.3.4\", \"failureMessage\": \"\", \"exceptionClass\": \"\", \"trace\": \"\"}}, \"*\")"
      ],
      "text/plain": [
       "<IPython.core.display.Javascript object>"
      ]
     },
     "metadata": {},
     "output_type": "display_data"
    },
    {
     "data": {
      "text/markdown": [
       "<span style=\"color:#33cc33\">Correct</span>"
      ],
      "text/plain": [
       "Correct"
      ]
     },
     "metadata": {},
     "output_type": "display_data"
    }
   ],
   "source": [
    "# Fit the model with best_tree_size. Fill in argument to make optimal size\n",
    "final_model = DecisionTreeRegressor(max_leaf_nodes=best_tree_size, random_state=1)\n",
    "\n",
    "# fit the final model\n",
    "final_model.fit(X, y)\n",
    "\n",
    "# Check your answer\n",
    "step_2.check()"
   ]
  },
  {
   "cell_type": "code",
   "execution_count": 6,
   "id": "a8f20f51",
   "metadata": {
    "execution": {
     "iopub.execute_input": "2022-05-29T18:11:55.579534Z",
     "iopub.status.busy": "2022-05-29T18:11:55.579104Z",
     "iopub.status.idle": "2022-05-29T18:11:55.583218Z",
     "shell.execute_reply": "2022-05-29T18:11:55.582302Z"
    },
    "papermill": {
     "duration": 0.01121,
     "end_time": "2022-05-29T18:11:55.585027",
     "exception": false,
     "start_time": "2022-05-29T18:11:55.573817",
     "status": "completed"
    },
    "tags": []
   },
   "outputs": [],
   "source": [
    "# step_2.hint()\n",
    "# step_2.solution()"
   ]
  },
  {
   "cell_type": "markdown",
   "id": "a8ba50bc",
   "metadata": {
    "papermill": {
     "duration": 0.003269,
     "end_time": "2022-05-29T18:11:55.592067",
     "exception": false,
     "start_time": "2022-05-29T18:11:55.588798",
     "status": "completed"
    },
    "tags": []
   },
   "source": [
    "You've tuned this model and improved your results. But we are still using Decision Tree models, which are not very sophisticated by modern machine learning standards. In the next step you will learn to use Random Forests to improve your models even more.\n",
    "\n",
    "# Keep Going\n",
    "\n",
    "You are ready for **[Random Forests](https://www.kaggle.com/dansbecker/random-forests).**\n"
   ]
  },
  {
   "cell_type": "markdown",
   "id": "f7ef21dc",
   "metadata": {
    "papermill": {
     "duration": 0.003133,
     "end_time": "2022-05-29T18:11:55.598700",
     "exception": false,
     "start_time": "2022-05-29T18:11:55.595567",
     "status": "completed"
    },
    "tags": []
   },
   "source": [
    "---\n",
    "\n",
    "\n",
    "\n",
    "\n",
    "*Have questions or comments? Visit the [course discussion forum](https://www.kaggle.com/learn/intro-to-machine-learning/discussion) to chat with other learners.*"
   ]
  }
 ],
 "metadata": {
  "kernelspec": {
   "display_name": "Python 3",
   "language": "python",
   "name": "python3"
  },
  "language_info": {
   "codemirror_mode": {
    "name": "ipython",
    "version": 3
   },
   "file_extension": ".py",
   "mimetype": "text/x-python",
   "name": "python",
   "nbconvert_exporter": "python",
   "pygments_lexer": "ipython3",
   "version": "3.7.12"
  },
  "papermill": {
   "default_parameters": {},
   "duration": 12.301209,
   "end_time": "2022-05-29T18:11:56.630553",
   "environment_variables": {},
   "exception": null,
   "input_path": "__notebook__.ipynb",
   "output_path": "__notebook__.ipynb",
   "parameters": {},
   "start_time": "2022-05-29T18:11:44.329344",
   "version": "2.3.4"
  }
 },
 "nbformat": 4,
 "nbformat_minor": 5
}
