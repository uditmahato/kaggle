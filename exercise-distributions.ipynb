{
 "cells": [
  {
   "cell_type": "markdown",
   "id": "4f07f149",
   "metadata": {
    "papermill": {
     "duration": 0.007765,
     "end_time": "2022-07-02T15:00:31.824815",
     "exception": false,
     "start_time": "2022-07-02T15:00:31.817050",
     "status": "completed"
    },
    "tags": []
   },
   "source": [
    "**This notebook is an exercise in the [Data Visualization](https://www.kaggle.com/learn/data-visualization) course.  You can reference the tutorial at [this link](https://www.kaggle.com/alexisbcook/distributions).**\n",
    "\n",
    "---\n"
   ]
  },
  {
   "cell_type": "markdown",
   "id": "db24e3e4",
   "metadata": {
    "papermill": {
     "duration": 0.00628,
     "end_time": "2022-07-02T15:00:31.838372",
     "exception": false,
     "start_time": "2022-07-02T15:00:31.832092",
     "status": "completed"
    },
    "tags": []
   },
   "source": [
    "In this exercise, you will use your new knowledge to propose a solution to a real-world scenario.  To succeed, you will need to import data into Python, answer questions using the data, and generate **histograms** and **density plots** to understand patterns in the data.\n",
    "\n",
    "## Scenario\n",
    "\n",
    "You'll work with a real-world dataset containing information collected from microscopic images of breast cancer tumors, similar to the image below.\n",
    "\n",
    "![ex4_cancer_image](https://i.imgur.com/qUESsJe.png)\n",
    "\n",
    "Each tumor has been labeled as either [**benign**](https://en.wikipedia.org/wiki/Benign_tumor) (_noncancerous_) or **malignant** (_cancerous_).\n",
    "\n",
    "To learn more about how this kind of data is used to create intelligent algorithms to classify tumors in medical settings, **watch the short video [at this link](https://www.youtube.com/watch?v=9Mz84cwVmS0)**."
   ]
  },
  {
   "cell_type": "markdown",
   "id": "db7ebabc",
   "metadata": {
    "papermill": {
     "duration": 0.006195,
     "end_time": "2022-07-02T15:00:31.851105",
     "exception": false,
     "start_time": "2022-07-02T15:00:31.844910",
     "status": "completed"
    },
    "tags": []
   },
   "source": [
    "\n",
    "\n",
    "## Setup\n",
    "\n",
    "Run the next cell to import and configure the Python libraries that you need to complete the exercise."
   ]
  },
  {
   "cell_type": "code",
   "execution_count": 1,
   "id": "4f9ac8b3",
   "metadata": {
    "execution": {
     "iopub.execute_input": "2022-07-02T15:00:31.866801Z",
     "iopub.status.busy": "2022-07-02T15:00:31.865805Z",
     "iopub.status.idle": "2022-07-02T15:00:33.002375Z",
     "shell.execute_reply": "2022-07-02T15:00:33.001142Z"
    },
    "papermill": {
     "duration": 1.147553,
     "end_time": "2022-07-02T15:00:33.005095",
     "exception": false,
     "start_time": "2022-07-02T15:00:31.857542",
     "status": "completed"
    },
    "tags": []
   },
   "outputs": [
    {
     "name": "stdout",
     "output_type": "stream",
     "text": [
      "Setup Complete\n"
     ]
    }
   ],
   "source": [
    "import pandas as pd\n",
    "pd.plotting.register_matplotlib_converters()\n",
    "import matplotlib.pyplot as plt\n",
    "%matplotlib inline\n",
    "import seaborn as sns\n",
    "print(\"Setup Complete\")"
   ]
  },
  {
   "cell_type": "markdown",
   "id": "9e030721",
   "metadata": {
    "papermill": {
     "duration": 0.006495,
     "end_time": "2022-07-02T15:00:33.018237",
     "exception": false,
     "start_time": "2022-07-02T15:00:33.011742",
     "status": "completed"
    },
    "tags": []
   },
   "source": [
    "The questions below will give you feedback on your work. Run the following cell to set up our feedback system."
   ]
  },
  {
   "cell_type": "code",
   "execution_count": 2,
   "id": "5e339ba8",
   "metadata": {
    "execution": {
     "iopub.execute_input": "2022-07-02T15:00:33.034083Z",
     "iopub.status.busy": "2022-07-02T15:00:33.033278Z",
     "iopub.status.idle": "2022-07-02T15:00:54.452568Z",
     "shell.execute_reply": "2022-07-02T15:00:54.451068Z"
    },
    "papermill": {
     "duration": 21.430601,
     "end_time": "2022-07-02T15:00:54.455389",
     "exception": false,
     "start_time": "2022-07-02T15:00:33.024788",
     "status": "completed"
    },
    "tags": []
   },
   "outputs": [
    {
     "name": "stdout",
     "output_type": "stream",
     "text": [
      "Collecting git+https://github.com/Kaggle/learntools.git@master\r\n",
      "  Cloning https://github.com/Kaggle/learntools.git (to revision master) to /tmp/pip-req-build-divhrd90\r\n",
      "  Running command git clone --filter=blob:none --quiet https://github.com/Kaggle/learntools.git /tmp/pip-req-build-divhrd90\r\n",
      "  Resolved https://github.com/Kaggle/learntools.git to commit 908666c3a06f28a507f8da88d371a6130af6fefc\r\n",
      "  Preparing metadata (setup.py) ... \u001b[?25l-\b \bdone\r\n",
      "\u001b[?25hBuilding wheels for collected packages: learntools\r\n",
      "  Building wheel for learntools (setup.py) ... \u001b[?25l-\b \b\\\b \b|\b \b/\b \bdone\r\n",
      "\u001b[?25h  Created wheel for learntools: filename=learntools-0.3.4-py3-none-any.whl size=267787 sha256=c0c9e66d27bc396bfc1e964283fee78d1840121be7be4c0276fa73678c787470\r\n",
      "  Stored in directory: /tmp/pip-ephem-wheel-cache-5rnf9qz9/wheels/96/98/04/32b386c4641f1aea964eebb0148dc4632b25195ed8e54869c8\r\n",
      "Successfully built learntools\r\n",
      "Installing collected packages: learntools\r\n",
      "Successfully installed learntools-0.3.4\r\n",
      "\u001b[33mWARNING: Running pip as the 'root' user can result in broken permissions and conflicting behaviour with the system package manager. It is recommended to use a virtual environment instead: https://pip.pypa.io/warnings/venv\u001b[0m\u001b[33m\r\n",
      "\u001b[0mSetup Complete\n"
     ]
    }
   ],
   "source": [
    "# Set up code checking\n",
    "!pip install -U -t /kaggle/working/ git+https://github.com/Kaggle/learntools.git@master\n",
    "from learntools.core import binder\n",
    "binder.bind(globals())\n",
    "from learntools.data_viz_to_coder.ex5 import *\n",
    "print(\"Setup Complete\")"
   ]
  },
  {
   "cell_type": "markdown",
   "id": "31867718",
   "metadata": {
    "papermill": {
     "duration": 0.007441,
     "end_time": "2022-07-02T15:00:54.470707",
     "exception": false,
     "start_time": "2022-07-02T15:00:54.463266",
     "status": "completed"
    },
    "tags": []
   },
   "source": [
    "## Step 1: Load the data\n",
    "\n",
    "In this step, you will load the data.\n",
    "- Load the data file into a DataFrame called `cancer_data`.  \n",
    "- The corresponding filepath is `cancer_filepath`.  \n",
    "- Use the `\"Id\"` column to label the rows."
   ]
  },
  {
   "cell_type": "code",
   "execution_count": 3,
   "id": "0e6f9dd1",
   "metadata": {
    "execution": {
     "iopub.execute_input": "2022-07-02T15:00:54.488147Z",
     "iopub.status.busy": "2022-07-02T15:00:54.487740Z",
     "iopub.status.idle": "2022-07-02T15:00:54.510285Z",
     "shell.execute_reply": "2022-07-02T15:00:54.509054Z"
    },
    "papermill": {
     "duration": 0.033968,
     "end_time": "2022-07-02T15:00:54.512475",
     "exception": false,
     "start_time": "2022-07-02T15:00:54.478507",
     "status": "completed"
    },
    "tags": []
   },
   "outputs": [
    {
     "data": {
      "application/javascript": [
       "parent.postMessage({\"jupyterEvent\": \"custom.exercise_interaction\", \"data\": {\"outcomeType\": 1, \"valueTowardsCompletion\": 0.5, \"interactionType\": 1, \"questionType\": 1, \"questionId\": \"1_LoadCancerData\", \"learnToolsVersion\": \"0.3.4\", \"failureMessage\": \"\", \"exceptionClass\": \"\", \"trace\": \"\"}}, \"*\")"
      ],
      "text/plain": [
       "<IPython.core.display.Javascript object>"
      ]
     },
     "metadata": {},
     "output_type": "display_data"
    },
    {
     "data": {
      "text/markdown": [
       "<span style=\"color:#33cc33\">Correct</span>"
      ],
      "text/plain": [
       "Correct"
      ]
     },
     "metadata": {},
     "output_type": "display_data"
    }
   ],
   "source": [
    "# Path of the files to read\n",
    "cancer_filepath = \"../input/cancer.csv\"\n",
    "\n",
    "# Fill in the line below to read the file into a variable cancer_data\n",
    "cancer_data = pd.read_csv(cancer_filepath,index_col='Id')\n",
    "\n",
    "# Run the line below with no changes to check that you've loaded the data correctly\n",
    "step_1.check()"
   ]
  },
  {
   "cell_type": "code",
   "execution_count": 4,
   "id": "de5a39a5",
   "metadata": {
    "execution": {
     "iopub.execute_input": "2022-07-02T15:00:54.530438Z",
     "iopub.status.busy": "2022-07-02T15:00:54.529746Z",
     "iopub.status.idle": "2022-07-02T15:00:54.534592Z",
     "shell.execute_reply": "2022-07-02T15:00:54.533763Z"
    },
    "papermill": {
     "duration": 0.01645,
     "end_time": "2022-07-02T15:00:54.536709",
     "exception": false,
     "start_time": "2022-07-02T15:00:54.520259",
     "status": "completed"
    },
    "tags": []
   },
   "outputs": [],
   "source": [
    "# Lines below will give you a hint or solution code\n",
    "#step_1.hint()\n",
    "#step_1.solution()"
   ]
  },
  {
   "cell_type": "markdown",
   "id": "649327b7",
   "metadata": {
    "papermill": {
     "duration": 0.007733,
     "end_time": "2022-07-02T15:00:54.552295",
     "exception": false,
     "start_time": "2022-07-02T15:00:54.544562",
     "status": "completed"
    },
    "tags": []
   },
   "source": [
    "## Step 2: Review the data\n",
    "\n",
    "Use a Python command to print the first 5 rows of the data."
   ]
  },
  {
   "cell_type": "code",
   "execution_count": 5,
   "id": "9d85b5ba",
   "metadata": {
    "execution": {
     "iopub.execute_input": "2022-07-02T15:00:54.570130Z",
     "iopub.status.busy": "2022-07-02T15:00:54.569469Z",
     "iopub.status.idle": "2022-07-02T15:00:54.606305Z",
     "shell.execute_reply": "2022-07-02T15:00:54.605056Z"
    },
    "papermill": {
     "duration": 0.04874,
     "end_time": "2022-07-02T15:00:54.608795",
     "exception": false,
     "start_time": "2022-07-02T15:00:54.560055",
     "status": "completed"
    },
    "tags": []
   },
   "outputs": [
    {
     "data": {
      "text/html": [
       "<div>\n",
       "<style scoped>\n",
       "    .dataframe tbody tr th:only-of-type {\n",
       "        vertical-align: middle;\n",
       "    }\n",
       "\n",
       "    .dataframe tbody tr th {\n",
       "        vertical-align: top;\n",
       "    }\n",
       "\n",
       "    .dataframe thead th {\n",
       "        text-align: right;\n",
       "    }\n",
       "</style>\n",
       "<table border=\"1\" class=\"dataframe\">\n",
       "  <thead>\n",
       "    <tr style=\"text-align: right;\">\n",
       "      <th></th>\n",
       "      <th>Diagnosis</th>\n",
       "      <th>Radius (mean)</th>\n",
       "      <th>Texture (mean)</th>\n",
       "      <th>Perimeter (mean)</th>\n",
       "      <th>Area (mean)</th>\n",
       "      <th>Smoothness (mean)</th>\n",
       "      <th>Compactness (mean)</th>\n",
       "      <th>Concavity (mean)</th>\n",
       "      <th>Concave points (mean)</th>\n",
       "      <th>Symmetry (mean)</th>\n",
       "      <th>...</th>\n",
       "      <th>Radius (worst)</th>\n",
       "      <th>Texture (worst)</th>\n",
       "      <th>Perimeter (worst)</th>\n",
       "      <th>Area (worst)</th>\n",
       "      <th>Smoothness (worst)</th>\n",
       "      <th>Compactness (worst)</th>\n",
       "      <th>Concavity (worst)</th>\n",
       "      <th>Concave points (worst)</th>\n",
       "      <th>Symmetry (worst)</th>\n",
       "      <th>Fractal dimension (worst)</th>\n",
       "    </tr>\n",
       "    <tr>\n",
       "      <th>Id</th>\n",
       "      <th></th>\n",
       "      <th></th>\n",
       "      <th></th>\n",
       "      <th></th>\n",
       "      <th></th>\n",
       "      <th></th>\n",
       "      <th></th>\n",
       "      <th></th>\n",
       "      <th></th>\n",
       "      <th></th>\n",
       "      <th></th>\n",
       "      <th></th>\n",
       "      <th></th>\n",
       "      <th></th>\n",
       "      <th></th>\n",
       "      <th></th>\n",
       "      <th></th>\n",
       "      <th></th>\n",
       "      <th></th>\n",
       "      <th></th>\n",
       "      <th></th>\n",
       "    </tr>\n",
       "  </thead>\n",
       "  <tbody>\n",
       "    <tr>\n",
       "      <th>8510426</th>\n",
       "      <td>B</td>\n",
       "      <td>13.540</td>\n",
       "      <td>14.36</td>\n",
       "      <td>87.46</td>\n",
       "      <td>566.3</td>\n",
       "      <td>0.09779</td>\n",
       "      <td>0.08129</td>\n",
       "      <td>0.06664</td>\n",
       "      <td>0.047810</td>\n",
       "      <td>0.1885</td>\n",
       "      <td>...</td>\n",
       "      <td>15.110</td>\n",
       "      <td>19.26</td>\n",
       "      <td>99.70</td>\n",
       "      <td>711.2</td>\n",
       "      <td>0.14400</td>\n",
       "      <td>0.17730</td>\n",
       "      <td>0.23900</td>\n",
       "      <td>0.12880</td>\n",
       "      <td>0.2977</td>\n",
       "      <td>0.07259</td>\n",
       "    </tr>\n",
       "    <tr>\n",
       "      <th>8510653</th>\n",
       "      <td>B</td>\n",
       "      <td>13.080</td>\n",
       "      <td>15.71</td>\n",
       "      <td>85.63</td>\n",
       "      <td>520.0</td>\n",
       "      <td>0.10750</td>\n",
       "      <td>0.12700</td>\n",
       "      <td>0.04568</td>\n",
       "      <td>0.031100</td>\n",
       "      <td>0.1967</td>\n",
       "      <td>...</td>\n",
       "      <td>14.500</td>\n",
       "      <td>20.49</td>\n",
       "      <td>96.09</td>\n",
       "      <td>630.5</td>\n",
       "      <td>0.13120</td>\n",
       "      <td>0.27760</td>\n",
       "      <td>0.18900</td>\n",
       "      <td>0.07283</td>\n",
       "      <td>0.3184</td>\n",
       "      <td>0.08183</td>\n",
       "    </tr>\n",
       "    <tr>\n",
       "      <th>8510824</th>\n",
       "      <td>B</td>\n",
       "      <td>9.504</td>\n",
       "      <td>12.44</td>\n",
       "      <td>60.34</td>\n",
       "      <td>273.9</td>\n",
       "      <td>0.10240</td>\n",
       "      <td>0.06492</td>\n",
       "      <td>0.02956</td>\n",
       "      <td>0.020760</td>\n",
       "      <td>0.1815</td>\n",
       "      <td>...</td>\n",
       "      <td>10.230</td>\n",
       "      <td>15.66</td>\n",
       "      <td>65.13</td>\n",
       "      <td>314.9</td>\n",
       "      <td>0.13240</td>\n",
       "      <td>0.11480</td>\n",
       "      <td>0.08867</td>\n",
       "      <td>0.06227</td>\n",
       "      <td>0.2450</td>\n",
       "      <td>0.07773</td>\n",
       "    </tr>\n",
       "    <tr>\n",
       "      <th>854941</th>\n",
       "      <td>B</td>\n",
       "      <td>13.030</td>\n",
       "      <td>18.42</td>\n",
       "      <td>82.61</td>\n",
       "      <td>523.8</td>\n",
       "      <td>0.08983</td>\n",
       "      <td>0.03766</td>\n",
       "      <td>0.02562</td>\n",
       "      <td>0.029230</td>\n",
       "      <td>0.1467</td>\n",
       "      <td>...</td>\n",
       "      <td>13.300</td>\n",
       "      <td>22.81</td>\n",
       "      <td>84.46</td>\n",
       "      <td>545.9</td>\n",
       "      <td>0.09701</td>\n",
       "      <td>0.04619</td>\n",
       "      <td>0.04833</td>\n",
       "      <td>0.05013</td>\n",
       "      <td>0.1987</td>\n",
       "      <td>0.06169</td>\n",
       "    </tr>\n",
       "    <tr>\n",
       "      <th>85713702</th>\n",
       "      <td>B</td>\n",
       "      <td>8.196</td>\n",
       "      <td>16.84</td>\n",
       "      <td>51.71</td>\n",
       "      <td>201.9</td>\n",
       "      <td>0.08600</td>\n",
       "      <td>0.05943</td>\n",
       "      <td>0.01588</td>\n",
       "      <td>0.005917</td>\n",
       "      <td>0.1769</td>\n",
       "      <td>...</td>\n",
       "      <td>8.964</td>\n",
       "      <td>21.96</td>\n",
       "      <td>57.26</td>\n",
       "      <td>242.2</td>\n",
       "      <td>0.12970</td>\n",
       "      <td>0.13570</td>\n",
       "      <td>0.06880</td>\n",
       "      <td>0.02564</td>\n",
       "      <td>0.3105</td>\n",
       "      <td>0.07409</td>\n",
       "    </tr>\n",
       "  </tbody>\n",
       "</table>\n",
       "<p>5 rows × 31 columns</p>\n",
       "</div>"
      ],
      "text/plain": [
       "         Diagnosis  Radius (mean)  Texture (mean)  Perimeter (mean)  \\\n",
       "Id                                                                    \n",
       "8510426          B         13.540           14.36             87.46   \n",
       "8510653          B         13.080           15.71             85.63   \n",
       "8510824          B          9.504           12.44             60.34   \n",
       "854941           B         13.030           18.42             82.61   \n",
       "85713702         B          8.196           16.84             51.71   \n",
       "\n",
       "          Area (mean)  Smoothness (mean)  Compactness (mean)  \\\n",
       "Id                                                             \n",
       "8510426         566.3            0.09779             0.08129   \n",
       "8510653         520.0            0.10750             0.12700   \n",
       "8510824         273.9            0.10240             0.06492   \n",
       "854941          523.8            0.08983             0.03766   \n",
       "85713702        201.9            0.08600             0.05943   \n",
       "\n",
       "          Concavity (mean)  Concave points (mean)  Symmetry (mean)  ...  \\\n",
       "Id                                                                  ...   \n",
       "8510426            0.06664               0.047810           0.1885  ...   \n",
       "8510653            0.04568               0.031100           0.1967  ...   \n",
       "8510824            0.02956               0.020760           0.1815  ...   \n",
       "854941             0.02562               0.029230           0.1467  ...   \n",
       "85713702           0.01588               0.005917           0.1769  ...   \n",
       "\n",
       "          Radius (worst)  Texture (worst)  Perimeter (worst)  Area (worst)  \\\n",
       "Id                                                                           \n",
       "8510426           15.110            19.26              99.70         711.2   \n",
       "8510653           14.500            20.49              96.09         630.5   \n",
       "8510824           10.230            15.66              65.13         314.9   \n",
       "854941            13.300            22.81              84.46         545.9   \n",
       "85713702           8.964            21.96              57.26         242.2   \n",
       "\n",
       "          Smoothness (worst)  Compactness (worst)  Concavity (worst)  \\\n",
       "Id                                                                     \n",
       "8510426              0.14400              0.17730            0.23900   \n",
       "8510653              0.13120              0.27760            0.18900   \n",
       "8510824              0.13240              0.11480            0.08867   \n",
       "854941               0.09701              0.04619            0.04833   \n",
       "85713702             0.12970              0.13570            0.06880   \n",
       "\n",
       "          Concave points (worst)  Symmetry (worst)  Fractal dimension (worst)  \n",
       "Id                                                                             \n",
       "8510426                  0.12880            0.2977                    0.07259  \n",
       "8510653                  0.07283            0.3184                    0.08183  \n",
       "8510824                  0.06227            0.2450                    0.07773  \n",
       "854941                   0.05013            0.1987                    0.06169  \n",
       "85713702                 0.02564            0.3105                    0.07409  \n",
       "\n",
       "[5 rows x 31 columns]"
      ]
     },
     "execution_count": 5,
     "metadata": {},
     "output_type": "execute_result"
    }
   ],
   "source": [
    "# Print the first five rows of the data\n",
    "cancer_data.head() # Your code here"
   ]
  },
  {
   "cell_type": "markdown",
   "id": "7bdb288f",
   "metadata": {
    "papermill": {
     "duration": 0.008267,
     "end_time": "2022-07-02T15:00:54.625915",
     "exception": false,
     "start_time": "2022-07-02T15:00:54.617648",
     "status": "completed"
    },
    "tags": []
   },
   "source": [
    "In the dataset, each row corresponds to a different image.  The dataset has 31 different columns, corresponding to:\n",
    "- 1 column (`'Diagnosis'`) that classifies tumors as either benign (which appears in the dataset as **`B`**) or malignant (__`M`__), and\n",
    "- 30 columns containing different measurements collected from the images.\n",
    "\n",
    "Use the first 5 rows of the data to answer the questions below."
   ]
  },
  {
   "cell_type": "code",
   "execution_count": 6,
   "id": "8e3b8f92",
   "metadata": {
    "execution": {
     "iopub.execute_input": "2022-07-02T15:00:54.645094Z",
     "iopub.status.busy": "2022-07-02T15:00:54.644365Z",
     "iopub.status.idle": "2022-07-02T15:00:54.651853Z",
     "shell.execute_reply": "2022-07-02T15:00:54.651143Z"
    },
    "papermill": {
     "duration": 0.019382,
     "end_time": "2022-07-02T15:00:54.653763",
     "exception": false,
     "start_time": "2022-07-02T15:00:54.634381",
     "status": "completed"
    },
    "tags": []
   },
   "outputs": [
    {
     "data": {
      "application/javascript": [
       "parent.postMessage({\"jupyterEvent\": \"custom.exercise_interaction\", \"data\": {\"outcomeType\": 4, \"interactionType\": 1, \"questionType\": 1, \"questionId\": \"2_ReviewData\", \"learnToolsVersion\": \"0.3.4\", \"valueTowardsCompletion\": 0.0, \"failureMessage\": \"\", \"exceptionClass\": \"\", \"trace\": \"\"}}, \"*\")"
      ],
      "text/plain": [
       "<IPython.core.display.Javascript object>"
      ]
     },
     "metadata": {},
     "output_type": "display_data"
    },
    {
     "data": {
      "text/markdown": [
       "<span style=\"color:#ccaa33\">Check:</span> When you've updated the starter code, `check()` will tell you whether your code is correct. You need to update the code that creates variables `max_perim`, `mean_radius`"
      ],
      "text/plain": [
       "Check: When you've updated the starter code, `check()` will tell you whether your code is correct. You need to update the code that creates variables `max_perim`, `mean_radius`"
      ]
     },
     "metadata": {},
     "output_type": "display_data"
    }
   ],
   "source": [
    "# Fill in the line below: In the first five rows of the data, what is the\n",
    "# largest value for 'Perimeter (mean)'?\n",
    "max_perim = ____\n",
    "\n",
    "# Fill in the line below: What is the value for 'Radius (mean)' for the tumor with Id 8510824?\n",
    "mean_radius = ____\n",
    "\n",
    "# Check your answers\n",
    "step_2.check()"
   ]
  },
  {
   "cell_type": "code",
   "execution_count": 7,
   "id": "b08cae1b",
   "metadata": {
    "execution": {
     "iopub.execute_input": "2022-07-02T15:00:54.674169Z",
     "iopub.status.busy": "2022-07-02T15:00:54.673454Z",
     "iopub.status.idle": "2022-07-02T15:00:54.677283Z",
     "shell.execute_reply": "2022-07-02T15:00:54.676456Z"
    },
    "papermill": {
     "duration": 0.016577,
     "end_time": "2022-07-02T15:00:54.679255",
     "exception": false,
     "start_time": "2022-07-02T15:00:54.662678",
     "status": "completed"
    },
    "tags": []
   },
   "outputs": [],
   "source": [
    "# Lines below will give you a hint or solution code\n",
    "#step_2.hint()\n",
    "#step_2.solution()"
   ]
  },
  {
   "cell_type": "markdown",
   "id": "ff50aebe",
   "metadata": {
    "papermill": {
     "duration": 0.00855,
     "end_time": "2022-07-02T15:00:54.696646",
     "exception": false,
     "start_time": "2022-07-02T15:00:54.688096",
     "status": "completed"
    },
    "tags": []
   },
   "source": [
    "## Step 3: Investigating differences"
   ]
  },
  {
   "cell_type": "markdown",
   "id": "84cb0e4b",
   "metadata": {
    "papermill": {
     "duration": 0.008527,
     "end_time": "2022-07-02T15:00:54.714084",
     "exception": false,
     "start_time": "2022-07-02T15:00:54.705557",
     "status": "completed"
    },
    "tags": []
   },
   "source": [
    "#### Part A\n",
    "\n",
    "Use the code cell below to create two histograms that show the distribution in values for `'Area (mean)'`, separately for both benign and malignant tumors.  (_To permit easy comparison, create a single figure containing both histograms in the code cell below._)"
   ]
  },
  {
   "cell_type": "code",
   "execution_count": 8,
   "id": "77a6842a",
   "metadata": {
    "execution": {
     "iopub.execute_input": "2022-07-02T15:00:54.733862Z",
     "iopub.status.busy": "2022-07-02T15:00:54.733119Z",
     "iopub.status.idle": "2022-07-02T15:00:54.745011Z",
     "shell.execute_reply": "2022-07-02T15:00:54.744248Z"
    },
    "papermill": {
     "duration": 0.024049,
     "end_time": "2022-07-02T15:00:54.746902",
     "exception": false,
     "start_time": "2022-07-02T15:00:54.722853",
     "status": "completed"
    },
    "tags": []
   },
   "outputs": [
    {
     "data": {
      "application/javascript": [
       "parent.postMessage({\"jupyterEvent\": \"custom.exercise_interaction\", \"data\": {\"outcomeType\": 2, \"failureMessage\": \"Please write code to create two histograms.\", \"interactionType\": 1, \"questionType\": 2, \"questionId\": \"3.1_PlotHist\", \"learnToolsVersion\": \"0.3.4\", \"valueTowardsCompletion\": 0.0, \"exceptionClass\": \"\", \"trace\": \"\"}}, \"*\")"
      ],
      "text/plain": [
       "<IPython.core.display.Javascript object>"
      ]
     },
     "metadata": {},
     "output_type": "display_data"
    },
    {
     "data": {
      "text/markdown": [
       "<span style=\"color:#cc3333\">Incorrect:</span> Please write code to create two histograms."
      ],
      "text/plain": [
       "Incorrect: Please write code to create two histograms."
      ]
     },
     "metadata": {},
     "output_type": "display_data"
    },
    {
     "data": {
      "text/plain": [
       "<Figure size 432x288 with 0 Axes>"
      ]
     },
     "metadata": {},
     "output_type": "display_data"
    }
   ],
   "source": [
    "# Histograms for benign and maligant tumors\n",
    "____\n",
    "\n",
    "# Check your answer\n",
    "step_3.a.check()"
   ]
  },
  {
   "cell_type": "code",
   "execution_count": 9,
   "id": "24c0f873",
   "metadata": {
    "execution": {
     "iopub.execute_input": "2022-07-02T15:00:54.767129Z",
     "iopub.status.busy": "2022-07-02T15:00:54.766435Z",
     "iopub.status.idle": "2022-07-02T15:00:54.770125Z",
     "shell.execute_reply": "2022-07-02T15:00:54.769405Z"
    },
    "papermill": {
     "duration": 0.016071,
     "end_time": "2022-07-02T15:00:54.772028",
     "exception": false,
     "start_time": "2022-07-02T15:00:54.755957",
     "status": "completed"
    },
    "tags": []
   },
   "outputs": [],
   "source": [
    "# Lines below will give you a hint or solution code\n",
    "#step_3.a.hint()\n",
    "#step_3.a.solution_plot()"
   ]
  },
  {
   "cell_type": "markdown",
   "id": "40dffc7d",
   "metadata": {
    "papermill": {
     "duration": 0.008892,
     "end_time": "2022-07-02T15:00:54.790060",
     "exception": false,
     "start_time": "2022-07-02T15:00:54.781168",
     "status": "completed"
    },
    "tags": []
   },
   "source": [
    "#### Part B\n",
    "\n",
    "A researcher approaches you for help with identifying how the `'Area (mean)'` column can be used to understand the difference between benign and malignant tumors.  Based on the histograms above, \n",
    "- Do malignant tumors have higher or lower values for `'Area (mean)'` (relative to benign tumors), on average?\n",
    "- Which tumor type seems to have a larger range of potential values?"
   ]
  },
  {
   "cell_type": "code",
   "execution_count": 10,
   "id": "0056ec92",
   "metadata": {
    "execution": {
     "iopub.execute_input": "2022-07-02T15:00:54.810159Z",
     "iopub.status.busy": "2022-07-02T15:00:54.809458Z",
     "iopub.status.idle": "2022-07-02T15:00:54.813719Z",
     "shell.execute_reply": "2022-07-02T15:00:54.812783Z"
    },
    "papermill": {
     "duration": 0.016598,
     "end_time": "2022-07-02T15:00:54.815594",
     "exception": false,
     "start_time": "2022-07-02T15:00:54.798996",
     "status": "completed"
    },
    "tags": []
   },
   "outputs": [],
   "source": [
    "#step_3.b.hint()"
   ]
  },
  {
   "cell_type": "code",
   "execution_count": 11,
   "id": "f48cee52",
   "metadata": {
    "execution": {
     "iopub.execute_input": "2022-07-02T15:00:54.835787Z",
     "iopub.status.busy": "2022-07-02T15:00:54.835091Z",
     "iopub.status.idle": "2022-07-02T15:00:54.842222Z",
     "shell.execute_reply": "2022-07-02T15:00:54.841489Z"
    },
    "papermill": {
     "duration": 0.01937,
     "end_time": "2022-07-02T15:00:54.844120",
     "exception": false,
     "start_time": "2022-07-02T15:00:54.824750",
     "status": "completed"
    },
    "tags": []
   },
   "outputs": [
    {
     "data": {
      "application/javascript": [
       "parent.postMessage({\"jupyterEvent\": \"custom.exercise_interaction\", \"data\": {\"interactionType\": 3, \"questionType\": 4, \"questionId\": \"3.2_ThinkHist\", \"learnToolsVersion\": \"0.3.4\", \"valueTowardsCompletion\": 0.0, \"failureMessage\": \"\", \"exceptionClass\": \"\", \"trace\": \"\", \"outcomeType\": 4}}, \"*\")"
      ],
      "text/plain": [
       "<IPython.core.display.Javascript object>"
      ]
     },
     "metadata": {},
     "output_type": "display_data"
    },
    {
     "data": {
      "text/markdown": [
       "<span style=\"color:#33cc99\">Solution:</span> Malignant tumors have higher values for `'Area (mean)'`, on average. Malignant tumors have a larger range of potential values."
      ],
      "text/plain": [
       "Solution: Malignant tumors have higher values for `'Area (mean)'`, on average. Malignant tumors have a larger range of potential values."
      ]
     },
     "metadata": {},
     "output_type": "display_data"
    }
   ],
   "source": [
    "# Check your answer (Run this code cell to receive credit!)\n",
    "step_3.b.solution()"
   ]
  },
  {
   "cell_type": "markdown",
   "id": "2fa4b0a0",
   "metadata": {
    "papermill": {
     "duration": 0.009157,
     "end_time": "2022-07-02T15:00:54.862659",
     "exception": false,
     "start_time": "2022-07-02T15:00:54.853502",
     "status": "completed"
    },
    "tags": []
   },
   "source": [
    "## Step 4: A very useful column\n",
    "\n",
    "#### Part A\n",
    "\n",
    "Use the code cell below to create two KDE plots that show the distribution in values for `'Radius (worst)'`, separately for both benign and malignant tumors.  (_To permit easy comparison, create a single figure containing both KDE plots in the code cell below._)"
   ]
  },
  {
   "cell_type": "code",
   "execution_count": 12,
   "id": "3cb4ab40",
   "metadata": {
    "execution": {
     "iopub.execute_input": "2022-07-02T15:00:54.883997Z",
     "iopub.status.busy": "2022-07-02T15:00:54.883322Z",
     "iopub.status.idle": "2022-07-02T15:00:54.893668Z",
     "shell.execute_reply": "2022-07-02T15:00:54.892795Z"
    },
    "papermill": {
     "duration": 0.023401,
     "end_time": "2022-07-02T15:00:54.895837",
     "exception": false,
     "start_time": "2022-07-02T15:00:54.872436",
     "status": "completed"
    },
    "tags": []
   },
   "outputs": [
    {
     "data": {
      "application/javascript": [
       "parent.postMessage({\"jupyterEvent\": \"custom.exercise_interaction\", \"data\": {\"outcomeType\": 2, \"failureMessage\": \"Please write code to create one figure containing two KDE plots.\", \"interactionType\": 1, \"questionType\": 2, \"questionId\": \"4.1_PlotThreshold\", \"learnToolsVersion\": \"0.3.4\", \"valueTowardsCompletion\": 0.0, \"exceptionClass\": \"\", \"trace\": \"\"}}, \"*\")"
      ],
      "text/plain": [
       "<IPython.core.display.Javascript object>"
      ]
     },
     "metadata": {},
     "output_type": "display_data"
    },
    {
     "data": {
      "text/markdown": [
       "<span style=\"color:#cc3333\">Incorrect:</span> Please write code to create one figure containing two KDE plots."
      ],
      "text/plain": [
       "Incorrect: Please write code to create one figure containing two KDE plots."
      ]
     },
     "metadata": {},
     "output_type": "display_data"
    },
    {
     "data": {
      "text/plain": [
       "<Figure size 432x288 with 0 Axes>"
      ]
     },
     "metadata": {},
     "output_type": "display_data"
    }
   ],
   "source": [
    "# KDE plots for benign and malignant tumors\n",
    "____ \n",
    "\n",
    "# Check your answer\n",
    "step_4.a.check()"
   ]
  },
  {
   "cell_type": "code",
   "execution_count": 13,
   "id": "cf336ca8",
   "metadata": {
    "execution": {
     "iopub.execute_input": "2022-07-02T15:00:54.918350Z",
     "iopub.status.busy": "2022-07-02T15:00:54.917671Z",
     "iopub.status.idle": "2022-07-02T15:00:54.922015Z",
     "shell.execute_reply": "2022-07-02T15:00:54.921272Z"
    },
    "papermill": {
     "duration": 0.018001,
     "end_time": "2022-07-02T15:00:54.924136",
     "exception": false,
     "start_time": "2022-07-02T15:00:54.906135",
     "status": "completed"
    },
    "tags": []
   },
   "outputs": [],
   "source": [
    "# Lines below will give you a hint or solution code\n",
    "#step_4.a.hint()\n",
    "#step_4.a.solution_plot()"
   ]
  },
  {
   "cell_type": "markdown",
   "id": "ddd89d01",
   "metadata": {
    "papermill": {
     "duration": 0.010727,
     "end_time": "2022-07-02T15:00:54.945425",
     "exception": false,
     "start_time": "2022-07-02T15:00:54.934698",
     "status": "completed"
    },
    "tags": []
   },
   "source": [
    "#### Part B\n",
    "\n",
    "A hospital has recently started using an algorithm that can diagnose tumors with high accuracy.  Given a tumor with a value for `'Radius (worst)'` of 25, do you think the algorithm is more likely to classify the tumor as benign or malignant?"
   ]
  },
  {
   "cell_type": "code",
   "execution_count": 14,
   "id": "1adb12d7",
   "metadata": {
    "execution": {
     "iopub.execute_input": "2022-07-02T15:00:54.969120Z",
     "iopub.status.busy": "2022-07-02T15:00:54.968466Z",
     "iopub.status.idle": "2022-07-02T15:00:54.972960Z",
     "shell.execute_reply": "2022-07-02T15:00:54.972223Z"
    },
    "papermill": {
     "duration": 0.019181,
     "end_time": "2022-07-02T15:00:54.974999",
     "exception": false,
     "start_time": "2022-07-02T15:00:54.955818",
     "status": "completed"
    },
    "tags": []
   },
   "outputs": [],
   "source": [
    "#step_4.b.hint()"
   ]
  },
  {
   "cell_type": "code",
   "execution_count": 15,
   "id": "e53c269f",
   "metadata": {
    "execution": {
     "iopub.execute_input": "2022-07-02T15:00:54.997143Z",
     "iopub.status.busy": "2022-07-02T15:00:54.996733Z",
     "iopub.status.idle": "2022-07-02T15:00:55.004158Z",
     "shell.execute_reply": "2022-07-02T15:00:55.003432Z"
    },
    "papermill": {
     "duration": 0.021127,
     "end_time": "2022-07-02T15:00:55.006444",
     "exception": false,
     "start_time": "2022-07-02T15:00:54.985317",
     "status": "completed"
    },
    "tags": []
   },
   "outputs": [
    {
     "data": {
      "application/javascript": [
       "parent.postMessage({\"jupyterEvent\": \"custom.exercise_interaction\", \"data\": {\"interactionType\": 3, \"questionType\": 4, \"questionId\": \"4.2_ThinkThreshold\", \"learnToolsVersion\": \"0.3.4\", \"valueTowardsCompletion\": 0.0, \"failureMessage\": \"\", \"exceptionClass\": \"\", \"trace\": \"\", \"outcomeType\": 4}}, \"*\")"
      ],
      "text/plain": [
       "<IPython.core.display.Javascript object>"
      ]
     },
     "metadata": {},
     "output_type": "display_data"
    },
    {
     "data": {
      "text/markdown": [
       "<span style=\"color:#33cc99\">Solution:</span> The algorithm is more likely to classify the tumor as malignant. This is because the curve for malignant tumors is much higher than the curve for benign tumors around a value of 25 -- and an algorithm that gets high accuracy is likely to make decisions based on this pattern in the data."
      ],
      "text/plain": [
       "Solution: The algorithm is more likely to classify the tumor as malignant. This is because the curve for malignant tumors is much higher than the curve for benign tumors around a value of 25 -- and an algorithm that gets high accuracy is likely to make decisions based on this pattern in the data."
      ]
     },
     "metadata": {},
     "output_type": "display_data"
    }
   ],
   "source": [
    "# Check your answer (Run this code cell to receive credit!)\n",
    "step_4.b.solution()"
   ]
  },
  {
   "cell_type": "markdown",
   "id": "8e87d0a2",
   "metadata": {
    "papermill": {
     "duration": 0.010107,
     "end_time": "2022-07-02T15:00:55.026978",
     "exception": false,
     "start_time": "2022-07-02T15:00:55.016871",
     "status": "completed"
    },
    "tags": []
   },
   "source": [
    "## Keep going\n",
    "\n",
    "Review all that you've learned and explore how to further customize your plots in the **[next tutorial](https://www.kaggle.com/alexisbcook/choosing-plot-types-and-custom-styles)**!"
   ]
  },
  {
   "cell_type": "markdown",
   "id": "becf27c6",
   "metadata": {
    "papermill": {
     "duration": 0.009951,
     "end_time": "2022-07-02T15:00:55.047345",
     "exception": false,
     "start_time": "2022-07-02T15:00:55.037394",
     "status": "completed"
    },
    "tags": []
   },
   "source": [
    "---\n",
    "\n",
    "\n",
    "\n",
    "\n",
    "*Have questions or comments? Visit the [course discussion forum](https://www.kaggle.com/learn/data-visualization/discussion) to chat with other learners.*"
   ]
  }
 ],
 "metadata": {
  "kernelspec": {
   "display_name": "Python 3",
   "language": "python",
   "name": "python3"
  },
  "language_info": {
   "codemirror_mode": {
    "name": "ipython",
    "version": 3
   },
   "file_extension": ".py",
   "mimetype": "text/x-python",
   "name": "python",
   "nbconvert_exporter": "python",
   "pygments_lexer": "ipython3",
   "version": "3.7.12"
  },
  "papermill": {
   "default_parameters": {},
   "duration": 34.22397,
   "end_time": "2022-07-02T15:00:55.778835",
   "environment_variables": {},
   "exception": null,
   "input_path": "__notebook__.ipynb",
   "output_path": "__notebook__.ipynb",
   "parameters": {},
   "start_time": "2022-07-02T15:00:21.554865",
   "version": "2.3.4"
  }
 },
 "nbformat": 4,
 "nbformat_minor": 5
}
