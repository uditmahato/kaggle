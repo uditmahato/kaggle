{
 "cells": [
  {
   "cell_type": "markdown",
   "id": "399c625b",
   "metadata": {
    "papermill": {
     "duration": 0.007396,
     "end_time": "2022-07-02T14:48:59.821001",
     "exception": false,
     "start_time": "2022-07-02T14:48:59.813605",
     "status": "completed"
    },
    "tags": []
   },
   "source": [
    "**This notebook is an exercise in the [Data Visualization](https://www.kaggle.com/learn/data-visualization) course.  You can reference the tutorial at [this link](https://www.kaggle.com/alexisbcook/distributions).**\n",
    "\n",
    "---\n"
   ]
  },
  {
   "cell_type": "markdown",
   "id": "15d97350",
   "metadata": {
    "papermill": {
     "duration": 0.006331,
     "end_time": "2022-07-02T14:48:59.834216",
     "exception": false,
     "start_time": "2022-07-02T14:48:59.827885",
     "status": "completed"
    },
    "tags": []
   },
   "source": [
    "In this exercise, you will use your new knowledge to propose a solution to a real-world scenario.  To succeed, you will need to import data into Python, answer questions using the data, and generate **histograms** and **density plots** to understand patterns in the data.\n",
    "\n",
    "## Scenario\n",
    "\n",
    "You'll work with a real-world dataset containing information collected from microscopic images of breast cancer tumors, similar to the image below.\n",
    "\n",
    "![ex4_cancer_image](https://i.imgur.com/qUESsJe.png)\n",
    "\n",
    "Each tumor has been labeled as either [**benign**](https://en.wikipedia.org/wiki/Benign_tumor) (_noncancerous_) or **malignant** (_cancerous_).\n",
    "\n",
    "To learn more about how this kind of data is used to create intelligent algorithms to classify tumors in medical settings, **watch the short video [at this link](https://www.youtube.com/watch?v=9Mz84cwVmS0)**."
   ]
  },
  {
   "cell_type": "markdown",
   "id": "18ce9d3d",
   "metadata": {
    "papermill": {
     "duration": 0.006312,
     "end_time": "2022-07-02T14:48:59.847062",
     "exception": false,
     "start_time": "2022-07-02T14:48:59.840750",
     "status": "completed"
    },
    "tags": []
   },
   "source": [
    "\n",
    "\n",
    "## Setup\n",
    "\n",
    "Run the next cell to import and configure the Python libraries that you need to complete the exercise."
   ]
  },
  {
   "cell_type": "code",
   "execution_count": 1,
   "id": "4e885a45",
   "metadata": {
    "execution": {
     "iopub.execute_input": "2022-07-02T14:48:59.862200Z",
     "iopub.status.busy": "2022-07-02T14:48:59.861773Z",
     "iopub.status.idle": "2022-07-02T14:49:01.103256Z",
     "shell.execute_reply": "2022-07-02T14:49:01.102120Z"
    },
    "papermill": {
     "duration": 1.252467,
     "end_time": "2022-07-02T14:49:01.106090",
     "exception": false,
     "start_time": "2022-07-02T14:48:59.853623",
     "status": "completed"
    },
    "tags": []
   },
   "outputs": [
    {
     "name": "stdout",
     "output_type": "stream",
     "text": [
      "Setup Complete\n"
     ]
    }
   ],
   "source": [
    "import pandas as pd\n",
    "pd.plotting.register_matplotlib_converters()\n",
    "import matplotlib.pyplot as plt\n",
    "%matplotlib inline\n",
    "import seaborn as sns\n",
    "print(\"Setup Complete\")"
   ]
  },
  {
   "cell_type": "markdown",
   "id": "98f3f3f6",
   "metadata": {
    "papermill": {
     "duration": 0.006386,
     "end_time": "2022-07-02T14:49:01.118976",
     "exception": false,
     "start_time": "2022-07-02T14:49:01.112590",
     "status": "completed"
    },
    "tags": []
   },
   "source": [
    "The questions below will give you feedback on your work. Run the following cell to set up our feedback system."
   ]
  },
  {
   "cell_type": "code",
   "execution_count": 2,
   "id": "19917ea9",
   "metadata": {
    "execution": {
     "iopub.execute_input": "2022-07-02T14:49:01.135265Z",
     "iopub.status.busy": "2022-07-02T14:49:01.133959Z",
     "iopub.status.idle": "2022-07-02T14:49:21.755946Z",
     "shell.execute_reply": "2022-07-02T14:49:21.754345Z"
    },
    "papermill": {
     "duration": 20.63356,
     "end_time": "2022-07-02T14:49:21.759515",
     "exception": false,
     "start_time": "2022-07-02T14:49:01.125955",
     "status": "completed"
    },
    "tags": []
   },
   "outputs": [
    {
     "name": "stdout",
     "output_type": "stream",
     "text": [
      "Collecting git+https://github.com/Kaggle/learntools.git@master\r\n",
      "  Cloning https://github.com/Kaggle/learntools.git (to revision master) to /tmp/pip-req-build-q0t1ie2h\r\n",
      "  Running command git clone --filter=blob:none --quiet https://github.com/Kaggle/learntools.git /tmp/pip-req-build-q0t1ie2h\r\n",
      "  Resolved https://github.com/Kaggle/learntools.git to commit 908666c3a06f28a507f8da88d371a6130af6fefc\r\n",
      "  Preparing metadata (setup.py) ... \u001b[?25l-\b \bdone\r\n",
      "\u001b[?25hBuilding wheels for collected packages: learntools\r\n",
      "  Building wheel for learntools (setup.py) ... \u001b[?25l-\b \b\\\b \b|\b \b/\b \bdone\r\n",
      "\u001b[?25h  Created wheel for learntools: filename=learntools-0.3.4-py3-none-any.whl size=267787 sha256=22466d0ba1f4c6b158f8f8a7c2e0ca6c96bf1afd7346eb0ea1b0bbf58ec70829\r\n",
      "  Stored in directory: /tmp/pip-ephem-wheel-cache-uojbttvt/wheels/96/98/04/32b386c4641f1aea964eebb0148dc4632b25195ed8e54869c8\r\n",
      "Successfully built learntools\r\n",
      "Installing collected packages: learntools\r\n",
      "Successfully installed learntools-0.3.4\r\n",
      "\u001b[33mWARNING: Running pip as the 'root' user can result in broken permissions and conflicting behaviour with the system package manager. It is recommended to use a virtual environment instead: https://pip.pypa.io/warnings/venv\u001b[0m\u001b[33m\r\n",
      "\u001b[0mSetup Complete\n"
     ]
    }
   ],
   "source": [
    "# Set up code checking\n",
    "!pip install -U -t /kaggle/working/ git+https://github.com/Kaggle/learntools.git@master\n",
    "from learntools.core import binder\n",
    "binder.bind(globals())\n",
    "from learntools.data_viz_to_coder.ex5 import *\n",
    "print(\"Setup Complete\")"
   ]
  },
  {
   "cell_type": "markdown",
   "id": "6c340f0e",
   "metadata": {
    "papermill": {
     "duration": 0.007121,
     "end_time": "2022-07-02T14:49:21.774283",
     "exception": false,
     "start_time": "2022-07-02T14:49:21.767162",
     "status": "completed"
    },
    "tags": []
   },
   "source": [
    "## Step 1: Load the data\n",
    "\n",
    "In this step, you will load the data.\n",
    "- Load the data file into a DataFrame called `cancer_data`.  \n",
    "- The corresponding filepath is `cancer_filepath`.  \n",
    "- Use the `\"Id\"` column to label the rows."
   ]
  },
  {
   "cell_type": "code",
   "execution_count": 3,
   "id": "568a3895",
   "metadata": {
    "execution": {
     "iopub.execute_input": "2022-07-02T14:49:21.791026Z",
     "iopub.status.busy": "2022-07-02T14:49:21.790640Z",
     "iopub.status.idle": "2022-07-02T14:49:21.803920Z",
     "shell.execute_reply": "2022-07-02T14:49:21.802761Z"
    },
    "papermill": {
     "duration": 0.024439,
     "end_time": "2022-07-02T14:49:21.806137",
     "exception": false,
     "start_time": "2022-07-02T14:49:21.781698",
     "status": "completed"
    },
    "tags": []
   },
   "outputs": [
    {
     "data": {
      "application/javascript": [
       "parent.postMessage({\"jupyterEvent\": \"custom.exercise_interaction\", \"data\": {\"outcomeType\": 4, \"interactionType\": 1, \"questionType\": 1, \"questionId\": \"1_LoadCancerData\", \"learnToolsVersion\": \"0.3.4\", \"valueTowardsCompletion\": 0.0, \"failureMessage\": \"\", \"exceptionClass\": \"\", \"trace\": \"\"}}, \"*\")"
      ],
      "text/plain": [
       "<IPython.core.display.Javascript object>"
      ]
     },
     "metadata": {},
     "output_type": "display_data"
    },
    {
     "data": {
      "text/markdown": [
       "<span style=\"color:#ccaa33\">Check:</span> When you've updated the starter code, `check()` will tell you whether your code is correct. You need to update the code that creates variable `cancer_data`"
      ],
      "text/plain": [
       "Check: When you've updated the starter code, `check()` will tell you whether your code is correct. You need to update the code that creates variable `cancer_data`"
      ]
     },
     "metadata": {},
     "output_type": "display_data"
    }
   ],
   "source": [
    "# Path of the files to read\n",
    "cancer_filepath = \"../input/cancer.csv\"\n",
    "\n",
    "# Fill in the line below to read the file into a variable cancer_data\n",
    "cancer_data = ____\n",
    "\n",
    "# Run the line below with no changes to check that you've loaded the data correctly\n",
    "step_1.check()"
   ]
  },
  {
   "cell_type": "code",
   "execution_count": 4,
   "id": "4e98aca0",
   "metadata": {
    "execution": {
     "iopub.execute_input": "2022-07-02T14:49:21.824178Z",
     "iopub.status.busy": "2022-07-02T14:49:21.823796Z",
     "iopub.status.idle": "2022-07-02T14:49:21.828553Z",
     "shell.execute_reply": "2022-07-02T14:49:21.827325Z"
    },
    "papermill": {
     "duration": 0.016758,
     "end_time": "2022-07-02T14:49:21.830971",
     "exception": false,
     "start_time": "2022-07-02T14:49:21.814213",
     "status": "completed"
    },
    "tags": []
   },
   "outputs": [],
   "source": [
    "# Lines below will give you a hint or solution code\n",
    "#step_1.hint()\n",
    "#step_1.solution()"
   ]
  },
  {
   "cell_type": "markdown",
   "id": "28e0d778",
   "metadata": {
    "papermill": {
     "duration": 0.007437,
     "end_time": "2022-07-02T14:49:21.846622",
     "exception": false,
     "start_time": "2022-07-02T14:49:21.839185",
     "status": "completed"
    },
    "tags": []
   },
   "source": [
    "## Step 2: Review the data\n",
    "\n",
    "Use a Python command to print the first 5 rows of the data."
   ]
  },
  {
   "cell_type": "code",
   "execution_count": 5,
   "id": "a9527eb0",
   "metadata": {
    "execution": {
     "iopub.execute_input": "2022-07-02T14:49:21.864189Z",
     "iopub.status.busy": "2022-07-02T14:49:21.863550Z",
     "iopub.status.idle": "2022-07-02T14:49:21.870062Z",
     "shell.execute_reply": "2022-07-02T14:49:21.869279Z"
    },
    "papermill": {
     "duration": 0.017803,
     "end_time": "2022-07-02T14:49:21.872249",
     "exception": false,
     "start_time": "2022-07-02T14:49:21.854446",
     "status": "completed"
    },
    "tags": []
   },
   "outputs": [
    {
     "data": {
      "text/markdown": [],
      "text/plain": [
       "<learntools.core.constants.PlaceholderValue at 0x7f5201be1150>"
      ]
     },
     "execution_count": 5,
     "metadata": {},
     "output_type": "execute_result"
    }
   ],
   "source": [
    "# Print the first five rows of the data\n",
    "____ # Your code here"
   ]
  },
  {
   "cell_type": "markdown",
   "id": "7dd24ba2",
   "metadata": {
    "papermill": {
     "duration": 0.007997,
     "end_time": "2022-07-02T14:49:21.888414",
     "exception": false,
     "start_time": "2022-07-02T14:49:21.880417",
     "status": "completed"
    },
    "tags": []
   },
   "source": [
    "In the dataset, each row corresponds to a different image.  The dataset has 31 different columns, corresponding to:\n",
    "- 1 column (`'Diagnosis'`) that classifies tumors as either benign (which appears in the dataset as **`B`**) or malignant (__`M`__), and\n",
    "- 30 columns containing different measurements collected from the images.\n",
    "\n",
    "Use the first 5 rows of the data to answer the questions below."
   ]
  },
  {
   "cell_type": "code",
   "execution_count": 6,
   "id": "4926de65",
   "metadata": {
    "execution": {
     "iopub.execute_input": "2022-07-02T14:49:21.906041Z",
     "iopub.status.busy": "2022-07-02T14:49:21.905612Z",
     "iopub.status.idle": "2022-07-02T14:49:21.915195Z",
     "shell.execute_reply": "2022-07-02T14:49:21.913989Z"
    },
    "papermill": {
     "duration": 0.02119,
     "end_time": "2022-07-02T14:49:21.917725",
     "exception": false,
     "start_time": "2022-07-02T14:49:21.896535",
     "status": "completed"
    },
    "tags": []
   },
   "outputs": [
    {
     "data": {
      "application/javascript": [
       "parent.postMessage({\"jupyterEvent\": \"custom.exercise_interaction\", \"data\": {\"outcomeType\": 4, \"interactionType\": 1, \"questionType\": 1, \"questionId\": \"2_ReviewData\", \"learnToolsVersion\": \"0.3.4\", \"valueTowardsCompletion\": 0.0, \"failureMessage\": \"\", \"exceptionClass\": \"\", \"trace\": \"\"}}, \"*\")"
      ],
      "text/plain": [
       "<IPython.core.display.Javascript object>"
      ]
     },
     "metadata": {},
     "output_type": "display_data"
    },
    {
     "data": {
      "text/markdown": [
       "<span style=\"color:#ccaa33\">Check:</span> When you've updated the starter code, `check()` will tell you whether your code is correct. You need to update the code that creates variables `max_perim`, `mean_radius`"
      ],
      "text/plain": [
       "Check: When you've updated the starter code, `check()` will tell you whether your code is correct. You need to update the code that creates variables `max_perim`, `mean_radius`"
      ]
     },
     "metadata": {},
     "output_type": "display_data"
    }
   ],
   "source": [
    "# Fill in the line below: In the first five rows of the data, what is the\n",
    "# largest value for 'Perimeter (mean)'?\n",
    "max_perim = ____\n",
    "\n",
    "# Fill in the line below: What is the value for 'Radius (mean)' for the tumor with Id 8510824?\n",
    "mean_radius = ____\n",
    "\n",
    "# Check your answers\n",
    "step_2.check()"
   ]
  },
  {
   "cell_type": "code",
   "execution_count": 7,
   "id": "21a0dc56",
   "metadata": {
    "execution": {
     "iopub.execute_input": "2022-07-02T14:49:21.936538Z",
     "iopub.status.busy": "2022-07-02T14:49:21.936121Z",
     "iopub.status.idle": "2022-07-02T14:49:21.940268Z",
     "shell.execute_reply": "2022-07-02T14:49:21.939343Z"
    },
    "papermill": {
     "duration": 0.016042,
     "end_time": "2022-07-02T14:49:21.942276",
     "exception": false,
     "start_time": "2022-07-02T14:49:21.926234",
     "status": "completed"
    },
    "tags": []
   },
   "outputs": [],
   "source": [
    "# Lines below will give you a hint or solution code\n",
    "#step_2.hint()\n",
    "#step_2.solution()"
   ]
  },
  {
   "cell_type": "markdown",
   "id": "8e501ab6",
   "metadata": {
    "papermill": {
     "duration": 0.008011,
     "end_time": "2022-07-02T14:49:21.959188",
     "exception": false,
     "start_time": "2022-07-02T14:49:21.951177",
     "status": "completed"
    },
    "tags": []
   },
   "source": [
    "## Step 3: Investigating differences"
   ]
  },
  {
   "cell_type": "markdown",
   "id": "dd5c4e81",
   "metadata": {
    "papermill": {
     "duration": 0.008151,
     "end_time": "2022-07-02T14:49:21.976108",
     "exception": false,
     "start_time": "2022-07-02T14:49:21.967957",
     "status": "completed"
    },
    "tags": []
   },
   "source": [
    "#### Part A\n",
    "\n",
    "Use the code cell below to create two histograms that show the distribution in values for `'Area (mean)'`, separately for both benign and malignant tumors.  (_To permit easy comparison, create a single figure containing both histograms in the code cell below._)"
   ]
  },
  {
   "cell_type": "code",
   "execution_count": 8,
   "id": "0a50d772",
   "metadata": {
    "execution": {
     "iopub.execute_input": "2022-07-02T14:49:21.994464Z",
     "iopub.status.busy": "2022-07-02T14:49:21.994006Z",
     "iopub.status.idle": "2022-07-02T14:49:22.008232Z",
     "shell.execute_reply": "2022-07-02T14:49:22.007409Z"
    },
    "papermill": {
     "duration": 0.025865,
     "end_time": "2022-07-02T14:49:22.010386",
     "exception": false,
     "start_time": "2022-07-02T14:49:21.984521",
     "status": "completed"
    },
    "tags": []
   },
   "outputs": [
    {
     "data": {
      "application/javascript": [
       "parent.postMessage({\"jupyterEvent\": \"custom.exercise_interaction\", \"data\": {\"outcomeType\": 2, \"failureMessage\": \"Please write code to create two histograms.\", \"interactionType\": 1, \"questionType\": 2, \"questionId\": \"3.1_PlotHist\", \"learnToolsVersion\": \"0.3.4\", \"valueTowardsCompletion\": 0.0, \"exceptionClass\": \"\", \"trace\": \"\"}}, \"*\")"
      ],
      "text/plain": [
       "<IPython.core.display.Javascript object>"
      ]
     },
     "metadata": {},
     "output_type": "display_data"
    },
    {
     "data": {
      "text/markdown": [
       "<span style=\"color:#cc3333\">Incorrect:</span> Please write code to create two histograms."
      ],
      "text/plain": [
       "Incorrect: Please write code to create two histograms."
      ]
     },
     "metadata": {},
     "output_type": "display_data"
    },
    {
     "data": {
      "text/plain": [
       "<Figure size 432x288 with 0 Axes>"
      ]
     },
     "metadata": {},
     "output_type": "display_data"
    }
   ],
   "source": [
    "# Histograms for benign and maligant tumors\n",
    "____\n",
    "\n",
    "# Check your answer\n",
    "step_3.a.check()"
   ]
  },
  {
   "cell_type": "code",
   "execution_count": 9,
   "id": "dec34aa8",
   "metadata": {
    "execution": {
     "iopub.execute_input": "2022-07-02T14:49:22.030660Z",
     "iopub.status.busy": "2022-07-02T14:49:22.030277Z",
     "iopub.status.idle": "2022-07-02T14:49:22.035516Z",
     "shell.execute_reply": "2022-07-02T14:49:22.034265Z"
    },
    "papermill": {
     "duration": 0.018316,
     "end_time": "2022-07-02T14:49:22.037908",
     "exception": false,
     "start_time": "2022-07-02T14:49:22.019592",
     "status": "completed"
    },
    "tags": []
   },
   "outputs": [],
   "source": [
    "# Lines below will give you a hint or solution code\n",
    "#step_3.a.hint()\n",
    "#step_3.a.solution_plot()"
   ]
  },
  {
   "cell_type": "markdown",
   "id": "2458c1b2",
   "metadata": {
    "papermill": {
     "duration": 0.008657,
     "end_time": "2022-07-02T14:49:22.055570",
     "exception": false,
     "start_time": "2022-07-02T14:49:22.046913",
     "status": "completed"
    },
    "tags": []
   },
   "source": [
    "#### Part B\n",
    "\n",
    "A researcher approaches you for help with identifying how the `'Area (mean)'` column can be used to understand the difference between benign and malignant tumors.  Based on the histograms above, \n",
    "- Do malignant tumors have higher or lower values for `'Area (mean)'` (relative to benign tumors), on average?\n",
    "- Which tumor type seems to have a larger range of potential values?"
   ]
  },
  {
   "cell_type": "code",
   "execution_count": 10,
   "id": "ba682c1d",
   "metadata": {
    "execution": {
     "iopub.execute_input": "2022-07-02T14:49:22.075262Z",
     "iopub.status.busy": "2022-07-02T14:49:22.074900Z",
     "iopub.status.idle": "2022-07-02T14:49:22.079311Z",
     "shell.execute_reply": "2022-07-02T14:49:22.078161Z"
    },
    "papermill": {
     "duration": 0.01709,
     "end_time": "2022-07-02T14:49:22.081611",
     "exception": false,
     "start_time": "2022-07-02T14:49:22.064521",
     "status": "completed"
    },
    "tags": []
   },
   "outputs": [],
   "source": [
    "#step_3.b.hint()"
   ]
  },
  {
   "cell_type": "code",
   "execution_count": 11,
   "id": "873b423e",
   "metadata": {
    "execution": {
     "iopub.execute_input": "2022-07-02T14:49:22.101699Z",
     "iopub.status.busy": "2022-07-02T14:49:22.100995Z",
     "iopub.status.idle": "2022-07-02T14:49:22.110054Z",
     "shell.execute_reply": "2022-07-02T14:49:22.108990Z"
    },
    "papermill": {
     "duration": 0.021714,
     "end_time": "2022-07-02T14:49:22.112289",
     "exception": false,
     "start_time": "2022-07-02T14:49:22.090575",
     "status": "completed"
    },
    "tags": []
   },
   "outputs": [
    {
     "data": {
      "application/javascript": [
       "parent.postMessage({\"jupyterEvent\": \"custom.exercise_interaction\", \"data\": {\"interactionType\": 3, \"questionType\": 4, \"questionId\": \"3.2_ThinkHist\", \"learnToolsVersion\": \"0.3.4\", \"valueTowardsCompletion\": 0.0, \"failureMessage\": \"\", \"exceptionClass\": \"\", \"trace\": \"\", \"outcomeType\": 4}}, \"*\")"
      ],
      "text/plain": [
       "<IPython.core.display.Javascript object>"
      ]
     },
     "metadata": {},
     "output_type": "display_data"
    },
    {
     "data": {
      "text/markdown": [
       "<span style=\"color:#33cc99\">Solution:</span> Malignant tumors have higher values for `'Area (mean)'`, on average. Malignant tumors have a larger range of potential values."
      ],
      "text/plain": [
       "Solution: Malignant tumors have higher values for `'Area (mean)'`, on average. Malignant tumors have a larger range of potential values."
      ]
     },
     "metadata": {},
     "output_type": "display_data"
    }
   ],
   "source": [
    "# Check your answer (Run this code cell to receive credit!)\n",
    "step_3.b.solution()"
   ]
  },
  {
   "cell_type": "markdown",
   "id": "dab4eb35",
   "metadata": {
    "papermill": {
     "duration": 0.009033,
     "end_time": "2022-07-02T14:49:22.130914",
     "exception": false,
     "start_time": "2022-07-02T14:49:22.121881",
     "status": "completed"
    },
    "tags": []
   },
   "source": [
    "## Step 4: A very useful column\n",
    "\n",
    "#### Part A\n",
    "\n",
    "Use the code cell below to create two KDE plots that show the distribution in values for `'Radius (worst)'`, separately for both benign and malignant tumors.  (_To permit easy comparison, create a single figure containing both KDE plots in the code cell below._)"
   ]
  },
  {
   "cell_type": "code",
   "execution_count": 12,
   "id": "0d90a185",
   "metadata": {
    "execution": {
     "iopub.execute_input": "2022-07-02T14:49:22.152473Z",
     "iopub.status.busy": "2022-07-02T14:49:22.151274Z",
     "iopub.status.idle": "2022-07-02T14:49:22.161849Z",
     "shell.execute_reply": "2022-07-02T14:49:22.160803Z"
    },
    "papermill": {
     "duration": 0.023252,
     "end_time": "2022-07-02T14:49:22.163972",
     "exception": false,
     "start_time": "2022-07-02T14:49:22.140720",
     "status": "completed"
    },
    "tags": []
   },
   "outputs": [
    {
     "data": {
      "application/javascript": [
       "parent.postMessage({\"jupyterEvent\": \"custom.exercise_interaction\", \"data\": {\"outcomeType\": 2, \"failureMessage\": \"Please write code to create one figure containing two KDE plots.\", \"interactionType\": 1, \"questionType\": 2, \"questionId\": \"4.1_PlotThreshold\", \"learnToolsVersion\": \"0.3.4\", \"valueTowardsCompletion\": 0.0, \"exceptionClass\": \"\", \"trace\": \"\"}}, \"*\")"
      ],
      "text/plain": [
       "<IPython.core.display.Javascript object>"
      ]
     },
     "metadata": {},
     "output_type": "display_data"
    },
    {
     "data": {
      "text/markdown": [
       "<span style=\"color:#cc3333\">Incorrect:</span> Please write code to create one figure containing two KDE plots."
      ],
      "text/plain": [
       "Incorrect: Please write code to create one figure containing two KDE plots."
      ]
     },
     "metadata": {},
     "output_type": "display_data"
    },
    {
     "data": {
      "text/plain": [
       "<Figure size 432x288 with 0 Axes>"
      ]
     },
     "metadata": {},
     "output_type": "display_data"
    }
   ],
   "source": [
    "# KDE plots for benign and malignant tumors\n",
    "____ \n",
    "\n",
    "# Check your answer\n",
    "step_4.a.check()"
   ]
  },
  {
   "cell_type": "code",
   "execution_count": 13,
   "id": "041dc76c",
   "metadata": {
    "execution": {
     "iopub.execute_input": "2022-07-02T14:49:22.185120Z",
     "iopub.status.busy": "2022-07-02T14:49:22.184707Z",
     "iopub.status.idle": "2022-07-02T14:49:22.188547Z",
     "shell.execute_reply": "2022-07-02T14:49:22.187682Z"
    },
    "papermill": {
     "duration": 0.016921,
     "end_time": "2022-07-02T14:49:22.190578",
     "exception": false,
     "start_time": "2022-07-02T14:49:22.173657",
     "status": "completed"
    },
    "tags": []
   },
   "outputs": [],
   "source": [
    "# Lines below will give you a hint or solution code\n",
    "#step_4.a.hint()\n",
    "#step_4.a.solution_plot()"
   ]
  },
  {
   "cell_type": "markdown",
   "id": "bda6a9f9",
   "metadata": {
    "papermill": {
     "duration": 0.009355,
     "end_time": "2022-07-02T14:49:22.209557",
     "exception": false,
     "start_time": "2022-07-02T14:49:22.200202",
     "status": "completed"
    },
    "tags": []
   },
   "source": [
    "#### Part B\n",
    "\n",
    "A hospital has recently started using an algorithm that can diagnose tumors with high accuracy.  Given a tumor with a value for `'Radius (worst)'` of 25, do you think the algorithm is more likely to classify the tumor as benign or malignant?"
   ]
  },
  {
   "cell_type": "code",
   "execution_count": 14,
   "id": "24bc312f",
   "metadata": {
    "execution": {
     "iopub.execute_input": "2022-07-02T14:49:22.230884Z",
     "iopub.status.busy": "2022-07-02T14:49:22.229913Z",
     "iopub.status.idle": "2022-07-02T14:49:22.234036Z",
     "shell.execute_reply": "2022-07-02T14:49:22.233287Z"
    },
    "papermill": {
     "duration": 0.016861,
     "end_time": "2022-07-02T14:49:22.236049",
     "exception": false,
     "start_time": "2022-07-02T14:49:22.219188",
     "status": "completed"
    },
    "tags": []
   },
   "outputs": [],
   "source": [
    "#step_4.b.hint()"
   ]
  },
  {
   "cell_type": "code",
   "execution_count": 15,
   "id": "824ad9cd",
   "metadata": {
    "execution": {
     "iopub.execute_input": "2022-07-02T14:49:22.257633Z",
     "iopub.status.busy": "2022-07-02T14:49:22.256933Z",
     "iopub.status.idle": "2022-07-02T14:49:22.263918Z",
     "shell.execute_reply": "2022-07-02T14:49:22.263078Z"
    },
    "papermill": {
     "duration": 0.020142,
     "end_time": "2022-07-02T14:49:22.265943",
     "exception": false,
     "start_time": "2022-07-02T14:49:22.245801",
     "status": "completed"
    },
    "tags": []
   },
   "outputs": [
    {
     "data": {
      "application/javascript": [
       "parent.postMessage({\"jupyterEvent\": \"custom.exercise_interaction\", \"data\": {\"interactionType\": 3, \"questionType\": 4, \"questionId\": \"4.2_ThinkThreshold\", \"learnToolsVersion\": \"0.3.4\", \"valueTowardsCompletion\": 0.0, \"failureMessage\": \"\", \"exceptionClass\": \"\", \"trace\": \"\", \"outcomeType\": 4}}, \"*\")"
      ],
      "text/plain": [
       "<IPython.core.display.Javascript object>"
      ]
     },
     "metadata": {},
     "output_type": "display_data"
    },
    {
     "data": {
      "text/markdown": [
       "<span style=\"color:#33cc99\">Solution:</span> The algorithm is more likely to classify the tumor as malignant. This is because the curve for malignant tumors is much higher than the curve for benign tumors around a value of 25 -- and an algorithm that gets high accuracy is likely to make decisions based on this pattern in the data."
      ],
      "text/plain": [
       "Solution: The algorithm is more likely to classify the tumor as malignant. This is because the curve for malignant tumors is much higher than the curve for benign tumors around a value of 25 -- and an algorithm that gets high accuracy is likely to make decisions based on this pattern in the data."
      ]
     },
     "metadata": {},
     "output_type": "display_data"
    }
   ],
   "source": [
    "# Check your answer (Run this code cell to receive credit!)\n",
    "step_4.b.solution()"
   ]
  },
  {
   "cell_type": "markdown",
   "id": "265bbb67",
   "metadata": {
    "papermill": {
     "duration": 0.009856,
     "end_time": "2022-07-02T14:49:22.286135",
     "exception": false,
     "start_time": "2022-07-02T14:49:22.276279",
     "status": "completed"
    },
    "tags": []
   },
   "source": [
    "## Keep going\n",
    "\n",
    "Review all that you've learned and explore how to further customize your plots in the **[next tutorial](https://www.kaggle.com/alexisbcook/choosing-plot-types-and-custom-styles)**!"
   ]
  },
  {
   "cell_type": "markdown",
   "id": "70b5a07b",
   "metadata": {
    "papermill": {
     "duration": 0.009733,
     "end_time": "2022-07-02T14:49:22.306067",
     "exception": false,
     "start_time": "2022-07-02T14:49:22.296334",
     "status": "completed"
    },
    "tags": []
   },
   "source": [
    "---\n",
    "\n",
    "\n",
    "\n",
    "\n",
    "*Have questions or comments? Visit the [course discussion forum](https://www.kaggle.com/learn/data-visualization/discussion) to chat with other learners.*"
   ]
  }
 ],
 "metadata": {
  "kernelspec": {
   "display_name": "Python 3",
   "language": "python",
   "name": "python3"
  },
  "language_info": {
   "codemirror_mode": {
    "name": "ipython",
    "version": 3
   },
   "file_extension": ".py",
   "mimetype": "text/x-python",
   "name": "python",
   "nbconvert_exporter": "python",
   "pygments_lexer": "ipython3",
   "version": "3.7.12"
  },
  "papermill": {
   "default_parameters": {},
   "duration": 33.789111,
   "end_time": "2022-07-02T14:49:23.037060",
   "environment_variables": {},
   "exception": null,
   "input_path": "__notebook__.ipynb",
   "output_path": "__notebook__.ipynb",
   "parameters": {},
   "start_time": "2022-07-02T14:48:49.247949",
   "version": "2.3.4"
  }
 },
 "nbformat": 4,
 "nbformat_minor": 5
}
